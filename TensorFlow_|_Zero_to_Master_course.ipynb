{
  "nbformat": 4,
  "nbformat_minor": 0,
  "metadata": {
    "colab": {
      "name": "TensorFlow | Zero to Master course.ipynb",
      "provenance": [],
      "collapsed_sections": [
        "Lv054KIHvzgU",
        "dXcD4hgs1xeB",
        "QXlRD2o3YqkR",
        "gvnZBzA7ZMCX",
        "KebMK_HHb78_",
        "j_DzG1V3hYu8"
      ],
      "mount_file_id": "1MxCsT1QosIMRYouox6rmQoHq6-n4ru6X",
      "authorship_tag": "ABX9TyPAiuBhPDd+wvZCDDVKvmIk",
      "include_colab_link": true
    },
    "kernelspec": {
      "name": "python3",
      "display_name": "Python 3"
    },
    "language_info": {
      "name": "python"
    }
  },
  "cells": [
    {
      "cell_type": "markdown",
      "metadata": {
        "id": "view-in-github",
        "colab_type": "text"
      },
      "source": [
        "<a href=\"https://colab.research.google.com/github/adlihs/tensorflow/blob/main/TensorFlow_%7C_Zero_to_Master_course.ipynb\" target=\"_parent\"><img src=\"https://colab.research.google.com/assets/colab-badge.svg\" alt=\"Open In Colab\"/></a>"
      ]
    },
    {
      "cell_type": "markdown",
      "source": [
        "# TF Fundamentals"
      ],
      "metadata": {
        "id": "lsunAVB1mgjW"
      }
    },
    {
      "cell_type": "code",
      "execution_count": null,
      "metadata": {
        "id": "UJesnjiFmDJM",
        "colab": {
          "base_uri": "https://localhost:8080/"
        },
        "outputId": "ebaaa562-90a2-460f-930f-a95deab034c6"
      },
      "outputs": [
        {
          "output_type": "stream",
          "name": "stdout",
          "text": [
            "2.8.0\n"
          ]
        }
      ],
      "source": [
        "import tensorflow as tf\n",
        "print(tf.__version__)"
      ]
    },
    {
      "cell_type": "code",
      "source": [
        "# Creating tensors with tf.constant()\n",
        "scalar = tf.constant(7)\n",
        "scalar"
      ],
      "metadata": {
        "id": "aHrF4mKVnarF",
        "colab": {
          "base_uri": "https://localhost:8080/"
        },
        "outputId": "10e39708-1a01-4c27-b65d-a9cff18cad84"
      },
      "execution_count": null,
      "outputs": [
        {
          "output_type": "execute_result",
          "data": {
            "text/plain": [
              "<tf.Tensor: shape=(), dtype=int32, numpy=7>"
            ]
          },
          "metadata": {},
          "execution_count": 2
        }
      ]
    },
    {
      "cell_type": "code",
      "source": [
        "#check the number of dimension of a tensor (ndim stands for number of dimension)\n",
        "scalar.ndim"
      ],
      "metadata": {
        "id": "x9zgFTyaoGIP",
        "colab": {
          "base_uri": "https://localhost:8080/"
        },
        "outputId": "7eb233c7-5cff-412f-a80d-7b26c8219c52"
      },
      "execution_count": null,
      "outputs": [
        {
          "output_type": "execute_result",
          "data": {
            "text/plain": [
              "0"
            ]
          },
          "metadata": {},
          "execution_count": 3
        }
      ]
    },
    {
      "cell_type": "code",
      "source": [
        "#Create a vector\n",
        "vector = tf.constant([10,10])\n",
        "vector"
      ],
      "metadata": {
        "id": "WAQpMT9RoNuA",
        "colab": {
          "base_uri": "https://localhost:8080/"
        },
        "outputId": "4d11adf7-ade4-4d86-e866-ec1a9d8ec09f"
      },
      "execution_count": null,
      "outputs": [
        {
          "output_type": "execute_result",
          "data": {
            "text/plain": [
              "<tf.Tensor: shape=(2,), dtype=int32, numpy=array([10, 10], dtype=int32)>"
            ]
          },
          "metadata": {},
          "execution_count": 4
        }
      ]
    },
    {
      "cell_type": "code",
      "source": [
        "# check the dimension of our vector\n",
        "vector.ndim"
      ],
      "metadata": {
        "id": "JvaCxc1Yoc7m",
        "colab": {
          "base_uri": "https://localhost:8080/"
        },
        "outputId": "e2cf0696-31e0-41a2-d2c6-315b97228f5d"
      },
      "execution_count": null,
      "outputs": [
        {
          "output_type": "execute_result",
          "data": {
            "text/plain": [
              "1"
            ]
          },
          "metadata": {},
          "execution_count": 5
        }
      ]
    },
    {
      "cell_type": "code",
      "source": [
        "# Create a matrix (has more than 1 dimension)\n",
        "matrix = tf.constant([ [10,7],\n",
        "                      [7,10]])\n",
        "\n",
        "matrix"
      ],
      "metadata": {
        "id": "3m8l4Xxjoi1r",
        "colab": {
          "base_uri": "https://localhost:8080/"
        },
        "outputId": "24aaab6c-e0f1-401e-9259-61ecfa35e26a"
      },
      "execution_count": null,
      "outputs": [
        {
          "output_type": "execute_result",
          "data": {
            "text/plain": [
              "<tf.Tensor: shape=(2, 2), dtype=int32, numpy=\n",
              "array([[10,  7],\n",
              "       [ 7, 10]], dtype=int32)>"
            ]
          },
          "metadata": {},
          "execution_count": 6
        }
      ]
    },
    {
      "cell_type": "code",
      "source": [
        "matrix.ndim"
      ],
      "metadata": {
        "id": "lmTXyPLNo9IJ",
        "colab": {
          "base_uri": "https://localhost:8080/"
        },
        "outputId": "2bf43f6d-f37f-4ff9-a4ca-6c29c1771a00"
      },
      "execution_count": null,
      "outputs": [
        {
          "output_type": "execute_result",
          "data": {
            "text/plain": [
              "2"
            ]
          },
          "metadata": {},
          "execution_count": 7
        }
      ]
    },
    {
      "cell_type": "code",
      "source": [
        "# cretae another matrix\n",
        "matrix_2 = tf.constant([[10.,7.],\n",
        "                        [3.,2.],\n",
        "                        [8.,9.]], dtype=tf.float16) #specifiy the data type\n",
        "matrix_2"
      ],
      "metadata": {
        "id": "z79AQeoKpLsK",
        "colab": {
          "base_uri": "https://localhost:8080/"
        },
        "outputId": "2afb8fbe-179f-4b56-c447-d2aeacfb89cb"
      },
      "execution_count": null,
      "outputs": [
        {
          "output_type": "execute_result",
          "data": {
            "text/plain": [
              "<tf.Tensor: shape=(3, 2), dtype=float16, numpy=\n",
              "array([[10.,  7.],\n",
              "       [ 3.,  2.],\n",
              "       [ 8.,  9.]], dtype=float16)>"
            ]
          },
          "metadata": {},
          "execution_count": 8
        }
      ]
    },
    {
      "cell_type": "code",
      "source": [
        "matrix_2.ndim"
      ],
      "metadata": {
        "id": "JMs6CInTp4FU",
        "colab": {
          "base_uri": "https://localhost:8080/"
        },
        "outputId": "7e013714-276e-4d63-8519-33b7a01ed49f"
      },
      "execution_count": null,
      "outputs": [
        {
          "output_type": "execute_result",
          "data": {
            "text/plain": [
              "2"
            ]
          },
          "metadata": {},
          "execution_count": 9
        }
      ]
    },
    {
      "cell_type": "code",
      "source": [
        "# Creating a tensor\n",
        "tensor = tf.constant([[[1,2,3,],\n",
        "                       [4,5,6]],\n",
        "                      [[7,8,9],\n",
        "                       [10,11,12]],\n",
        "                      [[13,14,15],\n",
        "                       [16,17,18]]]) # [[0,0,0],[0,0,0]]\n",
        "                                     # [[0,0,0],[0,0,0]]\n",
        "                                     # [[0,0,0],[0,0,0]]\n",
        "tensor"
      ],
      "metadata": {
        "id": "Szi9ywCvqExL",
        "colab": {
          "base_uri": "https://localhost:8080/"
        },
        "outputId": "06c01e2a-ce12-412c-dda9-64d68be6e5ef"
      },
      "execution_count": null,
      "outputs": [
        {
          "output_type": "execute_result",
          "data": {
            "text/plain": [
              "<tf.Tensor: shape=(3, 2, 3), dtype=int32, numpy=\n",
              "array([[[ 1,  2,  3],\n",
              "        [ 4,  5,  6]],\n",
              "\n",
              "       [[ 7,  8,  9],\n",
              "        [10, 11, 12]],\n",
              "\n",
              "       [[13, 14, 15],\n",
              "        [16, 17, 18]]], dtype=int32)>"
            ]
          },
          "metadata": {},
          "execution_count": 10
        }
      ]
    },
    {
      "cell_type": "code",
      "source": [
        "tensor.ndim"
      ],
      "metadata": {
        "id": "L46wTvsnr_5k",
        "colab": {
          "base_uri": "https://localhost:8080/"
        },
        "outputId": "51341ad8-64fa-48c6-a219-54868462b96b"
      },
      "execution_count": null,
      "outputs": [
        {
          "output_type": "execute_result",
          "data": {
            "text/plain": [
              "3"
            ]
          },
          "metadata": {},
          "execution_count": 11
        }
      ]
    },
    {
      "cell_type": "code",
      "source": [
        "# Scalar: Single number\n",
        "# Vector: a number with direction (e.g wind speed and direction)\n",
        "# Matrix: a 2-dimensional array of numbers\n",
        "# Tensor: an n-dimensional array of number (when n can be any number, a 0-dimensional tensor is a scalar, a 1-dimensional tensor is a vector)"
      ],
      "metadata": {
        "id": "X3pDj7nvsILr"
      },
      "execution_count": null,
      "outputs": []
    },
    {
      "cell_type": "markdown",
      "source": [
        "### Creating tensors with `tf.Variable`"
      ],
      "metadata": {
        "id": "v7L9Wetqtog1"
      }
    },
    {
      "cell_type": "code",
      "source": [
        "changeable_tensor = tf.Variable([10,7])\n",
        "unchangeable_tensor = tf.constant([10,7])\n",
        "changeable_tensor, unchangeable_tensor"
      ],
      "metadata": {
        "id": "hvhrOIDMtnn6",
        "colab": {
          "base_uri": "https://localhost:8080/"
        },
        "outputId": "399445ff-c6b8-4ed8-eff6-150e30d2d2c3"
      },
      "execution_count": null,
      "outputs": [
        {
          "output_type": "execute_result",
          "data": {
            "text/plain": [
              "(<tf.Variable 'Variable:0' shape=(2,) dtype=int32, numpy=array([10,  7], dtype=int32)>,\n",
              " <tf.Tensor: shape=(2,), dtype=int32, numpy=array([10,  7], dtype=int32)>)"
            ]
          },
          "metadata": {},
          "execution_count": 13
        }
      ]
    },
    {
      "cell_type": "code",
      "source": [
        "# Change on of the elements\n",
        "\n",
        "changeable_tensor[0] = 7\n",
        "changeable_tensor"
      ],
      "metadata": {
        "id": "aIJ6fB2HulPR",
        "colab": {
          "base_uri": "https://localhost:8080/",
          "height": 215
        },
        "outputId": "49fac83d-6d6e-44c5-a97b-0a51b4a8deb9"
      },
      "execution_count": null,
      "outputs": [
        {
          "output_type": "error",
          "ename": "TypeError",
          "evalue": "ignored",
          "traceback": [
            "\u001b[0;31m---------------------------------------------------------------------------\u001b[0m",
            "\u001b[0;31mTypeError\u001b[0m                                 Traceback (most recent call last)",
            "\u001b[0;32m<ipython-input-14-294cdbe4efc2>\u001b[0m in \u001b[0;36m<module>\u001b[0;34m()\u001b[0m\n\u001b[1;32m      1\u001b[0m \u001b[0;31m# Change on of the elements\u001b[0m\u001b[0;34m\u001b[0m\u001b[0;34m\u001b[0m\u001b[0;34m\u001b[0m\u001b[0m\n\u001b[1;32m      2\u001b[0m \u001b[0;34m\u001b[0m\u001b[0m\n\u001b[0;32m----> 3\u001b[0;31m \u001b[0mchangeable_tensor\u001b[0m\u001b[0;34m[\u001b[0m\u001b[0;36m0\u001b[0m\u001b[0;34m]\u001b[0m \u001b[0;34m=\u001b[0m \u001b[0;36m7\u001b[0m\u001b[0;34m\u001b[0m\u001b[0;34m\u001b[0m\u001b[0m\n\u001b[0m\u001b[1;32m      4\u001b[0m \u001b[0mchangeable_tensor\u001b[0m\u001b[0;34m\u001b[0m\u001b[0;34m\u001b[0m\u001b[0m\n",
            "\u001b[0;31mTypeError\u001b[0m: 'ResourceVariable' object does not support item assignment"
          ]
        }
      ]
    },
    {
      "cell_type": "code",
      "source": [
        "# using .assign()\n",
        "changeable_tensor[0].assign(7)\n",
        "changeable_tensor"
      ],
      "metadata": {
        "id": "iqYarP90u0F9",
        "colab": {
          "base_uri": "https://localhost:8080/"
        },
        "outputId": "fce45eb3-0057-4122-9788-f7fe6a4c13bb"
      },
      "execution_count": null,
      "outputs": [
        {
          "output_type": "execute_result",
          "data": {
            "text/plain": [
              "<tf.Variable 'Variable:0' shape=(2,) dtype=int32, numpy=array([7, 7], dtype=int32)>"
            ]
          },
          "metadata": {},
          "execution_count": 15
        }
      ]
    },
    {
      "cell_type": "code",
      "source": [
        "# try to change the unchangeable tensor\n",
        "\n",
        "unchangeable_tensor[0].assign(7)\n",
        "#'tensorflow.python.framework.ops.EagerTensor' object has no attribute 'assign'"
      ],
      "metadata": {
        "id": "tQtgQgUKvBha",
        "colab": {
          "base_uri": "https://localhost:8080/",
          "height": 334
        },
        "outputId": "7d014618-e30f-4940-f659-dbeb225425b4"
      },
      "execution_count": null,
      "outputs": [
        {
          "output_type": "error",
          "ename": "AttributeError",
          "evalue": "ignored",
          "traceback": [
            "\u001b[0;31m---------------------------------------------------------------------------\u001b[0m",
            "\u001b[0;31mAttributeError\u001b[0m                            Traceback (most recent call last)",
            "\u001b[0;32m<ipython-input-16-ba0a202ced1c>\u001b[0m in \u001b[0;36m<module>\u001b[0;34m()\u001b[0m\n\u001b[1;32m      1\u001b[0m \u001b[0;31m# try to change the unchangeable tensor\u001b[0m\u001b[0;34m\u001b[0m\u001b[0;34m\u001b[0m\u001b[0;34m\u001b[0m\u001b[0m\n\u001b[1;32m      2\u001b[0m \u001b[0;34m\u001b[0m\u001b[0m\n\u001b[0;32m----> 3\u001b[0;31m \u001b[0munchangeable_tensor\u001b[0m\u001b[0;34m[\u001b[0m\u001b[0;36m0\u001b[0m\u001b[0;34m]\u001b[0m\u001b[0;34m.\u001b[0m\u001b[0massign\u001b[0m\u001b[0;34m(\u001b[0m\u001b[0;36m7\u001b[0m\u001b[0;34m)\u001b[0m\u001b[0;34m\u001b[0m\u001b[0;34m\u001b[0m\u001b[0m\n\u001b[0m\u001b[1;32m      4\u001b[0m \u001b[0;31m#'tensorflow.python.framework.ops.EagerTensor' object has no attribute 'assign'\u001b[0m\u001b[0;34m\u001b[0m\u001b[0;34m\u001b[0m\u001b[0;34m\u001b[0m\u001b[0m\n",
            "\u001b[0;32m/usr/local/lib/python3.7/dist-packages/tensorflow/python/framework/ops.py\u001b[0m in \u001b[0;36m__getattr__\u001b[0;34m(self, name)\u001b[0m\n\u001b[1;32m    511\u001b[0m         \u001b[0;32mfrom\u001b[0m \u001b[0mtensorflow\u001b[0m\u001b[0;34m.\u001b[0m\u001b[0mpython\u001b[0m\u001b[0;34m.\u001b[0m\u001b[0mops\u001b[0m\u001b[0;34m.\u001b[0m\u001b[0mnumpy_ops\u001b[0m \u001b[0;32mimport\u001b[0m \u001b[0mnp_config\u001b[0m\u001b[0;34m\u001b[0m\u001b[0;34m\u001b[0m\u001b[0m\n\u001b[1;32m    512\u001b[0m         np_config.enable_numpy_behavior()\"\"\".format(type(self).__name__, name))\n\u001b[0;32m--> 513\u001b[0;31m     \u001b[0mself\u001b[0m\u001b[0;34m.\u001b[0m\u001b[0m__getattribute__\u001b[0m\u001b[0;34m(\u001b[0m\u001b[0mname\u001b[0m\u001b[0;34m)\u001b[0m\u001b[0;34m\u001b[0m\u001b[0;34m\u001b[0m\u001b[0m\n\u001b[0m\u001b[1;32m    514\u001b[0m \u001b[0;34m\u001b[0m\u001b[0m\n\u001b[1;32m    515\u001b[0m   \u001b[0;34m@\u001b[0m\u001b[0mstaticmethod\u001b[0m\u001b[0;34m\u001b[0m\u001b[0;34m\u001b[0m\u001b[0m\n",
            "\u001b[0;31mAttributeError\u001b[0m: 'tensorflow.python.framework.ops.EagerTensor' object has no attribute 'assign'"
          ]
        }
      ]
    },
    {
      "cell_type": "markdown",
      "source": [
        "### Creating random tensors\n",
        "Random tensors are tensors of some arbitrary size wich contain random numbers"
      ],
      "metadata": {
        "id": "Lv054KIHvzgU"
      }
    },
    {
      "cell_type": "code",
      "source": [
        "# 2 random tensor (but the same)\n",
        "random_1 = tf.random.Generator.from_seed(42) # set seed for reproducitibility\n",
        "random_1 = random_1.normal(shape=(3,2))\n",
        "random_2 = tf.random.Generator.from_seed(42)\n",
        "random_2 = random_2.normal(shape=(3,2))\n",
        "\n",
        "#Are they equal?\n",
        "random_1, random_2, random_1 == random_2"
      ],
      "metadata": {
        "id": "1fNHcmfZvvI2",
        "colab": {
          "base_uri": "https://localhost:8080/"
        },
        "outputId": "af84a526-0a58-4f4b-a2a1-43dccee8cdbf"
      },
      "execution_count": null,
      "outputs": [
        {
          "output_type": "execute_result",
          "data": {
            "text/plain": [
              "(<tf.Tensor: shape=(3, 2), dtype=float32, numpy=\n",
              " array([[-0.7565803 , -0.06854702],\n",
              "        [ 0.07595026, -1.2573844 ],\n",
              "        [-0.23193763, -1.8107855 ]], dtype=float32)>,\n",
              " <tf.Tensor: shape=(3, 2), dtype=float32, numpy=\n",
              " array([[-0.7565803 , -0.06854702],\n",
              "        [ 0.07595026, -1.2573844 ],\n",
              "        [-0.23193763, -1.8107855 ]], dtype=float32)>,\n",
              " <tf.Tensor: shape=(3, 2), dtype=bool, numpy=\n",
              " array([[ True,  True],\n",
              "        [ True,  True],\n",
              "        [ True,  True]])>)"
            ]
          },
          "metadata": {},
          "execution_count": 17
        }
      ]
    },
    {
      "cell_type": "markdown",
      "source": [
        "### Shuffle the oreder of elements in the tensor"
      ],
      "metadata": {
        "id": "dXcD4hgs1xeB"
      }
    },
    {
      "cell_type": "code",
      "source": [
        "# Shuffle a tensor | Valueble for when you want to shuffle your data so the inherent order does not effect learning\n",
        "not_shuffle = tf.constant([[10,7],\n",
        "                           [3,4],\n",
        "                           [2,5]])\n",
        "not_shuffle.ndim"
      ],
      "metadata": {
        "id": "7fyQEc5z0uG3",
        "colab": {
          "base_uri": "https://localhost:8080/"
        },
        "outputId": "7453b32f-07f7-4471-c97c-e19c3e186369"
      },
      "execution_count": null,
      "outputs": [
        {
          "output_type": "execute_result",
          "data": {
            "text/plain": [
              "2"
            ]
          },
          "metadata": {},
          "execution_count": 18
        }
      ]
    },
    {
      "cell_type": "code",
      "source": [
        "not_shuffle"
      ],
      "metadata": {
        "id": "AmcPYeHMQilc",
        "colab": {
          "base_uri": "https://localhost:8080/"
        },
        "outputId": "e6a8e0e7-4315-4ca2-b3f4-bb3016e72907"
      },
      "execution_count": null,
      "outputs": [
        {
          "output_type": "execute_result",
          "data": {
            "text/plain": [
              "<tf.Tensor: shape=(3, 2), dtype=int32, numpy=\n",
              "array([[10,  7],\n",
              "       [ 3,  4],\n",
              "       [ 2,  5]], dtype=int32)>"
            ]
          },
          "metadata": {},
          "execution_count": 19
        }
      ]
    },
    {
      "cell_type": "code",
      "source": [
        "#shuffle our non-shuffled tensor\n",
        "\n",
        "tf.random.shuffle(not_shuffle)"
      ],
      "metadata": {
        "id": "Lmbr9gDaRAXp",
        "colab": {
          "base_uri": "https://localhost:8080/"
        },
        "outputId": "a26174c2-5d7b-4b2b-a2e3-c65fb2a0ea58"
      },
      "execution_count": null,
      "outputs": [
        {
          "output_type": "execute_result",
          "data": {
            "text/plain": [
              "<tf.Tensor: shape=(3, 2), dtype=int32, numpy=\n",
              "array([[ 2,  5],\n",
              "       [10,  7],\n",
              "       [ 3,  4]], dtype=int32)>"
            ]
          },
          "metadata": {},
          "execution_count": 20
        }
      ]
    },
    {
      "cell_type": "code",
      "source": [
        "# it looks if we want our shuffled tensors to be in the same oreder we have got to use the global level random seed as well as the operation level random seed\n",
        "tf.random.set_seed(55) #global level random seed\n",
        "tf.random.shuffle(not_shuffle, seed=55) #operation level random seed"
      ],
      "metadata": {
        "id": "_vMw3w5RRmBK",
        "colab": {
          "base_uri": "https://localhost:8080/"
        },
        "outputId": "dcc1f00e-59e9-4c1a-d4ab-deafaecd80c2"
      },
      "execution_count": null,
      "outputs": [
        {
          "output_type": "execute_result",
          "data": {
            "text/plain": [
              "<tf.Tensor: shape=(3, 2), dtype=int32, numpy=\n",
              "array([[ 2,  5],\n",
              "       [10,  7],\n",
              "       [ 3,  4]], dtype=int32)>"
            ]
          },
          "metadata": {},
          "execution_count": 21
        }
      ]
    },
    {
      "cell_type": "markdown",
      "source": [
        "### other way to make tensors"
      ],
      "metadata": {
        "id": "QXlRD2o3YqkR"
      }
    },
    {
      "cell_type": "code",
      "source": [
        "#Tensor of all ones\n",
        "tf.ones([10,7])\n"
      ],
      "metadata": {
        "id": "Vb29nwO-WFD0",
        "colab": {
          "base_uri": "https://localhost:8080/"
        },
        "outputId": "1ef90ea8-c363-4b5c-8e74-659aa4fd9b80"
      },
      "execution_count": null,
      "outputs": [
        {
          "output_type": "execute_result",
          "data": {
            "text/plain": [
              "<tf.Tensor: shape=(10, 7), dtype=float32, numpy=\n",
              "array([[1., 1., 1., 1., 1., 1., 1.],\n",
              "       [1., 1., 1., 1., 1., 1., 1.],\n",
              "       [1., 1., 1., 1., 1., 1., 1.],\n",
              "       [1., 1., 1., 1., 1., 1., 1.],\n",
              "       [1., 1., 1., 1., 1., 1., 1.],\n",
              "       [1., 1., 1., 1., 1., 1., 1.],\n",
              "       [1., 1., 1., 1., 1., 1., 1.],\n",
              "       [1., 1., 1., 1., 1., 1., 1.],\n",
              "       [1., 1., 1., 1., 1., 1., 1.],\n",
              "       [1., 1., 1., 1., 1., 1., 1.]], dtype=float32)>"
            ]
          },
          "metadata": {},
          "execution_count": 22
        }
      ]
    },
    {
      "cell_type": "code",
      "source": [
        "#Tensor of all zeros\n",
        "tf.zeros(shape=(3,4))"
      ],
      "metadata": {
        "id": "kb-mOsF4Y673",
        "colab": {
          "base_uri": "https://localhost:8080/"
        },
        "outputId": "2aff258a-72f8-40cd-8062-210502ce0ff9"
      },
      "execution_count": null,
      "outputs": [
        {
          "output_type": "execute_result",
          "data": {
            "text/plain": [
              "<tf.Tensor: shape=(3, 4), dtype=float32, numpy=\n",
              "array([[0., 0., 0., 0.],\n",
              "       [0., 0., 0., 0.],\n",
              "       [0., 0., 0., 0.]], dtype=float32)>"
            ]
          },
          "metadata": {},
          "execution_count": 23
        }
      ]
    },
    {
      "cell_type": "markdown",
      "source": [
        "### Turn Numpy arrays into tensors\n",
        "The main difference between Numpy arrays and Tensorflow tensors is that tensors can be run on a GPU computing"
      ],
      "metadata": {
        "id": "gvnZBzA7ZMCX"
      }
    },
    {
      "cell_type": "code",
      "source": [
        "# Turn Numpy arrays into tensors\n",
        "import numpy as np\n",
        "numpy_A = np.arange(1,25,dtype=np.int32) #numpy Arrays\n",
        "numpy_A\n",
        "\n",
        "#X = tf.constant(some_matrix)  #capital letter for matrix or tensor\n",
        "#y = tf.constant(vector) #non-capital letter for vector"
      ],
      "metadata": {
        "id": "HNlbEDbtZF2v",
        "colab": {
          "base_uri": "https://localhost:8080/"
        },
        "outputId": "3be5cec4-449f-4502-e407-0c45366f3673"
      },
      "execution_count": null,
      "outputs": [
        {
          "output_type": "execute_result",
          "data": {
            "text/plain": [
              "array([ 1,  2,  3,  4,  5,  6,  7,  8,  9, 10, 11, 12, 13, 14, 15, 16, 17,\n",
              "       18, 19, 20, 21, 22, 23, 24], dtype=int32)"
            ]
          },
          "metadata": {},
          "execution_count": 24
        }
      ]
    },
    {
      "cell_type": "code",
      "source": [
        "#Convert numpy to tensor\n",
        "A = tf.constant(numpy_A, shape=(3,8))\n",
        "B = tf.constant(numpy_A)\n",
        "A,B"
      ],
      "metadata": {
        "id": "3FV1UrRSaUX6",
        "colab": {
          "base_uri": "https://localhost:8080/"
        },
        "outputId": "0e35182f-c885-482b-88f2-0c43f1a83d09"
      },
      "execution_count": null,
      "outputs": [
        {
          "output_type": "execute_result",
          "data": {
            "text/plain": [
              "(<tf.Tensor: shape=(3, 8), dtype=int32, numpy=\n",
              " array([[ 1,  2,  3,  4,  5,  6,  7,  8],\n",
              "        [ 9, 10, 11, 12, 13, 14, 15, 16],\n",
              "        [17, 18, 19, 20, 21, 22, 23, 24]], dtype=int32)>,\n",
              " <tf.Tensor: shape=(24,), dtype=int32, numpy=\n",
              " array([ 1,  2,  3,  4,  5,  6,  7,  8,  9, 10, 11, 12, 13, 14, 15, 16, 17,\n",
              "        18, 19, 20, 21, 22, 23, 24], dtype=int32)>)"
            ]
          },
          "metadata": {},
          "execution_count": 25
        }
      ]
    },
    {
      "cell_type": "code",
      "source": [
        "A.ndim"
      ],
      "metadata": {
        "id": "LNWkiezObfBN",
        "colab": {
          "base_uri": "https://localhost:8080/"
        },
        "outputId": "830474d7-4ad7-4345-ee81-4b64d714e4f4"
      },
      "execution_count": null,
      "outputs": [
        {
          "output_type": "execute_result",
          "data": {
            "text/plain": [
              "2"
            ]
          },
          "metadata": {},
          "execution_count": 26
        }
      ]
    },
    {
      "cell_type": "markdown",
      "source": [
        "### Getting information from Tensors\n",
        "* Shape\n",
        "* Rank\n",
        "* axis or dimension\n",
        "* Size"
      ],
      "metadata": {
        "id": "KebMK_HHb78_"
      }
    },
    {
      "cell_type": "code",
      "source": [
        "# create a rank 4 tensor (4 dimensions)\n",
        "rank_4_tensor = tf.zeros(shape=[2,3,4,5])\n",
        "rank_4_tensor\n"
      ],
      "metadata": {
        "id": "dKcfZyR8bQzN",
        "colab": {
          "base_uri": "https://localhost:8080/"
        },
        "outputId": "d62e1a68-7af1-4ea0-de6f-b3618f361668"
      },
      "execution_count": null,
      "outputs": [
        {
          "output_type": "execute_result",
          "data": {
            "text/plain": [
              "<tf.Tensor: shape=(2, 3, 4, 5), dtype=float32, numpy=\n",
              "array([[[[0., 0., 0., 0., 0.],\n",
              "         [0., 0., 0., 0., 0.],\n",
              "         [0., 0., 0., 0., 0.],\n",
              "         [0., 0., 0., 0., 0.]],\n",
              "\n",
              "        [[0., 0., 0., 0., 0.],\n",
              "         [0., 0., 0., 0., 0.],\n",
              "         [0., 0., 0., 0., 0.],\n",
              "         [0., 0., 0., 0., 0.]],\n",
              "\n",
              "        [[0., 0., 0., 0., 0.],\n",
              "         [0., 0., 0., 0., 0.],\n",
              "         [0., 0., 0., 0., 0.],\n",
              "         [0., 0., 0., 0., 0.]]],\n",
              "\n",
              "\n",
              "       [[[0., 0., 0., 0., 0.],\n",
              "         [0., 0., 0., 0., 0.],\n",
              "         [0., 0., 0., 0., 0.],\n",
              "         [0., 0., 0., 0., 0.]],\n",
              "\n",
              "        [[0., 0., 0., 0., 0.],\n",
              "         [0., 0., 0., 0., 0.],\n",
              "         [0., 0., 0., 0., 0.],\n",
              "         [0., 0., 0., 0., 0.]],\n",
              "\n",
              "        [[0., 0., 0., 0., 0.],\n",
              "         [0., 0., 0., 0., 0.],\n",
              "         [0., 0., 0., 0., 0.],\n",
              "         [0., 0., 0., 0., 0.]]]], dtype=float32)>"
            ]
          },
          "metadata": {},
          "execution_count": 27
        }
      ]
    },
    {
      "cell_type": "code",
      "source": [
        "rank_4_tensor[0]"
      ],
      "metadata": {
        "id": "a1bdAkELdjRe",
        "colab": {
          "base_uri": "https://localhost:8080/"
        },
        "outputId": "9fad72a1-1328-4b20-ef17-0334c2c4739a"
      },
      "execution_count": null,
      "outputs": [
        {
          "output_type": "execute_result",
          "data": {
            "text/plain": [
              "<tf.Tensor: shape=(3, 4, 5), dtype=float32, numpy=\n",
              "array([[[0., 0., 0., 0., 0.],\n",
              "        [0., 0., 0., 0., 0.],\n",
              "        [0., 0., 0., 0., 0.],\n",
              "        [0., 0., 0., 0., 0.]],\n",
              "\n",
              "       [[0., 0., 0., 0., 0.],\n",
              "        [0., 0., 0., 0., 0.],\n",
              "        [0., 0., 0., 0., 0.],\n",
              "        [0., 0., 0., 0., 0.]],\n",
              "\n",
              "       [[0., 0., 0., 0., 0.],\n",
              "        [0., 0., 0., 0., 0.],\n",
              "        [0., 0., 0., 0., 0.],\n",
              "        [0., 0., 0., 0., 0.]]], dtype=float32)>"
            ]
          },
          "metadata": {},
          "execution_count": 28
        }
      ]
    },
    {
      "cell_type": "code",
      "source": [
        "rank_4_tensor.shape, rank_4_tensor.ndim, tf.size(rank_4_tensor)\n",
        "#size 120 # because 2*3*4*5"
      ],
      "metadata": {
        "id": "MU-uwjueeUgw",
        "colab": {
          "base_uri": "https://localhost:8080/"
        },
        "outputId": "91877667-80b2-4449-f2fb-85876fd569e7"
      },
      "execution_count": null,
      "outputs": [
        {
          "output_type": "execute_result",
          "data": {
            "text/plain": [
              "(TensorShape([2, 3, 4, 5]), 4, <tf.Tensor: shape=(), dtype=int32, numpy=120>)"
            ]
          },
          "metadata": {},
          "execution_count": 29
        }
      ]
    },
    {
      "cell_type": "code",
      "source": [
        "#Get various attributes of our tensor\n",
        "\n",
        "print(\"Datatype of every element:\", rank_4_tensor.dtype)\n",
        "print(\"Number of dimensions (rank):\", rank_4_tensor.ndim)\n",
        "print(\"Shape of tensor:\", rank_4_tensor.shape)\n",
        "print(\"Element along the 0 axis:\", rank_4_tensor.shape[0])\n",
        "print(\"Element along the last axis:\", rank_4_tensor.shape[-1])\n",
        "print(\"Total number of elements in our tensor:\", tf.size(rank_4_tensor) )\n",
        "print(\"Total number of elements in our tensor:\", tf.size(rank_4_tensor).numpy() )"
      ],
      "metadata": {
        "id": "X9FBi4z4fsRo",
        "colab": {
          "base_uri": "https://localhost:8080/"
        },
        "outputId": "4b33dec1-a027-410c-d255-2dc446621003"
      },
      "execution_count": null,
      "outputs": [
        {
          "output_type": "stream",
          "name": "stdout",
          "text": [
            "Datatype of every element: <dtype: 'float32'>\n",
            "Number of dimensions (rank): 4\n",
            "Shape of tensor: (2, 3, 4, 5)\n",
            "Element along the 0 axis: 2\n",
            "Element along the last axis: 5\n",
            "Total number of elements in our tensor: tf.Tensor(120, shape=(), dtype=int32)\n",
            "Total number of elements in our tensor: 120\n"
          ]
        }
      ]
    },
    {
      "cell_type": "markdown",
      "source": [
        "### Indexing and expanding tensors\n",
        "Tesor can be index just like python list"
      ],
      "metadata": {
        "id": "j_DzG1V3hYu8"
      }
    },
    {
      "cell_type": "code",
      "source": [
        "#Get the first 2 elements of each dimension\n",
        "rank_4_tensor[:2,:2,:2,:2]"
      ],
      "metadata": {
        "id": "Q2dDDYjXhc1N",
        "colab": {
          "base_uri": "https://localhost:8080/"
        },
        "outputId": "22eab2e4-6b24-47ec-e4f2-fd6a595cd48c"
      },
      "execution_count": null,
      "outputs": [
        {
          "output_type": "execute_result",
          "data": {
            "text/plain": [
              "<tf.Tensor: shape=(2, 2, 2, 2), dtype=float32, numpy=\n",
              "array([[[[0., 0.],\n",
              "         [0., 0.]],\n",
              "\n",
              "        [[0., 0.],\n",
              "         [0., 0.]]],\n",
              "\n",
              "\n",
              "       [[[0., 0.],\n",
              "         [0., 0.]],\n",
              "\n",
              "        [[0., 0.],\n",
              "         [0., 0.]]]], dtype=float32)>"
            ]
          },
          "metadata": {},
          "execution_count": 31
        }
      ]
    },
    {
      "cell_type": "code",
      "source": [
        "# Get the first element from each dimension from each index ecept for the final one\n",
        "\n",
        "rank_4_tensor[:1,:1,:1,:]"
      ],
      "metadata": {
        "id": "gPzIvIdMiLMJ",
        "colab": {
          "base_uri": "https://localhost:8080/"
        },
        "outputId": "612f5a44-ea1d-4b87-8b74-71a252bb3a5c"
      },
      "execution_count": null,
      "outputs": [
        {
          "output_type": "execute_result",
          "data": {
            "text/plain": [
              "<tf.Tensor: shape=(1, 1, 1, 5), dtype=float32, numpy=array([[[[0., 0., 0., 0., 0.]]]], dtype=float32)>"
            ]
          },
          "metadata": {},
          "execution_count": 32
        }
      ]
    },
    {
      "cell_type": "code",
      "source": [
        "# create a rank 2 tensor (2 dimensions)\n",
        "rank_2_tensor = tf.constant([[10,7],\n",
        "                            [3,4]])\n",
        "\n",
        "rank_2_tensor.shape, rank_2_tensor.ndim"
      ],
      "metadata": {
        "id": "tV-UPVGHjHJg",
        "colab": {
          "base_uri": "https://localhost:8080/"
        },
        "outputId": "ee5e85fc-36aa-420a-e10a-91287f31ef08"
      },
      "execution_count": null,
      "outputs": [
        {
          "output_type": "execute_result",
          "data": {
            "text/plain": [
              "(TensorShape([2, 2]), 2)"
            ]
          },
          "metadata": {},
          "execution_count": 33
        }
      ]
    },
    {
      "cell_type": "code",
      "source": [
        "# Get the las item of each row of our rank 2 tensor\n",
        "rank_2_tensor[:,-1]"
      ],
      "metadata": {
        "id": "ipzci2CajsTG",
        "colab": {
          "base_uri": "https://localhost:8080/"
        },
        "outputId": "18ad4045-3708-4f5a-95d5-f78f5eaa78a1"
      },
      "execution_count": null,
      "outputs": [
        {
          "output_type": "execute_result",
          "data": {
            "text/plain": [
              "<tf.Tensor: shape=(2,), dtype=int32, numpy=array([7, 4], dtype=int32)>"
            ]
          },
          "metadata": {},
          "execution_count": 34
        }
      ]
    },
    {
      "cell_type": "code",
      "source": [
        "# Add in extra dimension\n",
        "rank_3_tensor = rank_2_tensor[..., tf.newaxis]\n",
        "rank_3_tensor"
      ],
      "metadata": {
        "id": "v6MpabBpl8Jx",
        "colab": {
          "base_uri": "https://localhost:8080/"
        },
        "outputId": "1d35e7dd-b0aa-430e-af47-a4b30f177c12"
      },
      "execution_count": null,
      "outputs": [
        {
          "output_type": "execute_result",
          "data": {
            "text/plain": [
              "<tf.Tensor: shape=(2, 2, 1), dtype=int32, numpy=\n",
              "array([[[10],\n",
              "        [ 7]],\n",
              "\n",
              "       [[ 3],\n",
              "        [ 4]]], dtype=int32)>"
            ]
          },
          "metadata": {},
          "execution_count": 35
        }
      ]
    },
    {
      "cell_type": "code",
      "source": [
        "# Alternative to tf.newaxis\n",
        "tf.expand_dims(rank_2_tensor, axis=-1) #-1 is to put the new axis at the end"
      ],
      "metadata": {
        "id": "bV6IB0jamc5d",
        "colab": {
          "base_uri": "https://localhost:8080/"
        },
        "outputId": "2fb94ce3-63ea-4163-a55c-1cf59dbeede6"
      },
      "execution_count": null,
      "outputs": [
        {
          "output_type": "execute_result",
          "data": {
            "text/plain": [
              "<tf.Tensor: shape=(2, 2, 1), dtype=int32, numpy=\n",
              "array([[[10],\n",
              "        [ 7]],\n",
              "\n",
              "       [[ 3],\n",
              "        [ 4]]], dtype=int32)>"
            ]
          },
          "metadata": {},
          "execution_count": 36
        }
      ]
    },
    {
      "cell_type": "code",
      "source": [
        "tf.expand_dims(rank_2_tensor, axis=0)"
      ],
      "metadata": {
        "id": "PzKO1b2_mtJ0",
        "colab": {
          "base_uri": "https://localhost:8080/"
        },
        "outputId": "19e923d0-d0bc-4ef0-8ec2-e205c9c98df3"
      },
      "execution_count": null,
      "outputs": [
        {
          "output_type": "execute_result",
          "data": {
            "text/plain": [
              "<tf.Tensor: shape=(1, 2, 2), dtype=int32, numpy=\n",
              "array([[[10,  7],\n",
              "        [ 3,  4]]], dtype=int32)>"
            ]
          },
          "metadata": {},
          "execution_count": 37
        }
      ]
    },
    {
      "cell_type": "markdown",
      "source": [
        "### Manipulating tensors\n",
        "\n",
        "**Basic Operations**\n",
        "\n",
        "`+`,`-`,`*`"
      ],
      "metadata": {
        "id": "nNkNAko6m-gW"
      }
    },
    {
      "cell_type": "code",
      "source": [
        "#Add values to a tensor using the addtion operator\n",
        "\n",
        "tensor = tf.constant([[10,7],\n",
        "                      [3,4]])\n",
        "tensor + 10"
      ],
      "metadata": {
        "id": "-cOA62TnvFCi",
        "colab": {
          "base_uri": "https://localhost:8080/"
        },
        "outputId": "4068563f-cf1e-4ed1-df97-28d73d38108e"
      },
      "execution_count": null,
      "outputs": [
        {
          "output_type": "execute_result",
          "data": {
            "text/plain": [
              "<tf.Tensor: shape=(2, 2), dtype=int32, numpy=\n",
              "array([[20, 17],\n",
              "       [13, 14]], dtype=int32)>"
            ]
          },
          "metadata": {},
          "execution_count": 38
        }
      ]
    },
    {
      "cell_type": "code",
      "source": [
        "#Original tensor is unchanged\n",
        "\n",
        "tensor"
      ],
      "metadata": {
        "id": "LGU1lkGgvoV2",
        "colab": {
          "base_uri": "https://localhost:8080/"
        },
        "outputId": "f747614e-2c0a-4366-a006-399829c9efec"
      },
      "execution_count": null,
      "outputs": [
        {
          "output_type": "execute_result",
          "data": {
            "text/plain": [
              "<tf.Tensor: shape=(2, 2), dtype=int32, numpy=\n",
              "array([[10,  7],\n",
              "       [ 3,  4]], dtype=int32)>"
            ]
          },
          "metadata": {},
          "execution_count": 39
        }
      ]
    },
    {
      "cell_type": "code",
      "source": [
        "#Multiplication also works\n",
        "tensor *10"
      ],
      "metadata": {
        "id": "It086kRMv6mP",
        "colab": {
          "base_uri": "https://localhost:8080/"
        },
        "outputId": "77299ee7-12c9-4d8a-ee21-b3683ce04b8a"
      },
      "execution_count": null,
      "outputs": [
        {
          "output_type": "execute_result",
          "data": {
            "text/plain": [
              "<tf.Tensor: shape=(2, 2), dtype=int32, numpy=\n",
              "array([[100,  70],\n",
              "       [ 30,  40]], dtype=int32)>"
            ]
          },
          "metadata": {},
          "execution_count": 40
        }
      ]
    },
    {
      "cell_type": "code",
      "source": [
        "# Substraction works\n",
        "\n",
        "tensor - 10"
      ],
      "metadata": {
        "id": "hAbNJ-3mv-u7",
        "colab": {
          "base_uri": "https://localhost:8080/"
        },
        "outputId": "42c7e427-a3d9-4242-d151-784dc5d5d261"
      },
      "execution_count": null,
      "outputs": [
        {
          "output_type": "execute_result",
          "data": {
            "text/plain": [
              "<tf.Tensor: shape=(2, 2), dtype=int32, numpy=\n",
              "array([[ 0, -3],\n",
              "       [-7, -6]], dtype=int32)>"
            ]
          },
          "metadata": {},
          "execution_count": 41
        }
      ]
    },
    {
      "cell_type": "code",
      "source": [
        "# Use the tensorflow buitl-in function too\n",
        "tf.multiply(tensor,10)\n",
        "tf.add(tensor, 10)"
      ],
      "metadata": {
        "id": "6w8shdwOwCpu",
        "colab": {
          "base_uri": "https://localhost:8080/"
        },
        "outputId": "dbf4eb97-2dd0-40de-ff72-ea18f3182b10"
      },
      "execution_count": null,
      "outputs": [
        {
          "output_type": "execute_result",
          "data": {
            "text/plain": [
              "<tf.Tensor: shape=(2, 2), dtype=int32, numpy=\n",
              "array([[20, 17],\n",
              "       [13, 14]], dtype=int32)>"
            ]
          },
          "metadata": {},
          "execution_count": 42
        }
      ]
    },
    {
      "cell_type": "markdown",
      "source": [
        "**Matrix multiplication**\n",
        "\n",
        "In machine learning, matrix multiplication is one of the most common tensor operations\n",
        "\n",
        "There 2 rules our tensors (or matrices) need to fulfill if we are going to matrix multiply them:\n",
        "\n",
        "1. The inner dimensions must match 3x**3** - **3**x2\n",
        "2. The resulting matrix has the shape of the outer dimensions **3**x2 - 3x**2**"
      ],
      "metadata": {
        "id": "kLZbLjT_LTyt"
      }
    },
    {
      "cell_type": "code",
      "source": [
        "#from IPython.display import Image\n",
        "#Image(\"/content/drive/MyDrive/IMG_0938.png\")"
      ],
      "metadata": {
        "id": "g1r9zx8duTBl"
      },
      "execution_count": null,
      "outputs": []
    },
    {
      "cell_type": "code",
      "source": [
        "#Matrix multiplication in TF\n",
        "\n",
        "tf.matmul(tensor, tensor)"
      ],
      "metadata": {
        "id": "jG1GUC-Axzhp",
        "colab": {
          "base_uri": "https://localhost:8080/"
        },
        "outputId": "83ac91cf-ffec-4ee3-a572-95c46a225311"
      },
      "execution_count": null,
      "outputs": [
        {
          "output_type": "execute_result",
          "data": {
            "text/plain": [
              "<tf.Tensor: shape=(2, 2), dtype=int32, numpy=\n",
              "array([[121,  98],\n",
              "       [ 42,  37]], dtype=int32)>"
            ]
          },
          "metadata": {},
          "execution_count": 44
        }
      ]
    },
    {
      "cell_type": "code",
      "source": [
        "#Matrix multiplication with Python operator \"@\"\n",
        "\n",
        "tensor @ tensor"
      ],
      "metadata": {
        "id": "RQf_RRrn5ANK",
        "colab": {
          "base_uri": "https://localhost:8080/"
        },
        "outputId": "58a0bdd2-7e80-44c0-a6fd-10090b5f5ad7"
      },
      "execution_count": null,
      "outputs": [
        {
          "output_type": "execute_result",
          "data": {
            "text/plain": [
              "<tf.Tensor: shape=(2, 2), dtype=int32, numpy=\n",
              "array([[121,  98],\n",
              "       [ 42,  37]], dtype=int32)>"
            ]
          },
          "metadata": {},
          "execution_count": 45
        }
      ]
    },
    {
      "cell_type": "code",
      "source": [
        "# Createa tensor (3,2) \n",
        "X = tf.constant([[1,2],\n",
        "                 [3,3],\n",
        "                 [5,6]])\n",
        "\n",
        "Y = tf.constant([[7,8],\n",
        "                 [9,10],\n",
        "                 [11,12]])\n",
        "\n",
        "X,Y"
      ],
      "metadata": {
        "id": "-A1QBo3OJcwB",
        "colab": {
          "base_uri": "https://localhost:8080/"
        },
        "outputId": "d1c3488f-5f3d-4341-90f7-de39780a9590"
      },
      "execution_count": null,
      "outputs": [
        {
          "output_type": "execute_result",
          "data": {
            "text/plain": [
              "(<tf.Tensor: shape=(3, 2), dtype=int32, numpy=\n",
              " array([[1, 2],\n",
              "        [3, 3],\n",
              "        [5, 6]], dtype=int32)>, <tf.Tensor: shape=(3, 2), dtype=int32, numpy=\n",
              " array([[ 7,  8],\n",
              "        [ 9, 10],\n",
              "        [11, 12]], dtype=int32)>)"
            ]
          },
          "metadata": {},
          "execution_count": 46
        }
      ]
    },
    {
      "cell_type": "code",
      "source": [
        "# Matrix multiply tensors of same shape\n",
        "tf.matmul(X,Y) # gives error"
      ],
      "metadata": {
        "id": "nQ-7_NUcJ6KV",
        "colab": {
          "base_uri": "https://localhost:8080/",
          "height": 324
        },
        "outputId": "d9abbd6c-001e-49a1-db0f-b64cfb0a9f8c"
      },
      "execution_count": null,
      "outputs": [
        {
          "output_type": "error",
          "ename": "InvalidArgumentError",
          "evalue": "ignored",
          "traceback": [
            "\u001b[0;31m---------------------------------------------------------------------------\u001b[0m",
            "\u001b[0;31mInvalidArgumentError\u001b[0m                      Traceback (most recent call last)",
            "\u001b[0;32m<ipython-input-47-2ed9f12e97f1>\u001b[0m in \u001b[0;36m<module>\u001b[0;34m()\u001b[0m\n\u001b[1;32m      1\u001b[0m \u001b[0;31m# Matrix multiply tensors of same shape\u001b[0m\u001b[0;34m\u001b[0m\u001b[0;34m\u001b[0m\u001b[0;34m\u001b[0m\u001b[0m\n\u001b[0;32m----> 2\u001b[0;31m \u001b[0mtf\u001b[0m\u001b[0;34m.\u001b[0m\u001b[0mmatmul\u001b[0m\u001b[0;34m(\u001b[0m\u001b[0mX\u001b[0m\u001b[0;34m,\u001b[0m\u001b[0mY\u001b[0m\u001b[0;34m)\u001b[0m \u001b[0;31m# gives error\u001b[0m\u001b[0;34m\u001b[0m\u001b[0;34m\u001b[0m\u001b[0m\n\u001b[0m",
            "\u001b[0;32m/usr/local/lib/python3.7/dist-packages/tensorflow/python/util/traceback_utils.py\u001b[0m in \u001b[0;36merror_handler\u001b[0;34m(*args, **kwargs)\u001b[0m\n\u001b[1;32m    151\u001b[0m     \u001b[0;32mexcept\u001b[0m \u001b[0mException\u001b[0m \u001b[0;32mas\u001b[0m \u001b[0me\u001b[0m\u001b[0;34m:\u001b[0m\u001b[0;34m\u001b[0m\u001b[0;34m\u001b[0m\u001b[0m\n\u001b[1;32m    152\u001b[0m       \u001b[0mfiltered_tb\u001b[0m \u001b[0;34m=\u001b[0m \u001b[0m_process_traceback_frames\u001b[0m\u001b[0;34m(\u001b[0m\u001b[0me\u001b[0m\u001b[0;34m.\u001b[0m\u001b[0m__traceback__\u001b[0m\u001b[0;34m)\u001b[0m\u001b[0;34m\u001b[0m\u001b[0;34m\u001b[0m\u001b[0m\n\u001b[0;32m--> 153\u001b[0;31m       \u001b[0;32mraise\u001b[0m \u001b[0me\u001b[0m\u001b[0;34m.\u001b[0m\u001b[0mwith_traceback\u001b[0m\u001b[0;34m(\u001b[0m\u001b[0mfiltered_tb\u001b[0m\u001b[0;34m)\u001b[0m \u001b[0;32mfrom\u001b[0m \u001b[0;32mNone\u001b[0m\u001b[0;34m\u001b[0m\u001b[0;34m\u001b[0m\u001b[0m\n\u001b[0m\u001b[1;32m    154\u001b[0m     \u001b[0;32mfinally\u001b[0m\u001b[0;34m:\u001b[0m\u001b[0;34m\u001b[0m\u001b[0;34m\u001b[0m\u001b[0m\n\u001b[1;32m    155\u001b[0m       \u001b[0;32mdel\u001b[0m \u001b[0mfiltered_tb\u001b[0m\u001b[0;34m\u001b[0m\u001b[0;34m\u001b[0m\u001b[0m\n",
            "\u001b[0;32m/usr/local/lib/python3.7/dist-packages/tensorflow/python/framework/ops.py\u001b[0m in \u001b[0;36mraise_from_not_ok_status\u001b[0;34m(e, name)\u001b[0m\n\u001b[1;32m   7184\u001b[0m \u001b[0;32mdef\u001b[0m \u001b[0mraise_from_not_ok_status\u001b[0m\u001b[0;34m(\u001b[0m\u001b[0me\u001b[0m\u001b[0;34m,\u001b[0m \u001b[0mname\u001b[0m\u001b[0;34m)\u001b[0m\u001b[0;34m:\u001b[0m\u001b[0;34m\u001b[0m\u001b[0;34m\u001b[0m\u001b[0m\n\u001b[1;32m   7185\u001b[0m   \u001b[0me\u001b[0m\u001b[0;34m.\u001b[0m\u001b[0mmessage\u001b[0m \u001b[0;34m+=\u001b[0m \u001b[0;34m(\u001b[0m\u001b[0;34m\" name: \"\u001b[0m \u001b[0;34m+\u001b[0m \u001b[0mname\u001b[0m \u001b[0;32mif\u001b[0m \u001b[0mname\u001b[0m \u001b[0;32mis\u001b[0m \u001b[0;32mnot\u001b[0m \u001b[0;32mNone\u001b[0m \u001b[0;32melse\u001b[0m \u001b[0;34m\"\"\u001b[0m\u001b[0;34m)\u001b[0m\u001b[0;34m\u001b[0m\u001b[0;34m\u001b[0m\u001b[0m\n\u001b[0;32m-> 7186\u001b[0;31m   \u001b[0;32mraise\u001b[0m \u001b[0mcore\u001b[0m\u001b[0;34m.\u001b[0m\u001b[0m_status_to_exception\u001b[0m\u001b[0;34m(\u001b[0m\u001b[0me\u001b[0m\u001b[0;34m)\u001b[0m \u001b[0;32mfrom\u001b[0m \u001b[0;32mNone\u001b[0m  \u001b[0;31m# pylint: disable=protected-access\u001b[0m\u001b[0;34m\u001b[0m\u001b[0;34m\u001b[0m\u001b[0m\n\u001b[0m\u001b[1;32m   7187\u001b[0m \u001b[0;34m\u001b[0m\u001b[0m\n\u001b[1;32m   7188\u001b[0m \u001b[0;34m\u001b[0m\u001b[0m\n",
            "\u001b[0;31mInvalidArgumentError\u001b[0m: Matrix size-incompatible: In[0]: [3,2], In[1]: [3,2] [Op:MatMul]"
          ]
        }
      ]
    },
    {
      "cell_type": "code",
      "source": [
        "# Lets change the shape of Y\n",
        "tf.reshape(Y, shape=(2,3))"
      ],
      "metadata": {
        "id": "UJI20N-5KX35",
        "colab": {
          "base_uri": "https://localhost:8080/"
        },
        "outputId": "edbfc070-43b8-484b-8183-2eb935d17d72"
      },
      "execution_count": null,
      "outputs": [
        {
          "output_type": "execute_result",
          "data": {
            "text/plain": [
              "<tf.Tensor: shape=(2, 3), dtype=int32, numpy=\n",
              "array([[ 7,  8,  9],\n",
              "       [10, 11, 12]], dtype=int32)>"
            ]
          },
          "metadata": {},
          "execution_count": 48
        }
      ]
    },
    {
      "cell_type": "code",
      "source": [
        "# Try to multiply X by reshape Y\n",
        "X @ tf.reshape(Y,shape=(2,3))"
      ],
      "metadata": {
        "id": "PHL1LRwYrTS8",
        "colab": {
          "base_uri": "https://localhost:8080/"
        },
        "outputId": "8653a0b5-0ee3-4697-a45f-7746b095f99e"
      },
      "execution_count": null,
      "outputs": [
        {
          "output_type": "execute_result",
          "data": {
            "text/plain": [
              "<tf.Tensor: shape=(3, 3), dtype=int32, numpy=\n",
              "array([[ 27,  30,  33],\n",
              "       [ 51,  57,  63],\n",
              "       [ 95, 106, 117]], dtype=int32)>"
            ]
          },
          "metadata": {},
          "execution_count": 49
        }
      ]
    },
    {
      "cell_type": "code",
      "source": [
        "tf.matmul(X,tf.reshape(Y,shape=(2,3)))"
      ],
      "metadata": {
        "colab": {
          "base_uri": "https://localhost:8080/"
        },
        "id": "GcHDueZiMSEM",
        "outputId": "67d121e2-f08c-412e-dbb2-1eaec46acd1c"
      },
      "execution_count": null,
      "outputs": [
        {
          "output_type": "execute_result",
          "data": {
            "text/plain": [
              "<tf.Tensor: shape=(3, 3), dtype=int32, numpy=\n",
              "array([[ 27,  30,  33],\n",
              "       [ 51,  57,  63],\n",
              "       [ 95, 106, 117]], dtype=int32)>"
            ]
          },
          "metadata": {},
          "execution_count": 50
        }
      ]
    },
    {
      "cell_type": "code",
      "source": [
        "# Try change the shape of X instead of Y\n",
        "tf.matmul(tf.reshape(X,shape=(2,3)),Y)"
      ],
      "metadata": {
        "colab": {
          "base_uri": "https://localhost:8080/"
        },
        "id": "ZW1y-vM0Mh2e",
        "outputId": "2c8e0560-7d96-4a36-bac7-2b1c668fad8c"
      },
      "execution_count": null,
      "outputs": [
        {
          "output_type": "execute_result",
          "data": {
            "text/plain": [
              "<tf.Tensor: shape=(2, 2), dtype=int32, numpy=\n",
              "array([[ 58,  64],\n",
              "       [132, 146]], dtype=int32)>"
            ]
          },
          "metadata": {},
          "execution_count": 51
        }
      ]
    },
    {
      "cell_type": "code",
      "source": [
        "# Can do the same with transpose\n",
        "X,tf.transpose(X), tf.reshape(X,shape=(2,3))"
      ],
      "metadata": {
        "colab": {
          "base_uri": "https://localhost:8080/"
        },
        "id": "RftEox-KNuys",
        "outputId": "91dbd40f-1f11-4cd0-8da8-783196c7ed7f"
      },
      "execution_count": null,
      "outputs": [
        {
          "output_type": "execute_result",
          "data": {
            "text/plain": [
              "(<tf.Tensor: shape=(3, 2), dtype=int32, numpy=\n",
              " array([[1, 2],\n",
              "        [3, 3],\n",
              "        [5, 6]], dtype=int32)>, <tf.Tensor: shape=(2, 3), dtype=int32, numpy=\n",
              " array([[1, 3, 5],\n",
              "        [2, 3, 6]], dtype=int32)>, <tf.Tensor: shape=(2, 3), dtype=int32, numpy=\n",
              " array([[1, 2, 3],\n",
              "        [3, 5, 6]], dtype=int32)>)"
            ]
          },
          "metadata": {},
          "execution_count": 52
        }
      ]
    },
    {
      "cell_type": "code",
      "source": [
        "# Matriz multiplication with transpose rather than reshape\n",
        "\n",
        "tf.matmul(tf.transpose(X),Y)"
      ],
      "metadata": {
        "colab": {
          "base_uri": "https://localhost:8080/"
        },
        "id": "mq-yIgZYOfMk",
        "outputId": "9f6dc70f-5262-4046-d1d7-2baab56ed257"
      },
      "execution_count": null,
      "outputs": [
        {
          "output_type": "execute_result",
          "data": {
            "text/plain": [
              "<tf.Tensor: shape=(2, 2), dtype=int32, numpy=\n",
              "array([[ 89,  98],\n",
              "       [107, 118]], dtype=int32)>"
            ]
          },
          "metadata": {},
          "execution_count": 53
        }
      ]
    },
    {
      "cell_type": "markdown",
      "source": [
        "**The dot product**\n",
        "\n",
        "Matrix multiplication is also refferred to as the dot product.\n",
        "\n",
        "You can perform matrix multiplication using:\n",
        "\n",
        "* `tf.matmul()`\n",
        "* `tf.tensordot()`"
      ],
      "metadata": {
        "id": "yuK1fA6oQdNk"
      }
    },
    {
      "cell_type": "code",
      "source": [
        "# Perform the dot product on X and Y (requires X or Y to be transposed)\n",
        "\n",
        "tf.tensordot(tf.transpose(X),Y,axes=1)"
      ],
      "metadata": {
        "colab": {
          "base_uri": "https://localhost:8080/"
        },
        "id": "ArT5x_5oQ4QG",
        "outputId": "507f9b8b-ce31-46df-d9b6-9ce7b94f846a"
      },
      "execution_count": null,
      "outputs": [
        {
          "output_type": "execute_result",
          "data": {
            "text/plain": [
              "<tf.Tensor: shape=(2, 2), dtype=int32, numpy=\n",
              "array([[ 89,  98],\n",
              "       [107, 118]], dtype=int32)>"
            ]
          },
          "metadata": {},
          "execution_count": 54
        }
      ]
    },
    {
      "cell_type": "code",
      "source": [
        "# Perform matrix multiplication between X and Y (transposed)\n",
        "tf.matmul(X, tf.transpose(Y))\n"
      ],
      "metadata": {
        "colab": {
          "base_uri": "https://localhost:8080/"
        },
        "id": "1m4Pdt-WRnl7",
        "outputId": "465ca0a8-dd83-44d5-c182-f4837880352e"
      },
      "execution_count": null,
      "outputs": [
        {
          "output_type": "execute_result",
          "data": {
            "text/plain": [
              "<tf.Tensor: shape=(3, 3), dtype=int32, numpy=\n",
              "array([[ 23,  29,  35],\n",
              "       [ 45,  57,  69],\n",
              "       [ 83, 105, 127]], dtype=int32)>"
            ]
          },
          "metadata": {},
          "execution_count": 55
        }
      ]
    },
    {
      "cell_type": "code",
      "source": [
        "# Perform matrix multiplication between X and Y (reshaped)\n",
        "tf.matmul(X, tf.reshape(Y,shape=(2,3)))"
      ],
      "metadata": {
        "colab": {
          "base_uri": "https://localhost:8080/"
        },
        "id": "_Tf8zm82R6l5",
        "outputId": "2fad1ebb-1485-4f4f-bd70-4b8baaf21b1f"
      },
      "execution_count": null,
      "outputs": [
        {
          "output_type": "execute_result",
          "data": {
            "text/plain": [
              "<tf.Tensor: shape=(3, 3), dtype=int32, numpy=\n",
              "array([[ 27,  30,  33],\n",
              "       [ 51,  57,  63],\n",
              "       [ 95, 106, 117]], dtype=int32)>"
            ]
          },
          "metadata": {},
          "execution_count": 56
        }
      ]
    },
    {
      "cell_type": "code",
      "source": [
        "# Check the values of Y, reshape Y and transposed Y\n",
        "print(\"Normal Y:\")\n",
        "print(Y, \"\\n\")\n",
        "\n",
        "\n",
        "print(\"Y reshaped to (2,3):\")\n",
        "print(tf.reshape(Y, shape=(2,3)),\"\\n\")\n",
        "\n",
        "print(\"Y transposed:\")\n",
        "print(tf.transpose(Y))"
      ],
      "metadata": {
        "colab": {
          "base_uri": "https://localhost:8080/"
        },
        "id": "xSLPHhn5SQNR",
        "outputId": "e5664da6-8dfc-4db9-e212-d0a5850579c5"
      },
      "execution_count": null,
      "outputs": [
        {
          "output_type": "stream",
          "name": "stdout",
          "text": [
            "Normal Y:\n",
            "tf.Tensor(\n",
            "[[ 7  8]\n",
            " [ 9 10]\n",
            " [11 12]], shape=(3, 2), dtype=int32) \n",
            "\n",
            "Y reshaped to (2,3):\n",
            "tf.Tensor(\n",
            "[[ 7  8  9]\n",
            " [10 11 12]], shape=(2, 3), dtype=int32) \n",
            "\n",
            "Y transposed:\n",
            "tf.Tensor(\n",
            "[[ 7  9 11]\n",
            " [ 8 10 12]], shape=(2, 3), dtype=int32)\n"
          ]
        }
      ]
    },
    {
      "cell_type": "code",
      "source": [
        "tf.matmul(X, tf.transpose(Y))"
      ],
      "metadata": {
        "colab": {
          "base_uri": "https://localhost:8080/"
        },
        "id": "tKp2BtxCThZb",
        "outputId": "17394f93-a944-46b1-f647-fd2ba2610ba3"
      },
      "execution_count": null,
      "outputs": [
        {
          "output_type": "execute_result",
          "data": {
            "text/plain": [
              "<tf.Tensor: shape=(3, 3), dtype=int32, numpy=\n",
              "array([[ 23,  29,  35],\n",
              "       [ 45,  57,  69],\n",
              "       [ 83, 105, 127]], dtype=int32)>"
            ]
          },
          "metadata": {},
          "execution_count": 58
        }
      ]
    },
    {
      "cell_type": "markdown",
      "source": [
        "Generally when performing matrix multiplication on two tensors,\n",
        "and one of the axes does not line up,\n",
        "you will transpose (rather tahn reshape) on of\n",
        "the tensors to satisfy the matrix multiplication\n",
        "rules.\n"
      ],
      "metadata": {
        "id": "-iPuDqYLT18m"
      }
    },
    {
      "cell_type": "markdown",
      "source": [
        "### Changing the data type of a tensor"
      ],
      "metadata": {
        "id": "3K2jwTRGBfnd"
      }
    },
    {
      "cell_type": "code",
      "source": [
        "# Create a tensor with a default dadatype float32\n",
        "B = tf.constant([1.7,7.4])\n",
        "B.dtype"
      ],
      "metadata": {
        "colab": {
          "base_uri": "https://localhost:8080/"
        },
        "id": "7vFX_rgbBo_p",
        "outputId": "49eeaa72-b74a-4b0c-ddcd-1a31f3a6cb8d"
      },
      "execution_count": null,
      "outputs": [
        {
          "output_type": "execute_result",
          "data": {
            "text/plain": [
              "tf.float32"
            ]
          },
          "metadata": {},
          "execution_count": 59
        }
      ]
    },
    {
      "cell_type": "code",
      "source": [
        "C = tf.constant([7,10])\n",
        "C.dtype"
      ],
      "metadata": {
        "colab": {
          "base_uri": "https://localhost:8080/"
        },
        "id": "e4LPBhKOCMOF",
        "outputId": "7770598b-a724-4e6f-e328-850216521ff9"
      },
      "execution_count": null,
      "outputs": [
        {
          "output_type": "execute_result",
          "data": {
            "text/plain": [
              "tf.int32"
            ]
          },
          "metadata": {},
          "execution_count": 60
        }
      ]
    },
    {
      "cell_type": "code",
      "source": [
        "# change tp float32 to float16\n",
        "B = tf.cast(B, dtype=tf.float16)\n",
        "B"
      ],
      "metadata": {
        "colab": {
          "base_uri": "https://localhost:8080/"
        },
        "id": "QUe8YAQkCX5b",
        "outputId": "f535aa80-2b78-46d5-bb83-d749fd87612f"
      },
      "execution_count": null,
      "outputs": [
        {
          "output_type": "execute_result",
          "data": {
            "text/plain": [
              "<tf.Tensor: shape=(2,), dtype=float16, numpy=array([1.7, 7.4], dtype=float16)>"
            ]
          },
          "metadata": {},
          "execution_count": 61
        }
      ]
    },
    {
      "cell_type": "code",
      "source": [
        "# Change from int32 to fload32\n",
        "E = tf.cast(B, dtype=tf.float32)\n",
        "E"
      ],
      "metadata": {
        "colab": {
          "base_uri": "https://localhost:8080/"
        },
        "id": "aZUddSy9DQ9n",
        "outputId": "b5759379-f7ac-4e03-9292-5a963260342e"
      },
      "execution_count": null,
      "outputs": [
        {
          "output_type": "execute_result",
          "data": {
            "text/plain": [
              "<tf.Tensor: shape=(2,), dtype=float32, numpy=array([1.7001953, 7.3984375], dtype=float32)>"
            ]
          },
          "metadata": {},
          "execution_count": 62
        }
      ]
    },
    {
      "cell_type": "code",
      "source": [
        "E_float16 = tf.cast(E, dtype=tf.float16)\n",
        "E_float16"
      ],
      "metadata": {
        "colab": {
          "base_uri": "https://localhost:8080/"
        },
        "id": "fkEwvWZQFHpc",
        "outputId": "819c7a90-003d-4278-e1cb-9833a6b01252"
      },
      "execution_count": null,
      "outputs": [
        {
          "output_type": "execute_result",
          "data": {
            "text/plain": [
              "<tf.Tensor: shape=(2,), dtype=float16, numpy=array([1.7, 7.4], dtype=float16)>"
            ]
          },
          "metadata": {},
          "execution_count": 63
        }
      ]
    },
    {
      "cell_type": "markdown",
      "source": [
        "### Aggregating tensors\n",
        "\n",
        "Aggregating tensors = condensing them to multiple values down to a smaller amount of values"
      ],
      "metadata": {
        "id": "DPwTttbdFYDI"
      }
    },
    {
      "cell_type": "code",
      "source": [
        "# Get the absolute values\n",
        "\n",
        "D = tf.constant([[-7,-10]])\n",
        "tf.abs(D)"
      ],
      "metadata": {
        "colab": {
          "base_uri": "https://localhost:8080/"
        },
        "id": "aq-bwhXkFbQg",
        "outputId": "bec08718-7554-4b4f-c826-5090e442a54f"
      },
      "execution_count": null,
      "outputs": [
        {
          "output_type": "execute_result",
          "data": {
            "text/plain": [
              "<tf.Tensor: shape=(1, 2), dtype=int32, numpy=array([[ 7, 10]], dtype=int32)>"
            ]
          },
          "metadata": {},
          "execution_count": 64
        }
      ]
    },
    {
      "cell_type": "markdown",
      "source": [
        "Lets go through the following forms of aggregation:\n",
        "* Get the minimun\n",
        "* Get the maximun\n",
        "* Get the mean of a tensor\n",
        "* Get the sum of a tensor"
      ],
      "metadata": {
        "id": "GrTFVXZYZF7c"
      }
    },
    {
      "cell_type": "code",
      "source": [
        "# Creating a random tensor width values between 0 and 100 of size 50\n",
        "E = tf.constant(np.random.randint(0,100,size=50))\n",
        "E\n",
        "\n"
      ],
      "metadata": {
        "colab": {
          "base_uri": "https://localhost:8080/"
        },
        "id": "_LCSsXDOZYvb",
        "outputId": "8c2d648d-6613-46ec-b7aa-6e47621016b8"
      },
      "execution_count": null,
      "outputs": [
        {
          "output_type": "execute_result",
          "data": {
            "text/plain": [
              "<tf.Tensor: shape=(50,), dtype=int64, numpy=\n",
              "array([16, 20, 51, 95, 95,  5, 94, 77, 76, 82, 66, 14, 86, 26, 56, 14, 60,\n",
              "        0, 85, 32, 98, 79, 87, 77, 50, 74, 36, 24, 20, 78,  8, 63, 43, 29,\n",
              "       73, 17, 44, 37, 69, 42, 91, 36, 76, 22, 50, 97, 50, 55, 73, 19])>"
            ]
          },
          "metadata": {},
          "execution_count": 65
        }
      ]
    },
    {
      "cell_type": "code",
      "source": [
        "tf.size(E), E.shape, E.ndim"
      ],
      "metadata": {
        "colab": {
          "base_uri": "https://localhost:8080/"
        },
        "id": "nVWNcfxlao0d",
        "outputId": "f2adefb9-15d9-4271-f792-eb022f7d056f"
      },
      "execution_count": null,
      "outputs": [
        {
          "output_type": "execute_result",
          "data": {
            "text/plain": [
              "(<tf.Tensor: shape=(), dtype=int32, numpy=50>, TensorShape([50]), 1)"
            ]
          },
          "metadata": {},
          "execution_count": 66
        }
      ]
    },
    {
      "cell_type": "code",
      "source": [
        "#Find the minimun\n",
        "tf.reduce_min(E)"
      ],
      "metadata": {
        "colab": {
          "base_uri": "https://localhost:8080/"
        },
        "id": "N-oyprvVawP9",
        "outputId": "51b33428-e737-4642-92a5-03727fdc053f"
      },
      "execution_count": null,
      "outputs": [
        {
          "output_type": "execute_result",
          "data": {
            "text/plain": [
              "<tf.Tensor: shape=(), dtype=int64, numpy=0>"
            ]
          },
          "metadata": {},
          "execution_count": 67
        }
      ]
    },
    {
      "cell_type": "code",
      "source": [
        "# Find the maximn\n",
        "tf.reduce_max(E)"
      ],
      "metadata": {
        "colab": {
          "base_uri": "https://localhost:8080/"
        },
        "id": "ro1yyUYTa5ID",
        "outputId": "436eaa8c-e7d9-4cc5-e55b-42a7005ec91d"
      },
      "execution_count": null,
      "outputs": [
        {
          "output_type": "execute_result",
          "data": {
            "text/plain": [
              "<tf.Tensor: shape=(), dtype=int64, numpy=98>"
            ]
          },
          "metadata": {},
          "execution_count": 68
        }
      ]
    },
    {
      "cell_type": "code",
      "source": [
        "#Find the mean\n",
        "tf.reduce_mean(E)"
      ],
      "metadata": {
        "colab": {
          "base_uri": "https://localhost:8080/"
        },
        "id": "bXIvgpP2a-qc",
        "outputId": "36a026a9-d440-4e9b-de62-9f3972253808"
      },
      "execution_count": null,
      "outputs": [
        {
          "output_type": "execute_result",
          "data": {
            "text/plain": [
              "<tf.Tensor: shape=(), dtype=int64, numpy=53>"
            ]
          },
          "metadata": {},
          "execution_count": 69
        }
      ]
    },
    {
      "cell_type": "code",
      "source": [
        "#Find the sum\n",
        "tf.reduce_sum(E)"
      ],
      "metadata": {
        "colab": {
          "base_uri": "https://localhost:8080/"
        },
        "id": "_iQPSRFGbDi6",
        "outputId": "4d9b3f2a-5f64-4004-8ab3-71a55c24a48c"
      },
      "execution_count": null,
      "outputs": [
        {
          "output_type": "execute_result",
          "data": {
            "text/plain": [
              "<tf.Tensor: shape=(), dtype=int64, numpy=2667>"
            ]
          },
          "metadata": {},
          "execution_count": 70
        }
      ]
    },
    {
      "cell_type": "code",
      "source": [
        "#Find the variance\n",
        "import tensorflow_probability as tfp\n",
        "tfp.stats.variance(E)"
      ],
      "metadata": {
        "colab": {
          "base_uri": "https://localhost:8080/"
        },
        "id": "I3h5LYo0cLgW",
        "outputId": "073b094f-02a1-4bb2-ae08-0520ca6f9155"
      },
      "execution_count": null,
      "outputs": [
        {
          "output_type": "execute_result",
          "data": {
            "text/plain": [
              "<tf.Tensor: shape=(), dtype=int64, numpy=819>"
            ]
          },
          "metadata": {},
          "execution_count": 71
        }
      ]
    },
    {
      "cell_type": "code",
      "source": [
        "# Find the standard deviation\n",
        "tf.math.reduce_std(tf.cast(E,dtype=tf.float32))"
      ],
      "metadata": {
        "colab": {
          "base_uri": "https://localhost:8080/"
        },
        "id": "06igpf9HeFEv",
        "outputId": "2a4684bb-0656-4cdb-8a94-acb5588204e6"
      },
      "execution_count": null,
      "outputs": [
        {
          "output_type": "execute_result",
          "data": {
            "text/plain": [
              "<tf.Tensor: shape=(), dtype=float32, numpy=28.6186>"
            ]
          },
          "metadata": {},
          "execution_count": 72
        }
      ]
    },
    {
      "cell_type": "markdown",
      "source": [
        "### Find the positional maximun and minimun\n",
        "\n"
      ],
      "metadata": {
        "id": "R_anGfBkfLyi"
      }
    },
    {
      "cell_type": "code",
      "source": [
        "# Create a new tensor for finding positional mimun and maximun\n",
        "tf.random.set_seed(42)\n",
        "F = tf.random.uniform(shape=[50])\n",
        "F"
      ],
      "metadata": {
        "colab": {
          "base_uri": "https://localhost:8080/"
        },
        "id": "bAJZ2RS-fUbH",
        "outputId": "1fa2c67e-df2b-41df-c140-c27768f671c6"
      },
      "execution_count": null,
      "outputs": [
        {
          "output_type": "execute_result",
          "data": {
            "text/plain": [
              "<tf.Tensor: shape=(50,), dtype=float32, numpy=\n",
              "array([0.6645621 , 0.44100678, 0.3528825 , 0.46448255, 0.03366041,\n",
              "       0.68467236, 0.74011743, 0.8724445 , 0.22632635, 0.22319686,\n",
              "       0.3103881 , 0.7223358 , 0.13318717, 0.5480639 , 0.5746088 ,\n",
              "       0.8996835 , 0.00946367, 0.5212307 , 0.6345445 , 0.1993283 ,\n",
              "       0.72942245, 0.54583454, 0.10756552, 0.6767061 , 0.6602763 ,\n",
              "       0.33695042, 0.60141766, 0.21062577, 0.8527372 , 0.44062173,\n",
              "       0.9485276 , 0.23752594, 0.81179297, 0.5263394 , 0.494308  ,\n",
              "       0.21612847, 0.8457197 , 0.8718841 , 0.3083862 , 0.6868038 ,\n",
              "       0.23764038, 0.7817228 , 0.9671384 , 0.06870162, 0.79873943,\n",
              "       0.66028714, 0.5871513 , 0.16461694, 0.7381023 , 0.32054043],\n",
              "      dtype=float32)>"
            ]
          },
          "metadata": {},
          "execution_count": 73
        }
      ]
    },
    {
      "cell_type": "code",
      "source": [
        "#Find the positional max\n",
        "tf.argmax(F)"
      ],
      "metadata": {
        "colab": {
          "base_uri": "https://localhost:8080/"
        },
        "id": "I_wTsoDvhH6d",
        "outputId": "0371f2dd-b145-44bf-dada-5f35fc91e8fa"
      },
      "execution_count": null,
      "outputs": [
        {
          "output_type": "execute_result",
          "data": {
            "text/plain": [
              "<tf.Tensor: shape=(), dtype=int64, numpy=42>"
            ]
          },
          "metadata": {},
          "execution_count": 74
        }
      ]
    },
    {
      "cell_type": "code",
      "source": [
        "# Find on our largest value positional\n",
        "F[tf.argmax(F)]\n"
      ],
      "metadata": {
        "colab": {
          "base_uri": "https://localhost:8080/"
        },
        "id": "WviTnuKAhWT8",
        "outputId": "ae5d4ef6-0854-46da-cf26-559a160b017d"
      },
      "execution_count": null,
      "outputs": [
        {
          "output_type": "execute_result",
          "data": {
            "text/plain": [
              "<tf.Tensor: shape=(), dtype=float32, numpy=0.9671384>"
            ]
          },
          "metadata": {},
          "execution_count": 75
        }
      ]
    },
    {
      "cell_type": "code",
      "source": [
        "#Find the max value of F\n",
        "tf.reduce_max(F)"
      ],
      "metadata": {
        "colab": {
          "base_uri": "https://localhost:8080/"
        },
        "id": "Y5LUgosohiKt",
        "outputId": "53004445-7992-4bd2-918d-df615fe2fa4e"
      },
      "execution_count": null,
      "outputs": [
        {
          "output_type": "execute_result",
          "data": {
            "text/plain": [
              "<tf.Tensor: shape=(), dtype=float32, numpy=0.9671384>"
            ]
          },
          "metadata": {},
          "execution_count": 76
        }
      ]
    },
    {
      "cell_type": "code",
      "source": [
        "# Check for equality\n",
        "F[tf.argmax(F)] == tf.reduce_max(F)"
      ],
      "metadata": {
        "colab": {
          "base_uri": "https://localhost:8080/"
        },
        "id": "zEHtqMjohokF",
        "outputId": "174d1c45-600f-450b-bbc2-5f715063b9d4"
      },
      "execution_count": null,
      "outputs": [
        {
          "output_type": "execute_result",
          "data": {
            "text/plain": [
              "<tf.Tensor: shape=(), dtype=bool, numpy=True>"
            ]
          },
          "metadata": {},
          "execution_count": 77
        }
      ]
    },
    {
      "cell_type": "code",
      "source": [
        "#Find the positional minimun\n",
        "tf.argmin(F)"
      ],
      "metadata": {
        "colab": {
          "base_uri": "https://localhost:8080/"
        },
        "id": "iwEtkPqniFdE",
        "outputId": "ae1b8d58-c5c4-4af0-f516-1bc570064689"
      },
      "execution_count": null,
      "outputs": [
        {
          "output_type": "execute_result",
          "data": {
            "text/plain": [
              "<tf.Tensor: shape=(), dtype=int64, numpy=16>"
            ]
          },
          "metadata": {},
          "execution_count": 78
        }
      ]
    },
    {
      "cell_type": "code",
      "source": [
        "#Find the miminun using the positional minimun index\n",
        "F[tf.argmin(F)]"
      ],
      "metadata": {
        "colab": {
          "base_uri": "https://localhost:8080/"
        },
        "id": "786nP4zQiLEb",
        "outputId": "abf55584-c722-4dcf-eada-4275f9264bea"
      },
      "execution_count": null,
      "outputs": [
        {
          "output_type": "execute_result",
          "data": {
            "text/plain": [
              "<tf.Tensor: shape=(), dtype=float32, numpy=0.009463668>"
            ]
          },
          "metadata": {},
          "execution_count": 79
        }
      ]
    },
    {
      "cell_type": "markdown",
      "source": [
        "### Squeezing a tensor (removin all single dimensions)"
      ],
      "metadata": {
        "id": "u-_WZcF0ihIb"
      }
    },
    {
      "cell_type": "code",
      "source": [
        "tf.random.set_seed(42)\n",
        "G = tf.constant(tf.random.uniform(shape=[50]), shape=(1,1,1,1,50))\n",
        "G"
      ],
      "metadata": {
        "colab": {
          "base_uri": "https://localhost:8080/"
        },
        "id": "hk94QsAqimDw",
        "outputId": "24bd63fc-567a-45c1-daf3-72811386755d"
      },
      "execution_count": null,
      "outputs": [
        {
          "output_type": "execute_result",
          "data": {
            "text/plain": [
              "<tf.Tensor: shape=(1, 1, 1, 1, 50), dtype=float32, numpy=\n",
              "array([[[[[0.6645621 , 0.44100678, 0.3528825 , 0.46448255, 0.03366041,\n",
              "           0.68467236, 0.74011743, 0.8724445 , 0.22632635, 0.22319686,\n",
              "           0.3103881 , 0.7223358 , 0.13318717, 0.5480639 , 0.5746088 ,\n",
              "           0.8996835 , 0.00946367, 0.5212307 , 0.6345445 , 0.1993283 ,\n",
              "           0.72942245, 0.54583454, 0.10756552, 0.6767061 , 0.6602763 ,\n",
              "           0.33695042, 0.60141766, 0.21062577, 0.8527372 , 0.44062173,\n",
              "           0.9485276 , 0.23752594, 0.81179297, 0.5263394 , 0.494308  ,\n",
              "           0.21612847, 0.8457197 , 0.8718841 , 0.3083862 , 0.6868038 ,\n",
              "           0.23764038, 0.7817228 , 0.9671384 , 0.06870162, 0.79873943,\n",
              "           0.66028714, 0.5871513 , 0.16461694, 0.7381023 , 0.32054043]]]]],\n",
              "      dtype=float32)>"
            ]
          },
          "metadata": {},
          "execution_count": 80
        }
      ]
    },
    {
      "cell_type": "code",
      "source": [
        "G.shape"
      ],
      "metadata": {
        "colab": {
          "base_uri": "https://localhost:8080/"
        },
        "id": "RtdmK2mjjDmI",
        "outputId": "ec01a9df-9df0-4300-e00b-a52a51f171cf"
      },
      "execution_count": null,
      "outputs": [
        {
          "output_type": "execute_result",
          "data": {
            "text/plain": [
              "TensorShape([1, 1, 1, 1, 50])"
            ]
          },
          "metadata": {},
          "execution_count": 81
        }
      ]
    },
    {
      "cell_type": "code",
      "source": [
        "G_squeezed = tf.squeeze(G)\n",
        "G_squeezed, G_squeezed.shape"
      ],
      "metadata": {
        "colab": {
          "base_uri": "https://localhost:8080/"
        },
        "id": "qCKTzo3sjFq7",
        "outputId": "111be611-8975-4555-9699-4594e3f08c23"
      },
      "execution_count": null,
      "outputs": [
        {
          "output_type": "execute_result",
          "data": {
            "text/plain": [
              "(<tf.Tensor: shape=(50,), dtype=float32, numpy=\n",
              " array([0.6645621 , 0.44100678, 0.3528825 , 0.46448255, 0.03366041,\n",
              "        0.68467236, 0.74011743, 0.8724445 , 0.22632635, 0.22319686,\n",
              "        0.3103881 , 0.7223358 , 0.13318717, 0.5480639 , 0.5746088 ,\n",
              "        0.8996835 , 0.00946367, 0.5212307 , 0.6345445 , 0.1993283 ,\n",
              "        0.72942245, 0.54583454, 0.10756552, 0.6767061 , 0.6602763 ,\n",
              "        0.33695042, 0.60141766, 0.21062577, 0.8527372 , 0.44062173,\n",
              "        0.9485276 , 0.23752594, 0.81179297, 0.5263394 , 0.494308  ,\n",
              "        0.21612847, 0.8457197 , 0.8718841 , 0.3083862 , 0.6868038 ,\n",
              "        0.23764038, 0.7817228 , 0.9671384 , 0.06870162, 0.79873943,\n",
              "        0.66028714, 0.5871513 , 0.16461694, 0.7381023 , 0.32054043],\n",
              "       dtype=float32)>, TensorShape([50]))"
            ]
          },
          "metadata": {},
          "execution_count": 82
        }
      ]
    },
    {
      "cell_type": "markdown",
      "source": [
        "### One-Hot enconding Tensors"
      ],
      "metadata": {
        "id": "5bJs27GujY20"
      }
    },
    {
      "cell_type": "code",
      "source": [
        "# Create a list of indices\n",
        "some_list = [0,1,2,3] \n",
        "\n",
        "#One hot encode our list of indices\n",
        "tf.one_hot(some_list, depth=4)"
      ],
      "metadata": {
        "colab": {
          "base_uri": "https://localhost:8080/"
        },
        "id": "AAmiIsvSjbrA",
        "outputId": "e812602f-2531-4019-9a76-10c061c69172"
      },
      "execution_count": null,
      "outputs": [
        {
          "output_type": "execute_result",
          "data": {
            "text/plain": [
              "<tf.Tensor: shape=(4, 4), dtype=float32, numpy=\n",
              "array([[1., 0., 0., 0.],\n",
              "       [0., 1., 0., 0.],\n",
              "       [0., 0., 1., 0.],\n",
              "       [0., 0., 0., 1.]], dtype=float32)>"
            ]
          },
          "metadata": {},
          "execution_count": 83
        }
      ]
    },
    {
      "cell_type": "code",
      "source": [
        "# Specific custom values for one-hot  encoding\n",
        "tf.one_hot(some_list,depth=4,on_value=\"AA\",off_value=\"ZZ\")"
      ],
      "metadata": {
        "colab": {
          "base_uri": "https://localhost:8080/"
        },
        "id": "OTy1_FeLkgoS",
        "outputId": "fa504add-7d71-42f0-b294-ac9a4997e78c"
      },
      "execution_count": null,
      "outputs": [
        {
          "output_type": "execute_result",
          "data": {
            "text/plain": [
              "<tf.Tensor: shape=(4, 4), dtype=string, numpy=\n",
              "array([[b'AA', b'ZZ', b'ZZ', b'ZZ'],\n",
              "       [b'ZZ', b'AA', b'ZZ', b'ZZ'],\n",
              "       [b'ZZ', b'ZZ', b'AA', b'ZZ'],\n",
              "       [b'ZZ', b'ZZ', b'ZZ', b'AA']], dtype=object)>"
            ]
          },
          "metadata": {},
          "execution_count": 84
        }
      ]
    },
    {
      "cell_type": "markdown",
      "source": [
        "### Squaring, log, square root"
      ],
      "metadata": {
        "id": "0CPcWGAf1G2r"
      }
    },
    {
      "cell_type": "code",
      "source": [
        "# Create a new twnsor\n",
        "H = tf.range(1,10)\n",
        "H"
      ],
      "metadata": {
        "colab": {
          "base_uri": "https://localhost:8080/"
        },
        "id": "m49HlGo21Sry",
        "outputId": "bcbf1ab3-9f0e-4ff1-da31-80ff0a6c0d64"
      },
      "execution_count": null,
      "outputs": [
        {
          "output_type": "execute_result",
          "data": {
            "text/plain": [
              "<tf.Tensor: shape=(9,), dtype=int32, numpy=array([1, 2, 3, 4, 5, 6, 7, 8, 9], dtype=int32)>"
            ]
          },
          "metadata": {},
          "execution_count": 85
        }
      ]
    },
    {
      "cell_type": "code",
      "source": [
        "# Square it\n",
        "tf.square(H)"
      ],
      "metadata": {
        "colab": {
          "base_uri": "https://localhost:8080/"
        },
        "id": "XaAH-dUj1X06",
        "outputId": "310dafd4-8b11-4d33-a052-1b47402e9ede"
      },
      "execution_count": null,
      "outputs": [
        {
          "output_type": "execute_result",
          "data": {
            "text/plain": [
              "<tf.Tensor: shape=(9,), dtype=int32, numpy=array([ 1,  4,  9, 16, 25, 36, 49, 64, 81], dtype=int32)>"
            ]
          },
          "metadata": {},
          "execution_count": 86
        }
      ]
    },
    {
      "cell_type": "code",
      "source": [
        "# Find the square root (will error, method requires non-int type)\n",
        "tf.sqrt(H)"
      ],
      "metadata": {
        "id": "fNKWi-8B1-xo"
      },
      "execution_count": null,
      "outputs": []
    },
    {
      "cell_type": "code",
      "source": [
        "#Find the square root\n",
        "\n",
        "tf.sqrt(tf.cast(H, dtype=tf.float32))"
      ],
      "metadata": {
        "colab": {
          "base_uri": "https://localhost:8080/"
        },
        "id": "tJgAnVc01daU",
        "outputId": "26cd49cf-eef4-4473-b0ec-71dca75d8920"
      },
      "execution_count": null,
      "outputs": [
        {
          "output_type": "execute_result",
          "data": {
            "text/plain": [
              "<tf.Tensor: shape=(9,), dtype=float32, numpy=\n",
              "array([0.99999994, 1.4142134 , 1.7320508 , 1.9999999 , 2.236068  ,\n",
              "       2.4494896 , 2.6457512 , 2.8284268 , 3.        ], dtype=float32)>"
            ]
          },
          "metadata": {},
          "execution_count": 88
        }
      ]
    },
    {
      "cell_type": "code",
      "source": [
        "#Find the log\n",
        "\n",
        "tf.math.log(tf.cast(H, dtype=tf.float32))"
      ],
      "metadata": {
        "colab": {
          "base_uri": "https://localhost:8080/"
        },
        "id": "nWvvk9Xa2NF1",
        "outputId": "cabaf2ee-2795-4dbf-941d-45f3b7c60882"
      },
      "execution_count": null,
      "outputs": [
        {
          "output_type": "execute_result",
          "data": {
            "text/plain": [
              "<tf.Tensor: shape=(9,), dtype=float32, numpy=\n",
              "array([0.       , 0.6931472, 1.0986123, 1.3862944, 1.609438 , 1.7917595,\n",
              "       1.9459102, 2.0794415, 2.1972246], dtype=float32)>"
            ]
          },
          "metadata": {},
          "execution_count": 90
        }
      ]
    },
    {
      "cell_type": "markdown",
      "source": [
        "### Tensors & Numpy\n",
        "\n",
        "Tensors flow interacts beautifully with numpy arrays"
      ],
      "metadata": {
        "id": "hOtOq5TK2sxl"
      }
    },
    {
      "cell_type": "code",
      "source": [
        "# Create a tensor directly from a Numpy array\n",
        "\n",
        "J = tf.constant(np.array([3.,7.,10.]) )\n",
        "\n",
        "J"
      ],
      "metadata": {
        "colab": {
          "base_uri": "https://localhost:8080/"
        },
        "id": "RJDWdTCb2wEp",
        "outputId": "a9c8db58-4e81-4009-d097-18d6fd96bc56"
      },
      "execution_count": null,
      "outputs": [
        {
          "output_type": "execute_result",
          "data": {
            "text/plain": [
              "<tf.Tensor: shape=(3,), dtype=float64, numpy=array([ 3.,  7., 10.])>"
            ]
          },
          "metadata": {},
          "execution_count": 91
        }
      ]
    },
    {
      "cell_type": "code",
      "source": [
        "#Convert our tensor back to numpy array\n",
        "\n",
        "np.array(J), type(np.array(J))"
      ],
      "metadata": {
        "colab": {
          "base_uri": "https://localhost:8080/"
        },
        "id": "VUQNG3xn3IPC",
        "outputId": "f6774890-f714-481c-8e3f-5a6b05ec227a"
      },
      "execution_count": null,
      "outputs": [
        {
          "output_type": "execute_result",
          "data": {
            "text/plain": [
              "(array([ 3.,  7., 10.]), numpy.ndarray)"
            ]
          },
          "metadata": {},
          "execution_count": 92
        }
      ]
    },
    {
      "cell_type": "code",
      "source": [
        "# Convert tensor J to a Numpy array\n",
        "\n",
        "J.numpy(), type(J.numpy())"
      ],
      "metadata": {
        "colab": {
          "base_uri": "https://localhost:8080/"
        },
        "id": "3ApcxHpZ3Wjd",
        "outputId": "28ca5a61-3832-4026-f655-d32e4609b19c"
      },
      "execution_count": null,
      "outputs": [
        {
          "output_type": "execute_result",
          "data": {
            "text/plain": [
              "(array([ 3.,  7., 10.]), numpy.ndarray)"
            ]
          },
          "metadata": {},
          "execution_count": 94
        }
      ]
    },
    {
      "cell_type": "code",
      "source": [
        "J = tf.constant([3.])\n",
        "J.numpy()[0]"
      ],
      "metadata": {
        "colab": {
          "base_uri": "https://localhost:8080/"
        },
        "id": "9TxK7QXi3lAZ",
        "outputId": "643ed30b-34f9-40fb-af2d-ff39b823e705"
      },
      "execution_count": null,
      "outputs": [
        {
          "output_type": "execute_result",
          "data": {
            "text/plain": [
              "3.0"
            ]
          },
          "metadata": {},
          "execution_count": 96
        }
      ]
    },
    {
      "cell_type": "code",
      "source": [
        "# Default type of each are aslighty different\n",
        "numpy_J = tf.constant(np.array([3.,7.,10.]))\n",
        "tensor_J = tf.constant([3.,7.,10.])\n",
        "\n",
        "# Check the datatypes of each\n",
        "\n",
        "numpy_J.dtype, tensor_J.dtype "
      ],
      "metadata": {
        "colab": {
          "base_uri": "https://localhost:8080/"
        },
        "id": "ewVNUF8d3ysy",
        "outputId": "744080cb-2e1e-436b-c9e2-43f907896eab"
      },
      "execution_count": null,
      "outputs": [
        {
          "output_type": "execute_result",
          "data": {
            "text/plain": [
              "(tf.float64, tf.float32)"
            ]
          },
          "metadata": {},
          "execution_count": 97
        }
      ]
    },
    {
      "cell_type": "markdown",
      "source": [
        "### Finding access to GPUs"
      ],
      "metadata": {
        "id": "1gKhf4gE4_-b"
      }
    },
    {
      "cell_type": "code",
      "source": [
        "tf.config.list_logical_devices()"
      ],
      "metadata": {
        "colab": {
          "base_uri": "https://localhost:8080/"
        },
        "id": "x99zK1p55DDS",
        "outputId": "0ee019d8-b483-4db6-d038-6130f36fcf78"
      },
      "execution_count": null,
      "outputs": [
        {
          "output_type": "execute_result",
          "data": {
            "text/plain": [
              "[LogicalDevice(name='/device:CPU:0', device_type='CPU')]"
            ]
          },
          "metadata": {},
          "execution_count": 100
        }
      ]
    },
    {
      "cell_type": "code",
      "source": [
        "!nvidia-smi"
      ],
      "metadata": {
        "colab": {
          "base_uri": "https://localhost:8080/"
        },
        "id": "66y9CwoY5gtS",
        "outputId": "6e6f4959-ee61-4c5d-f9dc-68cace494903"
      },
      "execution_count": null,
      "outputs": [
        {
          "output_type": "stream",
          "name": "stdout",
          "text": [
            "NVIDIA-SMI has failed because it couldn't communicate with the NVIDIA driver. Make sure that the latest NVIDIA driver is installed and running.\n",
            "\n"
          ]
        }
      ]
    },
    {
      "cell_type": "markdown",
      "source": [
        "### If you have access to a CUDA-enabled GPU, Tensorflow will automatically use it whenever possible"
      ],
      "metadata": {
        "id": "2RRF-FWoQh_b"
      }
    },
    {
      "cell_type": "markdown",
      "source": [
        "# Neural Network Regression with TensorFlow"
      ],
      "metadata": {
        "id": "S1VmITSK4dC9"
      }
    },
    {
      "cell_type": "markdown",
      "source": [
        "### Introduction to regression with neural netwroks in TF\n",
        "\n",
        "There are many definitions for a regression problema but in pur case, ew're going to simplify it: prediction a numerical variable based on some other combination of variables, even shorter... predicting a number."
      ],
      "metadata": {
        "id": "lMQeJdPWCI0w"
      }
    },
    {
      "cell_type": "code",
      "source": [
        "# Import TF\n",
        "import tensorflow as tf\n"
      ],
      "metadata": {
        "id": "r9D-KmDKCq5l"
      },
      "execution_count": 1,
      "outputs": []
    },
    {
      "cell_type": "markdown",
      "source": [
        "## Creating some data to view and fit"
      ],
      "metadata": {
        "id": "IbeeaKjnDBL6"
      }
    },
    {
      "cell_type": "code",
      "source": [
        "import numpy as np \n",
        "import matplotlib.pyplot as plt\n",
        "\n",
        "#Create features\n",
        "X = np.array([-7.0,-4.0,-1.0,2.0,5.0,8.0,11.0,14.0])\n",
        "\n",
        "#Create labels\n",
        "y = np.array([3.0,6.0,9.0,12.0,15.0,18.0,21.0,24.0])\n",
        "\n",
        "#Visualize it\n",
        "plt.scatter(X,y)"
      ],
      "metadata": {
        "colab": {
          "base_uri": "https://localhost:8080/",
          "height": 286
        },
        "id": "SFfVxAQLDIe2",
        "outputId": "be68adc8-c5d2-4318-d2e5-5ccd1efef598"
      },
      "execution_count": 2,
      "outputs": [
        {
          "output_type": "execute_result",
          "data": {
            "text/plain": [
              "<matplotlib.collections.PathCollection at 0x7f0d42e02f90>"
            ]
          },
          "metadata": {},
          "execution_count": 2
        },
        {
          "output_type": "display_data",
          "data": {
            "text/plain": [
              "<Figure size 432x288 with 1 Axes>"
            ],
            "image/png": "[encoded data removed]"
          },
          "metadata": {
            "needs_background": "light"
          }
        }
      ]
    },
    {
      "cell_type": "code",
      "source": [
        "y == X + 10"
      ],
      "metadata": {
        "colab": {
          "base_uri": "https://localhost:8080/"
        },
        "id": "MPXp2na3EXR4",
        "outputId": "38800fac-43af-48d2-ea18-65313a2955d2"
      },
      "execution_count": 3,
      "outputs": [
        {
          "output_type": "execute_result",
          "data": {
            "text/plain": [
              "array([ True,  True,  True,  True,  True,  True,  True,  True])"
            ]
          },
          "metadata": {},
          "execution_count": 3
        }
      ]
    },
    {
      "cell_type": "markdown",
      "source": [
        "## Input and output shapes"
      ],
      "metadata": {
        "id": "s7Nb5sANEg8M"
      }
    },
    {
      "cell_type": "code",
      "source": [
        "# Create a demo tensor for our housing price predictiong problem\n",
        "house_info = tf.constant([\"Bedroom\",\"bathroom\",\"garage\"])\n",
        "house_price = tf.constant([939700])\n",
        "house_info,house_price"
      ],
      "metadata": {
        "colab": {
          "base_uri": "https://localhost:8080/"
        },
        "id": "nikMR-vlEjki",
        "outputId": "088e4f96-c907-45b6-e4d6-1cc5f866919b"
      },
      "execution_count": 4,
      "outputs": [
        {
          "output_type": "execute_result",
          "data": {
            "text/plain": [
              "(<tf.Tensor: shape=(3,), dtype=string, numpy=array([b'Bedroom', b'bathroom', b'garage'], dtype=object)>,\n",
              " <tf.Tensor: shape=(1,), dtype=int32, numpy=array([939700], dtype=int32)>)"
            ]
          },
          "metadata": {},
          "execution_count": 4
        }
      ]
    },
    {
      "cell_type": "code",
      "source": [
        "X[0],y[0]"
      ],
      "metadata": {
        "colab": {
          "base_uri": "https://localhost:8080/"
        },
        "id": "FzZdmoO0GFlD",
        "outputId": "528e1ab0-084a-48f5-ef7d-ade66fbbacae"
      },
      "execution_count": 5,
      "outputs": [
        {
          "output_type": "execute_result",
          "data": {
            "text/plain": [
              "(-7.0, 3.0)"
            ]
          },
          "metadata": {},
          "execution_count": 5
        }
      ]
    },
    {
      "cell_type": "code",
      "source": [
        "X[1],y[1]"
      ],
      "metadata": {
        "colab": {
          "base_uri": "https://localhost:8080/"
        },
        "id": "k0Guldq3GKBF",
        "outputId": "0f6853b2-03e4-42d6-a22e-3f956b89077d"
      },
      "execution_count": 6,
      "outputs": [
        {
          "output_type": "execute_result",
          "data": {
            "text/plain": [
              "(-4.0, 6.0)"
            ]
          },
          "metadata": {},
          "execution_count": 6
        }
      ]
    },
    {
      "cell_type": "code",
      "source": [
        "input_shape = X.shape\n",
        "output_shape = y.shape\n",
        "\n",
        "input_shape, output_shape\n"
      ],
      "metadata": {
        "colab": {
          "base_uri": "https://localhost:8080/"
        },
        "id": "QLW0a9tLFnBm",
        "outputId": "45d150b6-074b-4339-c615-5c1af2ace7be"
      },
      "execution_count": 7,
      "outputs": [
        {
          "output_type": "execute_result",
          "data": {
            "text/plain": [
              "((8,), (8,))"
            ]
          },
          "metadata": {},
          "execution_count": 7
        }
      ]
    },
    {
      "cell_type": "code",
      "source": [
        "#Turn our Numpy arrays into tensors\n",
        "\n",
        "X = tf.constant(X)\n",
        "y = tf.constant(y)\n",
        "X,y"
      ],
      "metadata": {
        "colab": {
          "base_uri": "https://localhost:8080/"
        },
        "id": "_wA_zLoCHMf3",
        "outputId": "06080680-841e-4ec5-c2ef-6e63e44cf63b"
      },
      "execution_count": 8,
      "outputs": [
        {
          "output_type": "execute_result",
          "data": {
            "text/plain": [
              "(<tf.Tensor: shape=(8,), dtype=float64, numpy=array([-7., -4., -1.,  2.,  5.,  8., 11., 14.])>,\n",
              " <tf.Tensor: shape=(8,), dtype=float64, numpy=array([ 3.,  6.,  9., 12., 15., 18., 21., 24.])>)"
            ]
          },
          "metadata": {},
          "execution_count": 8
        }
      ]
    },
    {
      "cell_type": "code",
      "source": [
        "input_shape = X[0].shape\n",
        "output_shape = y[0].shape\n",
        "input_shape, output_shape"
      ],
      "metadata": {
        "colab": {
          "base_uri": "https://localhost:8080/"
        },
        "id": "jy4U5W6XHlpv",
        "outputId": "a7caab3e-0eaf-477c-803f-b5bc8ce899cc"
      },
      "execution_count": 9,
      "outputs": [
        {
          "output_type": "execute_result",
          "data": {
            "text/plain": [
              "(TensorShape([]), TensorShape([]))"
            ]
          },
          "metadata": {},
          "execution_count": 9
        }
      ]
    },
    {
      "cell_type": "code",
      "source": [
        "plt.scatter(X,y)"
      ],
      "metadata": {
        "colab": {
          "base_uri": "https://localhost:8080/",
          "height": 286
        },
        "id": "GIFvEe6uH1Ur",
        "outputId": "41fc3c2c-8343-4522-ac65-fa12b3feb443"
      },
      "execution_count": 10,
      "outputs": [
        {
          "output_type": "execute_result",
          "data": {
            "text/plain": [
              "<matplotlib.collections.PathCollection at 0x7f0d42e02d10>"
            ]
          },
          "metadata": {},
          "execution_count": 10
        },
        {
          "output_type": "display_data",
          "data": {
            "text/plain": [
              "<Figure size 432x288 with 1 Axes>"
            ],
            "image/png": "[encoded data removed]"
          },
          "metadata": {
            "needs_background": "light"
          }
        }
      ]
    },
    {
      "cell_type": "markdown",
      "source": [
        "## Steps in modelling with TensorFlow\n",
        "1. **Creating a model** - Define the input and output layers, as well as the hidden layers of a deep learning model.\n",
        "2. **Compiling a model** - Define the loss function (in other words, the function which tells our model how wrong it is) and the optimizaer (tells our model how to improve the patterns its learning) and evaluation metrics (what we can use to interpret the performance of our model).\n",
        "3. **Fitting a model** - Letting the model try to find patterns between X & y (features and labels)."
      ],
      "metadata": {
        "id": "MPTcKxIWIVnJ"
      }
    },
    {
      "cell_type": "code",
      "source": [
        "# Set random seed\n",
        "tf.random.set_seed(42)\n",
        "\n",
        "# 1. Create a model using the sequential API\n",
        "model = tf.keras.Sequential([\n",
        "  tf.keras.layers.Dense(1)\n",
        "])\n",
        "\n",
        "# 2. Compile the model\n",
        "model.compile(loss=tf.keras.losses.mae, # MAE is short for Mean Absolute Error\n",
        "              optimizer=tf.keras.optimizers.SGD(), #SGD is short for Stochastic gradient descent\n",
        "              metrics=[\"mae\"])\n",
        "\n",
        "# 3. Fit the model\n",
        "model.fit(tf.expand_dims(X, axis=-1),y, epochs=5)"
      ],
      "metadata": {
        "colab": {
          "base_uri": "https://localhost:8080/"
        },
        "id": "fwSETrtgJPOJ",
        "outputId": "7f03cd53-2cb0-49f8-b0b0-d59f75472992"
      },
      "execution_count": 11,
      "outputs": [
        {
          "output_type": "stream",
          "name": "stdout",
          "text": [
            "Epoch 1/5\n",
            "1/1 [==============================] - 1s 977ms/step - loss: 11.5048 - mae: 11.5048\n",
            "Epoch 2/5\n",
            "1/1 [==============================] - 0s 11ms/step - loss: 11.3723 - mae: 11.3723\n",
            "Epoch 3/5\n",
            "1/1 [==============================] - 0s 9ms/step - loss: 11.2398 - mae: 11.2398\n",
            "Epoch 4/5\n",
            "1/1 [==============================] - 0s 15ms/step - loss: 11.1073 - mae: 11.1073\n",
            "Epoch 5/5\n",
            "1/1 [==============================] - 0s 23ms/step - loss: 10.9748 - mae: 10.9748\n"
          ]
        },
        {
          "output_type": "execute_result",
          "data": {
            "text/plain": [
              "<keras.callbacks.History at 0x7f0d42d7ed10>"
            ]
          },
          "metadata": {},
          "execution_count": 11
        }
      ]
    },
    {
      "cell_type": "code",
      "source": [
        "# Check out X and y\n",
        "X,y"
      ],
      "metadata": {
        "colab": {
          "base_uri": "https://localhost:8080/"
        },
        "id": "BheJ_NuHPiK5",
        "outputId": "5d1a3c79-ce6d-4784-8c87-5c7570fdafdf"
      },
      "execution_count": 12,
      "outputs": [
        {
          "output_type": "execute_result",
          "data": {
            "text/plain": [
              "(<tf.Tensor: shape=(8,), dtype=float64, numpy=array([-7., -4., -1.,  2.,  5.,  8., 11., 14.])>,\n",
              " <tf.Tensor: shape=(8,), dtype=float64, numpy=array([ 3.,  6.,  9., 12., 15., 18., 21., 24.])>)"
            ]
          },
          "metadata": {},
          "execution_count": 12
        }
      ]
    },
    {
      "cell_type": "code",
      "source": [
        "# Try and make a prediction using our model\n",
        "model.predict([17.0])"
      ],
      "metadata": {
        "colab": {
          "base_uri": "https://localhost:8080/"
        },
        "id": "tGoBnrXRPmvS",
        "outputId": "9aa90068-8750-4090-f5ab-1673e203b5ed"
      },
      "execution_count": 13,
      "outputs": [
        {
          "output_type": "execute_result",
          "data": {
            "text/plain": [
              "array([[12.716021]], dtype=float32)"
            ]
          },
          "metadata": {},
          "execution_count": 13
        }
      ]
    },
    {
      "cell_type": "markdown",
      "source": [
        "## Improving our model\n",
        "We can improve our model, by altering the steps we took to create a model.\n",
        "1. **Creating a model** - Here we might add more layers, increase the number of hidden units (all called neuron) within each of the hidden layers, change the activation function of each layer.\n",
        "2. **Compiling a model** - Here we might change the optimization function or perhaps the **learning rate** of the optimization function.\n",
        "3. **Fitting the model** - Here we might fit a model for more **epochs** (leave it training for longer) or on more data (give the model more examples to learn from)."
      ],
      "metadata": {
        "id": "lGx1ABTNQen2"
      }
    },
    {
      "cell_type": "code",
      "source": [
        "from logging import logProcesses\n",
        "# Lets rebuild our model\n",
        "\n",
        "# 1. Create the model\n",
        "model = tf.keras.Sequential([\n",
        "    tf.keras.layers.Dense(1)\n",
        "])\n",
        "\n",
        "# 2. Compile the model\n",
        "model.compile(loss=tf.keras.losses.mae,\n",
        "               optimizer=tf.keras.optimizers.SGD(),\n",
        "               metrics=[\"mae\"]\n",
        ")\n",
        "\n",
        "# 3. Fit the model (this time we will train for longer)\n",
        "model.fit(tf.expand_dims(X, axis=-1),y, epochs=2000)"
      ],
      "metadata": {
        "colab": {
          "base_uri": "https://localhost:8080/"
        },
        "id": "KQPh1RiWbhQD",
        "outputId": "11640857-edef-4596-f49f-18ea0a0f547f"
      },
      "execution_count": 14,
      "outputs": [
        {
          "output_type": "stream",
          "name": "stdout",
          "text": [
            "Epoch 1/2000\n",
            "1/1 [==============================] - 1s 641ms/step - loss: 11.2219 - mae: 11.2219\n",
            "Epoch 2/2000\n",
            "1/1 [==============================] - 0s 11ms/step - loss: 11.0894 - mae: 11.0894\n",
            "Epoch 3/2000\n",
            "1/1 [==============================] - 0s 11ms/step - loss: 10.9569 - mae: 10.9569\n",
            "Epoch 4/2000\n",
            "1/1 [==============================] - 0s 11ms/step - loss: 10.8244 - mae: 10.8244\n",
            "Epoch 5/2000\n",
            "1/1 [==============================] - 0s 20ms/step - loss: 10.6919 - mae: 10.6919\n",
            "Epoch 6/2000\n",
            "1/1 [==============================] - 0s 7ms/step - loss: 10.5594 - mae: 10.5594\n",
            "Epoch 7/2000\n",
            "1/1 [==============================] - 0s 15ms/step - loss: 10.4269 - mae: 10.4269\n",
            "Epoch 8/2000\n",
            "1/1 [==============================] - 0s 12ms/step - loss: 10.2944 - mae: 10.2944\n",
            "Epoch 9/2000\n",
            "1/1 [==============================] - 0s 7ms/step - loss: 10.1619 - mae: 10.1619\n",
            "Epoch 10/2000\n",
            "1/1 [==============================] - 0s 7ms/step - loss: 10.0294 - mae: 10.0294\n",
            "Epoch 11/2000\n",
            "1/1 [==============================] - 0s 7ms/step - loss: 9.8969 - mae: 9.8969\n",
            "Epoch 12/2000\n",
            "1/1 [==============================] - 0s 7ms/step - loss: 9.7644 - mae: 9.7644\n",
            "Epoch 13/2000\n",
            "1/1 [==============================] - 0s 11ms/step - loss: 9.6319 - mae: 9.6319\n",
            "Epoch 14/2000\n",
            "1/1 [==============================] - 0s 8ms/step - loss: 9.4994 - mae: 9.4994\n",
            "Epoch 15/2000\n",
            "1/1 [==============================] - 0s 16ms/step - loss: 9.3669 - mae: 9.3669\n",
            "Epoch 16/2000\n",
            "1/1 [==============================] - 0s 7ms/step - loss: 9.2344 - mae: 9.2344\n",
            "Epoch 17/2000\n",
            "1/1 [==============================] - 0s 7ms/step - loss: 9.1019 - mae: 9.1019\n",
            "Epoch 18/2000\n",
            "1/1 [==============================] - 0s 7ms/step - loss: 8.9694 - mae: 8.9694\n",
            "Epoch 19/2000\n",
            "1/1 [==============================] - 0s 15ms/step - loss: 8.8369 - mae: 8.8369\n",
            "Epoch 20/2000\n",
            "1/1 [==============================] - 0s 12ms/step - loss: 8.7044 - mae: 8.7044\n",
            "Epoch 21/2000\n",
            "1/1 [==============================] - 0s 22ms/step - loss: 8.5719 - mae: 8.5719\n",
            "Epoch 22/2000\n",
            "1/1 [==============================] - 0s 21ms/step - loss: 8.4394 - mae: 8.4394\n",
            "Epoch 23/2000\n",
            "1/1 [==============================] - 0s 25ms/step - loss: 8.3069 - mae: 8.3069\n",
            "Epoch 24/2000\n",
            "1/1 [==============================] - 0s 6ms/step - loss: 8.1744 - mae: 8.1744\n",
            "Epoch 25/2000\n",
            "1/1 [==============================] - 0s 6ms/step - loss: 8.0419 - mae: 8.0419\n",
            "Epoch 26/2000\n",
            "1/1 [==============================] - 0s 6ms/step - loss: 7.9094 - mae: 7.9094\n",
            "Epoch 27/2000\n",
            "1/1 [==============================] - 0s 7ms/step - loss: 7.7769 - mae: 7.7769\n",
            "Epoch 28/2000\n",
            "1/1 [==============================] - 0s 7ms/step - loss: 7.6444 - mae: 7.6444\n",
            "Epoch 29/2000\n",
            "1/1 [==============================] - 0s 6ms/step - loss: 7.5119 - mae: 7.5119\n",
            "Epoch 30/2000\n",
            "1/1 [==============================] - 0s 7ms/step - loss: 7.3794 - mae: 7.3794\n",
            "Epoch 31/2000\n",
            "1/1 [==============================] - 0s 10ms/step - loss: 7.2750 - mae: 7.2750\n",
            "Epoch 32/2000\n",
            "1/1 [==============================] - 0s 6ms/step - loss: 7.2694 - mae: 7.2694\n",
            "Epoch 33/2000\n",
            "1/1 [==============================] - 0s 7ms/step - loss: 7.2638 - mae: 7.2638\n",
            "Epoch 34/2000\n",
            "1/1 [==============================] - 0s 7ms/step - loss: 7.2581 - mae: 7.2581\n",
            "Epoch 35/2000\n",
            "1/1 [==============================] - 0s 9ms/step - loss: 7.2525 - mae: 7.2525\n",
            "Epoch 36/2000\n",
            "1/1 [==============================] - 0s 7ms/step - loss: 7.2469 - mae: 7.2469\n",
            "Epoch 37/2000\n",
            "1/1 [==============================] - 0s 8ms/step - loss: 7.2412 - mae: 7.2412\n",
            "Epoch 38/2000\n",
            "1/1 [==============================] - 0s 6ms/step - loss: 7.2356 - mae: 7.2356\n",
            "Epoch 39/2000\n",
            "1/1 [==============================] - 0s 9ms/step - loss: 7.2300 - mae: 7.2300\n",
            "Epoch 40/2000\n",
            "1/1 [==============================] - 0s 8ms/step - loss: 7.2244 - mae: 7.2244\n",
            "Epoch 41/2000\n",
            "1/1 [==============================] - 0s 7ms/step - loss: 7.2188 - mae: 7.2188\n",
            "Epoch 42/2000\n",
            "1/1 [==============================] - 0s 11ms/step - loss: 7.2131 - mae: 7.2131\n",
            "Epoch 43/2000\n",
            "1/1 [==============================] - 0s 7ms/step - loss: 7.2075 - mae: 7.2075\n",
            "Epoch 44/2000\n",
            "1/1 [==============================] - 0s 8ms/step - loss: 7.2019 - mae: 7.2019\n",
            "Epoch 45/2000\n",
            "1/1 [==============================] - 0s 8ms/step - loss: 7.1962 - mae: 7.1962\n",
            "Epoch 46/2000\n",
            "1/1 [==============================] - 0s 7ms/step - loss: 7.1906 - mae: 7.1906\n",
            "Epoch 47/2000\n",
            "1/1 [==============================] - 0s 7ms/step - loss: 7.1850 - mae: 7.1850\n",
            "Epoch 48/2000\n",
            "1/1 [==============================] - 0s 8ms/step - loss: 7.1794 - mae: 7.1794\n",
            "Epoch 49/2000\n",
            "1/1 [==============================] - 0s 12ms/step - loss: 7.1737 - mae: 7.1737\n",
            "Epoch 50/2000\n",
            "1/1 [==============================] - 0s 7ms/step - loss: 7.1681 - mae: 7.1681\n",
            "Epoch 51/2000\n",
            "1/1 [==============================] - 0s 7ms/step - loss: 7.1625 - mae: 7.1625\n",
            "Epoch 52/2000\n",
            "1/1 [==============================] - 0s 7ms/step - loss: 7.1569 - mae: 7.1569\n",
            "Epoch 53/2000\n",
            "1/1 [==============================] - 0s 19ms/step - loss: 7.1512 - mae: 7.1512\n",
            "Epoch 54/2000\n",
            "1/1 [==============================] - 0s 36ms/step - loss: 7.1456 - mae: 7.1456\n",
            "Epoch 55/2000\n",
            "1/1 [==============================] - 0s 181ms/step - loss: 7.1400 - mae: 7.1400\n",
            "Epoch 56/2000\n",
            "1/1 [==============================] - 0s 12ms/step - loss: 7.1344 - mae: 7.1344\n",
            "Epoch 57/2000\n",
            "1/1 [==============================] - 0s 20ms/step - loss: 7.1287 - mae: 7.1287\n",
            "Epoch 58/2000\n",
            "1/1 [==============================] - 0s 18ms/step - loss: 7.1231 - mae: 7.1231\n",
            "Epoch 59/2000\n",
            "1/1 [==============================] - 0s 38ms/step - loss: 7.1175 - mae: 7.1175\n",
            "Epoch 60/2000\n",
            "1/1 [==============================] - 0s 13ms/step - loss: 7.1119 - mae: 7.1119\n",
            "Epoch 61/2000\n",
            "1/1 [==============================] - 0s 9ms/step - loss: 7.1062 - mae: 7.1062\n",
            "Epoch 62/2000\n",
            "1/1 [==============================] - 0s 8ms/step - loss: 7.1006 - mae: 7.1006\n",
            "Epoch 63/2000\n",
            "1/1 [==============================] - 0s 17ms/step - loss: 7.0950 - mae: 7.0950\n",
            "Epoch 64/2000\n",
            "1/1 [==============================] - 0s 13ms/step - loss: 7.0894 - mae: 7.0894\n",
            "Epoch 65/2000\n",
            "1/1 [==============================] - 0s 26ms/step - loss: 7.0838 - mae: 7.0838\n",
            "Epoch 66/2000\n",
            "1/1 [==============================] - 0s 13ms/step - loss: 7.0781 - mae: 7.0781\n",
            "Epoch 67/2000\n",
            "1/1 [==============================] - 0s 15ms/step - loss: 7.0725 - mae: 7.0725\n",
            "Epoch 68/2000\n",
            "1/1 [==============================] - 0s 13ms/step - loss: 7.0669 - mae: 7.0669\n",
            "Epoch 69/2000\n",
            "1/1 [==============================] - 0s 14ms/step - loss: 7.0613 - mae: 7.0613\n",
            "Epoch 70/2000\n",
            "1/1 [==============================] - 0s 12ms/step - loss: 7.0556 - mae: 7.0556\n",
            "Epoch 71/2000\n",
            "1/1 [==============================] - 0s 11ms/step - loss: 7.0500 - mae: 7.0500\n",
            "Epoch 72/2000\n",
            "1/1 [==============================] - 0s 16ms/step - loss: 7.0444 - mae: 7.0444\n",
            "Epoch 73/2000\n",
            "1/1 [==============================] - 0s 15ms/step - loss: 7.0388 - mae: 7.0388\n",
            "Epoch 74/2000\n",
            "1/1 [==============================] - 0s 12ms/step - loss: 7.0331 - mae: 7.0331\n",
            "Epoch 75/2000\n",
            "1/1 [==============================] - 0s 18ms/step - loss: 7.0275 - mae: 7.0275\n",
            "Epoch 76/2000\n",
            "1/1 [==============================] - 0s 10ms/step - loss: 7.0219 - mae: 7.0219\n",
            "Epoch 77/2000\n",
            "1/1 [==============================] - 0s 7ms/step - loss: 7.0163 - mae: 7.0163\n",
            "Epoch 78/2000\n",
            "1/1 [==============================] - 0s 7ms/step - loss: 7.0106 - mae: 7.0106\n",
            "Epoch 79/2000\n",
            "1/1 [==============================] - 0s 8ms/step - loss: 7.0050 - mae: 7.0050\n",
            "Epoch 80/2000\n",
            "1/1 [==============================] - 0s 38ms/step - loss: 6.9994 - mae: 6.9994\n",
            "Epoch 81/2000\n",
            "1/1 [==============================] - 0s 19ms/step - loss: 6.9938 - mae: 6.9938\n",
            "Epoch 82/2000\n",
            "1/1 [==============================] - 0s 13ms/step - loss: 6.9881 - mae: 6.9881\n",
            "Epoch 83/2000\n",
            "1/1 [==============================] - 0s 11ms/step - loss: 6.9825 - mae: 6.9825\n",
            "Epoch 84/2000\n",
            "1/1 [==============================] - 0s 28ms/step - loss: 6.9769 - mae: 6.9769\n",
            "Epoch 85/2000\n",
            "1/1 [==============================] - 0s 15ms/step - loss: 6.9713 - mae: 6.9713\n",
            "Epoch 86/2000\n",
            "1/1 [==============================] - 0s 17ms/step - loss: 6.9656 - mae: 6.9656\n",
            "Epoch 87/2000\n",
            "1/1 [==============================] - 0s 14ms/step - loss: 6.9600 - mae: 6.9600\n",
            "Epoch 88/2000\n",
            "1/1 [==============================] - 0s 12ms/step - loss: 6.9544 - mae: 6.9544\n",
            "Epoch 89/2000\n",
            "1/1 [==============================] - 0s 11ms/step - loss: 6.9488 - mae: 6.9488\n",
            "Epoch 90/2000\n",
            "1/1 [==============================] - 0s 12ms/step - loss: 6.9431 - mae: 6.9431\n",
            "Epoch 91/2000\n",
            "1/1 [==============================] - 0s 10ms/step - loss: 6.9375 - mae: 6.9375\n",
            "Epoch 92/2000\n",
            "1/1 [==============================] - 0s 8ms/step - loss: 6.9319 - mae: 6.9319\n",
            "Epoch 93/2000\n",
            "1/1 [==============================] - 0s 10ms/step - loss: 6.9263 - mae: 6.9263\n",
            "Epoch 94/2000\n",
            "1/1 [==============================] - 0s 8ms/step - loss: 6.9206 - mae: 6.9206\n",
            "Epoch 95/2000\n",
            "1/1 [==============================] - 0s 9ms/step - loss: 6.9150 - mae: 6.9150\n",
            "Epoch 96/2000\n",
            "1/1 [==============================] - 0s 12ms/step - loss: 6.9094 - mae: 6.9094\n",
            "Epoch 97/2000\n",
            "1/1 [==============================] - 0s 8ms/step - loss: 6.9038 - mae: 6.9038\n",
            "Epoch 98/2000\n",
            "1/1 [==============================] - 0s 9ms/step - loss: 6.8981 - mae: 6.8981\n",
            "Epoch 99/2000\n",
            "1/1 [==============================] - 0s 12ms/step - loss: 6.8925 - mae: 6.8925\n",
            "Epoch 100/2000\n",
            "1/1 [==============================] - 0s 21ms/step - loss: 6.8869 - mae: 6.8869\n",
            "Epoch 101/2000\n",
            "1/1 [==============================] - 0s 8ms/step - loss: 6.8813 - mae: 6.8813\n",
            "Epoch 102/2000\n",
            "1/1 [==============================] - 0s 14ms/step - loss: 6.8756 - mae: 6.8756\n",
            "Epoch 103/2000\n",
            "1/1 [==============================] - 0s 20ms/step - loss: 6.8700 - mae: 6.8700\n",
            "Epoch 104/2000\n",
            "1/1 [==============================] - 0s 14ms/step - loss: 6.8644 - mae: 6.8644\n",
            "Epoch 105/2000\n",
            "1/1 [==============================] - 0s 25ms/step - loss: 6.8588 - mae: 6.8588\n",
            "Epoch 106/2000\n",
            "1/1 [==============================] - 0s 8ms/step - loss: 6.8531 - mae: 6.8531\n",
            "Epoch 107/2000\n",
            "1/1 [==============================] - 0s 10ms/step - loss: 6.8475 - mae: 6.8475\n",
            "Epoch 108/2000\n",
            "1/1 [==============================] - 0s 7ms/step - loss: 6.8419 - mae: 6.8419\n",
            "Epoch 109/2000\n",
            "1/1 [==============================] - 0s 7ms/step - loss: 6.8363 - mae: 6.8363\n",
            "Epoch 110/2000\n",
            "1/1 [==============================] - 0s 6ms/step - loss: 6.8306 - mae: 6.8306\n",
            "Epoch 111/2000\n",
            "1/1 [==============================] - 0s 10ms/step - loss: 6.8250 - mae: 6.8250\n",
            "Epoch 112/2000\n",
            "1/1 [==============================] - 0s 9ms/step - loss: 6.8194 - mae: 6.8194\n",
            "Epoch 113/2000\n",
            "1/1 [==============================] - 0s 32ms/step - loss: 6.8138 - mae: 6.8138\n",
            "Epoch 114/2000\n",
            "1/1 [==============================] - 0s 6ms/step - loss: 6.8081 - mae: 6.8081\n",
            "Epoch 115/2000\n",
            "1/1 [==============================] - 0s 9ms/step - loss: 6.8025 - mae: 6.8025\n",
            "Epoch 116/2000\n",
            "1/1 [==============================] - 0s 7ms/step - loss: 6.7969 - mae: 6.7969\n",
            "Epoch 117/2000\n",
            "1/1 [==============================] - 0s 24ms/step - loss: 6.7913 - mae: 6.7913\n",
            "Epoch 118/2000\n",
            "1/1 [==============================] - 0s 17ms/step - loss: 6.7856 - mae: 6.7856\n",
            "Epoch 119/2000\n",
            "1/1 [==============================] - 0s 15ms/step - loss: 6.7800 - mae: 6.7800\n",
            "Epoch 120/2000\n",
            "1/1 [==============================] - 0s 9ms/step - loss: 6.7744 - mae: 6.7744\n",
            "Epoch 121/2000\n",
            "1/1 [==============================] - 0s 6ms/step - loss: 6.7688 - mae: 6.7688\n",
            "Epoch 122/2000\n",
            "1/1 [==============================] - 0s 6ms/step - loss: 6.7631 - mae: 6.7631\n",
            "Epoch 123/2000\n",
            "1/1 [==============================] - 0s 13ms/step - loss: 6.7575 - mae: 6.7575\n",
            "Epoch 124/2000\n",
            "1/1 [==============================] - 0s 17ms/step - loss: 6.7519 - mae: 6.7519\n",
            "Epoch 125/2000\n",
            "1/1 [==============================] - 0s 15ms/step - loss: 6.7463 - mae: 6.7463\n",
            "Epoch 126/2000\n",
            "1/1 [==============================] - 0s 11ms/step - loss: 6.7406 - mae: 6.7406\n",
            "Epoch 127/2000\n",
            "1/1 [==============================] - 0s 20ms/step - loss: 6.7350 - mae: 6.7350\n",
            "Epoch 128/2000\n",
            "1/1 [==============================] - 0s 7ms/step - loss: 6.7294 - mae: 6.7294\n",
            "Epoch 129/2000\n",
            "1/1 [==============================] - 0s 8ms/step - loss: 6.7238 - mae: 6.7238\n",
            "Epoch 130/2000\n",
            "1/1 [==============================] - 0s 12ms/step - loss: 6.7181 - mae: 6.7181\n",
            "Epoch 131/2000\n",
            "1/1 [==============================] - 0s 18ms/step - loss: 6.7125 - mae: 6.7125\n",
            "Epoch 132/2000\n",
            "1/1 [==============================] - 0s 8ms/step - loss: 6.7069 - mae: 6.7069\n",
            "Epoch 133/2000\n",
            "1/1 [==============================] - 0s 17ms/step - loss: 6.7013 - mae: 6.7013\n",
            "Epoch 134/2000\n",
            "1/1 [==============================] - 0s 8ms/step - loss: 6.6956 - mae: 6.6956\n",
            "Epoch 135/2000\n",
            "1/1 [==============================] - 0s 7ms/step - loss: 6.6900 - mae: 6.6900\n",
            "Epoch 136/2000\n",
            "1/1 [==============================] - 0s 7ms/step - loss: 6.6844 - mae: 6.6844\n",
            "Epoch 137/2000\n",
            "1/1 [==============================] - 0s 7ms/step - loss: 6.6787 - mae: 6.6787\n",
            "Epoch 138/2000\n",
            "1/1 [==============================] - 0s 13ms/step - loss: 6.6731 - mae: 6.6731\n",
            "Epoch 139/2000\n",
            "1/1 [==============================] - 0s 7ms/step - loss: 6.6675 - mae: 6.6675\n",
            "Epoch 140/2000\n",
            "1/1 [==============================] - 0s 7ms/step - loss: 6.6619 - mae: 6.6619\n",
            "Epoch 141/2000\n",
            "1/1 [==============================] - 0s 7ms/step - loss: 6.6562 - mae: 6.6562\n",
            "Epoch 142/2000\n",
            "1/1 [==============================] - 0s 7ms/step - loss: 6.6506 - mae: 6.6506\n",
            "Epoch 143/2000\n",
            "1/1 [==============================] - 0s 11ms/step - loss: 6.6450 - mae: 6.6450\n",
            "Epoch 144/2000\n",
            "1/1 [==============================] - 0s 13ms/step - loss: 6.6394 - mae: 6.6394\n",
            "Epoch 145/2000\n",
            "1/1 [==============================] - 0s 11ms/step - loss: 6.6337 - mae: 6.6337\n",
            "Epoch 146/2000\n",
            "1/1 [==============================] - 0s 20ms/step - loss: 6.6281 - mae: 6.6281\n",
            "Epoch 147/2000\n",
            "1/1 [==============================] - 0s 12ms/step - loss: 6.6225 - mae: 6.6225\n",
            "Epoch 148/2000\n",
            "1/1 [==============================] - 0s 15ms/step - loss: 6.6169 - mae: 6.6169\n",
            "Epoch 149/2000\n",
            "1/1 [==============================] - 0s 9ms/step - loss: 6.6112 - mae: 6.6112\n",
            "Epoch 150/2000\n",
            "1/1 [==============================] - 0s 16ms/step - loss: 6.6056 - mae: 6.6056\n",
            "Epoch 151/2000\n",
            "1/1 [==============================] - 0s 37ms/step - loss: 6.6000 - mae: 6.6000\n",
            "Epoch 152/2000\n",
            "1/1 [==============================] - 0s 20ms/step - loss: 6.5944 - mae: 6.5944\n",
            "Epoch 153/2000\n",
            "1/1 [==============================] - 0s 30ms/step - loss: 6.5887 - mae: 6.5887\n",
            "Epoch 154/2000\n",
            "1/1 [==============================] - 0s 22ms/step - loss: 6.5831 - mae: 6.5831\n",
            "Epoch 155/2000\n",
            "1/1 [==============================] - 0s 10ms/step - loss: 6.5775 - mae: 6.5775\n",
            "Epoch 156/2000\n",
            "1/1 [==============================] - 0s 8ms/step - loss: 6.5719 - mae: 6.5719\n",
            "Epoch 157/2000\n",
            "1/1 [==============================] - 0s 13ms/step - loss: 6.5662 - mae: 6.5662\n",
            "Epoch 158/2000\n",
            "1/1 [==============================] - 0s 10ms/step - loss: 6.5606 - mae: 6.5606\n",
            "Epoch 159/2000\n",
            "1/1 [==============================] - 0s 8ms/step - loss: 6.5550 - mae: 6.5550\n",
            "Epoch 160/2000\n",
            "1/1 [==============================] - 0s 7ms/step - loss: 6.5494 - mae: 6.5494\n",
            "Epoch 161/2000\n",
            "1/1 [==============================] - 0s 9ms/step - loss: 6.5437 - mae: 6.5437\n",
            "Epoch 162/2000\n",
            "1/1 [==============================] - 0s 9ms/step - loss: 6.5381 - mae: 6.5381\n",
            "Epoch 163/2000\n",
            "1/1 [==============================] - 0s 8ms/step - loss: 6.5325 - mae: 6.5325\n",
            "Epoch 164/2000\n",
            "1/1 [==============================] - 0s 18ms/step - loss: 6.5269 - mae: 6.5269\n",
            "Epoch 165/2000\n",
            "1/1 [==============================] - 0s 8ms/step - loss: 6.5212 - mae: 6.5212\n",
            "Epoch 166/2000\n",
            "1/1 [==============================] - 0s 8ms/step - loss: 6.5156 - mae: 6.5156\n",
            "Epoch 167/2000\n",
            "1/1 [==============================] - 0s 12ms/step - loss: 6.5100 - mae: 6.5100\n",
            "Epoch 168/2000\n",
            "1/1 [==============================] - 0s 19ms/step - loss: 6.5044 - mae: 6.5044\n",
            "Epoch 169/2000\n",
            "1/1 [==============================] - 0s 10ms/step - loss: 6.4987 - mae: 6.4987\n",
            "Epoch 170/2000\n",
            "1/1 [==============================] - 0s 9ms/step - loss: 6.4931 - mae: 6.4931\n",
            "Epoch 171/2000\n",
            "1/1 [==============================] - 0s 16ms/step - loss: 6.4875 - mae: 6.4875\n",
            "Epoch 172/2000\n",
            "1/1 [==============================] - 0s 31ms/step - loss: 6.4819 - mae: 6.4819\n",
            "Epoch 173/2000\n",
            "1/1 [==============================] - 0s 13ms/step - loss: 6.4762 - mae: 6.4762\n",
            "Epoch 174/2000\n",
            "1/1 [==============================] - 0s 13ms/step - loss: 6.4706 - mae: 6.4706\n",
            "Epoch 175/2000\n",
            "1/1 [==============================] - 0s 14ms/step - loss: 6.4650 - mae: 6.4650\n",
            "Epoch 176/2000\n",
            "1/1 [==============================] - 0s 17ms/step - loss: 6.4594 - mae: 6.4594\n",
            "Epoch 177/2000\n",
            "1/1 [==============================] - 0s 11ms/step - loss: 6.4537 - mae: 6.4537\n",
            "Epoch 178/2000\n",
            "1/1 [==============================] - 0s 19ms/step - loss: 6.4481 - mae: 6.4481\n",
            "Epoch 179/2000\n",
            "1/1 [==============================] - 0s 19ms/step - loss: 6.4425 - mae: 6.4425\n",
            "Epoch 180/2000\n",
            "1/1 [==============================] - 0s 17ms/step - loss: 6.4369 - mae: 6.4369\n",
            "Epoch 181/2000\n",
            "1/1 [==============================] - 0s 12ms/step - loss: 6.4312 - mae: 6.4312\n",
            "Epoch 182/2000\n",
            "1/1 [==============================] - 0s 14ms/step - loss: 6.4256 - mae: 6.4256\n",
            "Epoch 183/2000\n",
            "1/1 [==============================] - 0s 28ms/step - loss: 6.4200 - mae: 6.4200\n",
            "Epoch 184/2000\n",
            "1/1 [==============================] - 0s 25ms/step - loss: 6.4144 - mae: 6.4144\n",
            "Epoch 185/2000\n",
            "1/1 [==============================] - 0s 12ms/step - loss: 6.4087 - mae: 6.4087\n",
            "Epoch 186/2000\n",
            "1/1 [==============================] - 0s 16ms/step - loss: 6.4031 - mae: 6.4031\n",
            "Epoch 187/2000\n",
            "1/1 [==============================] - 0s 33ms/step - loss: 6.3975 - mae: 6.3975\n",
            "Epoch 188/2000\n",
            "1/1 [==============================] - 0s 17ms/step - loss: 6.3919 - mae: 6.3919\n",
            "Epoch 189/2000\n",
            "1/1 [==============================] - 0s 33ms/step - loss: 6.3862 - mae: 6.3862\n",
            "Epoch 190/2000\n",
            "1/1 [==============================] - 0s 28ms/step - loss: 6.3806 - mae: 6.3806\n",
            "Epoch 191/2000\n",
            "1/1 [==============================] - 0s 25ms/step - loss: 6.3750 - mae: 6.3750\n",
            "Epoch 192/2000\n",
            "1/1 [==============================] - 0s 64ms/step - loss: 6.3694 - mae: 6.3694\n",
            "Epoch 193/2000\n",
            "1/1 [==============================] - 0s 8ms/step - loss: 6.3637 - mae: 6.3637\n",
            "Epoch 194/2000\n",
            "1/1 [==============================] - 0s 35ms/step - loss: 6.3581 - mae: 6.3581\n",
            "Epoch 195/2000\n",
            "1/1 [==============================] - 0s 7ms/step - loss: 6.3525 - mae: 6.3525\n",
            "Epoch 196/2000\n",
            "1/1 [==============================] - 0s 26ms/step - loss: 6.3469 - mae: 6.3469\n",
            "Epoch 197/2000\n",
            "1/1 [==============================] - 0s 21ms/step - loss: 6.3412 - mae: 6.3412\n",
            "Epoch 198/2000\n",
            "1/1 [==============================] - 0s 12ms/step - loss: 6.3356 - mae: 6.3356\n",
            "Epoch 199/2000\n",
            "1/1 [==============================] - 0s 14ms/step - loss: 6.3300 - mae: 6.3300\n",
            "Epoch 200/2000\n",
            "1/1 [==============================] - 0s 21ms/step - loss: 6.3244 - mae: 6.3244\n",
            "Epoch 201/2000\n",
            "1/1 [==============================] - 0s 8ms/step - loss: 6.3187 - mae: 6.3187\n",
            "Epoch 202/2000\n",
            "1/1 [==============================] - 0s 11ms/step - loss: 6.3131 - mae: 6.3131\n",
            "Epoch 203/2000\n",
            "1/1 [==============================] - 0s 20ms/step - loss: 6.3075 - mae: 6.3075\n",
            "Epoch 204/2000\n",
            "1/1 [==============================] - 0s 23ms/step - loss: 6.3019 - mae: 6.3019\n",
            "Epoch 205/2000\n",
            "1/1 [==============================] - 0s 12ms/step - loss: 6.2962 - mae: 6.2962\n",
            "Epoch 206/2000\n",
            "1/1 [==============================] - 0s 9ms/step - loss: 6.2906 - mae: 6.2906\n",
            "Epoch 207/2000\n",
            "1/1 [==============================] - 0s 6ms/step - loss: 6.2850 - mae: 6.2850\n",
            "Epoch 208/2000\n",
            "1/1 [==============================] - 0s 9ms/step - loss: 6.2794 - mae: 6.2794\n",
            "Epoch 209/2000\n",
            "1/1 [==============================] - 0s 13ms/step - loss: 6.2737 - mae: 6.2737\n",
            "Epoch 210/2000\n",
            "1/1 [==============================] - 0s 11ms/step - loss: 6.2681 - mae: 6.2681\n",
            "Epoch 211/2000\n",
            "1/1 [==============================] - 0s 10ms/step - loss: 6.2625 - mae: 6.2625\n",
            "Epoch 212/2000\n",
            "1/1 [==============================] - 0s 6ms/step - loss: 6.2569 - mae: 6.2569\n",
            "Epoch 213/2000\n",
            "1/1 [==============================] - 0s 6ms/step - loss: 6.2512 - mae: 6.2512\n",
            "Epoch 214/2000\n",
            "1/1 [==============================] - 0s 21ms/step - loss: 6.2456 - mae: 6.2456\n",
            "Epoch 215/2000\n",
            "1/1 [==============================] - 0s 13ms/step - loss: 6.2400 - mae: 6.2400\n",
            "Epoch 216/2000\n",
            "1/1 [==============================] - 0s 11ms/step - loss: 6.2344 - mae: 6.2344\n",
            "Epoch 217/2000\n",
            "1/1 [==============================] - 0s 59ms/step - loss: 6.2287 - mae: 6.2287\n",
            "Epoch 218/2000\n",
            "1/1 [==============================] - 0s 14ms/step - loss: 6.2231 - mae: 6.2231\n",
            "Epoch 219/2000\n",
            "1/1 [==============================] - 0s 27ms/step - loss: 6.2175 - mae: 6.2175\n",
            "Epoch 220/2000\n",
            "1/1 [==============================] - 0s 20ms/step - loss: 6.2119 - mae: 6.2119\n",
            "Epoch 221/2000\n",
            "1/1 [==============================] - 0s 20ms/step - loss: 6.2062 - mae: 6.2062\n",
            "Epoch 222/2000\n",
            "1/1 [==============================] - 0s 29ms/step - loss: 6.2006 - mae: 6.2006\n",
            "Epoch 223/2000\n",
            "1/1 [==============================] - 0s 21ms/step - loss: 6.1950 - mae: 6.1950\n",
            "Epoch 224/2000\n",
            "1/1 [==============================] - 0s 20ms/step - loss: 6.1894 - mae: 6.1894\n",
            "Epoch 225/2000\n",
            "1/1 [==============================] - 0s 15ms/step - loss: 6.1837 - mae: 6.1837\n",
            "Epoch 226/2000\n",
            "1/1 [==============================] - 0s 33ms/step - loss: 6.1781 - mae: 6.1781\n",
            "Epoch 227/2000\n",
            "1/1 [==============================] - 0s 23ms/step - loss: 6.1725 - mae: 6.1725\n",
            "Epoch 228/2000\n",
            "1/1 [==============================] - 0s 14ms/step - loss: 6.1669 - mae: 6.1669\n",
            "Epoch 229/2000\n",
            "1/1 [==============================] - 0s 21ms/step - loss: 6.1612 - mae: 6.1612\n",
            "Epoch 230/2000\n",
            "1/1 [==============================] - 0s 31ms/step - loss: 6.1556 - mae: 6.1556\n",
            "Epoch 231/2000\n",
            "1/1 [==============================] - 0s 14ms/step - loss: 6.1500 - mae: 6.1500\n",
            "Epoch 232/2000\n",
            "1/1 [==============================] - 0s 12ms/step - loss: 6.1444 - mae: 6.1444\n",
            "Epoch 233/2000\n",
            "1/1 [==============================] - 0s 26ms/step - loss: 6.1387 - mae: 6.1387\n",
            "Epoch 234/2000\n",
            "1/1 [==============================] - 0s 30ms/step - loss: 6.1331 - mae: 6.1331\n",
            "Epoch 235/2000\n",
            "1/1 [==============================] - 0s 22ms/step - loss: 6.1275 - mae: 6.1275\n",
            "Epoch 236/2000\n",
            "1/1 [==============================] - 0s 15ms/step - loss: 6.1219 - mae: 6.1219\n",
            "Epoch 237/2000\n",
            "1/1 [==============================] - 0s 21ms/step - loss: 6.1162 - mae: 6.1162\n",
            "Epoch 238/2000\n",
            "1/1 [==============================] - 0s 20ms/step - loss: 6.1106 - mae: 6.1106\n",
            "Epoch 239/2000\n",
            "1/1 [==============================] - 0s 14ms/step - loss: 6.1050 - mae: 6.1050\n",
            "Epoch 240/2000\n",
            "1/1 [==============================] - 0s 8ms/step - loss: 6.0994 - mae: 6.0994\n",
            "Epoch 241/2000\n",
            "1/1 [==============================] - 0s 8ms/step - loss: 6.0937 - mae: 6.0937\n",
            "Epoch 242/2000\n",
            "1/1 [==============================] - 0s 11ms/step - loss: 6.0881 - mae: 6.0881\n",
            "Epoch 243/2000\n",
            "1/1 [==============================] - 0s 14ms/step - loss: 6.0825 - mae: 6.0825\n",
            "Epoch 244/2000\n",
            "1/1 [==============================] - 0s 25ms/step - loss: 6.0769 - mae: 6.0769\n",
            "Epoch 245/2000\n",
            "1/1 [==============================] - 0s 11ms/step - loss: 6.0712 - mae: 6.0712\n",
            "Epoch 246/2000\n",
            "1/1 [==============================] - 0s 10ms/step - loss: 6.0656 - mae: 6.0656\n",
            "Epoch 247/2000\n",
            "1/1 [==============================] - 0s 19ms/step - loss: 6.0600 - mae: 6.0600\n",
            "Epoch 248/2000\n",
            "1/1 [==============================] - 0s 20ms/step - loss: 6.0544 - mae: 6.0544\n",
            "Epoch 249/2000\n",
            "1/1 [==============================] - 0s 8ms/step - loss: 6.0487 - mae: 6.0487\n",
            "Epoch 250/2000\n",
            "1/1 [==============================] - 0s 7ms/step - loss: 6.0431 - mae: 6.0431\n",
            "Epoch 251/2000\n",
            "1/1 [==============================] - 0s 9ms/step - loss: 6.0375 - mae: 6.0375\n",
            "Epoch 252/2000\n",
            "1/1 [==============================] - 0s 12ms/step - loss: 6.0319 - mae: 6.0319\n",
            "Epoch 253/2000\n",
            "1/1 [==============================] - 0s 14ms/step - loss: 6.0262 - mae: 6.0262\n",
            "Epoch 254/2000\n",
            "1/1 [==============================] - 0s 14ms/step - loss: 6.0206 - mae: 6.0206\n",
            "Epoch 255/2000\n",
            "1/1 [==============================] - 0s 6ms/step - loss: 6.0150 - mae: 6.0150\n",
            "Epoch 256/2000\n",
            "1/1 [==============================] - 0s 11ms/step - loss: 6.0094 - mae: 6.0094\n",
            "Epoch 257/2000\n",
            "1/1 [==============================] - 0s 7ms/step - loss: 6.0037 - mae: 6.0037\n",
            "Epoch 258/2000\n",
            "1/1 [==============================] - 0s 9ms/step - loss: 5.9981 - mae: 5.9981\n",
            "Epoch 259/2000\n",
            "1/1 [==============================] - 0s 10ms/step - loss: 5.9925 - mae: 5.9925\n",
            "Epoch 260/2000\n",
            "1/1 [==============================] - 0s 7ms/step - loss: 5.9869 - mae: 5.9869\n",
            "Epoch 261/2000\n",
            "1/1 [==============================] - 0s 9ms/step - loss: 5.9812 - mae: 5.9812\n",
            "Epoch 262/2000\n",
            "1/1 [==============================] - 0s 7ms/step - loss: 5.9756 - mae: 5.9756\n",
            "Epoch 263/2000\n",
            "1/1 [==============================] - 0s 6ms/step - loss: 5.9700 - mae: 5.9700\n",
            "Epoch 264/2000\n",
            "1/1 [==============================] - 0s 10ms/step - loss: 5.9644 - mae: 5.9644\n",
            "Epoch 265/2000\n",
            "1/1 [==============================] - 0s 7ms/step - loss: 5.9587 - mae: 5.9587\n",
            "Epoch 266/2000\n",
            "1/1 [==============================] - 0s 7ms/step - loss: 5.9531 - mae: 5.9531\n",
            "Epoch 267/2000\n",
            "1/1 [==============================] - 0s 6ms/step - loss: 5.9475 - mae: 5.9475\n",
            "Epoch 268/2000\n",
            "1/1 [==============================] - 0s 7ms/step - loss: 5.9419 - mae: 5.9419\n",
            "Epoch 269/2000\n",
            "1/1 [==============================] - 0s 10ms/step - loss: 5.9362 - mae: 5.9362\n",
            "Epoch 270/2000\n",
            "1/1 [==============================] - 0s 8ms/step - loss: 5.9306 - mae: 5.9306\n",
            "Epoch 271/2000\n",
            "1/1 [==============================] - 0s 7ms/step - loss: 5.9250 - mae: 5.9250\n",
            "Epoch 272/2000\n",
            "1/1 [==============================] - 0s 7ms/step - loss: 5.9194 - mae: 5.9194\n",
            "Epoch 273/2000\n",
            "1/1 [==============================] - 0s 10ms/step - loss: 5.9137 - mae: 5.9137\n",
            "Epoch 274/2000\n",
            "1/1 [==============================] - 0s 8ms/step - loss: 5.9081 - mae: 5.9081\n",
            "Epoch 275/2000\n",
            "1/1 [==============================] - 0s 6ms/step - loss: 5.9025 - mae: 5.9025\n",
            "Epoch 276/2000\n",
            "1/1 [==============================] - 0s 7ms/step - loss: 5.8969 - mae: 5.8969\n",
            "Epoch 277/2000\n",
            "1/1 [==============================] - 0s 7ms/step - loss: 5.8912 - mae: 5.8912\n",
            "Epoch 278/2000\n",
            "1/1 [==============================] - 0s 15ms/step - loss: 5.8856 - mae: 5.8856\n",
            "Epoch 279/2000\n",
            "1/1 [==============================] - 0s 6ms/step - loss: 5.8800 - mae: 5.8800\n",
            "Epoch 280/2000\n",
            "1/1 [==============================] - 0s 7ms/step - loss: 5.8744 - mae: 5.8744\n",
            "Epoch 281/2000\n",
            "1/1 [==============================] - 0s 9ms/step - loss: 5.8687 - mae: 5.8687\n",
            "Epoch 282/2000\n",
            "1/1 [==============================] - 0s 13ms/step - loss: 5.8631 - mae: 5.8631\n",
            "Epoch 283/2000\n",
            "1/1 [==============================] - 0s 6ms/step - loss: 5.8575 - mae: 5.8575\n",
            "Epoch 284/2000\n",
            "1/1 [==============================] - 0s 6ms/step - loss: 5.8519 - mae: 5.8519\n",
            "Epoch 285/2000\n",
            "1/1 [==============================] - 0s 9ms/step - loss: 5.8462 - mae: 5.8462\n",
            "Epoch 286/2000\n",
            "1/1 [==============================] - 0s 11ms/step - loss: 5.8406 - mae: 5.8406\n",
            "Epoch 287/2000\n",
            "1/1 [==============================] - 0s 25ms/step - loss: 5.8350 - mae: 5.8350\n",
            "Epoch 288/2000\n",
            "1/1 [==============================] - 0s 7ms/step - loss: 5.8294 - mae: 5.8294\n",
            "Epoch 289/2000\n",
            "1/1 [==============================] - 0s 7ms/step - loss: 5.8237 - mae: 5.8237\n",
            "Epoch 290/2000\n",
            "1/1 [==============================] - 0s 12ms/step - loss: 5.8181 - mae: 5.8181\n",
            "Epoch 291/2000\n",
            "1/1 [==============================] - 0s 9ms/step - loss: 5.8125 - mae: 5.8125\n",
            "Epoch 292/2000\n",
            "1/1 [==============================] - 0s 13ms/step - loss: 5.8069 - mae: 5.8069\n",
            "Epoch 293/2000\n",
            "1/1 [==============================] - 0s 8ms/step - loss: 5.8012 - mae: 5.8012\n",
            "Epoch 294/2000\n",
            "1/1 [==============================] - 0s 8ms/step - loss: 5.7956 - mae: 5.7956\n",
            "Epoch 295/2000\n",
            "1/1 [==============================] - 0s 14ms/step - loss: 5.7900 - mae: 5.7900\n",
            "Epoch 296/2000\n",
            "1/1 [==============================] - 0s 7ms/step - loss: 5.7844 - mae: 5.7844\n",
            "Epoch 297/2000\n",
            "1/1 [==============================] - 0s 15ms/step - loss: 5.7799 - mae: 5.7799\n",
            "Epoch 298/2000\n",
            "1/1 [==============================] - 0s 11ms/step - loss: 5.7750 - mae: 5.7750\n",
            "Epoch 299/2000\n",
            "1/1 [==============================] - 0s 8ms/step - loss: 5.7694 - mae: 5.7694\n",
            "Epoch 300/2000\n",
            "1/1 [==============================] - 0s 9ms/step - loss: 5.7637 - mae: 5.7637\n",
            "Epoch 301/2000\n",
            "1/1 [==============================] - 0s 8ms/step - loss: 5.7581 - mae: 5.7581\n",
            "Epoch 302/2000\n",
            "1/1 [==============================] - 0s 10ms/step - loss: 5.7525 - mae: 5.7525\n",
            "Epoch 303/2000\n",
            "1/1 [==============================] - 0s 16ms/step - loss: 5.7469 - mae: 5.7469\n",
            "Epoch 304/2000\n",
            "1/1 [==============================] - 0s 19ms/step - loss: 5.7412 - mae: 5.7412\n",
            "Epoch 305/2000\n",
            "1/1 [==============================] - 0s 18ms/step - loss: 5.7356 - mae: 5.7356\n",
            "Epoch 306/2000\n",
            "1/1 [==============================] - 0s 18ms/step - loss: 5.7300 - mae: 5.7300\n",
            "Epoch 307/2000\n",
            "1/1 [==============================] - 0s 14ms/step - loss: 5.7244 - mae: 5.7244\n",
            "Epoch 308/2000\n",
            "1/1 [==============================] - 0s 16ms/step - loss: 5.7187 - mae: 5.7187\n",
            "Epoch 309/2000\n",
            "1/1 [==============================] - 0s 14ms/step - loss: 5.7131 - mae: 5.7131\n",
            "Epoch 310/2000\n",
            "1/1 [==============================] - 0s 18ms/step - loss: 5.7075 - mae: 5.7075\n",
            "Epoch 311/2000\n",
            "1/1 [==============================] - 0s 30ms/step - loss: 5.7019 - mae: 5.7019\n",
            "Epoch 312/2000\n",
            "1/1 [==============================] - 0s 31ms/step - loss: 5.6962 - mae: 5.6962\n",
            "Epoch 313/2000\n",
            "1/1 [==============================] - 0s 21ms/step - loss: 5.6906 - mae: 5.6906\n",
            "Epoch 314/2000\n",
            "1/1 [==============================] - 0s 18ms/step - loss: 5.6850 - mae: 5.6850\n",
            "Epoch 315/2000\n",
            "1/1 [==============================] - 0s 13ms/step - loss: 5.6794 - mae: 5.6794\n",
            "Epoch 316/2000\n",
            "1/1 [==============================] - 0s 11ms/step - loss: 5.6737 - mae: 5.6737\n",
            "Epoch 317/2000\n",
            "1/1 [==============================] - 0s 15ms/step - loss: 5.6681 - mae: 5.6681\n",
            "Epoch 318/2000\n",
            "1/1 [==============================] - 0s 9ms/step - loss: 5.6625 - mae: 5.6625\n",
            "Epoch 319/2000\n",
            "1/1 [==============================] - 0s 10ms/step - loss: 5.6569 - mae: 5.6569\n",
            "Epoch 320/2000\n",
            "1/1 [==============================] - 0s 53ms/step - loss: 5.6512 - mae: 5.6512\n",
            "Epoch 321/2000\n",
            "1/1 [==============================] - 0s 12ms/step - loss: 5.6456 - mae: 5.6456\n",
            "Epoch 322/2000\n",
            "1/1 [==============================] - 0s 31ms/step - loss: 5.6400 - mae: 5.6400\n",
            "Epoch 323/2000\n",
            "1/1 [==============================] - 0s 24ms/step - loss: 5.6344 - mae: 5.6344\n",
            "Epoch 324/2000\n",
            "1/1 [==============================] - 0s 29ms/step - loss: 5.6287 - mae: 5.6287\n",
            "Epoch 325/2000\n",
            "1/1 [==============================] - 0s 24ms/step - loss: 5.6231 - mae: 5.6231\n",
            "Epoch 326/2000\n",
            "1/1 [==============================] - 0s 27ms/step - loss: 5.6175 - mae: 5.6175\n",
            "Epoch 327/2000\n",
            "1/1 [==============================] - 0s 17ms/step - loss: 5.6119 - mae: 5.6119\n",
            "Epoch 328/2000\n",
            "1/1 [==============================] - 0s 17ms/step - loss: 5.6062 - mae: 5.6062\n",
            "Epoch 329/2000\n",
            "1/1 [==============================] - 0s 15ms/step - loss: 5.6006 - mae: 5.6006\n",
            "Epoch 330/2000\n",
            "1/1 [==============================] - 0s 23ms/step - loss: 5.5950 - mae: 5.5950\n",
            "Epoch 331/2000\n",
            "1/1 [==============================] - 0s 29ms/step - loss: 5.5894 - mae: 5.5894\n",
            "Epoch 332/2000\n",
            "1/1 [==============================] - 0s 15ms/step - loss: 5.5837 - mae: 5.5837\n",
            "Epoch 333/2000\n",
            "1/1 [==============================] - 0s 11ms/step - loss: 5.5781 - mae: 5.5781\n",
            "Epoch 334/2000\n",
            "1/1 [==============================] - 0s 9ms/step - loss: 5.5725 - mae: 5.5725\n",
            "Epoch 335/2000\n",
            "1/1 [==============================] - 0s 9ms/step - loss: 5.5669 - mae: 5.5669\n",
            "Epoch 336/2000\n",
            "1/1 [==============================] - 0s 18ms/step - loss: 5.5612 - mae: 5.5612\n",
            "Epoch 337/2000\n",
            "1/1 [==============================] - 0s 23ms/step - loss: 5.5556 - mae: 5.5556\n",
            "Epoch 338/2000\n",
            "1/1 [==============================] - 0s 10ms/step - loss: 5.5518 - mae: 5.5518\n",
            "Epoch 339/2000\n",
            "1/1 [==============================] - 0s 26ms/step - loss: 5.5462 - mae: 5.5462\n",
            "Epoch 340/2000\n",
            "1/1 [==============================] - 0s 14ms/step - loss: 5.5406 - mae: 5.5406\n",
            "Epoch 341/2000\n",
            "1/1 [==============================] - 0s 17ms/step - loss: 5.5350 - mae: 5.5350\n",
            "Epoch 342/2000\n",
            "1/1 [==============================] - 0s 20ms/step - loss: 5.5294 - mae: 5.5294\n",
            "Epoch 343/2000\n",
            "1/1 [==============================] - 0s 20ms/step - loss: 5.5237 - mae: 5.5237\n",
            "Epoch 344/2000\n",
            "1/1 [==============================] - 0s 17ms/step - loss: 5.5181 - mae: 5.5181\n",
            "Epoch 345/2000\n",
            "1/1 [==============================] - 0s 22ms/step - loss: 5.5125 - mae: 5.5125\n",
            "Epoch 346/2000\n",
            "1/1 [==============================] - 0s 8ms/step - loss: 5.5069 - mae: 5.5069\n",
            "Epoch 347/2000\n",
            "1/1 [==============================] - 0s 18ms/step - loss: 5.5012 - mae: 5.5012\n",
            "Epoch 348/2000\n",
            "1/1 [==============================] - 0s 18ms/step - loss: 5.4956 - mae: 5.4956\n",
            "Epoch 349/2000\n",
            "1/1 [==============================] - 0s 33ms/step - loss: 5.4900 - mae: 5.4900\n",
            "Epoch 350/2000\n",
            "1/1 [==============================] - 0s 14ms/step - loss: 5.4844 - mae: 5.4844\n",
            "Epoch 351/2000\n",
            "1/1 [==============================] - 0s 52ms/step - loss: 5.4787 - mae: 5.4787\n",
            "Epoch 352/2000\n",
            "1/1 [==============================] - 0s 17ms/step - loss: 5.4731 - mae: 5.4731\n",
            "Epoch 353/2000\n",
            "1/1 [==============================] - 0s 28ms/step - loss: 5.4675 - mae: 5.4675\n",
            "Epoch 354/2000\n",
            "1/1 [==============================] - 0s 22ms/step - loss: 5.4619 - mae: 5.4619\n",
            "Epoch 355/2000\n",
            "1/1 [==============================] - 0s 8ms/step - loss: 5.4562 - mae: 5.4562\n",
            "Epoch 356/2000\n",
            "1/1 [==============================] - 0s 8ms/step - loss: 5.4506 - mae: 5.4506\n",
            "Epoch 357/2000\n",
            "1/1 [==============================] - 0s 14ms/step - loss: 5.4450 - mae: 5.4450\n",
            "Epoch 358/2000\n",
            "1/1 [==============================] - 0s 9ms/step - loss: 5.4394 - mae: 5.4394\n",
            "Epoch 359/2000\n",
            "1/1 [==============================] - 0s 13ms/step - loss: 5.4337 - mae: 5.4337\n",
            "Epoch 360/2000\n",
            "1/1 [==============================] - 0s 28ms/step - loss: 5.4281 - mae: 5.4281\n",
            "Epoch 361/2000\n",
            "1/1 [==============================] - 0s 8ms/step - loss: 5.4225 - mae: 5.4225\n",
            "Epoch 362/2000\n",
            "1/1 [==============================] - 0s 7ms/step - loss: 5.4169 - mae: 5.4169\n",
            "Epoch 363/2000\n",
            "1/1 [==============================] - 0s 21ms/step - loss: 5.4113 - mae: 5.4113\n",
            "Epoch 364/2000\n",
            "1/1 [==============================] - 0s 34ms/step - loss: 5.4056 - mae: 5.4056\n",
            "Epoch 365/2000\n",
            "1/1 [==============================] - 0s 9ms/step - loss: 5.4000 - mae: 5.4000\n",
            "Epoch 366/2000\n",
            "1/1 [==============================] - 0s 7ms/step - loss: 5.3944 - mae: 5.3944\n",
            "Epoch 367/2000\n",
            "1/1 [==============================] - 0s 11ms/step - loss: 5.3888 - mae: 5.3888\n",
            "Epoch 368/2000\n",
            "1/1 [==============================] - 0s 10ms/step - loss: 5.3831 - mae: 5.3831\n",
            "Epoch 369/2000\n",
            "1/1 [==============================] - 0s 9ms/step - loss: 5.3775 - mae: 5.3775\n",
            "Epoch 370/2000\n",
            "1/1 [==============================] - 0s 15ms/step - loss: 5.3719 - mae: 5.3719\n",
            "Epoch 371/2000\n",
            "1/1 [==============================] - 0s 13ms/step - loss: 5.3663 - mae: 5.3663\n",
            "Epoch 372/2000\n",
            "1/1 [==============================] - 0s 14ms/step - loss: 5.3606 - mae: 5.3606\n",
            "Epoch 373/2000\n",
            "1/1 [==============================] - 0s 17ms/step - loss: 5.3550 - mae: 5.3550\n",
            "Epoch 374/2000\n",
            "1/1 [==============================] - 0s 17ms/step - loss: 5.3494 - mae: 5.3494\n",
            "Epoch 375/2000\n",
            "1/1 [==============================] - 0s 19ms/step - loss: 5.3438 - mae: 5.3438\n",
            "Epoch 376/2000\n",
            "1/1 [==============================] - 0s 8ms/step - loss: 5.3381 - mae: 5.3381\n",
            "Epoch 377/2000\n",
            "1/1 [==============================] - 0s 7ms/step - loss: 5.3325 - mae: 5.3325\n",
            "Epoch 378/2000\n",
            "1/1 [==============================] - 0s 7ms/step - loss: 5.3274 - mae: 5.3274\n",
            "Epoch 379/2000\n",
            "1/1 [==============================] - 0s 7ms/step - loss: 5.3231 - mae: 5.3231\n",
            "Epoch 380/2000\n",
            "1/1 [==============================] - 0s 11ms/step - loss: 5.3175 - mae: 5.3175\n",
            "Epoch 381/2000\n",
            "1/1 [==============================] - 0s 9ms/step - loss: 5.3119 - mae: 5.3119\n",
            "Epoch 382/2000\n",
            "1/1 [==============================] - 0s 18ms/step - loss: 5.3063 - mae: 5.3063\n",
            "Epoch 383/2000\n",
            "1/1 [==============================] - 0s 18ms/step - loss: 5.3006 - mae: 5.3006\n",
            "Epoch 384/2000\n",
            "1/1 [==============================] - 0s 10ms/step - loss: 5.2950 - mae: 5.2950\n",
            "Epoch 385/2000\n",
            "1/1 [==============================] - 0s 25ms/step - loss: 5.2894 - mae: 5.2894\n",
            "Epoch 386/2000\n",
            "1/1 [==============================] - 0s 34ms/step - loss: 5.2838 - mae: 5.2838\n",
            "Epoch 387/2000\n",
            "1/1 [==============================] - 0s 53ms/step - loss: 5.2781 - mae: 5.2781\n",
            "Epoch 388/2000\n",
            "1/1 [==============================] - 0s 14ms/step - loss: 5.2725 - mae: 5.2725\n",
            "Epoch 389/2000\n",
            "1/1 [==============================] - 0s 14ms/step - loss: 5.2669 - mae: 5.2669\n",
            "Epoch 390/2000\n",
            "1/1 [==============================] - 0s 27ms/step - loss: 5.2613 - mae: 5.2613\n",
            "Epoch 391/2000\n",
            "1/1 [==============================] - 0s 27ms/step - loss: 5.2556 - mae: 5.2556\n",
            "Epoch 392/2000\n",
            "1/1 [==============================] - 0s 13ms/step - loss: 5.2500 - mae: 5.2500\n",
            "Epoch 393/2000\n",
            "1/1 [==============================] - 0s 13ms/step - loss: 5.2444 - mae: 5.2444\n",
            "Epoch 394/2000\n",
            "1/1 [==============================] - 0s 20ms/step - loss: 5.2388 - mae: 5.2388\n",
            "Epoch 395/2000\n",
            "1/1 [==============================] - 0s 29ms/step - loss: 5.2331 - mae: 5.2331\n",
            "Epoch 396/2000\n",
            "1/1 [==============================] - 0s 28ms/step - loss: 5.2275 - mae: 5.2275\n",
            "Epoch 397/2000\n",
            "1/1 [==============================] - 0s 32ms/step - loss: 5.2219 - mae: 5.2219\n",
            "Epoch 398/2000\n",
            "1/1 [==============================] - 0s 13ms/step - loss: 5.2163 - mae: 5.2163\n",
            "Epoch 399/2000\n",
            "1/1 [==============================] - 0s 37ms/step - loss: 5.2106 - mae: 5.2106\n",
            "Epoch 400/2000\n",
            "1/1 [==============================] - 0s 19ms/step - loss: 5.2050 - mae: 5.2050\n",
            "Epoch 401/2000\n",
            "1/1 [==============================] - 0s 15ms/step - loss: 5.1994 - mae: 5.1994\n",
            "Epoch 402/2000\n",
            "1/1 [==============================] - 0s 14ms/step - loss: 5.1938 - mae: 5.1938\n",
            "Epoch 403/2000\n",
            "1/1 [==============================] - 0s 11ms/step - loss: 5.1881 - mae: 5.1881\n",
            "Epoch 404/2000\n",
            "1/1 [==============================] - 0s 40ms/step - loss: 5.1825 - mae: 5.1825\n",
            "Epoch 405/2000\n",
            "1/1 [==============================] - 0s 13ms/step - loss: 5.1769 - mae: 5.1769\n",
            "Epoch 406/2000\n",
            "1/1 [==============================] - 0s 24ms/step - loss: 5.1713 - mae: 5.1713\n",
            "Epoch 407/2000\n",
            "1/1 [==============================] - 0s 22ms/step - loss: 5.1656 - mae: 5.1656\n",
            "Epoch 408/2000\n",
            "1/1 [==============================] - 0s 13ms/step - loss: 5.1600 - mae: 5.1600\n",
            "Epoch 409/2000\n",
            "1/1 [==============================] - 0s 29ms/step - loss: 5.1544 - mae: 5.1544\n",
            "Epoch 410/2000\n",
            "1/1 [==============================] - 0s 21ms/step - loss: 5.1488 - mae: 5.1488\n",
            "Epoch 411/2000\n",
            "1/1 [==============================] - 0s 13ms/step - loss: 5.1431 - mae: 5.1431\n",
            "Epoch 412/2000\n",
            "1/1 [==============================] - 0s 22ms/step - loss: 5.1375 - mae: 5.1375\n",
            "Epoch 413/2000\n",
            "1/1 [==============================] - 0s 13ms/step - loss: 5.1319 - mae: 5.1319\n",
            "Epoch 414/2000\n",
            "1/1 [==============================] - 0s 23ms/step - loss: 5.1263 - mae: 5.1263\n",
            "Epoch 415/2000\n",
            "1/1 [==============================] - 0s 23ms/step - loss: 5.1206 - mae: 5.1206\n",
            "Epoch 416/2000\n",
            "1/1 [==============================] - 0s 20ms/step - loss: 5.1150 - mae: 5.1150\n",
            "Epoch 417/2000\n",
            "1/1 [==============================] - 0s 14ms/step - loss: 5.1094 - mae: 5.1094\n",
            "Epoch 418/2000\n",
            "1/1 [==============================] - 0s 15ms/step - loss: 5.1038 - mae: 5.1038\n",
            "Epoch 419/2000\n",
            "1/1 [==============================] - 0s 18ms/step - loss: 5.0993 - mae: 5.0993\n",
            "Epoch 420/2000\n",
            "1/1 [==============================] - 0s 11ms/step - loss: 5.0944 - mae: 5.0944\n",
            "Epoch 421/2000\n",
            "1/1 [==============================] - 0s 24ms/step - loss: 5.0888 - mae: 5.0888\n",
            "Epoch 422/2000\n",
            "1/1 [==============================] - 0s 12ms/step - loss: 5.0831 - mae: 5.0831\n",
            "Epoch 423/2000\n",
            "1/1 [==============================] - 0s 28ms/step - loss: 5.0775 - mae: 5.0775\n",
            "Epoch 424/2000\n",
            "1/1 [==============================] - 0s 20ms/step - loss: 5.0719 - mae: 5.0719\n",
            "Epoch 425/2000\n",
            "1/1 [==============================] - 0s 12ms/step - loss: 5.0663 - mae: 5.0663\n",
            "Epoch 426/2000\n",
            "1/1 [==============================] - 0s 19ms/step - loss: 5.0606 - mae: 5.0606\n",
            "Epoch 427/2000\n",
            "1/1 [==============================] - 0s 18ms/step - loss: 5.0550 - mae: 5.0550\n",
            "Epoch 428/2000\n",
            "1/1 [==============================] - 0s 20ms/step - loss: 5.0494 - mae: 5.0494\n",
            "Epoch 429/2000\n",
            "1/1 [==============================] - 0s 18ms/step - loss: 5.0438 - mae: 5.0438\n",
            "Epoch 430/2000\n",
            "1/1 [==============================] - 0s 14ms/step - loss: 5.0381 - mae: 5.0381\n",
            "Epoch 431/2000\n",
            "1/1 [==============================] - 0s 25ms/step - loss: 5.0325 - mae: 5.0325\n",
            "Epoch 432/2000\n",
            "1/1 [==============================] - 0s 11ms/step - loss: 5.0269 - mae: 5.0269\n",
            "Epoch 433/2000\n",
            "1/1 [==============================] - 0s 14ms/step - loss: 5.0213 - mae: 5.0213\n",
            "Epoch 434/2000\n",
            "1/1 [==============================] - 0s 9ms/step - loss: 5.0156 - mae: 5.0156\n",
            "Epoch 435/2000\n",
            "1/1 [==============================] - 0s 14ms/step - loss: 5.0100 - mae: 5.0100\n",
            "Epoch 436/2000\n",
            "1/1 [==============================] - 0s 15ms/step - loss: 5.0044 - mae: 5.0044\n",
            "Epoch 437/2000\n",
            "1/1 [==============================] - 0s 17ms/step - loss: 4.9988 - mae: 4.9988\n",
            "Epoch 438/2000\n",
            "1/1 [==============================] - 0s 22ms/step - loss: 4.9931 - mae: 4.9931\n",
            "Epoch 439/2000\n",
            "1/1 [==============================] - 0s 17ms/step - loss: 4.9875 - mae: 4.9875\n",
            "Epoch 440/2000\n",
            "1/1 [==============================] - 0s 15ms/step - loss: 4.9819 - mae: 4.9819\n",
            "Epoch 441/2000\n",
            "1/1 [==============================] - 0s 18ms/step - loss: 4.9763 - mae: 4.9763\n",
            "Epoch 442/2000\n",
            "1/1 [==============================] - 0s 64ms/step - loss: 4.9706 - mae: 4.9706\n",
            "Epoch 443/2000\n",
            "1/1 [==============================] - 0s 67ms/step - loss: 4.9650 - mae: 4.9650\n",
            "Epoch 444/2000\n",
            "1/1 [==============================] - 0s 11ms/step - loss: 4.9594 - mae: 4.9594\n",
            "Epoch 445/2000\n",
            "1/1 [==============================] - 0s 14ms/step - loss: 4.9538 - mae: 4.9538\n",
            "Epoch 446/2000\n",
            "1/1 [==============================] - 0s 17ms/step - loss: 4.9481 - mae: 4.9481\n",
            "Epoch 447/2000\n",
            "1/1 [==============================] - 0s 14ms/step - loss: 4.9425 - mae: 4.9425\n",
            "Epoch 448/2000\n",
            "1/1 [==============================] - 0s 13ms/step - loss: 4.9369 - mae: 4.9369\n",
            "Epoch 449/2000\n",
            "1/1 [==============================] - 0s 12ms/step - loss: 4.9313 - mae: 4.9313\n",
            "Epoch 450/2000\n",
            "1/1 [==============================] - 0s 17ms/step - loss: 4.9256 - mae: 4.9256\n",
            "Epoch 451/2000\n",
            "1/1 [==============================] - 0s 14ms/step - loss: 4.9200 - mae: 4.9200\n",
            "Epoch 452/2000\n",
            "1/1 [==============================] - 0s 10ms/step - loss: 4.9144 - mae: 4.9144\n",
            "Epoch 453/2000\n",
            "1/1 [==============================] - 0s 17ms/step - loss: 4.9088 - mae: 4.9088\n",
            "Epoch 454/2000\n",
            "1/1 [==============================] - 0s 10ms/step - loss: 4.9031 - mae: 4.9031\n",
            "Epoch 455/2000\n",
            "1/1 [==============================] - 0s 12ms/step - loss: 4.8975 - mae: 4.8975\n",
            "Epoch 456/2000\n",
            "1/1 [==============================] - 0s 10ms/step - loss: 4.8919 - mae: 4.8919\n",
            "Epoch 457/2000\n",
            "1/1 [==============================] - 0s 12ms/step - loss: 4.8863 - mae: 4.8863\n",
            "Epoch 458/2000\n",
            "1/1 [==============================] - 0s 13ms/step - loss: 4.8806 - mae: 4.8806\n",
            "Epoch 459/2000\n",
            "1/1 [==============================] - 0s 12ms/step - loss: 4.8750 - mae: 4.8750\n",
            "Epoch 460/2000\n",
            "1/1 [==============================] - 0s 19ms/step - loss: 4.8712 - mae: 4.8712\n",
            "Epoch 461/2000\n",
            "1/1 [==============================] - 0s 41ms/step - loss: 4.8656 - mae: 4.8656\n",
            "Epoch 462/2000\n",
            "1/1 [==============================] - 0s 13ms/step - loss: 4.8600 - mae: 4.8600\n",
            "Epoch 463/2000\n",
            "1/1 [==============================] - 0s 33ms/step - loss: 4.8544 - mae: 4.8544\n",
            "Epoch 464/2000\n",
            "1/1 [==============================] - 0s 44ms/step - loss: 4.8488 - mae: 4.8488\n",
            "Epoch 465/2000\n",
            "1/1 [==============================] - 0s 23ms/step - loss: 4.8431 - mae: 4.8431\n",
            "Epoch 466/2000\n",
            "1/1 [==============================] - 0s 17ms/step - loss: 4.8375 - mae: 4.8375\n",
            "Epoch 467/2000\n",
            "1/1 [==============================] - 0s 28ms/step - loss: 4.8319 - mae: 4.8319\n",
            "Epoch 468/2000\n",
            "1/1 [==============================] - 0s 31ms/step - loss: 4.8263 - mae: 4.8263\n",
            "Epoch 469/2000\n",
            "1/1 [==============================] - 0s 26ms/step - loss: 4.8206 - mae: 4.8206\n",
            "Epoch 470/2000\n",
            "1/1 [==============================] - 0s 11ms/step - loss: 4.8150 - mae: 4.8150\n",
            "Epoch 471/2000\n",
            "1/1 [==============================] - 0s 9ms/step - loss: 4.8094 - mae: 4.8094\n",
            "Epoch 472/2000\n",
            "1/1 [==============================] - 0s 33ms/step - loss: 4.8038 - mae: 4.8038\n",
            "Epoch 473/2000\n",
            "1/1 [==============================] - 0s 32ms/step - loss: 4.7981 - mae: 4.7981\n",
            "Epoch 474/2000\n",
            "1/1 [==============================] - 0s 12ms/step - loss: 4.7925 - mae: 4.7925\n",
            "Epoch 475/2000\n",
            "1/1 [==============================] - 0s 14ms/step - loss: 4.7869 - mae: 4.7869\n",
            "Epoch 476/2000\n",
            "1/1 [==============================] - 0s 14ms/step - loss: 4.7813 - mae: 4.7813\n",
            "Epoch 477/2000\n",
            "1/1 [==============================] - 0s 18ms/step - loss: 4.7756 - mae: 4.7756\n",
            "Epoch 478/2000\n",
            "1/1 [==============================] - 0s 8ms/step - loss: 4.7700 - mae: 4.7700\n",
            "Epoch 479/2000\n",
            "1/1 [==============================] - 0s 19ms/step - loss: 4.7644 - mae: 4.7644\n",
            "Epoch 480/2000\n",
            "1/1 [==============================] - 0s 27ms/step - loss: 4.7588 - mae: 4.7588\n",
            "Epoch 481/2000\n",
            "1/1 [==============================] - 0s 16ms/step - loss: 4.7531 - mae: 4.7531\n",
            "Epoch 482/2000\n",
            "1/1 [==============================] - 0s 23ms/step - loss: 4.7475 - mae: 4.7475\n",
            "Epoch 483/2000\n",
            "1/1 [==============================] - 0s 34ms/step - loss: 4.7419 - mae: 4.7419\n",
            "Epoch 484/2000\n",
            "1/1 [==============================] - 0s 10ms/step - loss: 4.7363 - mae: 4.7363\n",
            "Epoch 485/2000\n",
            "1/1 [==============================] - 0s 20ms/step - loss: 4.7306 - mae: 4.7306\n",
            "Epoch 486/2000\n",
            "1/1 [==============================] - 0s 7ms/step - loss: 4.7250 - mae: 4.7250\n",
            "Epoch 487/2000\n",
            "1/1 [==============================] - 0s 11ms/step - loss: 4.7194 - mae: 4.7194\n",
            "Epoch 488/2000\n",
            "1/1 [==============================] - 0s 22ms/step - loss: 4.7138 - mae: 4.7138\n",
            "Epoch 489/2000\n",
            "1/1 [==============================] - 0s 9ms/step - loss: 4.7081 - mae: 4.7081\n",
            "Epoch 490/2000\n",
            "1/1 [==============================] - 0s 11ms/step - loss: 4.7025 - mae: 4.7025\n",
            "Epoch 491/2000\n",
            "1/1 [==============================] - 0s 11ms/step - loss: 4.6969 - mae: 4.6969\n",
            "Epoch 492/2000\n",
            "1/1 [==============================] - 0s 12ms/step - loss: 4.6913 - mae: 4.6913\n",
            "Epoch 493/2000\n",
            "1/1 [==============================] - 0s 7ms/step - loss: 4.6856 - mae: 4.6856\n",
            "Epoch 494/2000\n",
            "1/1 [==============================] - 0s 17ms/step - loss: 4.6800 - mae: 4.6800\n",
            "Epoch 495/2000\n",
            "1/1 [==============================] - 0s 13ms/step - loss: 4.6744 - mae: 4.6744\n",
            "Epoch 496/2000\n",
            "1/1 [==============================] - 0s 15ms/step - loss: 4.6688 - mae: 4.6688\n",
            "Epoch 497/2000\n",
            "1/1 [==============================] - 0s 20ms/step - loss: 4.6631 - mae: 4.6631\n",
            "Epoch 498/2000\n",
            "1/1 [==============================] - 0s 13ms/step - loss: 4.6575 - mae: 4.6575\n",
            "Epoch 499/2000\n",
            "1/1 [==============================] - 0s 11ms/step - loss: 4.6519 - mae: 4.6519\n",
            "Epoch 500/2000\n",
            "1/1 [==============================] - 0s 11ms/step - loss: 4.6468 - mae: 4.6468\n",
            "Epoch 501/2000\n",
            "1/1 [==============================] - 0s 12ms/step - loss: 4.6425 - mae: 4.6425\n",
            "Epoch 502/2000\n",
            "1/1 [==============================] - 0s 22ms/step - loss: 4.6369 - mae: 4.6369\n",
            "Epoch 503/2000\n",
            "1/1 [==============================] - 0s 5ms/step - loss: 4.6313 - mae: 4.6313\n",
            "Epoch 504/2000\n",
            "1/1 [==============================] - 0s 11ms/step - loss: 4.6256 - mae: 4.6256\n",
            "Epoch 505/2000\n",
            "1/1 [==============================] - 0s 37ms/step - loss: 4.6200 - mae: 4.6200\n",
            "Epoch 506/2000\n",
            "1/1 [==============================] - 0s 9ms/step - loss: 4.6144 - mae: 4.6144\n",
            "Epoch 507/2000\n",
            "1/1 [==============================] - 0s 38ms/step - loss: 4.6088 - mae: 4.6088\n",
            "Epoch 508/2000\n",
            "1/1 [==============================] - 0s 13ms/step - loss: 4.6031 - mae: 4.6031\n",
            "Epoch 509/2000\n",
            "1/1 [==============================] - 0s 8ms/step - loss: 4.5975 - mae: 4.5975\n",
            "Epoch 510/2000\n",
            "1/1 [==============================] - 0s 28ms/step - loss: 4.5919 - mae: 4.5919\n",
            "Epoch 511/2000\n",
            "1/1 [==============================] - 0s 15ms/step - loss: 4.5863 - mae: 4.5863\n",
            "Epoch 512/2000\n",
            "1/1 [==============================] - 0s 24ms/step - loss: 4.5806 - mae: 4.5806\n",
            "Epoch 513/2000\n",
            "1/1 [==============================] - 0s 15ms/step - loss: 4.5750 - mae: 4.5750\n",
            "Epoch 514/2000\n",
            "1/1 [==============================] - 0s 22ms/step - loss: 4.5694 - mae: 4.5694\n",
            "Epoch 515/2000\n",
            "1/1 [==============================] - 0s 19ms/step - loss: 4.5638 - mae: 4.5638\n",
            "Epoch 516/2000\n",
            "1/1 [==============================] - 0s 20ms/step - loss: 4.5581 - mae: 4.5581\n",
            "Epoch 517/2000\n",
            "1/1 [==============================] - 0s 22ms/step - loss: 4.5525 - mae: 4.5525\n",
            "Epoch 518/2000\n",
            "1/1 [==============================] - 0s 10ms/step - loss: 4.5469 - mae: 4.5469\n",
            "Epoch 519/2000\n",
            "1/1 [==============================] - 0s 15ms/step - loss: 4.5413 - mae: 4.5413\n",
            "Epoch 520/2000\n",
            "1/1 [==============================] - 0s 12ms/step - loss: 4.5356 - mae: 4.5356\n",
            "Epoch 521/2000\n",
            "1/1 [==============================] - 0s 15ms/step - loss: 4.5300 - mae: 4.5300\n",
            "Epoch 522/2000\n",
            "1/1 [==============================] - 0s 9ms/step - loss: 4.5244 - mae: 4.5244\n",
            "Epoch 523/2000\n",
            "1/1 [==============================] - 0s 14ms/step - loss: 4.5188 - mae: 4.5188\n",
            "Epoch 524/2000\n",
            "1/1 [==============================] - 0s 19ms/step - loss: 4.5131 - mae: 4.5131\n",
            "Epoch 525/2000\n",
            "1/1 [==============================] - 0s 15ms/step - loss: 4.5075 - mae: 4.5075\n",
            "Epoch 526/2000\n",
            "1/1 [==============================] - 0s 16ms/step - loss: 4.5019 - mae: 4.5019\n",
            "Epoch 527/2000\n",
            "1/1 [==============================] - 0s 16ms/step - loss: 4.4963 - mae: 4.4963\n",
            "Epoch 528/2000\n",
            "1/1 [==============================] - 0s 19ms/step - loss: 4.4906 - mae: 4.4906\n",
            "Epoch 529/2000\n",
            "1/1 [==============================] - 0s 10ms/step - loss: 4.4850 - mae: 4.4850\n",
            "Epoch 530/2000\n",
            "1/1 [==============================] - 0s 8ms/step - loss: 4.4794 - mae: 4.4794\n",
            "Epoch 531/2000\n",
            "1/1 [==============================] - 0s 12ms/step - loss: 4.4738 - mae: 4.4738\n",
            "Epoch 532/2000\n",
            "1/1 [==============================] - 0s 7ms/step - loss: 4.4681 - mae: 4.4681\n",
            "Epoch 533/2000\n",
            "1/1 [==============================] - 0s 10ms/step - loss: 4.4625 - mae: 4.4625\n",
            "Epoch 534/2000\n",
            "1/1 [==============================] - 0s 19ms/step - loss: 4.4569 - mae: 4.4569\n",
            "Epoch 535/2000\n",
            "1/1 [==============================] - 0s 13ms/step - loss: 4.4513 - mae: 4.4513\n",
            "Epoch 536/2000\n",
            "1/1 [==============================] - 0s 9ms/step - loss: 4.4456 - mae: 4.4456\n",
            "Epoch 537/2000\n",
            "1/1 [==============================] - 0s 14ms/step - loss: 4.4400 - mae: 4.4400\n",
            "Epoch 538/2000\n",
            "1/1 [==============================] - 0s 16ms/step - loss: 4.4344 - mae: 4.4344\n",
            "Epoch 539/2000\n",
            "1/1 [==============================] - 0s 11ms/step - loss: 4.4288 - mae: 4.4288\n",
            "Epoch 540/2000\n",
            "1/1 [==============================] - 0s 8ms/step - loss: 4.4231 - mae: 4.4231\n",
            "Epoch 541/2000\n",
            "1/1 [==============================] - 0s 6ms/step - loss: 4.4187 - mae: 4.4187\n",
            "Epoch 542/2000\n",
            "1/1 [==============================] - 0s 9ms/step - loss: 4.4138 - mae: 4.4138\n",
            "Epoch 543/2000\n",
            "1/1 [==============================] - 0s 7ms/step - loss: 4.4081 - mae: 4.4081\n",
            "Epoch 544/2000\n",
            "1/1 [==============================] - 0s 7ms/step - loss: 4.4025 - mae: 4.4025\n",
            "Epoch 545/2000\n",
            "1/1 [==============================] - 0s 6ms/step - loss: 4.3969 - mae: 4.3969\n",
            "Epoch 546/2000\n",
            "1/1 [==============================] - 0s 12ms/step - loss: 4.3913 - mae: 4.3913\n",
            "Epoch 547/2000\n",
            "1/1 [==============================] - 0s 6ms/step - loss: 4.3856 - mae: 4.3856\n",
            "Epoch 548/2000\n",
            "1/1 [==============================] - 0s 8ms/step - loss: 4.3800 - mae: 4.3800\n",
            "Epoch 549/2000\n",
            "1/1 [==============================] - 0s 7ms/step - loss: 4.3744 - mae: 4.3744\n",
            "Epoch 550/2000\n",
            "1/1 [==============================] - 0s 9ms/step - loss: 4.3688 - mae: 4.3688\n",
            "Epoch 551/2000\n",
            "1/1 [==============================] - 0s 21ms/step - loss: 4.3631 - mae: 4.3631\n",
            "Epoch 552/2000\n",
            "1/1 [==============================] - 0s 13ms/step - loss: 4.3575 - mae: 4.3575\n",
            "Epoch 553/2000\n",
            "1/1 [==============================] - 0s 23ms/step - loss: 4.3519 - mae: 4.3519\n",
            "Epoch 554/2000\n",
            "1/1 [==============================] - 0s 8ms/step - loss: 4.3463 - mae: 4.3463\n",
            "Epoch 555/2000\n",
            "1/1 [==============================] - 0s 20ms/step - loss: 4.3406 - mae: 4.3406\n",
            "Epoch 556/2000\n",
            "1/1 [==============================] - 0s 6ms/step - loss: 4.3350 - mae: 4.3350\n",
            "Epoch 557/2000\n",
            "1/1 [==============================] - 0s 12ms/step - loss: 4.3294 - mae: 4.3294\n",
            "Epoch 558/2000\n",
            "1/1 [==============================] - 0s 12ms/step - loss: 4.3238 - mae: 4.3238\n",
            "Epoch 559/2000\n",
            "1/1 [==============================] - 0s 12ms/step - loss: 4.3181 - mae: 4.3181\n",
            "Epoch 560/2000\n",
            "1/1 [==============================] - 0s 10ms/step - loss: 4.3125 - mae: 4.3125\n",
            "Epoch 561/2000\n",
            "1/1 [==============================] - 0s 18ms/step - loss: 4.3069 - mae: 4.3069\n",
            "Epoch 562/2000\n",
            "1/1 [==============================] - 0s 8ms/step - loss: 4.3013 - mae: 4.3013\n",
            "Epoch 563/2000\n",
            "1/1 [==============================] - 0s 19ms/step - loss: 4.2956 - mae: 4.2956\n",
            "Epoch 564/2000\n",
            "1/1 [==============================] - 0s 6ms/step - loss: 4.2900 - mae: 4.2900\n",
            "Epoch 565/2000\n",
            "1/1 [==============================] - 0s 6ms/step - loss: 4.2844 - mae: 4.2844\n",
            "Epoch 566/2000\n",
            "1/1 [==============================] - 0s 6ms/step - loss: 4.2788 - mae: 4.2788\n",
            "Epoch 567/2000\n",
            "1/1 [==============================] - 0s 11ms/step - loss: 4.2731 - mae: 4.2731\n",
            "Epoch 568/2000\n",
            "1/1 [==============================] - 0s 19ms/step - loss: 4.2675 - mae: 4.2675\n",
            "Epoch 569/2000\n",
            "1/1 [==============================] - 0s 25ms/step - loss: 4.2619 - mae: 4.2619\n",
            "Epoch 570/2000\n",
            "1/1 [==============================] - 0s 15ms/step - loss: 4.2563 - mae: 4.2563\n",
            "Epoch 571/2000\n",
            "1/1 [==============================] - 0s 10ms/step - loss: 4.2506 - mae: 4.2506\n",
            "Epoch 572/2000\n",
            "1/1 [==============================] - 0s 11ms/step - loss: 4.2450 - mae: 4.2450\n",
            "Epoch 573/2000\n",
            "1/1 [==============================] - 0s 38ms/step - loss: 4.2394 - mae: 4.2394\n",
            "Epoch 574/2000\n",
            "1/1 [==============================] - 0s 17ms/step - loss: 4.2338 - mae: 4.2338\n",
            "Epoch 575/2000\n",
            "1/1 [==============================] - 0s 18ms/step - loss: 4.2281 - mae: 4.2281\n",
            "Epoch 576/2000\n",
            "1/1 [==============================] - 0s 10ms/step - loss: 4.2225 - mae: 4.2225\n",
            "Epoch 577/2000\n",
            "1/1 [==============================] - 0s 30ms/step - loss: 4.2169 - mae: 4.2169\n",
            "Epoch 578/2000\n",
            "1/1 [==============================] - 0s 37ms/step - loss: 4.2113 - mae: 4.2113\n",
            "Epoch 579/2000\n",
            "1/1 [==============================] - 0s 24ms/step - loss: 4.2056 - mae: 4.2056\n",
            "Epoch 580/2000\n",
            "1/1 [==============================] - 0s 47ms/step - loss: 4.2000 - mae: 4.2000\n",
            "Epoch 581/2000\n",
            "1/1 [==============================] - 0s 43ms/step - loss: 4.1944 - mae: 4.1944\n",
            "Epoch 582/2000\n",
            "1/1 [==============================] - 0s 7ms/step - loss: 4.1905 - mae: 4.1905\n",
            "Epoch 583/2000\n",
            "1/1 [==============================] - 0s 10ms/step - loss: 4.1850 - mae: 4.1850\n",
            "Epoch 584/2000\n",
            "1/1 [==============================] - 0s 12ms/step - loss: 4.1794 - mae: 4.1794\n",
            "Epoch 585/2000\n",
            "1/1 [==============================] - 0s 12ms/step - loss: 4.1738 - mae: 4.1738\n",
            "Epoch 586/2000\n",
            "1/1 [==============================] - 0s 13ms/step - loss: 4.1681 - mae: 4.1681\n",
            "Epoch 587/2000\n",
            "1/1 [==============================] - 0s 13ms/step - loss: 4.1625 - mae: 4.1625\n",
            "Epoch 588/2000\n",
            "1/1 [==============================] - 0s 31ms/step - loss: 4.1569 - mae: 4.1569\n",
            "Epoch 589/2000\n",
            "1/1 [==============================] - 0s 24ms/step - loss: 4.1512 - mae: 4.1512\n",
            "Epoch 590/2000\n",
            "1/1 [==============================] - 0s 13ms/step - loss: 4.1456 - mae: 4.1456\n",
            "Epoch 591/2000\n",
            "1/1 [==============================] - 0s 65ms/step - loss: 4.1400 - mae: 4.1400\n",
            "Epoch 592/2000\n",
            "1/1 [==============================] - 0s 43ms/step - loss: 4.1344 - mae: 4.1344\n",
            "Epoch 593/2000\n",
            "1/1 [==============================] - 0s 36ms/step - loss: 4.1287 - mae: 4.1287\n",
            "Epoch 594/2000\n",
            "1/1 [==============================] - 0s 14ms/step - loss: 4.1231 - mae: 4.1231\n",
            "Epoch 595/2000\n",
            "1/1 [==============================] - 0s 17ms/step - loss: 4.1175 - mae: 4.1175\n",
            "Epoch 596/2000\n",
            "1/1 [==============================] - 0s 11ms/step - loss: 4.1119 - mae: 4.1119\n",
            "Epoch 597/2000\n",
            "1/1 [==============================] - 0s 10ms/step - loss: 4.1062 - mae: 4.1062\n",
            "Epoch 598/2000\n",
            "1/1 [==============================] - 0s 8ms/step - loss: 4.1006 - mae: 4.1006\n",
            "Epoch 599/2000\n",
            "1/1 [==============================] - 0s 10ms/step - loss: 4.0950 - mae: 4.0950\n",
            "Epoch 600/2000\n",
            "1/1 [==============================] - 0s 15ms/step - loss: 4.0894 - mae: 4.0894\n",
            "Epoch 601/2000\n",
            "1/1 [==============================] - 0s 40ms/step - loss: 4.0837 - mae: 4.0837\n",
            "Epoch 602/2000\n",
            "1/1 [==============================] - 0s 28ms/step - loss: 4.0781 - mae: 4.0781\n",
            "Epoch 603/2000\n",
            "1/1 [==============================] - 0s 10ms/step - loss: 4.0725 - mae: 4.0725\n",
            "Epoch 604/2000\n",
            "1/1 [==============================] - 0s 7ms/step - loss: 4.0669 - mae: 4.0669\n",
            "Epoch 605/2000\n",
            "1/1 [==============================] - 0s 6ms/step - loss: 4.0612 - mae: 4.0612\n",
            "Epoch 606/2000\n",
            "1/1 [==============================] - 0s 7ms/step - loss: 4.0556 - mae: 4.0556\n",
            "Epoch 607/2000\n",
            "1/1 [==============================] - 0s 8ms/step - loss: 4.0500 - mae: 4.0500\n",
            "Epoch 608/2000\n",
            "1/1 [==============================] - 0s 16ms/step - loss: 4.0444 - mae: 4.0444\n",
            "Epoch 609/2000\n",
            "1/1 [==============================] - 0s 23ms/step - loss: 4.0387 - mae: 4.0387\n",
            "Epoch 610/2000\n",
            "1/1 [==============================] - 0s 20ms/step - loss: 4.0331 - mae: 4.0331\n",
            "Epoch 611/2000\n",
            "1/1 [==============================] - 0s 12ms/step - loss: 4.0275 - mae: 4.0275\n",
            "Epoch 612/2000\n",
            "1/1 [==============================] - 0s 10ms/step - loss: 4.0219 - mae: 4.0219\n",
            "Epoch 613/2000\n",
            "1/1 [==============================] - 0s 13ms/step - loss: 4.0162 - mae: 4.0162\n",
            "Epoch 614/2000\n",
            "1/1 [==============================] - 0s 17ms/step - loss: 4.0106 - mae: 4.0106\n",
            "Epoch 615/2000\n",
            "1/1 [==============================] - 0s 58ms/step - loss: 4.0050 - mae: 4.0050\n",
            "Epoch 616/2000\n",
            "1/1 [==============================] - 0s 34ms/step - loss: 3.9994 - mae: 3.9994\n",
            "Epoch 617/2000\n",
            "1/1 [==============================] - 0s 18ms/step - loss: 3.9937 - mae: 3.9937\n",
            "Epoch 618/2000\n",
            "1/1 [==============================] - 0s 24ms/step - loss: 3.9881 - mae: 3.9881\n",
            "Epoch 619/2000\n",
            "1/1 [==============================] - 0s 21ms/step - loss: 3.9825 - mae: 3.9825\n",
            "Epoch 620/2000\n",
            "1/1 [==============================] - 0s 18ms/step - loss: 3.9769 - mae: 3.9769\n",
            "Epoch 621/2000\n",
            "1/1 [==============================] - 0s 16ms/step - loss: 3.9712 - mae: 3.9712\n",
            "Epoch 622/2000\n",
            "1/1 [==============================] - 0s 24ms/step - loss: 3.9661 - mae: 3.9661\n",
            "Epoch 623/2000\n",
            "1/1 [==============================] - 0s 25ms/step - loss: 3.9619 - mae: 3.9619\n",
            "Epoch 624/2000\n",
            "1/1 [==============================] - 0s 11ms/step - loss: 3.9562 - mae: 3.9562\n",
            "Epoch 625/2000\n",
            "1/1 [==============================] - 0s 17ms/step - loss: 3.9506 - mae: 3.9506\n",
            "Epoch 626/2000\n",
            "1/1 [==============================] - 0s 31ms/step - loss: 3.9450 - mae: 3.9450\n",
            "Epoch 627/2000\n",
            "1/1 [==============================] - 0s 17ms/step - loss: 3.9394 - mae: 3.9394\n",
            "Epoch 628/2000\n",
            "1/1 [==============================] - 0s 16ms/step - loss: 3.9337 - mae: 3.9337\n",
            "Epoch 629/2000\n",
            "1/1 [==============================] - 0s 11ms/step - loss: 3.9281 - mae: 3.9281\n",
            "Epoch 630/2000\n",
            "1/1 [==============================] - 0s 13ms/step - loss: 3.9225 - mae: 3.9225\n",
            "Epoch 631/2000\n",
            "1/1 [==============================] - 0s 14ms/step - loss: 3.9169 - mae: 3.9169\n",
            "Epoch 632/2000\n",
            "1/1 [==============================] - 0s 19ms/step - loss: 3.9112 - mae: 3.9112\n",
            "Epoch 633/2000\n",
            "1/1 [==============================] - 0s 17ms/step - loss: 3.9056 - mae: 3.9056\n",
            "Epoch 634/2000\n",
            "1/1 [==============================] - 0s 14ms/step - loss: 3.9000 - mae: 3.9000\n",
            "Epoch 635/2000\n",
            "1/1 [==============================] - 0s 18ms/step - loss: 3.8944 - mae: 3.8944\n",
            "Epoch 636/2000\n",
            "1/1 [==============================] - 0s 35ms/step - loss: 3.8887 - mae: 3.8887\n",
            "Epoch 637/2000\n",
            "1/1 [==============================] - 0s 26ms/step - loss: 3.8831 - mae: 3.8831\n",
            "Epoch 638/2000\n",
            "1/1 [==============================] - 0s 18ms/step - loss: 3.8775 - mae: 3.8775\n",
            "Epoch 639/2000\n",
            "1/1 [==============================] - 0s 14ms/step - loss: 3.8719 - mae: 3.8719\n",
            "Epoch 640/2000\n",
            "1/1 [==============================] - 0s 26ms/step - loss: 3.8662 - mae: 3.8662\n",
            "Epoch 641/2000\n",
            "1/1 [==============================] - 0s 21ms/step - loss: 3.8606 - mae: 3.8606\n",
            "Epoch 642/2000\n",
            "1/1 [==============================] - 0s 32ms/step - loss: 3.8550 - mae: 3.8550\n",
            "Epoch 643/2000\n",
            "1/1 [==============================] - 0s 27ms/step - loss: 3.8494 - mae: 3.8494\n",
            "Epoch 644/2000\n",
            "1/1 [==============================] - 0s 23ms/step - loss: 3.8437 - mae: 3.8437\n",
            "Epoch 645/2000\n",
            "1/1 [==============================] - 0s 29ms/step - loss: 3.8381 - mae: 3.8381\n",
            "Epoch 646/2000\n",
            "1/1 [==============================] - 0s 25ms/step - loss: 3.8325 - mae: 3.8325\n",
            "Epoch 647/2000\n",
            "1/1 [==============================] - 0s 24ms/step - loss: 3.8269 - mae: 3.8269\n",
            "Epoch 648/2000\n",
            "1/1 [==============================] - 0s 58ms/step - loss: 3.8212 - mae: 3.8212\n",
            "Epoch 649/2000\n",
            "1/1 [==============================] - 0s 75ms/step - loss: 3.8156 - mae: 3.8156\n",
            "Epoch 650/2000\n",
            "1/1 [==============================] - 0s 9ms/step - loss: 3.8100 - mae: 3.8100\n",
            "Epoch 651/2000\n",
            "1/1 [==============================] - 0s 13ms/step - loss: 3.8044 - mae: 3.8044\n",
            "Epoch 652/2000\n",
            "1/1 [==============================] - 0s 8ms/step - loss: 3.7987 - mae: 3.7987\n",
            "Epoch 653/2000\n",
            "1/1 [==============================] - 0s 22ms/step - loss: 3.7931 - mae: 3.7931\n",
            "Epoch 654/2000\n",
            "1/1 [==============================] - 0s 7ms/step - loss: 3.7875 - mae: 3.7875\n",
            "Epoch 655/2000\n",
            "1/1 [==============================] - 0s 19ms/step - loss: 3.7819 - mae: 3.7819\n",
            "Epoch 656/2000\n",
            "1/1 [==============================] - 0s 40ms/step - loss: 3.7762 - mae: 3.7762\n",
            "Epoch 657/2000\n",
            "1/1 [==============================] - 0s 19ms/step - loss: 3.7706 - mae: 3.7706\n",
            "Epoch 658/2000\n",
            "1/1 [==============================] - 0s 12ms/step - loss: 3.7650 - mae: 3.7650\n",
            "Epoch 659/2000\n",
            "1/1 [==============================] - 0s 22ms/step - loss: 3.7594 - mae: 3.7594\n",
            "Epoch 660/2000\n",
            "1/1 [==============================] - 0s 12ms/step - loss: 3.7537 - mae: 3.7537\n",
            "Epoch 661/2000\n",
            "1/1 [==============================] - 0s 9ms/step - loss: 3.7481 - mae: 3.7481\n",
            "Epoch 662/2000\n",
            "1/1 [==============================] - 0s 17ms/step - loss: 3.7425 - mae: 3.7425\n",
            "Epoch 663/2000\n",
            "1/1 [==============================] - 0s 11ms/step - loss: 3.7380 - mae: 3.7380\n",
            "Epoch 664/2000\n",
            "1/1 [==============================] - 0s 9ms/step - loss: 3.7331 - mae: 3.7331\n",
            "Epoch 665/2000\n",
            "1/1 [==============================] - 0s 12ms/step - loss: 3.7275 - mae: 3.7275\n",
            "Epoch 666/2000\n",
            "1/1 [==============================] - 0s 11ms/step - loss: 3.7219 - mae: 3.7219\n",
            "Epoch 667/2000\n",
            "1/1 [==============================] - 0s 12ms/step - loss: 3.7162 - mae: 3.7162\n",
            "Epoch 668/2000\n",
            "1/1 [==============================] - 0s 29ms/step - loss: 3.7106 - mae: 3.7106\n",
            "Epoch 669/2000\n",
            "1/1 [==============================] - 0s 8ms/step - loss: 3.7050 - mae: 3.7050\n",
            "Epoch 670/2000\n",
            "1/1 [==============================] - 0s 12ms/step - loss: 3.6994 - mae: 3.6994\n",
            "Epoch 671/2000\n",
            "1/1 [==============================] - 0s 13ms/step - loss: 3.6937 - mae: 3.6937\n",
            "Epoch 672/2000\n",
            "1/1 [==============================] - 0s 18ms/step - loss: 3.6881 - mae: 3.6881\n",
            "Epoch 673/2000\n",
            "1/1 [==============================] - 0s 15ms/step - loss: 3.6825 - mae: 3.6825\n",
            "Epoch 674/2000\n",
            "1/1 [==============================] - 0s 31ms/step - loss: 3.6769 - mae: 3.6769\n",
            "Epoch 675/2000\n",
            "1/1 [==============================] - 0s 32ms/step - loss: 3.6712 - mae: 3.6712\n",
            "Epoch 676/2000\n",
            "1/1 [==============================] - 0s 20ms/step - loss: 3.6656 - mae: 3.6656\n",
            "Epoch 677/2000\n",
            "1/1 [==============================] - 0s 11ms/step - loss: 3.6600 - mae: 3.6600\n",
            "Epoch 678/2000\n",
            "1/1 [==============================] - 0s 23ms/step - loss: 3.6544 - mae: 3.6544\n",
            "Epoch 679/2000\n",
            "1/1 [==============================] - 0s 19ms/step - loss: 3.6487 - mae: 3.6487\n",
            "Epoch 680/2000\n",
            "1/1 [==============================] - 0s 12ms/step - loss: 3.6431 - mae: 3.6431\n",
            "Epoch 681/2000\n",
            "1/1 [==============================] - 0s 18ms/step - loss: 3.6375 - mae: 3.6375\n",
            "Epoch 682/2000\n",
            "1/1 [==============================] - 0s 23ms/step - loss: 3.6319 - mae: 3.6319\n",
            "Epoch 683/2000\n",
            "1/1 [==============================] - 0s 24ms/step - loss: 3.6262 - mae: 3.6262\n",
            "Epoch 684/2000\n",
            "1/1 [==============================] - 0s 46ms/step - loss: 3.6206 - mae: 3.6206\n",
            "Epoch 685/2000\n",
            "1/1 [==============================] - 0s 12ms/step - loss: 3.6150 - mae: 3.6150\n",
            "Epoch 686/2000\n",
            "1/1 [==============================] - 0s 11ms/step - loss: 3.6094 - mae: 3.6094\n",
            "Epoch 687/2000\n",
            "1/1 [==============================] - 0s 22ms/step - loss: 3.6037 - mae: 3.6037\n",
            "Epoch 688/2000\n",
            "1/1 [==============================] - 0s 28ms/step - loss: 3.5981 - mae: 3.5981\n",
            "Epoch 689/2000\n",
            "1/1 [==============================] - 0s 19ms/step - loss: 3.5925 - mae: 3.5925\n",
            "Epoch 690/2000\n",
            "1/1 [==============================] - 0s 19ms/step - loss: 3.5869 - mae: 3.5869\n",
            "Epoch 691/2000\n",
            "1/1 [==============================] - 0s 19ms/step - loss: 3.5812 - mae: 3.5812\n",
            "Epoch 692/2000\n",
            "1/1 [==============================] - 0s 13ms/step - loss: 3.5756 - mae: 3.5756\n",
            "Epoch 693/2000\n",
            "1/1 [==============================] - 0s 11ms/step - loss: 3.5700 - mae: 3.5700\n",
            "Epoch 694/2000\n",
            "1/1 [==============================] - 0s 19ms/step - loss: 3.5644 - mae: 3.5644\n",
            "Epoch 695/2000\n",
            "1/1 [==============================] - 0s 10ms/step - loss: 3.5587 - mae: 3.5587\n",
            "Epoch 696/2000\n",
            "1/1 [==============================] - 0s 12ms/step - loss: 3.5531 - mae: 3.5531\n",
            "Epoch 697/2000\n",
            "1/1 [==============================] - 0s 10ms/step - loss: 3.5475 - mae: 3.5475\n",
            "Epoch 698/2000\n",
            "1/1 [==============================] - 0s 6ms/step - loss: 3.5419 - mae: 3.5419\n",
            "Epoch 699/2000\n",
            "1/1 [==============================] - 0s 8ms/step - loss: 3.5362 - mae: 3.5362\n",
            "Epoch 700/2000\n",
            "1/1 [==============================] - 0s 23ms/step - loss: 3.5306 - mae: 3.5306\n",
            "Epoch 701/2000\n",
            "1/1 [==============================] - 0s 41ms/step - loss: 3.5250 - mae: 3.5250\n",
            "Epoch 702/2000\n",
            "1/1 [==============================] - 0s 13ms/step - loss: 3.5194 - mae: 3.5194\n",
            "Epoch 703/2000\n",
            "1/1 [==============================] - 0s 10ms/step - loss: 3.5137 - mae: 3.5137\n",
            "Epoch 704/2000\n",
            "1/1 [==============================] - 0s 14ms/step - loss: 3.5099 - mae: 3.5099\n",
            "Epoch 705/2000\n",
            "1/1 [==============================] - 0s 19ms/step - loss: 3.5044 - mae: 3.5044\n",
            "Epoch 706/2000\n",
            "1/1 [==============================] - 0s 55ms/step - loss: 3.4987 - mae: 3.4987\n",
            "Epoch 707/2000\n",
            "1/1 [==============================] - 0s 20ms/step - loss: 3.4931 - mae: 3.4931\n",
            "Epoch 708/2000\n",
            "1/1 [==============================] - 0s 20ms/step - loss: 3.4875 - mae: 3.4875\n",
            "Epoch 709/2000\n",
            "1/1 [==============================] - 0s 23ms/step - loss: 3.4819 - mae: 3.4819\n",
            "Epoch 710/2000\n",
            "1/1 [==============================] - 0s 20ms/step - loss: 3.4762 - mae: 3.4762\n",
            "Epoch 711/2000\n",
            "1/1 [==============================] - 0s 9ms/step - loss: 3.4706 - mae: 3.4706\n",
            "Epoch 712/2000\n",
            "1/1 [==============================] - 0s 6ms/step - loss: 3.4650 - mae: 3.4650\n",
            "Epoch 713/2000\n",
            "1/1 [==============================] - 0s 8ms/step - loss: 3.4594 - mae: 3.4594\n",
            "Epoch 714/2000\n",
            "1/1 [==============================] - 0s 7ms/step - loss: 3.4537 - mae: 3.4537\n",
            "Epoch 715/2000\n",
            "1/1 [==============================] - 0s 9ms/step - loss: 3.4481 - mae: 3.4481\n",
            "Epoch 716/2000\n",
            "1/1 [==============================] - 0s 11ms/step - loss: 3.4425 - mae: 3.4425\n",
            "Epoch 717/2000\n",
            "1/1 [==============================] - 0s 20ms/step - loss: 3.4369 - mae: 3.4369\n",
            "Epoch 718/2000\n",
            "1/1 [==============================] - 0s 16ms/step - loss: 3.4312 - mae: 3.4312\n",
            "Epoch 719/2000\n",
            "1/1 [==============================] - 0s 13ms/step - loss: 3.4256 - mae: 3.4256\n",
            "Epoch 720/2000\n",
            "1/1 [==============================] - 0s 11ms/step - loss: 3.4200 - mae: 3.4200\n",
            "Epoch 721/2000\n",
            "1/1 [==============================] - 0s 14ms/step - loss: 3.4144 - mae: 3.4144\n",
            "Epoch 722/2000\n",
            "1/1 [==============================] - 0s 10ms/step - loss: 3.4087 - mae: 3.4087\n",
            "Epoch 723/2000\n",
            "1/1 [==============================] - 0s 13ms/step - loss: 3.4031 - mae: 3.4031\n",
            "Epoch 724/2000\n",
            "1/1 [==============================] - 0s 34ms/step - loss: 3.3975 - mae: 3.3975\n",
            "Epoch 725/2000\n",
            "1/1 [==============================] - 0s 15ms/step - loss: 3.3919 - mae: 3.3919\n",
            "Epoch 726/2000\n",
            "1/1 [==============================] - 0s 19ms/step - loss: 3.3862 - mae: 3.3862\n",
            "Epoch 727/2000\n",
            "1/1 [==============================] - 0s 11ms/step - loss: 3.3806 - mae: 3.3806\n",
            "Epoch 728/2000\n",
            "1/1 [==============================] - 0s 6ms/step - loss: 3.3750 - mae: 3.3750\n",
            "Epoch 729/2000\n",
            "1/1 [==============================] - 0s 14ms/step - loss: 3.3694 - mae: 3.3694\n",
            "Epoch 730/2000\n",
            "1/1 [==============================] - 0s 18ms/step - loss: 3.3637 - mae: 3.3637\n",
            "Epoch 731/2000\n",
            "1/1 [==============================] - 0s 9ms/step - loss: 3.3581 - mae: 3.3581\n",
            "Epoch 732/2000\n",
            "1/1 [==============================] - 0s 19ms/step - loss: 3.3525 - mae: 3.3525\n",
            "Epoch 733/2000\n",
            "1/1 [==============================] - 0s 19ms/step - loss: 3.3469 - mae: 3.3469\n",
            "Epoch 734/2000\n",
            "1/1 [==============================] - 0s 17ms/step - loss: 3.3412 - mae: 3.3412\n",
            "Epoch 735/2000\n",
            "1/1 [==============================] - 0s 24ms/step - loss: 3.3356 - mae: 3.3356\n",
            "Epoch 736/2000\n",
            "1/1 [==============================] - 0s 18ms/step - loss: 3.3300 - mae: 3.3300\n",
            "Epoch 737/2000\n",
            "1/1 [==============================] - 0s 12ms/step - loss: 3.3244 - mae: 3.3244\n",
            "Epoch 738/2000\n",
            "1/1 [==============================] - 0s 20ms/step - loss: 3.3187 - mae: 3.3187\n",
            "Epoch 739/2000\n",
            "1/1 [==============================] - 0s 6ms/step - loss: 3.3131 - mae: 3.3131\n",
            "Epoch 740/2000\n",
            "1/1 [==============================] - 0s 15ms/step - loss: 3.3075 - mae: 3.3075\n",
            "Epoch 741/2000\n",
            "1/1 [==============================] - 0s 20ms/step - loss: 3.3019 - mae: 3.3019\n",
            "Epoch 742/2000\n",
            "1/1 [==============================] - 0s 6ms/step - loss: 3.2962 - mae: 3.2962\n",
            "Epoch 743/2000\n",
            "1/1 [==============================] - 0s 11ms/step - loss: 3.2906 - mae: 3.2906\n",
            "Epoch 744/2000\n",
            "1/1 [==============================] - 0s 16ms/step - loss: 3.2855 - mae: 3.2855\n",
            "Epoch 745/2000\n",
            "1/1 [==============================] - 0s 6ms/step - loss: 3.2812 - mae: 3.2812\n",
            "Epoch 746/2000\n",
            "1/1 [==============================] - 0s 16ms/step - loss: 3.2756 - mae: 3.2756\n",
            "Epoch 747/2000\n",
            "1/1 [==============================] - 0s 17ms/step - loss: 3.2700 - mae: 3.2700\n",
            "Epoch 748/2000\n",
            "1/1 [==============================] - 0s 22ms/step - loss: 3.2644 - mae: 3.2644\n",
            "Epoch 749/2000\n",
            "1/1 [==============================] - 0s 11ms/step - loss: 3.2587 - mae: 3.2587\n",
            "Epoch 750/2000\n",
            "1/1 [==============================] - 0s 19ms/step - loss: 3.2531 - mae: 3.2531\n",
            "Epoch 751/2000\n",
            "1/1 [==============================] - 0s 19ms/step - loss: 3.2475 - mae: 3.2475\n",
            "Epoch 752/2000\n",
            "1/1 [==============================] - 0s 19ms/step - loss: 3.2419 - mae: 3.2419\n",
            "Epoch 753/2000\n",
            "1/1 [==============================] - 0s 28ms/step - loss: 3.2362 - mae: 3.2362\n",
            "Epoch 754/2000\n",
            "1/1 [==============================] - 0s 9ms/step - loss: 3.2306 - mae: 3.2306\n",
            "Epoch 755/2000\n",
            "1/1 [==============================] - 0s 22ms/step - loss: 3.2250 - mae: 3.2250\n",
            "Epoch 756/2000\n",
            "1/1 [==============================] - 0s 14ms/step - loss: 3.2194 - mae: 3.2194\n",
            "Epoch 757/2000\n",
            "1/1 [==============================] - 0s 15ms/step - loss: 3.2137 - mae: 3.2137\n",
            "Epoch 758/2000\n",
            "1/1 [==============================] - 0s 19ms/step - loss: 3.2081 - mae: 3.2081\n",
            "Epoch 759/2000\n",
            "1/1 [==============================] - 0s 17ms/step - loss: 3.2025 - mae: 3.2025\n",
            "Epoch 760/2000\n",
            "1/1 [==============================] - 0s 20ms/step - loss: 3.1969 - mae: 3.1969\n",
            "Epoch 761/2000\n",
            "1/1 [==============================] - 0s 16ms/step - loss: 3.1912 - mae: 3.1912\n",
            "Epoch 762/2000\n",
            "1/1 [==============================] - 0s 20ms/step - loss: 3.1856 - mae: 3.1856\n",
            "Epoch 763/2000\n",
            "1/1 [==============================] - 0s 14ms/step - loss: 3.1800 - mae: 3.1800\n",
            "Epoch 764/2000\n",
            "1/1 [==============================] - 0s 16ms/step - loss: 3.1744 - mae: 3.1744\n",
            "Epoch 765/2000\n",
            "1/1 [==============================] - 0s 9ms/step - loss: 3.1687 - mae: 3.1687\n",
            "Epoch 766/2000\n",
            "1/1 [==============================] - 0s 13ms/step - loss: 3.1631 - mae: 3.1631\n",
            "Epoch 767/2000\n",
            "1/1 [==============================] - 0s 31ms/step - loss: 3.1575 - mae: 3.1575\n",
            "Epoch 768/2000\n",
            "1/1 [==============================] - 0s 16ms/step - loss: 3.1519 - mae: 3.1519\n",
            "Epoch 769/2000\n",
            "1/1 [==============================] - 0s 17ms/step - loss: 3.1462 - mae: 3.1462\n",
            "Epoch 770/2000\n",
            "1/1 [==============================] - 0s 15ms/step - loss: 3.1406 - mae: 3.1406\n",
            "Epoch 771/2000\n",
            "1/1 [==============================] - 0s 15ms/step - loss: 3.1350 - mae: 3.1350\n",
            "Epoch 772/2000\n",
            "1/1 [==============================] - 0s 13ms/step - loss: 3.1294 - mae: 3.1294\n",
            "Epoch 773/2000\n",
            "1/1 [==============================] - 0s 7ms/step - loss: 3.1237 - mae: 3.1237\n",
            "Epoch 774/2000\n",
            "1/1 [==============================] - 0s 25ms/step - loss: 3.1181 - mae: 3.1181\n",
            "Epoch 775/2000\n",
            "1/1 [==============================] - 0s 7ms/step - loss: 3.1125 - mae: 3.1125\n",
            "Epoch 776/2000\n",
            "1/1 [==============================] - 0s 8ms/step - loss: 3.1069 - mae: 3.1069\n",
            "Epoch 777/2000\n",
            "1/1 [==============================] - 0s 9ms/step - loss: 3.1012 - mae: 3.1012\n",
            "Epoch 778/2000\n",
            "1/1 [==============================] - 0s 11ms/step - loss: 3.0956 - mae: 3.0956\n",
            "Epoch 779/2000\n",
            "1/1 [==============================] - 0s 8ms/step - loss: 3.0900 - mae: 3.0900\n",
            "Epoch 780/2000\n",
            "1/1 [==============================] - 0s 27ms/step - loss: 3.0844 - mae: 3.0844\n",
            "Epoch 781/2000\n",
            "1/1 [==============================] - 0s 13ms/step - loss: 3.0787 - mae: 3.0787\n",
            "Epoch 782/2000\n",
            "1/1 [==============================] - 0s 12ms/step - loss: 3.0731 - mae: 3.0731\n",
            "Epoch 783/2000\n",
            "1/1 [==============================] - 0s 16ms/step - loss: 3.0675 - mae: 3.0675\n",
            "Epoch 784/2000\n",
            "1/1 [==============================] - 0s 9ms/step - loss: 3.0619 - mae: 3.0619\n",
            "Epoch 785/2000\n",
            "1/1 [==============================] - 0s 19ms/step - loss: 3.0574 - mae: 3.0574\n",
            "Epoch 786/2000\n",
            "1/1 [==============================] - 0s 13ms/step - loss: 3.0525 - mae: 3.0525\n",
            "Epoch 787/2000\n",
            "1/1 [==============================] - 0s 27ms/step - loss: 3.0468 - mae: 3.0468\n",
            "Epoch 788/2000\n",
            "1/1 [==============================] - 0s 21ms/step - loss: 3.0412 - mae: 3.0412\n",
            "Epoch 789/2000\n",
            "1/1 [==============================] - 0s 17ms/step - loss: 3.0356 - mae: 3.0356\n",
            "Epoch 790/2000\n",
            "1/1 [==============================] - 0s 30ms/step - loss: 3.0300 - mae: 3.0300\n",
            "Epoch 791/2000\n",
            "1/1 [==============================] - 0s 12ms/step - loss: 3.0243 - mae: 3.0243\n",
            "Epoch 792/2000\n",
            "1/1 [==============================] - 0s 12ms/step - loss: 3.0187 - mae: 3.0187\n",
            "Epoch 793/2000\n",
            "1/1 [==============================] - 0s 38ms/step - loss: 3.0131 - mae: 3.0131\n",
            "Epoch 794/2000\n",
            "1/1 [==============================] - 0s 10ms/step - loss: 3.0075 - mae: 3.0075\n",
            "Epoch 795/2000\n",
            "1/1 [==============================] - 0s 13ms/step - loss: 3.0018 - mae: 3.0018\n",
            "Epoch 796/2000\n",
            "1/1 [==============================] - 0s 11ms/step - loss: 2.9962 - mae: 2.9962\n",
            "Epoch 797/2000\n",
            "1/1 [==============================] - 0s 26ms/step - loss: 2.9906 - mae: 2.9906\n",
            "Epoch 798/2000\n",
            "1/1 [==============================] - 0s 12ms/step - loss: 2.9850 - mae: 2.9850\n",
            "Epoch 799/2000\n",
            "1/1 [==============================] - 0s 11ms/step - loss: 2.9793 - mae: 2.9793\n",
            "Epoch 800/2000\n",
            "1/1 [==============================] - 0s 10ms/step - loss: 2.9737 - mae: 2.9737\n",
            "Epoch 801/2000\n",
            "1/1 [==============================] - 0s 25ms/step - loss: 2.9681 - mae: 2.9681\n",
            "Epoch 802/2000\n",
            "1/1 [==============================] - 0s 20ms/step - loss: 2.9625 - mae: 2.9625\n",
            "Epoch 803/2000\n",
            "1/1 [==============================] - 0s 14ms/step - loss: 2.9568 - mae: 2.9568\n",
            "Epoch 804/2000\n",
            "1/1 [==============================] - 0s 14ms/step - loss: 2.9512 - mae: 2.9512\n",
            "Epoch 805/2000\n",
            "1/1 [==============================] - 0s 21ms/step - loss: 2.9456 - mae: 2.9456\n",
            "Epoch 806/2000\n",
            "1/1 [==============================] - 0s 13ms/step - loss: 2.9400 - mae: 2.9400\n",
            "Epoch 807/2000\n",
            "1/1 [==============================] - 0s 18ms/step - loss: 2.9343 - mae: 2.9343\n",
            "Epoch 808/2000\n",
            "1/1 [==============================] - 0s 14ms/step - loss: 2.9287 - mae: 2.9287\n",
            "Epoch 809/2000\n",
            "1/1 [==============================] - 0s 25ms/step - loss: 2.9231 - mae: 2.9231\n",
            "Epoch 810/2000\n",
            "1/1 [==============================] - 0s 27ms/step - loss: 2.9175 - mae: 2.9175\n",
            "Epoch 811/2000\n",
            "1/1 [==============================] - 0s 11ms/step - loss: 2.9118 - mae: 2.9118\n",
            "Epoch 812/2000\n",
            "1/1 [==============================] - 0s 35ms/step - loss: 2.9062 - mae: 2.9062\n",
            "Epoch 813/2000\n",
            "1/1 [==============================] - 0s 15ms/step - loss: 2.9006 - mae: 2.9006\n",
            "Epoch 814/2000\n",
            "1/1 [==============================] - 0s 12ms/step - loss: 2.8950 - mae: 2.8950\n",
            "Epoch 815/2000\n",
            "1/1 [==============================] - 0s 16ms/step - loss: 2.8893 - mae: 2.8893\n",
            "Epoch 816/2000\n",
            "1/1 [==============================] - 0s 15ms/step - loss: 2.8837 - mae: 2.8837\n",
            "Epoch 817/2000\n",
            "1/1 [==============================] - 0s 16ms/step - loss: 2.8781 - mae: 2.8781\n",
            "Epoch 818/2000\n",
            "1/1 [==============================] - 0s 11ms/step - loss: 2.8725 - mae: 2.8725\n",
            "Epoch 819/2000\n",
            "1/1 [==============================] - 0s 17ms/step - loss: 2.8668 - mae: 2.8668\n",
            "Epoch 820/2000\n",
            "1/1 [==============================] - 0s 9ms/step - loss: 2.8612 - mae: 2.8612\n",
            "Epoch 821/2000\n",
            "1/1 [==============================] - 0s 13ms/step - loss: 2.8556 - mae: 2.8556\n",
            "Epoch 822/2000\n",
            "1/1 [==============================] - 0s 15ms/step - loss: 2.8500 - mae: 2.8500\n",
            "Epoch 823/2000\n",
            "1/1 [==============================] - 0s 22ms/step - loss: 2.8443 - mae: 2.8443\n",
            "Epoch 824/2000\n",
            "1/1 [==============================] - 0s 18ms/step - loss: 2.8387 - mae: 2.8387\n",
            "Epoch 825/2000\n",
            "1/1 [==============================] - 0s 19ms/step - loss: 2.8331 - mae: 2.8331\n",
            "Epoch 826/2000\n",
            "1/1 [==============================] - 0s 45ms/step - loss: 2.8293 - mae: 2.8293\n",
            "Epoch 827/2000\n",
            "1/1 [==============================] - 0s 23ms/step - loss: 2.8237 - mae: 2.8237\n",
            "Epoch 828/2000\n",
            "1/1 [==============================] - 0s 43ms/step - loss: 2.8181 - mae: 2.8181\n",
            "Epoch 829/2000\n",
            "1/1 [==============================] - 0s 27ms/step - loss: 2.8125 - mae: 2.8125\n",
            "Epoch 830/2000\n",
            "1/1 [==============================] - 0s 19ms/step - loss: 2.8068 - mae: 2.8068\n",
            "Epoch 831/2000\n",
            "1/1 [==============================] - 0s 14ms/step - loss: 2.8012 - mae: 2.8012\n",
            "Epoch 832/2000\n",
            "1/1 [==============================] - 0s 23ms/step - loss: 2.7956 - mae: 2.7956\n",
            "Epoch 833/2000\n",
            "1/1 [==============================] - 0s 17ms/step - loss: 2.7900 - mae: 2.7900\n",
            "Epoch 834/2000\n",
            "1/1 [==============================] - 0s 16ms/step - loss: 2.7843 - mae: 2.7843\n",
            "Epoch 835/2000\n",
            "1/1 [==============================] - 0s 8ms/step - loss: 2.7787 - mae: 2.7787\n",
            "Epoch 836/2000\n",
            "1/1 [==============================] - 0s 9ms/step - loss: 2.7731 - mae: 2.7731\n",
            "Epoch 837/2000\n",
            "1/1 [==============================] - 0s 6ms/step - loss: 2.7675 - mae: 2.7675\n",
            "Epoch 838/2000\n",
            "1/1 [==============================] - 0s 8ms/step - loss: 2.7618 - mae: 2.7618\n",
            "Epoch 839/2000\n",
            "1/1 [==============================] - 0s 8ms/step - loss: 2.7562 - mae: 2.7562\n",
            "Epoch 840/2000\n",
            "1/1 [==============================] - 0s 10ms/step - loss: 2.7506 - mae: 2.7506\n",
            "Epoch 841/2000\n",
            "1/1 [==============================] - 0s 6ms/step - loss: 2.7450 - mae: 2.7450\n",
            "Epoch 842/2000\n",
            "1/1 [==============================] - 0s 14ms/step - loss: 2.7393 - mae: 2.7393\n",
            "Epoch 843/2000\n",
            "1/1 [==============================] - 0s 14ms/step - loss: 2.7337 - mae: 2.7337\n",
            "Epoch 844/2000\n",
            "1/1 [==============================] - 0s 20ms/step - loss: 2.7281 - mae: 2.7281\n",
            "Epoch 845/2000\n",
            "1/1 [==============================] - 0s 14ms/step - loss: 2.7225 - mae: 2.7225\n",
            "Epoch 846/2000\n",
            "1/1 [==============================] - 0s 31ms/step - loss: 2.7168 - mae: 2.7168\n",
            "Epoch 847/2000\n",
            "1/1 [==============================] - 0s 31ms/step - loss: 2.7112 - mae: 2.7112\n",
            "Epoch 848/2000\n",
            "1/1 [==============================] - 0s 24ms/step - loss: 2.7056 - mae: 2.7056\n",
            "Epoch 849/2000\n",
            "1/1 [==============================] - 0s 33ms/step - loss: 2.7000 - mae: 2.7000\n",
            "Epoch 850/2000\n",
            "1/1 [==============================] - 0s 15ms/step - loss: 2.6943 - mae: 2.6943\n",
            "Epoch 851/2000\n",
            "1/1 [==============================] - 0s 16ms/step - loss: 2.6887 - mae: 2.6887\n",
            "Epoch 852/2000\n",
            "1/1 [==============================] - 0s 12ms/step - loss: 2.6831 - mae: 2.6831\n",
            "Epoch 853/2000\n",
            "1/1 [==============================] - 0s 16ms/step - loss: 2.6775 - mae: 2.6775\n",
            "Epoch 854/2000\n",
            "1/1 [==============================] - 0s 10ms/step - loss: 2.6718 - mae: 2.6718\n",
            "Epoch 855/2000\n",
            "1/1 [==============================] - 0s 8ms/step - loss: 2.6662 - mae: 2.6662\n",
            "Epoch 856/2000\n",
            "1/1 [==============================] - 0s 27ms/step - loss: 2.6606 - mae: 2.6606\n",
            "Epoch 857/2000\n",
            "1/1 [==============================] - 0s 18ms/step - loss: 2.6550 - mae: 2.6550\n",
            "Epoch 858/2000\n",
            "1/1 [==============================] - 0s 13ms/step - loss: 2.6493 - mae: 2.6493\n",
            "Epoch 859/2000\n",
            "1/1 [==============================] - 0s 16ms/step - loss: 2.6437 - mae: 2.6437\n",
            "Epoch 860/2000\n",
            "1/1 [==============================] - 0s 13ms/step - loss: 2.6381 - mae: 2.6381\n",
            "Epoch 861/2000\n",
            "1/1 [==============================] - 0s 22ms/step - loss: 2.6325 - mae: 2.6325\n",
            "Epoch 862/2000\n",
            "1/1 [==============================] - 0s 13ms/step - loss: 2.6268 - mae: 2.6268\n",
            "Epoch 863/2000\n",
            "1/1 [==============================] - 0s 15ms/step - loss: 2.6212 - mae: 2.6212\n",
            "Epoch 864/2000\n",
            "1/1 [==============================] - 0s 15ms/step - loss: 2.6156 - mae: 2.6156\n",
            "Epoch 865/2000\n",
            "1/1 [==============================] - 0s 24ms/step - loss: 2.6100 - mae: 2.6100\n",
            "Epoch 866/2000\n",
            "1/1 [==============================] - 0s 31ms/step - loss: 2.6049 - mae: 2.6049\n",
            "Epoch 867/2000\n",
            "1/1 [==============================] - 0s 19ms/step - loss: 2.6006 - mae: 2.6006\n",
            "Epoch 868/2000\n",
            "1/1 [==============================] - 0s 25ms/step - loss: 2.5950 - mae: 2.5950\n",
            "Epoch 869/2000\n",
            "1/1 [==============================] - 0s 16ms/step - loss: 2.5893 - mae: 2.5893\n",
            "Epoch 870/2000\n",
            "1/1 [==============================] - 0s 13ms/step - loss: 2.5837 - mae: 2.5837\n",
            "Epoch 871/2000\n",
            "1/1 [==============================] - 0s 10ms/step - loss: 2.5781 - mae: 2.5781\n",
            "Epoch 872/2000\n",
            "1/1 [==============================] - 0s 14ms/step - loss: 2.5725 - mae: 2.5725\n",
            "Epoch 873/2000\n",
            "1/1 [==============================] - 0s 38ms/step - loss: 2.5668 - mae: 2.5668\n",
            "Epoch 874/2000\n",
            "1/1 [==============================] - 0s 18ms/step - loss: 2.5612 - mae: 2.5612\n",
            "Epoch 875/2000\n",
            "1/1 [==============================] - 0s 45ms/step - loss: 2.5556 - mae: 2.5556\n",
            "Epoch 876/2000\n",
            "1/1 [==============================] - 0s 21ms/step - loss: 2.5500 - mae: 2.5500\n",
            "Epoch 877/2000\n",
            "1/1 [==============================] - 0s 9ms/step - loss: 2.5443 - mae: 2.5443\n",
            "Epoch 878/2000\n",
            "1/1 [==============================] - 0s 18ms/step - loss: 2.5387 - mae: 2.5387\n",
            "Epoch 879/2000\n",
            "1/1 [==============================] - 0s 14ms/step - loss: 2.5331 - mae: 2.5331\n",
            "Epoch 880/2000\n",
            "1/1 [==============================] - 0s 20ms/step - loss: 2.5275 - mae: 2.5275\n",
            "Epoch 881/2000\n",
            "1/1 [==============================] - 0s 34ms/step - loss: 2.5218 - mae: 2.5218\n",
            "Epoch 882/2000\n",
            "1/1 [==============================] - 0s 34ms/step - loss: 2.5162 - mae: 2.5162\n",
            "Epoch 883/2000\n",
            "1/1 [==============================] - 0s 9ms/step - loss: 2.5106 - mae: 2.5106\n",
            "Epoch 884/2000\n",
            "1/1 [==============================] - 0s 10ms/step - loss: 2.5050 - mae: 2.5050\n",
            "Epoch 885/2000\n",
            "1/1 [==============================] - 0s 11ms/step - loss: 2.4993 - mae: 2.4993\n",
            "Epoch 886/2000\n",
            "1/1 [==============================] - 0s 21ms/step - loss: 2.4937 - mae: 2.4937\n",
            "Epoch 887/2000\n",
            "1/1 [==============================] - 0s 15ms/step - loss: 2.4881 - mae: 2.4881\n",
            "Epoch 888/2000\n",
            "1/1 [==============================] - 0s 10ms/step - loss: 2.4825 - mae: 2.4825\n",
            "Epoch 889/2000\n",
            "1/1 [==============================] - 0s 19ms/step - loss: 2.4768 - mae: 2.4768\n",
            "Epoch 890/2000\n",
            "1/1 [==============================] - 0s 21ms/step - loss: 2.4712 - mae: 2.4712\n",
            "Epoch 891/2000\n",
            "1/1 [==============================] - 0s 14ms/step - loss: 2.4656 - mae: 2.4656\n",
            "Epoch 892/2000\n",
            "1/1 [==============================] - 0s 12ms/step - loss: 2.4600 - mae: 2.4600\n",
            "Epoch 893/2000\n",
            "1/1 [==============================] - 0s 10ms/step - loss: 2.4543 - mae: 2.4543\n",
            "Epoch 894/2000\n",
            "1/1 [==============================] - 0s 10ms/step - loss: 2.4487 - mae: 2.4487\n",
            "Epoch 895/2000\n",
            "1/1 [==============================] - 0s 6ms/step - loss: 2.4431 - mae: 2.4431\n",
            "Epoch 896/2000\n",
            "1/1 [==============================] - 0s 9ms/step - loss: 2.4375 - mae: 2.4375\n",
            "Epoch 897/2000\n",
            "1/1 [==============================] - 0s 38ms/step - loss: 2.4318 - mae: 2.4318\n",
            "Epoch 898/2000\n",
            "1/1 [==============================] - 0s 16ms/step - loss: 2.4262 - mae: 2.4262\n",
            "Epoch 899/2000\n",
            "1/1 [==============================] - 0s 11ms/step - loss: 2.4206 - mae: 2.4206\n",
            "Epoch 900/2000\n",
            "1/1 [==============================] - 0s 38ms/step - loss: 2.4150 - mae: 2.4150\n",
            "Epoch 901/2000\n",
            "1/1 [==============================] - 0s 17ms/step - loss: 2.4093 - mae: 2.4093\n",
            "Epoch 902/2000\n",
            "1/1 [==============================] - 0s 24ms/step - loss: 2.4037 - mae: 2.4037\n",
            "Epoch 903/2000\n",
            "1/1 [==============================] - 0s 28ms/step - loss: 2.3981 - mae: 2.3981\n",
            "Epoch 904/2000\n",
            "1/1 [==============================] - 0s 26ms/step - loss: 2.3925 - mae: 2.3925\n",
            "Epoch 905/2000\n",
            "1/1 [==============================] - 0s 19ms/step - loss: 2.3868 - mae: 2.3868\n",
            "Epoch 906/2000\n",
            "1/1 [==============================] - 0s 32ms/step - loss: 2.3812 - mae: 2.3812\n",
            "Epoch 907/2000\n",
            "1/1 [==============================] - 0s 19ms/step - loss: 2.3767 - mae: 2.3767\n",
            "Epoch 908/2000\n",
            "1/1 [==============================] - 0s 14ms/step - loss: 2.3718 - mae: 2.3718\n",
            "Epoch 909/2000\n",
            "1/1 [==============================] - 0s 20ms/step - loss: 2.3662 - mae: 2.3662\n",
            "Epoch 910/2000\n",
            "1/1 [==============================] - 0s 24ms/step - loss: 2.3606 - mae: 2.3606\n",
            "Epoch 911/2000\n",
            "1/1 [==============================] - 0s 9ms/step - loss: 2.3550 - mae: 2.3550\n",
            "Epoch 912/2000\n",
            "1/1 [==============================] - 0s 16ms/step - loss: 2.3493 - mae: 2.3493\n",
            "Epoch 913/2000\n",
            "1/1 [==============================] - 0s 20ms/step - loss: 2.3437 - mae: 2.3437\n",
            "Epoch 914/2000\n",
            "1/1 [==============================] - 0s 10ms/step - loss: 2.3381 - mae: 2.3381\n",
            "Epoch 915/2000\n",
            "1/1 [==============================] - 0s 21ms/step - loss: 2.3325 - mae: 2.3325\n",
            "Epoch 916/2000\n",
            "1/1 [==============================] - 0s 22ms/step - loss: 2.3268 - mae: 2.3268\n",
            "Epoch 917/2000\n",
            "1/1 [==============================] - 0s 27ms/step - loss: 2.3212 - mae: 2.3212\n",
            "Epoch 918/2000\n",
            "1/1 [==============================] - 0s 19ms/step - loss: 2.3156 - mae: 2.3156\n",
            "Epoch 919/2000\n",
            "1/1 [==============================] - 0s 27ms/step - loss: 2.3100 - mae: 2.3100\n",
            "Epoch 920/2000\n",
            "1/1 [==============================] - 0s 27ms/step - loss: 2.3043 - mae: 2.3043\n",
            "Epoch 921/2000\n",
            "1/1 [==============================] - 0s 22ms/step - loss: 2.2987 - mae: 2.2987\n",
            "Epoch 922/2000\n",
            "1/1 [==============================] - 0s 60ms/step - loss: 2.2931 - mae: 2.2931\n",
            "Epoch 923/2000\n",
            "1/1 [==============================] - 0s 10ms/step - loss: 2.2875 - mae: 2.2875\n",
            "Epoch 924/2000\n",
            "1/1 [==============================] - 0s 33ms/step - loss: 2.2818 - mae: 2.2818\n",
            "Epoch 925/2000\n",
            "1/1 [==============================] - 0s 20ms/step - loss: 2.2762 - mae: 2.2762\n",
            "Epoch 926/2000\n",
            "1/1 [==============================] - 0s 28ms/step - loss: 2.2706 - mae: 2.2706\n",
            "Epoch 927/2000\n",
            "1/1 [==============================] - 0s 25ms/step - loss: 2.2650 - mae: 2.2650\n",
            "Epoch 928/2000\n",
            "1/1 [==============================] - 0s 22ms/step - loss: 2.2593 - mae: 2.2593\n",
            "Epoch 929/2000\n",
            "1/1 [==============================] - 0s 25ms/step - loss: 2.2537 - mae: 2.2537\n",
            "Epoch 930/2000\n",
            "1/1 [==============================] - 0s 17ms/step - loss: 2.2481 - mae: 2.2481\n",
            "Epoch 931/2000\n",
            "1/1 [==============================] - 0s 8ms/step - loss: 2.2425 - mae: 2.2425\n",
            "Epoch 932/2000\n",
            "1/1 [==============================] - 0s 8ms/step - loss: 2.2368 - mae: 2.2368\n",
            "Epoch 933/2000\n",
            "1/1 [==============================] - 0s 9ms/step - loss: 2.2312 - mae: 2.2312\n",
            "Epoch 934/2000\n",
            "1/1 [==============================] - 0s 18ms/step - loss: 2.2256 - mae: 2.2256\n",
            "Epoch 935/2000\n",
            "1/1 [==============================] - 0s 27ms/step - loss: 2.2200 - mae: 2.2200\n",
            "Epoch 936/2000\n",
            "1/1 [==============================] - 0s 28ms/step - loss: 2.2143 - mae: 2.2143\n",
            "Epoch 937/2000\n",
            "1/1 [==============================] - 0s 11ms/step - loss: 2.2087 - mae: 2.2087\n",
            "Epoch 938/2000\n",
            "1/1 [==============================] - 0s 11ms/step - loss: 2.2031 - mae: 2.2031\n",
            "Epoch 939/2000\n",
            "1/1 [==============================] - 0s 12ms/step - loss: 2.1975 - mae: 2.1975\n",
            "Epoch 940/2000\n",
            "1/1 [==============================] - 0s 28ms/step - loss: 2.1918 - mae: 2.1918\n",
            "Epoch 941/2000\n",
            "1/1 [==============================] - 0s 28ms/step - loss: 2.1862 - mae: 2.1862\n",
            "Epoch 942/2000\n",
            "1/1 [==============================] - 0s 18ms/step - loss: 2.1806 - mae: 2.1806\n",
            "Epoch 943/2000\n",
            "1/1 [==============================] - 0s 11ms/step - loss: 2.1750 - mae: 2.1750\n",
            "Epoch 944/2000\n",
            "1/1 [==============================] - 0s 10ms/step - loss: 2.1693 - mae: 2.1693\n",
            "Epoch 945/2000\n",
            "1/1 [==============================] - 0s 21ms/step - loss: 2.1637 - mae: 2.1637\n",
            "Epoch 946/2000\n",
            "1/1 [==============================] - 0s 10ms/step - loss: 2.1581 - mae: 2.1581\n",
            "Epoch 947/2000\n",
            "1/1 [==============================] - 0s 35ms/step - loss: 2.1525 - mae: 2.1525\n",
            "Epoch 948/2000\n",
            "1/1 [==============================] - 0s 26ms/step - loss: 2.1486 - mae: 2.1486\n",
            "Epoch 949/2000\n",
            "1/1 [==============================] - 0s 28ms/step - loss: 2.1431 - mae: 2.1431\n",
            "Epoch 950/2000\n",
            "1/1 [==============================] - 0s 13ms/step - loss: 2.1375 - mae: 2.1375\n",
            "Epoch 951/2000\n",
            "1/1 [==============================] - 0s 20ms/step - loss: 2.1318 - mae: 2.1318\n",
            "Epoch 952/2000\n",
            "1/1 [==============================] - 0s 16ms/step - loss: 2.1262 - mae: 2.1262\n",
            "Epoch 953/2000\n",
            "1/1 [==============================] - 0s 12ms/step - loss: 2.1206 - mae: 2.1206\n",
            "Epoch 954/2000\n",
            "1/1 [==============================] - 0s 7ms/step - loss: 2.1150 - mae: 2.1150\n",
            "Epoch 955/2000\n",
            "1/1 [==============================] - 0s 14ms/step - loss: 2.1093 - mae: 2.1093\n",
            "Epoch 956/2000\n",
            "1/1 [==============================] - 0s 6ms/step - loss: 2.1037 - mae: 2.1037\n",
            "Epoch 957/2000\n",
            "1/1 [==============================] - 0s 13ms/step - loss: 2.0981 - mae: 2.0981\n",
            "Epoch 958/2000\n",
            "1/1 [==============================] - 0s 11ms/step - loss: 2.0925 - mae: 2.0925\n",
            "Epoch 959/2000\n",
            "1/1 [==============================] - 0s 11ms/step - loss: 2.0868 - mae: 2.0868\n",
            "Epoch 960/2000\n",
            "1/1 [==============================] - 0s 6ms/step - loss: 2.0812 - mae: 2.0812\n",
            "Epoch 961/2000\n",
            "1/1 [==============================] - 0s 9ms/step - loss: 2.0756 - mae: 2.0756\n",
            "Epoch 962/2000\n",
            "1/1 [==============================] - 0s 17ms/step - loss: 2.0700 - mae: 2.0700\n",
            "Epoch 963/2000\n",
            "1/1 [==============================] - 0s 8ms/step - loss: 2.0643 - mae: 2.0643\n",
            "Epoch 964/2000\n",
            "1/1 [==============================] - 0s 13ms/step - loss: 2.0587 - mae: 2.0587\n",
            "Epoch 965/2000\n",
            "1/1 [==============================] - 0s 38ms/step - loss: 2.0531 - mae: 2.0531\n",
            "Epoch 966/2000\n",
            "1/1 [==============================] - 0s 93ms/step - loss: 2.0475 - mae: 2.0475\n",
            "Epoch 967/2000\n",
            "1/1 [==============================] - 0s 20ms/step - loss: 2.0418 - mae: 2.0418\n",
            "Epoch 968/2000\n",
            "1/1 [==============================] - 0s 22ms/step - loss: 2.0362 - mae: 2.0362\n",
            "Epoch 969/2000\n",
            "1/1 [==============================] - 0s 20ms/step - loss: 2.0306 - mae: 2.0306\n",
            "Epoch 970/2000\n",
            "1/1 [==============================] - 0s 22ms/step - loss: 2.0250 - mae: 2.0250\n",
            "Epoch 971/2000\n",
            "1/1 [==============================] - 0s 15ms/step - loss: 2.0193 - mae: 2.0193\n",
            "Epoch 972/2000\n",
            "1/1 [==============================] - 0s 10ms/step - loss: 2.0137 - mae: 2.0137\n",
            "Epoch 973/2000\n",
            "1/1 [==============================] - 0s 18ms/step - loss: 2.0081 - mae: 2.0081\n",
            "Epoch 974/2000\n",
            "1/1 [==============================] - 0s 12ms/step - loss: 2.0025 - mae: 2.0025\n",
            "Epoch 975/2000\n",
            "1/1 [==============================] - 0s 12ms/step - loss: 1.9968 - mae: 1.9968\n",
            "Epoch 976/2000\n",
            "1/1 [==============================] - 0s 22ms/step - loss: 1.9912 - mae: 1.9912\n",
            "Epoch 977/2000\n",
            "1/1 [==============================] - 0s 13ms/step - loss: 1.9856 - mae: 1.9856\n",
            "Epoch 978/2000\n",
            "1/1 [==============================] - 0s 15ms/step - loss: 1.9800 - mae: 1.9800\n",
            "Epoch 979/2000\n",
            "1/1 [==============================] - 0s 11ms/step - loss: 1.9743 - mae: 1.9743\n",
            "Epoch 980/2000\n",
            "1/1 [==============================] - 0s 12ms/step - loss: 1.9687 - mae: 1.9687\n",
            "Epoch 981/2000\n",
            "1/1 [==============================] - 0s 10ms/step - loss: 1.9631 - mae: 1.9631\n",
            "Epoch 982/2000\n",
            "1/1 [==============================] - 0s 13ms/step - loss: 1.9574 - mae: 1.9574\n",
            "Epoch 983/2000\n",
            "1/1 [==============================] - 0s 16ms/step - loss: 1.9518 - mae: 1.9518\n",
            "Epoch 984/2000\n",
            "1/1 [==============================] - 0s 16ms/step - loss: 1.9462 - mae: 1.9462\n",
            "Epoch 985/2000\n",
            "1/1 [==============================] - 0s 14ms/step - loss: 1.9406 - mae: 1.9406\n",
            "Epoch 986/2000\n",
            "1/1 [==============================] - 0s 19ms/step - loss: 1.9349 - mae: 1.9349\n",
            "Epoch 987/2000\n",
            "1/1 [==============================] - 0s 15ms/step - loss: 1.9293 - mae: 1.9293\n",
            "Epoch 988/2000\n",
            "1/1 [==============================] - 0s 24ms/step - loss: 1.9242 - mae: 1.9242\n",
            "Epoch 989/2000\n",
            "1/1 [==============================] - 0s 16ms/step - loss: 1.9199 - mae: 1.9199\n",
            "Epoch 990/2000\n",
            "1/1 [==============================] - 0s 40ms/step - loss: 1.9143 - mae: 1.9143\n",
            "Epoch 991/2000\n",
            "1/1 [==============================] - 0s 17ms/step - loss: 1.9087 - mae: 1.9087\n",
            "Epoch 992/2000\n",
            "1/1 [==============================] - 0s 21ms/step - loss: 1.9031 - mae: 1.9031\n",
            "Epoch 993/2000\n",
            "1/1 [==============================] - 0s 9ms/step - loss: 1.8974 - mae: 1.8974\n",
            "Epoch 994/2000\n",
            "1/1 [==============================] - 0s 11ms/step - loss: 1.8918 - mae: 1.8918\n",
            "Epoch 995/2000\n",
            "1/1 [==============================] - 0s 14ms/step - loss: 1.8862 - mae: 1.8862\n",
            "Epoch 996/2000\n",
            "1/1 [==============================] - 0s 18ms/step - loss: 1.8806 - mae: 1.8806\n",
            "Epoch 997/2000\n",
            "1/1 [==============================] - 0s 17ms/step - loss: 1.8749 - mae: 1.8749\n",
            "Epoch 998/2000\n",
            "1/1 [==============================] - 0s 12ms/step - loss: 1.8693 - mae: 1.8693\n",
            "Epoch 999/2000\n",
            "1/1 [==============================] - 0s 9ms/step - loss: 1.8637 - mae: 1.8637\n",
            "Epoch 1000/2000\n",
            "1/1 [==============================] - 0s 11ms/step - loss: 1.8581 - mae: 1.8581\n",
            "Epoch 1001/2000\n",
            "1/1 [==============================] - 0s 7ms/step - loss: 1.8524 - mae: 1.8524\n",
            "Epoch 1002/2000\n",
            "1/1 [==============================] - 0s 9ms/step - loss: 1.8468 - mae: 1.8468\n",
            "Epoch 1003/2000\n",
            "1/1 [==============================] - 0s 22ms/step - loss: 1.8412 - mae: 1.8412\n",
            "Epoch 1004/2000\n",
            "1/1 [==============================] - 0s 17ms/step - loss: 1.8356 - mae: 1.8356\n",
            "Epoch 1005/2000\n",
            "1/1 [==============================] - 0s 21ms/step - loss: 1.8299 - mae: 1.8299\n",
            "Epoch 1006/2000\n",
            "1/1 [==============================] - 0s 11ms/step - loss: 1.8243 - mae: 1.8243\n",
            "Epoch 1007/2000\n",
            "1/1 [==============================] - 0s 14ms/step - loss: 1.8187 - mae: 1.8187\n",
            "Epoch 1008/2000\n",
            "1/1 [==============================] - 0s 15ms/step - loss: 1.8131 - mae: 1.8131\n",
            "Epoch 1009/2000\n",
            "1/1 [==============================] - 0s 17ms/step - loss: 1.8074 - mae: 1.8074\n",
            "Epoch 1010/2000\n",
            "1/1 [==============================] - 0s 17ms/step - loss: 1.8018 - mae: 1.8018\n",
            "Epoch 1011/2000\n",
            "1/1 [==============================] - 0s 14ms/step - loss: 1.7962 - mae: 1.7962\n",
            "Epoch 1012/2000\n",
            "1/1 [==============================] - 0s 12ms/step - loss: 1.7906 - mae: 1.7906\n",
            "Epoch 1013/2000\n",
            "1/1 [==============================] - 0s 18ms/step - loss: 1.7849 - mae: 1.7849\n",
            "Epoch 1014/2000\n",
            "1/1 [==============================] - 0s 26ms/step - loss: 1.7793 - mae: 1.7793\n",
            "Epoch 1015/2000\n",
            "1/1 [==============================] - 0s 12ms/step - loss: 1.7737 - mae: 1.7737\n",
            "Epoch 1016/2000\n",
            "1/1 [==============================] - 0s 13ms/step - loss: 1.7681 - mae: 1.7681\n",
            "Epoch 1017/2000\n",
            "1/1 [==============================] - 0s 11ms/step - loss: 1.7624 - mae: 1.7624\n",
            "Epoch 1018/2000\n",
            "1/1 [==============================] - 0s 11ms/step - loss: 1.7568 - mae: 1.7568\n",
            "Epoch 1019/2000\n",
            "1/1 [==============================] - 0s 15ms/step - loss: 1.7512 - mae: 1.7512\n",
            "Epoch 1020/2000\n",
            "1/1 [==============================] - 0s 26ms/step - loss: 1.7456 - mae: 1.7456\n",
            "Epoch 1021/2000\n",
            "1/1 [==============================] - 0s 24ms/step - loss: 1.7399 - mae: 1.7399\n",
            "Epoch 1022/2000\n",
            "1/1 [==============================] - 0s 33ms/step - loss: 1.7343 - mae: 1.7343\n",
            "Epoch 1023/2000\n",
            "1/1 [==============================] - 0s 20ms/step - loss: 1.7287 - mae: 1.7287\n",
            "Epoch 1024/2000\n",
            "1/1 [==============================] - 0s 10ms/step - loss: 1.7231 - mae: 1.7231\n",
            "Epoch 1025/2000\n",
            "1/1 [==============================] - 0s 27ms/step - loss: 1.7174 - mae: 1.7174\n",
            "Epoch 1026/2000\n",
            "1/1 [==============================] - 0s 27ms/step - loss: 1.7118 - mae: 1.7118\n",
            "Epoch 1027/2000\n",
            "1/1 [==============================] - 0s 37ms/step - loss: 1.7062 - mae: 1.7062\n",
            "Epoch 1028/2000\n",
            "1/1 [==============================] - 0s 28ms/step - loss: 1.7006 - mae: 1.7006\n",
            "Epoch 1029/2000\n",
            "1/1 [==============================] - 0s 18ms/step - loss: 1.6961 - mae: 1.6961\n",
            "Epoch 1030/2000\n",
            "1/1 [==============================] - 0s 15ms/step - loss: 1.6912 - mae: 1.6912\n",
            "Epoch 1031/2000\n",
            "1/1 [==============================] - 0s 29ms/step - loss: 1.6856 - mae: 1.6856\n",
            "Epoch 1032/2000\n",
            "1/1 [==============================] - 0s 29ms/step - loss: 1.6799 - mae: 1.6799\n",
            "Epoch 1033/2000\n",
            "1/1 [==============================] - 0s 33ms/step - loss: 1.6743 - mae: 1.6743\n",
            "Epoch 1034/2000\n",
            "1/1 [==============================] - 0s 13ms/step - loss: 1.6687 - mae: 1.6687\n",
            "Epoch 1035/2000\n",
            "1/1 [==============================] - 0s 14ms/step - loss: 1.6631 - mae: 1.6631\n",
            "Epoch 1036/2000\n",
            "1/1 [==============================] - 0s 15ms/step - loss: 1.6574 - mae: 1.6574\n",
            "Epoch 1037/2000\n",
            "1/1 [==============================] - 0s 19ms/step - loss: 1.6518 - mae: 1.6518\n",
            "Epoch 1038/2000\n",
            "1/1 [==============================] - 0s 15ms/step - loss: 1.6462 - mae: 1.6462\n",
            "Epoch 1039/2000\n",
            "1/1 [==============================] - 0s 17ms/step - loss: 1.6406 - mae: 1.6406\n",
            "Epoch 1040/2000\n",
            "1/1 [==============================] - 0s 18ms/step - loss: 1.6349 - mae: 1.6349\n",
            "Epoch 1041/2000\n",
            "1/1 [==============================] - 0s 17ms/step - loss: 1.6293 - mae: 1.6293\n",
            "Epoch 1042/2000\n",
            "1/1 [==============================] - 0s 19ms/step - loss: 1.6237 - mae: 1.6237\n",
            "Epoch 1043/2000\n",
            "1/1 [==============================] - 0s 9ms/step - loss: 1.6181 - mae: 1.6181\n",
            "Epoch 1044/2000\n",
            "1/1 [==============================] - 0s 14ms/step - loss: 1.6124 - mae: 1.6124\n",
            "Epoch 1045/2000\n",
            "1/1 [==============================] - 0s 11ms/step - loss: 1.6068 - mae: 1.6068\n",
            "Epoch 1046/2000\n",
            "1/1 [==============================] - 0s 10ms/step - loss: 1.6012 - mae: 1.6012\n",
            "Epoch 1047/2000\n",
            "1/1 [==============================] - 0s 8ms/step - loss: 1.5956 - mae: 1.5956\n",
            "Epoch 1048/2000\n",
            "1/1 [==============================] - 0s 9ms/step - loss: 1.5899 - mae: 1.5899\n",
            "Epoch 1049/2000\n",
            "1/1 [==============================] - 0s 7ms/step - loss: 1.5843 - mae: 1.5843\n",
            "Epoch 1050/2000\n",
            "1/1 [==============================] - 0s 10ms/step - loss: 1.5787 - mae: 1.5787\n",
            "Epoch 1051/2000\n",
            "1/1 [==============================] - 0s 10ms/step - loss: 1.5731 - mae: 1.5731\n",
            "Epoch 1052/2000\n",
            "1/1 [==============================] - 0s 8ms/step - loss: 1.5674 - mae: 1.5674\n",
            "Epoch 1053/2000\n",
            "1/1 [==============================] - 0s 6ms/step - loss: 1.5618 - mae: 1.5618\n",
            "Epoch 1054/2000\n",
            "1/1 [==============================] - 0s 7ms/step - loss: 1.5562 - mae: 1.5562\n",
            "Epoch 1055/2000\n",
            "1/1 [==============================] - 0s 15ms/step - loss: 1.5506 - mae: 1.5506\n",
            "Epoch 1056/2000\n",
            "1/1 [==============================] - 0s 11ms/step - loss: 1.5449 - mae: 1.5449\n",
            "Epoch 1057/2000\n",
            "1/1 [==============================] - 0s 10ms/step - loss: 1.5393 - mae: 1.5393\n",
            "Epoch 1058/2000\n",
            "1/1 [==============================] - 0s 25ms/step - loss: 1.5337 - mae: 1.5337\n",
            "Epoch 1059/2000\n",
            "1/1 [==============================] - 0s 40ms/step - loss: 1.5281 - mae: 1.5281\n",
            "Epoch 1060/2000\n",
            "1/1 [==============================] - 0s 37ms/step - loss: 1.5224 - mae: 1.5224\n",
            "Epoch 1061/2000\n",
            "1/1 [==============================] - 0s 23ms/step - loss: 1.5168 - mae: 1.5168\n",
            "Epoch 1062/2000\n",
            "1/1 [==============================] - 0s 24ms/step - loss: 1.5112 - mae: 1.5112\n",
            "Epoch 1063/2000\n",
            "1/1 [==============================] - 0s 12ms/step - loss: 1.5056 - mae: 1.5056\n",
            "Epoch 1064/2000\n",
            "1/1 [==============================] - 0s 11ms/step - loss: 1.4999 - mae: 1.4999\n",
            "Epoch 1065/2000\n",
            "1/1 [==============================] - 0s 9ms/step - loss: 1.4943 - mae: 1.4943\n",
            "Epoch 1066/2000\n",
            "1/1 [==============================] - 0s 20ms/step - loss: 1.4887 - mae: 1.4887\n",
            "Epoch 1067/2000\n",
            "1/1 [==============================] - 0s 26ms/step - loss: 1.4831 - mae: 1.4831\n",
            "Epoch 1068/2000\n",
            "1/1 [==============================] - 0s 22ms/step - loss: 1.4774 - mae: 1.4774\n",
            "Epoch 1069/2000\n",
            "1/1 [==============================] - 0s 29ms/step - loss: 1.4718 - mae: 1.4718\n",
            "Epoch 1070/2000\n",
            "1/1 [==============================] - 0s 17ms/step - loss: 1.4680 - mae: 1.4680\n",
            "Epoch 1071/2000\n",
            "1/1 [==============================] - 0s 21ms/step - loss: 1.4624 - mae: 1.4624\n",
            "Epoch 1072/2000\n",
            "1/1 [==============================] - 0s 22ms/step - loss: 1.4568 - mae: 1.4568\n",
            "Epoch 1073/2000\n",
            "1/1 [==============================] - 0s 10ms/step - loss: 1.4512 - mae: 1.4512\n",
            "Epoch 1074/2000\n",
            "1/1 [==============================] - 0s 16ms/step - loss: 1.4456 - mae: 1.4456\n",
            "Epoch 1075/2000\n",
            "1/1 [==============================] - 0s 23ms/step - loss: 1.4399 - mae: 1.4399\n",
            "Epoch 1076/2000\n",
            "1/1 [==============================] - 0s 17ms/step - loss: 1.4343 - mae: 1.4343\n",
            "Epoch 1077/2000\n",
            "1/1 [==============================] - 0s 15ms/step - loss: 1.4287 - mae: 1.4287\n",
            "Epoch 1078/2000\n",
            "1/1 [==============================] - 0s 28ms/step - loss: 1.4231 - mae: 1.4231\n",
            "Epoch 1079/2000\n",
            "1/1 [==============================] - 0s 12ms/step - loss: 1.4174 - mae: 1.4174\n",
            "Epoch 1080/2000\n",
            "1/1 [==============================] - 0s 50ms/step - loss: 1.4118 - mae: 1.4118\n",
            "Epoch 1081/2000\n",
            "1/1 [==============================] - 0s 22ms/step - loss: 1.4062 - mae: 1.4062\n",
            "Epoch 1082/2000\n",
            "1/1 [==============================] - 0s 22ms/step - loss: 1.4006 - mae: 1.4006\n",
            "Epoch 1083/2000\n",
            "1/1 [==============================] - 0s 19ms/step - loss: 1.3949 - mae: 1.3949\n",
            "Epoch 1084/2000\n",
            "1/1 [==============================] - 0s 16ms/step - loss: 1.3893 - mae: 1.3893\n",
            "Epoch 1085/2000\n",
            "1/1 [==============================] - 0s 16ms/step - loss: 1.3837 - mae: 1.3837\n",
            "Epoch 1086/2000\n",
            "1/1 [==============================] - 0s 13ms/step - loss: 1.3781 - mae: 1.3781\n",
            "Epoch 1087/2000\n",
            "1/1 [==============================] - 0s 18ms/step - loss: 1.3724 - mae: 1.3724\n",
            "Epoch 1088/2000\n",
            "1/1 [==============================] - 0s 15ms/step - loss: 1.3668 - mae: 1.3668\n",
            "Epoch 1089/2000\n",
            "1/1 [==============================] - 0s 14ms/step - loss: 1.3612 - mae: 1.3612\n",
            "Epoch 1090/2000\n",
            "1/1 [==============================] - 0s 9ms/step - loss: 1.3556 - mae: 1.3556\n",
            "Epoch 1091/2000\n",
            "1/1 [==============================] - 0s 19ms/step - loss: 1.3499 - mae: 1.3499\n",
            "Epoch 1092/2000\n",
            "1/1 [==============================] - 0s 6ms/step - loss: 1.3443 - mae: 1.3443\n",
            "Epoch 1093/2000\n",
            "1/1 [==============================] - 0s 9ms/step - loss: 1.3387 - mae: 1.3387\n",
            "Epoch 1094/2000\n",
            "1/1 [==============================] - 0s 9ms/step - loss: 1.3331 - mae: 1.3331\n",
            "Epoch 1095/2000\n",
            "1/1 [==============================] - 0s 14ms/step - loss: 1.3274 - mae: 1.3274\n",
            "Epoch 1096/2000\n",
            "1/1 [==============================] - 0s 16ms/step - loss: 1.3218 - mae: 1.3218\n",
            "Epoch 1097/2000\n",
            "1/1 [==============================] - 0s 6ms/step - loss: 1.3162 - mae: 1.3162\n",
            "Epoch 1098/2000\n",
            "1/1 [==============================] - 0s 11ms/step - loss: 1.3106 - mae: 1.3106\n",
            "Epoch 1099/2000\n",
            "1/1 [==============================] - 0s 11ms/step - loss: 1.3049 - mae: 1.3049\n",
            "Epoch 1100/2000\n",
            "1/1 [==============================] - 0s 8ms/step - loss: 1.2993 - mae: 1.2993\n",
            "Epoch 1101/2000\n",
            "1/1 [==============================] - 0s 11ms/step - loss: 1.2937 - mae: 1.2937\n",
            "Epoch 1102/2000\n",
            "1/1 [==============================] - 0s 19ms/step - loss: 1.2881 - mae: 1.2881\n",
            "Epoch 1103/2000\n",
            "1/1 [==============================] - 0s 17ms/step - loss: 1.2824 - mae: 1.2824\n",
            "Epoch 1104/2000\n",
            "1/1 [==============================] - 0s 18ms/step - loss: 1.2768 - mae: 1.2768\n",
            "Epoch 1105/2000\n",
            "1/1 [==============================] - 0s 11ms/step - loss: 1.2712 - mae: 1.2712\n",
            "Epoch 1106/2000\n",
            "1/1 [==============================] - 0s 19ms/step - loss: 1.2656 - mae: 1.2656\n",
            "Epoch 1107/2000\n",
            "1/1 [==============================] - 0s 19ms/step - loss: 1.2599 - mae: 1.2599\n",
            "Epoch 1108/2000\n",
            "1/1 [==============================] - 0s 10ms/step - loss: 1.2543 - mae: 1.2543\n",
            "Epoch 1109/2000\n",
            "1/1 [==============================] - 0s 9ms/step - loss: 1.2487 - mae: 1.2487\n",
            "Epoch 1110/2000\n",
            "1/1 [==============================] - 0s 6ms/step - loss: 1.2436 - mae: 1.2436\n",
            "Epoch 1111/2000\n",
            "1/1 [==============================] - 0s 8ms/step - loss: 1.2393 - mae: 1.2393\n",
            "Epoch 1112/2000\n",
            "1/1 [==============================] - 0s 7ms/step - loss: 1.2337 - mae: 1.2337\n",
            "Epoch 1113/2000\n",
            "1/1 [==============================] - 0s 8ms/step - loss: 1.2281 - mae: 1.2281\n",
            "Epoch 1114/2000\n",
            "1/1 [==============================] - 0s 10ms/step - loss: 1.2225 - mae: 1.2225\n",
            "Epoch 1115/2000\n",
            "1/1 [==============================] - 0s 7ms/step - loss: 1.2168 - mae: 1.2168\n",
            "Epoch 1116/2000\n",
            "1/1 [==============================] - 0s 6ms/step - loss: 1.2112 - mae: 1.2112\n",
            "Epoch 1117/2000\n",
            "1/1 [==============================] - 0s 11ms/step - loss: 1.2056 - mae: 1.2056\n",
            "Epoch 1118/2000\n",
            "1/1 [==============================] - 0s 13ms/step - loss: 1.2000 - mae: 1.2000\n",
            "Epoch 1119/2000\n",
            "1/1 [==============================] - 0s 11ms/step - loss: 1.1943 - mae: 1.1943\n",
            "Epoch 1120/2000\n",
            "1/1 [==============================] - 0s 10ms/step - loss: 1.1887 - mae: 1.1887\n",
            "Epoch 1121/2000\n",
            "1/1 [==============================] - 0s 7ms/step - loss: 1.1831 - mae: 1.1831\n",
            "Epoch 1122/2000\n",
            "1/1 [==============================] - 0s 10ms/step - loss: 1.1775 - mae: 1.1775\n",
            "Epoch 1123/2000\n",
            "1/1 [==============================] - 0s 10ms/step - loss: 1.1718 - mae: 1.1718\n",
            "Epoch 1124/2000\n",
            "1/1 [==============================] - 0s 10ms/step - loss: 1.1662 - mae: 1.1662\n",
            "Epoch 1125/2000\n",
            "1/1 [==============================] - 0s 6ms/step - loss: 1.1606 - mae: 1.1606\n",
            "Epoch 1126/2000\n",
            "1/1 [==============================] - 0s 13ms/step - loss: 1.1550 - mae: 1.1550\n",
            "Epoch 1127/2000\n",
            "1/1 [==============================] - 0s 9ms/step - loss: 1.1493 - mae: 1.1493\n",
            "Epoch 1128/2000\n",
            "1/1 [==============================] - 0s 8ms/step - loss: 1.1437 - mae: 1.1437\n",
            "Epoch 1129/2000\n",
            "1/1 [==============================] - 0s 8ms/step - loss: 1.1381 - mae: 1.1381\n",
            "Epoch 1130/2000\n",
            "1/1 [==============================] - 0s 8ms/step - loss: 1.1325 - mae: 1.1325\n",
            "Epoch 1131/2000\n",
            "1/1 [==============================] - 0s 6ms/step - loss: 1.1268 - mae: 1.1268\n",
            "Epoch 1132/2000\n",
            "1/1 [==============================] - 0s 11ms/step - loss: 1.1212 - mae: 1.1212\n",
            "Epoch 1133/2000\n",
            "1/1 [==============================] - 0s 10ms/step - loss: 1.1156 - mae: 1.1156\n",
            "Epoch 1134/2000\n",
            "1/1 [==============================] - 0s 14ms/step - loss: 1.1100 - mae: 1.1100\n",
            "Epoch 1135/2000\n",
            "1/1 [==============================] - 0s 43ms/step - loss: 1.1043 - mae: 1.1043\n",
            "Epoch 1136/2000\n",
            "1/1 [==============================] - 0s 27ms/step - loss: 1.0987 - mae: 1.0987\n",
            "Epoch 1137/2000\n",
            "1/1 [==============================] - 0s 31ms/step - loss: 1.0931 - mae: 1.0931\n",
            "Epoch 1138/2000\n",
            "1/1 [==============================] - 0s 24ms/step - loss: 1.0875 - mae: 1.0875\n",
            "Epoch 1139/2000\n",
            "1/1 [==============================] - 0s 14ms/step - loss: 1.0818 - mae: 1.0818\n",
            "Epoch 1140/2000\n",
            "1/1 [==============================] - 0s 9ms/step - loss: 1.0762 - mae: 1.0762\n",
            "Epoch 1141/2000\n",
            "1/1 [==============================] - 0s 23ms/step - loss: 1.0706 - mae: 1.0706\n",
            "Epoch 1142/2000\n",
            "1/1 [==============================] - 0s 15ms/step - loss: 1.0650 - mae: 1.0650\n",
            "Epoch 1143/2000\n",
            "1/1 [==============================] - 0s 9ms/step - loss: 1.0593 - mae: 1.0593\n",
            "Epoch 1144/2000\n",
            "1/1 [==============================] - 0s 35ms/step - loss: 1.0537 - mae: 1.0537\n",
            "Epoch 1145/2000\n",
            "1/1 [==============================] - 0s 25ms/step - loss: 1.0481 - mae: 1.0481\n",
            "Epoch 1146/2000\n",
            "1/1 [==============================] - 0s 10ms/step - loss: 1.0425 - mae: 1.0425\n",
            "Epoch 1147/2000\n",
            "1/1 [==============================] - 0s 9ms/step - loss: 1.0368 - mae: 1.0368\n",
            "Epoch 1148/2000\n",
            "1/1 [==============================] - 0s 10ms/step - loss: 1.0312 - mae: 1.0312\n",
            "Epoch 1149/2000\n",
            "1/1 [==============================] - 0s 8ms/step - loss: 1.0256 - mae: 1.0256\n",
            "Epoch 1150/2000\n",
            "1/1 [==============================] - 0s 28ms/step - loss: 1.0200 - mae: 1.0200\n",
            "Epoch 1151/2000\n",
            "1/1 [==============================] - 0s 20ms/step - loss: 1.0155 - mae: 1.0155\n",
            "Epoch 1152/2000\n",
            "1/1 [==============================] - 0s 20ms/step - loss: 1.0119 - mae: 1.0119\n",
            "Epoch 1153/2000\n",
            "1/1 [==============================] - 0s 16ms/step - loss: 1.0286 - mae: 1.0286\n",
            "Epoch 1154/2000\n",
            "1/1 [==============================] - 0s 23ms/step - loss: 0.9993 - mae: 0.9993\n",
            "Epoch 1155/2000\n",
            "1/1 [==============================] - 0s 19ms/step - loss: 0.9937 - mae: 0.9937\n",
            "Epoch 1156/2000\n",
            "1/1 [==============================] - 0s 12ms/step - loss: 0.9881 - mae: 0.9881\n",
            "Epoch 1157/2000\n",
            "1/1 [==============================] - 0s 18ms/step - loss: 0.9825 - mae: 0.9825\n",
            "Epoch 1158/2000\n",
            "1/1 [==============================] - 0s 11ms/step - loss: 0.9768 - mae: 0.9768\n",
            "Epoch 1159/2000\n",
            "1/1 [==============================] - 0s 9ms/step - loss: 0.9712 - mae: 0.9712\n",
            "Epoch 1160/2000\n",
            "1/1 [==============================] - 0s 7ms/step - loss: 0.9656 - mae: 0.9656\n",
            "Epoch 1161/2000\n",
            "1/1 [==============================] - 0s 9ms/step - loss: 0.9600 - mae: 0.9600\n",
            "Epoch 1162/2000\n",
            "1/1 [==============================] - 0s 9ms/step - loss: 0.9543 - mae: 0.9543\n",
            "Epoch 1163/2000\n",
            "1/1 [==============================] - 0s 12ms/step - loss: 0.9487 - mae: 0.9487\n",
            "Epoch 1164/2000\n",
            "1/1 [==============================] - 0s 15ms/step - loss: 0.9431 - mae: 0.9431\n",
            "Epoch 1165/2000\n",
            "1/1 [==============================] - 0s 13ms/step - loss: 0.9375 - mae: 0.9375\n",
            "Epoch 1166/2000\n",
            "1/1 [==============================] - 0s 12ms/step - loss: 0.9318 - mae: 0.9318\n",
            "Epoch 1167/2000\n",
            "1/1 [==============================] - 0s 16ms/step - loss: 0.9262 - mae: 0.9262\n",
            "Epoch 1168/2000\n",
            "1/1 [==============================] - 0s 14ms/step - loss: 0.9206 - mae: 0.9206\n",
            "Epoch 1169/2000\n",
            "1/1 [==============================] - 0s 9ms/step - loss: 0.9150 - mae: 0.9150\n",
            "Epoch 1170/2000\n",
            "1/1 [==============================] - 0s 12ms/step - loss: 0.9093 - mae: 0.9093\n",
            "Epoch 1171/2000\n",
            "1/1 [==============================] - 0s 9ms/step - loss: 0.9037 - mae: 0.9037\n",
            "Epoch 1172/2000\n",
            "1/1 [==============================] - 0s 19ms/step - loss: 0.8981 - mae: 0.8981\n",
            "Epoch 1173/2000\n",
            "1/1 [==============================] - 0s 17ms/step - loss: 0.8925 - mae: 0.8925\n",
            "Epoch 1174/2000\n",
            "1/1 [==============================] - 0s 25ms/step - loss: 0.8868 - mae: 0.8868\n",
            "Epoch 1175/2000\n",
            "1/1 [==============================] - 0s 23ms/step - loss: 0.8812 - mae: 0.8812\n",
            "Epoch 1176/2000\n",
            "1/1 [==============================] - 0s 11ms/step - loss: 0.8756 - mae: 0.8756\n",
            "Epoch 1177/2000\n",
            "1/1 [==============================] - 0s 10ms/step - loss: 0.8700 - mae: 0.8700\n",
            "Epoch 1178/2000\n",
            "1/1 [==============================] - 0s 10ms/step - loss: 0.8643 - mae: 0.8643\n",
            "Epoch 1179/2000\n",
            "1/1 [==============================] - 0s 11ms/step - loss: 0.8587 - mae: 0.8587\n",
            "Epoch 1180/2000\n",
            "1/1 [==============================] - 0s 38ms/step - loss: 0.8531 - mae: 0.8531\n",
            "Epoch 1181/2000\n",
            "1/1 [==============================] - 0s 13ms/step - loss: 0.8493 - mae: 0.8493\n",
            "Epoch 1182/2000\n",
            "1/1 [==============================] - 0s 11ms/step - loss: 0.8594 - mae: 0.8594\n",
            "Epoch 1183/2000\n",
            "1/1 [==============================] - 0s 57ms/step - loss: 0.8624 - mae: 0.8624\n",
            "Epoch 1184/2000\n",
            "1/1 [==============================] - 0s 7ms/step - loss: 0.8325 - mae: 0.8325\n",
            "Epoch 1185/2000\n",
            "1/1 [==============================] - 0s 7ms/step - loss: 0.8268 - mae: 0.8268\n",
            "Epoch 1186/2000\n",
            "1/1 [==============================] - 0s 7ms/step - loss: 0.8212 - mae: 0.8212\n",
            "Epoch 1187/2000\n",
            "1/1 [==============================] - 0s 8ms/step - loss: 0.8156 - mae: 0.8156\n",
            "Epoch 1188/2000\n",
            "1/1 [==============================] - 0s 9ms/step - loss: 0.8100 - mae: 0.8100\n",
            "Epoch 1189/2000\n",
            "1/1 [==============================] - 0s 62ms/step - loss: 0.8043 - mae: 0.8043\n",
            "Epoch 1190/2000\n",
            "1/1 [==============================] - 0s 7ms/step - loss: 0.7987 - mae: 0.7987\n",
            "Epoch 1191/2000\n",
            "1/1 [==============================] - 0s 7ms/step - loss: 0.7931 - mae: 0.7931\n",
            "Epoch 1192/2000\n",
            "1/1 [==============================] - 0s 8ms/step - loss: 0.7875 - mae: 0.7875\n",
            "Epoch 1193/2000\n",
            "1/1 [==============================] - 0s 8ms/step - loss: 0.7818 - mae: 0.7818\n",
            "Epoch 1194/2000\n",
            "1/1 [==============================] - 0s 22ms/step - loss: 0.7762 - mae: 0.7762\n",
            "Epoch 1195/2000\n",
            "1/1 [==============================] - 0s 11ms/step - loss: 0.7706 - mae: 0.7706\n",
            "Epoch 1196/2000\n",
            "1/1 [==============================] - 0s 16ms/step - loss: 0.7650 - mae: 0.7650\n",
            "Epoch 1197/2000\n",
            "1/1 [==============================] - 0s 18ms/step - loss: 0.7593 - mae: 0.7593\n",
            "Epoch 1198/2000\n",
            "1/1 [==============================] - 0s 12ms/step - loss: 0.7537 - mae: 0.7537\n",
            "Epoch 1199/2000\n",
            "1/1 [==============================] - 0s 11ms/step - loss: 0.7481 - mae: 0.7481\n",
            "Epoch 1200/2000\n",
            "1/1 [==============================] - 0s 14ms/step - loss: 0.7425 - mae: 0.7425\n",
            "Epoch 1201/2000\n",
            "1/1 [==============================] - 0s 12ms/step - loss: 0.7368 - mae: 0.7368\n",
            "Epoch 1202/2000\n",
            "1/1 [==============================] - 0s 16ms/step - loss: 0.7312 - mae: 0.7312\n",
            "Epoch 1203/2000\n",
            "1/1 [==============================] - 0s 14ms/step - loss: 0.7256 - mae: 0.7256\n",
            "Epoch 1204/2000\n",
            "1/1 [==============================] - 0s 32ms/step - loss: 0.7200 - mae: 0.7200\n",
            "Epoch 1205/2000\n",
            "1/1 [==============================] - 0s 21ms/step - loss: 0.7143 - mae: 0.7143\n",
            "Epoch 1206/2000\n",
            "1/1 [==============================] - 0s 11ms/step - loss: 0.7087 - mae: 0.7087\n",
            "Epoch 1207/2000\n",
            "1/1 [==============================] - 0s 9ms/step - loss: 0.7031 - mae: 0.7031\n",
            "Epoch 1208/2000\n",
            "1/1 [==============================] - 0s 10ms/step - loss: 0.6975 - mae: 0.6975\n",
            "Epoch 1209/2000\n",
            "1/1 [==============================] - 0s 11ms/step - loss: 0.6918 - mae: 0.6918\n",
            "Epoch 1210/2000\n",
            "1/1 [==============================] - 0s 11ms/step - loss: 0.6868 - mae: 0.6868\n",
            "Epoch 1211/2000\n",
            "1/1 [==============================] - 0s 19ms/step - loss: 0.7144 - mae: 0.7144\n",
            "Epoch 1212/2000\n",
            "1/1 [==============================] - 0s 11ms/step - loss: 0.6999 - mae: 0.6999\n",
            "Epoch 1213/2000\n",
            "1/1 [==============================] - 0s 11ms/step - loss: 0.6732 - mae: 0.6732\n",
            "Epoch 1214/2000\n",
            "1/1 [==============================] - 0s 11ms/step - loss: 0.7130 - mae: 0.7130\n",
            "Epoch 1215/2000\n",
            "1/1 [==============================] - 0s 10ms/step - loss: 0.6600 - mae: 0.6600\n",
            "Epoch 1216/2000\n",
            "1/1 [==============================] - 0s 11ms/step - loss: 0.6543 - mae: 0.6543\n",
            "Epoch 1217/2000\n",
            "1/1 [==============================] - 0s 11ms/step - loss: 0.6487 - mae: 0.6487\n",
            "Epoch 1218/2000\n",
            "1/1 [==============================] - 0s 12ms/step - loss: 0.6431 - mae: 0.6431\n",
            "Epoch 1219/2000\n",
            "1/1 [==============================] - 0s 11ms/step - loss: 0.6375 - mae: 0.6375\n",
            "Epoch 1220/2000\n",
            "1/1 [==============================] - 0s 16ms/step - loss: 0.6318 - mae: 0.6318\n",
            "Epoch 1221/2000\n",
            "1/1 [==============================] - 0s 11ms/step - loss: 0.6262 - mae: 0.6262\n",
            "Epoch 1222/2000\n",
            "1/1 [==============================] - 0s 18ms/step - loss: 0.6206 - mae: 0.6206\n",
            "Epoch 1223/2000\n",
            "1/1 [==============================] - 0s 8ms/step - loss: 0.6150 - mae: 0.6150\n",
            "Epoch 1224/2000\n",
            "1/1 [==============================] - 0s 7ms/step - loss: 0.6093 - mae: 0.6093\n",
            "Epoch 1225/2000\n",
            "1/1 [==============================] - 0s 7ms/step - loss: 0.6037 - mae: 0.6037\n",
            "Epoch 1226/2000\n",
            "1/1 [==============================] - 0s 7ms/step - loss: 0.5981 - mae: 0.5981\n",
            "Epoch 1227/2000\n",
            "1/1 [==============================] - 0s 7ms/step - loss: 0.5925 - mae: 0.5925\n",
            "Epoch 1228/2000\n",
            "1/1 [==============================] - 0s 14ms/step - loss: 0.5868 - mae: 0.5868\n",
            "Epoch 1229/2000\n",
            "1/1 [==============================] - 0s 15ms/step - loss: 0.5824 - mae: 0.5824\n",
            "Epoch 1230/2000\n",
            "1/1 [==============================] - 0s 7ms/step - loss: 0.6182 - mae: 0.6182\n",
            "Epoch 1231/2000\n",
            "1/1 [==============================] - 0s 7ms/step - loss: 0.5955 - mae: 0.5955\n",
            "Epoch 1232/2000\n",
            "1/1 [==============================] - 0s 8ms/step - loss: 0.5769 - mae: 0.5769\n",
            "Epoch 1233/2000\n",
            "1/1 [==============================] - 0s 11ms/step - loss: 0.6086 - mae: 0.6086\n",
            "Epoch 1234/2000\n",
            "1/1 [==============================] - 0s 10ms/step - loss: 0.5550 - mae: 0.5550\n",
            "Epoch 1235/2000\n",
            "1/1 [==============================] - 0s 10ms/step - loss: 0.5493 - mae: 0.5493\n",
            "Epoch 1236/2000\n",
            "1/1 [==============================] - 0s 20ms/step - loss: 0.5437 - mae: 0.5437\n",
            "Epoch 1237/2000\n",
            "1/1 [==============================] - 0s 18ms/step - loss: 0.5381 - mae: 0.5381\n",
            "Epoch 1238/2000\n",
            "1/1 [==============================] - 0s 13ms/step - loss: 0.5325 - mae: 0.5325\n",
            "Epoch 1239/2000\n",
            "1/1 [==============================] - 0s 11ms/step - loss: 0.5268 - mae: 0.5268\n",
            "Epoch 1240/2000\n",
            "1/1 [==============================] - 0s 13ms/step - loss: 0.5212 - mae: 0.5212\n",
            "Epoch 1241/2000\n",
            "1/1 [==============================] - 0s 8ms/step - loss: 0.5156 - mae: 0.5156\n",
            "Epoch 1242/2000\n",
            "1/1 [==============================] - 0s 17ms/step - loss: 0.5100 - mae: 0.5100\n",
            "Epoch 1243/2000\n",
            "1/1 [==============================] - 0s 17ms/step - loss: 0.5043 - mae: 0.5043\n",
            "Epoch 1244/2000\n",
            "1/1 [==============================] - 0s 21ms/step - loss: 0.4987 - mae: 0.4987\n",
            "Epoch 1245/2000\n",
            "1/1 [==============================] - 0s 10ms/step - loss: 0.4931 - mae: 0.4931\n",
            "Epoch 1246/2000\n",
            "1/1 [==============================] - 0s 7ms/step - loss: 0.4875 - mae: 0.4875\n",
            "Epoch 1247/2000\n",
            "1/1 [==============================] - 0s 8ms/step - loss: 0.4819 - mae: 0.4819\n",
            "Epoch 1248/2000\n",
            "1/1 [==============================] - 0s 8ms/step - loss: 0.4780 - mae: 0.4780\n",
            "Epoch 1249/2000\n",
            "1/1 [==============================] - 0s 7ms/step - loss: 0.5219 - mae: 0.5219\n",
            "Epoch 1250/2000\n",
            "1/1 [==============================] - 0s 7ms/step - loss: 0.4911 - mae: 0.4911\n",
            "Epoch 1251/2000\n",
            "1/1 [==============================] - 0s 8ms/step - loss: 0.4807 - mae: 0.4807\n",
            "Epoch 1252/2000\n",
            "1/1 [==============================] - 0s 11ms/step - loss: 0.5043 - mae: 0.5043\n",
            "Epoch 1253/2000\n",
            "1/1 [==============================] - 0s 8ms/step - loss: 0.4500 - mae: 0.4500\n",
            "Epoch 1254/2000\n",
            "1/1 [==============================] - 0s 9ms/step - loss: 0.4443 - mae: 0.4443\n",
            "Epoch 1255/2000\n",
            "1/1 [==============================] - 0s 8ms/step - loss: 0.4387 - mae: 0.4387\n",
            "Epoch 1256/2000\n",
            "1/1 [==============================] - 0s 7ms/step - loss: 0.4331 - mae: 0.4331\n",
            "Epoch 1257/2000\n",
            "1/1 [==============================] - 0s 17ms/step - loss: 0.4275 - mae: 0.4275\n",
            "Epoch 1258/2000\n",
            "1/1 [==============================] - 0s 12ms/step - loss: 0.4219 - mae: 0.4219\n",
            "Epoch 1259/2000\n",
            "1/1 [==============================] - 0s 8ms/step - loss: 0.4162 - mae: 0.4162\n",
            "Epoch 1260/2000\n",
            "1/1 [==============================] - 0s 18ms/step - loss: 0.4106 - mae: 0.4106\n",
            "Epoch 1261/2000\n",
            "1/1 [==============================] - 0s 8ms/step - loss: 0.4050 - mae: 0.4050\n",
            "Epoch 1262/2000\n",
            "1/1 [==============================] - 0s 14ms/step - loss: 0.3994 - mae: 0.3994\n",
            "Epoch 1263/2000\n",
            "1/1 [==============================] - 0s 7ms/step - loss: 0.3937 - mae: 0.3937\n",
            "Epoch 1264/2000\n",
            "1/1 [==============================] - 0s 12ms/step - loss: 0.3881 - mae: 0.3881\n",
            "Epoch 1265/2000\n",
            "1/1 [==============================] - 0s 11ms/step - loss: 0.3825 - mae: 0.3825\n",
            "Epoch 1266/2000\n",
            "1/1 [==============================] - 0s 9ms/step - loss: 0.3774 - mae: 0.3774\n",
            "Epoch 1267/2000\n",
            "1/1 [==============================] - 0s 9ms/step - loss: 0.4332 - mae: 0.4332\n",
            "Epoch 1268/2000\n",
            "1/1 [==============================] - 0s 13ms/step - loss: 0.3905 - mae: 0.3905\n",
            "Epoch 1269/2000\n",
            "1/1 [==============================] - 0s 10ms/step - loss: 0.3919 - mae: 0.3919\n",
            "Epoch 1270/2000\n",
            "1/1 [==============================] - 0s 13ms/step - loss: 0.4073 - mae: 0.4073\n",
            "Epoch 1271/2000\n",
            "1/1 [==============================] - 0s 8ms/step - loss: 0.4232 - mae: 0.4232\n",
            "Epoch 1272/2000\n",
            "1/1 [==============================] - 0s 6ms/step - loss: 0.3630 - mae: 0.3630\n",
            "Epoch 1273/2000\n",
            "1/1 [==============================] - 0s 9ms/step - loss: 0.3819 - mae: 0.3819\n",
            "Epoch 1274/2000\n",
            "1/1 [==============================] - 0s 7ms/step - loss: 0.3766 - mae: 0.3766\n",
            "Epoch 1275/2000\n",
            "1/1 [==============================] - 0s 8ms/step - loss: 0.4132 - mae: 0.4132\n",
            "Epoch 1276/2000\n",
            "1/1 [==============================] - 0s 10ms/step - loss: 0.3355 - mae: 0.3355\n",
            "Epoch 1277/2000\n",
            "1/1 [==============================] - 0s 8ms/step - loss: 0.3719 - mae: 0.3719\n",
            "Epoch 1278/2000\n",
            "1/1 [==============================] - 0s 7ms/step - loss: 0.3486 - mae: 0.3486\n",
            "Epoch 1279/2000\n",
            "1/1 [==============================] - 0s 8ms/step - loss: 0.3307 - mae: 0.3307\n",
            "Epoch 1280/2000\n",
            "1/1 [==============================] - 0s 8ms/step - loss: 0.3779 - mae: 0.3779\n",
            "Epoch 1281/2000\n",
            "1/1 [==============================] - 0s 10ms/step - loss: 0.3619 - mae: 0.3619\n",
            "Epoch 1282/2000\n",
            "1/1 [==============================] - 0s 7ms/step - loss: 0.3211 - mae: 0.3211\n",
            "Epoch 1283/2000\n",
            "1/1 [==============================] - 0s 7ms/step - loss: 0.3207 - mae: 0.3207\n",
            "Epoch 1284/2000\n",
            "1/1 [==============================] - 0s 11ms/step - loss: 0.3473 - mae: 0.3473\n",
            "Epoch 1285/2000\n",
            "1/1 [==============================] - 0s 19ms/step - loss: 0.3519 - mae: 0.3519\n",
            "Epoch 1286/2000\n",
            "1/1 [==============================] - 0s 11ms/step - loss: 0.2936 - mae: 0.2936\n",
            "Epoch 1287/2000\n",
            "1/1 [==============================] - 0s 24ms/step - loss: 0.3107 - mae: 0.3107\n",
            "Epoch 1288/2000\n",
            "1/1 [==============================] - 0s 37ms/step - loss: 0.3166 - mae: 0.3166\n",
            "Epoch 1289/2000\n",
            "1/1 [==============================] - 0s 13ms/step - loss: 0.3419 - mae: 0.3419\n",
            "Epoch 1290/2000\n",
            "1/1 [==============================] - 0s 12ms/step - loss: 0.2661 - mae: 0.2661\n",
            "Epoch 1291/2000\n",
            "1/1 [==============================] - 0s 19ms/step - loss: 0.3007 - mae: 0.3007\n",
            "Epoch 1292/2000\n",
            "1/1 [==============================] - 0s 32ms/step - loss: 0.2860 - mae: 0.2860\n",
            "Epoch 1293/2000\n",
            "1/1 [==============================] - 0s 23ms/step - loss: 0.3319 - mae: 0.3319\n",
            "Epoch 1294/2000\n",
            "1/1 [==============================] - 0s 44ms/step - loss: 0.2386 - mae: 0.2386\n",
            "Epoch 1295/2000\n",
            "1/1 [==============================] - 0s 33ms/step - loss: 0.2907 - mae: 0.2907\n",
            "Epoch 1296/2000\n",
            "1/1 [==============================] - 0s 13ms/step - loss: 0.2554 - mae: 0.2554\n",
            "Epoch 1297/2000\n",
            "1/1 [==============================] - 0s 13ms/step - loss: 0.3219 - mae: 0.3219\n",
            "Epoch 1298/2000\n",
            "1/1 [==============================] - 0s 9ms/step - loss: 0.2111 - mae: 0.2111\n",
            "Epoch 1299/2000\n",
            "1/1 [==============================] - 0s 14ms/step - loss: 0.2807 - mae: 0.2807\n",
            "Epoch 1300/2000\n",
            "1/1 [==============================] - 0s 31ms/step - loss: 0.2248 - mae: 0.2248\n",
            "Epoch 1301/2000\n",
            "1/1 [==============================] - 0s 19ms/step - loss: 0.3119 - mae: 0.3119\n",
            "Epoch 1302/2000\n",
            "1/1 [==============================] - 0s 17ms/step - loss: 0.1894 - mae: 0.1894\n",
            "Epoch 1303/2000\n",
            "1/1 [==============================] - 0s 29ms/step - loss: 0.1837 - mae: 0.1837\n",
            "Epoch 1304/2000\n",
            "1/1 [==============================] - 0s 12ms/step - loss: 0.1781 - mae: 0.1781\n",
            "Epoch 1305/2000\n",
            "1/1 [==============================] - 0s 32ms/step - loss: 0.1725 - mae: 0.1725\n",
            "Epoch 1306/2000\n",
            "1/1 [==============================] - 0s 22ms/step - loss: 0.1686 - mae: 0.1686\n",
            "Epoch 1307/2000\n",
            "1/1 [==============================] - 0s 11ms/step - loss: 0.2407 - mae: 0.2407\n",
            "Epoch 1308/2000\n",
            "1/1 [==============================] - 0s 24ms/step - loss: 0.1866 - mae: 0.1866\n",
            "Epoch 1309/2000\n",
            "1/1 [==============================] - 0s 17ms/step - loss: 0.2719 - mae: 0.2719\n",
            "Epoch 1310/2000\n",
            "1/1 [==============================] - 0s 25ms/step - loss: 0.1462 - mae: 0.1462\n",
            "Epoch 1311/2000\n",
            "1/1 [==============================] - 0s 33ms/step - loss: 0.1406 - mae: 0.1406\n",
            "Epoch 1312/2000\n",
            "1/1 [==============================] - 0s 6ms/step - loss: 0.1350 - mae: 0.1350\n",
            "Epoch 1313/2000\n",
            "1/1 [==============================] - 0s 10ms/step - loss: 0.1299 - mae: 0.1299\n",
            "Epoch 1314/2000\n",
            "1/1 [==============================] - 0s 10ms/step - loss: 0.2082 - mae: 0.2082\n",
            "Epoch 1315/2000\n",
            "1/1 [==============================] - 0s 8ms/step - loss: 0.1504 - mae: 0.1504\n",
            "Epoch 1316/2000\n",
            "1/1 [==============================] - 0s 18ms/step - loss: 0.2429 - mae: 0.2429\n",
            "Epoch 1317/2000\n",
            "1/1 [==============================] - 0s 13ms/step - loss: 0.1716 - mae: 0.1716\n",
            "Epoch 1318/2000\n",
            "1/1 [==============================] - 0s 12ms/step - loss: 0.2119 - mae: 0.2119\n",
            "Epoch 1319/2000\n",
            "1/1 [==============================] - 0s 14ms/step - loss: 0.1111 - mae: 0.1111\n",
            "Epoch 1320/2000\n",
            "1/1 [==============================] - 0s 33ms/step - loss: 0.1707 - mae: 0.1707\n",
            "Epoch 1321/2000\n",
            "1/1 [==============================] - 0s 19ms/step - loss: 0.1410 - mae: 0.1410\n",
            "Epoch 1322/2000\n",
            "1/1 [==============================] - 0s 21ms/step - loss: 0.2148 - mae: 0.2148\n",
            "Epoch 1323/2000\n",
            "1/1 [==============================] - 0s 12ms/step - loss: 0.1702 - mae: 0.1702\n",
            "Epoch 1324/2000\n",
            "1/1 [==============================] - 0s 11ms/step - loss: 0.2527 - mae: 0.2527\n",
            "Epoch 1325/2000\n",
            "1/1 [==============================] - 0s 8ms/step - loss: 0.1852 - mae: 0.1852\n",
            "Epoch 1326/2000\n",
            "1/1 [==============================] - 0s 14ms/step - loss: 0.2345 - mae: 0.2345\n",
            "Epoch 1327/2000\n",
            "1/1 [==============================] - 0s 17ms/step - loss: 0.2002 - mae: 0.2002\n",
            "Epoch 1328/2000\n",
            "1/1 [==============================] - 0s 18ms/step - loss: 0.2164 - mae: 0.2164\n",
            "Epoch 1329/2000\n",
            "1/1 [==============================] - 0s 7ms/step - loss: 0.2152 - mae: 0.2152\n",
            "Epoch 1330/2000\n",
            "1/1 [==============================] - 0s 16ms/step - loss: 0.1983 - mae: 0.1983\n",
            "Epoch 1331/2000\n",
            "1/1 [==============================] - 0s 10ms/step - loss: 0.2302 - mae: 0.2302\n",
            "Epoch 1332/2000\n",
            "1/1 [==============================] - 0s 11ms/step - loss: 0.1810 - mae: 0.1810\n",
            "Epoch 1333/2000\n",
            "1/1 [==============================] - 0s 13ms/step - loss: 0.1852 - mae: 0.1852\n",
            "Epoch 1334/2000\n",
            "1/1 [==============================] - 0s 9ms/step - loss: 0.2233 - mae: 0.2233\n",
            "Epoch 1335/2000\n",
            "1/1 [==============================] - 0s 20ms/step - loss: 0.2002 - mae: 0.2002\n",
            "Epoch 1336/2000\n",
            "1/1 [==============================] - 0s 12ms/step - loss: 0.2052 - mae: 0.2052\n",
            "Epoch 1337/2000\n",
            "1/1 [==============================] - 0s 7ms/step - loss: 0.2152 - mae: 0.2152\n",
            "Epoch 1338/2000\n",
            "1/1 [==============================] - 0s 10ms/step - loss: 0.1870 - mae: 0.1870\n",
            "Epoch 1339/2000\n",
            "1/1 [==============================] - 0s 13ms/step - loss: 0.2325 - mae: 0.2325\n",
            "Epoch 1340/2000\n",
            "1/1 [==============================] - 0s 11ms/step - loss: 0.2014 - mae: 0.2014\n",
            "Epoch 1341/2000\n",
            "1/1 [==============================] - 0s 13ms/step - loss: 0.2169 - mae: 0.2169\n",
            "Epoch 1342/2000\n",
            "1/1 [==============================] - 0s 7ms/step - loss: 0.2158 - mae: 0.2158\n",
            "Epoch 1343/2000\n",
            "1/1 [==============================] - 0s 14ms/step - loss: 0.2013 - mae: 0.2013\n",
            "Epoch 1344/2000\n",
            "1/1 [==============================] - 0s 8ms/step - loss: 0.2302 - mae: 0.2302\n",
            "Epoch 1345/2000\n",
            "1/1 [==============================] - 0s 9ms/step - loss: 0.1857 - mae: 0.1857\n",
            "Epoch 1346/2000\n",
            "1/1 [==============================] - 0s 12ms/step - loss: 0.2445 - mae: 0.2445\n",
            "Epoch 1347/2000\n",
            "1/1 [==============================] - 0s 17ms/step - loss: 0.1702 - mae: 0.1702\n",
            "Epoch 1348/2000\n",
            "1/1 [==============================] - 0s 11ms/step - loss: 0.2264 - mae: 0.2264\n",
            "Epoch 1349/2000\n",
            "1/1 [==============================] - 0s 17ms/step - loss: 0.1875 - mae: 0.1875\n",
            "Epoch 1350/2000\n",
            "1/1 [==============================] - 0s 108ms/step - loss: 0.2408 - mae: 0.2408\n",
            "Epoch 1351/2000\n",
            "1/1 [==============================] - 0s 39ms/step - loss: 0.1719 - mae: 0.1719\n",
            "Epoch 1352/2000\n",
            "1/1 [==============================] - 0s 21ms/step - loss: 0.2552 - mae: 0.2552\n",
            "Epoch 1353/2000\n",
            "1/1 [==============================] - 0s 17ms/step - loss: 0.1563 - mae: 0.1563\n",
            "Epoch 1354/2000\n",
            "1/1 [==============================] - 0s 17ms/step - loss: 0.2695 - mae: 0.2695\n",
            "Epoch 1355/2000\n",
            "1/1 [==============================] - 0s 13ms/step - loss: 0.1407 - mae: 0.1407\n",
            "Epoch 1356/2000\n",
            "1/1 [==============================] - 0s 18ms/step - loss: 0.2839 - mae: 0.2839\n",
            "Epoch 1357/2000\n",
            "1/1 [==============================] - 0s 19ms/step - loss: 0.1252 - mae: 0.1252\n",
            "Epoch 1358/2000\n",
            "1/1 [==============================] - 0s 12ms/step - loss: 0.2658 - mae: 0.2658\n",
            "Epoch 1359/2000\n",
            "1/1 [==============================] - 0s 16ms/step - loss: 0.1425 - mae: 0.1425\n",
            "Epoch 1360/2000\n",
            "1/1 [==============================] - 0s 21ms/step - loss: 0.2806 - mae: 0.2806\n",
            "Epoch 1361/2000\n",
            "1/1 [==============================] - 0s 19ms/step - loss: 0.1425 - mae: 0.1425\n",
            "Epoch 1362/2000\n",
            "1/1 [==============================] - 0s 19ms/step - loss: 0.2806 - mae: 0.2806\n",
            "Epoch 1363/2000\n",
            "1/1 [==============================] - 0s 12ms/step - loss: 0.1425 - mae: 0.1425\n",
            "Epoch 1364/2000\n",
            "1/1 [==============================] - 0s 9ms/step - loss: 0.2806 - mae: 0.2806\n",
            "Epoch 1365/2000\n",
            "1/1 [==============================] - 0s 7ms/step - loss: 0.1425 - mae: 0.1425\n",
            "Epoch 1366/2000\n",
            "1/1 [==============================] - 0s 7ms/step - loss: 0.2806 - mae: 0.2806\n",
            "Epoch 1367/2000\n",
            "1/1 [==============================] - 0s 10ms/step - loss: 0.1425 - mae: 0.1425\n",
            "Epoch 1368/2000\n",
            "1/1 [==============================] - 0s 7ms/step - loss: 0.2806 - mae: 0.2806\n",
            "Epoch 1369/2000\n",
            "1/1 [==============================] - 0s 11ms/step - loss: 0.1425 - mae: 0.1425\n",
            "Epoch 1370/2000\n",
            "1/1 [==============================] - 0s 20ms/step - loss: 0.2806 - mae: 0.2806\n",
            "Epoch 1371/2000\n",
            "1/1 [==============================] - 0s 9ms/step - loss: 0.1425 - mae: 0.1425\n",
            "Epoch 1372/2000\n",
            "1/1 [==============================] - 0s 11ms/step - loss: 0.2806 - mae: 0.2806\n",
            "Epoch 1373/2000\n",
            "1/1 [==============================] - 0s 11ms/step - loss: 0.1425 - mae: 0.1425\n",
            "Epoch 1374/2000\n",
            "1/1 [==============================] - 0s 10ms/step - loss: 0.2806 - mae: 0.2806\n",
            "Epoch 1375/2000\n",
            "1/1 [==============================] - 0s 11ms/step - loss: 0.1425 - mae: 0.1425\n",
            "Epoch 1376/2000\n",
            "1/1 [==============================] - 0s 18ms/step - loss: 0.2806 - mae: 0.2806\n",
            "Epoch 1377/2000\n",
            "1/1 [==============================] - 0s 11ms/step - loss: 0.1425 - mae: 0.1425\n",
            "Epoch 1378/2000\n",
            "1/1 [==============================] - 0s 21ms/step - loss: 0.2806 - mae: 0.2806\n",
            "Epoch 1379/2000\n",
            "1/1 [==============================] - 0s 22ms/step - loss: 0.1425 - mae: 0.1425\n",
            "Epoch 1380/2000\n",
            "1/1 [==============================] - 0s 19ms/step - loss: 0.2806 - mae: 0.2806\n",
            "Epoch 1381/2000\n",
            "1/1 [==============================] - 0s 15ms/step - loss: 0.1425 - mae: 0.1425\n",
            "Epoch 1382/2000\n",
            "1/1 [==============================] - 0s 27ms/step - loss: 0.2806 - mae: 0.2806\n",
            "Epoch 1383/2000\n",
            "1/1 [==============================] - 0s 20ms/step - loss: 0.1425 - mae: 0.1425\n",
            "Epoch 1384/2000\n",
            "1/1 [==============================] - 0s 42ms/step - loss: 0.2806 - mae: 0.2806\n",
            "Epoch 1385/2000\n",
            "1/1 [==============================] - 0s 21ms/step - loss: 0.1425 - mae: 0.1425\n",
            "Epoch 1386/2000\n",
            "1/1 [==============================] - 0s 20ms/step - loss: 0.2806 - mae: 0.2806\n",
            "Epoch 1387/2000\n",
            "1/1 [==============================] - 0s 26ms/step - loss: 0.1425 - mae: 0.1425\n",
            "Epoch 1388/2000\n",
            "1/1 [==============================] - 0s 13ms/step - loss: 0.2806 - mae: 0.2806\n",
            "Epoch 1389/2000\n",
            "1/1 [==============================] - 0s 20ms/step - loss: 0.1425 - mae: 0.1425\n",
            "Epoch 1390/2000\n",
            "1/1 [==============================] - 0s 22ms/step - loss: 0.2806 - mae: 0.2806\n",
            "Epoch 1391/2000\n",
            "1/1 [==============================] - 0s 14ms/step - loss: 0.1425 - mae: 0.1425\n",
            "Epoch 1392/2000\n",
            "1/1 [==============================] - 0s 16ms/step - loss: 0.2806 - mae: 0.2806\n",
            "Epoch 1393/2000\n",
            "1/1 [==============================] - 0s 12ms/step - loss: 0.1425 - mae: 0.1425\n",
            "Epoch 1394/2000\n",
            "1/1 [==============================] - 0s 5ms/step - loss: 0.2806 - mae: 0.2806\n",
            "Epoch 1395/2000\n",
            "1/1 [==============================] - 0s 9ms/step - loss: 0.1425 - mae: 0.1425\n",
            "Epoch 1396/2000\n",
            "1/1 [==============================] - 0s 12ms/step - loss: 0.2806 - mae: 0.2806\n",
            "Epoch 1397/2000\n",
            "1/1 [==============================] - 0s 20ms/step - loss: 0.1425 - mae: 0.1425\n",
            "Epoch 1398/2000\n",
            "1/1 [==============================] - 0s 16ms/step - loss: 0.2806 - mae: 0.2806\n",
            "Epoch 1399/2000\n",
            "1/1 [==============================] - 0s 24ms/step - loss: 0.1425 - mae: 0.1425\n",
            "Epoch 1400/2000\n",
            "1/1 [==============================] - 0s 16ms/step - loss: 0.2806 - mae: 0.2806\n",
            "Epoch 1401/2000\n",
            "1/1 [==============================] - 0s 12ms/step - loss: 0.1425 - mae: 0.1425\n",
            "Epoch 1402/2000\n",
            "1/1 [==============================] - 0s 20ms/step - loss: 0.2806 - mae: 0.2806\n",
            "Epoch 1403/2000\n",
            "1/1 [==============================] - 0s 13ms/step - loss: 0.1425 - mae: 0.1425\n",
            "Epoch 1404/2000\n",
            "1/1 [==============================] - 0s 11ms/step - loss: 0.2806 - mae: 0.2806\n",
            "Epoch 1405/2000\n",
            "1/1 [==============================] - 0s 23ms/step - loss: 0.1425 - mae: 0.1425\n",
            "Epoch 1406/2000\n",
            "1/1 [==============================] - 0s 12ms/step - loss: 0.2806 - mae: 0.2806\n",
            "Epoch 1407/2000\n",
            "1/1 [==============================] - 0s 9ms/step - loss: 0.1425 - mae: 0.1425\n",
            "Epoch 1408/2000\n",
            "1/1 [==============================] - 0s 22ms/step - loss: 0.2806 - mae: 0.2806\n",
            "Epoch 1409/2000\n",
            "1/1 [==============================] - 0s 28ms/step - loss: 0.1425 - mae: 0.1425\n",
            "Epoch 1410/2000\n",
            "1/1 [==============================] - 0s 14ms/step - loss: 0.2806 - mae: 0.2806\n",
            "Epoch 1411/2000\n",
            "1/1 [==============================] - 0s 14ms/step - loss: 0.1425 - mae: 0.1425\n",
            "Epoch 1412/2000\n",
            "1/1 [==============================] - 0s 19ms/step - loss: 0.2806 - mae: 0.2806\n",
            "Epoch 1413/2000\n",
            "1/1 [==============================] - 0s 7ms/step - loss: 0.1425 - mae: 0.1425\n",
            "Epoch 1414/2000\n",
            "1/1 [==============================] - 0s 17ms/step - loss: 0.2806 - mae: 0.2806\n",
            "Epoch 1415/2000\n",
            "1/1 [==============================] - 0s 14ms/step - loss: 0.1425 - mae: 0.1425\n",
            "Epoch 1416/2000\n",
            "1/1 [==============================] - 0s 14ms/step - loss: 0.2806 - mae: 0.2806\n",
            "Epoch 1417/2000\n",
            "1/1 [==============================] - 0s 16ms/step - loss: 0.1425 - mae: 0.1425\n",
            "Epoch 1418/2000\n",
            "1/1 [==============================] - 0s 16ms/step - loss: 0.2806 - mae: 0.2806\n",
            "Epoch 1419/2000\n",
            "1/1 [==============================] - 0s 12ms/step - loss: 0.1425 - mae: 0.1425\n",
            "Epoch 1420/2000\n",
            "1/1 [==============================] - 0s 16ms/step - loss: 0.2806 - mae: 0.2806\n",
            "Epoch 1421/2000\n",
            "1/1 [==============================] - 0s 14ms/step - loss: 0.1425 - mae: 0.1425\n",
            "Epoch 1422/2000\n",
            "1/1 [==============================] - 0s 18ms/step - loss: 0.2806 - mae: 0.2806\n",
            "Epoch 1423/2000\n",
            "1/1 [==============================] - 0s 12ms/step - loss: 0.1425 - mae: 0.1425\n",
            "Epoch 1424/2000\n",
            "1/1 [==============================] - 0s 12ms/step - loss: 0.2806 - mae: 0.2806\n",
            "Epoch 1425/2000\n",
            "1/1 [==============================] - 0s 15ms/step - loss: 0.1425 - mae: 0.1425\n",
            "Epoch 1426/2000\n",
            "1/1 [==============================] - 0s 17ms/step - loss: 0.2806 - mae: 0.2806\n",
            "Epoch 1427/2000\n",
            "1/1 [==============================] - 0s 11ms/step - loss: 0.1425 - mae: 0.1425\n",
            "Epoch 1428/2000\n",
            "1/1 [==============================] - 0s 21ms/step - loss: 0.2806 - mae: 0.2806\n",
            "Epoch 1429/2000\n",
            "1/1 [==============================] - 0s 19ms/step - loss: 0.1425 - mae: 0.1425\n",
            "Epoch 1430/2000\n",
            "1/1 [==============================] - 0s 14ms/step - loss: 0.2806 - mae: 0.2806\n",
            "Epoch 1431/2000\n",
            "1/1 [==============================] - 0s 21ms/step - loss: 0.1425 - mae: 0.1425\n",
            "Epoch 1432/2000\n",
            "1/1 [==============================] - 0s 13ms/step - loss: 0.2806 - mae: 0.2806\n",
            "Epoch 1433/2000\n",
            "1/1 [==============================] - 0s 14ms/step - loss: 0.1425 - mae: 0.1425\n",
            "Epoch 1434/2000\n",
            "1/1 [==============================] - 0s 18ms/step - loss: 0.2806 - mae: 0.2806\n",
            "Epoch 1435/2000\n",
            "1/1 [==============================] - 0s 15ms/step - loss: 0.1425 - mae: 0.1425\n",
            "Epoch 1436/2000\n",
            "1/1 [==============================] - 0s 17ms/step - loss: 0.2806 - mae: 0.2806\n",
            "Epoch 1437/2000\n",
            "1/1 [==============================] - 0s 18ms/step - loss: 0.1425 - mae: 0.1425\n",
            "Epoch 1438/2000\n",
            "1/1 [==============================] - 0s 10ms/step - loss: 0.2806 - mae: 0.2806\n",
            "Epoch 1439/2000\n",
            "1/1 [==============================] - 0s 16ms/step - loss: 0.1425 - mae: 0.1425\n",
            "Epoch 1440/2000\n",
            "1/1 [==============================] - 0s 6ms/step - loss: 0.2806 - mae: 0.2806\n",
            "Epoch 1441/2000\n",
            "1/1 [==============================] - 0s 13ms/step - loss: 0.1425 - mae: 0.1425\n",
            "Epoch 1442/2000\n",
            "1/1 [==============================] - 0s 15ms/step - loss: 0.2806 - mae: 0.2806\n",
            "Epoch 1443/2000\n",
            "1/1 [==============================] - 0s 13ms/step - loss: 0.1425 - mae: 0.1425\n",
            "Epoch 1444/2000\n",
            "1/1 [==============================] - 0s 17ms/step - loss: 0.2806 - mae: 0.2806\n",
            "Epoch 1445/2000\n",
            "1/1 [==============================] - 0s 20ms/step - loss: 0.1425 - mae: 0.1425\n",
            "Epoch 1446/2000\n",
            "1/1 [==============================] - 0s 14ms/step - loss: 0.2806 - mae: 0.2806\n",
            "Epoch 1447/2000\n",
            "1/1 [==============================] - 0s 9ms/step - loss: 0.1425 - mae: 0.1425\n",
            "Epoch 1448/2000\n",
            "1/1 [==============================] - 0s 9ms/step - loss: 0.2806 - mae: 0.2806\n",
            "Epoch 1449/2000\n",
            "1/1 [==============================] - 0s 12ms/step - loss: 0.1425 - mae: 0.1425\n",
            "Epoch 1450/2000\n",
            "1/1 [==============================] - 0s 6ms/step - loss: 0.2806 - mae: 0.2806\n",
            "Epoch 1451/2000\n",
            "1/1 [==============================] - 0s 15ms/step - loss: 0.1425 - mae: 0.1425\n",
            "Epoch 1452/2000\n",
            "1/1 [==============================] - 0s 10ms/step - loss: 0.2806 - mae: 0.2806\n",
            "Epoch 1453/2000\n",
            "1/1 [==============================] - 0s 11ms/step - loss: 0.1425 - mae: 0.1425\n",
            "Epoch 1454/2000\n",
            "1/1 [==============================] - 0s 10ms/step - loss: 0.2806 - mae: 0.2806\n",
            "Epoch 1455/2000\n",
            "1/1 [==============================] - 0s 14ms/step - loss: 0.1425 - mae: 0.1425\n",
            "Epoch 1456/2000\n",
            "1/1 [==============================] - 0s 19ms/step - loss: 0.2806 - mae: 0.2806\n",
            "Epoch 1457/2000\n",
            "1/1 [==============================] - 0s 17ms/step - loss: 0.1425 - mae: 0.1425\n",
            "Epoch 1458/2000\n",
            "1/1 [==============================] - 0s 14ms/step - loss: 0.2806 - mae: 0.2806\n",
            "Epoch 1459/2000\n",
            "1/1 [==============================] - 0s 17ms/step - loss: 0.1425 - mae: 0.1425\n",
            "Epoch 1460/2000\n",
            "1/1 [==============================] - 0s 10ms/step - loss: 0.2806 - mae: 0.2806\n",
            "Epoch 1461/2000\n",
            "1/1 [==============================] - 0s 11ms/step - loss: 0.1425 - mae: 0.1425\n",
            "Epoch 1462/2000\n",
            "1/1 [==============================] - 0s 11ms/step - loss: 0.2806 - mae: 0.2806\n",
            "Epoch 1463/2000\n",
            "1/1 [==============================] - 0s 14ms/step - loss: 0.1425 - mae: 0.1425\n",
            "Epoch 1464/2000\n",
            "1/1 [==============================] - 0s 15ms/step - loss: 0.2806 - mae: 0.2806\n",
            "Epoch 1465/2000\n",
            "1/1 [==============================] - 0s 8ms/step - loss: 0.1425 - mae: 0.1425\n",
            "Epoch 1466/2000\n",
            "1/1 [==============================] - 0s 14ms/step - loss: 0.2806 - mae: 0.2806\n",
            "Epoch 1467/2000\n",
            "1/1 [==============================] - 0s 10ms/step - loss: 0.1425 - mae: 0.1425\n",
            "Epoch 1468/2000\n",
            "1/1 [==============================] - 0s 13ms/step - loss: 0.2806 - mae: 0.2806\n",
            "Epoch 1469/2000\n",
            "1/1 [==============================] - 0s 13ms/step - loss: 0.1425 - mae: 0.1425\n",
            "Epoch 1470/2000\n",
            "1/1 [==============================] - 0s 9ms/step - loss: 0.2806 - mae: 0.2806\n",
            "Epoch 1471/2000\n",
            "1/1 [==============================] - 0s 20ms/step - loss: 0.1425 - mae: 0.1425\n",
            "Epoch 1472/2000\n",
            "1/1 [==============================] - 0s 14ms/step - loss: 0.2806 - mae: 0.2806\n",
            "Epoch 1473/2000\n",
            "1/1 [==============================] - 0s 13ms/step - loss: 0.1425 - mae: 0.1425\n",
            "Epoch 1474/2000\n",
            "1/1 [==============================] - 0s 22ms/step - loss: 0.2806 - mae: 0.2806\n",
            "Epoch 1475/2000\n",
            "1/1 [==============================] - 0s 15ms/step - loss: 0.1425 - mae: 0.1425\n",
            "Epoch 1476/2000\n",
            "1/1 [==============================] - 0s 20ms/step - loss: 0.2806 - mae: 0.2806\n",
            "Epoch 1477/2000\n",
            "1/1 [==============================] - 0s 12ms/step - loss: 0.1425 - mae: 0.1425\n",
            "Epoch 1478/2000\n",
            "1/1 [==============================] - 0s 10ms/step - loss: 0.2806 - mae: 0.2806\n",
            "Epoch 1479/2000\n",
            "1/1 [==============================] - 0s 13ms/step - loss: 0.1425 - mae: 0.1425\n",
            "Epoch 1480/2000\n",
            "1/1 [==============================] - 0s 18ms/step - loss: 0.2806 - mae: 0.2806\n",
            "Epoch 1481/2000\n",
            "1/1 [==============================] - 0s 10ms/step - loss: 0.1425 - mae: 0.1425\n",
            "Epoch 1482/2000\n",
            "1/1 [==============================] - 0s 17ms/step - loss: 0.2806 - mae: 0.2806\n",
            "Epoch 1483/2000\n",
            "1/1 [==============================] - 0s 13ms/step - loss: 0.1425 - mae: 0.1425\n",
            "Epoch 1484/2000\n",
            "1/1 [==============================] - 0s 17ms/step - loss: 0.2806 - mae: 0.2806\n",
            "Epoch 1485/2000\n",
            "1/1 [==============================] - 0s 16ms/step - loss: 0.1425 - mae: 0.1425\n",
            "Epoch 1486/2000\n",
            "1/1 [==============================] - 0s 22ms/step - loss: 0.2806 - mae: 0.2806\n",
            "Epoch 1487/2000\n",
            "1/1 [==============================] - 0s 10ms/step - loss: 0.1425 - mae: 0.1425\n",
            "Epoch 1488/2000\n",
            "1/1 [==============================] - 0s 13ms/step - loss: 0.2806 - mae: 0.2806\n",
            "Epoch 1489/2000\n",
            "1/1 [==============================] - 0s 11ms/step - loss: 0.1425 - mae: 0.1425\n",
            "Epoch 1490/2000\n",
            "1/1 [==============================] - 0s 14ms/step - loss: 0.2806 - mae: 0.2806\n",
            "Epoch 1491/2000\n",
            "1/1 [==============================] - 0s 17ms/step - loss: 0.1425 - mae: 0.1425\n",
            "Epoch 1492/2000\n",
            "1/1 [==============================] - 0s 13ms/step - loss: 0.2806 - mae: 0.2806\n",
            "Epoch 1493/2000\n",
            "1/1 [==============================] - 0s 12ms/step - loss: 0.1425 - mae: 0.1425\n",
            "Epoch 1494/2000\n",
            "1/1 [==============================] - 0s 12ms/step - loss: 0.2806 - mae: 0.2806\n",
            "Epoch 1495/2000\n",
            "1/1 [==============================] - 0s 9ms/step - loss: 0.1425 - mae: 0.1425\n",
            "Epoch 1496/2000\n",
            "1/1 [==============================] - 0s 10ms/step - loss: 0.2806 - mae: 0.2806\n",
            "Epoch 1497/2000\n",
            "1/1 [==============================] - 0s 16ms/step - loss: 0.1425 - mae: 0.1425\n",
            "Epoch 1498/2000\n",
            "1/1 [==============================] - 0s 11ms/step - loss: 0.2806 - mae: 0.2806\n",
            "Epoch 1499/2000\n",
            "1/1 [==============================] - 0s 11ms/step - loss: 0.1425 - mae: 0.1425\n",
            "Epoch 1500/2000\n",
            "1/1 [==============================] - 0s 10ms/step - loss: 0.2806 - mae: 0.2806\n",
            "Epoch 1501/2000\n",
            "1/1 [==============================] - 0s 14ms/step - loss: 0.1425 - mae: 0.1425\n",
            "Epoch 1502/2000\n",
            "1/1 [==============================] - 0s 19ms/step - loss: 0.2806 - mae: 0.2806\n",
            "Epoch 1503/2000\n",
            "1/1 [==============================] - 0s 17ms/step - loss: 0.1425 - mae: 0.1425\n",
            "Epoch 1504/2000\n",
            "1/1 [==============================] - 0s 13ms/step - loss: 0.2806 - mae: 0.2806\n",
            "Epoch 1505/2000\n",
            "1/1 [==============================] - 0s 16ms/step - loss: 0.1425 - mae: 0.1425\n",
            "Epoch 1506/2000\n",
            "1/1 [==============================] - 0s 13ms/step - loss: 0.2806 - mae: 0.2806\n",
            "Epoch 1507/2000\n",
            "1/1 [==============================] - 0s 17ms/step - loss: 0.1425 - mae: 0.1425\n",
            "Epoch 1508/2000\n",
            "1/1 [==============================] - 0s 33ms/step - loss: 0.2806 - mae: 0.2806\n",
            "Epoch 1509/2000\n",
            "1/1 [==============================] - 0s 32ms/step - loss: 0.1425 - mae: 0.1425\n",
            "Epoch 1510/2000\n",
            "1/1 [==============================] - 0s 34ms/step - loss: 0.2806 - mae: 0.2806\n",
            "Epoch 1511/2000\n",
            "1/1 [==============================] - 0s 11ms/step - loss: 0.1425 - mae: 0.1425\n",
            "Epoch 1512/2000\n",
            "1/1 [==============================] - 0s 16ms/step - loss: 0.2806 - mae: 0.2806\n",
            "Epoch 1513/2000\n",
            "1/1 [==============================] - 0s 13ms/step - loss: 0.1425 - mae: 0.1425\n",
            "Epoch 1514/2000\n",
            "1/1 [==============================] - 0s 15ms/step - loss: 0.2806 - mae: 0.2806\n",
            "Epoch 1515/2000\n",
            "1/1 [==============================] - 0s 13ms/step - loss: 0.1425 - mae: 0.1425\n",
            "Epoch 1516/2000\n",
            "1/1 [==============================] - 0s 16ms/step - loss: 0.2806 - mae: 0.2806\n",
            "Epoch 1517/2000\n",
            "1/1 [==============================] - 0s 11ms/step - loss: 0.1425 - mae: 0.1425\n",
            "Epoch 1518/2000\n",
            "1/1 [==============================] - 0s 15ms/step - loss: 0.2806 - mae: 0.2806\n",
            "Epoch 1519/2000\n",
            "1/1 [==============================] - 0s 13ms/step - loss: 0.1425 - mae: 0.1425\n",
            "Epoch 1520/2000\n",
            "1/1 [==============================] - 0s 23ms/step - loss: 0.2806 - mae: 0.2806\n",
            "Epoch 1521/2000\n",
            "1/1 [==============================] - 0s 15ms/step - loss: 0.1425 - mae: 0.1425\n",
            "Epoch 1522/2000\n",
            "1/1 [==============================] - 0s 44ms/step - loss: 0.2806 - mae: 0.2806\n",
            "Epoch 1523/2000\n",
            "1/1 [==============================] - 0s 9ms/step - loss: 0.1425 - mae: 0.1425\n",
            "Epoch 1524/2000\n",
            "1/1 [==============================] - 0s 8ms/step - loss: 0.2806 - mae: 0.2806\n",
            "Epoch 1525/2000\n",
            "1/1 [==============================] - 0s 9ms/step - loss: 0.1425 - mae: 0.1425\n",
            "Epoch 1526/2000\n",
            "1/1 [==============================] - 0s 10ms/step - loss: 0.2806 - mae: 0.2806\n",
            "Epoch 1527/2000\n",
            "1/1 [==============================] - 0s 10ms/step - loss: 0.1425 - mae: 0.1425\n",
            "Epoch 1528/2000\n",
            "1/1 [==============================] - 0s 17ms/step - loss: 0.2806 - mae: 0.2806\n",
            "Epoch 1529/2000\n",
            "1/1 [==============================] - 0s 15ms/step - loss: 0.1425 - mae: 0.1425\n",
            "Epoch 1530/2000\n",
            "1/1 [==============================] - 0s 15ms/step - loss: 0.2806 - mae: 0.2806\n",
            "Epoch 1531/2000\n",
            "1/1 [==============================] - 0s 9ms/step - loss: 0.1425 - mae: 0.1425\n",
            "Epoch 1532/2000\n",
            "1/1 [==============================] - 0s 10ms/step - loss: 0.2806 - mae: 0.2806\n",
            "Epoch 1533/2000\n",
            "1/1 [==============================] - 0s 13ms/step - loss: 0.1425 - mae: 0.1425\n",
            "Epoch 1534/2000\n",
            "1/1 [==============================] - 0s 21ms/step - loss: 0.2806 - mae: 0.2806\n",
            "Epoch 1535/2000\n",
            "1/1 [==============================] - 0s 19ms/step - loss: 0.1425 - mae: 0.1425\n",
            "Epoch 1536/2000\n",
            "1/1 [==============================] - 0s 20ms/step - loss: 0.2806 - mae: 0.2806\n",
            "Epoch 1537/2000\n",
            "1/1 [==============================] - 0s 8ms/step - loss: 0.1425 - mae: 0.1425\n",
            "Epoch 1538/2000\n",
            "1/1 [==============================] - 0s 7ms/step - loss: 0.2806 - mae: 0.2806\n",
            "Epoch 1539/2000\n",
            "1/1 [==============================] - 0s 17ms/step - loss: 0.1425 - mae: 0.1425\n",
            "Epoch 1540/2000\n",
            "1/1 [==============================] - 0s 19ms/step - loss: 0.2806 - mae: 0.2806\n",
            "Epoch 1541/2000\n",
            "1/1 [==============================] - 0s 20ms/step - loss: 0.1425 - mae: 0.1425\n",
            "Epoch 1542/2000\n",
            "1/1 [==============================] - 0s 13ms/step - loss: 0.2806 - mae: 0.2806\n",
            "Epoch 1543/2000\n",
            "1/1 [==============================] - 0s 15ms/step - loss: 0.1425 - mae: 0.1425\n",
            "Epoch 1544/2000\n",
            "1/1 [==============================] - 0s 12ms/step - loss: 0.2806 - mae: 0.2806\n",
            "Epoch 1545/2000\n",
            "1/1 [==============================] - 0s 6ms/step - loss: 0.1425 - mae: 0.1425\n",
            "Epoch 1546/2000\n",
            "1/1 [==============================] - 0s 6ms/step - loss: 0.2806 - mae: 0.2806\n",
            "Epoch 1547/2000\n",
            "1/1 [==============================] - 0s 8ms/step - loss: 0.1425 - mae: 0.1425\n",
            "Epoch 1548/2000\n",
            "1/1 [==============================] - 0s 9ms/step - loss: 0.2806 - mae: 0.2806\n",
            "Epoch 1549/2000\n",
            "1/1 [==============================] - 0s 8ms/step - loss: 0.1425 - mae: 0.1425\n",
            "Epoch 1550/2000\n",
            "1/1 [==============================] - 0s 12ms/step - loss: 0.2806 - mae: 0.2806\n",
            "Epoch 1551/2000\n",
            "1/1 [==============================] - 0s 17ms/step - loss: 0.1425 - mae: 0.1425\n",
            "Epoch 1552/2000\n",
            "1/1 [==============================] - 0s 14ms/step - loss: 0.2806 - mae: 0.2806\n",
            "Epoch 1553/2000\n",
            "1/1 [==============================] - 0s 8ms/step - loss: 0.1425 - mae: 0.1425\n",
            "Epoch 1554/2000\n",
            "1/1 [==============================] - 0s 7ms/step - loss: 0.2806 - mae: 0.2806\n",
            "Epoch 1555/2000\n",
            "1/1 [==============================] - 0s 8ms/step - loss: 0.1425 - mae: 0.1425\n",
            "Epoch 1556/2000\n",
            "1/1 [==============================] - 0s 7ms/step - loss: 0.2806 - mae: 0.2806\n",
            "Epoch 1557/2000\n",
            "1/1 [==============================] - 0s 9ms/step - loss: 0.1425 - mae: 0.1425\n",
            "Epoch 1558/2000\n",
            "1/1 [==============================] - 0s 13ms/step - loss: 0.2806 - mae: 0.2806\n",
            "Epoch 1559/2000\n",
            "1/1 [==============================] - 0s 8ms/step - loss: 0.1425 - mae: 0.1425\n",
            "Epoch 1560/2000\n",
            "1/1 [==============================] - 0s 8ms/step - loss: 0.2806 - mae: 0.2806\n",
            "Epoch 1561/2000\n",
            "1/1 [==============================] - 0s 8ms/step - loss: 0.1425 - mae: 0.1425\n",
            "Epoch 1562/2000\n",
            "1/1 [==============================] - 0s 12ms/step - loss: 0.2806 - mae: 0.2806\n",
            "Epoch 1563/2000\n",
            "1/1 [==============================] - 0s 17ms/step - loss: 0.1425 - mae: 0.1425\n",
            "Epoch 1564/2000\n",
            "1/1 [==============================] - 0s 14ms/step - loss: 0.2806 - mae: 0.2806\n",
            "Epoch 1565/2000\n",
            "1/1 [==============================] - 0s 12ms/step - loss: 0.1425 - mae: 0.1425\n",
            "Epoch 1566/2000\n",
            "1/1 [==============================] - 0s 17ms/step - loss: 0.2806 - mae: 0.2806\n",
            "Epoch 1567/2000\n",
            "1/1 [==============================] - 0s 12ms/step - loss: 0.1425 - mae: 0.1425\n",
            "Epoch 1568/2000\n",
            "1/1 [==============================] - 0s 7ms/step - loss: 0.2806 - mae: 0.2806\n",
            "Epoch 1569/2000\n",
            "1/1 [==============================] - 0s 11ms/step - loss: 0.1425 - mae: 0.1425\n",
            "Epoch 1570/2000\n",
            "1/1 [==============================] - 0s 15ms/step - loss: 0.2806 - mae: 0.2806\n",
            "Epoch 1571/2000\n",
            "1/1 [==============================] - 0s 10ms/step - loss: 0.1425 - mae: 0.1425\n",
            "Epoch 1572/2000\n",
            "1/1 [==============================] - 0s 16ms/step - loss: 0.2806 - mae: 0.2806\n",
            "Epoch 1573/2000\n",
            "1/1 [==============================] - 0s 7ms/step - loss: 0.1425 - mae: 0.1425\n",
            "Epoch 1574/2000\n",
            "1/1 [==============================] - 0s 11ms/step - loss: 0.2806 - mae: 0.2806\n",
            "Epoch 1575/2000\n",
            "1/1 [==============================] - 0s 11ms/step - loss: 0.1425 - mae: 0.1425\n",
            "Epoch 1576/2000\n",
            "1/1 [==============================] - 0s 18ms/step - loss: 0.2806 - mae: 0.2806\n",
            "Epoch 1577/2000\n",
            "1/1 [==============================] - 0s 6ms/step - loss: 0.1425 - mae: 0.1425\n",
            "Epoch 1578/2000\n",
            "1/1 [==============================] - 0s 13ms/step - loss: 0.2806 - mae: 0.2806\n",
            "Epoch 1579/2000\n",
            "1/1 [==============================] - 0s 10ms/step - loss: 0.1425 - mae: 0.1425\n",
            "Epoch 1580/2000\n",
            "1/1 [==============================] - 0s 7ms/step - loss: 0.2806 - mae: 0.2806\n",
            "Epoch 1581/2000\n",
            "1/1 [==============================] - 0s 7ms/step - loss: 0.1425 - mae: 0.1425\n",
            "Epoch 1582/2000\n",
            "1/1 [==============================] - 0s 7ms/step - loss: 0.2806 - mae: 0.2806\n",
            "Epoch 1583/2000\n",
            "1/1 [==============================] - 0s 6ms/step - loss: 0.1425 - mae: 0.1425\n",
            "Epoch 1584/2000\n",
            "1/1 [==============================] - 0s 7ms/step - loss: 0.2806 - mae: 0.2806\n",
            "Epoch 1585/2000\n",
            "1/1 [==============================] - 0s 11ms/step - loss: 0.1425 - mae: 0.1425\n",
            "Epoch 1586/2000\n",
            "1/1 [==============================] - 0s 6ms/step - loss: 0.2806 - mae: 0.2806\n",
            "Epoch 1587/2000\n",
            "1/1 [==============================] - 0s 6ms/step - loss: 0.1425 - mae: 0.1425\n",
            "Epoch 1588/2000\n",
            "1/1 [==============================] - 0s 22ms/step - loss: 0.2806 - mae: 0.2806\n",
            "Epoch 1589/2000\n",
            "1/1 [==============================] - 0s 44ms/step - loss: 0.1425 - mae: 0.1425\n",
            "Epoch 1590/2000\n",
            "1/1 [==============================] - 0s 30ms/step - loss: 0.2806 - mae: 0.2806\n",
            "Epoch 1591/2000\n",
            "1/1 [==============================] - 0s 8ms/step - loss: 0.1425 - mae: 0.1425\n",
            "Epoch 1592/2000\n",
            "1/1 [==============================] - 0s 11ms/step - loss: 0.2806 - mae: 0.2806\n",
            "Epoch 1593/2000\n",
            "1/1 [==============================] - 0s 15ms/step - loss: 0.1425 - mae: 0.1425\n",
            "Epoch 1594/2000\n",
            "1/1 [==============================] - 0s 24ms/step - loss: 0.2806 - mae: 0.2806\n",
            "Epoch 1595/2000\n",
            "1/1 [==============================] - 0s 85ms/step - loss: 0.1425 - mae: 0.1425\n",
            "Epoch 1596/2000\n",
            "1/1 [==============================] - 0s 20ms/step - loss: 0.2806 - mae: 0.2806\n",
            "Epoch 1597/2000\n",
            "1/1 [==============================] - 0s 10ms/step - loss: 0.1425 - mae: 0.1425\n",
            "Epoch 1598/2000\n",
            "1/1 [==============================] - 0s 20ms/step - loss: 0.2806 - mae: 0.2806\n",
            "Epoch 1599/2000\n",
            "1/1 [==============================] - 0s 17ms/step - loss: 0.1425 - mae: 0.1425\n",
            "Epoch 1600/2000\n",
            "1/1 [==============================] - 0s 12ms/step - loss: 0.2806 - mae: 0.2806\n",
            "Epoch 1601/2000\n",
            "1/1 [==============================] - 0s 14ms/step - loss: 0.1425 - mae: 0.1425\n",
            "Epoch 1602/2000\n",
            "1/1 [==============================] - 0s 19ms/step - loss: 0.2806 - mae: 0.2806\n",
            "Epoch 1603/2000\n",
            "1/1 [==============================] - 0s 17ms/step - loss: 0.1425 - mae: 0.1425\n",
            "Epoch 1604/2000\n",
            "1/1 [==============================] - 0s 8ms/step - loss: 0.2806 - mae: 0.2806\n",
            "Epoch 1605/2000\n",
            "1/1 [==============================] - 0s 6ms/step - loss: 0.1425 - mae: 0.1425\n",
            "Epoch 1606/2000\n",
            "1/1 [==============================] - 0s 10ms/step - loss: 0.2806 - mae: 0.2806\n",
            "Epoch 1607/2000\n",
            "1/1 [==============================] - 0s 9ms/step - loss: 0.1425 - mae: 0.1425\n",
            "Epoch 1608/2000\n",
            "1/1 [==============================] - 0s 14ms/step - loss: 0.2806 - mae: 0.2806\n",
            "Epoch 1609/2000\n",
            "1/1 [==============================] - 0s 17ms/step - loss: 0.1425 - mae: 0.1425\n",
            "Epoch 1610/2000\n",
            "1/1 [==============================] - 0s 8ms/step - loss: 0.2806 - mae: 0.2806\n",
            "Epoch 1611/2000\n",
            "1/1 [==============================] - 0s 16ms/step - loss: 0.1425 - mae: 0.1425\n",
            "Epoch 1612/2000\n",
            "1/1 [==============================] - 0s 11ms/step - loss: 0.2806 - mae: 0.2806\n",
            "Epoch 1613/2000\n",
            "1/1 [==============================] - 0s 20ms/step - loss: 0.1425 - mae: 0.1425\n",
            "Epoch 1614/2000\n",
            "1/1 [==============================] - 0s 18ms/step - loss: 0.2806 - mae: 0.2806\n",
            "Epoch 1615/2000\n",
            "1/1 [==============================] - 0s 14ms/step - loss: 0.1425 - mae: 0.1425\n",
            "Epoch 1616/2000\n",
            "1/1 [==============================] - 0s 21ms/step - loss: 0.2806 - mae: 0.2806\n",
            "Epoch 1617/2000\n",
            "1/1 [==============================] - 0s 18ms/step - loss: 0.1425 - mae: 0.1425\n",
            "Epoch 1618/2000\n",
            "1/1 [==============================] - 0s 17ms/step - loss: 0.2806 - mae: 0.2806\n",
            "Epoch 1619/2000\n",
            "1/1 [==============================] - 0s 23ms/step - loss: 0.1425 - mae: 0.1425\n",
            "Epoch 1620/2000\n",
            "1/1 [==============================] - 0s 26ms/step - loss: 0.2806 - mae: 0.2806\n",
            "Epoch 1621/2000\n",
            "1/1 [==============================] - 0s 80ms/step - loss: 0.1425 - mae: 0.1425\n",
            "Epoch 1622/2000\n",
            "1/1 [==============================] - 0s 19ms/step - loss: 0.2806 - mae: 0.2806\n",
            "Epoch 1623/2000\n",
            "1/1 [==============================] - 0s 40ms/step - loss: 0.1425 - mae: 0.1425\n",
            "Epoch 1624/2000\n",
            "1/1 [==============================] - 0s 53ms/step - loss: 0.2806 - mae: 0.2806\n",
            "Epoch 1625/2000\n",
            "1/1 [==============================] - 0s 86ms/step - loss: 0.1425 - mae: 0.1425\n",
            "Epoch 1626/2000\n",
            "1/1 [==============================] - 0s 19ms/step - loss: 0.2806 - mae: 0.2806\n",
            "Epoch 1627/2000\n",
            "1/1 [==============================] - 0s 21ms/step - loss: 0.1425 - mae: 0.1425\n",
            "Epoch 1628/2000\n",
            "1/1 [==============================] - 0s 11ms/step - loss: 0.2806 - mae: 0.2806\n",
            "Epoch 1629/2000\n",
            "1/1 [==============================] - 0s 11ms/step - loss: 0.1425 - mae: 0.1425\n",
            "Epoch 1630/2000\n",
            "1/1 [==============================] - 0s 23ms/step - loss: 0.2806 - mae: 0.2806\n",
            "Epoch 1631/2000\n",
            "1/1 [==============================] - 0s 12ms/step - loss: 0.1425 - mae: 0.1425\n",
            "Epoch 1632/2000\n",
            "1/1 [==============================] - 0s 17ms/step - loss: 0.2806 - mae: 0.2806\n",
            "Epoch 1633/2000\n",
            "1/1 [==============================] - 0s 30ms/step - loss: 0.1425 - mae: 0.1425\n",
            "Epoch 1634/2000\n",
            "1/1 [==============================] - 0s 15ms/step - loss: 0.2806 - mae: 0.2806\n",
            "Epoch 1635/2000\n",
            "1/1 [==============================] - 0s 17ms/step - loss: 0.1425 - mae: 0.1425\n",
            "Epoch 1636/2000\n",
            "1/1 [==============================] - 0s 14ms/step - loss: 0.2806 - mae: 0.2806\n",
            "Epoch 1637/2000\n",
            "1/1 [==============================] - 0s 16ms/step - loss: 0.1425 - mae: 0.1425\n",
            "Epoch 1638/2000\n",
            "1/1 [==============================] - 0s 12ms/step - loss: 0.2806 - mae: 0.2806\n",
            "Epoch 1639/2000\n",
            "1/1 [==============================] - 0s 14ms/step - loss: 0.1425 - mae: 0.1425\n",
            "Epoch 1640/2000\n",
            "1/1 [==============================] - 0s 8ms/step - loss: 0.2806 - mae: 0.2806\n",
            "Epoch 1641/2000\n",
            "1/1 [==============================] - 0s 13ms/step - loss: 0.1425 - mae: 0.1425\n",
            "Epoch 1642/2000\n",
            "1/1 [==============================] - 0s 13ms/step - loss: 0.2806 - mae: 0.2806\n",
            "Epoch 1643/2000\n",
            "1/1 [==============================] - 0s 6ms/step - loss: 0.1425 - mae: 0.1425\n",
            "Epoch 1644/2000\n",
            "1/1 [==============================] - 0s 11ms/step - loss: 0.2806 - mae: 0.2806\n",
            "Epoch 1645/2000\n",
            "1/1 [==============================] - 0s 8ms/step - loss: 0.1425 - mae: 0.1425\n",
            "Epoch 1646/2000\n",
            "1/1 [==============================] - 0s 8ms/step - loss: 0.2806 - mae: 0.2806\n",
            "Epoch 1647/2000\n",
            "1/1 [==============================] - 0s 13ms/step - loss: 0.1425 - mae: 0.1425\n",
            "Epoch 1648/2000\n",
            "1/1 [==============================] - 0s 7ms/step - loss: 0.2806 - mae: 0.2806\n",
            "Epoch 1649/2000\n",
            "1/1 [==============================] - 0s 11ms/step - loss: 0.1425 - mae: 0.1425\n",
            "Epoch 1650/2000\n",
            "1/1 [==============================] - 0s 6ms/step - loss: 0.2806 - mae: 0.2806\n",
            "Epoch 1651/2000\n",
            "1/1 [==============================] - 0s 11ms/step - loss: 0.1425 - mae: 0.1425\n",
            "Epoch 1652/2000\n",
            "1/1 [==============================] - 0s 12ms/step - loss: 0.2806 - mae: 0.2806\n",
            "Epoch 1653/2000\n",
            "1/1 [==============================] - 0s 13ms/step - loss: 0.1425 - mae: 0.1425\n",
            "Epoch 1654/2000\n",
            "1/1 [==============================] - 0s 10ms/step - loss: 0.2806 - mae: 0.2806\n",
            "Epoch 1655/2000\n",
            "1/1 [==============================] - 0s 9ms/step - loss: 0.1425 - mae: 0.1425\n",
            "Epoch 1656/2000\n",
            "1/1 [==============================] - 0s 11ms/step - loss: 0.2806 - mae: 0.2806\n",
            "Epoch 1657/2000\n",
            "1/1 [==============================] - 0s 12ms/step - loss: 0.1425 - mae: 0.1425\n",
            "Epoch 1658/2000\n",
            "1/1 [==============================] - 0s 12ms/step - loss: 0.2806 - mae: 0.2806\n",
            "Epoch 1659/2000\n",
            "1/1 [==============================] - 0s 15ms/step - loss: 0.1425 - mae: 0.1425\n",
            "Epoch 1660/2000\n",
            "1/1 [==============================] - 0s 17ms/step - loss: 0.2806 - mae: 0.2806\n",
            "Epoch 1661/2000\n",
            "1/1 [==============================] - 0s 15ms/step - loss: 0.1425 - mae: 0.1425\n",
            "Epoch 1662/2000\n",
            "1/1 [==============================] - 0s 16ms/step - loss: 0.2806 - mae: 0.2806\n",
            "Epoch 1663/2000\n",
            "1/1 [==============================] - 0s 14ms/step - loss: 0.1425 - mae: 0.1425\n",
            "Epoch 1664/2000\n",
            "1/1 [==============================] - 0s 16ms/step - loss: 0.2806 - mae: 0.2806\n",
            "Epoch 1665/2000\n",
            "1/1 [==============================] - 0s 20ms/step - loss: 0.1425 - mae: 0.1425\n",
            "Epoch 1666/2000\n",
            "1/1 [==============================] - 0s 12ms/step - loss: 0.2806 - mae: 0.2806\n",
            "Epoch 1667/2000\n",
            "1/1 [==============================] - 0s 10ms/step - loss: 0.1425 - mae: 0.1425\n",
            "Epoch 1668/2000\n",
            "1/1 [==============================] - 0s 11ms/step - loss: 0.2806 - mae: 0.2806\n",
            "Epoch 1669/2000\n",
            "1/1 [==============================] - 0s 16ms/step - loss: 0.1425 - mae: 0.1425\n",
            "Epoch 1670/2000\n",
            "1/1 [==============================] - 0s 19ms/step - loss: 0.2806 - mae: 0.2806\n",
            "Epoch 1671/2000\n",
            "1/1 [==============================] - 0s 33ms/step - loss: 0.1425 - mae: 0.1425\n",
            "Epoch 1672/2000\n",
            "1/1 [==============================] - 0s 26ms/step - loss: 0.2806 - mae: 0.2806\n",
            "Epoch 1673/2000\n",
            "1/1 [==============================] - 0s 35ms/step - loss: 0.1425 - mae: 0.1425\n",
            "Epoch 1674/2000\n",
            "1/1 [==============================] - 0s 27ms/step - loss: 0.2806 - mae: 0.2806\n",
            "Epoch 1675/2000\n",
            "1/1 [==============================] - 0s 47ms/step - loss: 0.1425 - mae: 0.1425\n",
            "Epoch 1676/2000\n",
            "1/1 [==============================] - 0s 20ms/step - loss: 0.2806 - mae: 0.2806\n",
            "Epoch 1677/2000\n",
            "1/1 [==============================] - 0s 48ms/step - loss: 0.1425 - mae: 0.1425\n",
            "Epoch 1678/2000\n",
            "1/1 [==============================] - 0s 17ms/step - loss: 0.2806 - mae: 0.2806\n",
            "Epoch 1679/2000\n",
            "1/1 [==============================] - 0s 21ms/step - loss: 0.1425 - mae: 0.1425\n",
            "Epoch 1680/2000\n",
            "1/1 [==============================] - 0s 21ms/step - loss: 0.2806 - mae: 0.2806\n",
            "Epoch 1681/2000\n",
            "1/1 [==============================] - 0s 44ms/step - loss: 0.1425 - mae: 0.1425\n",
            "Epoch 1682/2000\n",
            "1/1 [==============================] - 0s 25ms/step - loss: 0.2806 - mae: 0.2806\n",
            "Epoch 1683/2000\n",
            "1/1 [==============================] - 0s 24ms/step - loss: 0.1425 - mae: 0.1425\n",
            "Epoch 1684/2000\n",
            "1/1 [==============================] - 0s 15ms/step - loss: 0.2806 - mae: 0.2806\n",
            "Epoch 1685/2000\n",
            "1/1 [==============================] - 0s 15ms/step - loss: 0.1425 - mae: 0.1425\n",
            "Epoch 1686/2000\n",
            "1/1 [==============================] - 0s 11ms/step - loss: 0.2806 - mae: 0.2806\n",
            "Epoch 1687/2000\n",
            "1/1 [==============================] - 0s 17ms/step - loss: 0.1425 - mae: 0.1425\n",
            "Epoch 1688/2000\n",
            "1/1 [==============================] - 0s 14ms/step - loss: 0.2806 - mae: 0.2806\n",
            "Epoch 1689/2000\n",
            "1/1 [==============================] - 0s 12ms/step - loss: 0.1425 - mae: 0.1425\n",
            "Epoch 1690/2000\n",
            "1/1 [==============================] - 0s 13ms/step - loss: 0.2806 - mae: 0.2806\n",
            "Epoch 1691/2000\n",
            "1/1 [==============================] - 0s 12ms/step - loss: 0.1425 - mae: 0.1425\n",
            "Epoch 1692/2000\n",
            "1/1 [==============================] - 0s 14ms/step - loss: 0.2806 - mae: 0.2806\n",
            "Epoch 1693/2000\n",
            "1/1 [==============================] - 0s 12ms/step - loss: 0.1425 - mae: 0.1425\n",
            "Epoch 1694/2000\n",
            "1/1 [==============================] - 0s 10ms/step - loss: 0.2806 - mae: 0.2806\n",
            "Epoch 1695/2000\n",
            "1/1 [==============================] - 0s 36ms/step - loss: 0.1425 - mae: 0.1425\n",
            "Epoch 1696/2000\n",
            "1/1 [==============================] - 0s 13ms/step - loss: 0.2806 - mae: 0.2806\n",
            "Epoch 1697/2000\n",
            "1/1 [==============================] - 0s 29ms/step - loss: 0.1425 - mae: 0.1425\n",
            "Epoch 1698/2000\n",
            "1/1 [==============================] - 0s 16ms/step - loss: 0.2806 - mae: 0.2806\n",
            "Epoch 1699/2000\n",
            "1/1 [==============================] - 0s 17ms/step - loss: 0.1425 - mae: 0.1425\n",
            "Epoch 1700/2000\n",
            "1/1 [==============================] - 0s 21ms/step - loss: 0.2806 - mae: 0.2806\n",
            "Epoch 1701/2000\n",
            "1/1 [==============================] - 0s 31ms/step - loss: 0.1425 - mae: 0.1425\n",
            "Epoch 1702/2000\n",
            "1/1 [==============================] - 0s 16ms/step - loss: 0.2806 - mae: 0.2806\n",
            "Epoch 1703/2000\n",
            "1/1 [==============================] - 0s 23ms/step - loss: 0.1425 - mae: 0.1425\n",
            "Epoch 1704/2000\n",
            "1/1 [==============================] - 0s 15ms/step - loss: 0.2806 - mae: 0.2806\n",
            "Epoch 1705/2000\n",
            "1/1 [==============================] - 0s 23ms/step - loss: 0.1425 - mae: 0.1425\n",
            "Epoch 1706/2000\n",
            "1/1 [==============================] - 0s 13ms/step - loss: 0.2806 - mae: 0.2806\n",
            "Epoch 1707/2000\n",
            "1/1 [==============================] - 0s 10ms/step - loss: 0.1425 - mae: 0.1425\n",
            "Epoch 1708/2000\n",
            "1/1 [==============================] - 0s 9ms/step - loss: 0.2806 - mae: 0.2806\n",
            "Epoch 1709/2000\n",
            "1/1 [==============================] - 0s 10ms/step - loss: 0.1425 - mae: 0.1425\n",
            "Epoch 1710/2000\n",
            "1/1 [==============================] - 0s 12ms/step - loss: 0.2806 - mae: 0.2806\n",
            "Epoch 1711/2000\n",
            "1/1 [==============================] - 0s 10ms/step - loss: 0.1425 - mae: 0.1425\n",
            "Epoch 1712/2000\n",
            "1/1 [==============================] - 0s 11ms/step - loss: 0.2806 - mae: 0.2806\n",
            "Epoch 1713/2000\n",
            "1/1 [==============================] - 0s 11ms/step - loss: 0.1425 - mae: 0.1425\n",
            "Epoch 1714/2000\n",
            "1/1 [==============================] - 0s 19ms/step - loss: 0.2806 - mae: 0.2806\n",
            "Epoch 1715/2000\n",
            "1/1 [==============================] - 0s 12ms/step - loss: 0.1425 - mae: 0.1425\n",
            "Epoch 1716/2000\n",
            "1/1 [==============================] - 0s 21ms/step - loss: 0.2806 - mae: 0.2806\n",
            "Epoch 1717/2000\n",
            "1/1 [==============================] - 0s 11ms/step - loss: 0.1425 - mae: 0.1425\n",
            "Epoch 1718/2000\n",
            "1/1 [==============================] - 0s 16ms/step - loss: 0.2806 - mae: 0.2806\n",
            "Epoch 1719/2000\n",
            "1/1 [==============================] - 0s 12ms/step - loss: 0.1425 - mae: 0.1425\n",
            "Epoch 1720/2000\n",
            "1/1 [==============================] - 0s 12ms/step - loss: 0.2806 - mae: 0.2806\n",
            "Epoch 1721/2000\n",
            "1/1 [==============================] - 0s 12ms/step - loss: 0.1425 - mae: 0.1425\n",
            "Epoch 1722/2000\n",
            "1/1 [==============================] - 0s 8ms/step - loss: 0.2806 - mae: 0.2806\n",
            "Epoch 1723/2000\n",
            "1/1 [==============================] - 0s 6ms/step - loss: 0.1425 - mae: 0.1425\n",
            "Epoch 1724/2000\n",
            "1/1 [==============================] - 0s 14ms/step - loss: 0.2806 - mae: 0.2806\n",
            "Epoch 1725/2000\n",
            "1/1 [==============================] - 0s 6ms/step - loss: 0.1425 - mae: 0.1425\n",
            "Epoch 1726/2000\n",
            "1/1 [==============================] - 0s 6ms/step - loss: 0.2806 - mae: 0.2806\n",
            "Epoch 1727/2000\n",
            "1/1 [==============================] - 0s 11ms/step - loss: 0.1425 - mae: 0.1425\n",
            "Epoch 1728/2000\n",
            "1/1 [==============================] - 0s 6ms/step - loss: 0.2806 - mae: 0.2806\n",
            "Epoch 1729/2000\n",
            "1/1 [==============================] - 0s 6ms/step - loss: 0.1425 - mae: 0.1425\n",
            "Epoch 1730/2000\n",
            "1/1 [==============================] - 0s 11ms/step - loss: 0.2806 - mae: 0.2806\n",
            "Epoch 1731/2000\n",
            "1/1 [==============================] - 0s 16ms/step - loss: 0.1425 - mae: 0.1425\n",
            "Epoch 1732/2000\n",
            "1/1 [==============================] - 0s 9ms/step - loss: 0.2806 - mae: 0.2806\n",
            "Epoch 1733/2000\n",
            "1/1 [==============================] - 0s 7ms/step - loss: 0.1425 - mae: 0.1425\n",
            "Epoch 1734/2000\n",
            "1/1 [==============================] - 0s 7ms/step - loss: 0.2806 - mae: 0.2806\n",
            "Epoch 1735/2000\n",
            "1/1 [==============================] - 0s 7ms/step - loss: 0.1425 - mae: 0.1425\n",
            "Epoch 1736/2000\n",
            "1/1 [==============================] - 0s 7ms/step - loss: 0.2806 - mae: 0.2806\n",
            "Epoch 1737/2000\n",
            "1/1 [==============================] - 0s 6ms/step - loss: 0.1425 - mae: 0.1425\n",
            "Epoch 1738/2000\n",
            "1/1 [==============================] - 0s 10ms/step - loss: 0.2806 - mae: 0.2806\n",
            "Epoch 1739/2000\n",
            "1/1 [==============================] - 0s 18ms/step - loss: 0.1425 - mae: 0.1425\n",
            "Epoch 1740/2000\n",
            "1/1 [==============================] - 0s 14ms/step - loss: 0.2806 - mae: 0.2806\n",
            "Epoch 1741/2000\n",
            "1/1 [==============================] - 0s 6ms/step - loss: 0.1425 - mae: 0.1425\n",
            "Epoch 1742/2000\n",
            "1/1 [==============================] - 0s 8ms/step - loss: 0.2806 - mae: 0.2806\n",
            "Epoch 1743/2000\n",
            "1/1 [==============================] - 0s 12ms/step - loss: 0.1425 - mae: 0.1425\n",
            "Epoch 1744/2000\n",
            "1/1 [==============================] - 0s 7ms/step - loss: 0.2806 - mae: 0.2806\n",
            "Epoch 1745/2000\n",
            "1/1 [==============================] - 0s 7ms/step - loss: 0.1425 - mae: 0.1425\n",
            "Epoch 1746/2000\n",
            "1/1 [==============================] - 0s 7ms/step - loss: 0.2806 - mae: 0.2806\n",
            "Epoch 1747/2000\n",
            "1/1 [==============================] - 0s 11ms/step - loss: 0.1425 - mae: 0.1425\n",
            "Epoch 1748/2000\n",
            "1/1 [==============================] - 0s 11ms/step - loss: 0.2806 - mae: 0.2806\n",
            "Epoch 1749/2000\n",
            "1/1 [==============================] - 0s 12ms/step - loss: 0.1425 - mae: 0.1425\n",
            "Epoch 1750/2000\n",
            "1/1 [==============================] - 0s 60ms/step - loss: 0.2806 - mae: 0.2806\n",
            "Epoch 1751/2000\n",
            "1/1 [==============================] - 0s 34ms/step - loss: 0.1425 - mae: 0.1425\n",
            "Epoch 1752/2000\n",
            "1/1 [==============================] - 0s 43ms/step - loss: 0.2806 - mae: 0.2806\n",
            "Epoch 1753/2000\n",
            "1/1 [==============================] - 0s 18ms/step - loss: 0.1425 - mae: 0.1425\n",
            "Epoch 1754/2000\n",
            "1/1 [==============================] - 0s 99ms/step - loss: 0.2806 - mae: 0.2806\n",
            "Epoch 1755/2000\n",
            "1/1 [==============================] - 0s 21ms/step - loss: 0.1425 - mae: 0.1425\n",
            "Epoch 1756/2000\n",
            "1/1 [==============================] - 0s 17ms/step - loss: 0.2806 - mae: 0.2806\n",
            "Epoch 1757/2000\n",
            "1/1 [==============================] - 0s 19ms/step - loss: 0.1425 - mae: 0.1425\n",
            "Epoch 1758/2000\n",
            "1/1 [==============================] - 0s 13ms/step - loss: 0.2806 - mae: 0.2806\n",
            "Epoch 1759/2000\n",
            "1/1 [==============================] - 0s 11ms/step - loss: 0.1425 - mae: 0.1425\n",
            "Epoch 1760/2000\n",
            "1/1 [==============================] - 0s 20ms/step - loss: 0.2806 - mae: 0.2806\n",
            "Epoch 1761/2000\n",
            "1/1 [==============================] - 0s 10ms/step - loss: 0.1425 - mae: 0.1425\n",
            "Epoch 1762/2000\n",
            "1/1 [==============================] - 0s 9ms/step - loss: 0.2806 - mae: 0.2806\n",
            "Epoch 1763/2000\n",
            "1/1 [==============================] - 0s 17ms/step - loss: 0.1425 - mae: 0.1425\n",
            "Epoch 1764/2000\n",
            "1/1 [==============================] - 0s 15ms/step - loss: 0.2806 - mae: 0.2806\n",
            "Epoch 1765/2000\n",
            "1/1 [==============================] - 0s 12ms/step - loss: 0.1425 - mae: 0.1425\n",
            "Epoch 1766/2000\n",
            "1/1 [==============================] - 0s 16ms/step - loss: 0.2806 - mae: 0.2806\n",
            "Epoch 1767/2000\n",
            "1/1 [==============================] - 0s 17ms/step - loss: 0.1425 - mae: 0.1425\n",
            "Epoch 1768/2000\n",
            "1/1 [==============================] - 0s 21ms/step - loss: 0.2806 - mae: 0.2806\n",
            "Epoch 1769/2000\n",
            "1/1 [==============================] - 0s 14ms/step - loss: 0.1425 - mae: 0.1425\n",
            "Epoch 1770/2000\n",
            "1/1 [==============================] - 0s 13ms/step - loss: 0.2806 - mae: 0.2806\n",
            "Epoch 1771/2000\n",
            "1/1 [==============================] - 0s 16ms/step - loss: 0.1425 - mae: 0.1425\n",
            "Epoch 1772/2000\n",
            "1/1 [==============================] - 0s 14ms/step - loss: 0.2806 - mae: 0.2806\n",
            "Epoch 1773/2000\n",
            "1/1 [==============================] - 0s 21ms/step - loss: 0.1425 - mae: 0.1425\n",
            "Epoch 1774/2000\n",
            "1/1 [==============================] - 0s 15ms/step - loss: 0.2806 - mae: 0.2806\n",
            "Epoch 1775/2000\n",
            "1/1 [==============================] - 0s 19ms/step - loss: 0.1425 - mae: 0.1425\n",
            "Epoch 1776/2000\n",
            "1/1 [==============================] - 0s 12ms/step - loss: 0.2806 - mae: 0.2806\n",
            "Epoch 1777/2000\n",
            "1/1 [==============================] - 0s 11ms/step - loss: 0.1425 - mae: 0.1425\n",
            "Epoch 1778/2000\n",
            "1/1 [==============================] - 0s 16ms/step - loss: 0.2806 - mae: 0.2806\n",
            "Epoch 1779/2000\n",
            "1/1 [==============================] - 0s 17ms/step - loss: 0.1425 - mae: 0.1425\n",
            "Epoch 1780/2000\n",
            "1/1 [==============================] - 0s 13ms/step - loss: 0.2806 - mae: 0.2806\n",
            "Epoch 1781/2000\n",
            "1/1 [==============================] - 0s 16ms/step - loss: 0.1425 - mae: 0.1425\n",
            "Epoch 1782/2000\n",
            "1/1 [==============================] - 0s 12ms/step - loss: 0.2806 - mae: 0.2806\n",
            "Epoch 1783/2000\n",
            "1/1 [==============================] - 0s 19ms/step - loss: 0.1425 - mae: 0.1425\n",
            "Epoch 1784/2000\n",
            "1/1 [==============================] - 0s 13ms/step - loss: 0.2806 - mae: 0.2806\n",
            "Epoch 1785/2000\n",
            "1/1 [==============================] - 0s 16ms/step - loss: 0.1425 - mae: 0.1425\n",
            "Epoch 1786/2000\n",
            "1/1 [==============================] - 0s 6ms/step - loss: 0.2806 - mae: 0.2806\n",
            "Epoch 1787/2000\n",
            "1/1 [==============================] - 0s 16ms/step - loss: 0.1425 - mae: 0.1425\n",
            "Epoch 1788/2000\n",
            "1/1 [==============================] - 0s 36ms/step - loss: 0.2806 - mae: 0.2806\n",
            "Epoch 1789/2000\n",
            "1/1 [==============================] - 0s 7ms/step - loss: 0.1425 - mae: 0.1425\n",
            "Epoch 1790/2000\n",
            "1/1 [==============================] - 0s 20ms/step - loss: 0.2806 - mae: 0.2806\n",
            "Epoch 1791/2000\n",
            "1/1 [==============================] - 0s 21ms/step - loss: 0.1425 - mae: 0.1425\n",
            "Epoch 1792/2000\n",
            "1/1 [==============================] - 0s 16ms/step - loss: 0.2806 - mae: 0.2806\n",
            "Epoch 1793/2000\n",
            "1/1 [==============================] - 0s 13ms/step - loss: 0.1425 - mae: 0.1425\n",
            "Epoch 1794/2000\n",
            "1/1 [==============================] - 0s 22ms/step - loss: 0.2806 - mae: 0.2806\n",
            "Epoch 1795/2000\n",
            "1/1 [==============================] - 0s 10ms/step - loss: 0.1425 - mae: 0.1425\n",
            "Epoch 1796/2000\n",
            "1/1 [==============================] - 0s 21ms/step - loss: 0.2806 - mae: 0.2806\n",
            "Epoch 1797/2000\n",
            "1/1 [==============================] - 0s 13ms/step - loss: 0.1425 - mae: 0.1425\n",
            "Epoch 1798/2000\n",
            "1/1 [==============================] - 0s 12ms/step - loss: 0.2806 - mae: 0.2806\n",
            "Epoch 1799/2000\n",
            "1/1 [==============================] - 0s 13ms/step - loss: 0.1425 - mae: 0.1425\n",
            "Epoch 1800/2000\n",
            "1/1 [==============================] - 0s 13ms/step - loss: 0.2806 - mae: 0.2806\n",
            "Epoch 1801/2000\n",
            "1/1 [==============================] - 0s 14ms/step - loss: 0.1425 - mae: 0.1425\n",
            "Epoch 1802/2000\n",
            "1/1 [==============================] - 0s 11ms/step - loss: 0.2806 - mae: 0.2806\n",
            "Epoch 1803/2000\n",
            "1/1 [==============================] - 0s 11ms/step - loss: 0.1425 - mae: 0.1425\n",
            "Epoch 1804/2000\n",
            "1/1 [==============================] - 0s 13ms/step - loss: 0.2806 - mae: 0.2806\n",
            "Epoch 1805/2000\n",
            "1/1 [==============================] - 0s 10ms/step - loss: 0.1425 - mae: 0.1425\n",
            "Epoch 1806/2000\n",
            "1/1 [==============================] - 0s 16ms/step - loss: 0.2806 - mae: 0.2806\n",
            "Epoch 1807/2000\n",
            "1/1 [==============================] - 0s 11ms/step - loss: 0.1425 - mae: 0.1425\n",
            "Epoch 1808/2000\n",
            "1/1 [==============================] - 0s 11ms/step - loss: 0.2806 - mae: 0.2806\n",
            "Epoch 1809/2000\n",
            "1/1 [==============================] - 0s 10ms/step - loss: 0.1425 - mae: 0.1425\n",
            "Epoch 1810/2000\n",
            "1/1 [==============================] - 0s 14ms/step - loss: 0.2806 - mae: 0.2806\n",
            "Epoch 1811/2000\n",
            "1/1 [==============================] - 0s 17ms/step - loss: 0.1425 - mae: 0.1425\n",
            "Epoch 1812/2000\n",
            "1/1 [==============================] - 0s 19ms/step - loss: 0.2806 - mae: 0.2806\n",
            "Epoch 1813/2000\n",
            "1/1 [==============================] - 0s 14ms/step - loss: 0.1425 - mae: 0.1425\n",
            "Epoch 1814/2000\n",
            "1/1 [==============================] - 0s 15ms/step - loss: 0.2806 - mae: 0.2806\n",
            "Epoch 1815/2000\n",
            "1/1 [==============================] - 0s 17ms/step - loss: 0.1425 - mae: 0.1425\n",
            "Epoch 1816/2000\n",
            "1/1 [==============================] - 0s 11ms/step - loss: 0.2806 - mae: 0.2806\n",
            "Epoch 1817/2000\n",
            "1/1 [==============================] - 0s 14ms/step - loss: 0.1425 - mae: 0.1425\n",
            "Epoch 1818/2000\n",
            "1/1 [==============================] - 0s 16ms/step - loss: 0.2806 - mae: 0.2806\n",
            "Epoch 1819/2000\n",
            "1/1 [==============================] - 0s 13ms/step - loss: 0.1425 - mae: 0.1425\n",
            "Epoch 1820/2000\n",
            "1/1 [==============================] - 0s 14ms/step - loss: 0.2806 - mae: 0.2806\n",
            "Epoch 1821/2000\n",
            "1/1 [==============================] - 0s 20ms/step - loss: 0.1425 - mae: 0.1425\n",
            "Epoch 1822/2000\n",
            "1/1 [==============================] - 0s 14ms/step - loss: 0.2806 - mae: 0.2806\n",
            "Epoch 1823/2000\n",
            "1/1 [==============================] - 0s 11ms/step - loss: 0.1425 - mae: 0.1425\n",
            "Epoch 1824/2000\n",
            "1/1 [==============================] - 0s 29ms/step - loss: 0.2806 - mae: 0.2806\n",
            "Epoch 1825/2000\n",
            "1/1 [==============================] - 0s 23ms/step - loss: 0.1425 - mae: 0.1425\n",
            "Epoch 1826/2000\n",
            "1/1 [==============================] - 0s 17ms/step - loss: 0.2806 - mae: 0.2806\n",
            "Epoch 1827/2000\n",
            "1/1 [==============================] - 0s 13ms/step - loss: 0.1425 - mae: 0.1425\n",
            "Epoch 1828/2000\n",
            "1/1 [==============================] - 0s 12ms/step - loss: 0.2806 - mae: 0.2806\n",
            "Epoch 1829/2000\n",
            "1/1 [==============================] - 0s 14ms/step - loss: 0.1425 - mae: 0.1425\n",
            "Epoch 1830/2000\n",
            "1/1 [==============================] - 0s 11ms/step - loss: 0.2806 - mae: 0.2806\n",
            "Epoch 1831/2000\n",
            "1/1 [==============================] - 0s 9ms/step - loss: 0.1425 - mae: 0.1425\n",
            "Epoch 1832/2000\n",
            "1/1 [==============================] - 0s 10ms/step - loss: 0.2806 - mae: 0.2806\n",
            "Epoch 1833/2000\n",
            "1/1 [==============================] - 0s 12ms/step - loss: 0.1425 - mae: 0.1425\n",
            "Epoch 1834/2000\n",
            "1/1 [==============================] - 0s 9ms/step - loss: 0.2806 - mae: 0.2806\n",
            "Epoch 1835/2000\n",
            "1/1 [==============================] - 0s 9ms/step - loss: 0.1425 - mae: 0.1425\n",
            "Epoch 1836/2000\n",
            "1/1 [==============================] - 0s 10ms/step - loss: 0.2806 - mae: 0.2806\n",
            "Epoch 1837/2000\n",
            "1/1 [==============================] - 0s 9ms/step - loss: 0.1425 - mae: 0.1425\n",
            "Epoch 1838/2000\n",
            "1/1 [==============================] - 0s 8ms/step - loss: 0.2806 - mae: 0.2806\n",
            "Epoch 1839/2000\n",
            "1/1 [==============================] - 0s 11ms/step - loss: 0.1425 - mae: 0.1425\n",
            "Epoch 1840/2000\n",
            "1/1 [==============================] - 0s 9ms/step - loss: 0.2806 - mae: 0.2806\n",
            "Epoch 1841/2000\n",
            "1/1 [==============================] - 0s 20ms/step - loss: 0.1425 - mae: 0.1425\n",
            "Epoch 1842/2000\n",
            "1/1 [==============================] - 0s 10ms/step - loss: 0.2806 - mae: 0.2806\n",
            "Epoch 1843/2000\n",
            "1/1 [==============================] - 0s 10ms/step - loss: 0.1425 - mae: 0.1425\n",
            "Epoch 1844/2000\n",
            "1/1 [==============================] - 0s 16ms/step - loss: 0.2806 - mae: 0.2806\n",
            "Epoch 1845/2000\n",
            "1/1 [==============================] - 0s 9ms/step - loss: 0.1425 - mae: 0.1425\n",
            "Epoch 1846/2000\n",
            "1/1 [==============================] - 0s 19ms/step - loss: 0.2806 - mae: 0.2806\n",
            "Epoch 1847/2000\n",
            "1/1 [==============================] - 0s 13ms/step - loss: 0.1425 - mae: 0.1425\n",
            "Epoch 1848/2000\n",
            "1/1 [==============================] - 0s 8ms/step - loss: 0.2806 - mae: 0.2806\n",
            "Epoch 1849/2000\n",
            "1/1 [==============================] - 0s 6ms/step - loss: 0.1425 - mae: 0.1425\n",
            "Epoch 1850/2000\n",
            "1/1 [==============================] - 0s 12ms/step - loss: 0.2806 - mae: 0.2806\n",
            "Epoch 1851/2000\n",
            "1/1 [==============================] - 0s 10ms/step - loss: 0.1425 - mae: 0.1425\n",
            "Epoch 1852/2000\n",
            "1/1 [==============================] - 0s 28ms/step - loss: 0.2806 - mae: 0.2806\n",
            "Epoch 1853/2000\n",
            "1/1 [==============================] - 0s 10ms/step - loss: 0.1425 - mae: 0.1425\n",
            "Epoch 1854/2000\n",
            "1/1 [==============================] - 0s 8ms/step - loss: 0.2806 - mae: 0.2806\n",
            "Epoch 1855/2000\n",
            "1/1 [==============================] - 0s 15ms/step - loss: 0.1425 - mae: 0.1425\n",
            "Epoch 1856/2000\n",
            "1/1 [==============================] - 0s 9ms/step - loss: 0.2806 - mae: 0.2806\n",
            "Epoch 1857/2000\n",
            "1/1 [==============================] - 0s 13ms/step - loss: 0.1425 - mae: 0.1425\n",
            "Epoch 1858/2000\n",
            "1/1 [==============================] - 0s 20ms/step - loss: 0.2806 - mae: 0.2806\n",
            "Epoch 1859/2000\n",
            "1/1 [==============================] - 0s 8ms/step - loss: 0.1425 - mae: 0.1425\n",
            "Epoch 1860/2000\n",
            "1/1 [==============================] - 0s 21ms/step - loss: 0.2806 - mae: 0.2806\n",
            "Epoch 1861/2000\n",
            "1/1 [==============================] - 0s 7ms/step - loss: 0.1425 - mae: 0.1425\n",
            "Epoch 1862/2000\n",
            "1/1 [==============================] - 0s 7ms/step - loss: 0.2806 - mae: 0.2806\n",
            "Epoch 1863/2000\n",
            "1/1 [==============================] - 0s 8ms/step - loss: 0.1425 - mae: 0.1425\n",
            "Epoch 1864/2000\n",
            "1/1 [==============================] - 0s 13ms/step - loss: 0.2806 - mae: 0.2806\n",
            "Epoch 1865/2000\n",
            "1/1 [==============================] - 0s 19ms/step - loss: 0.1425 - mae: 0.1425\n",
            "Epoch 1866/2000\n",
            "1/1 [==============================] - 0s 17ms/step - loss: 0.2806 - mae: 0.2806\n",
            "Epoch 1867/2000\n",
            "1/1 [==============================] - 0s 8ms/step - loss: 0.1425 - mae: 0.1425\n",
            "Epoch 1868/2000\n",
            "1/1 [==============================] - 0s 11ms/step - loss: 0.2806 - mae: 0.2806\n",
            "Epoch 1869/2000\n",
            "1/1 [==============================] - 0s 11ms/step - loss: 0.1425 - mae: 0.1425\n",
            "Epoch 1870/2000\n",
            "1/1 [==============================] - 0s 12ms/step - loss: 0.2806 - mae: 0.2806\n",
            "Epoch 1871/2000\n",
            "1/1 [==============================] - 0s 12ms/step - loss: 0.1425 - mae: 0.1425\n",
            "Epoch 1872/2000\n",
            "1/1 [==============================] - 0s 18ms/step - loss: 0.2806 - mae: 0.2806\n",
            "Epoch 1873/2000\n",
            "1/1 [==============================] - 0s 14ms/step - loss: 0.1425 - mae: 0.1425\n",
            "Epoch 1874/2000\n",
            "1/1 [==============================] - 0s 7ms/step - loss: 0.2806 - mae: 0.2806\n",
            "Epoch 1875/2000\n",
            "1/1 [==============================] - 0s 6ms/step - loss: 0.1425 - mae: 0.1425\n",
            "Epoch 1876/2000\n",
            "1/1 [==============================] - 0s 10ms/step - loss: 0.2806 - mae: 0.2806\n",
            "Epoch 1877/2000\n",
            "1/1 [==============================] - 0s 7ms/step - loss: 0.1425 - mae: 0.1425\n",
            "Epoch 1878/2000\n",
            "1/1 [==============================] - 0s 7ms/step - loss: 0.2806 - mae: 0.2806\n",
            "Epoch 1879/2000\n",
            "1/1 [==============================] - 0s 7ms/step - loss: 0.1425 - mae: 0.1425\n",
            "Epoch 1880/2000\n",
            "1/1 [==============================] - 0s 12ms/step - loss: 0.2806 - mae: 0.2806\n",
            "Epoch 1881/2000\n",
            "1/1 [==============================] - 0s 6ms/step - loss: 0.1425 - mae: 0.1425\n",
            "Epoch 1882/2000\n",
            "1/1 [==============================] - 0s 6ms/step - loss: 0.2806 - mae: 0.2806\n",
            "Epoch 1883/2000\n",
            "1/1 [==============================] - 0s 15ms/step - loss: 0.1425 - mae: 0.1425\n",
            "Epoch 1884/2000\n",
            "1/1 [==============================] - 0s 11ms/step - loss: 0.2806 - mae: 0.2806\n",
            "Epoch 1885/2000\n",
            "1/1 [==============================] - 0s 16ms/step - loss: 0.1425 - mae: 0.1425\n",
            "Epoch 1886/2000\n",
            "1/1 [==============================] - 0s 36ms/step - loss: 0.2806 - mae: 0.2806\n",
            "Epoch 1887/2000\n",
            "1/1 [==============================] - 0s 74ms/step - loss: 0.1425 - mae: 0.1425\n",
            "Epoch 1888/2000\n",
            "1/1 [==============================] - 0s 20ms/step - loss: 0.2806 - mae: 0.2806\n",
            "Epoch 1889/2000\n",
            "1/1 [==============================] - 0s 23ms/step - loss: 0.1425 - mae: 0.1425\n",
            "Epoch 1890/2000\n",
            "1/1 [==============================] - 0s 11ms/step - loss: 0.2806 - mae: 0.2806\n",
            "Epoch 1891/2000\n",
            "1/1 [==============================] - 0s 19ms/step - loss: 0.1425 - mae: 0.1425\n",
            "Epoch 1892/2000\n",
            "1/1 [==============================] - 0s 19ms/step - loss: 0.2806 - mae: 0.2806\n",
            "Epoch 1893/2000\n",
            "1/1 [==============================] - 0s 13ms/step - loss: 0.1425 - mae: 0.1425\n",
            "Epoch 1894/2000\n",
            "1/1 [==============================] - 0s 13ms/step - loss: 0.2806 - mae: 0.2806\n",
            "Epoch 1895/2000\n",
            "1/1 [==============================] - 0s 11ms/step - loss: 0.1425 - mae: 0.1425\n",
            "Epoch 1896/2000\n",
            "1/1 [==============================] - 0s 12ms/step - loss: 0.2806 - mae: 0.2806\n",
            "Epoch 1897/2000\n",
            "1/1 [==============================] - 0s 10ms/step - loss: 0.1425 - mae: 0.1425\n",
            "Epoch 1898/2000\n",
            "1/1 [==============================] - 0s 18ms/step - loss: 0.2806 - mae: 0.2806\n",
            "Epoch 1899/2000\n",
            "1/1 [==============================] - 0s 17ms/step - loss: 0.1425 - mae: 0.1425\n",
            "Epoch 1900/2000\n",
            "1/1 [==============================] - 0s 21ms/step - loss: 0.2806 - mae: 0.2806\n",
            "Epoch 1901/2000\n",
            "1/1 [==============================] - 0s 15ms/step - loss: 0.1425 - mae: 0.1425\n",
            "Epoch 1902/2000\n",
            "1/1 [==============================] - 0s 11ms/step - loss: 0.2806 - mae: 0.2806\n",
            "Epoch 1903/2000\n",
            "1/1 [==============================] - 0s 51ms/step - loss: 0.1425 - mae: 0.1425\n",
            "Epoch 1904/2000\n",
            "1/1 [==============================] - 0s 22ms/step - loss: 0.2806 - mae: 0.2806\n",
            "Epoch 1905/2000\n",
            "1/1 [==============================] - 0s 16ms/step - loss: 0.1425 - mae: 0.1425\n",
            "Epoch 1906/2000\n",
            "1/1 [==============================] - 0s 38ms/step - loss: 0.2806 - mae: 0.2806\n",
            "Epoch 1907/2000\n",
            "1/1 [==============================] - 0s 26ms/step - loss: 0.1425 - mae: 0.1425\n",
            "Epoch 1908/2000\n",
            "1/1 [==============================] - 0s 24ms/step - loss: 0.2806 - mae: 0.2806\n",
            "Epoch 1909/2000\n",
            "1/1 [==============================] - 0s 28ms/step - loss: 0.1425 - mae: 0.1425\n",
            "Epoch 1910/2000\n",
            "1/1 [==============================] - 0s 21ms/step - loss: 0.2806 - mae: 0.2806\n",
            "Epoch 1911/2000\n",
            "1/1 [==============================] - 0s 39ms/step - loss: 0.1425 - mae: 0.1425\n",
            "Epoch 1912/2000\n",
            "1/1 [==============================] - 0s 8ms/step - loss: 0.2806 - mae: 0.2806\n",
            "Epoch 1913/2000\n",
            "1/1 [==============================] - 0s 16ms/step - loss: 0.1425 - mae: 0.1425\n",
            "Epoch 1914/2000\n",
            "1/1 [==============================] - 0s 8ms/step - loss: 0.2806 - mae: 0.2806\n",
            "Epoch 1915/2000\n",
            "1/1 [==============================] - 0s 9ms/step - loss: 0.1425 - mae: 0.1425\n",
            "Epoch 1916/2000\n",
            "1/1 [==============================] - 0s 7ms/step - loss: 0.2806 - mae: 0.2806\n",
            "Epoch 1917/2000\n",
            "1/1 [==============================] - 0s 14ms/step - loss: 0.1425 - mae: 0.1425\n",
            "Epoch 1918/2000\n",
            "1/1 [==============================] - 0s 6ms/step - loss: 0.2806 - mae: 0.2806\n",
            "Epoch 1919/2000\n",
            "1/1 [==============================] - 0s 8ms/step - loss: 0.1425 - mae: 0.1425\n",
            "Epoch 1920/2000\n",
            "1/1 [==============================] - 0s 11ms/step - loss: 0.2806 - mae: 0.2806\n",
            "Epoch 1921/2000\n",
            "1/1 [==============================] - 0s 7ms/step - loss: 0.1425 - mae: 0.1425\n",
            "Epoch 1922/2000\n",
            "1/1 [==============================] - 0s 14ms/step - loss: 0.2806 - mae: 0.2806\n",
            "Epoch 1923/2000\n",
            "1/1 [==============================] - 0s 9ms/step - loss: 0.1425 - mae: 0.1425\n",
            "Epoch 1924/2000\n",
            "1/1 [==============================] - 0s 6ms/step - loss: 0.2806 - mae: 0.2806\n",
            "Epoch 1925/2000\n",
            "1/1 [==============================] - 0s 10ms/step - loss: 0.1425 - mae: 0.1425\n",
            "Epoch 1926/2000\n",
            "1/1 [==============================] - 0s 9ms/step - loss: 0.2806 - mae: 0.2806\n",
            "Epoch 1927/2000\n",
            "1/1 [==============================] - 0s 10ms/step - loss: 0.1425 - mae: 0.1425\n",
            "Epoch 1928/2000\n",
            "1/1 [==============================] - 0s 10ms/step - loss: 0.2806 - mae: 0.2806\n",
            "Epoch 1929/2000\n",
            "1/1 [==============================] - 0s 14ms/step - loss: 0.1425 - mae: 0.1425\n",
            "Epoch 1930/2000\n",
            "1/1 [==============================] - 0s 9ms/step - loss: 0.2806 - mae: 0.2806\n",
            "Epoch 1931/2000\n",
            "1/1 [==============================] - 0s 7ms/step - loss: 0.1425 - mae: 0.1425\n",
            "Epoch 1932/2000\n",
            "1/1 [==============================] - 0s 6ms/step - loss: 0.2806 - mae: 0.2806\n",
            "Epoch 1933/2000\n",
            "1/1 [==============================] - 0s 8ms/step - loss: 0.1425 - mae: 0.1425\n",
            "Epoch 1934/2000\n",
            "1/1 [==============================] - 0s 13ms/step - loss: 0.2806 - mae: 0.2806\n",
            "Epoch 1935/2000\n",
            "1/1 [==============================] - 0s 9ms/step - loss: 0.1425 - mae: 0.1425\n",
            "Epoch 1936/2000\n",
            "1/1 [==============================] - 0s 7ms/step - loss: 0.2806 - mae: 0.2806\n",
            "Epoch 1937/2000\n",
            "1/1 [==============================] - 0s 19ms/step - loss: 0.1425 - mae: 0.1425\n",
            "Epoch 1938/2000\n",
            "1/1 [==============================] - 0s 17ms/step - loss: 0.2806 - mae: 0.2806\n",
            "Epoch 1939/2000\n",
            "1/1 [==============================] - 0s 7ms/step - loss: 0.1425 - mae: 0.1425\n",
            "Epoch 1940/2000\n",
            "1/1 [==============================] - 0s 7ms/step - loss: 0.2806 - mae: 0.2806\n",
            "Epoch 1941/2000\n",
            "1/1 [==============================] - 0s 6ms/step - loss: 0.1425 - mae: 0.1425\n",
            "Epoch 1942/2000\n",
            "1/1 [==============================] - 0s 9ms/step - loss: 0.2806 - mae: 0.2806\n",
            "Epoch 1943/2000\n",
            "1/1 [==============================] - 0s 10ms/step - loss: 0.1425 - mae: 0.1425\n",
            "Epoch 1944/2000\n",
            "1/1 [==============================] - 0s 8ms/step - loss: 0.2806 - mae: 0.2806\n",
            "Epoch 1945/2000\n",
            "1/1 [==============================] - 0s 9ms/step - loss: 0.1425 - mae: 0.1425\n",
            "Epoch 1946/2000\n",
            "1/1 [==============================] - 0s 6ms/step - loss: 0.2806 - mae: 0.2806\n",
            "Epoch 1947/2000\n",
            "1/1 [==============================] - 0s 9ms/step - loss: 0.1425 - mae: 0.1425\n",
            "Epoch 1948/2000\n",
            "1/1 [==============================] - 0s 12ms/step - loss: 0.2806 - mae: 0.2806\n",
            "Epoch 1949/2000\n",
            "1/1 [==============================] - 0s 10ms/step - loss: 0.1425 - mae: 0.1425\n",
            "Epoch 1950/2000\n",
            "1/1 [==============================] - 0s 8ms/step - loss: 0.2806 - mae: 0.2806\n",
            "Epoch 1951/2000\n",
            "1/1 [==============================] - 0s 10ms/step - loss: 0.1425 - mae: 0.1425\n",
            "Epoch 1952/2000\n",
            "1/1 [==============================] - 0s 6ms/step - loss: 0.2806 - mae: 0.2806\n",
            "Epoch 1953/2000\n",
            "1/1 [==============================] - 0s 13ms/step - loss: 0.1425 - mae: 0.1425\n",
            "Epoch 1954/2000\n",
            "1/1 [==============================] - 0s 14ms/step - loss: 0.2806 - mae: 0.2806\n",
            "Epoch 1955/2000\n",
            "1/1 [==============================] - 0s 22ms/step - loss: 0.1425 - mae: 0.1425\n",
            "Epoch 1956/2000\n",
            "1/1 [==============================] - 0s 16ms/step - loss: 0.2806 - mae: 0.2806\n",
            "Epoch 1957/2000\n",
            "1/1 [==============================] - 0s 21ms/step - loss: 0.1425 - mae: 0.1425\n",
            "Epoch 1958/2000\n",
            "1/1 [==============================] - 0s 18ms/step - loss: 0.2806 - mae: 0.2806\n",
            "Epoch 1959/2000\n",
            "1/1 [==============================] - 0s 13ms/step - loss: 0.1425 - mae: 0.1425\n",
            "Epoch 1960/2000\n",
            "1/1 [==============================] - 0s 15ms/step - loss: 0.2806 - mae: 0.2806\n",
            "Epoch 1961/2000\n",
            "1/1 [==============================] - 0s 34ms/step - loss: 0.1425 - mae: 0.1425\n",
            "Epoch 1962/2000\n",
            "1/1 [==============================] - 0s 12ms/step - loss: 0.2806 - mae: 0.2806\n",
            "Epoch 1963/2000\n",
            "1/1 [==============================] - 0s 11ms/step - loss: 0.1425 - mae: 0.1425\n",
            "Epoch 1964/2000\n",
            "1/1 [==============================] - 0s 21ms/step - loss: 0.2806 - mae: 0.2806\n",
            "Epoch 1965/2000\n",
            "1/1 [==============================] - 0s 11ms/step - loss: 0.1425 - mae: 0.1425\n",
            "Epoch 1966/2000\n",
            "1/1 [==============================] - 0s 13ms/step - loss: 0.2806 - mae: 0.2806\n",
            "Epoch 1967/2000\n",
            "1/1 [==============================] - 0s 14ms/step - loss: 0.1425 - mae: 0.1425\n",
            "Epoch 1968/2000\n",
            "1/1 [==============================] - 0s 17ms/step - loss: 0.2806 - mae: 0.2806\n",
            "Epoch 1969/2000\n",
            "1/1 [==============================] - 0s 27ms/step - loss: 0.1425 - mae: 0.1425\n",
            "Epoch 1970/2000\n",
            "1/1 [==============================] - 0s 29ms/step - loss: 0.2806 - mae: 0.2806\n",
            "Epoch 1971/2000\n",
            "1/1 [==============================] - 0s 24ms/step - loss: 0.1425 - mae: 0.1425\n",
            "Epoch 1972/2000\n",
            "1/1 [==============================] - 0s 30ms/step - loss: 0.2806 - mae: 0.2806\n",
            "Epoch 1973/2000\n",
            "1/1 [==============================] - 0s 11ms/step - loss: 0.1425 - mae: 0.1425\n",
            "Epoch 1974/2000\n",
            "1/1 [==============================] - 0s 31ms/step - loss: 0.2806 - mae: 0.2806\n",
            "Epoch 1975/2000\n",
            "1/1 [==============================] - 0s 34ms/step - loss: 0.1425 - mae: 0.1425\n",
            "Epoch 1976/2000\n",
            "1/1 [==============================] - 0s 33ms/step - loss: 0.2806 - mae: 0.2806\n",
            "Epoch 1977/2000\n",
            "1/1 [==============================] - 0s 14ms/step - loss: 0.1425 - mae: 0.1425\n",
            "Epoch 1978/2000\n",
            "1/1 [==============================] - 0s 21ms/step - loss: 0.2806 - mae: 0.2806\n",
            "Epoch 1979/2000\n",
            "1/1 [==============================] - 0s 9ms/step - loss: 0.1425 - mae: 0.1425\n",
            "Epoch 1980/2000\n",
            "1/1 [==============================] - 0s 16ms/step - loss: 0.2806 - mae: 0.2806\n",
            "Epoch 1981/2000\n",
            "1/1 [==============================] - 0s 14ms/step - loss: 0.1425 - mae: 0.1425\n",
            "Epoch 1982/2000\n",
            "1/1 [==============================] - 0s 13ms/step - loss: 0.2806 - mae: 0.2806\n",
            "Epoch 1983/2000\n",
            "1/1 [==============================] - 0s 16ms/step - loss: 0.1425 - mae: 0.1425\n",
            "Epoch 1984/2000\n",
            "1/1 [==============================] - 0s 27ms/step - loss: 0.2806 - mae: 0.2806\n",
            "Epoch 1985/2000\n",
            "1/1 [==============================] - 0s 35ms/step - loss: 0.1425 - mae: 0.1425\n",
            "Epoch 1986/2000\n",
            "1/1 [==============================] - 0s 43ms/step - loss: 0.2806 - mae: 0.2806\n",
            "Epoch 1987/2000\n",
            "1/1 [==============================] - 0s 10ms/step - loss: 0.1425 - mae: 0.1425\n",
            "Epoch 1988/2000\n",
            "1/1 [==============================] - 0s 12ms/step - loss: 0.2806 - mae: 0.2806\n",
            "Epoch 1989/2000\n",
            "1/1 [==============================] - 0s 12ms/step - loss: 0.1425 - mae: 0.1425\n",
            "Epoch 1990/2000\n",
            "1/1 [==============================] - 0s 10ms/step - loss: 0.2806 - mae: 0.2806\n",
            "Epoch 1991/2000\n",
            "1/1 [==============================] - 0s 11ms/step - loss: 0.1425 - mae: 0.1425\n",
            "Epoch 1992/2000\n",
            "1/1 [==============================] - 0s 8ms/step - loss: 0.2806 - mae: 0.2806\n",
            "Epoch 1993/2000\n",
            "1/1 [==============================] - 0s 9ms/step - loss: 0.1425 - mae: 0.1425\n",
            "Epoch 1994/2000\n",
            "1/1 [==============================] - 0s 11ms/step - loss: 0.2806 - mae: 0.2806\n",
            "Epoch 1995/2000\n",
            "1/1 [==============================] - 0s 6ms/step - loss: 0.1425 - mae: 0.1425\n",
            "Epoch 1996/2000\n",
            "1/1 [==============================] - 0s 9ms/step - loss: 0.2806 - mae: 0.2806\n",
            "Epoch 1997/2000\n",
            "1/1 [==============================] - 0s 8ms/step - loss: 0.1425 - mae: 0.1425\n",
            "Epoch 1998/2000\n",
            "1/1 [==============================] - 0s 11ms/step - loss: 0.2806 - mae: 0.2806\n",
            "Epoch 1999/2000\n",
            "1/1 [==============================] - 0s 16ms/step - loss: 0.1425 - mae: 0.1425\n",
            "Epoch 2000/2000\n",
            "1/1 [==============================] - 0s 9ms/step - loss: 0.2806 - mae: 0.2806\n"
          ]
        },
        {
          "output_type": "execute_result",
          "data": {
            "text/plain": [
              "<keras.callbacks.History at 0x7f0d3f40ded0>"
            ]
          },
          "metadata": {},
          "execution_count": 14
        }
      ]
    },
    {
      "cell_type": "code",
      "source": [
        "X,y"
      ],
      "metadata": {
        "colab": {
          "base_uri": "https://localhost:8080/"
        },
        "id": "uDZAXkYWsRrL",
        "outputId": "bc53d52c-79d1-4fd0-eb23-bca018332f26"
      },
      "execution_count": 15,
      "outputs": [
        {
          "output_type": "execute_result",
          "data": {
            "text/plain": [
              "(<tf.Tensor: shape=(8,), dtype=float64, numpy=array([-7., -4., -1.,  2.,  5.,  8., 11., 14.])>,\n",
              " <tf.Tensor: shape=(8,), dtype=float64, numpy=array([ 3.,  6.,  9., 12., 15., 18., 21., 24.])>)"
            ]
          },
          "metadata": {},
          "execution_count": 15
        }
      ]
    },
    {
      "cell_type": "code",
      "source": [
        "# Lets predict\n",
        "\n",
        "model.predict([17.0])"
      ],
      "metadata": {
        "colab": {
          "base_uri": "https://localhost:8080/"
        },
        "id": "zhv2IFJSsVKD",
        "outputId": "94dc81c4-9494-40f8-a69e-9d98a0125555"
      },
      "execution_count": 16,
      "outputs": [
        {
          "output_type": "execute_result",
          "data": {
            "text/plain": [
              "array([[27.359833]], dtype=float32)"
            ]
          },
          "metadata": {},
          "execution_count": 16
        }
      ]
    },
    {
      "cell_type": "code",
      "source": [
        "# Another chnges to improve the model\n",
        "\n",
        "# 1 create the model with an extra hidden layer\n",
        "\n",
        "model = tf.keras.Sequential([\n",
        "  tf.keras.layers.Dense(100, activation=\"relu\"),\n",
        "  tf.keras.layers.Dense(100, activation=\"relu\"),\n",
        "  tf.keras.layers.Dense(100, activation=\"relu\"),\n",
        "  tf.keras.layers.Dense(1)\n",
        "])\n",
        "\n",
        "# 2. Compile the model\n",
        "\n",
        "model.compile(loss=\"mae\",\n",
        "              optimizer= tf.keras.optimizers.Adam(learning_rate=0.001), #agregar el learning rate mejoro la prediccion\n",
        "              metrics=[\"mae\"])\n",
        "\n",
        "# 3. Fit the model\n",
        "\n",
        "model.fit(tf.expand_dims(X, axis=-1),y, epochs=200)\n",
        "\n"
      ],
      "metadata": {
        "colab": {
          "base_uri": "https://localhost:8080/"
        },
        "id": "dI0uBDXjtq8X",
        "outputId": "c418399d-c1cf-47fd-a10d-a6ee008e8497"
      },
      "execution_count": 17,
      "outputs": [
        {
          "output_type": "stream",
          "name": "stdout",
          "text": [
            "Epoch 1/200\n",
            "1/1 [==============================] - 1s 747ms/step - loss: 12.9513 - mae: 12.9513\n",
            "Epoch 2/200\n",
            "1/1 [==============================] - 0s 9ms/step - loss: 12.5285 - mae: 12.5285\n",
            "Epoch 3/200\n",
            "1/1 [==============================] - 0s 11ms/step - loss: 12.1098 - mae: 12.1098\n",
            "Epoch 4/200\n",
            "1/1 [==============================] - 0s 9ms/step - loss: 11.6979 - mae: 11.6979\n",
            "Epoch 5/200\n",
            "1/1 [==============================] - 0s 7ms/step - loss: 11.2893 - mae: 11.2893\n",
            "Epoch 6/200\n",
            "1/1 [==============================] - 0s 7ms/step - loss: 10.8902 - mae: 10.8902\n",
            "Epoch 7/200\n",
            "1/1 [==============================] - 0s 7ms/step - loss: 10.5068 - mae: 10.5068\n",
            "Epoch 8/200\n",
            "1/1 [==============================] - 0s 10ms/step - loss: 10.1209 - mae: 10.1209\n",
            "Epoch 9/200\n",
            "1/1 [==============================] - 0s 7ms/step - loss: 9.7311 - mae: 9.7311\n",
            "Epoch 10/200\n",
            "1/1 [==============================] - 0s 6ms/step - loss: 9.3167 - mae: 9.3167\n",
            "Epoch 11/200\n",
            "1/1 [==============================] - 0s 12ms/step - loss: 8.8797 - mae: 8.8797\n",
            "Epoch 12/200\n",
            "1/1 [==============================] - 0s 15ms/step - loss: 8.4478 - mae: 8.4478\n",
            "Epoch 13/200\n",
            "1/1 [==============================] - 0s 11ms/step - loss: 8.0554 - mae: 8.0554\n",
            "Epoch 14/200\n",
            "1/1 [==============================] - 0s 14ms/step - loss: 7.6417 - mae: 7.6417\n",
            "Epoch 15/200\n",
            "1/1 [==============================] - 0s 18ms/step - loss: 7.2037 - mae: 7.2037\n",
            "Epoch 16/200\n",
            "1/1 [==============================] - 0s 16ms/step - loss: 6.7338 - mae: 6.7338\n",
            "Epoch 17/200\n",
            "1/1 [==============================] - 0s 13ms/step - loss: 6.2391 - mae: 6.2391\n",
            "Epoch 18/200\n",
            "1/1 [==============================] - 0s 11ms/step - loss: 5.7124 - mae: 5.7124\n",
            "Epoch 19/200\n",
            "1/1 [==============================] - 0s 12ms/step - loss: 5.1505 - mae: 5.1505\n",
            "Epoch 20/200\n",
            "1/1 [==============================] - 0s 11ms/step - loss: 4.5515 - mae: 4.5515\n",
            "Epoch 21/200\n",
            "1/1 [==============================] - 0s 13ms/step - loss: 4.1226 - mae: 4.1226\n",
            "Epoch 22/200\n",
            "1/1 [==============================] - 0s 12ms/step - loss: 3.9248 - mae: 3.9248\n",
            "Epoch 23/200\n",
            "1/1 [==============================] - 0s 10ms/step - loss: 4.0670 - mae: 4.0670\n",
            "Epoch 24/200\n",
            "1/1 [==============================] - 0s 10ms/step - loss: 4.1968 - mae: 4.1968\n",
            "Epoch 25/200\n",
            "1/1 [==============================] - 0s 8ms/step - loss: 4.3344 - mae: 4.3344\n",
            "Epoch 26/200\n",
            "1/1 [==============================] - 0s 9ms/step - loss: 4.5500 - mae: 4.5500\n",
            "Epoch 27/200\n",
            "1/1 [==============================] - 0s 9ms/step - loss: 4.6800 - mae: 4.6800\n",
            "Epoch 28/200\n",
            "1/1 [==============================] - 0s 14ms/step - loss: 4.7330 - mae: 4.7330\n",
            "Epoch 29/200\n",
            "1/1 [==============================] - 0s 18ms/step - loss: 4.7179 - mae: 4.7179\n",
            "Epoch 30/200\n",
            "1/1 [==============================] - 0s 13ms/step - loss: 4.6452 - mae: 4.6452\n",
            "Epoch 31/200\n",
            "1/1 [==============================] - 0s 16ms/step - loss: 4.5235 - mae: 4.5235\n",
            "Epoch 32/200\n",
            "1/1 [==============================] - 0s 17ms/step - loss: 4.3622 - mae: 4.3622\n",
            "Epoch 33/200\n",
            "1/1 [==============================] - 0s 15ms/step - loss: 4.2044 - mae: 4.2044\n",
            "Epoch 34/200\n",
            "1/1 [==============================] - 0s 10ms/step - loss: 4.1277 - mae: 4.1277\n",
            "Epoch 35/200\n",
            "1/1 [==============================] - 0s 12ms/step - loss: 4.0525 - mae: 4.0525\n",
            "Epoch 36/200\n",
            "1/1 [==============================] - 0s 10ms/step - loss: 3.9784 - mae: 3.9784\n",
            "Epoch 37/200\n",
            "1/1 [==============================] - 0s 14ms/step - loss: 3.9052 - mae: 3.9052\n",
            "Epoch 38/200\n",
            "1/1 [==============================] - 0s 19ms/step - loss: 3.8333 - mae: 3.8333\n",
            "Epoch 39/200\n",
            "1/1 [==============================] - 0s 16ms/step - loss: 3.8401 - mae: 3.8401\n",
            "Epoch 40/200\n",
            "1/1 [==============================] - 0s 14ms/step - loss: 3.8941 - mae: 3.8941\n",
            "Epoch 41/200\n",
            "1/1 [==============================] - 0s 19ms/step - loss: 3.9317 - mae: 3.9317\n",
            "Epoch 42/200\n",
            "1/1 [==============================] - 0s 12ms/step - loss: 3.9546 - mae: 3.9546\n",
            "Epoch 43/200\n",
            "1/1 [==============================] - 0s 12ms/step - loss: 3.9649 - mae: 3.9649\n",
            "Epoch 44/200\n",
            "1/1 [==============================] - 0s 13ms/step - loss: 3.9633 - mae: 3.9633\n",
            "Epoch 45/200\n",
            "1/1 [==============================] - 0s 11ms/step - loss: 3.9511 - mae: 3.9511\n",
            "Epoch 46/200\n",
            "1/1 [==============================] - 0s 12ms/step - loss: 3.9296 - mae: 3.9296\n",
            "Epoch 47/200\n",
            "1/1 [==============================] - 0s 13ms/step - loss: 3.8990 - mae: 3.8990\n",
            "Epoch 48/200\n",
            "1/1 [==============================] - 0s 13ms/step - loss: 3.8589 - mae: 3.8589\n",
            "Epoch 49/200\n",
            "1/1 [==============================] - 0s 12ms/step - loss: 3.8110 - mae: 3.8110\n",
            "Epoch 50/200\n",
            "1/1 [==============================] - 0s 14ms/step - loss: 3.7558 - mae: 3.7558\n",
            "Epoch 51/200\n",
            "1/1 [==============================] - 0s 15ms/step - loss: 3.6930 - mae: 3.6930\n",
            "Epoch 52/200\n",
            "1/1 [==============================] - 0s 10ms/step - loss: 3.7065 - mae: 3.7065\n",
            "Epoch 53/200\n",
            "1/1 [==============================] - 0s 11ms/step - loss: 3.7302 - mae: 3.7302\n",
            "Epoch 54/200\n",
            "1/1 [==============================] - 0s 8ms/step - loss: 3.7500 - mae: 3.7500\n",
            "Epoch 55/200\n",
            "1/1 [==============================] - 0s 8ms/step - loss: 3.7534 - mae: 3.7534\n",
            "Epoch 56/200\n",
            "1/1 [==============================] - 0s 12ms/step - loss: 3.7540 - mae: 3.7540\n",
            "Epoch 57/200\n",
            "1/1 [==============================] - 0s 9ms/step - loss: 3.7465 - mae: 3.7465\n",
            "Epoch 58/200\n",
            "1/1 [==============================] - 0s 15ms/step - loss: 3.7322 - mae: 3.7322\n",
            "Epoch 59/200\n",
            "1/1 [==============================] - 0s 12ms/step - loss: 3.7112 - mae: 3.7112\n",
            "Epoch 60/200\n",
            "1/1 [==============================] - 0s 10ms/step - loss: 3.6847 - mae: 3.6847\n",
            "Epoch 61/200\n",
            "1/1 [==============================] - 0s 9ms/step - loss: 3.6529 - mae: 3.6529\n",
            "Epoch 62/200\n",
            "1/1 [==============================] - 0s 14ms/step - loss: 3.6281 - mae: 3.6281\n",
            "Epoch 63/200\n",
            "1/1 [==============================] - 0s 15ms/step - loss: 3.5796 - mae: 3.5796\n",
            "Epoch 64/200\n",
            "1/1 [==============================] - 0s 13ms/step - loss: 3.6103 - mae: 3.6103\n",
            "Epoch 65/200\n",
            "1/1 [==============================] - 0s 16ms/step - loss: 3.6314 - mae: 3.6314\n",
            "Epoch 66/200\n",
            "1/1 [==============================] - 0s 15ms/step - loss: 3.6358 - mae: 3.6358\n",
            "Epoch 67/200\n",
            "1/1 [==============================] - 0s 19ms/step - loss: 3.6249 - mae: 3.6249\n",
            "Epoch 68/200\n",
            "1/1 [==============================] - 0s 11ms/step - loss: 3.5999 - mae: 3.5999\n",
            "Epoch 69/200\n",
            "1/1 [==============================] - 0s 12ms/step - loss: 3.5609 - mae: 3.5609\n",
            "Epoch 70/200\n",
            "1/1 [==============================] - 0s 12ms/step - loss: 3.5099 - mae: 3.5099\n",
            "Epoch 71/200\n",
            "1/1 [==============================] - 0s 13ms/step - loss: 3.5159 - mae: 3.5159\n",
            "Epoch 72/200\n",
            "1/1 [==============================] - 0s 11ms/step - loss: 3.5175 - mae: 3.5175\n",
            "Epoch 73/200\n",
            "1/1 [==============================] - 0s 12ms/step - loss: 3.5069 - mae: 3.5069\n",
            "Epoch 74/200\n",
            "1/1 [==============================] - 0s 13ms/step - loss: 3.4920 - mae: 3.4920\n",
            "Epoch 75/200\n",
            "1/1 [==============================] - 0s 11ms/step - loss: 3.4704 - mae: 3.4704\n",
            "Epoch 76/200\n",
            "1/1 [==============================] - 0s 10ms/step - loss: 3.4534 - mae: 3.4534\n",
            "Epoch 77/200\n",
            "1/1 [==============================] - 0s 11ms/step - loss: 3.4483 - mae: 3.4483\n",
            "Epoch 78/200\n",
            "1/1 [==============================] - 0s 12ms/step - loss: 3.4268 - mae: 3.4268\n",
            "Epoch 79/200\n",
            "1/1 [==============================] - 0s 12ms/step - loss: 3.4194 - mae: 3.4194\n",
            "Epoch 80/200\n",
            "1/1 [==============================] - 0s 12ms/step - loss: 3.4120 - mae: 3.4120\n",
            "Epoch 81/200\n",
            "1/1 [==============================] - 0s 11ms/step - loss: 3.3956 - mae: 3.3956\n",
            "Epoch 82/200\n",
            "1/1 [==============================] - 0s 11ms/step - loss: 3.3757 - mae: 3.3757\n",
            "Epoch 83/200\n",
            "1/1 [==============================] - 0s 11ms/step - loss: 3.3477 - mae: 3.3477\n",
            "Epoch 84/200\n",
            "1/1 [==============================] - 0s 13ms/step - loss: 3.3362 - mae: 3.3362\n",
            "Epoch 85/200\n",
            "1/1 [==============================] - 0s 12ms/step - loss: 3.3275 - mae: 3.3275\n",
            "Epoch 86/200\n",
            "1/1 [==============================] - 0s 10ms/step - loss: 3.3051 - mae: 3.3051\n",
            "Epoch 87/200\n",
            "1/1 [==============================] - 0s 12ms/step - loss: 3.2856 - mae: 3.2856\n",
            "Epoch 88/200\n",
            "1/1 [==============================] - 0s 11ms/step - loss: 3.2694 - mae: 3.2694\n",
            "Epoch 89/200\n",
            "1/1 [==============================] - 0s 11ms/step - loss: 3.2465 - mae: 3.2465\n",
            "Epoch 90/200\n",
            "1/1 [==============================] - 0s 11ms/step - loss: 3.2267 - mae: 3.2267\n",
            "Epoch 91/200\n",
            "1/1 [==============================] - 0s 10ms/step - loss: 3.2103 - mae: 3.2103\n",
            "Epoch 92/200\n",
            "1/1 [==============================] - 0s 12ms/step - loss: 3.1834 - mae: 3.1834\n",
            "Epoch 93/200\n",
            "1/1 [==============================] - 0s 10ms/step - loss: 3.1620 - mae: 3.1620\n",
            "Epoch 94/200\n",
            "1/1 [==============================] - 0s 9ms/step - loss: 3.1473 - mae: 3.1473\n",
            "Epoch 95/200\n",
            "1/1 [==============================] - 0s 11ms/step - loss: 3.1263 - mae: 3.1263\n",
            "Epoch 96/200\n",
            "1/1 [==============================] - 0s 12ms/step - loss: 3.1041 - mae: 3.1041\n",
            "Epoch 97/200\n",
            "1/1 [==============================] - 0s 11ms/step - loss: 3.0863 - mae: 3.0863\n",
            "Epoch 98/200\n",
            "1/1 [==============================] - 0s 10ms/step - loss: 3.0641 - mae: 3.0641\n",
            "Epoch 99/200\n",
            "1/1 [==============================] - 0s 11ms/step - loss: 3.0412 - mae: 3.0412\n",
            "Epoch 100/200\n",
            "1/1 [==============================] - 0s 12ms/step - loss: 3.0252 - mae: 3.0252\n",
            "Epoch 101/200\n",
            "1/1 [==============================] - 0s 13ms/step - loss: 2.9976 - mae: 2.9976\n",
            "Epoch 102/200\n",
            "1/1 [==============================] - 0s 10ms/step - loss: 2.9595 - mae: 2.9595\n",
            "Epoch 103/200\n",
            "1/1 [==============================] - 0s 10ms/step - loss: 2.9630 - mae: 2.9630\n",
            "Epoch 104/200\n",
            "1/1 [==============================] - 0s 11ms/step - loss: 2.9354 - mae: 2.9354\n",
            "Epoch 105/200\n",
            "1/1 [==============================] - 0s 10ms/step - loss: 2.8779 - mae: 2.8779\n",
            "Epoch 106/200\n",
            "1/1 [==============================] - 0s 13ms/step - loss: 2.8590 - mae: 2.8590\n",
            "Epoch 107/200\n",
            "1/1 [==============================] - 0s 14ms/step - loss: 2.8406 - mae: 2.8406\n",
            "Epoch 108/200\n",
            "1/1 [==============================] - 0s 11ms/step - loss: 2.8252 - mae: 2.8252\n",
            "Epoch 109/200\n",
            "1/1 [==============================] - 0s 8ms/step - loss: 2.7753 - mae: 2.7753\n",
            "Epoch 110/200\n",
            "1/1 [==============================] - 0s 11ms/step - loss: 2.7280 - mae: 2.7280\n",
            "Epoch 111/200\n",
            "1/1 [==============================] - 0s 8ms/step - loss: 2.6679 - mae: 2.6679\n",
            "Epoch 112/200\n",
            "1/1 [==============================] - 0s 16ms/step - loss: 2.6428 - mae: 2.6428\n",
            "Epoch 113/200\n",
            "1/1 [==============================] - 0s 9ms/step - loss: 2.6052 - mae: 2.6052\n",
            "Epoch 114/200\n",
            "1/1 [==============================] - 0s 8ms/step - loss: 2.5228 - mae: 2.5228\n",
            "Epoch 115/200\n",
            "1/1 [==============================] - 0s 8ms/step - loss: 2.4479 - mae: 2.4479\n",
            "Epoch 116/200\n",
            "1/1 [==============================] - 0s 10ms/step - loss: 2.4003 - mae: 2.4003\n",
            "Epoch 117/200\n",
            "1/1 [==============================] - 0s 9ms/step - loss: 2.3272 - mae: 2.3272\n",
            "Epoch 118/200\n",
            "1/1 [==============================] - 0s 13ms/step - loss: 2.2284 - mae: 2.2284\n",
            "Epoch 119/200\n",
            "1/1 [==============================] - 0s 12ms/step - loss: 2.1000 - mae: 2.1000\n",
            "Epoch 120/200\n",
            "1/1 [==============================] - 0s 11ms/step - loss: 2.0172 - mae: 2.0172\n",
            "Epoch 121/200\n",
            "1/1 [==============================] - 0s 11ms/step - loss: 1.9335 - mae: 1.9335\n",
            "Epoch 122/200\n",
            "1/1 [==============================] - 0s 12ms/step - loss: 1.8949 - mae: 1.8949\n",
            "Epoch 123/200\n",
            "1/1 [==============================] - 0s 9ms/step - loss: 1.7888 - mae: 1.7888\n",
            "Epoch 124/200\n",
            "1/1 [==============================] - 0s 12ms/step - loss: 1.7254 - mae: 1.7254\n",
            "Epoch 125/200\n",
            "1/1 [==============================] - 0s 12ms/step - loss: 1.6648 - mae: 1.6648\n",
            "Epoch 126/200\n",
            "1/1 [==============================] - 0s 13ms/step - loss: 1.5770 - mae: 1.5770\n",
            "Epoch 127/200\n",
            "1/1 [==============================] - 0s 11ms/step - loss: 1.4650 - mae: 1.4650\n",
            "Epoch 128/200\n",
            "1/1 [==============================] - 0s 9ms/step - loss: 1.3236 - mae: 1.3236\n",
            "Epoch 129/200\n",
            "1/1 [==============================] - 0s 14ms/step - loss: 1.1765 - mae: 1.1765\n",
            "Epoch 130/200\n",
            "1/1 [==============================] - 0s 16ms/step - loss: 1.1146 - mae: 1.1146\n",
            "Epoch 131/200\n",
            "1/1 [==============================] - 0s 10ms/step - loss: 0.9913 - mae: 0.9913\n",
            "Epoch 132/200\n",
            "1/1 [==============================] - 0s 11ms/step - loss: 0.8157 - mae: 0.8157\n",
            "Epoch 133/200\n",
            "1/1 [==============================] - 0s 14ms/step - loss: 0.7402 - mae: 0.7402\n",
            "Epoch 134/200\n",
            "1/1 [==============================] - 0s 12ms/step - loss: 0.6239 - mae: 0.6239\n",
            "Epoch 135/200\n",
            "1/1 [==============================] - 0s 10ms/step - loss: 0.5655 - mae: 0.5655\n",
            "Epoch 136/200\n",
            "1/1 [==============================] - 0s 8ms/step - loss: 0.5605 - mae: 0.5605\n",
            "Epoch 137/200\n",
            "1/1 [==============================] - 0s 10ms/step - loss: 0.5044 - mae: 0.5044\n",
            "Epoch 138/200\n",
            "1/1 [==============================] - 0s 8ms/step - loss: 0.5781 - mae: 0.5781\n",
            "Epoch 139/200\n",
            "1/1 [==============================] - 0s 10ms/step - loss: 0.4654 - mae: 0.4654\n",
            "Epoch 140/200\n",
            "1/1 [==============================] - 0s 8ms/step - loss: 0.5846 - mae: 0.5846\n",
            "Epoch 141/200\n",
            "1/1 [==============================] - 0s 9ms/step - loss: 0.4719 - mae: 0.4719\n",
            "Epoch 142/200\n",
            "1/1 [==============================] - 0s 8ms/step - loss: 0.5513 - mae: 0.5513\n",
            "Epoch 143/200\n",
            "1/1 [==============================] - 0s 10ms/step - loss: 0.5514 - mae: 0.5514\n",
            "Epoch 144/200\n",
            "1/1 [==============================] - 0s 10ms/step - loss: 0.3830 - mae: 0.3830\n",
            "Epoch 145/200\n",
            "1/1 [==============================] - 0s 11ms/step - loss: 0.5254 - mae: 0.5254\n",
            "Epoch 146/200\n",
            "1/1 [==============================] - 0s 10ms/step - loss: 0.3030 - mae: 0.3030\n",
            "Epoch 147/200\n",
            "1/1 [==============================] - 0s 9ms/step - loss: 0.6889 - mae: 0.6889\n",
            "Epoch 148/200\n",
            "1/1 [==============================] - 0s 10ms/step - loss: 0.7715 - mae: 0.7715\n",
            "Epoch 149/200\n",
            "1/1 [==============================] - 0s 11ms/step - loss: 0.3879 - mae: 0.3879\n",
            "Epoch 150/200\n",
            "1/1 [==============================] - 0s 10ms/step - loss: 0.6525 - mae: 0.6525\n",
            "Epoch 151/200\n",
            "1/1 [==============================] - 0s 16ms/step - loss: 0.8927 - mae: 0.8927\n",
            "Epoch 152/200\n",
            "1/1 [==============================] - 0s 14ms/step - loss: 0.8343 - mae: 0.8343\n",
            "Epoch 153/200\n",
            "1/1 [==============================] - 0s 14ms/step - loss: 0.4961 - mae: 0.4961\n",
            "Epoch 154/200\n",
            "1/1 [==============================] - 0s 15ms/step - loss: 0.5402 - mae: 0.5402\n",
            "Epoch 155/200\n",
            "1/1 [==============================] - 0s 14ms/step - loss: 0.7313 - mae: 0.7313\n",
            "Epoch 156/200\n",
            "1/1 [==============================] - 0s 9ms/step - loss: 0.6354 - mae: 0.6354\n",
            "Epoch 157/200\n",
            "1/1 [==============================] - 0s 10ms/step - loss: 0.3716 - mae: 0.3716\n",
            "Epoch 158/200\n",
            "1/1 [==============================] - 0s 10ms/step - loss: 0.4620 - mae: 0.4620\n",
            "Epoch 159/200\n",
            "1/1 [==============================] - 0s 9ms/step - loss: 0.6379 - mae: 0.6379\n",
            "Epoch 160/200\n",
            "1/1 [==============================] - 0s 11ms/step - loss: 0.5737 - mae: 0.5737\n",
            "Epoch 161/200\n",
            "1/1 [==============================] - 0s 10ms/step - loss: 0.3692 - mae: 0.3692\n",
            "Epoch 162/200\n",
            "1/1 [==============================] - 0s 9ms/step - loss: 0.4031 - mae: 0.4031\n",
            "Epoch 163/200\n",
            "1/1 [==============================] - 0s 9ms/step - loss: 0.4737 - mae: 0.4737\n",
            "Epoch 164/200\n",
            "1/1 [==============================] - 0s 10ms/step - loss: 0.3484 - mae: 0.3484\n",
            "Epoch 165/200\n",
            "1/1 [==============================] - 0s 10ms/step - loss: 0.2872 - mae: 0.2872\n",
            "Epoch 166/200\n",
            "1/1 [==============================] - 0s 8ms/step - loss: 0.4053 - mae: 0.4053\n",
            "Epoch 167/200\n",
            "1/1 [==============================] - 0s 8ms/step - loss: 0.3259 - mae: 0.3259\n",
            "Epoch 168/200\n",
            "1/1 [==============================] - 0s 13ms/step - loss: 0.1816 - mae: 0.1816\n",
            "Epoch 169/200\n",
            "1/1 [==============================] - 0s 8ms/step - loss: 0.2495 - mae: 0.2495\n",
            "Epoch 170/200\n",
            "1/1 [==============================] - 0s 13ms/step - loss: 0.1722 - mae: 0.1722\n",
            "Epoch 171/200\n",
            "1/1 [==============================] - 0s 14ms/step - loss: 0.1932 - mae: 0.1932\n",
            "Epoch 172/200\n",
            "1/1 [==============================] - 0s 14ms/step - loss: 0.0920 - mae: 0.0920\n",
            "Epoch 173/200\n",
            "1/1 [==============================] - 0s 7ms/step - loss: 0.2400 - mae: 0.2400\n",
            "Epoch 174/200\n",
            "1/1 [==============================] - 0s 7ms/step - loss: 0.1863 - mae: 0.1863\n",
            "Epoch 175/200\n",
            "1/1 [==============================] - 0s 8ms/step - loss: 0.1308 - mae: 0.1308\n",
            "Epoch 176/200\n",
            "1/1 [==============================] - 0s 9ms/step - loss: 0.1118 - mae: 0.1118\n",
            "Epoch 177/200\n",
            "1/1 [==============================] - 0s 9ms/step - loss: 0.2257 - mae: 0.2257\n",
            "Epoch 178/200\n",
            "1/1 [==============================] - 0s 10ms/step - loss: 0.2034 - mae: 0.2034\n",
            "Epoch 179/200\n",
            "1/1 [==============================] - 0s 9ms/step - loss: 0.1339 - mae: 0.1339\n",
            "Epoch 180/200\n",
            "1/1 [==============================] - 0s 10ms/step - loss: 0.1696 - mae: 0.1696\n",
            "Epoch 181/200\n",
            "1/1 [==============================] - 0s 13ms/step - loss: 0.2146 - mae: 0.2146\n",
            "Epoch 182/200\n",
            "1/1 [==============================] - 0s 9ms/step - loss: 0.1166 - mae: 0.1166\n",
            "Epoch 183/200\n",
            "1/1 [==============================] - 0s 15ms/step - loss: 0.2362 - mae: 0.2362\n",
            "Epoch 184/200\n",
            "1/1 [==============================] - 0s 9ms/step - loss: 0.2203 - mae: 0.2203\n",
            "Epoch 185/200\n",
            "1/1 [==============================] - 0s 9ms/step - loss: 0.1479 - mae: 0.1479\n",
            "Epoch 186/200\n",
            "1/1 [==============================] - 0s 22ms/step - loss: 0.1993 - mae: 0.1993\n",
            "Epoch 187/200\n",
            "1/1 [==============================] - 0s 13ms/step - loss: 0.1664 - mae: 0.1664\n",
            "Epoch 188/200\n",
            "1/1 [==============================] - 0s 16ms/step - loss: 0.1168 - mae: 0.1168\n",
            "Epoch 189/200\n",
            "1/1 [==============================] - 0s 15ms/step - loss: 0.2070 - mae: 0.2070\n",
            "Epoch 190/200\n",
            "1/1 [==============================] - 0s 11ms/step - loss: 0.2403 - mae: 0.2403\n",
            "Epoch 191/200\n",
            "1/1 [==============================] - 0s 11ms/step - loss: 0.0558 - mae: 0.0558\n",
            "Epoch 192/200\n",
            "1/1 [==============================] - 0s 9ms/step - loss: 0.0851 - mae: 0.0851\n",
            "Epoch 193/200\n",
            "1/1 [==============================] - 0s 11ms/step - loss: 0.0819 - mae: 0.0819\n",
            "Epoch 194/200\n",
            "1/1 [==============================] - 0s 12ms/step - loss: 0.0926 - mae: 0.0926\n",
            "Epoch 195/200\n",
            "1/1 [==============================] - 0s 10ms/step - loss: 0.0868 - mae: 0.0868\n",
            "Epoch 196/200\n",
            "1/1 [==============================] - 0s 11ms/step - loss: 0.0950 - mae: 0.0950\n",
            "Epoch 197/200\n",
            "1/1 [==============================] - 0s 11ms/step - loss: 0.1004 - mae: 0.1004\n",
            "Epoch 198/200\n",
            "1/1 [==============================] - 0s 11ms/step - loss: 0.1687 - mae: 0.1687\n",
            "Epoch 199/200\n",
            "1/1 [==============================] - 0s 8ms/step - loss: 0.1297 - mae: 0.1297\n",
            "Epoch 200/200\n",
            "1/1 [==============================] - 0s 11ms/step - loss: 0.0660 - mae: 0.0660\n"
          ]
        },
        {
          "output_type": "execute_result",
          "data": {
            "text/plain": [
              "<keras.callbacks.History at 0x7f0d3e8a90d0>"
            ]
          },
          "metadata": {},
          "execution_count": 17
        }
      ]
    },
    {
      "cell_type": "code",
      "source": [
        "# Lets predict\n",
        "\n",
        "model.predict([25.0])"
      ],
      "metadata": {
        "colab": {
          "base_uri": "https://localhost:8080/"
        },
        "id": "ylEPI1yUvYST",
        "outputId": "035853e3-e707-488d-b8bf-ef0554ebf5b3"
      },
      "execution_count": 18,
      "outputs": [
        {
          "output_type": "execute_result",
          "data": {
            "text/plain": [
              "array([[37.61111]], dtype=float32)"
            ]
          },
          "metadata": {},
          "execution_count": 18
        }
      ]
    },
    {
      "cell_type": "markdown",
      "source": [
        "## Evaluating a Model\n",
        "\n",
        "In practice, a typical workflow you will go through when building a neural networks is:\n",
        "\n",
        "```\n",
        "Building a model -> fit it -> evaluate it -> tweak a model -> fit it -> evaluate it -> tweak a model -> fit it -> evaluate it... and so on\n",
        "```"
      ],
      "metadata": {
        "id": "fJhhWybBw8oP"
      }
    },
    {
      "cell_type": "markdown",
      "source": [
        "When it comes to evaluation... there are 3 words you should memorize:\n",
        "> \"Visualize, Visualize, Visualize\"\n",
        "\n",
        "It's good idea to visualize:\n",
        "* **The data** - What data are we working with? Whats does it look like?\n",
        "* **The model itself** - What dows our model look like?\n",
        "* **The training of a model** - How does a model perform while it learns?\n",
        "* **The predictions of the model** - How do the predictions of a model line up against the ground truth (the original labels)?"
      ],
      "metadata": {
        "id": "vA4tFTEiyVNs"
      }
    },
    {
      "cell_type": "code",
      "source": [
        "# Make a bigger dataset\n",
        "\n",
        "X = tf.range(-100,100,4)\n",
        "X"
      ],
      "metadata": {
        "colab": {
          "base_uri": "https://localhost:8080/"
        },
        "id": "HD21LKtbzd1L",
        "outputId": "3a959a85-1830-471a-919c-899e37056127"
      },
      "execution_count": 19,
      "outputs": [
        {
          "output_type": "execute_result",
          "data": {
            "text/plain": [
              "<tf.Tensor: shape=(50,), dtype=int32, numpy=\n",
              "array([-100,  -96,  -92,  -88,  -84,  -80,  -76,  -72,  -68,  -64,  -60,\n",
              "        -56,  -52,  -48,  -44,  -40,  -36,  -32,  -28,  -24,  -20,  -16,\n",
              "        -12,   -8,   -4,    0,    4,    8,   12,   16,   20,   24,   28,\n",
              "         32,   36,   40,   44,   48,   52,   56,   60,   64,   68,   72,\n",
              "         76,   80,   84,   88,   92,   96], dtype=int32)>"
            ]
          },
          "metadata": {},
          "execution_count": 19
        }
      ]
    },
    {
      "cell_type": "code",
      "source": [
        "# Make labels for the dataset\n",
        "y = X + 10\n",
        "y"
      ],
      "metadata": {
        "colab": {
          "base_uri": "https://localhost:8080/"
        },
        "id": "PFmmu6MDzxXj",
        "outputId": "9fc3d28e-533f-4d90-965c-528929351332"
      },
      "execution_count": 20,
      "outputs": [
        {
          "output_type": "execute_result",
          "data": {
            "text/plain": [
              "<tf.Tensor: shape=(50,), dtype=int32, numpy=\n",
              "array([-90, -86, -82, -78, -74, -70, -66, -62, -58, -54, -50, -46, -42,\n",
              "       -38, -34, -30, -26, -22, -18, -14, -10,  -6,  -2,   2,   6,  10,\n",
              "        14,  18,  22,  26,  30,  34,  38,  42,  46,  50,  54,  58,  62,\n",
              "        66,  70,  74,  78,  82,  86,  90,  94,  98, 102, 106], dtype=int32)>"
            ]
          },
          "metadata": {},
          "execution_count": 20
        }
      ]
    },
    {
      "cell_type": "code",
      "source": [
        "# Visualize the data\n",
        "\n",
        "import matplotlib.pyplot as plt\n",
        "\n",
        "plt.scatter(X,y)\n"
      ],
      "metadata": {
        "colab": {
          "base_uri": "https://localhost:8080/",
          "height": 282
        },
        "id": "dCodl4AN0Dku",
        "outputId": "5f0624ca-1d77-46bf-f5aa-e5c7ed545012"
      },
      "execution_count": 21,
      "outputs": [
        {
          "output_type": "execute_result",
          "data": {
            "text/plain": [
              "<matplotlib.collections.PathCollection at 0x7f0d3e8c1d90>"
            ]
          },
          "metadata": {},
          "execution_count": 21
        },
        {
          "output_type": "display_data",
          "data": {
            "text/plain": [
              "<Figure size 432x288 with 1 Axes>"
            ],
            "image/png": "[encoded data removed]"
          },
          "metadata": {
            "needs_background": "light"
          }
        }
      ]
    },
    {
      "cell_type": "markdown",
      "source": [
        "### The 3 sets...\n",
        "\n",
        "* **Training set** - The model learns from this data, which is typically 70-80% of the total data you have available.\n",
        "* **Validation Set** - The model gets tuned on this data, which is typically 10-15% of the data available.\n",
        "* **Test Set** -  The model gest evaluated on this data to test what is has learned, this set is typically 10-15% of the total data available.\n",
        "\n"
      ],
      "metadata": {
        "id": "laEa16cg9eRI"
      }
    },
    {
      "cell_type": "code",
      "source": [
        "# Check the length of how many samples we have\n",
        "len(X)"
      ],
      "metadata": {
        "colab": {
          "base_uri": "https://localhost:8080/"
        },
        "id": "KfDawuHUAO7q",
        "outputId": "8cbac6ba-5bdc-4555-9458-e23062078b85"
      },
      "execution_count": 22,
      "outputs": [
        {
          "output_type": "execute_result",
          "data": {
            "text/plain": [
              "50"
            ]
          },
          "metadata": {},
          "execution_count": 22
        }
      ]
    },
    {
      "cell_type": "code",
      "source": [
        "# Splot the data into train and test sets\n",
        "\n",
        "X_train = X[:40] # First 40 are training samples (80% of the data)\n",
        "y_train = y[:40]\n",
        "\n",
        "\n",
        "X_test = X[40:] # The last 10 are testing samples (20% of the data)\n",
        "y_test = y[40:]\n",
        "\n",
        "len(X_train), len(X_test), len(y_train), len(y_test)"
      ],
      "metadata": {
        "colab": {
          "base_uri": "https://localhost:8080/"
        },
        "id": "g9HRRKYjAgDd",
        "outputId": "64ce1cf3-dd6e-43f8-ab65-92196d36f550"
      },
      "execution_count": 23,
      "outputs": [
        {
          "output_type": "execute_result",
          "data": {
            "text/plain": [
              "(40, 10, 40, 10)"
            ]
          },
          "metadata": {},
          "execution_count": 23
        }
      ]
    },
    {
      "cell_type": "markdown",
      "source": [
        "### Visualizing the data\n",
        "Now we have got our data in training and test sets... lets visualize it again!"
      ],
      "metadata": {
        "id": "Vw8PH2s-D0xm"
      }
    },
    {
      "cell_type": "code",
      "source": [
        "plt.figure(figsize=(10,7))\n",
        "\n",
        "#Plot training data in blue\n",
        "plt.scatter(X_train, y_train, c=\"b\", label=\"Training data\")\n",
        "\n",
        "# Plot test data in green \n",
        "plt.scatter(X_test, y_test, c= \"g\", label=\"Testing data\")\n",
        "\n",
        "# Show legend\n",
        "plt.legend();"
      ],
      "metadata": {
        "colab": {
          "base_uri": "https://localhost:8080/",
          "height": 428
        },
        "id": "rSiyj_ocD2CA",
        "outputId": "f4529099-e6fd-476b-a209-dd15f42ee73a"
      },
      "execution_count": 24,
      "outputs": [
        {
          "output_type": "display_data",
          "data": {
            "text/plain": [
              "<Figure size 720x504 with 1 Axes>"
            ],
            "image/png": "[encoded data removed]"
          },
          "metadata": {
            "needs_background": "light"
          }
        }
      ]
    },
    {
      "cell_type": "code",
      "source": [
        "# Lets have a look at how to build a neural network for our data\n",
        "\n",
        "# 1. Create a model\n",
        "model = tf.keras.Sequential([\n",
        "  tf.keras.layers.Dense(1)                             \n",
        "])\n",
        "\n",
        "# 2. Compile the model\n",
        "\n",
        "model.compile(loss=[\"mae\"],\n",
        "              optimizer=tf.keras.optimizers.SGD(),\n",
        "              metrics=[\"mae\"])\n",
        "\n",
        "# 3. Fit the model\n",
        "model.fit(tf.expand_dims(X_train, axis=-1),y_train, epochs=100)"
      ],
      "metadata": {
        "colab": {
          "base_uri": "https://localhost:8080/"
        },
        "id": "FdF3ap1kFnIQ",
        "outputId": "553bea10-23cf-4cc4-fb33-6382845c09c0"
      },
      "execution_count": 25,
      "outputs": [
        {
          "output_type": "stream",
          "name": "stdout",
          "text": [
            "Epoch 1/100\n",
            "2/2 [==============================] - 0s 5ms/step - loss: 47.1280 - mae: 47.1280\n",
            "Epoch 2/100\n",
            "2/2 [==============================] - 0s 6ms/step - loss: 15.7179 - mae: 15.7179\n",
            "Epoch 3/100\n",
            "2/2 [==============================] - 0s 6ms/step - loss: 15.0809 - mae: 15.0809\n",
            "Epoch 4/100\n",
            "2/2 [==============================] - 0s 5ms/step - loss: 8.1832 - mae: 8.1832\n",
            "Epoch 5/100\n",
            "2/2 [==============================] - 0s 6ms/step - loss: 10.6664 - mae: 10.6664\n",
            "Epoch 6/100\n",
            "2/2 [==============================] - 0s 5ms/step - loss: 9.8707 - mae: 9.8707\n",
            "Epoch 7/100\n",
            "2/2 [==============================] - 0s 5ms/step - loss: 8.9399 - mae: 8.9399\n",
            "Epoch 8/100\n",
            "2/2 [==============================] - 0s 5ms/step - loss: 9.0851 - mae: 9.0851\n",
            "Epoch 9/100\n",
            "2/2 [==============================] - 0s 5ms/step - loss: 19.6577 - mae: 19.6577\n",
            "Epoch 10/100\n",
            "2/2 [==============================] - 0s 5ms/step - loss: 10.6254 - mae: 10.6254\n",
            "Epoch 11/100\n",
            "2/2 [==============================] - 0s 7ms/step - loss: 8.6032 - mae: 8.6032\n",
            "Epoch 12/100\n",
            "2/2 [==============================] - 0s 6ms/step - loss: 11.1309 - mae: 11.1309\n",
            "Epoch 13/100\n",
            "2/2 [==============================] - 0s 7ms/step - loss: 12.1580 - mae: 12.1580\n",
            "Epoch 14/100\n",
            "2/2 [==============================] - 0s 6ms/step - loss: 14.1578 - mae: 14.1578\n",
            "Epoch 15/100\n",
            "2/2 [==============================] - 0s 5ms/step - loss: 11.5599 - mae: 11.5599\n",
            "Epoch 16/100\n",
            "2/2 [==============================] - 0s 8ms/step - loss: 8.5065 - mae: 8.5065\n",
            "Epoch 17/100\n",
            "2/2 [==============================] - 0s 6ms/step - loss: 13.5469 - mae: 13.5469\n",
            "Epoch 18/100\n",
            "2/2 [==============================] - 0s 6ms/step - loss: 11.3503 - mae: 11.3503\n",
            "Epoch 19/100\n",
            "2/2 [==============================] - 0s 6ms/step - loss: 18.0721 - mae: 18.0721\n",
            "Epoch 20/100\n",
            "2/2 [==============================] - 0s 7ms/step - loss: 15.2056 - mae: 15.2056\n",
            "Epoch 21/100\n",
            "2/2 [==============================] - 0s 7ms/step - loss: 11.1545 - mae: 11.1545\n",
            "Epoch 22/100\n",
            "2/2 [==============================] - 0s 6ms/step - loss: 8.2786 - mae: 8.2786\n",
            "Epoch 23/100\n",
            "2/2 [==============================] - 0s 6ms/step - loss: 9.4425 - mae: 9.4425\n",
            "Epoch 24/100\n",
            "2/2 [==============================] - 0s 5ms/step - loss: 7.7000 - mae: 7.7000\n",
            "Epoch 25/100\n",
            "2/2 [==============================] - 0s 6ms/step - loss: 12.9999 - mae: 12.9999\n",
            "Epoch 26/100\n",
            "2/2 [==============================] - 0s 4ms/step - loss: 16.5749 - mae: 16.5749\n",
            "Epoch 27/100\n",
            "2/2 [==============================] - 0s 5ms/step - loss: 13.2958 - mae: 13.2958\n",
            "Epoch 28/100\n",
            "2/2 [==============================] - 0s 5ms/step - loss: 14.4198 - mae: 14.4198\n",
            "Epoch 29/100\n",
            "2/2 [==============================] - 0s 8ms/step - loss: 10.1213 - mae: 10.1213\n",
            "Epoch 30/100\n",
            "2/2 [==============================] - 0s 6ms/step - loss: 16.5781 - mae: 16.5781\n",
            "Epoch 31/100\n",
            "2/2 [==============================] - 0s 4ms/step - loss: 23.4375 - mae: 23.4375\n",
            "Epoch 32/100\n",
            "2/2 [==============================] - 0s 7ms/step - loss: 7.3760 - mae: 7.3760\n",
            "Epoch 33/100\n",
            "2/2 [==============================] - 0s 5ms/step - loss: 9.8011 - mae: 9.8011\n",
            "Epoch 34/100\n",
            "2/2 [==============================] - 0s 5ms/step - loss: 12.2384 - mae: 12.2384\n",
            "Epoch 35/100\n",
            "2/2 [==============================] - 0s 6ms/step - loss: 11.1877 - mae: 11.1877\n",
            "Epoch 36/100\n",
            "2/2 [==============================] - 0s 6ms/step - loss: 13.4297 - mae: 13.4297\n",
            "Epoch 37/100\n",
            "2/2 [==============================] - 0s 5ms/step - loss: 9.4467 - mae: 9.4467\n",
            "Epoch 38/100\n",
            "2/2 [==============================] - 0s 5ms/step - loss: 10.0967 - mae: 10.0967\n",
            "Epoch 39/100\n",
            "2/2 [==============================] - 0s 6ms/step - loss: 8.9744 - mae: 8.9744\n",
            "Epoch 40/100\n",
            "2/2 [==============================] - 0s 6ms/step - loss: 9.6017 - mae: 9.6017\n",
            "Epoch 41/100\n",
            "2/2 [==============================] - 0s 5ms/step - loss: 10.5607 - mae: 10.5607\n",
            "Epoch 42/100\n",
            "2/2 [==============================] - 0s 4ms/step - loss: 10.6124 - mae: 10.6124\n",
            "Epoch 43/100\n",
            "2/2 [==============================] - 0s 4ms/step - loss: 7.2194 - mae: 7.2194\n",
            "Epoch 44/100\n",
            "2/2 [==============================] - 0s 5ms/step - loss: 8.0169 - mae: 8.0169\n",
            "Epoch 45/100\n",
            "2/2 [==============================] - 0s 5ms/step - loss: 9.8157 - mae: 9.8157\n",
            "Epoch 46/100\n",
            "2/2 [==============================] - 0s 5ms/step - loss: 8.8938 - mae: 8.8938\n",
            "Epoch 47/100\n",
            "2/2 [==============================] - 0s 5ms/step - loss: 7.5776 - mae: 7.5776\n",
            "Epoch 48/100\n",
            "2/2 [==============================] - 0s 10ms/step - loss: 8.5576 - mae: 8.5576\n",
            "Epoch 49/100\n",
            "2/2 [==============================] - 0s 5ms/step - loss: 10.0247 - mae: 10.0247\n",
            "Epoch 50/100\n",
            "2/2 [==============================] - 0s 5ms/step - loss: 9.0060 - mae: 9.0060\n",
            "Epoch 51/100\n",
            "2/2 [==============================] - 0s 4ms/step - loss: 10.6985 - mae: 10.6985\n",
            "Epoch 52/100\n",
            "2/2 [==============================] - 0s 4ms/step - loss: 15.2824 - mae: 15.2824\n",
            "Epoch 53/100\n",
            "2/2 [==============================] - 0s 5ms/step - loss: 14.3081 - mae: 14.3081\n",
            "Epoch 54/100\n",
            "2/2 [==============================] - 0s 4ms/step - loss: 21.5765 - mae: 21.5765\n",
            "Epoch 55/100\n",
            "2/2 [==============================] - 0s 4ms/step - loss: 16.0287 - mae: 16.0287\n",
            "Epoch 56/100\n",
            "2/2 [==============================] - 0s 5ms/step - loss: 10.2693 - mae: 10.2693\n",
            "Epoch 57/100\n",
            "2/2 [==============================] - 0s 5ms/step - loss: 9.7914 - mae: 9.7914\n",
            "Epoch 58/100\n",
            "2/2 [==============================] - 0s 5ms/step - loss: 9.0755 - mae: 9.0755\n",
            "Epoch 59/100\n",
            "2/2 [==============================] - 0s 5ms/step - loss: 8.2788 - mae: 8.2788\n",
            "Epoch 60/100\n",
            "2/2 [==============================] - 0s 5ms/step - loss: 9.3741 - mae: 9.3741\n",
            "Epoch 61/100\n",
            "2/2 [==============================] - 0s 5ms/step - loss: 11.1947 - mae: 11.1947\n",
            "Epoch 62/100\n",
            "2/2 [==============================] - 0s 5ms/step - loss: 12.0570 - mae: 12.0570\n",
            "Epoch 63/100\n",
            "2/2 [==============================] - 0s 6ms/step - loss: 7.2787 - mae: 7.2787\n",
            "Epoch 64/100\n",
            "2/2 [==============================] - 0s 5ms/step - loss: 12.4562 - mae: 12.4562\n",
            "Epoch 65/100\n",
            "2/2 [==============================] - 0s 6ms/step - loss: 10.5305 - mae: 10.5305\n",
            "Epoch 66/100\n",
            "2/2 [==============================] - 0s 6ms/step - loss: 15.5891 - mae: 15.5891\n",
            "Epoch 67/100\n",
            "2/2 [==============================] - 0s 6ms/step - loss: 9.9992 - mae: 9.9992\n",
            "Epoch 68/100\n",
            "2/2 [==============================] - 0s 5ms/step - loss: 8.7212 - mae: 8.7212\n",
            "Epoch 69/100\n",
            "2/2 [==============================] - 0s 6ms/step - loss: 13.4660 - mae: 13.4660\n",
            "Epoch 70/100\n",
            "2/2 [==============================] - 0s 5ms/step - loss: 7.4771 - mae: 7.4771\n",
            "Epoch 71/100\n",
            "2/2 [==============================] - 0s 5ms/step - loss: 12.2574 - mae: 12.2574\n",
            "Epoch 72/100\n",
            "2/2 [==============================] - 0s 5ms/step - loss: 8.5251 - mae: 8.5251\n",
            "Epoch 73/100\n",
            "2/2 [==============================] - 0s 5ms/step - loss: 7.0452 - mae: 7.0452\n",
            "Epoch 74/100\n",
            "2/2 [==============================] - 0s 5ms/step - loss: 9.9101 - mae: 9.9101\n",
            "Epoch 75/100\n",
            "2/2 [==============================] - 0s 5ms/step - loss: 9.9603 - mae: 9.9603\n",
            "Epoch 76/100\n",
            "2/2 [==============================] - 0s 5ms/step - loss: 10.1228 - mae: 10.1228\n",
            "Epoch 77/100\n",
            "2/2 [==============================] - 0s 6ms/step - loss: 12.9858 - mae: 12.9858\n",
            "Epoch 78/100\n",
            "2/2 [==============================] - 0s 5ms/step - loss: 10.9060 - mae: 10.9060\n",
            "Epoch 79/100\n",
            "2/2 [==============================] - 0s 5ms/step - loss: 15.3932 - mae: 15.3932\n",
            "Epoch 80/100\n",
            "2/2 [==============================] - 0s 5ms/step - loss: 11.7290 - mae: 11.7290\n",
            "Epoch 81/100\n",
            "2/2 [==============================] - 0s 5ms/step - loss: 9.2663 - mae: 9.2663\n",
            "Epoch 82/100\n",
            "2/2 [==============================] - 0s 5ms/step - loss: 12.7280 - mae: 12.7280\n",
            "Epoch 83/100\n",
            "2/2 [==============================] - 0s 5ms/step - loss: 8.2837 - mae: 8.2837\n",
            "Epoch 84/100\n",
            "2/2 [==============================] - 0s 6ms/step - loss: 7.3144 - mae: 7.3144\n",
            "Epoch 85/100\n",
            "2/2 [==============================] - 0s 5ms/step - loss: 10.4807 - mae: 10.4807\n",
            "Epoch 86/100\n",
            "2/2 [==============================] - 0s 5ms/step - loss: 9.1503 - mae: 9.1503\n",
            "Epoch 87/100\n",
            "2/2 [==============================] - 0s 5ms/step - loss: 11.8652 - mae: 11.8652\n",
            "Epoch 88/100\n",
            "2/2 [==============================] - 0s 5ms/step - loss: 10.4746 - mae: 10.4746\n",
            "Epoch 89/100\n",
            "2/2 [==============================] - 0s 5ms/step - loss: 6.9760 - mae: 6.9760\n",
            "Epoch 90/100\n",
            "2/2 [==============================] - 0s 5ms/step - loss: 13.8007 - mae: 13.8007\n",
            "Epoch 91/100\n",
            "2/2 [==============================] - 0s 5ms/step - loss: 7.8776 - mae: 7.8776\n",
            "Epoch 92/100\n",
            "2/2 [==============================] - 0s 5ms/step - loss: 7.4612 - mae: 7.4612\n",
            "Epoch 93/100\n",
            "2/2 [==============================] - 0s 5ms/step - loss: 9.1702 - mae: 9.1702\n",
            "Epoch 94/100\n",
            "2/2 [==============================] - 0s 10ms/step - loss: 8.5704 - mae: 8.5704\n",
            "Epoch 95/100\n",
            "2/2 [==============================] - 0s 5ms/step - loss: 11.5238 - mae: 11.5238\n",
            "Epoch 96/100\n",
            "2/2 [==============================] - 0s 5ms/step - loss: 10.2750 - mae: 10.2750\n",
            "Epoch 97/100\n",
            "2/2 [==============================] - 0s 6ms/step - loss: 7.6980 - mae: 7.6980\n",
            "Epoch 98/100\n",
            "2/2 [==============================] - 0s 5ms/step - loss: 8.6314 - mae: 8.6314\n",
            "Epoch 99/100\n",
            "2/2 [==============================] - 0s 6ms/step - loss: 9.4122 - mae: 9.4122\n",
            "Epoch 100/100\n",
            "2/2 [==============================] - 0s 7ms/step - loss: 8.8524 - mae: 8.8524\n"
          ]
        },
        {
          "output_type": "execute_result",
          "data": {
            "text/plain": [
              "<keras.callbacks.History at 0x7f0d3b76af10>"
            ]
          },
          "metadata": {},
          "execution_count": 25
        }
      ]
    },
    {
      "cell_type": "markdown",
      "source": [
        "## Visualizing the model"
      ],
      "metadata": {
        "id": "F8OCdJjKHfNL"
      }
    },
    {
      "cell_type": "code",
      "source": [
        "model.summary()"
      ],
      "metadata": {
        "colab": {
          "base_uri": "https://localhost:8080/"
        },
        "id": "eRga_QJRHiH1",
        "outputId": "387c591b-1f5e-4d9e-f422-cba071fb22a6"
      },
      "execution_count": 26,
      "outputs": [
        {
          "output_type": "stream",
          "name": "stdout",
          "text": [
            "Model: \"sequential_3\"\n",
            "_________________________________________________________________\n",
            " Layer (type)                Output Shape              Param #   \n",
            "=================================================================\n",
            " dense_6 (Dense)             (None, 1)                 2         \n",
            "                                                                 \n",
            "=================================================================\n",
            "Total params: 2\n",
            "Trainable params: 2\n",
            "Non-trainable params: 0\n",
            "_________________________________________________________________\n"
          ]
        }
      ]
    },
    {
      "cell_type": "code",
      "source": [
        "# Lets create a model wich builds automatically by defining the input_shape argument in the first layer\n",
        "\n",
        "tf.random.set_seed(42)\n",
        "\n",
        "# 1. Create the model\n",
        "model = tf.keras.Sequential([\n",
        "  tf.keras.layers.Dense(10,input_shape=[1], name=\"input_layer\"),\n",
        "  tf.keras.layers.Dense(1, name=\"output_layer\")                             \n",
        "], name=\"Model_Name\")\n",
        "\n",
        "\n",
        "# 2. Compile the model\n",
        "\n",
        "model.compile(loss=\"mae\",\n",
        "              optimizer=tf.keras.optimizers.SGD(),\n",
        "              metrics=[\"mae\"])"
      ],
      "metadata": {
        "id": "JEP3QLrNH37K"
      },
      "execution_count": 27,
      "outputs": []
    },
    {
      "cell_type": "code",
      "source": [
        "model.summary()"
      ],
      "metadata": {
        "colab": {
          "base_uri": "https://localhost:8080/"
        },
        "id": "CO9zseMRJRMS",
        "outputId": "21ed37b1-3cdc-4726-9173-9b4f06c30119"
      },
      "execution_count": 28,
      "outputs": [
        {
          "output_type": "stream",
          "name": "stdout",
          "text": [
            "Model: \"Model_Name\"\n",
            "_________________________________________________________________\n",
            " Layer (type)                Output Shape              Param #   \n",
            "=================================================================\n",
            " input_layer (Dense)         (None, 10)                20        \n",
            "                                                                 \n",
            " output_layer (Dense)        (None, 1)                 11        \n",
            "                                                                 \n",
            "=================================================================\n",
            "Total params: 31\n",
            "Trainable params: 31\n",
            "Non-trainable params: 0\n",
            "_________________________________________________________________\n"
          ]
        }
      ]
    },
    {
      "cell_type": "markdown",
      "source": [
        "* **Total params** - Total number of parameters in the model.\n",
        "* **Trainablle paramters** - These are the parameters (patterns) the model can update as it trains.\n",
        "* **Non-Trainable params** _ These are the parameters are not updated during training (this is typical when you bring in alreadu learn patterns or paraemters from other models during **transfer learning**)\n",
        "\n",
        "**Resource:** For a more in-depth overview of the trainable paramters within a layer, check out MITs introduction to deep learning video."
      ],
      "metadata": {
        "id": "TtlR95iNJi7N"
      }
    },
    {
      "cell_type": "code",
      "source": [
        "# 3. Fit the model\n",
        "model.fit(tf.expand_dims(X_train, axis=-1),y_train, epochs=100, verbose=1) #verbose is to show or not the results"
      ],
      "metadata": {
        "colab": {
          "base_uri": "https://localhost:8080/"
        },
        "id": "D10wFP0YO3nS",
        "outputId": "80d80f68-61ad-4683-db9d-bfa8d1c18cdb"
      },
      "execution_count": 29,
      "outputs": [
        {
          "output_type": "stream",
          "name": "stdout",
          "text": [
            "Epoch 1/100\n",
            "2/2 [==============================] - 0s 11ms/step - loss: 27.4058 - mae: 27.4058\n",
            "Epoch 2/100\n",
            "2/2 [==============================] - 0s 7ms/step - loss: 24.6339 - mae: 24.6339\n",
            "Epoch 3/100\n",
            "2/2 [==============================] - 0s 6ms/step - loss: 29.8935 - mae: 29.8935\n",
            "Epoch 4/100\n",
            "2/2 [==============================] - 0s 5ms/step - loss: 27.4055 - mae: 27.4055\n",
            "Epoch 5/100\n",
            "2/2 [==============================] - 0s 9ms/step - loss: 14.9463 - mae: 14.9463\n",
            "Epoch 6/100\n",
            "2/2 [==============================] - 0s 6ms/step - loss: 11.8819 - mae: 11.8819\n",
            "Epoch 7/100\n",
            "2/2 [==============================] - 0s 5ms/step - loss: 11.1988 - mae: 11.1988\n",
            "Epoch 8/100\n",
            "2/2 [==============================] - 0s 5ms/step - loss: 11.0910 - mae: 11.0910\n",
            "Epoch 9/100\n",
            "2/2 [==============================] - 0s 5ms/step - loss: 40.4763 - mae: 40.4763\n",
            "Epoch 10/100\n",
            "2/2 [==============================] - 0s 5ms/step - loss: 27.8688 - mae: 27.8688\n",
            "Epoch 11/100\n",
            "2/2 [==============================] - 0s 5ms/step - loss: 10.2473 - mae: 10.2473\n",
            "Epoch 12/100\n",
            "2/2 [==============================] - 0s 5ms/step - loss: 25.2803 - mae: 25.2803\n",
            "Epoch 13/100\n",
            "2/2 [==============================] - 0s 5ms/step - loss: 16.9897 - mae: 16.9897\n",
            "Epoch 14/100\n",
            "2/2 [==============================] - 0s 8ms/step - loss: 25.9217 - mae: 25.9217\n",
            "Epoch 15/100\n",
            "2/2 [==============================] - 0s 6ms/step - loss: 17.9948 - mae: 17.9948\n",
            "Epoch 16/100\n",
            "2/2 [==============================] - 0s 8ms/step - loss: 7.3510 - mae: 7.3510\n",
            "Epoch 17/100\n",
            "2/2 [==============================] - 0s 5ms/step - loss: 10.8636 - mae: 10.8636\n",
            "Epoch 18/100\n",
            "2/2 [==============================] - 0s 7ms/step - loss: 19.5304 - mae: 19.5304\n",
            "Epoch 19/100\n",
            "2/2 [==============================] - 0s 7ms/step - loss: 10.3469 - mae: 10.3469\n",
            "Epoch 20/100\n",
            "2/2 [==============================] - 0s 7ms/step - loss: 17.6985 - mae: 17.6985\n",
            "Epoch 21/100\n",
            "2/2 [==============================] - 0s 5ms/step - loss: 15.8984 - mae: 15.8984\n",
            "Epoch 22/100\n",
            "2/2 [==============================] - 0s 8ms/step - loss: 14.1991 - mae: 14.1991\n",
            "Epoch 23/100\n",
            "2/2 [==============================] - 0s 6ms/step - loss: 8.7720 - mae: 8.7720\n",
            "Epoch 24/100\n",
            "2/2 [==============================] - 0s 6ms/step - loss: 11.0570 - mae: 11.0570\n",
            "Epoch 25/100\n",
            "2/2 [==============================] - 0s 5ms/step - loss: 12.6838 - mae: 12.6838\n",
            "Epoch 26/100\n",
            "2/2 [==============================] - 0s 6ms/step - loss: 26.1877 - mae: 26.1877\n",
            "Epoch 27/100\n",
            "2/2 [==============================] - 0s 6ms/step - loss: 11.7432 - mae: 11.7432\n",
            "Epoch 28/100\n",
            "2/2 [==============================] - 0s 6ms/step - loss: 22.8730 - mae: 22.8730\n",
            "Epoch 29/100\n",
            "2/2 [==============================] - 0s 5ms/step - loss: 9.2459 - mae: 9.2459\n",
            "Epoch 30/100\n",
            "2/2 [==============================] - 0s 5ms/step - loss: 29.2641 - mae: 29.2641\n",
            "Epoch 31/100\n",
            "2/2 [==============================] - 0s 4ms/step - loss: 53.0225 - mae: 53.0225\n",
            "Epoch 32/100\n",
            "2/2 [==============================] - 0s 11ms/step - loss: 11.9951 - mae: 11.9951\n",
            "Epoch 33/100\n",
            "2/2 [==============================] - 0s 6ms/step - loss: 15.6357 - mae: 15.6357\n",
            "Epoch 34/100\n",
            "2/2 [==============================] - 0s 5ms/step - loss: 12.6925 - mae: 12.6925\n",
            "Epoch 35/100\n",
            "2/2 [==============================] - 0s 6ms/step - loss: 9.2398 - mae: 9.2398\n",
            "Epoch 36/100\n",
            "2/2 [==============================] - 0s 6ms/step - loss: 16.6497 - mae: 16.6497\n",
            "Epoch 37/100\n",
            "2/2 [==============================] - 0s 7ms/step - loss: 11.0382 - mae: 11.0382\n",
            "Epoch 38/100\n",
            "2/2 [==============================] - 0s 7ms/step - loss: 18.1634 - mae: 18.1634\n",
            "Epoch 39/100\n",
            "2/2 [==============================] - 0s 8ms/step - loss: 19.1013 - mae: 19.1013\n",
            "Epoch 40/100\n",
            "2/2 [==============================] - 0s 6ms/step - loss: 20.4324 - mae: 20.4324\n",
            "Epoch 41/100\n",
            "2/2 [==============================] - 0s 6ms/step - loss: 14.9102 - mae: 14.9102\n",
            "Epoch 42/100\n",
            "2/2 [==============================] - 0s 6ms/step - loss: 12.2809 - mae: 12.2809\n",
            "Epoch 43/100\n",
            "2/2 [==============================] - 0s 5ms/step - loss: 10.7333 - mae: 10.7333\n",
            "Epoch 44/100\n",
            "2/2 [==============================] - 0s 5ms/step - loss: 23.0260 - mae: 23.0260\n",
            "Epoch 45/100\n",
            "2/2 [==============================] - 0s 5ms/step - loss: 10.3897 - mae: 10.3897\n",
            "Epoch 46/100\n",
            "2/2 [==============================] - 0s 9ms/step - loss: 11.7904 - mae: 11.7904\n",
            "Epoch 47/100\n",
            "2/2 [==============================] - 0s 5ms/step - loss: 9.6438 - mae: 9.6438\n",
            "Epoch 48/100\n",
            "2/2 [==============================] - 0s 5ms/step - loss: 17.2335 - mae: 17.2335\n",
            "Epoch 49/100\n",
            "2/2 [==============================] - 0s 5ms/step - loss: 9.5729 - mae: 9.5729\n",
            "Epoch 50/100\n",
            "2/2 [==============================] - 0s 5ms/step - loss: 13.8185 - mae: 13.8185\n",
            "Epoch 51/100\n",
            "2/2 [==============================] - 0s 5ms/step - loss: 11.5958 - mae: 11.5958\n",
            "Epoch 52/100\n",
            "2/2 [==============================] - 0s 5ms/step - loss: 30.5538 - mae: 30.5538\n",
            "Epoch 53/100\n",
            "2/2 [==============================] - 0s 5ms/step - loss: 14.3541 - mae: 14.3541\n",
            "Epoch 54/100\n",
            "2/2 [==============================] - 0s 6ms/step - loss: 23.9713 - mae: 23.9713\n",
            "Epoch 55/100\n",
            "2/2 [==============================] - 0s 5ms/step - loss: 23.1938 - mae: 23.1938\n",
            "Epoch 56/100\n",
            "2/2 [==============================] - 0s 5ms/step - loss: 10.8837 - mae: 10.8837\n",
            "Epoch 57/100\n",
            "2/2 [==============================] - 0s 5ms/step - loss: 12.7445 - mae: 12.7445\n",
            "Epoch 58/100\n",
            "2/2 [==============================] - 0s 5ms/step - loss: 9.5995 - mae: 9.5995\n",
            "Epoch 59/100\n",
            "2/2 [==============================] - 0s 6ms/step - loss: 12.5172 - mae: 12.5172\n",
            "Epoch 60/100\n",
            "2/2 [==============================] - 0s 5ms/step - loss: 12.3200 - mae: 12.3200\n",
            "Epoch 61/100\n",
            "2/2 [==============================] - 0s 5ms/step - loss: 17.4604 - mae: 17.4604\n",
            "Epoch 62/100\n",
            "2/2 [==============================] - 0s 5ms/step - loss: 10.6052 - mae: 10.6052\n",
            "Epoch 63/100\n",
            "2/2 [==============================] - 0s 6ms/step - loss: 10.4893 - mae: 10.4893\n",
            "Epoch 64/100\n",
            "2/2 [==============================] - 0s 12ms/step - loss: 24.8450 - mae: 24.8450\n",
            "Epoch 65/100\n",
            "2/2 [==============================] - 0s 6ms/step - loss: 10.6761 - mae: 10.6761\n",
            "Epoch 66/100\n",
            "2/2 [==============================] - 0s 5ms/step - loss: 21.7809 - mae: 21.7809\n",
            "Epoch 67/100\n",
            "2/2 [==============================] - 0s 6ms/step - loss: 10.7136 - mae: 10.7136\n",
            "Epoch 68/100\n",
            "2/2 [==============================] - 0s 4ms/step - loss: 10.6397 - mae: 10.6397\n",
            "Epoch 69/100\n",
            "2/2 [==============================] - 0s 5ms/step - loss: 22.6914 - mae: 22.6914\n",
            "Epoch 70/100\n",
            "2/2 [==============================] - 0s 5ms/step - loss: 9.3316 - mae: 9.3316\n",
            "Epoch 71/100\n",
            "2/2 [==============================] - 0s 5ms/step - loss: 15.4355 - mae: 15.4355\n",
            "Epoch 72/100\n",
            "2/2 [==============================] - 0s 5ms/step - loss: 6.7437 - mae: 6.7437\n",
            "Epoch 73/100\n",
            "2/2 [==============================] - 0s 5ms/step - loss: 11.6891 - mae: 11.6891\n",
            "Epoch 74/100\n",
            "2/2 [==============================] - 0s 4ms/step - loss: 24.0400 - mae: 24.0400\n",
            "Epoch 75/100\n",
            "2/2 [==============================] - 0s 4ms/step - loss: 9.5896 - mae: 9.5896\n",
            "Epoch 76/100\n",
            "2/2 [==============================] - 0s 5ms/step - loss: 12.4371 - mae: 12.4371\n",
            "Epoch 77/100\n",
            "2/2 [==============================] - 0s 5ms/step - loss: 16.6489 - mae: 16.6489\n",
            "Epoch 78/100\n",
            "2/2 [==============================] - 0s 5ms/step - loss: 9.0614 - mae: 9.0614\n",
            "Epoch 79/100\n",
            "2/2 [==============================] - 0s 5ms/step - loss: 23.9675 - mae: 23.9675\n",
            "Epoch 80/100\n",
            "2/2 [==============================] - 0s 5ms/step - loss: 26.7463 - mae: 26.7463\n",
            "Epoch 81/100\n",
            "2/2 [==============================] - 0s 6ms/step - loss: 11.6714 - mae: 11.6714\n",
            "Epoch 82/100\n",
            "2/2 [==============================] - 0s 5ms/step - loss: 12.0228 - mae: 12.0228\n",
            "Epoch 83/100\n",
            "2/2 [==============================] - 0s 5ms/step - loss: 17.4218 - mae: 17.4218\n",
            "Epoch 84/100\n",
            "2/2 [==============================] - 0s 5ms/step - loss: 7.2629 - mae: 7.2629\n",
            "Epoch 85/100\n",
            "2/2 [==============================] - 0s 6ms/step - loss: 14.9650 - mae: 14.9650\n",
            "Epoch 86/100\n",
            "2/2 [==============================] - 0s 5ms/step - loss: 15.2862 - mae: 15.2862\n",
            "Epoch 87/100\n",
            "2/2 [==============================] - 0s 6ms/step - loss: 19.1086 - mae: 19.1086\n",
            "Epoch 88/100\n",
            "2/2 [==============================] - 0s 6ms/step - loss: 29.8229 - mae: 29.8229\n",
            "Epoch 89/100\n",
            "2/2 [==============================] - 0s 6ms/step - loss: 10.1742 - mae: 10.1742\n",
            "Epoch 90/100\n",
            "2/2 [==============================] - 0s 6ms/step - loss: 21.5240 - mae: 21.5240\n",
            "Epoch 91/100\n",
            "2/2 [==============================] - 0s 6ms/step - loss: 10.5716 - mae: 10.5716\n",
            "Epoch 92/100\n",
            "2/2 [==============================] - 0s 6ms/step - loss: 18.3977 - mae: 18.3977\n",
            "Epoch 93/100\n",
            "2/2 [==============================] - 0s 6ms/step - loss: 7.4138 - mae: 7.4138\n",
            "Epoch 94/100\n",
            "2/2 [==============================] - 0s 6ms/step - loss: 17.7380 - mae: 17.7380\n",
            "Epoch 95/100\n",
            "2/2 [==============================] - 0s 6ms/step - loss: 11.1144 - mae: 11.1144\n",
            "Epoch 96/100\n",
            "2/2 [==============================] - 0s 5ms/step - loss: 19.4346 - mae: 19.4346\n",
            "Epoch 97/100\n",
            "2/2 [==============================] - 0s 6ms/step - loss: 12.1593 - mae: 12.1593\n",
            "Epoch 98/100\n",
            "2/2 [==============================] - 0s 5ms/step - loss: 11.5653 - mae: 11.5653\n",
            "Epoch 99/100\n",
            "2/2 [==============================] - 0s 9ms/step - loss: 13.8827 - mae: 13.8827\n",
            "Epoch 100/100\n",
            "2/2 [==============================] - 0s 6ms/step - loss: 20.2277 - mae: 20.2277\n"
          ]
        },
        {
          "output_type": "execute_result",
          "data": {
            "text/plain": [
              "<keras.callbacks.History at 0x7f0d3b77abd0>"
            ]
          },
          "metadata": {},
          "execution_count": 29
        }
      ]
    },
    {
      "cell_type": "code",
      "source": [
        "#Visualizing the model\n",
        "\n",
        "from tensorflow.keras.utils import plot_model\n",
        "\n",
        "plot_model(model,show_shapes=True)"
      ],
      "metadata": {
        "colab": {
          "base_uri": "https://localhost:8080/",
          "height": 312
        },
        "id": "eI-Pi04mkZUj",
        "outputId": "c62c8749-04c4-42b2-a682-7036b29c1200"
      },
      "execution_count": 30,
      "outputs": [
        {
          "output_type": "execute_result",
          "data": {
            "text/plain": [
              "<IPython.core.display.Image object>"
            ],
            "image/png": "[encoded data removed]"
          },
          "metadata": {},
          "execution_count": 30
        }
      ]
    },
    {
      "cell_type": "markdown",
      "source": [
        "## Visualizing Model's prediction\n",
        "\n",
        "To visualize preidctions, its a good idea to plot them against the ground truth labels. \n",
        "Often you will see this in the form of `y_test` or `y_true` versus `y_pred` (groundtruth versus model's predictions)"
      ],
      "metadata": {
        "id": "5cyOtNN2ofdX"
      }
    },
    {
      "cell_type": "code",
      "source": [
        "# Make some predictions\n",
        "\n",
        "y_pred = model.predict(X_test)\n",
        "y_pred"
      ],
      "metadata": {
        "colab": {
          "base_uri": "https://localhost:8080/"
        },
        "id": "ttAyh0lKpIrP",
        "outputId": "b87e2e4d-d6b2-4022-c05d-007bf74cdcc4"
      },
      "execution_count": 31,
      "outputs": [
        {
          "output_type": "execute_result",
          "data": {
            "text/plain": [
              "array([[ 70.55218 ],\n",
              "       [ 75.13991 ],\n",
              "       [ 79.72763 ],\n",
              "       [ 84.31535 ],\n",
              "       [ 88.903076],\n",
              "       [ 93.49081 ],\n",
              "       [ 98.07853 ],\n",
              "       [102.66625 ],\n",
              "       [107.253975],\n",
              "       [111.8417  ]], dtype=float32)"
            ]
          },
          "metadata": {},
          "execution_count": 31
        }
      ]
    },
    {
      "cell_type": "code",
      "source": [
        "y_test, X_test"
      ],
      "metadata": {
        "colab": {
          "base_uri": "https://localhost:8080/"
        },
        "id": "X_sf9EDDpj7P",
        "outputId": "557d3f2f-772e-4abd-def9-790a7b246777"
      },
      "execution_count": 32,
      "outputs": [
        {
          "output_type": "execute_result",
          "data": {
            "text/plain": [
              "(<tf.Tensor: shape=(10,), dtype=int32, numpy=array([ 70,  74,  78,  82,  86,  90,  94,  98, 102, 106], dtype=int32)>,\n",
              " <tf.Tensor: shape=(10,), dtype=int32, numpy=array([60, 64, 68, 72, 76, 80, 84, 88, 92, 96], dtype=int32)>)"
            ]
          },
          "metadata": {},
          "execution_count": 32
        }
      ]
    },
    {
      "cell_type": "code",
      "source": [
        "#Lets create a plotting function\n",
        "\n",
        "def plot_predictions(train_data = X_train,\n",
        "                     train_labels = y_train,\n",
        "                     test_data = X_test,\n",
        "                     test_labels = y_test,\n",
        "                     predictions=y_pred):\n",
        "  \"\"\"\n",
        "  Plots training data, test data and compares predictions to ground truth lables.\n",
        "  \"\"\"\n",
        "  plt.figure(figsize=(10,7))\n",
        "\n",
        "  #Plot training data in blue\n",
        "  plt.scatter(train_data,train_labels,c=\"b\",label=\"Training data\")\n",
        "\n",
        "  #Plot testing data in green\n",
        "  plt.scatter(test_data, test_labels, c=\"g\", label=\"Testing data\")\n",
        "\n",
        "  #Plot model's predictions in red\n",
        "  plt.scatter(test_data, predictions, c=\"r\", label = \"Predictions\")\n",
        "\n",
        "  # Show the legend\n",
        "  plt.legend();\n",
        "\n"
      ],
      "metadata": {
        "id": "YCmDH9AoqSg1"
      },
      "execution_count": 33,
      "outputs": []
    },
    {
      "cell_type": "code",
      "source": [
        "plot_predictions()"
      ],
      "metadata": {
        "colab": {
          "base_uri": "https://localhost:8080/",
          "height": 428
        },
        "id": "EtGyNHKCscn7",
        "outputId": "d80858bf-6b12-45fe-9100-d5b64711d4da"
      },
      "execution_count": 34,
      "outputs": [
        {
          "output_type": "display_data",
          "data": {
            "text/plain": [
              "<Figure size 720x504 with 1 Axes>"
            ],
            "image/png": "[encoded data removed]"
          },
          "metadata": {
            "needs_background": "light"
          }
        }
      ]
    },
    {
      "cell_type": "markdown",
      "source": [
        "### Evaluating our model's predictions with regression evaluation metrics\n",
        "\n",
        "Depending on the problem you're working on, there will be a different evaluation metrics to evaluate your model's performance.\n",
        "\n",
        "Since we are working on a regression, two of the main metrics:\n",
        "* **MAE** - Mean absolute error, \"on average, how wrong is each of my model's predictions\"\n",
        "* **MSE** - Mean square error, \"square the average errors\""
      ],
      "metadata": {
        "id": "LTVySgbptdk1"
      }
    },
    {
      "cell_type": "code",
      "source": [
        "# Evaluate the model on the test data\n",
        "model.evaluate(X_test, y_test)"
      ],
      "metadata": {
        "colab": {
          "base_uri": "https://localhost:8080/"
        },
        "id": "CDN9ubCovxmT",
        "outputId": "6f3d4642-bd98-454d-9550-9854c5d2ab3f"
      },
      "execution_count": 35,
      "outputs": [
        {
          "output_type": "stream",
          "name": "stdout",
          "text": [
            "1/1 [==============================] - 0s 133ms/step - loss: 3.1969 - mae: 3.1969\n"
          ]
        },
        {
          "output_type": "execute_result",
          "data": {
            "text/plain": [
              "[3.196942090988159, 3.196942090988159]"
            ]
          },
          "metadata": {},
          "execution_count": 35
        }
      ]
    },
    {
      "cell_type": "code",
      "source": [
        "# Calculate the mean absolute error\n",
        "\n",
        "mae = tf.metrics.mean_absolute_error(y_true=y_test,\n",
        "                                     y_pred=tf.constant(y_pred))\n",
        "mae"
      ],
      "metadata": {
        "colab": {
          "base_uri": "https://localhost:8080/"
        },
        "id": "95hZvNdMwEhR",
        "outputId": "ce7a4ac3-8678-4547-b2ef-b152b700a0c4"
      },
      "execution_count": 36,
      "outputs": [
        {
          "output_type": "execute_result",
          "data": {
            "text/plain": [
              "<tf.Tensor: shape=(10,), dtype=float32, numpy=\n",
              "array([17.558258 , 14.1160555, 11.708948 , 10.336929 , 10.       ,\n",
              "       10.698161 , 12.447118 , 15.333002 , 19.253975 , 23.841698 ],\n",
              "      dtype=float32)>"
            ]
          },
          "metadata": {},
          "execution_count": 36
        }
      ]
    },
    {
      "cell_type": "code",
      "source": [
        "# Calculate the mean absolute error\n",
        "\n",
        "mae = tf.metrics.mean_absolute_error(y_true=y_test,\n",
        "                                     y_pred=tf.squeeze(y_pred))\n",
        "\n",
        "mae"
      ],
      "metadata": {
        "colab": {
          "base_uri": "https://localhost:8080/"
        },
        "id": "mURDDKIsE_eN",
        "outputId": "e5669555-5e0a-4d4b-dd0d-080904c91cc7"
      },
      "execution_count": 37,
      "outputs": [
        {
          "output_type": "execute_result",
          "data": {
            "text/plain": [
              "<tf.Tensor: shape=(), dtype=float32, numpy=3.1969407>"
            ]
          },
          "metadata": {},
          "execution_count": 37
        }
      ]
    },
    {
      "cell_type": "code",
      "source": [
        "# Calculate the mean square error\n",
        "\n",
        "mse = tf.metrics.mean_squared_error(y_true=y_test,\n",
        "                                    y_pred=tf.squeeze(y_pred))\n",
        "\n",
        "mse"
      ],
      "metadata": {
        "colab": {
          "base_uri": "https://localhost:8080/"
        },
        "id": "TRks3EhdFhJQ",
        "outputId": "7501060a-9038-49ee-8c8b-a08bfd2d73e3"
      },
      "execution_count": 38,
      "outputs": [
        {
          "output_type": "execute_result",
          "data": {
            "text/plain": [
              "<tf.Tensor: shape=(), dtype=float32, numpy=13.070143>"
            ]
          },
          "metadata": {},
          "execution_count": 38
        }
      ]
    },
    {
      "cell_type": "code",
      "source": [
        "# Make some functions to reuse MAE y MSE\n",
        "def mae(y_true,y_pred):\n",
        "  return tf.metrics.mean_absolute_error(y_true=y_true,\n",
        "                                       y_pred=tf.squeeze(y_pred))\n",
        "  \n",
        "def mse(y_true,y_pred):\n",
        "  return tf.metrics.mean_squared_error(y_true=y_true,\n",
        "                                       y_pred=tf.squeeze(y_pred))"
      ],
      "metadata": {
        "id": "jbaFKphzGsX3"
      },
      "execution_count": 39,
      "outputs": []
    },
    {
      "cell_type": "markdown",
      "source": [
        "### Running experiments to improve the model\n",
        "\n",
        "1. Get more data - get more exmaples for your model to train on (more opportunities to learn patterns or relationships between features and labels)\n",
        "2. Make your model larger (using amore complex model) - this might come in the form of more layers or more hidden units in each layer.\n",
        "3. Train for longer - give your model more of a chance to find patterns in the data.\n",
        "\n",
        "Let's do 3 experiments:\n",
        "\n",
        "1. `model_1` -  same as the original model, 1 layer, trained for 100 epochs.\n",
        "2. `model_2` - 2 layers, trained for 100 epochs\n",
        "3. `model_3` - 2 layers, trained for 500 epochs\n",
        "\n"
      ],
      "metadata": {
        "id": "pBTBPXkPHoFv"
      }
    },
    {
      "cell_type": "markdown",
      "source": [
        "**Build** `model_1`"
      ],
      "metadata": {
        "id": "uxJCsN4bJ_7v"
      }
    },
    {
      "cell_type": "code",
      "source": [
        "tf.random.set_seed(42)\n",
        "\n",
        "# 1. Create the model\n",
        "model_1 = tf.keras.Sequential([\n",
        "  tf.keras.layers.Dense(1)                      \n",
        "],name=\"model_1\")\n",
        "\n",
        "# 2. Compile the model\n",
        "model_1.compile(loss=[\"mae\"],\n",
        "                optimizer=tf.keras.optimizers.SGD(),\n",
        "                metrics=[\"mae\"])\n",
        "\n",
        "# 3. Fit the model\n",
        "\n",
        "model_1.fit(tf.expand_dims(X_train, axis=-1),y_train, epochs=100, verbose=0)"
      ],
      "metadata": {
        "colab": {
          "base_uri": "https://localhost:8080/"
        },
        "id": "mivo3_4wJB9H",
        "outputId": "75eec7b1-f769-446b-e7e7-9c4801014bd8"
      },
      "execution_count": 40,
      "outputs": [
        {
          "output_type": "execute_result",
          "data": {
            "text/plain": [
              "<keras.callbacks.History at 0x7f0dc1490110>"
            ]
          },
          "metadata": {},
          "execution_count": 40
        }
      ]
    },
    {
      "cell_type": "code",
      "source": [
        "# Make and plot predictions for model_1\n",
        "y_preds_1 = model_1.predict(X_test)\n",
        "plot_predictions(predictions=y_preds_1)"
      ],
      "metadata": {
        "colab": {
          "base_uri": "https://localhost:8080/",
          "height": 465
        },
        "id": "PIeog_3EYr0c",
        "outputId": "f5e90073-f416-483a-8a9f-56b202f31afb"
      },
      "execution_count": 41,
      "outputs": [
        {
          "output_type": "stream",
          "name": "stdout",
          "text": [
            "WARNING:tensorflow:5 out of the last 5 calls to <function Model.make_predict_function.<locals>.predict_function at 0x7f0d3e7bbdd0> triggered tf.function retracing. Tracing is expensive and the excessive number of tracings could be due to (1) creating @tf.function repeatedly in a loop, (2) passing tensors with different shapes, (3) passing Python objects instead of tensors. For (1), please define your @tf.function outside of the loop. For (2), @tf.function has experimental_relax_shapes=True option that relaxes argument shapes that can avoid unnecessary retracing. For (3), please refer to https://www.tensorflow.org/guide/function#controlling_retracing and https://www.tensorflow.org/api_docs/python/tf/function for  more details.\n"
          ]
        },
        {
          "output_type": "display_data",
          "data": {
            "text/plain": [
              "<Figure size 720x504 with 1 Axes>"
            ],
            "image/png": "[encoded data removed]"
          },
          "metadata": {
            "needs_background": "light"
          }
        }
      ]
    },
    {
      "cell_type": "code",
      "source": [
        "#Calculate model_1 evaluation metrics\n",
        "mae_1 = mae(y_test, y_preds_1)\n",
        "mse_1 = mse(y_test, y_preds_1)\n",
        "\n",
        "mae_1,mse_1"
      ],
      "metadata": {
        "colab": {
          "base_uri": "https://localhost:8080/"
        },
        "id": "R5bA7JyAZVr-",
        "outputId": "4e05bbee-4aa5-4796-a48b-816b65d1959f"
      },
      "execution_count": 42,
      "outputs": [
        {
          "output_type": "execute_result",
          "data": {
            "text/plain": [
              "(<tf.Tensor: shape=(), dtype=float32, numpy=18.745327>,\n",
              " <tf.Tensor: shape=(), dtype=float32, numpy=353.57336>)"
            ]
          },
          "metadata": {},
          "execution_count": 42
        }
      ]
    },
    {
      "cell_type": "markdown",
      "source": [
        "**Build** `model_2`\n",
        "\n",
        "* 2 dense layers, trained for 100 epochs"
      ],
      "metadata": {
        "id": "-dbRRV5_SZWv"
      }
    },
    {
      "cell_type": "code",
      "source": [
        "#Set the random\n",
        "tf.random.set_seed(42)\n",
        "\n",
        "# 1. Create the model\n",
        "model_2 = tf.keras.Sequential([\n",
        "  tf.keras.layers.Dense(10),\n",
        "  tf.keras.layers.Dense(1)                               \n",
        "])\n",
        "\n",
        "# 2. Compile the model\n",
        "model_2.compile(loss=[\"mae\"],\n",
        "                optimizer=tf.keras.optimizers.SGD(),\n",
        "                metrics=[\"mse\"])\n",
        "\n",
        "# 3. Fit the model\n",
        "\n",
        "model_2.fit(tf.expand_dims(X_train, axis=-1),y_train, epochs=100, verbose=1)"
      ],
      "metadata": {
        "colab": {
          "base_uri": "https://localhost:8080/"
        },
        "id": "JxK9X9W1Spc0",
        "outputId": "cc8621d0-0285-4295-8f9b-2a0c15d6e995"
      },
      "execution_count": 51,
      "outputs": [
        {
          "output_type": "stream",
          "name": "stdout",
          "text": [
            "Epoch 1/100\n",
            "2/2 [==============================] - 1s 9ms/step - loss: 27.4058 - mse: 1084.1482\n",
            "Epoch 2/100\n",
            "2/2 [==============================] - 0s 9ms/step - loss: 24.6339 - mse: 777.9203\n",
            "Epoch 3/100\n",
            "2/2 [==============================] - 0s 10ms/step - loss: 29.8935 - mse: 1334.8955\n",
            "Epoch 4/100\n",
            "2/2 [==============================] - 0s 8ms/step - loss: 27.4055 - mse: 1106.8035\n",
            "Epoch 5/100\n",
            "2/2 [==============================] - 0s 6ms/step - loss: 14.9463 - mse: 281.1077\n",
            "Epoch 6/100\n",
            "2/2 [==============================] - 0s 5ms/step - loss: 11.8819 - mse: 168.6621\n",
            "Epoch 7/100\n",
            "2/2 [==============================] - 0s 6ms/step - loss: 11.1988 - mse: 151.3509\n",
            "Epoch 8/100\n",
            "2/2 [==============================] - 0s 8ms/step - loss: 11.0910 - mse: 160.3745\n",
            "Epoch 9/100\n",
            "2/2 [==============================] - 0s 5ms/step - loss: 40.4763 - mse: 2586.0090\n",
            "Epoch 10/100\n",
            "2/2 [==============================] - 0s 5ms/step - loss: 27.8688 - mse: 1094.4382\n",
            "Epoch 11/100\n",
            "2/2 [==============================] - 0s 5ms/step - loss: 10.2473 - mse: 147.9359\n",
            "Epoch 12/100\n",
            "2/2 [==============================] - 0s 6ms/step - loss: 25.2803 - mse: 890.3867\n",
            "Epoch 13/100\n",
            "2/2 [==============================] - 0s 6ms/step - loss: 16.9897 - mse: 399.9678\n",
            "Epoch 14/100\n",
            "2/2 [==============================] - 0s 8ms/step - loss: 25.9217 - mse: 1049.5515\n",
            "Epoch 15/100\n",
            "2/2 [==============================] - 0s 11ms/step - loss: 17.9948 - mse: 450.2580\n",
            "Epoch 16/100\n",
            "2/2 [==============================] - 0s 5ms/step - loss: 7.3510 - mse: 80.6206\n",
            "Epoch 17/100\n",
            "2/2 [==============================] - 0s 7ms/step - loss: 10.8636 - mse: 174.7868\n",
            "Epoch 18/100\n",
            "2/2 [==============================] - 0s 19ms/step - loss: 19.5304 - mse: 565.8053\n",
            "Epoch 19/100\n",
            "2/2 [==============================] - 0s 7ms/step - loss: 10.3469 - mse: 167.7749\n",
            "Epoch 20/100\n",
            "2/2 [==============================] - 0s 7ms/step - loss: 17.6985 - mse: 455.7096\n",
            "Epoch 21/100\n",
            "2/2 [==============================] - 0s 8ms/step - loss: 15.8984 - mse: 347.1929\n",
            "Epoch 22/100\n",
            "2/2 [==============================] - 0s 7ms/step - loss: 14.1991 - mse: 285.1767\n",
            "Epoch 23/100\n",
            "2/2 [==============================] - 0s 10ms/step - loss: 8.7720 - mse: 91.7852\n",
            "Epoch 24/100\n",
            "2/2 [==============================] - 0s 5ms/step - loss: 11.0570 - mse: 153.7430\n",
            "Epoch 25/100\n",
            "2/2 [==============================] - 0s 9ms/step - loss: 12.6838 - mse: 233.2949\n",
            "Epoch 26/100\n",
            "2/2 [==============================] - 0s 9ms/step - loss: 26.1877 - mse: 1024.6091\n",
            "Epoch 27/100\n",
            "2/2 [==============================] - 0s 9ms/step - loss: 11.7432 - mse: 194.8454\n",
            "Epoch 28/100\n",
            "2/2 [==============================] - 0s 9ms/step - loss: 22.8730 - mse: 835.6074\n",
            "Epoch 29/100\n",
            "2/2 [==============================] - 0s 9ms/step - loss: 9.2459 - mse: 96.7786\n",
            "Epoch 30/100\n",
            "2/2 [==============================] - 0s 9ms/step - loss: 29.2641 - mse: 1535.1349\n",
            "Epoch 31/100\n",
            "2/2 [==============================] - 0s 8ms/step - loss: 53.0225 - mse: 5030.2988\n",
            "Epoch 32/100\n",
            "2/2 [==============================] - 0s 8ms/step - loss: 11.9951 - mse: 211.7025\n",
            "Epoch 33/100\n",
            "2/2 [==============================] - 0s 9ms/step - loss: 15.6357 - mse: 337.3666\n",
            "Epoch 34/100\n",
            "2/2 [==============================] - 0s 10ms/step - loss: 12.6925 - mse: 214.4823\n",
            "Epoch 35/100\n",
            "2/2 [==============================] - 0s 10ms/step - loss: 9.2398 - mse: 92.9126\n",
            "Epoch 36/100\n",
            "2/2 [==============================] - 0s 14ms/step - loss: 16.6497 - mse: 403.6573\n",
            "Epoch 37/100\n",
            "2/2 [==============================] - 0s 10ms/step - loss: 11.0382 - mse: 192.3919\n",
            "Epoch 38/100\n",
            "2/2 [==============================] - 0s 10ms/step - loss: 18.1634 - mse: 433.6717\n",
            "Epoch 39/100\n",
            "2/2 [==============================] - 0s 10ms/step - loss: 19.1013 - mse: 529.6439\n",
            "Epoch 40/100\n",
            "2/2 [==============================] - 0s 10ms/step - loss: 20.4324 - mse: 610.1324\n",
            "Epoch 41/100\n",
            "2/2 [==============================] - 0s 10ms/step - loss: 14.9102 - mse: 279.6183\n",
            "Epoch 42/100\n",
            "2/2 [==============================] - 0s 7ms/step - loss: 12.2809 - mse: 186.6180\n",
            "Epoch 43/100\n",
            "2/2 [==============================] - 0s 4ms/step - loss: 10.7333 - mse: 167.0952\n",
            "Epoch 44/100\n",
            "2/2 [==============================] - 0s 4ms/step - loss: 23.0260 - mse: 830.4244\n",
            "Epoch 45/100\n",
            "2/2 [==============================] - 0s 6ms/step - loss: 10.3897 - mse: 128.9549\n",
            "Epoch 46/100\n",
            "2/2 [==============================] - 0s 10ms/step - loss: 11.7904 - mse: 181.9212\n",
            "Epoch 47/100\n",
            "2/2 [==============================] - 0s 8ms/step - loss: 9.6438 - mse: 153.8708\n",
            "Epoch 48/100\n",
            "2/2 [==============================] - 0s 7ms/step - loss: 17.2335 - mse: 402.8494\n",
            "Epoch 49/100\n",
            "2/2 [==============================] - 0s 6ms/step - loss: 9.5729 - mse: 99.8337\n",
            "Epoch 50/100\n",
            "2/2 [==============================] - 0s 7ms/step - loss: 13.8185 - mse: 260.3670\n",
            "Epoch 51/100\n",
            "2/2 [==============================] - 0s 5ms/step - loss: 11.5958 - mse: 154.7956\n",
            "Epoch 52/100\n",
            "2/2 [==============================] - 0s 13ms/step - loss: 30.5538 - mse: 1613.0886\n",
            "Epoch 53/100\n",
            "2/2 [==============================] - 0s 6ms/step - loss: 14.3541 - mse: 302.5293\n",
            "Epoch 54/100\n",
            "2/2 [==============================] - 0s 5ms/step - loss: 23.9713 - mse: 859.3983\n",
            "Epoch 55/100\n",
            "2/2 [==============================] - 0s 5ms/step - loss: 23.1938 - mse: 805.5452\n",
            "Epoch 56/100\n",
            "2/2 [==============================] - 0s 6ms/step - loss: 10.8837 - mse: 170.9834\n",
            "Epoch 57/100\n",
            "2/2 [==============================] - 0s 5ms/step - loss: 12.7445 - mse: 198.7015\n",
            "Epoch 58/100\n",
            "2/2 [==============================] - 0s 5ms/step - loss: 9.5995 - mse: 102.5890\n",
            "Epoch 59/100\n",
            "2/2 [==============================] - 0s 7ms/step - loss: 12.5172 - mse: 216.3367\n",
            "Epoch 60/100\n",
            "2/2 [==============================] - 0s 5ms/step - loss: 12.3200 - mse: 208.6371\n",
            "Epoch 61/100\n",
            "2/2 [==============================] - 0s 5ms/step - loss: 17.4604 - mse: 428.6393\n",
            "Epoch 62/100\n",
            "2/2 [==============================] - 0s 6ms/step - loss: 10.6052 - mse: 136.9777\n",
            "Epoch 63/100\n",
            "2/2 [==============================] - 0s 5ms/step - loss: 10.4893 - mse: 152.4555\n",
            "Epoch 64/100\n",
            "2/2 [==============================] - 0s 11ms/step - loss: 24.8450 - mse: 911.7511\n",
            "Epoch 65/100\n",
            "2/2 [==============================] - 0s 9ms/step - loss: 10.6761 - mse: 142.7374\n",
            "Epoch 66/100\n",
            "2/2 [==============================] - 0s 8ms/step - loss: 21.7809 - mse: 704.4492\n",
            "Epoch 67/100\n",
            "2/2 [==============================] - 0s 7ms/step - loss: 10.7136 - mse: 136.0194\n",
            "Epoch 68/100\n",
            "2/2 [==============================] - 0s 9ms/step - loss: 10.6397 - mse: 149.2300\n",
            "Epoch 69/100\n",
            "2/2 [==============================] - 0s 8ms/step - loss: 22.6914 - mse: 742.1761\n",
            "Epoch 70/100\n",
            "2/2 [==============================] - 0s 8ms/step - loss: 9.3316 - mse: 166.1628\n",
            "Epoch 71/100\n",
            "2/2 [==============================] - 0s 12ms/step - loss: 15.4355 - mse: 323.0843\n",
            "Epoch 72/100\n",
            "2/2 [==============================] - 0s 10ms/step - loss: 6.7437 - mse: 67.0210\n",
            "Epoch 73/100\n",
            "2/2 [==============================] - 0s 20ms/step - loss: 11.6891 - mse: 183.7296\n",
            "Epoch 74/100\n",
            "2/2 [==============================] - 0s 17ms/step - loss: 24.0400 - mse: 908.8992\n",
            "Epoch 75/100\n",
            "2/2 [==============================] - 0s 10ms/step - loss: 9.5896 - mse: 149.3948\n",
            "Epoch 76/100\n",
            "2/2 [==============================] - 0s 11ms/step - loss: 12.4371 - mse: 188.3310\n",
            "Epoch 77/100\n",
            "2/2 [==============================] - 0s 9ms/step - loss: 16.6489 - mse: 429.2708\n",
            "Epoch 78/100\n",
            "2/2 [==============================] - 0s 10ms/step - loss: 9.0614 - mse: 95.4870\n",
            "Epoch 79/100\n",
            "2/2 [==============================] - 0s 8ms/step - loss: 23.9675 - mse: 864.0864\n",
            "Epoch 80/100\n",
            "2/2 [==============================] - 0s 10ms/step - loss: 26.7463 - mse: 1104.4032\n",
            "Epoch 81/100\n",
            "2/2 [==============================] - 0s 10ms/step - loss: 11.6714 - mse: 170.7055\n",
            "Epoch 82/100\n",
            "2/2 [==============================] - 0s 10ms/step - loss: 12.0228 - mse: 211.9191\n",
            "Epoch 83/100\n",
            "2/2 [==============================] - 0s 8ms/step - loss: 17.4218 - mse: 395.5589\n",
            "Epoch 84/100\n",
            "2/2 [==============================] - 0s 13ms/step - loss: 7.2629 - mse: 73.0935\n",
            "Epoch 85/100\n",
            "2/2 [==============================] - 0s 7ms/step - loss: 14.9650 - mse: 312.8361\n",
            "Epoch 86/100\n",
            "2/2 [==============================] - 0s 6ms/step - loss: 15.2862 - mse: 315.3605\n",
            "Epoch 87/100\n",
            "2/2 [==============================] - 0s 8ms/step - loss: 19.1086 - mse: 521.2534\n",
            "Epoch 88/100\n",
            "2/2 [==============================] - 0s 4ms/step - loss: 29.8229 - mse: 1287.1907\n",
            "Epoch 89/100\n",
            "2/2 [==============================] - 0s 6ms/step - loss: 10.1742 - mse: 124.1342\n",
            "Epoch 90/100\n",
            "2/2 [==============================] - 0s 5ms/step - loss: 21.5240 - mse: 663.8611\n",
            "Epoch 91/100\n",
            "2/2 [==============================] - 0s 8ms/step - loss: 10.5716 - mse: 161.7467\n",
            "Epoch 92/100\n",
            "2/2 [==============================] - 0s 5ms/step - loss: 18.3977 - mse: 464.1326\n",
            "Epoch 93/100\n",
            "2/2 [==============================] - 0s 5ms/step - loss: 7.4138 - mse: 81.9820\n",
            "Epoch 94/100\n",
            "2/2 [==============================] - 0s 5ms/step - loss: 17.7380 - mse: 445.7379\n",
            "Epoch 95/100\n",
            "2/2 [==============================] - 0s 5ms/step - loss: 11.1144 - mse: 164.0820\n",
            "Epoch 96/100\n",
            "2/2 [==============================] - 0s 10ms/step - loss: 19.4346 - mse: 510.5842\n",
            "Epoch 97/100\n",
            "2/2 [==============================] - 0s 7ms/step - loss: 12.1593 - mse: 209.9755\n",
            "Epoch 98/100\n",
            "2/2 [==============================] - 0s 9ms/step - loss: 11.5653 - mse: 169.4052\n",
            "Epoch 99/100\n",
            "2/2 [==============================] - 0s 7ms/step - loss: 13.8827 - mse: 265.4630\n",
            "Epoch 100/100\n",
            "2/2 [==============================] - 0s 6ms/step - loss: 20.2277 - mse: 608.8218\n"
          ]
        },
        {
          "output_type": "execute_result",
          "data": {
            "text/plain": [
              "<keras.callbacks.History at 0x7f0d3d963610>"
            ]
          },
          "metadata": {},
          "execution_count": 51
        }
      ]
    },
    {
      "cell_type": "code",
      "source": [
        "# Make and plot predictions of model_2\n",
        "y_preds_2 = model_2.predict(X_test)\n",
        "plot_predictions(predictions=y_preds_2)"
      ],
      "metadata": {
        "colab": {
          "base_uri": "https://localhost:8080/",
          "height": 428
        },
        "id": "eSGhTQWNUWtA",
        "outputId": "3e11270c-1111-4586-9902-8b30f01f3559"
      },
      "execution_count": 52,
      "outputs": [
        {
          "output_type": "display_data",
          "data": {
            "text/plain": [
              "<Figure size 720x504 with 1 Axes>"
            ],
            "image/png": "[encoded data removed]"
          },
          "metadata": {
            "needs_background": "light"
          }
        }
      ]
    },
    {
      "cell_type": "code",
      "source": [
        "# Calculate model_2 evaluation metrics\n",
        "\n",
        "mae_2 = mae(y_test, y_preds_2)\n",
        "mse_2 = mse(y_test,y_preds_2)\n",
        "\n",
        "mae_2,mse_2"
      ],
      "metadata": {
        "colab": {
          "base_uri": "https://localhost:8080/"
        },
        "id": "WyodDJwBU2ZW",
        "outputId": "8ccd50f2-97d2-4d9c-c107-b8aa3fd0e821"
      },
      "execution_count": 53,
      "outputs": [
        {
          "output_type": "execute_result",
          "data": {
            "text/plain": [
              "(<tf.Tensor: shape=(), dtype=float32, numpy=3.1969407>,\n",
              " <tf.Tensor: shape=(), dtype=float32, numpy=13.070143>)"
            ]
          },
          "metadata": {},
          "execution_count": 53
        }
      ]
    },
    {
      "cell_type": "markdown",
      "source": [
        "**Build `model_3`**\n",
        "\n",
        "* 2 Layers, trained for 500 epochs"
      ],
      "metadata": {
        "id": "En1WD4AyWUOC"
      }
    },
    {
      "cell_type": "code",
      "source": [
        "# Set random seed\n",
        "tf.random.set_seed(42)\n",
        "\n",
        "\n",
        "# 1. Create a model\n",
        "model_3 = tf.keras.Sequential([\n",
        "  tf.keras.layers.Dense(10),\n",
        "  tf.keras.layers.Dense(1)                               \n",
        "])\n",
        "\n",
        "# 2. Compile the model\n",
        "\n",
        "model_3.compile(loss=[\"mae\"],\n",
        "                optimizer=tf.keras.optimizers.SGD(),\n",
        "                metrics=[\"mae\"])\n",
        "\n",
        "# 3. Fit the model\n",
        "\n",
        "model_3.fit(tf.expand_dims(X_train, axis=-1),y_train, epochs=500, verbose=1)\n"
      ],
      "metadata": {
        "colab": {
          "base_uri": "https://localhost:8080/"
        },
        "id": "4FY-E5JMWdqj",
        "outputId": "ec1f3669-4406-4e7c-fae3-1b229a7ab481"
      },
      "execution_count": 54,
      "outputs": [
        {
          "output_type": "stream",
          "name": "stdout",
          "text": [
            "Epoch 1/500\n",
            "2/2 [==============================] - 1s 6ms/step - loss: 27.4058 - mae: 27.4058\n",
            "Epoch 2/500\n",
            "2/2 [==============================] - 0s 8ms/step - loss: 24.6339 - mae: 24.6339\n",
            "Epoch 3/500\n",
            "2/2 [==============================] - 0s 6ms/step - loss: 29.8935 - mae: 29.8935\n",
            "Epoch 4/500\n",
            "2/2 [==============================] - 0s 9ms/step - loss: 27.4055 - mae: 27.4055\n",
            "Epoch 5/500\n",
            "2/2 [==============================] - 0s 5ms/step - loss: 14.9463 - mae: 14.9463\n",
            "Epoch 6/500\n",
            "2/2 [==============================] - 0s 5ms/step - loss: 11.8819 - mae: 11.8819\n",
            "Epoch 7/500\n",
            "2/2 [==============================] - 0s 5ms/step - loss: 11.1988 - mae: 11.1988\n",
            "Epoch 8/500\n",
            "2/2 [==============================] - 0s 6ms/step - loss: 11.0910 - mae: 11.0910\n",
            "Epoch 9/500\n",
            "2/2 [==============================] - 0s 8ms/step - loss: 40.4763 - mae: 40.4763\n",
            "Epoch 10/500\n",
            "2/2 [==============================] - 0s 5ms/step - loss: 27.8688 - mae: 27.8688\n",
            "Epoch 11/500\n",
            "2/2 [==============================] - 0s 5ms/step - loss: 10.2473 - mae: 10.2473\n",
            "Epoch 12/500\n",
            "2/2 [==============================] - 0s 7ms/step - loss: 25.2803 - mae: 25.2803\n",
            "Epoch 13/500\n",
            "2/2 [==============================] - 0s 5ms/step - loss: 16.9897 - mae: 16.9897\n",
            "Epoch 14/500\n",
            "2/2 [==============================] - 0s 5ms/step - loss: 25.9217 - mae: 25.9217\n",
            "Epoch 15/500\n",
            "2/2 [==============================] - 0s 5ms/step - loss: 17.9948 - mae: 17.9948\n",
            "Epoch 16/500\n",
            "2/2 [==============================] - 0s 5ms/step - loss: 7.3510 - mae: 7.3510\n",
            "Epoch 17/500\n",
            "2/2 [==============================] - 0s 11ms/step - loss: 10.8636 - mae: 10.8636\n",
            "Epoch 18/500\n",
            "2/2 [==============================] - 0s 10ms/step - loss: 19.5304 - mae: 19.5304\n",
            "Epoch 19/500\n",
            "2/2 [==============================] - 0s 8ms/step - loss: 10.3469 - mae: 10.3469\n",
            "Epoch 20/500\n",
            "2/2 [==============================] - 0s 6ms/step - loss: 17.6985 - mae: 17.6985\n",
            "Epoch 21/500\n",
            "2/2 [==============================] - 0s 5ms/step - loss: 15.8984 - mae: 15.8984\n",
            "Epoch 22/500\n",
            "2/2 [==============================] - 0s 5ms/step - loss: 14.1991 - mae: 14.1991\n",
            "Epoch 23/500\n",
            "2/2 [==============================] - 0s 9ms/step - loss: 8.7720 - mae: 8.7720\n",
            "Epoch 24/500\n",
            "2/2 [==============================] - 0s 8ms/step - loss: 11.0570 - mae: 11.0570\n",
            "Epoch 25/500\n",
            "2/2 [==============================] - 0s 9ms/step - loss: 12.6838 - mae: 12.6838\n",
            "Epoch 26/500\n",
            "2/2 [==============================] - 0s 9ms/step - loss: 26.1877 - mae: 26.1877\n",
            "Epoch 27/500\n",
            "2/2 [==============================] - 0s 10ms/step - loss: 11.7432 - mae: 11.7432\n",
            "Epoch 28/500\n",
            "2/2 [==============================] - 0s 9ms/step - loss: 22.8730 - mae: 22.8730\n",
            "Epoch 29/500\n",
            "2/2 [==============================] - 0s 9ms/step - loss: 9.2459 - mae: 9.2459\n",
            "Epoch 30/500\n",
            "2/2 [==============================] - 0s 8ms/step - loss: 29.2641 - mae: 29.2641\n",
            "Epoch 31/500\n",
            "2/2 [==============================] - 0s 9ms/step - loss: 53.0225 - mae: 53.0225\n",
            "Epoch 32/500\n",
            "2/2 [==============================] - 0s 9ms/step - loss: 11.9951 - mae: 11.9951\n",
            "Epoch 33/500\n",
            "2/2 [==============================] - 0s 11ms/step - loss: 15.6357 - mae: 15.6357\n",
            "Epoch 34/500\n",
            "2/2 [==============================] - 0s 8ms/step - loss: 12.6925 - mae: 12.6925\n",
            "Epoch 35/500\n",
            "2/2 [==============================] - 0s 9ms/step - loss: 9.2398 - mae: 9.2398\n",
            "Epoch 36/500\n",
            "2/2 [==============================] - 0s 9ms/step - loss: 16.6497 - mae: 16.6497\n",
            "Epoch 37/500\n",
            "2/2 [==============================] - 0s 9ms/step - loss: 11.0382 - mae: 11.0382\n",
            "Epoch 38/500\n",
            "2/2 [==============================] - 0s 8ms/step - loss: 18.1634 - mae: 18.1634\n",
            "Epoch 39/500\n",
            "2/2 [==============================] - 0s 8ms/step - loss: 19.1013 - mae: 19.1013\n",
            "Epoch 40/500\n",
            "2/2 [==============================] - 0s 5ms/step - loss: 20.4324 - mae: 20.4324\n",
            "Epoch 41/500\n",
            "2/2 [==============================] - 0s 9ms/step - loss: 14.9102 - mae: 14.9102\n",
            "Epoch 42/500\n",
            "2/2 [==============================] - 0s 7ms/step - loss: 12.2809 - mae: 12.2809\n",
            "Epoch 43/500\n",
            "2/2 [==============================] - 0s 6ms/step - loss: 10.7333 - mae: 10.7333\n",
            "Epoch 44/500\n",
            "2/2 [==============================] - 0s 5ms/step - loss: 23.0260 - mae: 23.0260\n",
            "Epoch 45/500\n",
            "2/2 [==============================] - 0s 5ms/step - loss: 10.3897 - mae: 10.3897\n",
            "Epoch 46/500\n",
            "2/2 [==============================] - 0s 5ms/step - loss: 11.7904 - mae: 11.7904\n",
            "Epoch 47/500\n",
            "2/2 [==============================] - 0s 5ms/step - loss: 9.6438 - mae: 9.6438\n",
            "Epoch 48/500\n",
            "2/2 [==============================] - 0s 5ms/step - loss: 17.2335 - mae: 17.2335\n",
            "Epoch 49/500\n",
            "2/2 [==============================] - 0s 5ms/step - loss: 9.5729 - mae: 9.5729\n",
            "Epoch 50/500\n",
            "2/2 [==============================] - 0s 5ms/step - loss: 13.8185 - mae: 13.8185\n",
            "Epoch 51/500\n",
            "2/2 [==============================] - 0s 5ms/step - loss: 11.5958 - mae: 11.5958\n",
            "Epoch 52/500\n",
            "2/2 [==============================] - 0s 11ms/step - loss: 30.5538 - mae: 30.5538\n",
            "Epoch 53/500\n",
            "2/2 [==============================] - 0s 9ms/step - loss: 14.3541 - mae: 14.3541\n",
            "Epoch 54/500\n",
            "2/2 [==============================] - 0s 5ms/step - loss: 23.9713 - mae: 23.9713\n",
            "Epoch 55/500\n",
            "2/2 [==============================] - 0s 6ms/step - loss: 23.1938 - mae: 23.1938\n",
            "Epoch 56/500\n",
            "2/2 [==============================] - 0s 6ms/step - loss: 10.8837 - mae: 10.8837\n",
            "Epoch 57/500\n",
            "2/2 [==============================] - 0s 7ms/step - loss: 12.7445 - mae: 12.7445\n",
            "Epoch 58/500\n",
            "2/2 [==============================] - 0s 5ms/step - loss: 9.5995 - mae: 9.5995\n",
            "Epoch 59/500\n",
            "2/2 [==============================] - 0s 5ms/step - loss: 12.5172 - mae: 12.5172\n",
            "Epoch 60/500\n",
            "2/2 [==============================] - 0s 6ms/step - loss: 12.3200 - mae: 12.3200\n",
            "Epoch 61/500\n",
            "2/2 [==============================] - 0s 11ms/step - loss: 17.4604 - mae: 17.4604\n",
            "Epoch 62/500\n",
            "2/2 [==============================] - 0s 6ms/step - loss: 10.6052 - mae: 10.6052\n",
            "Epoch 63/500\n",
            "2/2 [==============================] - 0s 8ms/step - loss: 10.4893 - mae: 10.4893\n",
            "Epoch 64/500\n",
            "2/2 [==============================] - 0s 7ms/step - loss: 24.8450 - mae: 24.8450\n",
            "Epoch 65/500\n",
            "2/2 [==============================] - 0s 13ms/step - loss: 10.6761 - mae: 10.6761\n",
            "Epoch 66/500\n",
            "2/2 [==============================] - 0s 13ms/step - loss: 21.7809 - mae: 21.7809\n",
            "Epoch 67/500\n",
            "2/2 [==============================] - 0s 6ms/step - loss: 10.7136 - mae: 10.7136\n",
            "Epoch 68/500\n",
            "2/2 [==============================] - 0s 7ms/step - loss: 10.6397 - mae: 10.6397\n",
            "Epoch 69/500\n",
            "2/2 [==============================] - 0s 13ms/step - loss: 22.6914 - mae: 22.6914\n",
            "Epoch 70/500\n",
            "2/2 [==============================] - 0s 8ms/step - loss: 9.3316 - mae: 9.3316\n",
            "Epoch 71/500\n",
            "2/2 [==============================] - 0s 5ms/step - loss: 15.4355 - mae: 15.4355\n",
            "Epoch 72/500\n",
            "2/2 [==============================] - 0s 6ms/step - loss: 6.7437 - mae: 6.7437\n",
            "Epoch 73/500\n",
            "2/2 [==============================] - 0s 7ms/step - loss: 11.6891 - mae: 11.6891\n",
            "Epoch 74/500\n",
            "2/2 [==============================] - 0s 4ms/step - loss: 24.0400 - mae: 24.0400\n",
            "Epoch 75/500\n",
            "2/2 [==============================] - 0s 9ms/step - loss: 9.5896 - mae: 9.5896\n",
            "Epoch 76/500\n",
            "2/2 [==============================] - 0s 7ms/step - loss: 12.4371 - mae: 12.4371\n",
            "Epoch 77/500\n",
            "2/2 [==============================] - 0s 9ms/step - loss: 16.6489 - mae: 16.6489\n",
            "Epoch 78/500\n",
            "2/2 [==============================] - 0s 8ms/step - loss: 9.0614 - mae: 9.0614\n",
            "Epoch 79/500\n",
            "2/2 [==============================] - 0s 5ms/step - loss: 23.9675 - mae: 23.9675\n",
            "Epoch 80/500\n",
            "2/2 [==============================] - 0s 5ms/step - loss: 26.7463 - mae: 26.7463\n",
            "Epoch 81/500\n",
            "2/2 [==============================] - 0s 5ms/step - loss: 11.6714 - mae: 11.6714\n",
            "Epoch 82/500\n",
            "2/2 [==============================] - 0s 8ms/step - loss: 12.0228 - mae: 12.0228\n",
            "Epoch 83/500\n",
            "2/2 [==============================] - 0s 6ms/step - loss: 17.4218 - mae: 17.4218\n",
            "Epoch 84/500\n",
            "2/2 [==============================] - 0s 10ms/step - loss: 7.2629 - mae: 7.2629\n",
            "Epoch 85/500\n",
            "2/2 [==============================] - 0s 14ms/step - loss: 14.9650 - mae: 14.9650\n",
            "Epoch 86/500\n",
            "2/2 [==============================] - 0s 7ms/step - loss: 15.2862 - mae: 15.2862\n",
            "Epoch 87/500\n",
            "2/2 [==============================] - 0s 11ms/step - loss: 19.1086 - mae: 19.1086\n",
            "Epoch 88/500\n",
            "2/2 [==============================] - 0s 12ms/step - loss: 29.8229 - mae: 29.8229\n",
            "Epoch 89/500\n",
            "2/2 [==============================] - 0s 12ms/step - loss: 10.1742 - mae: 10.1742\n",
            "Epoch 90/500\n",
            "2/2 [==============================] - 0s 18ms/step - loss: 21.5240 - mae: 21.5240\n",
            "Epoch 91/500\n",
            "2/2 [==============================] - 0s 12ms/step - loss: 10.5716 - mae: 10.5716\n",
            "Epoch 92/500\n",
            "2/2 [==============================] - 0s 11ms/step - loss: 18.3977 - mae: 18.3977\n",
            "Epoch 93/500\n",
            "2/2 [==============================] - 0s 10ms/step - loss: 7.4138 - mae: 7.4138\n",
            "Epoch 94/500\n",
            "2/2 [==============================] - 0s 11ms/step - loss: 17.7380 - mae: 17.7380\n",
            "Epoch 95/500\n",
            "2/2 [==============================] - 0s 9ms/step - loss: 11.1144 - mae: 11.1144\n",
            "Epoch 96/500\n",
            "2/2 [==============================] - 0s 12ms/step - loss: 19.4346 - mae: 19.4346\n",
            "Epoch 97/500\n",
            "2/2 [==============================] - 0s 9ms/step - loss: 12.1593 - mae: 12.1593\n",
            "Epoch 98/500\n",
            "2/2 [==============================] - 0s 9ms/step - loss: 11.5653 - mae: 11.5653\n",
            "Epoch 99/500\n",
            "2/2 [==============================] - 0s 7ms/step - loss: 13.8827 - mae: 13.8827\n",
            "Epoch 100/500\n",
            "2/2 [==============================] - 0s 8ms/step - loss: 20.2277 - mae: 20.2277\n",
            "Epoch 101/500\n",
            "2/2 [==============================] - 0s 6ms/step - loss: 11.4479 - mae: 11.4479\n",
            "Epoch 102/500\n",
            "2/2 [==============================] - 0s 7ms/step - loss: 17.4842 - mae: 17.4842\n",
            "Epoch 103/500\n",
            "2/2 [==============================] - 0s 6ms/step - loss: 7.0217 - mae: 7.0217\n",
            "Epoch 104/500\n",
            "2/2 [==============================] - 0s 8ms/step - loss: 23.5789 - mae: 23.5789\n",
            "Epoch 105/500\n",
            "2/2 [==============================] - 0s 9ms/step - loss: 16.8932 - mae: 16.8932\n",
            "Epoch 106/500\n",
            "2/2 [==============================] - 0s 9ms/step - loss: 9.2954 - mae: 9.2954\n",
            "Epoch 107/500\n",
            "2/2 [==============================] - 0s 11ms/step - loss: 25.3749 - mae: 25.3749\n",
            "Epoch 108/500\n",
            "2/2 [==============================] - 0s 13ms/step - loss: 13.4621 - mae: 13.4621\n",
            "Epoch 109/500\n",
            "2/2 [==============================] - 0s 13ms/step - loss: 9.5238 - mae: 9.5238\n",
            "Epoch 110/500\n",
            "2/2 [==============================] - 0s 10ms/step - loss: 9.6722 - mae: 9.6722\n",
            "Epoch 111/500\n",
            "2/2 [==============================] - 0s 10ms/step - loss: 14.5987 - mae: 14.5987\n",
            "Epoch 112/500\n",
            "2/2 [==============================] - 0s 9ms/step - loss: 9.5670 - mae: 9.5670\n",
            "Epoch 113/500\n",
            "2/2 [==============================] - 0s 7ms/step - loss: 17.8092 - mae: 17.8092\n",
            "Epoch 114/500\n",
            "2/2 [==============================] - 0s 7ms/step - loss: 17.1782 - mae: 17.1782\n",
            "Epoch 115/500\n",
            "2/2 [==============================] - 0s 6ms/step - loss: 11.1182 - mae: 11.1182\n",
            "Epoch 116/500\n",
            "2/2 [==============================] - 0s 10ms/step - loss: 23.3071 - mae: 23.3071\n",
            "Epoch 117/500\n",
            "2/2 [==============================] - 0s 7ms/step - loss: 9.6144 - mae: 9.6144\n",
            "Epoch 118/500\n",
            "2/2 [==============================] - 0s 6ms/step - loss: 10.6899 - mae: 10.6899\n",
            "Epoch 119/500\n",
            "2/2 [==============================] - 0s 7ms/step - loss: 8.0355 - mae: 8.0355\n",
            "Epoch 120/500\n",
            "2/2 [==============================] - 0s 7ms/step - loss: 29.6859 - mae: 29.6859\n",
            "Epoch 121/500\n",
            "2/2 [==============================] - 0s 8ms/step - loss: 8.0714 - mae: 8.0714\n",
            "Epoch 122/500\n",
            "2/2 [==============================] - 0s 7ms/step - loss: 28.3086 - mae: 28.3086\n",
            "Epoch 123/500\n",
            "2/2 [==============================] - 0s 6ms/step - loss: 32.9014 - mae: 32.9014\n",
            "Epoch 124/500\n",
            "2/2 [==============================] - 0s 6ms/step - loss: 19.6291 - mae: 19.6291\n",
            "Epoch 125/500\n",
            "2/2 [==============================] - 0s 6ms/step - loss: 7.0095 - mae: 7.0095\n",
            "Epoch 126/500\n",
            "2/2 [==============================] - 0s 6ms/step - loss: 21.8056 - mae: 21.8056\n",
            "Epoch 127/500\n",
            "2/2 [==============================] - 0s 6ms/step - loss: 7.9812 - mae: 7.9812\n",
            "Epoch 128/500\n",
            "2/2 [==============================] - 0s 7ms/step - loss: 21.0585 - mae: 21.0585\n",
            "Epoch 129/500\n",
            "2/2 [==============================] - 0s 7ms/step - loss: 9.0107 - mae: 9.0107\n",
            "Epoch 130/500\n",
            "2/2 [==============================] - 0s 6ms/step - loss: 24.0502 - mae: 24.0502\n",
            "Epoch 131/500\n",
            "2/2 [==============================] - 0s 7ms/step - loss: 9.7537 - mae: 9.7537\n",
            "Epoch 132/500\n",
            "2/2 [==============================] - 0s 7ms/step - loss: 18.3052 - mae: 18.3052\n",
            "Epoch 133/500\n",
            "2/2 [==============================] - 0s 13ms/step - loss: 7.5833 - mae: 7.5833\n",
            "Epoch 134/500\n",
            "2/2 [==============================] - 0s 9ms/step - loss: 18.5755 - mae: 18.5755\n",
            "Epoch 135/500\n",
            "2/2 [==============================] - 0s 10ms/step - loss: 10.5360 - mae: 10.5360\n",
            "Epoch 136/500\n",
            "2/2 [==============================] - 0s 6ms/step - loss: 18.2694 - mae: 18.2694\n",
            "Epoch 137/500\n",
            "2/2 [==============================] - 0s 5ms/step - loss: 23.1658 - mae: 23.1658\n",
            "Epoch 138/500\n",
            "2/2 [==============================] - 0s 5ms/step - loss: 9.1362 - mae: 9.1362\n",
            "Epoch 139/500\n",
            "2/2 [==============================] - 0s 6ms/step - loss: 8.9181 - mae: 8.9181\n",
            "Epoch 140/500\n",
            "2/2 [==============================] - 0s 6ms/step - loss: 16.4732 - mae: 16.4732\n",
            "Epoch 141/500\n",
            "2/2 [==============================] - 0s 6ms/step - loss: 8.4208 - mae: 8.4208\n",
            "Epoch 142/500\n",
            "2/2 [==============================] - 0s 6ms/step - loss: 36.9540 - mae: 36.9540\n",
            "Epoch 143/500\n",
            "2/2 [==============================] - 0s 5ms/step - loss: 25.5820 - mae: 25.5820\n",
            "Epoch 144/500\n",
            "2/2 [==============================] - 0s 6ms/step - loss: 9.5392 - mae: 9.5392\n",
            "Epoch 145/500\n",
            "2/2 [==============================] - 0s 7ms/step - loss: 26.6058 - mae: 26.6058\n",
            "Epoch 146/500\n",
            "2/2 [==============================] - 0s 6ms/step - loss: 8.7248 - mae: 8.7248\n",
            "Epoch 147/500\n",
            "2/2 [==============================] - 0s 12ms/step - loss: 15.6172 - mae: 15.6172\n",
            "Epoch 148/500\n",
            "2/2 [==============================] - 0s 14ms/step - loss: 18.3065 - mae: 18.3065\n",
            "Epoch 149/500\n",
            "2/2 [==============================] - 0s 9ms/step - loss: 8.1994 - mae: 8.1994\n",
            "Epoch 150/500\n",
            "2/2 [==============================] - 0s 7ms/step - loss: 7.4964 - mae: 7.4964\n",
            "Epoch 151/500\n",
            "2/2 [==============================] - 0s 7ms/step - loss: 18.3374 - mae: 18.3374\n",
            "Epoch 152/500\n",
            "2/2 [==============================] - 0s 7ms/step - loss: 10.2895 - mae: 10.2895\n",
            "Epoch 153/500\n",
            "2/2 [==============================] - 0s 7ms/step - loss: 29.6425 - mae: 29.6425\n",
            "Epoch 154/500\n",
            "2/2 [==============================] - 0s 6ms/step - loss: 10.5556 - mae: 10.5556\n",
            "Epoch 155/500\n",
            "2/2 [==============================] - 0s 6ms/step - loss: 15.4537 - mae: 15.4537\n",
            "Epoch 156/500\n",
            "2/2 [==============================] - 0s 5ms/step - loss: 17.0174 - mae: 17.0174\n",
            "Epoch 157/500\n",
            "2/2 [==============================] - 0s 10ms/step - loss: 32.8218 - mae: 32.8218\n",
            "Epoch 158/500\n",
            "2/2 [==============================] - 0s 10ms/step - loss: 10.7038 - mae: 10.7038\n",
            "Epoch 159/500\n",
            "2/2 [==============================] - 0s 9ms/step - loss: 8.9054 - mae: 8.9054\n",
            "Epoch 160/500\n",
            "2/2 [==============================] - 0s 9ms/step - loss: 22.1321 - mae: 22.1321\n",
            "Epoch 161/500\n",
            "2/2 [==============================] - 0s 6ms/step - loss: 11.7113 - mae: 11.7113\n",
            "Epoch 162/500\n",
            "2/2 [==============================] - 0s 6ms/step - loss: 21.5734 - mae: 21.5734\n",
            "Epoch 163/500\n",
            "2/2 [==============================] - 0s 6ms/step - loss: 19.2485 - mae: 19.2485\n",
            "Epoch 164/500\n",
            "2/2 [==============================] - 0s 6ms/step - loss: 11.0156 - mae: 11.0156\n",
            "Epoch 165/500\n",
            "2/2 [==============================] - 0s 7ms/step - loss: 9.6187 - mae: 9.6187\n",
            "Epoch 166/500\n",
            "2/2 [==============================] - 0s 6ms/step - loss: 21.5908 - mae: 21.5908\n",
            "Epoch 167/500\n",
            "2/2 [==============================] - 0s 6ms/step - loss: 26.2851 - mae: 26.2851\n",
            "Epoch 168/500\n",
            "2/2 [==============================] - 0s 10ms/step - loss: 9.8525 - mae: 9.8525\n",
            "Epoch 169/500\n",
            "2/2 [==============================] - 0s 10ms/step - loss: 22.5630 - mae: 22.5630\n",
            "Epoch 170/500\n",
            "2/2 [==============================] - 0s 15ms/step - loss: 10.1499 - mae: 10.1499\n",
            "Epoch 171/500\n",
            "2/2 [==============================] - 0s 6ms/step - loss: 18.0464 - mae: 18.0464\n",
            "Epoch 172/500\n",
            "2/2 [==============================] - 0s 6ms/step - loss: 28.8377 - mae: 28.8377\n",
            "Epoch 173/500\n",
            "2/2 [==============================] - 0s 9ms/step - loss: 16.5279 - mae: 16.5279\n",
            "Epoch 174/500\n",
            "2/2 [==============================] - 0s 9ms/step - loss: 11.2115 - mae: 11.2115\n",
            "Epoch 175/500\n",
            "2/2 [==============================] - 0s 11ms/step - loss: 27.5839 - mae: 27.5839\n",
            "Epoch 176/500\n",
            "2/2 [==============================] - 0s 9ms/step - loss: 8.2680 - mae: 8.2680\n",
            "Epoch 177/500\n",
            "2/2 [==============================] - 0s 9ms/step - loss: 9.2580 - mae: 9.2580\n",
            "Epoch 178/500\n",
            "2/2 [==============================] - 0s 9ms/step - loss: 18.1440 - mae: 18.1440\n",
            "Epoch 179/500\n",
            "2/2 [==============================] - 0s 9ms/step - loss: 10.5995 - mae: 10.5995\n",
            "Epoch 180/500\n",
            "2/2 [==============================] - 0s 9ms/step - loss: 7.8992 - mae: 7.8992\n",
            "Epoch 181/500\n",
            "2/2 [==============================] - 0s 8ms/step - loss: 17.4015 - mae: 17.4015\n",
            "Epoch 182/500\n",
            "2/2 [==============================] - 0s 15ms/step - loss: 11.0089 - mae: 11.0089\n",
            "Epoch 183/500\n",
            "2/2 [==============================] - 0s 6ms/step - loss: 11.7027 - mae: 11.7027\n",
            "Epoch 184/500\n",
            "2/2 [==============================] - 0s 14ms/step - loss: 30.4062 - mae: 30.4062\n",
            "Epoch 185/500\n",
            "2/2 [==============================] - 0s 5ms/step - loss: 7.5557 - mae: 7.5557\n",
            "Epoch 186/500\n",
            "2/2 [==============================] - 0s 5ms/step - loss: 15.9905 - mae: 15.9905\n",
            "Epoch 187/500\n",
            "2/2 [==============================] - 0s 13ms/step - loss: 8.5579 - mae: 8.5579\n",
            "Epoch 188/500\n",
            "2/2 [==============================] - 0s 6ms/step - loss: 28.7339 - mae: 28.7339\n",
            "Epoch 189/500\n",
            "2/2 [==============================] - 0s 5ms/step - loss: 13.1689 - mae: 13.1689\n",
            "Epoch 190/500\n",
            "2/2 [==============================] - 0s 7ms/step - loss: 18.3101 - mae: 18.3101\n",
            "Epoch 191/500\n",
            "2/2 [==============================] - 0s 14ms/step - loss: 13.7376 - mae: 13.7376\n",
            "Epoch 192/500\n",
            "2/2 [==============================] - 0s 10ms/step - loss: 13.7104 - mae: 13.7104\n",
            "Epoch 193/500\n",
            "2/2 [==============================] - 0s 6ms/step - loss: 28.5842 - mae: 28.5842\n",
            "Epoch 194/500\n",
            "2/2 [==============================] - 0s 6ms/step - loss: 7.0707 - mae: 7.0707\n",
            "Epoch 195/500\n",
            "2/2 [==============================] - 0s 5ms/step - loss: 7.0550 - mae: 7.0550\n",
            "Epoch 196/500\n",
            "2/2 [==============================] - 0s 8ms/step - loss: 22.0067 - mae: 22.0067\n",
            "Epoch 197/500\n",
            "2/2 [==============================] - 0s 7ms/step - loss: 20.8443 - mae: 20.8443\n",
            "Epoch 198/500\n",
            "2/2 [==============================] - 0s 7ms/step - loss: 12.4713 - mae: 12.4713\n",
            "Epoch 199/500\n",
            "2/2 [==============================] - 0s 9ms/step - loss: 17.9099 - mae: 17.9099\n",
            "Epoch 200/500\n",
            "2/2 [==============================] - 0s 10ms/step - loss: 13.7494 - mae: 13.7494\n",
            "Epoch 201/500\n",
            "2/2 [==============================] - 0s 11ms/step - loss: 5.4687 - mae: 5.4687\n",
            "Epoch 202/500\n",
            "2/2 [==============================] - 0s 10ms/step - loss: 13.7006 - mae: 13.7006\n",
            "Epoch 203/500\n",
            "2/2 [==============================] - 0s 12ms/step - loss: 9.4142 - mae: 9.4142\n",
            "Epoch 204/500\n",
            "2/2 [==============================] - 0s 10ms/step - loss: 20.9796 - mae: 20.9796\n",
            "Epoch 205/500\n",
            "2/2 [==============================] - 0s 7ms/step - loss: 9.5470 - mae: 9.5470\n",
            "Epoch 206/500\n",
            "2/2 [==============================] - 0s 10ms/step - loss: 11.7256 - mae: 11.7256\n",
            "Epoch 207/500\n",
            "2/2 [==============================] - 0s 8ms/step - loss: 14.3772 - mae: 14.3772\n",
            "Epoch 208/500\n",
            "2/2 [==============================] - 0s 6ms/step - loss: 14.8579 - mae: 14.8579\n",
            "Epoch 209/500\n",
            "2/2 [==============================] - 0s 6ms/step - loss: 14.9706 - mae: 14.9706\n",
            "Epoch 210/500\n",
            "2/2 [==============================] - 0s 6ms/step - loss: 17.8998 - mae: 17.8998\n",
            "Epoch 211/500\n",
            "2/2 [==============================] - 0s 6ms/step - loss: 9.8327 - mae: 9.8327\n",
            "Epoch 212/500\n",
            "2/2 [==============================] - 0s 11ms/step - loss: 18.3352 - mae: 18.3352\n",
            "Epoch 213/500\n",
            "2/2 [==============================] - 0s 11ms/step - loss: 15.0383 - mae: 15.0383\n",
            "Epoch 214/500\n",
            "2/2 [==============================] - 0s 11ms/step - loss: 14.5874 - mae: 14.5874\n",
            "Epoch 215/500\n",
            "2/2 [==============================] - 0s 9ms/step - loss: 23.3015 - mae: 23.3015\n",
            "Epoch 216/500\n",
            "2/2 [==============================] - 0s 8ms/step - loss: 13.3613 - mae: 13.3613\n",
            "Epoch 217/500\n",
            "2/2 [==============================] - 0s 21ms/step - loss: 9.8517 - mae: 9.8517\n",
            "Epoch 218/500\n",
            "2/2 [==============================] - 0s 10ms/step - loss: 12.5451 - mae: 12.5451\n",
            "Epoch 219/500\n",
            "2/2 [==============================] - 0s 10ms/step - loss: 4.9472 - mae: 4.9472\n",
            "Epoch 220/500\n",
            "2/2 [==============================] - 0s 9ms/step - loss: 7.1130 - mae: 7.1130\n",
            "Epoch 221/500\n",
            "2/2 [==============================] - 0s 11ms/step - loss: 35.4567 - mae: 35.4567\n",
            "Epoch 222/500\n",
            "2/2 [==============================] - 0s 11ms/step - loss: 34.8634 - mae: 34.8634\n",
            "Epoch 223/500\n",
            "2/2 [==============================] - 0s 13ms/step - loss: 7.9846 - mae: 7.9846\n",
            "Epoch 224/500\n",
            "2/2 [==============================] - 0s 11ms/step - loss: 14.7004 - mae: 14.7004\n",
            "Epoch 225/500\n",
            "2/2 [==============================] - 0s 9ms/step - loss: 16.7196 - mae: 16.7196\n",
            "Epoch 226/500\n",
            "2/2 [==============================] - 0s 9ms/step - loss: 15.9329 - mae: 15.9329\n",
            "Epoch 227/500\n",
            "2/2 [==============================] - 0s 7ms/step - loss: 16.1644 - mae: 16.1644\n",
            "Epoch 228/500\n",
            "2/2 [==============================] - 0s 8ms/step - loss: 13.9324 - mae: 13.9324\n",
            "Epoch 229/500\n",
            "2/2 [==============================] - 0s 15ms/step - loss: 18.0504 - mae: 18.0504\n",
            "Epoch 230/500\n",
            "2/2 [==============================] - 0s 10ms/step - loss: 15.6120 - mae: 15.6120\n",
            "Epoch 231/500\n",
            "2/2 [==============================] - 0s 10ms/step - loss: 21.2041 - mae: 21.2041\n",
            "Epoch 232/500\n",
            "2/2 [==============================] - 0s 5ms/step - loss: 25.2732 - mae: 25.2732\n",
            "Epoch 233/500\n",
            "2/2 [==============================] - 0s 6ms/step - loss: 16.3176 - mae: 16.3176\n",
            "Epoch 234/500\n",
            "2/2 [==============================] - 0s 8ms/step - loss: 7.2729 - mae: 7.2729\n",
            "Epoch 235/500\n",
            "2/2 [==============================] - 0s 5ms/step - loss: 16.9688 - mae: 16.9688\n",
            "Epoch 236/500\n",
            "2/2 [==============================] - 0s 8ms/step - loss: 7.1225 - mae: 7.1225\n",
            "Epoch 237/500\n",
            "2/2 [==============================] - 0s 7ms/step - loss: 9.2058 - mae: 9.2058\n",
            "Epoch 238/500\n",
            "2/2 [==============================] - 0s 5ms/step - loss: 8.0961 - mae: 8.0961\n",
            "Epoch 239/500\n",
            "2/2 [==============================] - 0s 8ms/step - loss: 17.0538 - mae: 17.0538\n",
            "Epoch 240/500\n",
            "2/2 [==============================] - 0s 7ms/step - loss: 8.8627 - mae: 8.8627\n",
            "Epoch 241/500\n",
            "2/2 [==============================] - 0s 8ms/step - loss: 13.1711 - mae: 13.1711\n",
            "Epoch 242/500\n",
            "2/2 [==============================] - 0s 9ms/step - loss: 8.7886 - mae: 8.7886\n",
            "Epoch 243/500\n",
            "2/2 [==============================] - 0s 8ms/step - loss: 18.8161 - mae: 18.8161\n",
            "Epoch 244/500\n",
            "2/2 [==============================] - 0s 10ms/step - loss: 14.0531 - mae: 14.0531\n",
            "Epoch 245/500\n",
            "2/2 [==============================] - 0s 11ms/step - loss: 14.6831 - mae: 14.6831\n",
            "Epoch 246/500\n",
            "2/2 [==============================] - 0s 8ms/step - loss: 15.8045 - mae: 15.8045\n",
            "Epoch 247/500\n",
            "2/2 [==============================] - 0s 10ms/step - loss: 17.6810 - mae: 17.6810\n",
            "Epoch 248/500\n",
            "2/2 [==============================] - 0s 17ms/step - loss: 13.2367 - mae: 13.2367\n",
            "Epoch 249/500\n",
            "2/2 [==============================] - 0s 11ms/step - loss: 14.5070 - mae: 14.5070\n",
            "Epoch 250/500\n",
            "2/2 [==============================] - 0s 13ms/step - loss: 23.2322 - mae: 23.2322\n",
            "Epoch 251/500\n",
            "2/2 [==============================] - 0s 8ms/step - loss: 9.3009 - mae: 9.3009\n",
            "Epoch 252/500\n",
            "2/2 [==============================] - 0s 9ms/step - loss: 36.6569 - mae: 36.6569\n",
            "Epoch 253/500\n",
            "2/2 [==============================] - 0s 12ms/step - loss: 21.8205 - mae: 21.8205\n",
            "Epoch 254/500\n",
            "2/2 [==============================] - 0s 10ms/step - loss: 7.2792 - mae: 7.2792\n",
            "Epoch 255/500\n",
            "2/2 [==============================] - 0s 11ms/step - loss: 24.7127 - mae: 24.7127\n",
            "Epoch 256/500\n",
            "2/2 [==============================] - 0s 9ms/step - loss: 12.4220 - mae: 12.4220\n",
            "Epoch 257/500\n",
            "2/2 [==============================] - 0s 10ms/step - loss: 10.5823 - mae: 10.5823\n",
            "Epoch 258/500\n",
            "2/2 [==============================] - 0s 10ms/step - loss: 14.4883 - mae: 14.4883\n",
            "Epoch 259/500\n",
            "2/2 [==============================] - 0s 7ms/step - loss: 8.6132 - mae: 8.6132\n",
            "Epoch 260/500\n",
            "2/2 [==============================] - 0s 6ms/step - loss: 43.0580 - mae: 43.0580\n",
            "Epoch 261/500\n",
            "2/2 [==============================] - 0s 13ms/step - loss: 18.4611 - mae: 18.4611\n",
            "Epoch 262/500\n",
            "2/2 [==============================] - 0s 16ms/step - loss: 6.8820 - mae: 6.8820\n",
            "Epoch 263/500\n",
            "2/2 [==============================] - 0s 11ms/step - loss: 13.7211 - mae: 13.7211\n",
            "Epoch 264/500\n",
            "2/2 [==============================] - 0s 8ms/step - loss: 21.0154 - mae: 21.0154\n",
            "Epoch 265/500\n",
            "2/2 [==============================] - 0s 18ms/step - loss: 19.3731 - mae: 19.3731\n",
            "Epoch 266/500\n",
            "2/2 [==============================] - 0s 11ms/step - loss: 11.4735 - mae: 11.4735\n",
            "Epoch 267/500\n",
            "2/2 [==============================] - 0s 5ms/step - loss: 7.5302 - mae: 7.5302\n",
            "Epoch 268/500\n",
            "2/2 [==============================] - 0s 5ms/step - loss: 21.6453 - mae: 21.6453\n",
            "Epoch 269/500\n",
            "2/2 [==============================] - 0s 5ms/step - loss: 33.1785 - mae: 33.1785\n",
            "Epoch 270/500\n",
            "2/2 [==============================] - 0s 5ms/step - loss: 10.0833 - mae: 10.0833\n",
            "Epoch 271/500\n",
            "2/2 [==============================] - 0s 4ms/step - loss: 12.1012 - mae: 12.1012\n",
            "Epoch 272/500\n",
            "2/2 [==============================] - 0s 9ms/step - loss: 26.1372 - mae: 26.1372\n",
            "Epoch 273/500\n",
            "2/2 [==============================] - 0s 5ms/step - loss: 12.1751 - mae: 12.1751\n",
            "Epoch 274/500\n",
            "2/2 [==============================] - 0s 18ms/step - loss: 13.3272 - mae: 13.3272\n",
            "Epoch 275/500\n",
            "2/2 [==============================] - 0s 10ms/step - loss: 29.3775 - mae: 29.3775\n",
            "Epoch 276/500\n",
            "2/2 [==============================] - 0s 4ms/step - loss: 7.3329 - mae: 7.3329\n",
            "Epoch 277/500\n",
            "2/2 [==============================] - 0s 14ms/step - loss: 31.1362 - mae: 31.1362\n",
            "Epoch 278/500\n",
            "2/2 [==============================] - 0s 13ms/step - loss: 12.3015 - mae: 12.3015\n",
            "Epoch 279/500\n",
            "2/2 [==============================] - 0s 11ms/step - loss: 16.4103 - mae: 16.4103\n",
            "Epoch 280/500\n",
            "2/2 [==============================] - 0s 13ms/step - loss: 21.9118 - mae: 21.9118\n",
            "Epoch 281/500\n",
            "2/2 [==============================] - 0s 10ms/step - loss: 22.1501 - mae: 22.1501\n",
            "Epoch 282/500\n",
            "2/2 [==============================] - 0s 11ms/step - loss: 7.7429 - mae: 7.7429\n",
            "Epoch 283/500\n",
            "2/2 [==============================] - 0s 14ms/step - loss: 8.1429 - mae: 8.1429\n",
            "Epoch 284/500\n",
            "2/2 [==============================] - 0s 12ms/step - loss: 24.9435 - mae: 24.9435\n",
            "Epoch 285/500\n",
            "2/2 [==============================] - 0s 11ms/step - loss: 13.6958 - mae: 13.6958\n",
            "Epoch 286/500\n",
            "2/2 [==============================] - 0s 7ms/step - loss: 6.8926 - mae: 6.8926\n",
            "Epoch 287/500\n",
            "2/2 [==============================] - 0s 9ms/step - loss: 24.5352 - mae: 24.5352\n",
            "Epoch 288/500\n",
            "2/2 [==============================] - 0s 6ms/step - loss: 20.1721 - mae: 20.1721\n",
            "Epoch 289/500\n",
            "2/2 [==============================] - 0s 8ms/step - loss: 11.9658 - mae: 11.9658\n",
            "Epoch 290/500\n",
            "2/2 [==============================] - 0s 11ms/step - loss: 16.5391 - mae: 16.5391\n",
            "Epoch 291/500\n",
            "2/2 [==============================] - 0s 11ms/step - loss: 16.8017 - mae: 16.8017\n",
            "Epoch 292/500\n",
            "2/2 [==============================] - 0s 11ms/step - loss: 9.4642 - mae: 9.4642\n",
            "Epoch 293/500\n",
            "2/2 [==============================] - 0s 11ms/step - loss: 15.2711 - mae: 15.2711\n",
            "Epoch 294/500\n",
            "2/2 [==============================] - 0s 10ms/step - loss: 22.7179 - mae: 22.7179\n",
            "Epoch 295/500\n",
            "2/2 [==============================] - 0s 5ms/step - loss: 17.9234 - mae: 17.9234\n",
            "Epoch 296/500\n",
            "2/2 [==============================] - 0s 9ms/step - loss: 6.1743 - mae: 6.1743\n",
            "Epoch 297/500\n",
            "2/2 [==============================] - 0s 14ms/step - loss: 10.9440 - mae: 10.9440\n",
            "Epoch 298/500\n",
            "2/2 [==============================] - 0s 13ms/step - loss: 23.1530 - mae: 23.1530\n",
            "Epoch 299/500\n",
            "2/2 [==============================] - 0s 11ms/step - loss: 17.7331 - mae: 17.7331\n",
            "Epoch 300/500\n",
            "2/2 [==============================] - 0s 11ms/step - loss: 6.9824 - mae: 6.9824\n",
            "Epoch 301/500\n",
            "2/2 [==============================] - 0s 14ms/step - loss: 25.1857 - mae: 25.1857\n",
            "Epoch 302/500\n",
            "2/2 [==============================] - 0s 9ms/step - loss: 8.9025 - mae: 8.9025\n",
            "Epoch 303/500\n",
            "2/2 [==============================] - 0s 9ms/step - loss: 17.7668 - mae: 17.7668\n",
            "Epoch 304/500\n",
            "2/2 [==============================] - 0s 6ms/step - loss: 11.0002 - mae: 11.0002\n",
            "Epoch 305/500\n",
            "2/2 [==============================] - 0s 5ms/step - loss: 12.9191 - mae: 12.9191\n",
            "Epoch 306/500\n",
            "2/2 [==============================] - 0s 6ms/step - loss: 8.4033 - mae: 8.4033\n",
            "Epoch 307/500\n",
            "2/2 [==============================] - 0s 6ms/step - loss: 13.6094 - mae: 13.6094\n",
            "Epoch 308/500\n",
            "2/2 [==============================] - 0s 6ms/step - loss: 7.4404 - mae: 7.4404\n",
            "Epoch 309/500\n",
            "2/2 [==============================] - 0s 6ms/step - loss: 9.4642 - mae: 9.4642\n",
            "Epoch 310/500\n",
            "2/2 [==============================] - 0s 5ms/step - loss: 10.7099 - mae: 10.7099\n",
            "Epoch 311/500\n",
            "2/2 [==============================] - 0s 10ms/step - loss: 13.2814 - mae: 13.2814\n",
            "Epoch 312/500\n",
            "2/2 [==============================] - 0s 6ms/step - loss: 29.9763 - mae: 29.9763\n",
            "Epoch 313/500\n",
            "2/2 [==============================] - 0s 6ms/step - loss: 7.6304 - mae: 7.6304\n",
            "Epoch 314/500\n",
            "2/2 [==============================] - 0s 10ms/step - loss: 9.9106 - mae: 9.9106\n",
            "Epoch 315/500\n",
            "2/2 [==============================] - 0s 8ms/step - loss: 23.7669 - mae: 23.7669\n",
            "Epoch 316/500\n",
            "2/2 [==============================] - 0s 8ms/step - loss: 16.3937 - mae: 16.3937\n",
            "Epoch 317/500\n",
            "2/2 [==============================] - 0s 7ms/step - loss: 21.0758 - mae: 21.0758\n",
            "Epoch 318/500\n",
            "2/2 [==============================] - 0s 5ms/step - loss: 7.9367 - mae: 7.9367\n",
            "Epoch 319/500\n",
            "2/2 [==============================] - 0s 5ms/step - loss: 17.9731 - mae: 17.9731\n",
            "Epoch 320/500\n",
            "2/2 [==============================] - 0s 13ms/step - loss: 10.2375 - mae: 10.2375\n",
            "Epoch 321/500\n",
            "2/2 [==============================] - 0s 10ms/step - loss: 8.3338 - mae: 8.3338\n",
            "Epoch 322/500\n",
            "2/2 [==============================] - 0s 8ms/step - loss: 5.0621 - mae: 5.0621\n",
            "Epoch 323/500\n",
            "2/2 [==============================] - 0s 13ms/step - loss: 23.5109 - mae: 23.5109\n",
            "Epoch 324/500\n",
            "2/2 [==============================] - 0s 9ms/step - loss: 6.8309 - mae: 6.8309\n",
            "Epoch 325/500\n",
            "2/2 [==============================] - 0s 8ms/step - loss: 16.3863 - mae: 16.3863\n",
            "Epoch 326/500\n",
            "2/2 [==============================] - 0s 10ms/step - loss: 7.5019 - mae: 7.5019\n",
            "Epoch 327/500\n",
            "2/2 [==============================] - 0s 10ms/step - loss: 20.0573 - mae: 20.0573\n",
            "Epoch 328/500\n",
            "2/2 [==============================] - 0s 11ms/step - loss: 13.7661 - mae: 13.7661\n",
            "Epoch 329/500\n",
            "2/2 [==============================] - 0s 9ms/step - loss: 16.8282 - mae: 16.8282\n",
            "Epoch 330/500\n",
            "2/2 [==============================] - 0s 6ms/step - loss: 7.0514 - mae: 7.0514\n",
            "Epoch 331/500\n",
            "2/2 [==============================] - 0s 6ms/step - loss: 21.4846 - mae: 21.4846\n",
            "Epoch 332/500\n",
            "2/2 [==============================] - 0s 6ms/step - loss: 12.2880 - mae: 12.2880\n",
            "Epoch 333/500\n",
            "2/2 [==============================] - 0s 6ms/step - loss: 11.8117 - mae: 11.8117\n",
            "Epoch 334/500\n",
            "2/2 [==============================] - 0s 6ms/step - loss: 8.3600 - mae: 8.3600\n",
            "Epoch 335/500\n",
            "2/2 [==============================] - 0s 12ms/step - loss: 12.4833 - mae: 12.4833\n",
            "Epoch 336/500\n",
            "2/2 [==============================] - 0s 8ms/step - loss: 32.2171 - mae: 32.2171\n",
            "Epoch 337/500\n",
            "2/2 [==============================] - 0s 11ms/step - loss: 10.4477 - mae: 10.4477\n",
            "Epoch 338/500\n",
            "2/2 [==============================] - 0s 10ms/step - loss: 19.6832 - mae: 19.6832\n",
            "Epoch 339/500\n",
            "2/2 [==============================] - 0s 7ms/step - loss: 35.0762 - mae: 35.0762\n",
            "Epoch 340/500\n",
            "2/2 [==============================] - 0s 9ms/step - loss: 10.4192 - mae: 10.4192\n",
            "Epoch 341/500\n",
            "2/2 [==============================] - 0s 11ms/step - loss: 9.7625 - mae: 9.7625\n",
            "Epoch 342/500\n",
            "2/2 [==============================] - 0s 13ms/step - loss: 11.9500 - mae: 11.9500\n",
            "Epoch 343/500\n",
            "2/2 [==============================] - 0s 13ms/step - loss: 9.3943 - mae: 9.3943\n",
            "Epoch 344/500\n",
            "2/2 [==============================] - 0s 6ms/step - loss: 5.6071 - mae: 5.6071\n",
            "Epoch 345/500\n",
            "2/2 [==============================] - 0s 7ms/step - loss: 37.4876 - mae: 37.4876\n",
            "Epoch 346/500\n",
            "2/2 [==============================] - 0s 19ms/step - loss: 16.8830 - mae: 16.8830\n",
            "Epoch 347/500\n",
            "2/2 [==============================] - 0s 15ms/step - loss: 12.8748 - mae: 12.8748\n",
            "Epoch 348/500\n",
            "2/2 [==============================] - 0s 9ms/step - loss: 8.1960 - mae: 8.1960\n",
            "Epoch 349/500\n",
            "2/2 [==============================] - 0s 7ms/step - loss: 13.5568 - mae: 13.5568\n",
            "Epoch 350/500\n",
            "2/2 [==============================] - 0s 6ms/step - loss: 15.4354 - mae: 15.4354\n",
            "Epoch 351/500\n",
            "2/2 [==============================] - 0s 6ms/step - loss: 32.9626 - mae: 32.9626\n",
            "Epoch 352/500\n",
            "2/2 [==============================] - 0s 6ms/step - loss: 14.2040 - mae: 14.2040\n",
            "Epoch 353/500\n",
            "2/2 [==============================] - 0s 9ms/step - loss: 15.9196 - mae: 15.9196\n",
            "Epoch 354/500\n",
            "2/2 [==============================] - 0s 12ms/step - loss: 19.0878 - mae: 19.0878\n",
            "Epoch 355/500\n",
            "2/2 [==============================] - 0s 6ms/step - loss: 34.1178 - mae: 34.1178\n",
            "Epoch 356/500\n",
            "2/2 [==============================] - 0s 13ms/step - loss: 7.6798 - mae: 7.6798\n",
            "Epoch 357/500\n",
            "2/2 [==============================] - 0s 10ms/step - loss: 25.2287 - mae: 25.2287\n",
            "Epoch 358/500\n",
            "2/2 [==============================] - 0s 10ms/step - loss: 22.6759 - mae: 22.6759\n",
            "Epoch 359/500\n",
            "2/2 [==============================] - 0s 10ms/step - loss: 8.8765 - mae: 8.8765\n",
            "Epoch 360/500\n",
            "2/2 [==============================] - 0s 11ms/step - loss: 21.4709 - mae: 21.4709\n",
            "Epoch 361/500\n",
            "2/2 [==============================] - 0s 10ms/step - loss: 20.6073 - mae: 20.6073\n",
            "Epoch 362/500\n",
            "2/2 [==============================] - 0s 13ms/step - loss: 7.0611 - mae: 7.0611\n",
            "Epoch 363/500\n",
            "2/2 [==============================] - 0s 7ms/step - loss: 25.8117 - mae: 25.8117\n",
            "Epoch 364/500\n",
            "2/2 [==============================] - 0s 9ms/step - loss: 32.2247 - mae: 32.2247\n",
            "Epoch 365/500\n",
            "2/2 [==============================] - 0s 9ms/step - loss: 10.0204 - mae: 10.0204\n",
            "Epoch 366/500\n",
            "2/2 [==============================] - 0s 7ms/step - loss: 9.6722 - mae: 9.6722\n",
            "Epoch 367/500\n",
            "2/2 [==============================] - 0s 9ms/step - loss: 30.4171 - mae: 30.4171\n",
            "Epoch 368/500\n",
            "2/2 [==============================] - 0s 9ms/step - loss: 10.5020 - mae: 10.5020\n",
            "Epoch 369/500\n",
            "2/2 [==============================] - 0s 9ms/step - loss: 14.9909 - mae: 14.9909\n",
            "Epoch 370/500\n",
            "2/2 [==============================] - 0s 5ms/step - loss: 14.6580 - mae: 14.6580\n",
            "Epoch 371/500\n",
            "2/2 [==============================] - 0s 7ms/step - loss: 23.3672 - mae: 23.3672\n",
            "Epoch 372/500\n",
            "2/2 [==============================] - 0s 8ms/step - loss: 13.1025 - mae: 13.1025\n",
            "Epoch 373/500\n",
            "2/2 [==============================] - 0s 13ms/step - loss: 9.2586 - mae: 9.2586\n",
            "Epoch 374/500\n",
            "2/2 [==============================] - 0s 8ms/step - loss: 9.6648 - mae: 9.6648\n",
            "Epoch 375/500\n",
            "2/2 [==============================] - 0s 8ms/step - loss: 13.0041 - mae: 13.0041\n",
            "Epoch 376/500\n",
            "2/2 [==============================] - 0s 7ms/step - loss: 14.8863 - mae: 14.8863\n",
            "Epoch 377/500\n",
            "2/2 [==============================] - 0s 7ms/step - loss: 14.7932 - mae: 14.7932\n",
            "Epoch 378/500\n",
            "2/2 [==============================] - 0s 8ms/step - loss: 16.2751 - mae: 16.2751\n",
            "Epoch 379/500\n",
            "2/2 [==============================] - 0s 13ms/step - loss: 20.8307 - mae: 20.8307\n",
            "Epoch 380/500\n",
            "2/2 [==============================] - 0s 8ms/step - loss: 33.5317 - mae: 33.5317\n",
            "Epoch 381/500\n",
            "2/2 [==============================] - 0s 7ms/step - loss: 8.2166 - mae: 8.2166\n",
            "Epoch 382/500\n",
            "2/2 [==============================] - 0s 7ms/step - loss: 13.0960 - mae: 13.0960\n",
            "Epoch 383/500\n",
            "2/2 [==============================] - 0s 14ms/step - loss: 8.3999 - mae: 8.3999\n",
            "Epoch 384/500\n",
            "2/2 [==============================] - 0s 9ms/step - loss: 7.1283 - mae: 7.1283\n",
            "Epoch 385/500\n",
            "2/2 [==============================] - 0s 14ms/step - loss: 10.9390 - mae: 10.9390\n",
            "Epoch 386/500\n",
            "2/2 [==============================] - 0s 15ms/step - loss: 19.7654 - mae: 19.7654\n",
            "Epoch 387/500\n",
            "2/2 [==============================] - 0s 4ms/step - loss: 24.8625 - mae: 24.8625\n",
            "Epoch 388/500\n",
            "2/2 [==============================] - 0s 7ms/step - loss: 8.7422 - mae: 8.7422\n",
            "Epoch 389/500\n",
            "2/2 [==============================] - 0s 10ms/step - loss: 5.9488 - mae: 5.9488\n",
            "Epoch 390/500\n",
            "2/2 [==============================] - 0s 10ms/step - loss: 24.4400 - mae: 24.4400\n",
            "Epoch 391/500\n",
            "2/2 [==============================] - 0s 6ms/step - loss: 5.9771 - mae: 5.9771\n",
            "Epoch 392/500\n",
            "2/2 [==============================] - 0s 9ms/step - loss: 16.3250 - mae: 16.3250\n",
            "Epoch 393/500\n",
            "2/2 [==============================] - 0s 6ms/step - loss: 6.0917 - mae: 6.0917\n",
            "Epoch 394/500\n",
            "2/2 [==============================] - 0s 13ms/step - loss: 11.0963 - mae: 11.0963\n",
            "Epoch 395/500\n",
            "2/2 [==============================] - 0s 11ms/step - loss: 14.9601 - mae: 14.9601\n",
            "Epoch 396/500\n",
            "2/2 [==============================] - 0s 7ms/step - loss: 7.6462 - mae: 7.6462\n",
            "Epoch 397/500\n",
            "2/2 [==============================] - 0s 5ms/step - loss: 8.7654 - mae: 8.7654\n",
            "Epoch 398/500\n",
            "2/2 [==============================] - 0s 6ms/step - loss: 14.5991 - mae: 14.5991\n",
            "Epoch 399/500\n",
            "2/2 [==============================] - 0s 10ms/step - loss: 11.3166 - mae: 11.3166\n",
            "Epoch 400/500\n",
            "2/2 [==============================] - 0s 11ms/step - loss: 21.9080 - mae: 21.9080\n",
            "Epoch 401/500\n",
            "2/2 [==============================] - 0s 6ms/step - loss: 14.8653 - mae: 14.8653\n",
            "Epoch 402/500\n",
            "2/2 [==============================] - 0s 7ms/step - loss: 8.4970 - mae: 8.4970\n",
            "Epoch 403/500\n",
            "2/2 [==============================] - 0s 10ms/step - loss: 10.3957 - mae: 10.3957\n",
            "Epoch 404/500\n",
            "2/2 [==============================] - 0s 9ms/step - loss: 10.2556 - mae: 10.2556\n",
            "Epoch 405/500\n",
            "2/2 [==============================] - 0s 4ms/step - loss: 6.3392 - mae: 6.3392\n",
            "Epoch 406/500\n",
            "2/2 [==============================] - 0s 12ms/step - loss: 17.4602 - mae: 17.4602\n",
            "Epoch 407/500\n",
            "2/2 [==============================] - 0s 12ms/step - loss: 11.4627 - mae: 11.4627\n",
            "Epoch 408/500\n",
            "2/2 [==============================] - 0s 7ms/step - loss: 20.7294 - mae: 20.7294\n",
            "Epoch 409/500\n",
            "2/2 [==============================] - 0s 11ms/step - loss: 31.3338 - mae: 31.3338\n",
            "Epoch 410/500\n",
            "2/2 [==============================] - 0s 12ms/step - loss: 9.2542 - mae: 9.2542\n",
            "Epoch 411/500\n",
            "2/2 [==============================] - 0s 7ms/step - loss: 14.8621 - mae: 14.8621\n",
            "Epoch 412/500\n",
            "2/2 [==============================] - 0s 9ms/step - loss: 21.7182 - mae: 21.7182\n",
            "Epoch 413/500\n",
            "2/2 [==============================] - 0s 15ms/step - loss: 12.6615 - mae: 12.6615\n",
            "Epoch 414/500\n",
            "2/2 [==============================] - 0s 6ms/step - loss: 6.0687 - mae: 6.0687\n",
            "Epoch 415/500\n",
            "2/2 [==============================] - 0s 5ms/step - loss: 13.2201 - mae: 13.2201\n",
            "Epoch 416/500\n",
            "2/2 [==============================] - 0s 13ms/step - loss: 27.4244 - mae: 27.4244\n",
            "Epoch 417/500\n",
            "2/2 [==============================] - 0s 12ms/step - loss: 10.6407 - mae: 10.6407\n",
            "Epoch 418/500\n",
            "2/2 [==============================] - 0s 5ms/step - loss: 12.8230 - mae: 12.8230\n",
            "Epoch 419/500\n",
            "2/2 [==============================] - 0s 6ms/step - loss: 15.8836 - mae: 15.8836\n",
            "Epoch 420/500\n",
            "2/2 [==============================] - 0s 6ms/step - loss: 24.7510 - mae: 24.7510\n",
            "Epoch 421/500\n",
            "2/2 [==============================] - 0s 14ms/step - loss: 17.3753 - mae: 17.3753\n",
            "Epoch 422/500\n",
            "2/2 [==============================] - 0s 16ms/step - loss: 7.8241 - mae: 7.8241\n",
            "Epoch 423/500\n",
            "2/2 [==============================] - 0s 14ms/step - loss: 25.3789 - mae: 25.3789\n",
            "Epoch 424/500\n",
            "2/2 [==============================] - 0s 12ms/step - loss: 15.1031 - mae: 15.1031\n",
            "Epoch 425/500\n",
            "2/2 [==============================] - 0s 7ms/step - loss: 7.1643 - mae: 7.1643\n",
            "Epoch 426/500\n",
            "2/2 [==============================] - 0s 7ms/step - loss: 20.3318 - mae: 20.3318\n",
            "Epoch 427/500\n",
            "2/2 [==============================] - 0s 10ms/step - loss: 6.3283 - mae: 6.3283\n",
            "Epoch 428/500\n",
            "2/2 [==============================] - 0s 7ms/step - loss: 12.9961 - mae: 12.9961\n",
            "Epoch 429/500\n",
            "2/2 [==============================] - 0s 12ms/step - loss: 10.7869 - mae: 10.7869\n",
            "Epoch 430/500\n",
            "2/2 [==============================] - 0s 12ms/step - loss: 11.4007 - mae: 11.4007\n",
            "Epoch 431/500\n",
            "2/2 [==============================] - 0s 7ms/step - loss: 10.6152 - mae: 10.6152\n",
            "Epoch 432/500\n",
            "2/2 [==============================] - 0s 7ms/step - loss: 11.4582 - mae: 11.4582\n",
            "Epoch 433/500\n",
            "2/2 [==============================] - 0s 10ms/step - loss: 11.3851 - mae: 11.3851\n",
            "Epoch 434/500\n",
            "2/2 [==============================] - 0s 6ms/step - loss: 30.3986 - mae: 30.3986\n",
            "Epoch 435/500\n",
            "2/2 [==============================] - 0s 7ms/step - loss: 10.5052 - mae: 10.5052\n",
            "Epoch 436/500\n",
            "2/2 [==============================] - 0s 7ms/step - loss: 28.8810 - mae: 28.8810\n",
            "Epoch 437/500\n",
            "2/2 [==============================] - 0s 8ms/step - loss: 8.5916 - mae: 8.5916\n",
            "Epoch 438/500\n",
            "2/2 [==============================] - 0s 10ms/step - loss: 12.7378 - mae: 12.7378\n",
            "Epoch 439/500\n",
            "2/2 [==============================] - 0s 13ms/step - loss: 33.6754 - mae: 33.6754\n",
            "Epoch 440/500\n",
            "2/2 [==============================] - 0s 8ms/step - loss: 15.0963 - mae: 15.0963\n",
            "Epoch 441/500\n",
            "2/2 [==============================] - 0s 13ms/step - loss: 17.4813 - mae: 17.4813\n",
            "Epoch 442/500\n",
            "2/2 [==============================] - 0s 11ms/step - loss: 22.3049 - mae: 22.3049\n",
            "Epoch 443/500\n",
            "2/2 [==============================] - 0s 11ms/step - loss: 23.5841 - mae: 23.5841\n",
            "Epoch 444/500\n",
            "2/2 [==============================] - 0s 9ms/step - loss: 11.0008 - mae: 11.0008\n",
            "Epoch 445/500\n",
            "2/2 [==============================] - 0s 7ms/step - loss: 14.9175 - mae: 14.9175\n",
            "Epoch 446/500\n",
            "2/2 [==============================] - 0s 9ms/step - loss: 17.9979 - mae: 17.9979\n",
            "Epoch 447/500\n",
            "2/2 [==============================] - 0s 6ms/step - loss: 5.4482 - mae: 5.4482\n",
            "Epoch 448/500\n",
            "2/2 [==============================] - 0s 7ms/step - loss: 10.0527 - mae: 10.0527\n",
            "Epoch 449/500\n",
            "2/2 [==============================] - 0s 6ms/step - loss: 14.0052 - mae: 14.0052\n",
            "Epoch 450/500\n",
            "2/2 [==============================] - 0s 6ms/step - loss: 16.7782 - mae: 16.7782\n",
            "Epoch 451/500\n",
            "2/2 [==============================] - 0s 6ms/step - loss: 14.2937 - mae: 14.2937\n",
            "Epoch 452/500\n",
            "2/2 [==============================] - 0s 6ms/step - loss: 30.6193 - mae: 30.6193\n",
            "Epoch 453/500\n",
            "2/2 [==============================] - 0s 14ms/step - loss: 7.6541 - mae: 7.6541\n",
            "Epoch 454/500\n",
            "2/2 [==============================] - 0s 6ms/step - loss: 28.1428 - mae: 28.1428\n",
            "Epoch 455/500\n",
            "2/2 [==============================] - 0s 8ms/step - loss: 8.0017 - mae: 8.0017\n",
            "Epoch 456/500\n",
            "2/2 [==============================] - 0s 9ms/step - loss: 10.3933 - mae: 10.3933\n",
            "Epoch 457/500\n",
            "2/2 [==============================] - 0s 10ms/step - loss: 15.0242 - mae: 15.0242\n",
            "Epoch 458/500\n",
            "2/2 [==============================] - 0s 6ms/step - loss: 16.5653 - mae: 16.5653\n",
            "Epoch 459/500\n",
            "2/2 [==============================] - 0s 7ms/step - loss: 26.8566 - mae: 26.8566\n",
            "Epoch 460/500\n",
            "2/2 [==============================] - 0s 8ms/step - loss: 12.4852 - mae: 12.4852\n",
            "Epoch 461/500\n",
            "2/2 [==============================] - 0s 8ms/step - loss: 12.4784 - mae: 12.4784\n",
            "Epoch 462/500\n",
            "2/2 [==============================] - 0s 6ms/step - loss: 13.3186 - mae: 13.3186\n",
            "Epoch 463/500\n",
            "2/2 [==============================] - 0s 13ms/step - loss: 29.5524 - mae: 29.5524\n",
            "Epoch 464/500\n",
            "2/2 [==============================] - 0s 5ms/step - loss: 3.4664 - mae: 3.4664\n",
            "Epoch 465/500\n",
            "2/2 [==============================] - 0s 13ms/step - loss: 15.2136 - mae: 15.2136\n",
            "Epoch 466/500\n",
            "2/2 [==============================] - 0s 5ms/step - loss: 20.8327 - mae: 20.8327\n",
            "Epoch 467/500\n",
            "2/2 [==============================] - 0s 8ms/step - loss: 30.5108 - mae: 30.5108\n",
            "Epoch 468/500\n",
            "2/2 [==============================] - 0s 8ms/step - loss: 11.0597 - mae: 11.0597\n",
            "Epoch 469/500\n",
            "2/2 [==============================] - 0s 9ms/step - loss: 12.8372 - mae: 12.8372\n",
            "Epoch 470/500\n",
            "2/2 [==============================] - 0s 6ms/step - loss: 3.2398 - mae: 3.2398\n",
            "Epoch 471/500\n",
            "2/2 [==============================] - 0s 9ms/step - loss: 16.6964 - mae: 16.6964\n",
            "Epoch 472/500\n",
            "2/2 [==============================] - 0s 13ms/step - loss: 13.3883 - mae: 13.3883\n",
            "Epoch 473/500\n",
            "2/2 [==============================] - 0s 11ms/step - loss: 15.2771 - mae: 15.2771\n",
            "Epoch 474/500\n",
            "2/2 [==============================] - 0s 10ms/step - loss: 11.7448 - mae: 11.7448\n",
            "Epoch 475/500\n",
            "2/2 [==============================] - 0s 7ms/step - loss: 16.4113 - mae: 16.4113\n",
            "Epoch 476/500\n",
            "2/2 [==============================] - 0s 16ms/step - loss: 13.8785 - mae: 13.8785\n",
            "Epoch 477/500\n",
            "2/2 [==============================] - 0s 10ms/step - loss: 30.6702 - mae: 30.6702\n",
            "Epoch 478/500\n",
            "2/2 [==============================] - 0s 6ms/step - loss: 8.5880 - mae: 8.5880\n",
            "Epoch 479/500\n",
            "2/2 [==============================] - 0s 8ms/step - loss: 10.7384 - mae: 10.7384\n",
            "Epoch 480/500\n",
            "2/2 [==============================] - 0s 13ms/step - loss: 17.9051 - mae: 17.9051\n",
            "Epoch 481/500\n",
            "2/2 [==============================] - 0s 9ms/step - loss: 15.8095 - mae: 15.8095\n",
            "Epoch 482/500\n",
            "2/2 [==============================] - 0s 5ms/step - loss: 21.3054 - mae: 21.3054\n",
            "Epoch 483/500\n",
            "2/2 [==============================] - 0s 10ms/step - loss: 25.3845 - mae: 25.3845\n",
            "Epoch 484/500\n",
            "2/2 [==============================] - 0s 6ms/step - loss: 23.9815 - mae: 23.9815\n",
            "Epoch 485/500\n",
            "2/2 [==============================] - 0s 9ms/step - loss: 5.7734 - mae: 5.7734\n",
            "Epoch 486/500\n",
            "2/2 [==============================] - 0s 7ms/step - loss: 20.0010 - mae: 20.0010\n",
            "Epoch 487/500\n",
            "2/2 [==============================] - 0s 14ms/step - loss: 14.0419 - mae: 14.0419\n",
            "Epoch 488/500\n",
            "2/2 [==============================] - 0s 8ms/step - loss: 30.6088 - mae: 30.6088\n",
            "Epoch 489/500\n",
            "2/2 [==============================] - 0s 8ms/step - loss: 11.9409 - mae: 11.9409\n",
            "Epoch 490/500\n",
            "2/2 [==============================] - 0s 13ms/step - loss: 12.7352 - mae: 12.7352\n",
            "Epoch 491/500\n",
            "2/2 [==============================] - 0s 9ms/step - loss: 23.6139 - mae: 23.6139\n",
            "Epoch 492/500\n",
            "2/2 [==============================] - 0s 6ms/step - loss: 20.5365 - mae: 20.5365\n",
            "Epoch 493/500\n",
            "2/2 [==============================] - 0s 5ms/step - loss: 4.9942 - mae: 4.9942\n",
            "Epoch 494/500\n",
            "2/2 [==============================] - 0s 5ms/step - loss: 12.7986 - mae: 12.7986\n",
            "Epoch 495/500\n",
            "2/2 [==============================] - 0s 5ms/step - loss: 13.3772 - mae: 13.3772\n",
            "Epoch 496/500\n",
            "2/2 [==============================] - 0s 5ms/step - loss: 12.6727 - mae: 12.6727\n",
            "Epoch 497/500\n",
            "2/2 [==============================] - 0s 6ms/step - loss: 17.6192 - mae: 17.6192\n",
            "Epoch 498/500\n",
            "2/2 [==============================] - 0s 6ms/step - loss: 23.5629 - mae: 23.5629\n",
            "Epoch 499/500\n",
            "2/2 [==============================] - 0s 10ms/step - loss: 9.3755 - mae: 9.3755\n",
            "Epoch 500/500\n",
            "2/2 [==============================] - 0s 11ms/step - loss: 14.6316 - mae: 14.6316\n"
          ]
        },
        {
          "output_type": "execute_result",
          "data": {
            "text/plain": [
              "<keras.callbacks.History at 0x7f0d3d769710>"
            ]
          },
          "metadata": {},
          "execution_count": 54
        }
      ]
    },
    {
      "cell_type": "code",
      "source": [
        "# Make and plot some predictions\n",
        "\n",
        "y_preds_3 = model_3.predict(X_test)\n",
        "plot_predictions(predictions=y_preds_3)"
      ],
      "metadata": {
        "colab": {
          "base_uri": "https://localhost:8080/",
          "height": 428
        },
        "id": "phmIdyCEYUsO",
        "outputId": "1b4d0945-bb7b-44c5-903f-2fb124ec2960"
      },
      "execution_count": 55,
      "outputs": [
        {
          "output_type": "display_data",
          "data": {
            "text/plain": [
              "<Figure size 720x504 with 1 Axes>"
            ],
            "image/png": "[encoded data removed]"
          },
          "metadata": {
            "needs_background": "light"
          }
        }
      ]
    },
    {
      "cell_type": "code",
      "source": [
        "# calculate model_3 evaluation metrics\n",
        "\n",
        "mae_3 = mae(y_test, y_preds_3)\n",
        "mse_3 = mse(y_test, y_preds_3)\n",
        "mae_3, mse_3"
      ],
      "metadata": {
        "colab": {
          "base_uri": "https://localhost:8080/"
        },
        "id": "Hih5PyQQY1FT",
        "outputId": "6e987a80-d378-43dc-c513-4a65e14de866"
      },
      "execution_count": 56,
      "outputs": [
        {
          "output_type": "execute_result",
          "data": {
            "text/plain": [
              "(<tf.Tensor: shape=(), dtype=float32, numpy=68.713615>,\n",
              " <tf.Tensor: shape=(), dtype=float32, numpy=4808.0273>)"
            ]
          },
          "metadata": {},
          "execution_count": 56
        }
      ]
    },
    {
      "cell_type": "markdown",
      "source": [
        "## Comparing the results of our experiments\n",
        "\n",
        "We've run a few experiments, let's compare the results."
      ],
      "metadata": {
        "id": "M2xa74cOZYKC"
      }
    },
    {
      "cell_type": "code",
      "source": [
        "# Lets compare our model's results using a pandas Dataframe\n",
        "\n",
        "import pandas as pd\n",
        "\n",
        "model_results = [[\"model_1\",mae_1.numpy(), mse_1.numpy()],\n",
        "                 [\"model_2\",mae_2.numpy(), mse_2.numpy()],\n",
        "                 [\"model_3\", mae_3.numpy(),mse_3.numpy()]]\n",
        "\n",
        "all_results = pd.DataFrame(model_results, columns=[\"model\",\"mae\",\"mse\"])\n",
        "all_results"
      ],
      "metadata": {
        "colab": {
          "base_uri": "https://localhost:8080/",
          "height": 142
        },
        "id": "b89vBdElaLZH",
        "outputId": "44773738-eaa1-494e-c4eb-18442d48c22b"
      },
      "execution_count": 58,
      "outputs": [
        {
          "output_type": "execute_result",
          "data": {
            "text/plain": [
              "     model        mae          mse\n",
              "0  model_1  18.745327   353.573364\n",
              "1  model_2   3.196941    13.070143\n",
              "2  model_3  68.713615  4808.027344"
            ],
            "text/html": [
              "\n",
              "  <div id=\"df-a5d93e0d-00c1-4202-b002-44e61a755ab1\">\n",
              "    <div class=\"colab-df-container\">\n",
              "      <div>\n",
              "<style scoped>\n",
              "    .dataframe tbody tr th:only-of-type {\n",
              "        vertical-align: middle;\n",
              "    }\n",
              "\n",
              "    .dataframe tbody tr th {\n",
              "        vertical-align: top;\n",
              "    }\n",
              "\n",
              "    .dataframe thead th {\n",
              "        text-align: right;\n",
              "    }\n",
              "</style>\n",
              "<table border=\"1\" class=\"dataframe\">\n",
              "  <thead>\n",
              "    <tr style=\"text-align: right;\">\n",
              "      <th></th>\n",
              "      <th>model</th>\n",
              "      <th>mae</th>\n",
              "      <th>mse</th>\n",
              "    </tr>\n",
              "  </thead>\n",
              "  <tbody>\n",
              "    <tr>\n",
              "      <th>0</th>\n",
              "      <td>model_1</td>\n",
              "      <td>18.745327</td>\n",
              "      <td>353.573364</td>\n",
              "    </tr>\n",
              "    <tr>\n",
              "      <th>1</th>\n",
              "      <td>model_2</td>\n",
              "      <td>3.196941</td>\n",
              "      <td>13.070143</td>\n",
              "    </tr>\n",
              "    <tr>\n",
              "      <th>2</th>\n",
              "      <td>model_3</td>\n",
              "      <td>68.713615</td>\n",
              "      <td>4808.027344</td>\n",
              "    </tr>\n",
              "  </tbody>\n",
              "</table>\n",
              "</div>\n",
              "      <button class=\"colab-df-convert\" onclick=\"convertToInteractive('df-a5d93e0d-00c1-4202-b002-44e61a755ab1')\"\n",
              "              title=\"Convert this dataframe to an interactive table.\"\n",
              "              style=\"display:none;\">\n",
              "        \n",
              "  <svg xmlns=\"http://www.w3.org/2000/svg\" height=\"24px\"viewBox=\"0 0 24 24\"\n",
              "       width=\"24px\">\n",
              "    <path d=\"M0 0h24v24H0V0z\" fill=\"none\"/>\n",
              "    <path d=\"M18.56 5.44l.94 2.06.94-2.06 2.06-.94-2.06-.94-.94-2.06-.94 2.06-2.06.94zm-11 1L8.5 8.5l.94-2.06 2.06-.94-2.06-.94L8.5 2.5l-.94 2.06-2.06.94zm10 10l.94 2.06.94-2.06 2.06-.94-2.06-.94-.94-2.06-.94 2.06-2.06.94z\"/><path d=\"M17.41 7.96l-1.37-1.37c-.4-.4-.92-.59-1.43-.59-.52 0-1.04.2-1.43.59L10.3 9.45l-7.72 7.72c-.78.78-.78 2.05 0 2.83L4 21.41c.39.39.9.59 1.41.59.51 0 1.02-.2 1.41-.59l7.78-7.78 2.81-2.81c.8-.78.8-2.07 0-2.86zM5.41 20L4 18.59l7.72-7.72 1.47 1.35L5.41 20z\"/>\n",
              "  </svg>\n",
              "      </button>\n",
              "      \n",
              "  <style>\n",
              "    .colab-df-container {\n",
              "      display:flex;\n",
              "      flex-wrap:wrap;\n",
              "      gap: 12px;\n",
              "    }\n",
              "\n",
              "    .colab-df-convert {\n",
              "      background-color: #E8F0FE;\n",
              "      border: none;\n",
              "      border-radius: 50%;\n",
              "      cursor: pointer;\n",
              "      display: none;\n",
              "      fill: #1967D2;\n",
              "      height: 32px;\n",
              "      padding: 0 0 0 0;\n",
              "      width: 32px;\n",
              "    }\n",
              "\n",
              "    .colab-df-convert:hover {\n",
              "      background-color: #E2EBFA;\n",
              "      box-shadow: 0px 1px 2px rgba(60, 64, 67, 0.3), 0px 1px 3px 1px rgba(60, 64, 67, 0.15);\n",
              "      fill: #174EA6;\n",
              "    }\n",
              "\n",
              "    [theme=dark] .colab-df-convert {\n",
              "      background-color: #3B4455;\n",
              "      fill: #D2E3FC;\n",
              "    }\n",
              "\n",
              "    [theme=dark] .colab-df-convert:hover {\n",
              "      background-color: #434B5C;\n",
              "      box-shadow: 0px 1px 3px 1px rgba(0, 0, 0, 0.15);\n",
              "      filter: drop-shadow(0px 1px 2px rgba(0, 0, 0, 0.3));\n",
              "      fill: #FFFFFF;\n",
              "    }\n",
              "  </style>\n",
              "\n",
              "      <script>\n",
              "        const buttonEl =\n",
              "          document.querySelector('#df-a5d93e0d-00c1-4202-b002-44e61a755ab1 button.colab-df-convert');\n",
              "        buttonEl.style.display =\n",
              "          google.colab.kernel.accessAllowed ? 'block' : 'none';\n",
              "\n",
              "        async function convertToInteractive(key) {\n",
              "          const element = document.querySelector('#df-a5d93e0d-00c1-4202-b002-44e61a755ab1');\n",
              "          const dataTable =\n",
              "            await google.colab.kernel.invokeFunction('convertToInteractive',\n",
              "                                                     [key], {});\n",
              "          if (!dataTable) return;\n",
              "\n",
              "          const docLinkHtml = 'Like what you see? Visit the ' +\n",
              "            '<a target=\"_blank\" href=https://colab.research.google.com/notebooks/data_table.ipynb>data table notebook</a>'\n",
              "            + ' to learn more about interactive tables.';\n",
              "          element.innerHTML = '';\n",
              "          dataTable['output_type'] = 'display_data';\n",
              "          await google.colab.output.renderOutput(dataTable, element);\n",
              "          const docLink = document.createElement('div');\n",
              "          docLink.innerHTML = docLinkHtml;\n",
              "          element.appendChild(docLink);\n",
              "        }\n",
              "      </script>\n",
              "    </div>\n",
              "  </div>\n",
              "  "
            ]
          },
          "metadata": {},
          "execution_count": 58
        }
      ]
    },
    {
      "cell_type": "markdown",
      "source": [
        "Looks like `model_2` performed the best...."
      ],
      "metadata": {
        "id": "EI3XDxzGcOsl"
      }
    },
    {
      "cell_type": "code",
      "source": [
        "model_2.summary()"
      ],
      "metadata": {
        "colab": {
          "base_uri": "https://localhost:8080/"
        },
        "id": "EiOmRQTycTut",
        "outputId": "d42727f1-cf5e-4147-80ad-6bbfe9eb700c"
      },
      "execution_count": 59,
      "outputs": [
        {
          "output_type": "stream",
          "name": "stdout",
          "text": [
            "Model: \"sequential_7\"\n",
            "_________________________________________________________________\n",
            " Layer (type)                Output Shape              Param #   \n",
            "=================================================================\n",
            " dense_14 (Dense)            (None, 10)                20        \n",
            "                                                                 \n",
            " dense_15 (Dense)            (None, 1)                 11        \n",
            "                                                                 \n",
            "=================================================================\n",
            "Total params: 31\n",
            "Trainable params: 31\n",
            "Non-trainable params: 0\n",
            "_________________________________________________________________\n"
          ]
        }
      ]
    },
    {
      "cell_type": "markdown",
      "source": [
        "> **Note:** One of your main goals should be to minimize the time between your experiments. The more expermients you do, the more things you will figure out wich out dont work and in turn, get close to figuring out what does work. Remember the machine learning praticioner's motto: \"experiment, experiment, experiment\""
      ],
      "metadata": {
        "id": "pOk0lU9JcYug"
      }
    },
    {
      "cell_type": "markdown",
      "source": [
        "## Tracking your experiments\n",
        "\n",
        "One really good habit in machine learning modelling is to track the results of your experiments.\n",
        "\n",
        "And when doing so, it can be tedious if you are running a lots of expermients.\n",
        "\n",
        "Luckily, there are tools to help us!\n",
        "\n",
        "**Resource:** As you build more models, you will want to look into using:\n",
        "\n",
        "* Tensorboard -ma component of the Tensorflow library to hel track modelling experiments.\n",
        "* Weights & Biases - a tool for tracking all of kinds of machine learning experiments (plus straight into TensorBoard)"
      ],
      "metadata": {
        "id": "lshI9U0ndYsD"
      }
    },
    {
      "cell_type": "markdown",
      "source": [
        "## Saving our models\n",
        "\n",
        "There 2 fmain formats we can seva our models:\n",
        "* **The SavedModel** format\n",
        "* **The HDF5** format"
      ],
      "metadata": {
        "id": "gfWkNBxMfmBR"
      }
    },
    {
      "cell_type": "code",
      "source": [
        "# Save model using the SavedModel format\n",
        "\n",
        "model_2.save(\"model_SavedModel_format\")"
      ],
      "metadata": {
        "colab": {
          "base_uri": "https://localhost:8080/"
        },
        "id": "PrJlJMjogRSD",
        "outputId": "b73720e1-4fa4-43c2-e6ff-ee0c091c509c"
      },
      "execution_count": 60,
      "outputs": [
        {
          "output_type": "stream",
          "name": "stdout",
          "text": [
            "INFO:tensorflow:Assets written to: model_SavedModel_format/assets\n"
          ]
        }
      ]
    },
    {
      "cell_type": "code",
      "source": [
        "# Save model using HDF5 format\n",
        "\n",
        "model_2.save(\"model_2.h5\")"
      ],
      "metadata": {
        "id": "pOXJ56odhUH4"
      },
      "execution_count": 61,
      "outputs": []
    },
    {
      "cell_type": "markdown",
      "source": [
        "## Loading in a saved model"
      ],
      "metadata": {
        "id": "V_9b4Zx94RWG"
      }
    },
    {
      "cell_type": "code",
      "source": [
        "# Load in the SavedModel format model\n",
        "\n",
        "loaded_SavedModel_format = tf.keras.models.load_model(\"model_SavedModel_format\")\n",
        "loaded_SavedModel_format.summary()"
      ],
      "metadata": {
        "colab": {
          "base_uri": "https://localhost:8080/"
        },
        "id": "66lOyrbC4U1h",
        "outputId": "90f58325-4070-4998-891f-cd7c4b1b854d"
      },
      "execution_count": 63,
      "outputs": [
        {
          "output_type": "stream",
          "name": "stdout",
          "text": [
            "Model: \"sequential_7\"\n",
            "_________________________________________________________________\n",
            " Layer (type)                Output Shape              Param #   \n",
            "=================================================================\n",
            " dense_14 (Dense)            (None, 10)                20        \n",
            "                                                                 \n",
            " dense_15 (Dense)            (None, 1)                 11        \n",
            "                                                                 \n",
            "=================================================================\n",
            "Total params: 31\n",
            "Trainable params: 31\n",
            "Non-trainable params: 0\n",
            "_________________________________________________________________\n"
          ]
        }
      ]
    },
    {
      "cell_type": "code",
      "source": [
        "#Compare model_2 predictions versus loaded model\n",
        "\n",
        "model_2_preds = model_2.predict(X_test)\n",
        "loaded_SavedModel_format_preds = loaded_SavedModel_format.predict(X_test)\n",
        "\n",
        "model_2_preds == loaded_SavedModel_format_preds"
      ],
      "metadata": {
        "colab": {
          "base_uri": "https://localhost:8080/"
        },
        "id": "oVovQ2O25jI8",
        "outputId": "3378fe8e-655f-43dc-c61d-ceb2c38bbc97"
      },
      "execution_count": 64,
      "outputs": [
        {
          "output_type": "execute_result",
          "data": {
            "text/plain": [
              "array([[ True],\n",
              "       [ True],\n",
              "       [ True],\n",
              "       [ True],\n",
              "       [ True],\n",
              "       [ True],\n",
              "       [ True],\n",
              "       [ True],\n",
              "       [ True],\n",
              "       [ True]])"
            ]
          },
          "metadata": {},
          "execution_count": 64
        }
      ]
    },
    {
      "cell_type": "code",
      "source": [
        "# Load in a model using the .h5 format\n",
        "loaded_h5_model = tf.keras.models.load_model(\"model_2.h5\")\n",
        "loaded_h5_model.summary()"
      ],
      "metadata": {
        "colab": {
          "base_uri": "https://localhost:8080/"
        },
        "id": "3sK28uxo9g2e",
        "outputId": "3a92635c-cf1d-4796-c3a5-06dd56728b8f"
      },
      "execution_count": 65,
      "outputs": [
        {
          "output_type": "stream",
          "name": "stdout",
          "text": [
            "Model: \"sequential_7\"\n",
            "_________________________________________________________________\n",
            " Layer (type)                Output Shape              Param #   \n",
            "=================================================================\n",
            " dense_14 (Dense)            (None, 10)                20        \n",
            "                                                                 \n",
            " dense_15 (Dense)            (None, 1)                 11        \n",
            "                                                                 \n",
            "=================================================================\n",
            "Total params: 31\n",
            "Trainable params: 31\n",
            "Non-trainable params: 0\n",
            "_________________________________________________________________\n"
          ]
        }
      ]
    },
    {
      "cell_type": "code",
      "source": [
        "model_2_preds = model_2.predict(X_test)\n",
        "loaded_h5_model_preds = loaded_h5_model.predict(X_test)\n",
        "\n",
        "model_2_preds == loaded_h5_model_preds"
      ],
      "metadata": {
        "colab": {
          "base_uri": "https://localhost:8080/"
        },
        "id": "kwQTY3lG-OSm",
        "outputId": "d5589773-4cdb-4bb4-e817-a93eb22cbc86"
      },
      "execution_count": 66,
      "outputs": [
        {
          "output_type": "execute_result",
          "data": {
            "text/plain": [
              "array([[ True],\n",
              "       [ True],\n",
              "       [ True],\n",
              "       [ True],\n",
              "       [ True],\n",
              "       [ True],\n",
              "       [ True],\n",
              "       [ True],\n",
              "       [ True],\n",
              "       [ True]])"
            ]
          },
          "metadata": {},
          "execution_count": 66
        }
      ]
    },
    {
      "cell_type": "markdown",
      "source": [
        "## Download a model from Google Colab"
      ],
      "metadata": {
        "id": "_NDvF1nuC4Z0"
      }
    },
    {
      "cell_type": "code",
      "source": [
        "#Download a file\n",
        "\n",
        "from google.colab import files\n",
        "\n",
        "files.download(\"/content/model_2.h5\")"
      ],
      "metadata": {
        "colab": {
          "base_uri": "https://localhost:8080/",
          "height": 34
        },
        "id": "eDTrPyQ5C8ze",
        "outputId": "2a9c5cac-7d44-4275-c5b6-f221b4274076"
      },
      "execution_count": 68,
      "outputs": [
        {
          "output_type": "display_data",
          "data": {
            "text/plain": [
              "<IPython.core.display.Javascript object>"
            ],
            "application/javascript": [
              "\n",
              "    async function download(id, filename, size) {\n",
              "      if (!google.colab.kernel.accessAllowed) {\n",
              "        return;\n",
              "      }\n",
              "      const div = document.createElement('div');\n",
              "      const label = document.createElement('label');\n",
              "      label.textContent = `Downloading \"${filename}\": `;\n",
              "      div.appendChild(label);\n",
              "      const progress = document.createElement('progress');\n",
              "      progress.max = size;\n",
              "      div.appendChild(progress);\n",
              "      document.body.appendChild(div);\n",
              "\n",
              "      const buffers = [];\n",
              "      let downloaded = 0;\n",
              "\n",
              "      const channel = await google.colab.kernel.comms.open(id);\n",
              "      // Send a message to notify the kernel that we're ready.\n",
              "      channel.send({})\n",
              "\n",
              "      for await (const message of channel.messages) {\n",
              "        // Send a message to notify the kernel that we're ready.\n",
              "        channel.send({})\n",
              "        if (message.buffers) {\n",
              "          for (const buffer of message.buffers) {\n",
              "            buffers.push(buffer);\n",
              "            downloaded += buffer.byteLength;\n",
              "            progress.value = downloaded;\n",
              "          }\n",
              "        }\n",
              "      }\n",
              "      const blob = new Blob(buffers, {type: 'application/binary'});\n",
              "      const a = document.createElement('a');\n",
              "      a.href = window.URL.createObjectURL(blob);\n",
              "      a.download = filename;\n",
              "      div.appendChild(a);\n",
              "      a.click();\n",
              "      div.remove();\n",
              "    }\n",
              "  "
            ]
          },
          "metadata": {}
        },
        {
          "output_type": "display_data",
          "data": {
            "text/plain": [
              "<IPython.core.display.Javascript object>"
            ],
            "application/javascript": [
              "download(\"download_d152d8c2-dbaf-4466-a183-25e1afcf96a6\", \"model_2.h5\", 17872)"
            ]
          },
          "metadata": {}
        }
      ]
    },
    {
      "cell_type": "code",
      "source": [
        "# Download file to google drive\n",
        "!cp \"/content/model_2.h5\" \"/content/drive/MyDrive\""
      ],
      "metadata": {
        "id": "qCNXVJhkEEZj"
      },
      "execution_count": 69,
      "outputs": []
    },
    {
      "cell_type": "code",
      "source": [
        "!ls \"/content/drive/MyDrive\""
      ],
      "metadata": {
        "colab": {
          "base_uri": "https://localhost:8080/"
        },
        "id": "Le0vLXb6EXqX",
        "outputId": "a1cb4cc2-9f11-4b72-b45a-ba01a5149071"
      },
      "execution_count": 70,
      "outputs": [
        {
          "output_type": "stream",
          "name": "stdout",
          "text": [
            " 01_12_2021_field_players_tournament_CostaRica.PrimeraDivision.gsheet\n",
            " 0670-0963-513017990-5115-T.PDF\n",
            "'10 REGLAS IMPORTANTES PARA LOS PADRES.gdoc'\n",
            " 131.pdf\n",
            " 16SMatterPeriodicTableCompoundandMixtures.docx\n",
            "'16S PERIODIC TABLE ASHTON.gdoc'\n",
            "'2000s Premier League Stats.gsheet'\n",
            "'=2.0.1'\n",
            " 2020shotdata.v1.csv\n",
            " 2ae43d4e-209a-4c80-bb6d-0d83b2ff153d.docx\n",
            "'3770459135563914 (1).gdoc'\n",
            " 3770459135563914.gdoc\n",
            "'3870cee2-a513-4e3a-a36b-e46cb219b885 (1).docx'\n",
            " 3870cee2-a513-4e3a-a36b-e46cb219b885.docx\n",
            " 3870cee2-a513-4e3a-a36b-e46cb219b885.gdoc\n",
            " 40207021.pdf\n",
            " 4362a78c-a5e0-44b4-aaa6-5d0c61af4ef3.docx\n",
            " 4362a78c-a5e0-44b4-aaa6-5d0c61af4ef3.gdoc\n",
            " 56438674-8012-42d6-a617-68264109eb74.docx\n",
            " 56438674-8012-42d6-a617-68264109eb74.gdoc\n",
            " 66415d6a-6ab5-45c9-9bd0-d2cdb802d183.docx\n",
            " 66415d6a-6ab5-45c9-9bd0-d2cdb802d183.gdoc\n",
            "'7c0ad953-e7a5-4bf9-a1f7-809ce1d6d55e (1).gdoc'\n",
            " 7c0ad953-e7a5-4bf9-a1f7-809ce1d6d55e.gdoc\n",
            " 7c0ad953-e7a5-4bf9-a1f7-809ce1d6d55e.rtf\n",
            "'7S HumanR Ashton Neil.docx'\n",
            "'8EReview Ashton Neil.docx'\n",
            "'8SFertilizationandPregnancy Ashton Neil.gdoc'\n",
            " 8SFertilizationandPregnancy.pdf\n",
            " 99815d4b-653a-49ab-ad96-70ecc846c603.gdoc\n",
            " 99815d4b-653a-49ab-ad96-70ecc846c603.rtf\n",
            "'9EReadingGrowthFacts Ashton Neil.gdoc'\n",
            " 9EReadingGrowthFacts.gdoc\n",
            " 9EReadingGrowthFacts.pdf\n",
            "'Acciones XML TA20'\n",
            "'Alianzas Ilicitas.pptx'\n",
            "'ALINEACIONES CAI U17.gdoc'\n",
            " AlphaPose\n",
            " AnamnesisPreescolar.pdf\n",
            "'anexo-1-hoja-de-vida-beneficiarios-nacionales (1).247f48aa.gdoc'\n",
            " anexo-1-hoja-de-vida-beneficiarios-nacionales.247f48aa.gdoc\n",
            " anexo_2-_declaracion_jurada.gdoc\n",
            " appsheet\n",
            "'Archive 2.zip'\n",
            "'Ashton Neil 11S Matter Physical Propertie.gdoc'\n",
            "'Ashton Neil Reynolds 6A.gslides'\n",
            " av_35b10072-6a84-45b1-a1a3-9826b9c527bf.docx\n",
            "'av_40edb56f-9e14-4279-9798-70fb3c8d461b (1).gdoc'\n",
            " av_40edb56f-9e14-4279-9798-70fb3c8d461b.gdoc\n",
            " av_40edb56f-9e14-4279-9798-70fb3c8d461b.pdf\n",
            " av_4125561e-8c25-4863-8c42-b4f40bb0eaa2.gdoc\n",
            " av_4125561e-8c25-4863-8c42-b4f40bb0eaa2.pdf\n",
            "'av_533e4bb0-7741-436d-b05e-16f3d4c0a087 (1).gdoc'\n",
            "'av_533e4bb0-7741-436d-b05e-16f3d4c0a087 (2).gdoc'\n",
            "'av_533e4bb0-7741-436d-b05e-16f3d4c0a087 (3).gdoc'\n",
            " av_533e4bb0-7741-436d-b05e-16f3d4c0a087.gdoc\n",
            " av_533e4bb0-7741-436d-b05e-16f3d4c0a087.pdf\n",
            " av_59269ade-765a-4227-a11e-bf9a5ac2834c.docx\n",
            "'av_6e749fc0-93a5-432f-8943-f568ddca7427 (1).pdf'\n",
            " av_6e749fc0-93a5-432f-8943-f568ddca7427.gdoc\n",
            " av_6e749fc0-93a5-432f-8943-f568ddca7427.pdf\n",
            " av_7b361ed8-d14f-48f7-bc65-c113091800cd.gdoc\n",
            " av_7b361ed8-d14f-48f7-bc65-c113091800cd.pdf\n",
            " av_941be346-f50d-4f22-9d06-7529c8d61b01.pdf\n",
            " av_b7d9928c-a739-4f8c-8cb7-959da5f29423.gdoc\n",
            " av_b7d9928c-a739-4f8c-8cb7-959da5f29423.pdf\n",
            " book1.gsheet\n",
            " boring.gsheet\n",
            "'Brazil Wildfires.gsheet'\n",
            " c0a6bfaa-649c-4d10-996f-2eee719eeac7.docx\n",
            "'CAI Cartago | San Carlos'\n",
            "'CAI U17 - Planeamiento partido.gdoc'\n",
            " Canchas.gdoc\n",
            "'Carga XML Copa Oro.ipynb'\n",
            "'Carga XML EURO.ipynb'\n",
            "'Carga XML Ipswich Town.ipynb'\n",
            "'Carga XML Suiza - Amistosos.ipynb'\n",
            "'Carga XML Suiza.ipynb'\n",
            "'Carta de excepcion de Pago - CEA.docx'\n",
            "'Carta de excepcion de Pago - CEA.gdoc'\n",
            "'Carta Edmond Neil.docx'\n",
            "'carta explicacion.docx'\n",
            "'carta explicacion.gdoc'\n",
            " CatalogoProductos.gsheet\n",
            "'Citas sobre cizaña.gdoc'\n",
            "'CITAS SOBRE LA LIBERTAD DE CONCIENCIA.pdf'\n",
            " Classroom\n",
            " clideo.com\n",
            "'Club_Atletico_Independiente_|_Filial_AD_San_Carlos_-_BD_de_Jugadores-3.pdf'\n",
            "'Club_Atletico_Independiente_|_Filial_AD_San_Carlos_-_BD_de_Jugadores-4.pdf'\n",
            " Cobresal_U17.pdf\n",
            "'Colab Notebooks'\n",
            "'COMO AGRADECER A.mp3'\n",
            "'Composicion de campeonatos FF.gdoc'\n",
            " CONCACAF\n",
            " CONCACAF_FEM\n",
            "'*CONVOCATORIA*.gdoc'\n",
            " cookie\n",
            "'Copy of +30 Small Sided Games PDF.pdf'\n",
            "'Copy of 40 FOOTY TRAINING GAMES FO YOUNGER PLAYERS PDF.pdf'\n",
            "'Copy of 4-4.pdf'\n",
            "'Copy of 50 ACADEMY COACHING SESSIONS 2 PDF.pdf'\n",
            "'Copy of bcd47035-b4c1-4de3-a7e6-32c815d324a9.pdf'\n",
            "'Copy of CANADA SOCCER PATHWAYCOACH’S TOOL KIT STAGE THREE – LEARNING TO TRAIN PDF.pdf'\n",
            "'Copy of Coaching Ages 11 to 12 Years PDF.pdf'\n",
            "'Copy of Coaching Ages 13 to 14 Years PDF.pdf'\n",
            "'Copy of Coaching the 4-3-3 PDF.pdf'\n",
            "'Copy of COMPLETE SOCCER COACHING CURRICULUM FOR 3-18 YEAR OLD PLAYERS PDF.pdf'\n",
            "'Copy of Deeplearningwithcomputervisionpython.pdf'\n",
            "'Copy of DeeplearningwithKeras.pdf'\n",
            "'Copy of djangobookwzy482.pdf'\n",
            "'Copy of Dutch Possession games PDF.pdf'\n",
            "'Copy of Estudios Biblicos Niños 300.zip'\n",
            "'Copy of FOOTBALL PERIODIZATION THE PORTUGUESE TACTICAL MODEL PDF.pdf'\n",
            "'Copy of FÚTBOL  Guía Didáctica para la Enseñanza del fútbol PDF.pdf'\n",
            "'Copy of GAME MODEL CARLOS CARVALHAL PDF.pdf'\n",
            "'Copy of GUARDIOLA COACHING EBOOK PDF.pdf'\n",
            "'Copy of Jurgen Klopp Coaching Sessions PDF.pdf'\n",
            "'Copy of Machine Learning With Python For Everyone by Mark E. Fenner (z-lib.org).pdf'\n",
            "'Copy of Massimiliano Allegri  Midfielders CHARACTERISTICS OF THE THREE IN A THREE MIDFIELD.pdf'\n",
            "'Copy of Passing-Combination-Drills.pdf'\n",
            "'Copy of pdfcoffee.com_academy-soccer-coach-sessions-pdf-free.pdf'\n",
            "'Copy of POCHETTINO COACHING EBOOK PDF.pdf'\n",
            "'Copy of Practical Statistics for Data Scientists 50+ Essential Concepts Using R and Python by Peter Bruce, Andrew Bruce, Peter Gedeck (z-lib.org).pdf'\n",
            "'Copy of Programming Computer Vision.pdf'\n",
            "'Copy of Python-Machine-Learning-for-Beginners-Learning-from-Scratch-Numpy_-Pandas_-Matplotlib_-Seaborn_-SKle.pdf'\n",
            "'Copy of r_for_data_science.pdf'\n",
            "'Copy of RONDO’S DEVELOPING TRANSITION PDF.pdf'\n",
            "'Copy of soccer_ball_data.zip'\n",
            "'Copy of Soccer Functional Fitness Training PDF.pdf'\n",
            "'Copy of Soccer The 6-Week Plan PDF.pdf'\n",
            "'Copy of Talent Development in the German Football Association PDF.pdf'\n",
            "'Copy of TECHNICAL FIELD FIGC UEFA PRO LICENSE COURSE   PREPARATION OF THE GAME WEEKLY.pdf'\n",
            "'Copy of The Evolution of the 3-4-3 Formation PDF.pdf'\n",
            "'Copy of THE FA UEFA B TECHNICAL GUIDELINES PDF (1).pdf'\n",
            "'Copy of THE FA UEFA B TECHNICAL GUIDELINES PDF.pdf'\n",
            "'Copy of ⁨UEFA B Sessions.pdf · إصدار ‏١‏⁩.pdf'\n",
            "'Copy of ytp-4-3-3-booklet1.pdf'\n",
            "'Copy of ⁨بالانجليزية .pdf⁩.pdf'\n",
            " cosevi_fallecidos_sitio_df.gsheet\n",
            " Cotizaciones.gdoc\n",
            "'Cover Letter (1).docx'\n",
            "'Cover Letter (2).docx'\n",
            "'Cover Letter (3).docx'\n",
            "'COVER LETTER AND RESUME.gdoc'\n",
            "'Cover Letter.docx'\n",
            "'COVID-19 Cases.gsheet'\n",
            " Cronogramaenero2015.xlsx\n",
            " Cronogramaenero2015.xlsx.gsheet\n",
            " cuda-repo-ubuntu1604-8-0-local-ga2_8.0.61-1_amd64-deb\n",
            " Cumpleaños.gsheet\n",
            "'Curso 01 Introduccion a Daniel.pps'\n",
            "'Cursos Udemy'\n",
            "'CV_Edmond Neil Quirós.gdoc'\n",
            "'CV Edmund Neil - 1era.gdoc'\n",
            " cv_edmund_neil_2020.pdf\n",
            "'cv edmund neil 2021.docx'\n",
            "'CV Edmund Neil.pdf'\n",
            " d2b6c9f7-1528-4c11-acf2-b1fb10051c66.docx\n",
            " d2b6c9f7-1528-4c11-acf2-b1fb10051c66.gdoc\n",
            " darknet\n",
            " Data_Images\n",
            " deep_sort_pytorch\n",
            "'Descargas XML - Instat.gsheet'\n",
            " detectron2\n",
            "'Deudas Pendientes.gsheet'\n",
            "'Días de entrenamiento .gform'\n",
            "'Días de entrenamiento  (Responses).gsheet'\n",
            " diputados\n",
            "'Distrio Geo.gsheet'\n",
            "'Documento sin título (10).gdoc'\n",
            "'Documento sin título (11).gdoc'\n",
            "'Documento sin título (12).gdoc'\n",
            "'Documento sin título (13).gdoc'\n",
            "'Documento sin título (14).gdoc'\n",
            "'Documento sin título (15).gdoc'\n",
            "'Documento sin título (16).gdoc'\n",
            "'Documento sin título (1).gdoc'\n",
            "'Documento sin título (2).gdoc'\n",
            "'Documento sin título (3).gdoc'\n",
            "'Documento sin título (4).gdoc'\n",
            "'Documento sin título (5).gdoc'\n",
            "'Documento sin título (6).gdoc'\n",
            "'Documento sin título (7).gdoc'\n",
            "'Documento sin título (8).gdoc'\n",
            "'Documento sin título (9).gdoc'\n",
            "'Documento sin título.gdoc'\n",
            " edmondneil@gmail.com.gdoc\n",
            "'Edmund Neil - CV 2018.pdf'\n",
            "'el santuario celestial.pptx'\n",
            "'Encuesta horarios de visorias.gform'\n",
            "'Encuesta Matematica.gsheet'\n",
            "'EQUIPO CASA LISTA DE PERSONAS AUTORIZADAS.gsheet'\n",
            "'EQUIPO CASA LISTA DE PERSONAS AUTORIZADAS.xlsx'\n",
            "'EQUIPO VISITA LISTA DE PERSONAS AUTORIZADAS.gsheet'\n",
            "'Escaneado20abr2020822am (1).gdoc'\n",
            " Escaneado20abr2020822am.gdoc\n",
            " Escaneado20abr2020822am.pdf\n",
            "'espanol 2.gdoc'\n",
            "'espanol 3.gdoc'\n",
            "'espanol 4.gdoc'\n",
            " Estadisticas_EscuelaFutbol_Heredia.gsheet\n",
            "'Estado de cuenta.pdf'\n",
            "'Estrategias de jugadas a balón parado.gdoc'\n",
            "'Estrategias de jugadas a balón parado.pdf'\n",
            "'ETIQUETA ULTIMO.mp4'\n",
            "'Evaluacion Cobresal Sub17.gsheet'\n",
            "'EVALUACION FINAL ETIQUETA Y PROTOCOLO.docx'\n",
            "'EVALUACION FINAL PRIMEROS AUXILIOS.docx'\n",
            "'Evaluation Física.gdoc'\n",
            " f0035036-e82b-4a9d-af10-d7e578726f4e.gdoc\n",
            " f0035036-e82b-4a9d-af10-d7e578726f4e.pdf\n",
            "'FIFA POSITION.gsheet'\n",
            " File.gdoc\n",
            " File.pdf\n",
            "'FODA - CS United | Edmond Neil.gdoc'\n",
            "'Formato arbol  Genealógico | Edmund Neil Quiros.xlsx'\n",
            "'Formulario de Asistencias | CAI U17.gform'\n",
            "'Formulario de Asistencias | CAI U17 (Respuestas).gsheet'\n",
            "'Formulario de Asistencias.gform'\n",
            "'Formulario de Asistencias (Responses).gsheet'\n",
            "'Formulario de Contacto - Wakanda FC.gform'\n",
            "'Formulario sin título (1).gform'\n",
            "'Formulario sin título.gform'\n",
            "'Formulario Visoria - Wakanda 2020.gform'\n",
            "'Formulario Visoria - Wakanda 2020 (Responses).gsheet'\n",
            "'Fortalezas & Debilidades | Pokemon.gsheet'\n",
            " fotos.gsheet\n",
            " GasolinaForm.gsheet\n",
            " Gasolina.gform\n",
            " gasolina.gsheet\n",
            " Gasolina.gsheet\n",
            " Gastos.xlsx\n",
            " Gastos.xlsx.gsheet\n",
            " GColab\n",
            "'GL Gantt.gsheet'\n",
            "'Google Buzz'\n",
            "'Guia de trabajo Autonomo tema 13-14.gdoc'\n",
            "'Hello, world!.gdoc'\n",
            "'Hoja de cálculo sin título (1).gsheet'\n",
            "'Hoja de cálculo sin título (2).gsheet'\n",
            "'Hoja de cálculo sin título (3).gsheet'\n",
            "'Hoja de cálculo sin título.gsheet'\n",
            "'Home Budget.gsheet'\n",
            " IMG_0938.jpg\n",
            "'Impacto Profetico Completo.pdf'\n",
            "'Info Llaves.gdoc'\n",
            "'Information Sharing and Data Protection Policy and Procedures - Will Stephenson.pdf'\n",
            " infracciones_categoria.gsheet\n",
            "'Instat | Acciones.gsheet'\n",
            " Instat.pdf\n",
            " IpswichTown\n",
            "'Jugadores Duplicados UNAFUT.gsheet'\n",
            "'Jugadores por año.gdoc'\n",
            "'Khamis roche.gdoc'\n",
            "'L1 SP DATA.gsheet'\n",
            "'LA SOMBRA DE LA IMAGEN DE LA BESTIA.gdoc'\n",
            "'Leccion 1 - La autoridad de la biblia.docx'\n",
            " LINAFA-complete2.png\n",
            "'Listado  de compradores.gform'\n",
            "'Listado  de compradores (Responses).gsheet'\n",
            " Listado_Partidos_EscuelaFutbol_Heredia.gsheet\n",
            "'Lista Final - Wakanda Girls FC.gsheet'\n",
            "'Lista U17.gsheet'\n",
            "'Lista U17.xlsx'\n",
            "'LIV FULL STATS.gsheet'\n",
            "'logo jic.gdoc'\n",
            "'Los 10 mandamientos en el Genesis.gdoc'\n",
            "'Machine Learning A-Z (Codes and Datasets)'\n",
            "'Machine Learning A-Z (Model Selection)'\n",
            "'Match Report Dashboard - Data Sources.gdoc'\n",
            "'Materiales Adventistas Gratuitos'\n",
            "'Misionero Adventista Mundial  31 de Agosto del 2019  Calentando corazones con hielo - 1080p.mp4'\n",
            "'Misteriosdela astrofísica.pdf'\n",
            " MobileMeet_Application_Data\n",
            "'MobileMeet_Application_Data (1)'\n",
            " model_2.h5\n",
            " msg_07c6263f-3af9-49ed-8ea6-3c467a26b346.docx\n",
            " msg_07c6263f-3af9-49ed-8ea6-3c467a26b346.gdoc\n",
            " msg_133627ef-0801-4435-8b2b-bee6d7c8c7eb.docx\n",
            " msg_133627ef-0801-4435-8b2b-bee6d7c8c7eb.gdoc\n",
            " msg_2ea64bd4-107e-4089-b7d6-92eb86c90b40.docx\n",
            " msg_2ea64bd4-107e-4089-b7d6-92eb86c90b40.gdoc\n",
            " msg_334e1e50-f5a5-4505-a9d4-3e9c57ab1a72.docx\n",
            " msg_334e1e50-f5a5-4505-a9d4-3e9c57ab1a72.gdoc\n",
            " msg_3c611ed3-2c7c-4e30-af4f-ddeaee63c67a.docx\n",
            " msg_3c611ed3-2c7c-4e30-af4f-ddeaee63c67a.gdoc\n",
            " msg_408b9504-0a6c-49a9-a8bd-370e2c2c9966.gdoc\n",
            " msg_408b9504-0a6c-49a9-a8bd-370e2c2c9966.pdf\n",
            " msg_4663f2f1-83d8-40bb-bc9f-19ab9913b717.docx\n",
            " msg_4663f2f1-83d8-40bb-bc9f-19ab9913b717.gdoc\n",
            " msg_46ea1a5a-9b20-4392-8a55-7cda6f19a6c4.docx\n",
            " msg_46ea1a5a-9b20-4392-8a55-7cda6f19a6c4.gdoc\n",
            " msg_692619b4-1cc2-403d-80a8-1aae39f0203d.docx\n",
            " msg_692619b4-1cc2-403d-80a8-1aae39f0203d.gdoc\n",
            " msg_87290d5c-6dbe-4e25-804d-3df5894d8120.docx\n",
            " msg_87290d5c-6dbe-4e25-804d-3df5894d8120.gdoc\n",
            " msg_92dfae90-7ea2-4b74-b0bc-4d7c322888a0.gdoc\n",
            " msg_92dfae90-7ea2-4b74-b0bc-4d7c322888a0.pdf\n",
            " msg_a58747ee-b3a2-46a2-a193-894f6328a173.docx\n",
            " msg_a58747ee-b3a2-46a2-a193-894f6328a173.gdoc\n",
            " msg_bc0fe4ea-74ec-487f-9cf9-c6e2ed6e61d3.docx\n",
            " msg_bc0fe4ea-74ec-487f-9cf9-c6e2ed6e61d3.gdoc\n",
            " msg_c26b311a-6233-4cbf-b880-c8289f522b13.docx\n",
            " msg_c26b311a-6233-4cbf-b880-c8289f522b13.gdoc\n",
            " msg_c4af649d-22a5-4c47-8df8-24233cba0020.docx\n",
            " msg_c4af649d-22a5-4c47-8df8-24233cba0020.gdoc\n",
            " msg_c5c16483-c37d-43fd-bd1c-1c24763b5e57.docx\n",
            " msg_c5c16483-c37d-43fd-bd1c-1c24763b5e57.gdoc\n",
            " msg_cf2a7807-c397-4d1d-867c-36e1d1acc390.docx\n",
            " msg_cf2a7807-c397-4d1d-867c-36e1d1acc390.gdoc\n",
            " msg_d547073e-2261-4a80-b6da-850ca118b2a3.docx\n",
            " msg_d547073e-2261-4a80-b6da-850ca118b2a3.gdoc\n",
            " msg_d9793313-89f5-4d50-b526-dafeb201d1bc.docx\n",
            " msg_d9793313-89f5-4d50-b526-dafeb201d1bc.gdoc\n",
            " msg_d99a2989-7735-4361-8fad-e698bb78c79d.docx\n",
            " msg_d99a2989-7735-4361-8fad-e698bb78c79d.gdoc\n",
            " msg_debdc119-314d-48e5-8cf7-988bcbfd3ebc.docx\n",
            " msg_debdc119-314d-48e5-8cf7-988bcbfd3ebc.gdoc\n",
            "'msg_e0fa23c9-8449-4925-8e63-c66b1d176999 (1).docx'\n",
            "'msg_e0fa23c9-8449-4925-8e63-c66b1d176999 (1).gdoc'\n",
            " msg_e0fa23c9-8449-4925-8e63-c66b1d176999.docx\n",
            " msg_e0fa23c9-8449-4925-8e63-c66b1d176999.gdoc\n",
            " msg_e8ee9ca1-bbfb-4867-b08a-654258d03974.docx\n",
            " msg_e8ee9ca1-bbfb-4867-b08a-654258d03974.gdoc\n",
            " msg_f0914705-9a36-401a-9d15-eb74baceb19f.docx\n",
            " msg_f0914705-9a36-401a-9d15-eb74baceb19f.gdoc\n",
            " msg_f370a402-6514-4f18-a02f-509f5df0abdc.docx\n",
            " msg_f370a402-6514-4f18-a02f-509f5df0abdc.gdoc\n",
            " msg_f76ec3fe-2258-4bbc-890b-11a90692f815.docx\n",
            " msg_f76ec3fe-2258-4bbc-890b-11a90692f815.gdoc\n",
            "'Muertos Resucitados y Vivos Transformados.pptx.gslides'\n",
            " muestra_an_lisis_estad_stico_1615000212.pdf\n",
            " neil_cv_data.gsheet\n",
            " Newsletter.gdoc\n",
            "'No solo hablemos de Marcel….gdoc'\n",
            "'Objetivos LINAFA U17.gdoc'\n",
            "'Otros XML'\n",
            "'Panfleto porciones.pub'\n",
            " Pantalla-MAP-MAPD-PROJECT.gif.gdoc\n",
            "'PasswordSafe (1).db'\n",
            "'PasswordSafe (2).db'\n",
            "'PasswordSafe (3).db'\n",
            " PasswordSafe.db\n",
            "'Pedido de Rice & Beans.gform'\n",
            "'Pedido de Rice & Beans (Responses).gsheet'\n",
            " Pedidos_Iglesia.gsheet\n",
            "'Perfil de jugadoras - Wakanda Girls FC.gform'\n",
            "'Perfil de jugadoras - Wakanda Girls FC (Responses).gsheet'\n",
            "'Perfil de jugadores - CS United.gform'\n",
            "'Perfil de jugadores - CS United (Responses)-2.xlsx'\n",
            "'Perfil de jugadores - CS United (Responses).gsheet'\n",
            "'Plan Anual Distrital.doc'\n",
            "'Plan de trabajo físico | CS United.gdoc'\n",
            " Plan_Gobierno\n",
            " plantilla-modelo-de-juego-2.gsheet\n",
            "'Poner en excel.docx'\n",
            "'Poner en excel.docx.gdoc'\n",
            "'Posiciones Finales LINAFA PDA.gsheet'\n",
            "'Posiciones Tableau - CSU.gsheet'\n",
            " PRCTICAPARAEXAMEN.docx\n",
            "'PREPARACION FÍSICA enviar Octubre 2019.pdf'\n",
            "'Presentacion James Manos que hablan.gslides'\n",
            "'Presentación sin título (1).gslides'\n",
            "'Presentación sin título.gslides'\n",
            " Presupuesto.gsheet\n",
            "'PRIMEROS AUXILIOS FINAL.mp4'\n",
            "'Project proposal.gdoc'\n",
            "'Proyecto Complementarias James Neil 5to.gslides'\n",
            " Prueba.pptx\n",
            " python\n",
            "'QUIZ | TEMAS 13,14.gdoc'\n",
            " reempleoeceivtri2019-04.xlsx\n",
            "'Registro de actividad física - CS United.gform'\n",
            "'Registro de actividad física - CS United (Responses).gsheet'\n",
            "'Registro de Lesiones.gform'\n",
            "'Registro de Lesiones (Responses).gsheet'\n",
            "'Reglas de Juego.gdoc'\n",
            " Regression_Bonus\n",
            " repoblacdef2019a-mortalidad_materna.xls\n",
            "'Resultados DT Edmund Neil.gsheet'\n",
            "'Resultados LINAFA PDA HEREDIA.gsheet'\n",
            "'Rezzil | Project Details.gdoc'\n",
            "'Rol Cuarto Trimestre 2014 (1).xlsx'\n",
            "'Rol Cuarto Trimestre 2014.xlsx'\n",
            "'Rol Primer Trimestre 2015.xlsx'\n",
            "'Rol Tercer trimestre 2014.xlsx'\n",
            "'Romanos 10:4.gdoc'\n",
            "'roro ,Semana de oración (2).docx.gdoc'\n",
            "'Ryan (1).gsheet'\n",
            " Ryan.gsheet\n",
            " Ryan.xlsx\n",
            " saved_model\n",
            "'Scout CAI U17.gsheet'\n",
            "'Scout CSU LINAFA.gsheet'\n",
            "'Scout Wakanda FF.gsheet'\n",
            "'Screen Shot 2020-07-21 at 11.12.59 AM.png'\n",
            "'Seminario de Daniel - Powerpoint'\n",
            "'Seminario de Daniel - Powerpoint.zip'\n",
            "'Send Googles Doc - Email.gscript'\n",
            "'Sesión de entrenamiento.gdoc'\n",
            "'Sesión de Entrenamiento | U17 - 03-05-2002.gdoc'\n",
            "'Sesión de Entrenamiento | U17.gdoc'\n",
            "'Sesión de Entrenamiento | U17.pdf'\n",
            "'sesion entreno LINAFA REFRESCAMIENTO C.docx'\n",
            "'SF JOBS TABLE FIELDS.gdoc'\n",
            "'Shiny App.mp4'\n",
            "'SHINY HUB STRUCTURE.gdoc'\n",
            " sifut\n",
            " SIFUTCR\n",
            "'Simposio libertad de Conciencia.gdoc'\n",
            "'Soccer pitch zones.gsheet'\n",
            "'Soccer Positions.gsheet'\n",
            "'Solidaridad CSI - Directorio de Servicios y productos.gform'\n",
            "'Solidaridad CSI - Directorio de Servicios y productos (Responses).gsheet'\n",
            "'Sonando la alarma.doc'\n",
            " sqlite\n",
            " Suiza\n",
            "'Swiss Arrivals.gsheet'\n",
            "'TACTICOS E enviar octubre.pdf'\n",
            "'TACTICOS E enviar.pdf'\n",
            " Takeout\n",
            " TDS_png.png\n",
            "'Técnica E enviar julio 2019.pdf'\n",
            "'Todos sean uno.pptx'\n",
            "'Torneo Interfiliales.gform'\n",
            "'Torneo Interfiliales (Respuestas).gsheet'\n",
            " TRABAJOCOTIDIANODEEDUCACINFSICA17420206.docx\n",
            "'TRABAJO DE INVESTIGACIÓN | EDMUND NEIL Q..gdoc'\n",
            "'TRABAJO DE INVESTIGACIÓN.gdoc'\n",
            "'TRABAJO DE INVESTIGACIÓN | HUESOS TREN INFERIOR (LESIONES) | EDMUND NEIL | LICENCIA D SABANA.gdoc'\n",
            "'TRABAJO DE TESIS 20 HORAS DE SESIONES DE ENTRENAMIENTO | EDMUND NEIL Q..docx'\n",
            "'TRABAJO DE TESIS 20 HORAS DE SESIONES DE ENTRENAMIENTO | EDMUND NEIL Q..gdoc'\n",
            "'TRABAJO SESIONES | EDMUND NEIL | LICENCIA D SABANA.gdoc'\n",
            "'TRABAJOS LICENCE E.gdoc'\n",
            "'Tracking events'\n",
            "'TREND ANALYSIS EXAMPLE.png'\n",
            "'Trump-nominated judges.gsheet'\n",
            " udemy_yolo_training\n",
            "'Untitled document (10).gdoc'\n",
            "'Untitled document (11).gdoc'\n",
            "'Untitled document (1).gdoc'\n",
            "'Untitled document (2).gdoc'\n",
            "'Untitled document (3).gdoc'\n",
            "'Untitled document (4).gdoc'\n",
            "'Untitled document (5).gdoc'\n",
            "'Untitled document (6).gdoc'\n",
            "'Untitled document (7).gdoc'\n",
            "'Untitled document (8).gdoc'\n",
            "'Untitled document (9).gdoc'\n",
            "'Untitled document.gdoc'\n",
            "'Untitled folder'\n",
            "'Untitled form (1).gform'\n",
            "'Untitled form (2).gform'\n",
            "'Untitled form (3).gform'\n",
            "'Untitled form (4).gform'\n",
            "'Untitled form (5).gform'\n",
            "'Untitled form (File responses)'\n",
            "'Untitled form.gform'\n",
            "'Untitled form (Responses).gsheet'\n",
            "'Untitled spreadsheet (1).gsheet'\n",
            "'Untitled spreadsheet (2).gsheet'\n",
            "'Untitled spreadsheet (3).gsheet'\n",
            "'Untitled spreadsheet (4).gsheet'\n",
            "'Untitled spreadsheet (5).gsheet'\n",
            "'Untitled spreadsheet (6).gsheet'\n",
            "'Untitled spreadsheet (7).gsheet'\n",
            "'Untitled spreadsheet.gsheet'\n",
            " Using-StatsBomb-Data-In-R.gdoc\n",
            " Using-StatsBomb-Data-In-R.pdf\n",
            " video-clip.mp4\n",
            " video.mp4\n",
            "'Visoria 10-05-2022.gdoc'\n",
            "'Visoria CS United | Liga Menor.gform'\n",
            "'Visoria CS United | Liga Menor (Responses)-3.xlsx'\n",
            "'Visoria CS United | Liga Menor (Responses).gsheet'\n",
            " WIm\n",
            " world_country_and_usa_states_latitude_and_longitude_values.csv\n",
            " world_country_and_usa_states_latitude_and_longitude_values.gsheet\n",
            "'XML Apertura 2021'\n",
            "'XML Clausura 2021'\n",
            "'XML Clausura 2022'\n",
            " yolov4-deepsort\n"
          ]
        }
      ]
    }
  ]
}