{
  "nbformat": 4,
  "nbformat_minor": 0,
  "metadata": {
    "colab": {
      "name": "TensorFlow | Zero to Master course.ipynb",
      "provenance": [],
      "collapsed_sections": [
        "Lv054KIHvzgU",
        "dXcD4hgs1xeB",
        "QXlRD2o3YqkR",
        "gvnZBzA7ZMCX",
        "KebMK_HHb78_",
        "j_DzG1V3hYu8"
      ],
      "mount_file_id": "1MxCsT1QosIMRYouox6rmQoHq6-n4ru6X",
      "authorship_tag": "ABX9TyM71YR0+ufbH/fqSooFg2Y0",
      "include_colab_link": true
    },
    "kernelspec": {
      "name": "python3",
      "display_name": "Python 3"
    },
    "language_info": {
      "name": "python"
    }
  },
  "cells": [
    {
      "cell_type": "markdown",
      "metadata": {
        "id": "view-in-github",
        "colab_type": "text"
      },
      "source": [
        "<a href=\"https://colab.research.google.com/github/adlihs/tensorflow/blob/main/TensorFlow_%7C_Zero_to_Master_course.ipynb\" target=\"_parent\"><img src=\"https://colab.research.google.com/assets/colab-badge.svg\" alt=\"Open In Colab\"/></a>"
      ]
    },
    {
      "cell_type": "markdown",
      "source": [
        "# TF Fundamentals"
      ],
      "metadata": {
        "id": "lsunAVB1mgjW"
      }
    },
    {
      "cell_type": "code",
      "execution_count": null,
      "metadata": {
        "id": "UJesnjiFmDJM",
        "colab": {
          "base_uri": "https://localhost:8080/"
        },
        "outputId": "ebaaa562-90a2-460f-930f-a95deab034c6"
      },
      "outputs": [
        {
          "output_type": "stream",
          "name": "stdout",
          "text": [
            "2.8.0\n"
          ]
        }
      ],
      "source": [
        "import tensorflow as tf\n",
        "print(tf.__version__)"
      ]
    },
    {
      "cell_type": "code",
      "source": [
        "# Creating tensors with tf.constant()\n",
        "scalar = tf.constant(7)\n",
        "scalar"
      ],
      "metadata": {
        "id": "aHrF4mKVnarF",
        "colab": {
          "base_uri": "https://localhost:8080/"
        },
        "outputId": "10e39708-1a01-4c27-b65d-a9cff18cad84"
      },
      "execution_count": null,
      "outputs": [
        {
          "output_type": "execute_result",
          "data": {
            "text/plain": [
              "<tf.Tensor: shape=(), dtype=int32, numpy=7>"
            ]
          },
          "metadata": {},
          "execution_count": 2
        }
      ]
    },
    {
      "cell_type": "code",
      "source": [
        "#check the number of dimension of a tensor (ndim stands for number of dimension)\n",
        "scalar.ndim"
      ],
      "metadata": {
        "id": "x9zgFTyaoGIP",
        "colab": {
          "base_uri": "https://localhost:8080/"
        },
        "outputId": "7eb233c7-5cff-412f-a80d-7b26c8219c52"
      },
      "execution_count": null,
      "outputs": [
        {
          "output_type": "execute_result",
          "data": {
            "text/plain": [
              "0"
            ]
          },
          "metadata": {},
          "execution_count": 3
        }
      ]
    },
    {
      "cell_type": "code",
      "source": [
        "#Create a vector\n",
        "vector = tf.constant([10,10])\n",
        "vector"
      ],
      "metadata": {
        "id": "WAQpMT9RoNuA",
        "colab": {
          "base_uri": "https://localhost:8080/"
        },
        "outputId": "4d11adf7-ade4-4d86-e866-ec1a9d8ec09f"
      },
      "execution_count": null,
      "outputs": [
        {
          "output_type": "execute_result",
          "data": {
            "text/plain": [
              "<tf.Tensor: shape=(2,), dtype=int32, numpy=array([10, 10], dtype=int32)>"
            ]
          },
          "metadata": {},
          "execution_count": 4
        }
      ]
    },
    {
      "cell_type": "code",
      "source": [
        "# check the dimension of our vector\n",
        "vector.ndim"
      ],
      "metadata": {
        "id": "JvaCxc1Yoc7m",
        "colab": {
          "base_uri": "https://localhost:8080/"
        },
        "outputId": "e2cf0696-31e0-41a2-d2c6-315b97228f5d"
      },
      "execution_count": null,
      "outputs": [
        {
          "output_type": "execute_result",
          "data": {
            "text/plain": [
              "1"
            ]
          },
          "metadata": {},
          "execution_count": 5
        }
      ]
    },
    {
      "cell_type": "code",
      "source": [
        "# Create a matrix (has more than 1 dimension)\n",
        "matrix = tf.constant([ [10,7],\n",
        "                      [7,10]])\n",
        "\n",
        "matrix"
      ],
      "metadata": {
        "id": "3m8l4Xxjoi1r",
        "colab": {
          "base_uri": "https://localhost:8080/"
        },
        "outputId": "24aaab6c-e0f1-401e-9259-61ecfa35e26a"
      },
      "execution_count": null,
      "outputs": [
        {
          "output_type": "execute_result",
          "data": {
            "text/plain": [
              "<tf.Tensor: shape=(2, 2), dtype=int32, numpy=\n",
              "array([[10,  7],\n",
              "       [ 7, 10]], dtype=int32)>"
            ]
          },
          "metadata": {},
          "execution_count": 6
        }
      ]
    },
    {
      "cell_type": "code",
      "source": [
        "matrix.ndim"
      ],
      "metadata": {
        "id": "lmTXyPLNo9IJ",
        "colab": {
          "base_uri": "https://localhost:8080/"
        },
        "outputId": "2bf43f6d-f37f-4ff9-a4ca-6c29c1771a00"
      },
      "execution_count": null,
      "outputs": [
        {
          "output_type": "execute_result",
          "data": {
            "text/plain": [
              "2"
            ]
          },
          "metadata": {},
          "execution_count": 7
        }
      ]
    },
    {
      "cell_type": "code",
      "source": [
        "# cretae another matrix\n",
        "matrix_2 = tf.constant([[10.,7.],\n",
        "                        [3.,2.],\n",
        "                        [8.,9.]], dtype=tf.float16) #specifiy the data type\n",
        "matrix_2"
      ],
      "metadata": {
        "id": "z79AQeoKpLsK",
        "colab": {
          "base_uri": "https://localhost:8080/"
        },
        "outputId": "2afb8fbe-179f-4b56-c447-d2aeacfb89cb"
      },
      "execution_count": null,
      "outputs": [
        {
          "output_type": "execute_result",
          "data": {
            "text/plain": [
              "<tf.Tensor: shape=(3, 2), dtype=float16, numpy=\n",
              "array([[10.,  7.],\n",
              "       [ 3.,  2.],\n",
              "       [ 8.,  9.]], dtype=float16)>"
            ]
          },
          "metadata": {},
          "execution_count": 8
        }
      ]
    },
    {
      "cell_type": "code",
      "source": [
        "matrix_2.ndim"
      ],
      "metadata": {
        "id": "JMs6CInTp4FU",
        "colab": {
          "base_uri": "https://localhost:8080/"
        },
        "outputId": "7e013714-276e-4d63-8519-33b7a01ed49f"
      },
      "execution_count": null,
      "outputs": [
        {
          "output_type": "execute_result",
          "data": {
            "text/plain": [
              "2"
            ]
          },
          "metadata": {},
          "execution_count": 9
        }
      ]
    },
    {
      "cell_type": "code",
      "source": [
        "# Creating a tensor\n",
        "tensor = tf.constant([[[1,2,3,],\n",
        "                       [4,5,6]],\n",
        "                      [[7,8,9],\n",
        "                       [10,11,12]],\n",
        "                      [[13,14,15],\n",
        "                       [16,17,18]]]) # [[0,0,0],[0,0,0]]\n",
        "                                     # [[0,0,0],[0,0,0]]\n",
        "                                     # [[0,0,0],[0,0,0]]\n",
        "tensor"
      ],
      "metadata": {
        "id": "Szi9ywCvqExL",
        "colab": {
          "base_uri": "https://localhost:8080/"
        },
        "outputId": "06c01e2a-ce12-412c-dda9-64d68be6e5ef"
      },
      "execution_count": null,
      "outputs": [
        {
          "output_type": "execute_result",
          "data": {
            "text/plain": [
              "<tf.Tensor: shape=(3, 2, 3), dtype=int32, numpy=\n",
              "array([[[ 1,  2,  3],\n",
              "        [ 4,  5,  6]],\n",
              "\n",
              "       [[ 7,  8,  9],\n",
              "        [10, 11, 12]],\n",
              "\n",
              "       [[13, 14, 15],\n",
              "        [16, 17, 18]]], dtype=int32)>"
            ]
          },
          "metadata": {},
          "execution_count": 10
        }
      ]
    },
    {
      "cell_type": "code",
      "source": [
        "tensor.ndim"
      ],
      "metadata": {
        "id": "L46wTvsnr_5k",
        "colab": {
          "base_uri": "https://localhost:8080/"
        },
        "outputId": "51341ad8-64fa-48c6-a219-54868462b96b"
      },
      "execution_count": null,
      "outputs": [
        {
          "output_type": "execute_result",
          "data": {
            "text/plain": [
              "3"
            ]
          },
          "metadata": {},
          "execution_count": 11
        }
      ]
    },
    {
      "cell_type": "code",
      "source": [
        "# Scalar: Single number\n",
        "# Vector: a number with direction (e.g wind speed and direction)\n",
        "# Matrix: a 2-dimensional array of numbers\n",
        "# Tensor: an n-dimensional array of number (when n can be any number, a 0-dimensional tensor is a scalar, a 1-dimensional tensor is a vector)"
      ],
      "metadata": {
        "id": "X3pDj7nvsILr"
      },
      "execution_count": null,
      "outputs": []
    },
    {
      "cell_type": "markdown",
      "source": [
        "### Creating tensors with `tf.Variable`"
      ],
      "metadata": {
        "id": "v7L9Wetqtog1"
      }
    },
    {
      "cell_type": "code",
      "source": [
        "changeable_tensor = tf.Variable([10,7])\n",
        "unchangeable_tensor = tf.constant([10,7])\n",
        "changeable_tensor, unchangeable_tensor"
      ],
      "metadata": {
        "id": "hvhrOIDMtnn6",
        "colab": {
          "base_uri": "https://localhost:8080/"
        },
        "outputId": "399445ff-c6b8-4ed8-eff6-150e30d2d2c3"
      },
      "execution_count": null,
      "outputs": [
        {
          "output_type": "execute_result",
          "data": {
            "text/plain": [
              "(<tf.Variable 'Variable:0' shape=(2,) dtype=int32, numpy=array([10,  7], dtype=int32)>,\n",
              " <tf.Tensor: shape=(2,), dtype=int32, numpy=array([10,  7], dtype=int32)>)"
            ]
          },
          "metadata": {},
          "execution_count": 13
        }
      ]
    },
    {
      "cell_type": "code",
      "source": [
        "# Change on of the elements\n",
        "\n",
        "changeable_tensor[0] = 7\n",
        "changeable_tensor"
      ],
      "metadata": {
        "id": "aIJ6fB2HulPR",
        "colab": {
          "base_uri": "https://localhost:8080/",
          "height": 215
        },
        "outputId": "49fac83d-6d6e-44c5-a97b-0a51b4a8deb9"
      },
      "execution_count": null,
      "outputs": [
        {
          "output_type": "error",
          "ename": "TypeError",
          "evalue": "ignored",
          "traceback": [
            "\u001b[0;31m---------------------------------------------------------------------------\u001b[0m",
            "\u001b[0;31mTypeError\u001b[0m                                 Traceback (most recent call last)",
            "\u001b[0;32m<ipython-input-14-294cdbe4efc2>\u001b[0m in \u001b[0;36m<module>\u001b[0;34m()\u001b[0m\n\u001b[1;32m      1\u001b[0m \u001b[0;31m# Change on of the elements\u001b[0m\u001b[0;34m\u001b[0m\u001b[0;34m\u001b[0m\u001b[0;34m\u001b[0m\u001b[0m\n\u001b[1;32m      2\u001b[0m \u001b[0;34m\u001b[0m\u001b[0m\n\u001b[0;32m----> 3\u001b[0;31m \u001b[0mchangeable_tensor\u001b[0m\u001b[0;34m[\u001b[0m\u001b[0;36m0\u001b[0m\u001b[0;34m]\u001b[0m \u001b[0;34m=\u001b[0m \u001b[0;36m7\u001b[0m\u001b[0;34m\u001b[0m\u001b[0;34m\u001b[0m\u001b[0m\n\u001b[0m\u001b[1;32m      4\u001b[0m \u001b[0mchangeable_tensor\u001b[0m\u001b[0;34m\u001b[0m\u001b[0;34m\u001b[0m\u001b[0m\n",
            "\u001b[0;31mTypeError\u001b[0m: 'ResourceVariable' object does not support item assignment"
          ]
        }
      ]
    },
    {
      "cell_type": "code",
      "source": [
        "# using .assign()\n",
        "changeable_tensor[0].assign(7)\n",
        "changeable_tensor"
      ],
      "metadata": {
        "id": "iqYarP90u0F9",
        "colab": {
          "base_uri": "https://localhost:8080/"
        },
        "outputId": "fce45eb3-0057-4122-9788-f7fe6a4c13bb"
      },
      "execution_count": null,
      "outputs": [
        {
          "output_type": "execute_result",
          "data": {
            "text/plain": [
              "<tf.Variable 'Variable:0' shape=(2,) dtype=int32, numpy=array([7, 7], dtype=int32)>"
            ]
          },
          "metadata": {},
          "execution_count": 15
        }
      ]
    },
    {
      "cell_type": "code",
      "source": [
        "# try to change the unchangeable tensor\n",
        "\n",
        "unchangeable_tensor[0].assign(7)\n",
        "#'tensorflow.python.framework.ops.EagerTensor' object has no attribute 'assign'"
      ],
      "metadata": {
        "id": "tQtgQgUKvBha",
        "colab": {
          "base_uri": "https://localhost:8080/",
          "height": 334
        },
        "outputId": "7d014618-e30f-4940-f659-dbeb225425b4"
      },
      "execution_count": null,
      "outputs": [
        {
          "output_type": "error",
          "ename": "AttributeError",
          "evalue": "ignored",
          "traceback": [
            "\u001b[0;31m---------------------------------------------------------------------------\u001b[0m",
            "\u001b[0;31mAttributeError\u001b[0m                            Traceback (most recent call last)",
            "\u001b[0;32m<ipython-input-16-ba0a202ced1c>\u001b[0m in \u001b[0;36m<module>\u001b[0;34m()\u001b[0m\n\u001b[1;32m      1\u001b[0m \u001b[0;31m# try to change the unchangeable tensor\u001b[0m\u001b[0;34m\u001b[0m\u001b[0;34m\u001b[0m\u001b[0;34m\u001b[0m\u001b[0m\n\u001b[1;32m      2\u001b[0m \u001b[0;34m\u001b[0m\u001b[0m\n\u001b[0;32m----> 3\u001b[0;31m \u001b[0munchangeable_tensor\u001b[0m\u001b[0;34m[\u001b[0m\u001b[0;36m0\u001b[0m\u001b[0;34m]\u001b[0m\u001b[0;34m.\u001b[0m\u001b[0massign\u001b[0m\u001b[0;34m(\u001b[0m\u001b[0;36m7\u001b[0m\u001b[0;34m)\u001b[0m\u001b[0;34m\u001b[0m\u001b[0;34m\u001b[0m\u001b[0m\n\u001b[0m\u001b[1;32m      4\u001b[0m \u001b[0;31m#'tensorflow.python.framework.ops.EagerTensor' object has no attribute 'assign'\u001b[0m\u001b[0;34m\u001b[0m\u001b[0;34m\u001b[0m\u001b[0;34m\u001b[0m\u001b[0m\n",
            "\u001b[0;32m/usr/local/lib/python3.7/dist-packages/tensorflow/python/framework/ops.py\u001b[0m in \u001b[0;36m__getattr__\u001b[0;34m(self, name)\u001b[0m\n\u001b[1;32m    511\u001b[0m         \u001b[0;32mfrom\u001b[0m \u001b[0mtensorflow\u001b[0m\u001b[0;34m.\u001b[0m\u001b[0mpython\u001b[0m\u001b[0;34m.\u001b[0m\u001b[0mops\u001b[0m\u001b[0;34m.\u001b[0m\u001b[0mnumpy_ops\u001b[0m \u001b[0;32mimport\u001b[0m \u001b[0mnp_config\u001b[0m\u001b[0;34m\u001b[0m\u001b[0;34m\u001b[0m\u001b[0m\n\u001b[1;32m    512\u001b[0m         np_config.enable_numpy_behavior()\"\"\".format(type(self).__name__, name))\n\u001b[0;32m--> 513\u001b[0;31m     \u001b[0mself\u001b[0m\u001b[0;34m.\u001b[0m\u001b[0m__getattribute__\u001b[0m\u001b[0;34m(\u001b[0m\u001b[0mname\u001b[0m\u001b[0;34m)\u001b[0m\u001b[0;34m\u001b[0m\u001b[0;34m\u001b[0m\u001b[0m\n\u001b[0m\u001b[1;32m    514\u001b[0m \u001b[0;34m\u001b[0m\u001b[0m\n\u001b[1;32m    515\u001b[0m   \u001b[0;34m@\u001b[0m\u001b[0mstaticmethod\u001b[0m\u001b[0;34m\u001b[0m\u001b[0;34m\u001b[0m\u001b[0m\n",
            "\u001b[0;31mAttributeError\u001b[0m: 'tensorflow.python.framework.ops.EagerTensor' object has no attribute 'assign'"
          ]
        }
      ]
    },
    {
      "cell_type": "markdown",
      "source": [
        "### Creating random tensors\n",
        "Random tensors are tensors of some arbitrary size wich contain random numbers"
      ],
      "metadata": {
        "id": "Lv054KIHvzgU"
      }
    },
    {
      "cell_type": "code",
      "source": [
        "# 2 random tensor (but the same)\n",
        "random_1 = tf.random.Generator.from_seed(42) # set seed for reproducitibility\n",
        "random_1 = random_1.normal(shape=(3,2))\n",
        "random_2 = tf.random.Generator.from_seed(42)\n",
        "random_2 = random_2.normal(shape=(3,2))\n",
        "\n",
        "#Are they equal?\n",
        "random_1, random_2, random_1 == random_2"
      ],
      "metadata": {
        "id": "1fNHcmfZvvI2",
        "colab": {
          "base_uri": "https://localhost:8080/"
        },
        "outputId": "af84a526-0a58-4f4b-a2a1-43dccee8cdbf"
      },
      "execution_count": null,
      "outputs": [
        {
          "output_type": "execute_result",
          "data": {
            "text/plain": [
              "(<tf.Tensor: shape=(3, 2), dtype=float32, numpy=\n",
              " array([[-0.7565803 , -0.06854702],\n",
              "        [ 0.07595026, -1.2573844 ],\n",
              "        [-0.23193763, -1.8107855 ]], dtype=float32)>,\n",
              " <tf.Tensor: shape=(3, 2), dtype=float32, numpy=\n",
              " array([[-0.7565803 , -0.06854702],\n",
              "        [ 0.07595026, -1.2573844 ],\n",
              "        [-0.23193763, -1.8107855 ]], dtype=float32)>,\n",
              " <tf.Tensor: shape=(3, 2), dtype=bool, numpy=\n",
              " array([[ True,  True],\n",
              "        [ True,  True],\n",
              "        [ True,  True]])>)"
            ]
          },
          "metadata": {},
          "execution_count": 17
        }
      ]
    },
    {
      "cell_type": "markdown",
      "source": [
        "### Shuffle the oreder of elements in the tensor"
      ],
      "metadata": {
        "id": "dXcD4hgs1xeB"
      }
    },
    {
      "cell_type": "code",
      "source": [
        "# Shuffle a tensor | Valueble for when you want to shuffle your data so the inherent order does not effect learning\n",
        "not_shuffle = tf.constant([[10,7],\n",
        "                           [3,4],\n",
        "                           [2,5]])\n",
        "not_shuffle.ndim"
      ],
      "metadata": {
        "id": "7fyQEc5z0uG3",
        "colab": {
          "base_uri": "https://localhost:8080/"
        },
        "outputId": "7453b32f-07f7-4471-c97c-e19c3e186369"
      },
      "execution_count": null,
      "outputs": [
        {
          "output_type": "execute_result",
          "data": {
            "text/plain": [
              "2"
            ]
          },
          "metadata": {},
          "execution_count": 18
        }
      ]
    },
    {
      "cell_type": "code",
      "source": [
        "not_shuffle"
      ],
      "metadata": {
        "id": "AmcPYeHMQilc",
        "colab": {
          "base_uri": "https://localhost:8080/"
        },
        "outputId": "e6a8e0e7-4315-4ca2-b3f4-bb3016e72907"
      },
      "execution_count": null,
      "outputs": [
        {
          "output_type": "execute_result",
          "data": {
            "text/plain": [
              "<tf.Tensor: shape=(3, 2), dtype=int32, numpy=\n",
              "array([[10,  7],\n",
              "       [ 3,  4],\n",
              "       [ 2,  5]], dtype=int32)>"
            ]
          },
          "metadata": {},
          "execution_count": 19
        }
      ]
    },
    {
      "cell_type": "code",
      "source": [
        "#shuffle our non-shuffled tensor\n",
        "\n",
        "tf.random.shuffle(not_shuffle)"
      ],
      "metadata": {
        "id": "Lmbr9gDaRAXp",
        "colab": {
          "base_uri": "https://localhost:8080/"
        },
        "outputId": "a26174c2-5d7b-4b2b-a2e3-c65fb2a0ea58"
      },
      "execution_count": null,
      "outputs": [
        {
          "output_type": "execute_result",
          "data": {
            "text/plain": [
              "<tf.Tensor: shape=(3, 2), dtype=int32, numpy=\n",
              "array([[ 2,  5],\n",
              "       [10,  7],\n",
              "       [ 3,  4]], dtype=int32)>"
            ]
          },
          "metadata": {},
          "execution_count": 20
        }
      ]
    },
    {
      "cell_type": "code",
      "source": [
        "# it looks if we want our shuffled tensors to be in the same oreder we have got to use the global level random seed as well as the operation level random seed\n",
        "tf.random.set_seed(55) #global level random seed\n",
        "tf.random.shuffle(not_shuffle, seed=55) #operation level random seed"
      ],
      "metadata": {
        "id": "_vMw3w5RRmBK",
        "colab": {
          "base_uri": "https://localhost:8080/"
        },
        "outputId": "dcc1f00e-59e9-4c1a-d4ab-deafaecd80c2"
      },
      "execution_count": null,
      "outputs": [
        {
          "output_type": "execute_result",
          "data": {
            "text/plain": [
              "<tf.Tensor: shape=(3, 2), dtype=int32, numpy=\n",
              "array([[ 2,  5],\n",
              "       [10,  7],\n",
              "       [ 3,  4]], dtype=int32)>"
            ]
          },
          "metadata": {},
          "execution_count": 21
        }
      ]
    },
    {
      "cell_type": "markdown",
      "source": [
        "### other way to make tensors"
      ],
      "metadata": {
        "id": "QXlRD2o3YqkR"
      }
    },
    {
      "cell_type": "code",
      "source": [
        "#Tensor of all ones\n",
        "tf.ones([10,7])\n"
      ],
      "metadata": {
        "id": "Vb29nwO-WFD0",
        "colab": {
          "base_uri": "https://localhost:8080/"
        },
        "outputId": "1ef90ea8-c363-4b5c-8e74-659aa4fd9b80"
      },
      "execution_count": null,
      "outputs": [
        {
          "output_type": "execute_result",
          "data": {
            "text/plain": [
              "<tf.Tensor: shape=(10, 7), dtype=float32, numpy=\n",
              "array([[1., 1., 1., 1., 1., 1., 1.],\n",
              "       [1., 1., 1., 1., 1., 1., 1.],\n",
              "       [1., 1., 1., 1., 1., 1., 1.],\n",
              "       [1., 1., 1., 1., 1., 1., 1.],\n",
              "       [1., 1., 1., 1., 1., 1., 1.],\n",
              "       [1., 1., 1., 1., 1., 1., 1.],\n",
              "       [1., 1., 1., 1., 1., 1., 1.],\n",
              "       [1., 1., 1., 1., 1., 1., 1.],\n",
              "       [1., 1., 1., 1., 1., 1., 1.],\n",
              "       [1., 1., 1., 1., 1., 1., 1.]], dtype=float32)>"
            ]
          },
          "metadata": {},
          "execution_count": 22
        }
      ]
    },
    {
      "cell_type": "code",
      "source": [
        "#Tensor of all zeros\n",
        "tf.zeros(shape=(3,4))"
      ],
      "metadata": {
        "id": "kb-mOsF4Y673",
        "colab": {
          "base_uri": "https://localhost:8080/"
        },
        "outputId": "2aff258a-72f8-40cd-8062-210502ce0ff9"
      },
      "execution_count": null,
      "outputs": [
        {
          "output_type": "execute_result",
          "data": {
            "text/plain": [
              "<tf.Tensor: shape=(3, 4), dtype=float32, numpy=\n",
              "array([[0., 0., 0., 0.],\n",
              "       [0., 0., 0., 0.],\n",
              "       [0., 0., 0., 0.]], dtype=float32)>"
            ]
          },
          "metadata": {},
          "execution_count": 23
        }
      ]
    },
    {
      "cell_type": "markdown",
      "source": [
        "### Turn Numpy arrays into tensors\n",
        "The main difference between Numpy arrays and Tensorflow tensors is that tensors can be run on a GPU computing"
      ],
      "metadata": {
        "id": "gvnZBzA7ZMCX"
      }
    },
    {
      "cell_type": "code",
      "source": [
        "# Turn Numpy arrays into tensors\n",
        "import numpy as np\n",
        "numpy_A = np.arange(1,25,dtype=np.int32) #numpy Arrays\n",
        "numpy_A\n",
        "\n",
        "#X = tf.constant(some_matrix)  #capital letter for matrix or tensor\n",
        "#y = tf.constant(vector) #non-capital letter for vector"
      ],
      "metadata": {
        "id": "HNlbEDbtZF2v",
        "colab": {
          "base_uri": "https://localhost:8080/"
        },
        "outputId": "3be5cec4-449f-4502-e407-0c45366f3673"
      },
      "execution_count": null,
      "outputs": [
        {
          "output_type": "execute_result",
          "data": {
            "text/plain": [
              "array([ 1,  2,  3,  4,  5,  6,  7,  8,  9, 10, 11, 12, 13, 14, 15, 16, 17,\n",
              "       18, 19, 20, 21, 22, 23, 24], dtype=int32)"
            ]
          },
          "metadata": {},
          "execution_count": 24
        }
      ]
    },
    {
      "cell_type": "code",
      "source": [
        "#Convert numpy to tensor\n",
        "A = tf.constant(numpy_A, shape=(3,8))\n",
        "B = tf.constant(numpy_A)\n",
        "A,B"
      ],
      "metadata": {
        "id": "3FV1UrRSaUX6",
        "colab": {
          "base_uri": "https://localhost:8080/"
        },
        "outputId": "0e35182f-c885-482b-88f2-0c43f1a83d09"
      },
      "execution_count": null,
      "outputs": [
        {
          "output_type": "execute_result",
          "data": {
            "text/plain": [
              "(<tf.Tensor: shape=(3, 8), dtype=int32, numpy=\n",
              " array([[ 1,  2,  3,  4,  5,  6,  7,  8],\n",
              "        [ 9, 10, 11, 12, 13, 14, 15, 16],\n",
              "        [17, 18, 19, 20, 21, 22, 23, 24]], dtype=int32)>,\n",
              " <tf.Tensor: shape=(24,), dtype=int32, numpy=\n",
              " array([ 1,  2,  3,  4,  5,  6,  7,  8,  9, 10, 11, 12, 13, 14, 15, 16, 17,\n",
              "        18, 19, 20, 21, 22, 23, 24], dtype=int32)>)"
            ]
          },
          "metadata": {},
          "execution_count": 25
        }
      ]
    },
    {
      "cell_type": "code",
      "source": [
        "A.ndim"
      ],
      "metadata": {
        "id": "LNWkiezObfBN",
        "colab": {
          "base_uri": "https://localhost:8080/"
        },
        "outputId": "830474d7-4ad7-4345-ee81-4b64d714e4f4"
      },
      "execution_count": null,
      "outputs": [
        {
          "output_type": "execute_result",
          "data": {
            "text/plain": [
              "2"
            ]
          },
          "metadata": {},
          "execution_count": 26
        }
      ]
    },
    {
      "cell_type": "markdown",
      "source": [
        "### Getting information from Tensors\n",
        "* Shape\n",
        "* Rank\n",
        "* axis or dimension\n",
        "* Size"
      ],
      "metadata": {
        "id": "KebMK_HHb78_"
      }
    },
    {
      "cell_type": "code",
      "source": [
        "# create a rank 4 tensor (4 dimensions)\n",
        "rank_4_tensor = tf.zeros(shape=[2,3,4,5])\n",
        "rank_4_tensor\n"
      ],
      "metadata": {
        "id": "dKcfZyR8bQzN",
        "colab": {
          "base_uri": "https://localhost:8080/"
        },
        "outputId": "d62e1a68-7af1-4ea0-de6f-b3618f361668"
      },
      "execution_count": null,
      "outputs": [
        {
          "output_type": "execute_result",
          "data": {
            "text/plain": [
              "<tf.Tensor: shape=(2, 3, 4, 5), dtype=float32, numpy=\n",
              "array([[[[0., 0., 0., 0., 0.],\n",
              "         [0., 0., 0., 0., 0.],\n",
              "         [0., 0., 0., 0., 0.],\n",
              "         [0., 0., 0., 0., 0.]],\n",
              "\n",
              "        [[0., 0., 0., 0., 0.],\n",
              "         [0., 0., 0., 0., 0.],\n",
              "         [0., 0., 0., 0., 0.],\n",
              "         [0., 0., 0., 0., 0.]],\n",
              "\n",
              "        [[0., 0., 0., 0., 0.],\n",
              "         [0., 0., 0., 0., 0.],\n",
              "         [0., 0., 0., 0., 0.],\n",
              "         [0., 0., 0., 0., 0.]]],\n",
              "\n",
              "\n",
              "       [[[0., 0., 0., 0., 0.],\n",
              "         [0., 0., 0., 0., 0.],\n",
              "         [0., 0., 0., 0., 0.],\n",
              "         [0., 0., 0., 0., 0.]],\n",
              "\n",
              "        [[0., 0., 0., 0., 0.],\n",
              "         [0., 0., 0., 0., 0.],\n",
              "         [0., 0., 0., 0., 0.],\n",
              "         [0., 0., 0., 0., 0.]],\n",
              "\n",
              "        [[0., 0., 0., 0., 0.],\n",
              "         [0., 0., 0., 0., 0.],\n",
              "         [0., 0., 0., 0., 0.],\n",
              "         [0., 0., 0., 0., 0.]]]], dtype=float32)>"
            ]
          },
          "metadata": {},
          "execution_count": 27
        }
      ]
    },
    {
      "cell_type": "code",
      "source": [
        "rank_4_tensor[0]"
      ],
      "metadata": {
        "id": "a1bdAkELdjRe",
        "colab": {
          "base_uri": "https://localhost:8080/"
        },
        "outputId": "9fad72a1-1328-4b20-ef17-0334c2c4739a"
      },
      "execution_count": null,
      "outputs": [
        {
          "output_type": "execute_result",
          "data": {
            "text/plain": [
              "<tf.Tensor: shape=(3, 4, 5), dtype=float32, numpy=\n",
              "array([[[0., 0., 0., 0., 0.],\n",
              "        [0., 0., 0., 0., 0.],\n",
              "        [0., 0., 0., 0., 0.],\n",
              "        [0., 0., 0., 0., 0.]],\n",
              "\n",
              "       [[0., 0., 0., 0., 0.],\n",
              "        [0., 0., 0., 0., 0.],\n",
              "        [0., 0., 0., 0., 0.],\n",
              "        [0., 0., 0., 0., 0.]],\n",
              "\n",
              "       [[0., 0., 0., 0., 0.],\n",
              "        [0., 0., 0., 0., 0.],\n",
              "        [0., 0., 0., 0., 0.],\n",
              "        [0., 0., 0., 0., 0.]]], dtype=float32)>"
            ]
          },
          "metadata": {},
          "execution_count": 28
        }
      ]
    },
    {
      "cell_type": "code",
      "source": [
        "rank_4_tensor.shape, rank_4_tensor.ndim, tf.size(rank_4_tensor)\n",
        "#size 120 # because 2*3*4*5"
      ],
      "metadata": {
        "id": "MU-uwjueeUgw",
        "colab": {
          "base_uri": "https://localhost:8080/"
        },
        "outputId": "91877667-80b2-4449-f2fb-85876fd569e7"
      },
      "execution_count": null,
      "outputs": [
        {
          "output_type": "execute_result",
          "data": {
            "text/plain": [
              "(TensorShape([2, 3, 4, 5]), 4, <tf.Tensor: shape=(), dtype=int32, numpy=120>)"
            ]
          },
          "metadata": {},
          "execution_count": 29
        }
      ]
    },
    {
      "cell_type": "code",
      "source": [
        "#Get various attributes of our tensor\n",
        "\n",
        "print(\"Datatype of every element:\", rank_4_tensor.dtype)\n",
        "print(\"Number of dimensions (rank):\", rank_4_tensor.ndim)\n",
        "print(\"Shape of tensor:\", rank_4_tensor.shape)\n",
        "print(\"Element along the 0 axis:\", rank_4_tensor.shape[0])\n",
        "print(\"Element along the last axis:\", rank_4_tensor.shape[-1])\n",
        "print(\"Total number of elements in our tensor:\", tf.size(rank_4_tensor) )\n",
        "print(\"Total number of elements in our tensor:\", tf.size(rank_4_tensor).numpy() )"
      ],
      "metadata": {
        "id": "X9FBi4z4fsRo",
        "colab": {
          "base_uri": "https://localhost:8080/"
        },
        "outputId": "4b33dec1-a027-410c-d255-2dc446621003"
      },
      "execution_count": null,
      "outputs": [
        {
          "output_type": "stream",
          "name": "stdout",
          "text": [
            "Datatype of every element: <dtype: 'float32'>\n",
            "Number of dimensions (rank): 4\n",
            "Shape of tensor: (2, 3, 4, 5)\n",
            "Element along the 0 axis: 2\n",
            "Element along the last axis: 5\n",
            "Total number of elements in our tensor: tf.Tensor(120, shape=(), dtype=int32)\n",
            "Total number of elements in our tensor: 120\n"
          ]
        }
      ]
    },
    {
      "cell_type": "markdown",
      "source": [
        "### Indexing and expanding tensors\n",
        "Tesor can be index just like python list"
      ],
      "metadata": {
        "id": "j_DzG1V3hYu8"
      }
    },
    {
      "cell_type": "code",
      "source": [
        "#Get the first 2 elements of each dimension\n",
        "rank_4_tensor[:2,:2,:2,:2]"
      ],
      "metadata": {
        "id": "Q2dDDYjXhc1N",
        "colab": {
          "base_uri": "https://localhost:8080/"
        },
        "outputId": "22eab2e4-6b24-47ec-e4f2-fd6a595cd48c"
      },
      "execution_count": null,
      "outputs": [
        {
          "output_type": "execute_result",
          "data": {
            "text/plain": [
              "<tf.Tensor: shape=(2, 2, 2, 2), dtype=float32, numpy=\n",
              "array([[[[0., 0.],\n",
              "         [0., 0.]],\n",
              "\n",
              "        [[0., 0.],\n",
              "         [0., 0.]]],\n",
              "\n",
              "\n",
              "       [[[0., 0.],\n",
              "         [0., 0.]],\n",
              "\n",
              "        [[0., 0.],\n",
              "         [0., 0.]]]], dtype=float32)>"
            ]
          },
          "metadata": {},
          "execution_count": 31
        }
      ]
    },
    {
      "cell_type": "code",
      "source": [
        "# Get the first element from each dimension from each index ecept for the final one\n",
        "\n",
        "rank_4_tensor[:1,:1,:1,:]"
      ],
      "metadata": {
        "id": "gPzIvIdMiLMJ",
        "colab": {
          "base_uri": "https://localhost:8080/"
        },
        "outputId": "612f5a44-ea1d-4b87-8b74-71a252bb3a5c"
      },
      "execution_count": null,
      "outputs": [
        {
          "output_type": "execute_result",
          "data": {
            "text/plain": [
              "<tf.Tensor: shape=(1, 1, 1, 5), dtype=float32, numpy=array([[[[0., 0., 0., 0., 0.]]]], dtype=float32)>"
            ]
          },
          "metadata": {},
          "execution_count": 32
        }
      ]
    },
    {
      "cell_type": "code",
      "source": [
        "# create a rank 2 tensor (2 dimensions)\n",
        "rank_2_tensor = tf.constant([[10,7],\n",
        "                            [3,4]])\n",
        "\n",
        "rank_2_tensor.shape, rank_2_tensor.ndim"
      ],
      "metadata": {
        "id": "tV-UPVGHjHJg",
        "colab": {
          "base_uri": "https://localhost:8080/"
        },
        "outputId": "ee5e85fc-36aa-420a-e10a-91287f31ef08"
      },
      "execution_count": null,
      "outputs": [
        {
          "output_type": "execute_result",
          "data": {
            "text/plain": [
              "(TensorShape([2, 2]), 2)"
            ]
          },
          "metadata": {},
          "execution_count": 33
        }
      ]
    },
    {
      "cell_type": "code",
      "source": [
        "# Get the las item of each row of our rank 2 tensor\n",
        "rank_2_tensor[:,-1]"
      ],
      "metadata": {
        "id": "ipzci2CajsTG",
        "colab": {
          "base_uri": "https://localhost:8080/"
        },
        "outputId": "18ad4045-3708-4f5a-95d5-f78f5eaa78a1"
      },
      "execution_count": null,
      "outputs": [
        {
          "output_type": "execute_result",
          "data": {
            "text/plain": [
              "<tf.Tensor: shape=(2,), dtype=int32, numpy=array([7, 4], dtype=int32)>"
            ]
          },
          "metadata": {},
          "execution_count": 34
        }
      ]
    },
    {
      "cell_type": "code",
      "source": [
        "# Add in extra dimension\n",
        "rank_3_tensor = rank_2_tensor[..., tf.newaxis]\n",
        "rank_3_tensor"
      ],
      "metadata": {
        "id": "v6MpabBpl8Jx",
        "colab": {
          "base_uri": "https://localhost:8080/"
        },
        "outputId": "1d35e7dd-b0aa-430e-af47-a4b30f177c12"
      },
      "execution_count": null,
      "outputs": [
        {
          "output_type": "execute_result",
          "data": {
            "text/plain": [
              "<tf.Tensor: shape=(2, 2, 1), dtype=int32, numpy=\n",
              "array([[[10],\n",
              "        [ 7]],\n",
              "\n",
              "       [[ 3],\n",
              "        [ 4]]], dtype=int32)>"
            ]
          },
          "metadata": {},
          "execution_count": 35
        }
      ]
    },
    {
      "cell_type": "code",
      "source": [
        "# Alternative to tf.newaxis\n",
        "tf.expand_dims(rank_2_tensor, axis=-1) #-1 is to put the new axis at the end"
      ],
      "metadata": {
        "id": "bV6IB0jamc5d",
        "colab": {
          "base_uri": "https://localhost:8080/"
        },
        "outputId": "2fb94ce3-63ea-4163-a55c-1cf59dbeede6"
      },
      "execution_count": null,
      "outputs": [
        {
          "output_type": "execute_result",
          "data": {
            "text/plain": [
              "<tf.Tensor: shape=(2, 2, 1), dtype=int32, numpy=\n",
              "array([[[10],\n",
              "        [ 7]],\n",
              "\n",
              "       [[ 3],\n",
              "        [ 4]]], dtype=int32)>"
            ]
          },
          "metadata": {},
          "execution_count": 36
        }
      ]
    },
    {
      "cell_type": "code",
      "source": [
        "tf.expand_dims(rank_2_tensor, axis=0)"
      ],
      "metadata": {
        "id": "PzKO1b2_mtJ0",
        "colab": {
          "base_uri": "https://localhost:8080/"
        },
        "outputId": "19e923d0-d0bc-4ef0-8ec2-e205c9c98df3"
      },
      "execution_count": null,
      "outputs": [
        {
          "output_type": "execute_result",
          "data": {
            "text/plain": [
              "<tf.Tensor: shape=(1, 2, 2), dtype=int32, numpy=\n",
              "array([[[10,  7],\n",
              "        [ 3,  4]]], dtype=int32)>"
            ]
          },
          "metadata": {},
          "execution_count": 37
        }
      ]
    },
    {
      "cell_type": "markdown",
      "source": [
        "### Manipulating tensors\n",
        "\n",
        "**Basic Operations**\n",
        "\n",
        "`+`,`-`,`*`"
      ],
      "metadata": {
        "id": "nNkNAko6m-gW"
      }
    },
    {
      "cell_type": "code",
      "source": [
        "#Add values to a tensor using the addtion operator\n",
        "\n",
        "tensor = tf.constant([[10,7],\n",
        "                      [3,4]])\n",
        "tensor + 10"
      ],
      "metadata": {
        "id": "-cOA62TnvFCi",
        "colab": {
          "base_uri": "https://localhost:8080/"
        },
        "outputId": "4068563f-cf1e-4ed1-df97-28d73d38108e"
      },
      "execution_count": null,
      "outputs": [
        {
          "output_type": "execute_result",
          "data": {
            "text/plain": [
              "<tf.Tensor: shape=(2, 2), dtype=int32, numpy=\n",
              "array([[20, 17],\n",
              "       [13, 14]], dtype=int32)>"
            ]
          },
          "metadata": {},
          "execution_count": 38
        }
      ]
    },
    {
      "cell_type": "code",
      "source": [
        "#Original tensor is unchanged\n",
        "\n",
        "tensor"
      ],
      "metadata": {
        "id": "LGU1lkGgvoV2",
        "colab": {
          "base_uri": "https://localhost:8080/"
        },
        "outputId": "f747614e-2c0a-4366-a006-399829c9efec"
      },
      "execution_count": null,
      "outputs": [
        {
          "output_type": "execute_result",
          "data": {
            "text/plain": [
              "<tf.Tensor: shape=(2, 2), dtype=int32, numpy=\n",
              "array([[10,  7],\n",
              "       [ 3,  4]], dtype=int32)>"
            ]
          },
          "metadata": {},
          "execution_count": 39
        }
      ]
    },
    {
      "cell_type": "code",
      "source": [
        "#Multiplication also works\n",
        "tensor *10"
      ],
      "metadata": {
        "id": "It086kRMv6mP",
        "colab": {
          "base_uri": "https://localhost:8080/"
        },
        "outputId": "77299ee7-12c9-4d8a-ee21-b3683ce04b8a"
      },
      "execution_count": null,
      "outputs": [
        {
          "output_type": "execute_result",
          "data": {
            "text/plain": [
              "<tf.Tensor: shape=(2, 2), dtype=int32, numpy=\n",
              "array([[100,  70],\n",
              "       [ 30,  40]], dtype=int32)>"
            ]
          },
          "metadata": {},
          "execution_count": 40
        }
      ]
    },
    {
      "cell_type": "code",
      "source": [
        "# Substraction works\n",
        "\n",
        "tensor - 10"
      ],
      "metadata": {
        "id": "hAbNJ-3mv-u7",
        "colab": {
          "base_uri": "https://localhost:8080/"
        },
        "outputId": "42c7e427-a3d9-4242-d151-784dc5d5d261"
      },
      "execution_count": null,
      "outputs": [
        {
          "output_type": "execute_result",
          "data": {
            "text/plain": [
              "<tf.Tensor: shape=(2, 2), dtype=int32, numpy=\n",
              "array([[ 0, -3],\n",
              "       [-7, -6]], dtype=int32)>"
            ]
          },
          "metadata": {},
          "execution_count": 41
        }
      ]
    },
    {
      "cell_type": "code",
      "source": [
        "# Use the tensorflow buitl-in function too\n",
        "tf.multiply(tensor,10)\n",
        "tf.add(tensor, 10)"
      ],
      "metadata": {
        "id": "6w8shdwOwCpu",
        "colab": {
          "base_uri": "https://localhost:8080/"
        },
        "outputId": "dbf4eb97-2dd0-40de-ff72-ea18f3182b10"
      },
      "execution_count": null,
      "outputs": [
        {
          "output_type": "execute_result",
          "data": {
            "text/plain": [
              "<tf.Tensor: shape=(2, 2), dtype=int32, numpy=\n",
              "array([[20, 17],\n",
              "       [13, 14]], dtype=int32)>"
            ]
          },
          "metadata": {},
          "execution_count": 42
        }
      ]
    },
    {
      "cell_type": "markdown",
      "source": [
        "**Matrix multiplication**\n",
        "\n",
        "In machine learning, matrix multiplication is one of the most common tensor operations\n",
        "\n",
        "There 2 rules our tensors (or matrices) need to fulfill if we are going to matrix multiply them:\n",
        "\n",
        "1. The inner dimensions must match 3x**3** - **3**x2\n",
        "2. The resulting matrix has the shape of the outer dimensions **3**x2 - 3x**2**"
      ],
      "metadata": {
        "id": "kLZbLjT_LTyt"
      }
    },
    {
      "cell_type": "code",
      "source": [
        "#from IPython.display import Image\n",
        "#Image(\"/content/drive/MyDrive/IMG_0938.png\")"
      ],
      "metadata": {
        "id": "g1r9zx8duTBl"
      },
      "execution_count": null,
      "outputs": []
    },
    {
      "cell_type": "code",
      "source": [
        "#Matrix multiplication in TF\n",
        "\n",
        "tf.matmul(tensor, tensor)"
      ],
      "metadata": {
        "id": "jG1GUC-Axzhp",
        "colab": {
          "base_uri": "https://localhost:8080/"
        },
        "outputId": "83ac91cf-ffec-4ee3-a572-95c46a225311"
      },
      "execution_count": null,
      "outputs": [
        {
          "output_type": "execute_result",
          "data": {
            "text/plain": [
              "<tf.Tensor: shape=(2, 2), dtype=int32, numpy=\n",
              "array([[121,  98],\n",
              "       [ 42,  37]], dtype=int32)>"
            ]
          },
          "metadata": {},
          "execution_count": 44
        }
      ]
    },
    {
      "cell_type": "code",
      "source": [
        "#Matrix multiplication with Python operator \"@\"\n",
        "\n",
        "tensor @ tensor"
      ],
      "metadata": {
        "id": "RQf_RRrn5ANK",
        "colab": {
          "base_uri": "https://localhost:8080/"
        },
        "outputId": "58a0bdd2-7e80-44c0-a6fd-10090b5f5ad7"
      },
      "execution_count": null,
      "outputs": [
        {
          "output_type": "execute_result",
          "data": {
            "text/plain": [
              "<tf.Tensor: shape=(2, 2), dtype=int32, numpy=\n",
              "array([[121,  98],\n",
              "       [ 42,  37]], dtype=int32)>"
            ]
          },
          "metadata": {},
          "execution_count": 45
        }
      ]
    },
    {
      "cell_type": "code",
      "source": [
        "# Createa tensor (3,2) \n",
        "X = tf.constant([[1,2],\n",
        "                 [3,3],\n",
        "                 [5,6]])\n",
        "\n",
        "Y = tf.constant([[7,8],\n",
        "                 [9,10],\n",
        "                 [11,12]])\n",
        "\n",
        "X,Y"
      ],
      "metadata": {
        "id": "-A1QBo3OJcwB",
        "colab": {
          "base_uri": "https://localhost:8080/"
        },
        "outputId": "d1c3488f-5f3d-4341-90f7-de39780a9590"
      },
      "execution_count": null,
      "outputs": [
        {
          "output_type": "execute_result",
          "data": {
            "text/plain": [
              "(<tf.Tensor: shape=(3, 2), dtype=int32, numpy=\n",
              " array([[1, 2],\n",
              "        [3, 3],\n",
              "        [5, 6]], dtype=int32)>, <tf.Tensor: shape=(3, 2), dtype=int32, numpy=\n",
              " array([[ 7,  8],\n",
              "        [ 9, 10],\n",
              "        [11, 12]], dtype=int32)>)"
            ]
          },
          "metadata": {},
          "execution_count": 46
        }
      ]
    },
    {
      "cell_type": "code",
      "source": [
        "# Matrix multiply tensors of same shape\n",
        "tf.matmul(X,Y) # gives error"
      ],
      "metadata": {
        "id": "nQ-7_NUcJ6KV",
        "colab": {
          "base_uri": "https://localhost:8080/",
          "height": 324
        },
        "outputId": "d9abbd6c-001e-49a1-db0f-b64cfb0a9f8c"
      },
      "execution_count": null,
      "outputs": [
        {
          "output_type": "error",
          "ename": "InvalidArgumentError",
          "evalue": "ignored",
          "traceback": [
            "\u001b[0;31m---------------------------------------------------------------------------\u001b[0m",
            "\u001b[0;31mInvalidArgumentError\u001b[0m                      Traceback (most recent call last)",
            "\u001b[0;32m<ipython-input-47-2ed9f12e97f1>\u001b[0m in \u001b[0;36m<module>\u001b[0;34m()\u001b[0m\n\u001b[1;32m      1\u001b[0m \u001b[0;31m# Matrix multiply tensors of same shape\u001b[0m\u001b[0;34m\u001b[0m\u001b[0;34m\u001b[0m\u001b[0;34m\u001b[0m\u001b[0m\n\u001b[0;32m----> 2\u001b[0;31m \u001b[0mtf\u001b[0m\u001b[0;34m.\u001b[0m\u001b[0mmatmul\u001b[0m\u001b[0;34m(\u001b[0m\u001b[0mX\u001b[0m\u001b[0;34m,\u001b[0m\u001b[0mY\u001b[0m\u001b[0;34m)\u001b[0m \u001b[0;31m# gives error\u001b[0m\u001b[0;34m\u001b[0m\u001b[0;34m\u001b[0m\u001b[0m\n\u001b[0m",
            "\u001b[0;32m/usr/local/lib/python3.7/dist-packages/tensorflow/python/util/traceback_utils.py\u001b[0m in \u001b[0;36merror_handler\u001b[0;34m(*args, **kwargs)\u001b[0m\n\u001b[1;32m    151\u001b[0m     \u001b[0;32mexcept\u001b[0m \u001b[0mException\u001b[0m \u001b[0;32mas\u001b[0m \u001b[0me\u001b[0m\u001b[0;34m:\u001b[0m\u001b[0;34m\u001b[0m\u001b[0;34m\u001b[0m\u001b[0m\n\u001b[1;32m    152\u001b[0m       \u001b[0mfiltered_tb\u001b[0m \u001b[0;34m=\u001b[0m \u001b[0m_process_traceback_frames\u001b[0m\u001b[0;34m(\u001b[0m\u001b[0me\u001b[0m\u001b[0;34m.\u001b[0m\u001b[0m__traceback__\u001b[0m\u001b[0;34m)\u001b[0m\u001b[0;34m\u001b[0m\u001b[0;34m\u001b[0m\u001b[0m\n\u001b[0;32m--> 153\u001b[0;31m       \u001b[0;32mraise\u001b[0m \u001b[0me\u001b[0m\u001b[0;34m.\u001b[0m\u001b[0mwith_traceback\u001b[0m\u001b[0;34m(\u001b[0m\u001b[0mfiltered_tb\u001b[0m\u001b[0;34m)\u001b[0m \u001b[0;32mfrom\u001b[0m \u001b[0;32mNone\u001b[0m\u001b[0;34m\u001b[0m\u001b[0;34m\u001b[0m\u001b[0m\n\u001b[0m\u001b[1;32m    154\u001b[0m     \u001b[0;32mfinally\u001b[0m\u001b[0;34m:\u001b[0m\u001b[0;34m\u001b[0m\u001b[0;34m\u001b[0m\u001b[0m\n\u001b[1;32m    155\u001b[0m       \u001b[0;32mdel\u001b[0m \u001b[0mfiltered_tb\u001b[0m\u001b[0;34m\u001b[0m\u001b[0;34m\u001b[0m\u001b[0m\n",
            "\u001b[0;32m/usr/local/lib/python3.7/dist-packages/tensorflow/python/framework/ops.py\u001b[0m in \u001b[0;36mraise_from_not_ok_status\u001b[0;34m(e, name)\u001b[0m\n\u001b[1;32m   7184\u001b[0m \u001b[0;32mdef\u001b[0m \u001b[0mraise_from_not_ok_status\u001b[0m\u001b[0;34m(\u001b[0m\u001b[0me\u001b[0m\u001b[0;34m,\u001b[0m \u001b[0mname\u001b[0m\u001b[0;34m)\u001b[0m\u001b[0;34m:\u001b[0m\u001b[0;34m\u001b[0m\u001b[0;34m\u001b[0m\u001b[0m\n\u001b[1;32m   7185\u001b[0m   \u001b[0me\u001b[0m\u001b[0;34m.\u001b[0m\u001b[0mmessage\u001b[0m \u001b[0;34m+=\u001b[0m \u001b[0;34m(\u001b[0m\u001b[0;34m\" name: \"\u001b[0m \u001b[0;34m+\u001b[0m \u001b[0mname\u001b[0m \u001b[0;32mif\u001b[0m \u001b[0mname\u001b[0m \u001b[0;32mis\u001b[0m \u001b[0;32mnot\u001b[0m \u001b[0;32mNone\u001b[0m \u001b[0;32melse\u001b[0m \u001b[0;34m\"\"\u001b[0m\u001b[0;34m)\u001b[0m\u001b[0;34m\u001b[0m\u001b[0;34m\u001b[0m\u001b[0m\n\u001b[0;32m-> 7186\u001b[0;31m   \u001b[0;32mraise\u001b[0m \u001b[0mcore\u001b[0m\u001b[0;34m.\u001b[0m\u001b[0m_status_to_exception\u001b[0m\u001b[0;34m(\u001b[0m\u001b[0me\u001b[0m\u001b[0;34m)\u001b[0m \u001b[0;32mfrom\u001b[0m \u001b[0;32mNone\u001b[0m  \u001b[0;31m# pylint: disable=protected-access\u001b[0m\u001b[0;34m\u001b[0m\u001b[0;34m\u001b[0m\u001b[0m\n\u001b[0m\u001b[1;32m   7187\u001b[0m \u001b[0;34m\u001b[0m\u001b[0m\n\u001b[1;32m   7188\u001b[0m \u001b[0;34m\u001b[0m\u001b[0m\n",
            "\u001b[0;31mInvalidArgumentError\u001b[0m: Matrix size-incompatible: In[0]: [3,2], In[1]: [3,2] [Op:MatMul]"
          ]
        }
      ]
    },
    {
      "cell_type": "code",
      "source": [
        "# Lets change the shape of Y\n",
        "tf.reshape(Y, shape=(2,3))"
      ],
      "metadata": {
        "id": "UJI20N-5KX35",
        "colab": {
          "base_uri": "https://localhost:8080/"
        },
        "outputId": "edbfc070-43b8-484b-8183-2eb935d17d72"
      },
      "execution_count": null,
      "outputs": [
        {
          "output_type": "execute_result",
          "data": {
            "text/plain": [
              "<tf.Tensor: shape=(2, 3), dtype=int32, numpy=\n",
              "array([[ 7,  8,  9],\n",
              "       [10, 11, 12]], dtype=int32)>"
            ]
          },
          "metadata": {},
          "execution_count": 48
        }
      ]
    },
    {
      "cell_type": "code",
      "source": [
        "# Try to multiply X by reshape Y\n",
        "X @ tf.reshape(Y,shape=(2,3))"
      ],
      "metadata": {
        "id": "PHL1LRwYrTS8",
        "colab": {
          "base_uri": "https://localhost:8080/"
        },
        "outputId": "8653a0b5-0ee3-4697-a45f-7746b095f99e"
      },
      "execution_count": null,
      "outputs": [
        {
          "output_type": "execute_result",
          "data": {
            "text/plain": [
              "<tf.Tensor: shape=(3, 3), dtype=int32, numpy=\n",
              "array([[ 27,  30,  33],\n",
              "       [ 51,  57,  63],\n",
              "       [ 95, 106, 117]], dtype=int32)>"
            ]
          },
          "metadata": {},
          "execution_count": 49
        }
      ]
    },
    {
      "cell_type": "code",
      "source": [
        "tf.matmul(X,tf.reshape(Y,shape=(2,3)))"
      ],
      "metadata": {
        "colab": {
          "base_uri": "https://localhost:8080/"
        },
        "id": "GcHDueZiMSEM",
        "outputId": "67d121e2-f08c-412e-dbb2-1eaec46acd1c"
      },
      "execution_count": null,
      "outputs": [
        {
          "output_type": "execute_result",
          "data": {
            "text/plain": [
              "<tf.Tensor: shape=(3, 3), dtype=int32, numpy=\n",
              "array([[ 27,  30,  33],\n",
              "       [ 51,  57,  63],\n",
              "       [ 95, 106, 117]], dtype=int32)>"
            ]
          },
          "metadata": {},
          "execution_count": 50
        }
      ]
    },
    {
      "cell_type": "code",
      "source": [
        "# Try change the shape of X instead of Y\n",
        "tf.matmul(tf.reshape(X,shape=(2,3)),Y)"
      ],
      "metadata": {
        "colab": {
          "base_uri": "https://localhost:8080/"
        },
        "id": "ZW1y-vM0Mh2e",
        "outputId": "2c8e0560-7d96-4a36-bac7-2b1c668fad8c"
      },
      "execution_count": null,
      "outputs": [
        {
          "output_type": "execute_result",
          "data": {
            "text/plain": [
              "<tf.Tensor: shape=(2, 2), dtype=int32, numpy=\n",
              "array([[ 58,  64],\n",
              "       [132, 146]], dtype=int32)>"
            ]
          },
          "metadata": {},
          "execution_count": 51
        }
      ]
    },
    {
      "cell_type": "code",
      "source": [
        "# Can do the same with transpose\n",
        "X,tf.transpose(X), tf.reshape(X,shape=(2,3))"
      ],
      "metadata": {
        "colab": {
          "base_uri": "https://localhost:8080/"
        },
        "id": "RftEox-KNuys",
        "outputId": "91dbd40f-1f11-4cd0-8da8-783196c7ed7f"
      },
      "execution_count": null,
      "outputs": [
        {
          "output_type": "execute_result",
          "data": {
            "text/plain": [
              "(<tf.Tensor: shape=(3, 2), dtype=int32, numpy=\n",
              " array([[1, 2],\n",
              "        [3, 3],\n",
              "        [5, 6]], dtype=int32)>, <tf.Tensor: shape=(2, 3), dtype=int32, numpy=\n",
              " array([[1, 3, 5],\n",
              "        [2, 3, 6]], dtype=int32)>, <tf.Tensor: shape=(2, 3), dtype=int32, numpy=\n",
              " array([[1, 2, 3],\n",
              "        [3, 5, 6]], dtype=int32)>)"
            ]
          },
          "metadata": {},
          "execution_count": 52
        }
      ]
    },
    {
      "cell_type": "code",
      "source": [
        "# Matriz multiplication with transpose rather than reshape\n",
        "\n",
        "tf.matmul(tf.transpose(X),Y)"
      ],
      "metadata": {
        "colab": {
          "base_uri": "https://localhost:8080/"
        },
        "id": "mq-yIgZYOfMk",
        "outputId": "9f6dc70f-5262-4046-d1d7-2baab56ed257"
      },
      "execution_count": null,
      "outputs": [
        {
          "output_type": "execute_result",
          "data": {
            "text/plain": [
              "<tf.Tensor: shape=(2, 2), dtype=int32, numpy=\n",
              "array([[ 89,  98],\n",
              "       [107, 118]], dtype=int32)>"
            ]
          },
          "metadata": {},
          "execution_count": 53
        }
      ]
    },
    {
      "cell_type": "markdown",
      "source": [
        "**The dot product**\n",
        "\n",
        "Matrix multiplication is also refferred to as the dot product.\n",
        "\n",
        "You can perform matrix multiplication using:\n",
        "\n",
        "* `tf.matmul()`\n",
        "* `tf.tensordot()`"
      ],
      "metadata": {
        "id": "yuK1fA6oQdNk"
      }
    },
    {
      "cell_type": "code",
      "source": [
        "# Perform the dot product on X and Y (requires X or Y to be transposed)\n",
        "\n",
        "tf.tensordot(tf.transpose(X),Y,axes=1)"
      ],
      "metadata": {
        "colab": {
          "base_uri": "https://localhost:8080/"
        },
        "id": "ArT5x_5oQ4QG",
        "outputId": "507f9b8b-ce31-46df-d9b6-9ce7b94f846a"
      },
      "execution_count": null,
      "outputs": [
        {
          "output_type": "execute_result",
          "data": {
            "text/plain": [
              "<tf.Tensor: shape=(2, 2), dtype=int32, numpy=\n",
              "array([[ 89,  98],\n",
              "       [107, 118]], dtype=int32)>"
            ]
          },
          "metadata": {},
          "execution_count": 54
        }
      ]
    },
    {
      "cell_type": "code",
      "source": [
        "# Perform matrix multiplication between X and Y (transposed)\n",
        "tf.matmul(X, tf.transpose(Y))\n"
      ],
      "metadata": {
        "colab": {
          "base_uri": "https://localhost:8080/"
        },
        "id": "1m4Pdt-WRnl7",
        "outputId": "465ca0a8-dd83-44d5-c182-f4837880352e"
      },
      "execution_count": null,
      "outputs": [
        {
          "output_type": "execute_result",
          "data": {
            "text/plain": [
              "<tf.Tensor: shape=(3, 3), dtype=int32, numpy=\n",
              "array([[ 23,  29,  35],\n",
              "       [ 45,  57,  69],\n",
              "       [ 83, 105, 127]], dtype=int32)>"
            ]
          },
          "metadata": {},
          "execution_count": 55
        }
      ]
    },
    {
      "cell_type": "code",
      "source": [
        "# Perform matrix multiplication between X and Y (reshaped)\n",
        "tf.matmul(X, tf.reshape(Y,shape=(2,3)))"
      ],
      "metadata": {
        "colab": {
          "base_uri": "https://localhost:8080/"
        },
        "id": "_Tf8zm82R6l5",
        "outputId": "2fad1ebb-1485-4f4f-bd70-4b8baaf21b1f"
      },
      "execution_count": null,
      "outputs": [
        {
          "output_type": "execute_result",
          "data": {
            "text/plain": [
              "<tf.Tensor: shape=(3, 3), dtype=int32, numpy=\n",
              "array([[ 27,  30,  33],\n",
              "       [ 51,  57,  63],\n",
              "       [ 95, 106, 117]], dtype=int32)>"
            ]
          },
          "metadata": {},
          "execution_count": 56
        }
      ]
    },
    {
      "cell_type": "code",
      "source": [
        "# Check the values of Y, reshape Y and transposed Y\n",
        "print(\"Normal Y:\")\n",
        "print(Y, \"\\n\")\n",
        "\n",
        "\n",
        "print(\"Y reshaped to (2,3):\")\n",
        "print(tf.reshape(Y, shape=(2,3)),\"\\n\")\n",
        "\n",
        "print(\"Y transposed:\")\n",
        "print(tf.transpose(Y))"
      ],
      "metadata": {
        "colab": {
          "base_uri": "https://localhost:8080/"
        },
        "id": "xSLPHhn5SQNR",
        "outputId": "e5664da6-8dfc-4db9-e212-d0a5850579c5"
      },
      "execution_count": null,
      "outputs": [
        {
          "output_type": "stream",
          "name": "stdout",
          "text": [
            "Normal Y:\n",
            "tf.Tensor(\n",
            "[[ 7  8]\n",
            " [ 9 10]\n",
            " [11 12]], shape=(3, 2), dtype=int32) \n",
            "\n",
            "Y reshaped to (2,3):\n",
            "tf.Tensor(\n",
            "[[ 7  8  9]\n",
            " [10 11 12]], shape=(2, 3), dtype=int32) \n",
            "\n",
            "Y transposed:\n",
            "tf.Tensor(\n",
            "[[ 7  9 11]\n",
            " [ 8 10 12]], shape=(2, 3), dtype=int32)\n"
          ]
        }
      ]
    },
    {
      "cell_type": "code",
      "source": [
        "tf.matmul(X, tf.transpose(Y))"
      ],
      "metadata": {
        "colab": {
          "base_uri": "https://localhost:8080/"
        },
        "id": "tKp2BtxCThZb",
        "outputId": "17394f93-a944-46b1-f647-fd2ba2610ba3"
      },
      "execution_count": null,
      "outputs": [
        {
          "output_type": "execute_result",
          "data": {
            "text/plain": [
              "<tf.Tensor: shape=(3, 3), dtype=int32, numpy=\n",
              "array([[ 23,  29,  35],\n",
              "       [ 45,  57,  69],\n",
              "       [ 83, 105, 127]], dtype=int32)>"
            ]
          },
          "metadata": {},
          "execution_count": 58
        }
      ]
    },
    {
      "cell_type": "markdown",
      "source": [
        "Generally when performing matrix multiplication on two tensors,\n",
        "and one of the axes does not line up,\n",
        "you will transpose (rather tahn reshape) on of\n",
        "the tensors to satisfy the matrix multiplication\n",
        "rules.\n"
      ],
      "metadata": {
        "id": "-iPuDqYLT18m"
      }
    },
    {
      "cell_type": "markdown",
      "source": [
        "### Changing the data type of a tensor"
      ],
      "metadata": {
        "id": "3K2jwTRGBfnd"
      }
    },
    {
      "cell_type": "code",
      "source": [
        "# Create a tensor with a default dadatype float32\n",
        "B = tf.constant([1.7,7.4])\n",
        "B.dtype"
      ],
      "metadata": {
        "colab": {
          "base_uri": "https://localhost:8080/"
        },
        "id": "7vFX_rgbBo_p",
        "outputId": "49eeaa72-b74a-4b0c-ddcd-1a31f3a6cb8d"
      },
      "execution_count": null,
      "outputs": [
        {
          "output_type": "execute_result",
          "data": {
            "text/plain": [
              "tf.float32"
            ]
          },
          "metadata": {},
          "execution_count": 59
        }
      ]
    },
    {
      "cell_type": "code",
      "source": [
        "C = tf.constant([7,10])\n",
        "C.dtype"
      ],
      "metadata": {
        "colab": {
          "base_uri": "https://localhost:8080/"
        },
        "id": "e4LPBhKOCMOF",
        "outputId": "7770598b-a724-4e6f-e328-850216521ff9"
      },
      "execution_count": null,
      "outputs": [
        {
          "output_type": "execute_result",
          "data": {
            "text/plain": [
              "tf.int32"
            ]
          },
          "metadata": {},
          "execution_count": 60
        }
      ]
    },
    {
      "cell_type": "code",
      "source": [
        "# change tp float32 to float16\n",
        "B = tf.cast(B, dtype=tf.float16)\n",
        "B"
      ],
      "metadata": {
        "colab": {
          "base_uri": "https://localhost:8080/"
        },
        "id": "QUe8YAQkCX5b",
        "outputId": "f535aa80-2b78-46d5-bb83-d749fd87612f"
      },
      "execution_count": null,
      "outputs": [
        {
          "output_type": "execute_result",
          "data": {
            "text/plain": [
              "<tf.Tensor: shape=(2,), dtype=float16, numpy=array([1.7, 7.4], dtype=float16)>"
            ]
          },
          "metadata": {},
          "execution_count": 61
        }
      ]
    },
    {
      "cell_type": "code",
      "source": [
        "# Change from int32 to fload32\n",
        "E = tf.cast(B, dtype=tf.float32)\n",
        "E"
      ],
      "metadata": {
        "colab": {
          "base_uri": "https://localhost:8080/"
        },
        "id": "aZUddSy9DQ9n",
        "outputId": "b5759379-f7ac-4e03-9292-5a963260342e"
      },
      "execution_count": null,
      "outputs": [
        {
          "output_type": "execute_result",
          "data": {
            "text/plain": [
              "<tf.Tensor: shape=(2,), dtype=float32, numpy=array([1.7001953, 7.3984375], dtype=float32)>"
            ]
          },
          "metadata": {},
          "execution_count": 62
        }
      ]
    },
    {
      "cell_type": "code",
      "source": [
        "E_float16 = tf.cast(E, dtype=tf.float16)\n",
        "E_float16"
      ],
      "metadata": {
        "colab": {
          "base_uri": "https://localhost:8080/"
        },
        "id": "fkEwvWZQFHpc",
        "outputId": "819c7a90-003d-4278-e1cb-9833a6b01252"
      },
      "execution_count": null,
      "outputs": [
        {
          "output_type": "execute_result",
          "data": {
            "text/plain": [
              "<tf.Tensor: shape=(2,), dtype=float16, numpy=array([1.7, 7.4], dtype=float16)>"
            ]
          },
          "metadata": {},
          "execution_count": 63
        }
      ]
    },
    {
      "cell_type": "markdown",
      "source": [
        "### Aggregating tensors\n",
        "\n",
        "Aggregating tensors = condensing them to multiple values down to a smaller amount of values"
      ],
      "metadata": {
        "id": "DPwTttbdFYDI"
      }
    },
    {
      "cell_type": "code",
      "source": [
        "# Get the absolute values\n",
        "\n",
        "D = tf.constant([[-7,-10]])\n",
        "tf.abs(D)"
      ],
      "metadata": {
        "colab": {
          "base_uri": "https://localhost:8080/"
        },
        "id": "aq-bwhXkFbQg",
        "outputId": "bec08718-7554-4b4f-c826-5090e442a54f"
      },
      "execution_count": null,
      "outputs": [
        {
          "output_type": "execute_result",
          "data": {
            "text/plain": [
              "<tf.Tensor: shape=(1, 2), dtype=int32, numpy=array([[ 7, 10]], dtype=int32)>"
            ]
          },
          "metadata": {},
          "execution_count": 64
        }
      ]
    },
    {
      "cell_type": "markdown",
      "source": [
        "Lets go through the following forms of aggregation:\n",
        "* Get the minimun\n",
        "* Get the maximun\n",
        "* Get the mean of a tensor\n",
        "* Get the sum of a tensor"
      ],
      "metadata": {
        "id": "GrTFVXZYZF7c"
      }
    },
    {
      "cell_type": "code",
      "source": [
        "# Creating a random tensor width values between 0 and 100 of size 50\n",
        "E = tf.constant(np.random.randint(0,100,size=50))\n",
        "E\n",
        "\n"
      ],
      "metadata": {
        "colab": {
          "base_uri": "https://localhost:8080/"
        },
        "id": "_LCSsXDOZYvb",
        "outputId": "8c2d648d-6613-46ec-b7aa-6e47621016b8"
      },
      "execution_count": null,
      "outputs": [
        {
          "output_type": "execute_result",
          "data": {
            "text/plain": [
              "<tf.Tensor: shape=(50,), dtype=int64, numpy=\n",
              "array([16, 20, 51, 95, 95,  5, 94, 77, 76, 82, 66, 14, 86, 26, 56, 14, 60,\n",
              "        0, 85, 32, 98, 79, 87, 77, 50, 74, 36, 24, 20, 78,  8, 63, 43, 29,\n",
              "       73, 17, 44, 37, 69, 42, 91, 36, 76, 22, 50, 97, 50, 55, 73, 19])>"
            ]
          },
          "metadata": {},
          "execution_count": 65
        }
      ]
    },
    {
      "cell_type": "code",
      "source": [
        "tf.size(E), E.shape, E.ndim"
      ],
      "metadata": {
        "colab": {
          "base_uri": "https://localhost:8080/"
        },
        "id": "nVWNcfxlao0d",
        "outputId": "f2adefb9-15d9-4271-f792-eb022f7d056f"
      },
      "execution_count": null,
      "outputs": [
        {
          "output_type": "execute_result",
          "data": {
            "text/plain": [
              "(<tf.Tensor: shape=(), dtype=int32, numpy=50>, TensorShape([50]), 1)"
            ]
          },
          "metadata": {},
          "execution_count": 66
        }
      ]
    },
    {
      "cell_type": "code",
      "source": [
        "#Find the minimun\n",
        "tf.reduce_min(E)"
      ],
      "metadata": {
        "colab": {
          "base_uri": "https://localhost:8080/"
        },
        "id": "N-oyprvVawP9",
        "outputId": "51b33428-e737-4642-92a5-03727fdc053f"
      },
      "execution_count": null,
      "outputs": [
        {
          "output_type": "execute_result",
          "data": {
            "text/plain": [
              "<tf.Tensor: shape=(), dtype=int64, numpy=0>"
            ]
          },
          "metadata": {},
          "execution_count": 67
        }
      ]
    },
    {
      "cell_type": "code",
      "source": [
        "# Find the maximn\n",
        "tf.reduce_max(E)"
      ],
      "metadata": {
        "colab": {
          "base_uri": "https://localhost:8080/"
        },
        "id": "ro1yyUYTa5ID",
        "outputId": "436eaa8c-e7d9-4cc5-e55b-42a7005ec91d"
      },
      "execution_count": null,
      "outputs": [
        {
          "output_type": "execute_result",
          "data": {
            "text/plain": [
              "<tf.Tensor: shape=(), dtype=int64, numpy=98>"
            ]
          },
          "metadata": {},
          "execution_count": 68
        }
      ]
    },
    {
      "cell_type": "code",
      "source": [
        "#Find the mean\n",
        "tf.reduce_mean(E)"
      ],
      "metadata": {
        "colab": {
          "base_uri": "https://localhost:8080/"
        },
        "id": "bXIvgpP2a-qc",
        "outputId": "36a026a9-d440-4e9b-de62-9f3972253808"
      },
      "execution_count": null,
      "outputs": [
        {
          "output_type": "execute_result",
          "data": {
            "text/plain": [
              "<tf.Tensor: shape=(), dtype=int64, numpy=53>"
            ]
          },
          "metadata": {},
          "execution_count": 69
        }
      ]
    },
    {
      "cell_type": "code",
      "source": [
        "#Find the sum\n",
        "tf.reduce_sum(E)"
      ],
      "metadata": {
        "colab": {
          "base_uri": "https://localhost:8080/"
        },
        "id": "_iQPSRFGbDi6",
        "outputId": "4d9b3f2a-5f64-4004-8ab3-71a55c24a48c"
      },
      "execution_count": null,
      "outputs": [
        {
          "output_type": "execute_result",
          "data": {
            "text/plain": [
              "<tf.Tensor: shape=(), dtype=int64, numpy=2667>"
            ]
          },
          "metadata": {},
          "execution_count": 70
        }
      ]
    },
    {
      "cell_type": "code",
      "source": [
        "#Find the variance\n",
        "import tensorflow_probability as tfp\n",
        "tfp.stats.variance(E)"
      ],
      "metadata": {
        "colab": {
          "base_uri": "https://localhost:8080/"
        },
        "id": "I3h5LYo0cLgW",
        "outputId": "073b094f-02a1-4bb2-ae08-0520ca6f9155"
      },
      "execution_count": null,
      "outputs": [
        {
          "output_type": "execute_result",
          "data": {
            "text/plain": [
              "<tf.Tensor: shape=(), dtype=int64, numpy=819>"
            ]
          },
          "metadata": {},
          "execution_count": 71
        }
      ]
    },
    {
      "cell_type": "code",
      "source": [
        "# Find the standard deviation\n",
        "tf.math.reduce_std(tf.cast(E,dtype=tf.float32))"
      ],
      "metadata": {
        "colab": {
          "base_uri": "https://localhost:8080/"
        },
        "id": "06igpf9HeFEv",
        "outputId": "2a4684bb-0656-4cdb-8a94-acb5588204e6"
      },
      "execution_count": null,
      "outputs": [
        {
          "output_type": "execute_result",
          "data": {
            "text/plain": [
              "<tf.Tensor: shape=(), dtype=float32, numpy=28.6186>"
            ]
          },
          "metadata": {},
          "execution_count": 72
        }
      ]
    },
    {
      "cell_type": "markdown",
      "source": [
        "### Find the positional maximun and minimun\n",
        "\n"
      ],
      "metadata": {
        "id": "R_anGfBkfLyi"
      }
    },
    {
      "cell_type": "code",
      "source": [
        "# Create a new tensor for finding positional mimun and maximun\n",
        "tf.random.set_seed(42)\n",
        "F = tf.random.uniform(shape=[50])\n",
        "F"
      ],
      "metadata": {
        "colab": {
          "base_uri": "https://localhost:8080/"
        },
        "id": "bAJZ2RS-fUbH",
        "outputId": "1fa2c67e-df2b-41df-c140-c27768f671c6"
      },
      "execution_count": null,
      "outputs": [
        {
          "output_type": "execute_result",
          "data": {
            "text/plain": [
              "<tf.Tensor: shape=(50,), dtype=float32, numpy=\n",
              "array([0.6645621 , 0.44100678, 0.3528825 , 0.46448255, 0.03366041,\n",
              "       0.68467236, 0.74011743, 0.8724445 , 0.22632635, 0.22319686,\n",
              "       0.3103881 , 0.7223358 , 0.13318717, 0.5480639 , 0.5746088 ,\n",
              "       0.8996835 , 0.00946367, 0.5212307 , 0.6345445 , 0.1993283 ,\n",
              "       0.72942245, 0.54583454, 0.10756552, 0.6767061 , 0.6602763 ,\n",
              "       0.33695042, 0.60141766, 0.21062577, 0.8527372 , 0.44062173,\n",
              "       0.9485276 , 0.23752594, 0.81179297, 0.5263394 , 0.494308  ,\n",
              "       0.21612847, 0.8457197 , 0.8718841 , 0.3083862 , 0.6868038 ,\n",
              "       0.23764038, 0.7817228 , 0.9671384 , 0.06870162, 0.79873943,\n",
              "       0.66028714, 0.5871513 , 0.16461694, 0.7381023 , 0.32054043],\n",
              "      dtype=float32)>"
            ]
          },
          "metadata": {},
          "execution_count": 73
        }
      ]
    },
    {
      "cell_type": "code",
      "source": [
        "#Find the positional max\n",
        "tf.argmax(F)"
      ],
      "metadata": {
        "colab": {
          "base_uri": "https://localhost:8080/"
        },
        "id": "I_wTsoDvhH6d",
        "outputId": "0371f2dd-b145-44bf-dada-5f35fc91e8fa"
      },
      "execution_count": null,
      "outputs": [
        {
          "output_type": "execute_result",
          "data": {
            "text/plain": [
              "<tf.Tensor: shape=(), dtype=int64, numpy=42>"
            ]
          },
          "metadata": {},
          "execution_count": 74
        }
      ]
    },
    {
      "cell_type": "code",
      "source": [
        "# Find on our largest value positional\n",
        "F[tf.argmax(F)]\n"
      ],
      "metadata": {
        "colab": {
          "base_uri": "https://localhost:8080/"
        },
        "id": "WviTnuKAhWT8",
        "outputId": "ae5d4ef6-0854-46da-cf26-559a160b017d"
      },
      "execution_count": null,
      "outputs": [
        {
          "output_type": "execute_result",
          "data": {
            "text/plain": [
              "<tf.Tensor: shape=(), dtype=float32, numpy=0.9671384>"
            ]
          },
          "metadata": {},
          "execution_count": 75
        }
      ]
    },
    {
      "cell_type": "code",
      "source": [
        "#Find the max value of F\n",
        "tf.reduce_max(F)"
      ],
      "metadata": {
        "colab": {
          "base_uri": "https://localhost:8080/"
        },
        "id": "Y5LUgosohiKt",
        "outputId": "53004445-7992-4bd2-918d-df615fe2fa4e"
      },
      "execution_count": null,
      "outputs": [
        {
          "output_type": "execute_result",
          "data": {
            "text/plain": [
              "<tf.Tensor: shape=(), dtype=float32, numpy=0.9671384>"
            ]
          },
          "metadata": {},
          "execution_count": 76
        }
      ]
    },
    {
      "cell_type": "code",
      "source": [
        "# Check for equality\n",
        "F[tf.argmax(F)] == tf.reduce_max(F)"
      ],
      "metadata": {
        "colab": {
          "base_uri": "https://localhost:8080/"
        },
        "id": "zEHtqMjohokF",
        "outputId": "174d1c45-600f-450b-bbc2-5f715063b9d4"
      },
      "execution_count": null,
      "outputs": [
        {
          "output_type": "execute_result",
          "data": {
            "text/plain": [
              "<tf.Tensor: shape=(), dtype=bool, numpy=True>"
            ]
          },
          "metadata": {},
          "execution_count": 77
        }
      ]
    },
    {
      "cell_type": "code",
      "source": [
        "#Find the positional minimun\n",
        "tf.argmin(F)"
      ],
      "metadata": {
        "colab": {
          "base_uri": "https://localhost:8080/"
        },
        "id": "iwEtkPqniFdE",
        "outputId": "ae1b8d58-c5c4-4af0-f516-1bc570064689"
      },
      "execution_count": null,
      "outputs": [
        {
          "output_type": "execute_result",
          "data": {
            "text/plain": [
              "<tf.Tensor: shape=(), dtype=int64, numpy=16>"
            ]
          },
          "metadata": {},
          "execution_count": 78
        }
      ]
    },
    {
      "cell_type": "code",
      "source": [
        "#Find the miminun using the positional minimun index\n",
        "F[tf.argmin(F)]"
      ],
      "metadata": {
        "colab": {
          "base_uri": "https://localhost:8080/"
        },
        "id": "786nP4zQiLEb",
        "outputId": "abf55584-c722-4dcf-eada-4275f9264bea"
      },
      "execution_count": null,
      "outputs": [
        {
          "output_type": "execute_result",
          "data": {
            "text/plain": [
              "<tf.Tensor: shape=(), dtype=float32, numpy=0.009463668>"
            ]
          },
          "metadata": {},
          "execution_count": 79
        }
      ]
    },
    {
      "cell_type": "markdown",
      "source": [
        "### Squeezing a tensor (removin all single dimensions)"
      ],
      "metadata": {
        "id": "u-_WZcF0ihIb"
      }
    },
    {
      "cell_type": "code",
      "source": [
        "tf.random.set_seed(42)\n",
        "G = tf.constant(tf.random.uniform(shape=[50]), shape=(1,1,1,1,50))\n",
        "G"
      ],
      "metadata": {
        "colab": {
          "base_uri": "https://localhost:8080/"
        },
        "id": "hk94QsAqimDw",
        "outputId": "24bd63fc-567a-45c1-daf3-72811386755d"
      },
      "execution_count": null,
      "outputs": [
        {
          "output_type": "execute_result",
          "data": {
            "text/plain": [
              "<tf.Tensor: shape=(1, 1, 1, 1, 50), dtype=float32, numpy=\n",
              "array([[[[[0.6645621 , 0.44100678, 0.3528825 , 0.46448255, 0.03366041,\n",
              "           0.68467236, 0.74011743, 0.8724445 , 0.22632635, 0.22319686,\n",
              "           0.3103881 , 0.7223358 , 0.13318717, 0.5480639 , 0.5746088 ,\n",
              "           0.8996835 , 0.00946367, 0.5212307 , 0.6345445 , 0.1993283 ,\n",
              "           0.72942245, 0.54583454, 0.10756552, 0.6767061 , 0.6602763 ,\n",
              "           0.33695042, 0.60141766, 0.21062577, 0.8527372 , 0.44062173,\n",
              "           0.9485276 , 0.23752594, 0.81179297, 0.5263394 , 0.494308  ,\n",
              "           0.21612847, 0.8457197 , 0.8718841 , 0.3083862 , 0.6868038 ,\n",
              "           0.23764038, 0.7817228 , 0.9671384 , 0.06870162, 0.79873943,\n",
              "           0.66028714, 0.5871513 , 0.16461694, 0.7381023 , 0.32054043]]]]],\n",
              "      dtype=float32)>"
            ]
          },
          "metadata": {},
          "execution_count": 80
        }
      ]
    },
    {
      "cell_type": "code",
      "source": [
        "G.shape"
      ],
      "metadata": {
        "colab": {
          "base_uri": "https://localhost:8080/"
        },
        "id": "RtdmK2mjjDmI",
        "outputId": "ec01a9df-9df0-4300-e00b-a52a51f171cf"
      },
      "execution_count": null,
      "outputs": [
        {
          "output_type": "execute_result",
          "data": {
            "text/plain": [
              "TensorShape([1, 1, 1, 1, 50])"
            ]
          },
          "metadata": {},
          "execution_count": 81
        }
      ]
    },
    {
      "cell_type": "code",
      "source": [
        "G_squeezed = tf.squeeze(G)\n",
        "G_squeezed, G_squeezed.shape"
      ],
      "metadata": {
        "colab": {
          "base_uri": "https://localhost:8080/"
        },
        "id": "qCKTzo3sjFq7",
        "outputId": "111be611-8975-4555-9699-4594e3f08c23"
      },
      "execution_count": null,
      "outputs": [
        {
          "output_type": "execute_result",
          "data": {
            "text/plain": [
              "(<tf.Tensor: shape=(50,), dtype=float32, numpy=\n",
              " array([0.6645621 , 0.44100678, 0.3528825 , 0.46448255, 0.03366041,\n",
              "        0.68467236, 0.74011743, 0.8724445 , 0.22632635, 0.22319686,\n",
              "        0.3103881 , 0.7223358 , 0.13318717, 0.5480639 , 0.5746088 ,\n",
              "        0.8996835 , 0.00946367, 0.5212307 , 0.6345445 , 0.1993283 ,\n",
              "        0.72942245, 0.54583454, 0.10756552, 0.6767061 , 0.6602763 ,\n",
              "        0.33695042, 0.60141766, 0.21062577, 0.8527372 , 0.44062173,\n",
              "        0.9485276 , 0.23752594, 0.81179297, 0.5263394 , 0.494308  ,\n",
              "        0.21612847, 0.8457197 , 0.8718841 , 0.3083862 , 0.6868038 ,\n",
              "        0.23764038, 0.7817228 , 0.9671384 , 0.06870162, 0.79873943,\n",
              "        0.66028714, 0.5871513 , 0.16461694, 0.7381023 , 0.32054043],\n",
              "       dtype=float32)>, TensorShape([50]))"
            ]
          },
          "metadata": {},
          "execution_count": 82
        }
      ]
    },
    {
      "cell_type": "markdown",
      "source": [
        "### One-Hot enconding Tensors"
      ],
      "metadata": {
        "id": "5bJs27GujY20"
      }
    },
    {
      "cell_type": "code",
      "source": [
        "# Create a list of indices\n",
        "some_list = [0,1,2,3] \n",
        "\n",
        "#One hot encode our list of indices\n",
        "tf.one_hot(some_list, depth=4)"
      ],
      "metadata": {
        "colab": {
          "base_uri": "https://localhost:8080/"
        },
        "id": "AAmiIsvSjbrA",
        "outputId": "e812602f-2531-4019-9a76-10c061c69172"
      },
      "execution_count": null,
      "outputs": [
        {
          "output_type": "execute_result",
          "data": {
            "text/plain": [
              "<tf.Tensor: shape=(4, 4), dtype=float32, numpy=\n",
              "array([[1., 0., 0., 0.],\n",
              "       [0., 1., 0., 0.],\n",
              "       [0., 0., 1., 0.],\n",
              "       [0., 0., 0., 1.]], dtype=float32)>"
            ]
          },
          "metadata": {},
          "execution_count": 83
        }
      ]
    },
    {
      "cell_type": "code",
      "source": [
        "# Specific custom values for one-hot  encoding\n",
        "tf.one_hot(some_list,depth=4,on_value=\"AA\",off_value=\"ZZ\")"
      ],
      "metadata": {
        "colab": {
          "base_uri": "https://localhost:8080/"
        },
        "id": "OTy1_FeLkgoS",
        "outputId": "fa504add-7d71-42f0-b294-ac9a4997e78c"
      },
      "execution_count": null,
      "outputs": [
        {
          "output_type": "execute_result",
          "data": {
            "text/plain": [
              "<tf.Tensor: shape=(4, 4), dtype=string, numpy=\n",
              "array([[b'AA', b'ZZ', b'ZZ', b'ZZ'],\n",
              "       [b'ZZ', b'AA', b'ZZ', b'ZZ'],\n",
              "       [b'ZZ', b'ZZ', b'AA', b'ZZ'],\n",
              "       [b'ZZ', b'ZZ', b'ZZ', b'AA']], dtype=object)>"
            ]
          },
          "metadata": {},
          "execution_count": 84
        }
      ]
    },
    {
      "cell_type": "markdown",
      "source": [
        "### Squaring, log, square root"
      ],
      "metadata": {
        "id": "0CPcWGAf1G2r"
      }
    },
    {
      "cell_type": "code",
      "source": [
        "# Create a new twnsor\n",
        "H = tf.range(1,10)\n",
        "H"
      ],
      "metadata": {
        "colab": {
          "base_uri": "https://localhost:8080/"
        },
        "id": "m49HlGo21Sry",
        "outputId": "bcbf1ab3-9f0e-4ff1-da31-80ff0a6c0d64"
      },
      "execution_count": null,
      "outputs": [
        {
          "output_type": "execute_result",
          "data": {
            "text/plain": [
              "<tf.Tensor: shape=(9,), dtype=int32, numpy=array([1, 2, 3, 4, 5, 6, 7, 8, 9], dtype=int32)>"
            ]
          },
          "metadata": {},
          "execution_count": 85
        }
      ]
    },
    {
      "cell_type": "code",
      "source": [
        "# Square it\n",
        "tf.square(H)"
      ],
      "metadata": {
        "colab": {
          "base_uri": "https://localhost:8080/"
        },
        "id": "XaAH-dUj1X06",
        "outputId": "310dafd4-8b11-4d33-a052-1b47402e9ede"
      },
      "execution_count": null,
      "outputs": [
        {
          "output_type": "execute_result",
          "data": {
            "text/plain": [
              "<tf.Tensor: shape=(9,), dtype=int32, numpy=array([ 1,  4,  9, 16, 25, 36, 49, 64, 81], dtype=int32)>"
            ]
          },
          "metadata": {},
          "execution_count": 86
        }
      ]
    },
    {
      "cell_type": "code",
      "source": [
        "# Find the square root (will error, method requires non-int type)\n",
        "tf.sqrt(H)"
      ],
      "metadata": {
        "id": "fNKWi-8B1-xo"
      },
      "execution_count": null,
      "outputs": []
    },
    {
      "cell_type": "code",
      "source": [
        "#Find the square root\n",
        "\n",
        "tf.sqrt(tf.cast(H, dtype=tf.float32))"
      ],
      "metadata": {
        "colab": {
          "base_uri": "https://localhost:8080/"
        },
        "id": "tJgAnVc01daU",
        "outputId": "26cd49cf-eef4-4473-b0ec-71dca75d8920"
      },
      "execution_count": null,
      "outputs": [
        {
          "output_type": "execute_result",
          "data": {
            "text/plain": [
              "<tf.Tensor: shape=(9,), dtype=float32, numpy=\n",
              "array([0.99999994, 1.4142134 , 1.7320508 , 1.9999999 , 2.236068  ,\n",
              "       2.4494896 , 2.6457512 , 2.8284268 , 3.        ], dtype=float32)>"
            ]
          },
          "metadata": {},
          "execution_count": 88
        }
      ]
    },
    {
      "cell_type": "code",
      "source": [
        "#Find the log\n",
        "\n",
        "tf.math.log(tf.cast(H, dtype=tf.float32))"
      ],
      "metadata": {
        "colab": {
          "base_uri": "https://localhost:8080/"
        },
        "id": "nWvvk9Xa2NF1",
        "outputId": "cabaf2ee-2795-4dbf-941d-45f3b7c60882"
      },
      "execution_count": null,
      "outputs": [
        {
          "output_type": "execute_result",
          "data": {
            "text/plain": [
              "<tf.Tensor: shape=(9,), dtype=float32, numpy=\n",
              "array([0.       , 0.6931472, 1.0986123, 1.3862944, 1.609438 , 1.7917595,\n",
              "       1.9459102, 2.0794415, 2.1972246], dtype=float32)>"
            ]
          },
          "metadata": {},
          "execution_count": 90
        }
      ]
    },
    {
      "cell_type": "markdown",
      "source": [
        "### Tensors & Numpy\n",
        "\n",
        "Tensors flow interacts beautifully with numpy arrays"
      ],
      "metadata": {
        "id": "hOtOq5TK2sxl"
      }
    },
    {
      "cell_type": "code",
      "source": [
        "# Create a tensor directly from a Numpy array\n",
        "\n",
        "J = tf.constant(np.array([3.,7.,10.]) )\n",
        "\n",
        "J"
      ],
      "metadata": {
        "colab": {
          "base_uri": "https://localhost:8080/"
        },
        "id": "RJDWdTCb2wEp",
        "outputId": "a9c8db58-4e81-4009-d097-18d6fd96bc56"
      },
      "execution_count": null,
      "outputs": [
        {
          "output_type": "execute_result",
          "data": {
            "text/plain": [
              "<tf.Tensor: shape=(3,), dtype=float64, numpy=array([ 3.,  7., 10.])>"
            ]
          },
          "metadata": {},
          "execution_count": 91
        }
      ]
    },
    {
      "cell_type": "code",
      "source": [
        "#Convert our tensor back to numpy array\n",
        "\n",
        "np.array(J), type(np.array(J))"
      ],
      "metadata": {
        "colab": {
          "base_uri": "https://localhost:8080/"
        },
        "id": "VUQNG3xn3IPC",
        "outputId": "f6774890-f714-481c-8e3f-5a6b05ec227a"
      },
      "execution_count": null,
      "outputs": [
        {
          "output_type": "execute_result",
          "data": {
            "text/plain": [
              "(array([ 3.,  7., 10.]), numpy.ndarray)"
            ]
          },
          "metadata": {},
          "execution_count": 92
        }
      ]
    },
    {
      "cell_type": "code",
      "source": [
        "# Convert tensor J to a Numpy array\n",
        "\n",
        "J.numpy(), type(J.numpy())"
      ],
      "metadata": {
        "colab": {
          "base_uri": "https://localhost:8080/"
        },
        "id": "3ApcxHpZ3Wjd",
        "outputId": "28ca5a61-3832-4026-f655-d32e4609b19c"
      },
      "execution_count": null,
      "outputs": [
        {
          "output_type": "execute_result",
          "data": {
            "text/plain": [
              "(array([ 3.,  7., 10.]), numpy.ndarray)"
            ]
          },
          "metadata": {},
          "execution_count": 94
        }
      ]
    },
    {
      "cell_type": "code",
      "source": [
        "J = tf.constant([3.])\n",
        "J.numpy()[0]"
      ],
      "metadata": {
        "colab": {
          "base_uri": "https://localhost:8080/"
        },
        "id": "9TxK7QXi3lAZ",
        "outputId": "643ed30b-34f9-40fb-af2d-ff39b823e705"
      },
      "execution_count": null,
      "outputs": [
        {
          "output_type": "execute_result",
          "data": {
            "text/plain": [
              "3.0"
            ]
          },
          "metadata": {},
          "execution_count": 96
        }
      ]
    },
    {
      "cell_type": "code",
      "source": [
        "# Default type of each are aslighty different\n",
        "numpy_J = tf.constant(np.array([3.,7.,10.]))\n",
        "tensor_J = tf.constant([3.,7.,10.])\n",
        "\n",
        "# Check the datatypes of each\n",
        "\n",
        "numpy_J.dtype, tensor_J.dtype "
      ],
      "metadata": {
        "colab": {
          "base_uri": "https://localhost:8080/"
        },
        "id": "ewVNUF8d3ysy",
        "outputId": "744080cb-2e1e-436b-c9e2-43f907896eab"
      },
      "execution_count": null,
      "outputs": [
        {
          "output_type": "execute_result",
          "data": {
            "text/plain": [
              "(tf.float64, tf.float32)"
            ]
          },
          "metadata": {},
          "execution_count": 97
        }
      ]
    },
    {
      "cell_type": "markdown",
      "source": [
        "### Finding access to GPUs"
      ],
      "metadata": {
        "id": "1gKhf4gE4_-b"
      }
    },
    {
      "cell_type": "code",
      "source": [
        "tf.config.list_logical_devices()"
      ],
      "metadata": {
        "colab": {
          "base_uri": "https://localhost:8080/"
        },
        "id": "x99zK1p55DDS",
        "outputId": "0ee019d8-b483-4db6-d038-6130f36fcf78"
      },
      "execution_count": null,
      "outputs": [
        {
          "output_type": "execute_result",
          "data": {
            "text/plain": [
              "[LogicalDevice(name='/device:CPU:0', device_type='CPU')]"
            ]
          },
          "metadata": {},
          "execution_count": 100
        }
      ]
    },
    {
      "cell_type": "code",
      "source": [
        "!nvidia-smi"
      ],
      "metadata": {
        "colab": {
          "base_uri": "https://localhost:8080/"
        },
        "id": "66y9CwoY5gtS",
        "outputId": "6e6f4959-ee61-4c5d-f9dc-68cace494903"
      },
      "execution_count": null,
      "outputs": [
        {
          "output_type": "stream",
          "name": "stdout",
          "text": [
            "NVIDIA-SMI has failed because it couldn't communicate with the NVIDIA driver. Make sure that the latest NVIDIA driver is installed and running.\n",
            "\n"
          ]
        }
      ]
    },
    {
      "cell_type": "markdown",
      "source": [
        "### If you have access to a CUDA-enabled GPU, Tensorflow will automatically use it whenever possible"
      ],
      "metadata": {
        "id": "2RRF-FWoQh_b"
      }
    },
    {
      "cell_type": "markdown",
      "source": [
        "# Neural Network Regression with TensorFlow"
      ],
      "metadata": {
        "id": "S1VmITSK4dC9"
      }
    },
    {
      "cell_type": "markdown",
      "source": [
        "### Introduction to regression with neural netwroks in TF\n",
        "\n",
        "There are many definitions for a regression problema but in pur case, ew're going to simplify it: prediction a numerical variable based on some other combination of variables, even shorter... predicting a number."
      ],
      "metadata": {
        "id": "lMQeJdPWCI0w"
      }
    },
    {
      "cell_type": "code",
      "source": [
        "# Import TF\n",
        "import tensorflow as tf\n"
      ],
      "metadata": {
        "id": "r9D-KmDKCq5l"
      },
      "execution_count": 1,
      "outputs": []
    },
    {
      "cell_type": "markdown",
      "source": [
        "## Creating some data to view and fit"
      ],
      "metadata": {
        "id": "IbeeaKjnDBL6"
      }
    },
    {
      "cell_type": "code",
      "source": [
        "import numpy as np \n",
        "import matplotlib.pyplot as plt\n",
        "\n",
        "#Create features\n",
        "X = np.array([-7.0,-4.0,-1.0,2.0,5.0,8.0,11.0,14.0])\n",
        "\n",
        "#Create labels\n",
        "y = np.array([3.0,6.0,9.0,12.0,15.0,18.0,21.0,24.0])\n",
        "\n",
        "#Visualize it\n",
        "plt.scatter(X,y)"
      ],
      "metadata": {
        "colab": {
          "base_uri": "https://localhost:8080/",
          "height": 286
        },
        "id": "SFfVxAQLDIe2",
        "outputId": "c4ad88db-9bb8-4e22-e995-e9dc48ac5242"
      },
      "execution_count": 2,
      "outputs": [
        {
          "output_type": "execute_result",
          "data": {
            "text/plain": [
              "<matplotlib.collections.PathCollection at 0x7f2b169fd750>"
            ]
          },
          "metadata": {},
          "execution_count": 2
        },
        {
          "output_type": "display_data",
          "data": {
            "text/plain": [
              "<Figure size 432x288 with 1 Axes>"
            ],
            "image/png": "[encoded data removed]"
          },
          "metadata": {
            "needs_background": "light"
          }
        }
      ]
    },
    {
      "cell_type": "code",
      "source": [
        "y == X + 10"
      ],
      "metadata": {
        "colab": {
          "base_uri": "https://localhost:8080/"
        },
        "id": "MPXp2na3EXR4",
        "outputId": "f495a23b-29ea-4443-80e5-00532ddd73b5"
      },
      "execution_count": 3,
      "outputs": [
        {
          "output_type": "execute_result",
          "data": {
            "text/plain": [
              "array([ True,  True,  True,  True,  True,  True,  True,  True])"
            ]
          },
          "metadata": {},
          "execution_count": 3
        }
      ]
    },
    {
      "cell_type": "markdown",
      "source": [
        "## Input and output shapes"
      ],
      "metadata": {
        "id": "s7Nb5sANEg8M"
      }
    },
    {
      "cell_type": "code",
      "source": [
        "# Create a demo tensor for our housing price predictiong problem\n",
        "house_info = tf.constant([\"Bedroom\",\"bathroom\",\"garage\"])\n",
        "house_price = tf.constant([939700])\n",
        "house_info,house_price"
      ],
      "metadata": {
        "colab": {
          "base_uri": "https://localhost:8080/"
        },
        "id": "nikMR-vlEjki",
        "outputId": "c2a76803-6e25-41d0-96cb-248e986034a4"
      },
      "execution_count": 4,
      "outputs": [
        {
          "output_type": "execute_result",
          "data": {
            "text/plain": [
              "(<tf.Tensor: shape=(3,), dtype=string, numpy=array([b'Bedroom', b'bathroom', b'garage'], dtype=object)>,\n",
              " <tf.Tensor: shape=(1,), dtype=int32, numpy=array([939700], dtype=int32)>)"
            ]
          },
          "metadata": {},
          "execution_count": 4
        }
      ]
    },
    {
      "cell_type": "code",
      "source": [
        "X[0],y[0]"
      ],
      "metadata": {
        "colab": {
          "base_uri": "https://localhost:8080/"
        },
        "id": "FzZdmoO0GFlD",
        "outputId": "22b7ccf2-9877-4f19-f088-c59d8b183a17"
      },
      "execution_count": 5,
      "outputs": [
        {
          "output_type": "execute_result",
          "data": {
            "text/plain": [
              "(-7.0, 3.0)"
            ]
          },
          "metadata": {},
          "execution_count": 5
        }
      ]
    },
    {
      "cell_type": "code",
      "source": [
        "X[1],y[1]"
      ],
      "metadata": {
        "colab": {
          "base_uri": "https://localhost:8080/"
        },
        "id": "k0Guldq3GKBF",
        "outputId": "bdaedd93-d93a-4f34-f8d3-69ba79f7677d"
      },
      "execution_count": 6,
      "outputs": [
        {
          "output_type": "execute_result",
          "data": {
            "text/plain": [
              "(-4.0, 6.0)"
            ]
          },
          "metadata": {},
          "execution_count": 6
        }
      ]
    },
    {
      "cell_type": "code",
      "source": [
        "input_shape = X.shape\n",
        "output_shape = y.shape\n",
        "\n",
        "input_shape, output_shape\n"
      ],
      "metadata": {
        "colab": {
          "base_uri": "https://localhost:8080/"
        },
        "id": "QLW0a9tLFnBm",
        "outputId": "390477bc-2d47-43a5-feb1-7b462dcc3532"
      },
      "execution_count": 7,
      "outputs": [
        {
          "output_type": "execute_result",
          "data": {
            "text/plain": [
              "((8,), (8,))"
            ]
          },
          "metadata": {},
          "execution_count": 7
        }
      ]
    },
    {
      "cell_type": "code",
      "source": [
        "#Turn our Numpy arrays into tensors\n",
        "\n",
        "X = tf.constant(X)\n",
        "y = tf.constant(y)\n",
        "X,y"
      ],
      "metadata": {
        "colab": {
          "base_uri": "https://localhost:8080/"
        },
        "id": "_wA_zLoCHMf3",
        "outputId": "88b0ff64-771d-4620-e8eb-9fd484c8e133"
      },
      "execution_count": 8,
      "outputs": [
        {
          "output_type": "execute_result",
          "data": {
            "text/plain": [
              "(<tf.Tensor: shape=(8,), dtype=float64, numpy=array([-7., -4., -1.,  2.,  5.,  8., 11., 14.])>,\n",
              " <tf.Tensor: shape=(8,), dtype=float64, numpy=array([ 3.,  6.,  9., 12., 15., 18., 21., 24.])>)"
            ]
          },
          "metadata": {},
          "execution_count": 8
        }
      ]
    },
    {
      "cell_type": "code",
      "source": [
        "input_shape = X[0].shape\n",
        "output_shape = y[0].shape\n",
        "input_shape, output_shape"
      ],
      "metadata": {
        "colab": {
          "base_uri": "https://localhost:8080/"
        },
        "id": "jy4U5W6XHlpv",
        "outputId": "5521bd1a-71cc-477b-f162-443bd4a5028e"
      },
      "execution_count": 9,
      "outputs": [
        {
          "output_type": "execute_result",
          "data": {
            "text/plain": [
              "(TensorShape([]), TensorShape([]))"
            ]
          },
          "metadata": {},
          "execution_count": 9
        }
      ]
    },
    {
      "cell_type": "code",
      "source": [
        "plt.scatter(X,y)"
      ],
      "metadata": {
        "colab": {
          "base_uri": "https://localhost:8080/",
          "height": 286
        },
        "id": "GIFvEe6uH1Ur",
        "outputId": "8021e3ae-efd4-410a-c1c6-f2b60f75a47b"
      },
      "execution_count": 10,
      "outputs": [
        {
          "output_type": "execute_result",
          "data": {
            "text/plain": [
              "<matplotlib.collections.PathCollection at 0x7f2b169fd610>"
            ]
          },
          "metadata": {},
          "execution_count": 10
        },
        {
          "output_type": "display_data",
          "data": {
            "text/plain": [
              "<Figure size 432x288 with 1 Axes>"
            ],
            "image/png": "[encoded data removed]"
          },
          "metadata": {
            "needs_background": "light"
          }
        }
      ]
    },
    {
      "cell_type": "markdown",
      "source": [
        "## Steps in modelling with TensorFlow\n",
        "1. **Creating a model** - Define the input and output layers, as well as the hidden layers of a deep learning model.\n",
        "2. **Compiling a model** - Define the loss function (in other words, the function which tells our model how wrong it is) and the optimizaer (tells our model how to improve the patterns its learning) and evaluation metrics (what we can use to interpret the performance of our model).\n",
        "3. **Fitting a model** - Letting the model try to find patterns between X & y (features and labels)."
      ],
      "metadata": {
        "id": "MPTcKxIWIVnJ"
      }
    },
    {
      "cell_type": "code",
      "source": [
        "# Set random seed\n",
        "tf.random.set_seed(42)\n",
        "\n",
        "# 1. Create a model using the sequential API\n",
        "model = tf.keras.Sequential([\n",
        "  tf.keras.layers.Dense(1)\n",
        "])\n",
        "\n",
        "# 2. Compile the model\n",
        "model.compile(loss=tf.keras.losses.mae, # MAE is short for Mean Absolute Error\n",
        "              optimizer=tf.keras.optimizers.SGD(), #SGD is short for Stochastic gradient descent\n",
        "              metrics=[\"mae\"])\n",
        "\n",
        "# 3. Fit the model\n",
        "model.fit(tf.expand_dims(X, axis=-1),y, epochs=5)"
      ],
      "metadata": {
        "colab": {
          "base_uri": "https://localhost:8080/"
        },
        "id": "fwSETrtgJPOJ",
        "outputId": "182fb3b3-f065-4a9e-b0aa-4f084594beab"
      },
      "execution_count": 11,
      "outputs": [
        {
          "output_type": "stream",
          "name": "stdout",
          "text": [
            "Epoch 1/5\n",
            "1/1 [==============================] - 0s 498ms/step - loss: 11.5048 - mae: 11.5048\n",
            "Epoch 2/5\n",
            "1/1 [==============================] - 0s 7ms/step - loss: 11.3723 - mae: 11.3723\n",
            "Epoch 3/5\n",
            "1/1 [==============================] - 0s 22ms/step - loss: 11.2398 - mae: 11.2398\n",
            "Epoch 4/5\n",
            "1/1 [==============================] - 0s 22ms/step - loss: 11.1073 - mae: 11.1073\n",
            "Epoch 5/5\n",
            "1/1 [==============================] - 0s 8ms/step - loss: 10.9748 - mae: 10.9748\n"
          ]
        },
        {
          "output_type": "execute_result",
          "data": {
            "text/plain": [
              "<keras.callbacks.History at 0x7f2b12744150>"
            ]
          },
          "metadata": {},
          "execution_count": 11
        }
      ]
    },
    {
      "cell_type": "code",
      "source": [
        "# Check out X and y\n",
        "X,y"
      ],
      "metadata": {
        "colab": {
          "base_uri": "https://localhost:8080/"
        },
        "id": "BheJ_NuHPiK5",
        "outputId": "27170088-26e2-436f-dab8-d4c093c33f65"
      },
      "execution_count": 12,
      "outputs": [
        {
          "output_type": "execute_result",
          "data": {
            "text/plain": [
              "(<tf.Tensor: shape=(8,), dtype=float64, numpy=array([-7., -4., -1.,  2.,  5.,  8., 11., 14.])>,\n",
              " <tf.Tensor: shape=(8,), dtype=float64, numpy=array([ 3.,  6.,  9., 12., 15., 18., 21., 24.])>)"
            ]
          },
          "metadata": {},
          "execution_count": 12
        }
      ]
    },
    {
      "cell_type": "code",
      "source": [
        "# Try and make a prediction using our model\n",
        "model.predict([17.0])"
      ],
      "metadata": {
        "colab": {
          "base_uri": "https://localhost:8080/"
        },
        "id": "tGoBnrXRPmvS",
        "outputId": "bac3b104-4a02-4b5e-f38c-98fea5a31aab"
      },
      "execution_count": 13,
      "outputs": [
        {
          "output_type": "execute_result",
          "data": {
            "text/plain": [
              "array([[12.716021]], dtype=float32)"
            ]
          },
          "metadata": {},
          "execution_count": 13
        }
      ]
    },
    {
      "cell_type": "markdown",
      "source": [
        "## Improving our model\n",
        "We can improve our model, by altering the steps we took to create a model.\n",
        "1. **Creating a model** - Here we might add more layers, increase the number of hidden units (all called neuron) within each of the hidden layers, change the activation function of each layer.\n",
        "2. **Compiling a model** - Here we might change the optimization function or perhaps the **learning rate** of the optimization function.\n",
        "3. **Fitting the model** - Here we might fit a model for more **epochs** (leave it training for longer) or on more data (give the model more examples to learn from)."
      ],
      "metadata": {
        "id": "lGx1ABTNQen2"
      }
    },
    {
      "cell_type": "code",
      "source": [
        "from logging import logProcesses\n",
        "# Lets rebuild our model\n",
        "\n",
        "# 1. Create the model\n",
        "model = tf.keras.Sequential([\n",
        "    tf.keras.layers.Dense(1)\n",
        "])\n",
        "\n",
        "# 2. Compile the model\n",
        "model.compile(loss=tf.keras.losses.mae,\n",
        "               optimizer=tf.keras.optimizers.SGD(),\n",
        "               metrics=[\"mae\"]\n",
        ")\n",
        "\n",
        "# 3. Fit the model (this time we will train for longer)\n",
        "model.fit(tf.expand_dims(X, axis=-1),y, epochs=2000)"
      ],
      "metadata": {
        "colab": {
          "base_uri": "https://localhost:8080/"
        },
        "id": "KQPh1RiWbhQD",
        "outputId": "c0126145-97be-4b4d-b88e-9afaab2997ea"
      },
      "execution_count": 14,
      "outputs": [
        {
          "output_type": "stream",
          "name": "stdout",
          "text": [
            "Epoch 1/2000\n",
            "1/1 [==============================] - 0s 436ms/step - loss: 11.2219 - mae: 11.2219\n",
            "Epoch 2/2000\n",
            "1/1 [==============================] - 0s 11ms/step - loss: 11.0894 - mae: 11.0894\n",
            "Epoch 3/2000\n",
            "1/1 [==============================] - 0s 6ms/step - loss: 10.9569 - mae: 10.9569\n",
            "Epoch 4/2000\n",
            "1/1 [==============================] - 0s 5ms/step - loss: 10.8244 - mae: 10.8244\n",
            "Epoch 5/2000\n",
            "1/1 [==============================] - 0s 5ms/step - loss: 10.6919 - mae: 10.6919\n",
            "Epoch 6/2000\n",
            "1/1 [==============================] - 0s 5ms/step - loss: 10.5594 - mae: 10.5594\n",
            "Epoch 7/2000\n",
            "1/1 [==============================] - 0s 5ms/step - loss: 10.4269 - mae: 10.4269\n",
            "Epoch 8/2000\n",
            "1/1 [==============================] - 0s 6ms/step - loss: 10.2944 - mae: 10.2944\n",
            "Epoch 9/2000\n",
            "1/1 [==============================] - 0s 11ms/step - loss: 10.1619 - mae: 10.1619\n",
            "Epoch 10/2000\n",
            "1/1 [==============================] - 0s 5ms/step - loss: 10.0294 - mae: 10.0294\n",
            "Epoch 11/2000\n",
            "1/1 [==============================] - 0s 7ms/step - loss: 9.8969 - mae: 9.8969\n",
            "Epoch 12/2000\n",
            "1/1 [==============================] - 0s 16ms/step - loss: 9.7644 - mae: 9.7644\n",
            "Epoch 13/2000\n",
            "1/1 [==============================] - 0s 10ms/step - loss: 9.6319 - mae: 9.6319\n",
            "Epoch 14/2000\n",
            "1/1 [==============================] - 0s 11ms/step - loss: 9.4994 - mae: 9.4994\n",
            "Epoch 15/2000\n",
            "1/1 [==============================] - 0s 8ms/step - loss: 9.3669 - mae: 9.3669\n",
            "Epoch 16/2000\n",
            "1/1 [==============================] - 0s 4ms/step - loss: 9.2344 - mae: 9.2344\n",
            "Epoch 17/2000\n",
            "1/1 [==============================] - 0s 6ms/step - loss: 9.1019 - mae: 9.1019\n",
            "Epoch 18/2000\n",
            "1/1 [==============================] - 0s 5ms/step - loss: 8.9694 - mae: 8.9694\n",
            "Epoch 19/2000\n",
            "1/1 [==============================] - 0s 9ms/step - loss: 8.8369 - mae: 8.8369\n",
            "Epoch 20/2000\n",
            "1/1 [==============================] - 0s 5ms/step - loss: 8.7044 - mae: 8.7044\n",
            "Epoch 21/2000\n",
            "1/1 [==============================] - 0s 12ms/step - loss: 8.5719 - mae: 8.5719\n",
            "Epoch 22/2000\n",
            "1/1 [==============================] - 0s 5ms/step - loss: 8.4394 - mae: 8.4394\n",
            "Epoch 23/2000\n",
            "1/1 [==============================] - 0s 5ms/step - loss: 8.3069 - mae: 8.3069\n",
            "Epoch 24/2000\n",
            "1/1 [==============================] - 0s 9ms/step - loss: 8.1744 - mae: 8.1744\n",
            "Epoch 25/2000\n",
            "1/1 [==============================] - 0s 7ms/step - loss: 8.0419 - mae: 8.0419\n",
            "Epoch 26/2000\n",
            "1/1 [==============================] - 0s 27ms/step - loss: 7.9094 - mae: 7.9094\n",
            "Epoch 27/2000\n",
            "1/1 [==============================] - 0s 5ms/step - loss: 7.7769 - mae: 7.7769\n",
            "Epoch 28/2000\n",
            "1/1 [==============================] - 0s 7ms/step - loss: 7.6444 - mae: 7.6444\n",
            "Epoch 29/2000\n",
            "1/1 [==============================] - 0s 10ms/step - loss: 7.5119 - mae: 7.5119\n",
            "Epoch 30/2000\n",
            "1/1 [==============================] - 0s 15ms/step - loss: 7.3794 - mae: 7.3794\n",
            "Epoch 31/2000\n",
            "1/1 [==============================] - 0s 10ms/step - loss: 7.2750 - mae: 7.2750\n",
            "Epoch 32/2000\n",
            "1/1 [==============================] - 0s 5ms/step - loss: 7.2694 - mae: 7.2694\n",
            "Epoch 33/2000\n",
            "1/1 [==============================] - 0s 5ms/step - loss: 7.2638 - mae: 7.2638\n",
            "Epoch 34/2000\n",
            "1/1 [==============================] - 0s 14ms/step - loss: 7.2581 - mae: 7.2581\n",
            "Epoch 35/2000\n",
            "1/1 [==============================] - 0s 11ms/step - loss: 7.2525 - mae: 7.2525\n",
            "Epoch 36/2000\n",
            "1/1 [==============================] - 0s 7ms/step - loss: 7.2469 - mae: 7.2469\n",
            "Epoch 37/2000\n",
            "1/1 [==============================] - 0s 6ms/step - loss: 7.2412 - mae: 7.2412\n",
            "Epoch 38/2000\n",
            "1/1 [==============================] - 0s 5ms/step - loss: 7.2356 - mae: 7.2356\n",
            "Epoch 39/2000\n",
            "1/1 [==============================] - 0s 5ms/step - loss: 7.2300 - mae: 7.2300\n",
            "Epoch 40/2000\n",
            "1/1 [==============================] - 0s 5ms/step - loss: 7.2244 - mae: 7.2244\n",
            "Epoch 41/2000\n",
            "1/1 [==============================] - 0s 5ms/step - loss: 7.2188 - mae: 7.2188\n",
            "Epoch 42/2000\n",
            "1/1 [==============================] - 0s 5ms/step - loss: 7.2131 - mae: 7.2131\n",
            "Epoch 43/2000\n",
            "1/1 [==============================] - 0s 5ms/step - loss: 7.2075 - mae: 7.2075\n",
            "Epoch 44/2000\n",
            "1/1 [==============================] - 0s 5ms/step - loss: 7.2019 - mae: 7.2019\n",
            "Epoch 45/2000\n",
            "1/1 [==============================] - 0s 5ms/step - loss: 7.1962 - mae: 7.1962\n",
            "Epoch 46/2000\n",
            "1/1 [==============================] - 0s 5ms/step - loss: 7.1906 - mae: 7.1906\n",
            "Epoch 47/2000\n",
            "1/1 [==============================] - 0s 5ms/step - loss: 7.1850 - mae: 7.1850\n",
            "Epoch 48/2000\n",
            "1/1 [==============================] - 0s 5ms/step - loss: 7.1794 - mae: 7.1794\n",
            "Epoch 49/2000\n",
            "1/1 [==============================] - 0s 5ms/step - loss: 7.1737 - mae: 7.1737\n",
            "Epoch 50/2000\n",
            "1/1 [==============================] - 0s 5ms/step - loss: 7.1681 - mae: 7.1681\n",
            "Epoch 51/2000\n",
            "1/1 [==============================] - 0s 9ms/step - loss: 7.1625 - mae: 7.1625\n",
            "Epoch 52/2000\n",
            "1/1 [==============================] - 0s 6ms/step - loss: 7.1569 - mae: 7.1569\n",
            "Epoch 53/2000\n",
            "1/1 [==============================] - 0s 7ms/step - loss: 7.1512 - mae: 7.1512\n",
            "Epoch 54/2000\n",
            "1/1 [==============================] - 0s 8ms/step - loss: 7.1456 - mae: 7.1456\n",
            "Epoch 55/2000\n",
            "1/1 [==============================] - 0s 7ms/step - loss: 7.1400 - mae: 7.1400\n",
            "Epoch 56/2000\n",
            "1/1 [==============================] - 0s 10ms/step - loss: 7.1344 - mae: 7.1344\n",
            "Epoch 57/2000\n",
            "1/1 [==============================] - 0s 7ms/step - loss: 7.1287 - mae: 7.1287\n",
            "Epoch 58/2000\n",
            "1/1 [==============================] - 0s 9ms/step - loss: 7.1231 - mae: 7.1231\n",
            "Epoch 59/2000\n",
            "1/1 [==============================] - 0s 13ms/step - loss: 7.1175 - mae: 7.1175\n",
            "Epoch 60/2000\n",
            "1/1 [==============================] - 0s 10ms/step - loss: 7.1119 - mae: 7.1119\n",
            "Epoch 61/2000\n",
            "1/1 [==============================] - 0s 5ms/step - loss: 7.1062 - mae: 7.1062\n",
            "Epoch 62/2000\n",
            "1/1 [==============================] - 0s 10ms/step - loss: 7.1006 - mae: 7.1006\n",
            "Epoch 63/2000\n",
            "1/1 [==============================] - 0s 4ms/step - loss: 7.0950 - mae: 7.0950\n",
            "Epoch 64/2000\n",
            "1/1 [==============================] - 0s 12ms/step - loss: 7.0894 - mae: 7.0894\n",
            "Epoch 65/2000\n",
            "1/1 [==============================] - 0s 11ms/step - loss: 7.0838 - mae: 7.0838\n",
            "Epoch 66/2000\n",
            "1/1 [==============================] - 0s 34ms/step - loss: 7.0781 - mae: 7.0781\n",
            "Epoch 67/2000\n",
            "1/1 [==============================] - 0s 64ms/step - loss: 7.0725 - mae: 7.0725\n",
            "Epoch 68/2000\n",
            "1/1 [==============================] - 0s 40ms/step - loss: 7.0669 - mae: 7.0669\n",
            "Epoch 69/2000\n",
            "1/1 [==============================] - 0s 11ms/step - loss: 7.0613 - mae: 7.0613\n",
            "Epoch 70/2000\n",
            "1/1 [==============================] - 0s 19ms/step - loss: 7.0556 - mae: 7.0556\n",
            "Epoch 71/2000\n",
            "1/1 [==============================] - 0s 9ms/step - loss: 7.0500 - mae: 7.0500\n",
            "Epoch 72/2000\n",
            "1/1 [==============================] - 0s 11ms/step - loss: 7.0444 - mae: 7.0444\n",
            "Epoch 73/2000\n",
            "1/1 [==============================] - 0s 16ms/step - loss: 7.0388 - mae: 7.0388\n",
            "Epoch 74/2000\n",
            "1/1 [==============================] - 0s 37ms/step - loss: 7.0331 - mae: 7.0331\n",
            "Epoch 75/2000\n",
            "1/1 [==============================] - 0s 44ms/step - loss: 7.0275 - mae: 7.0275\n",
            "Epoch 76/2000\n",
            "1/1 [==============================] - 0s 11ms/step - loss: 7.0219 - mae: 7.0219\n",
            "Epoch 77/2000\n",
            "1/1 [==============================] - 0s 18ms/step - loss: 7.0163 - mae: 7.0163\n",
            "Epoch 78/2000\n",
            "1/1 [==============================] - 0s 16ms/step - loss: 7.0106 - mae: 7.0106\n",
            "Epoch 79/2000\n",
            "1/1 [==============================] - 0s 13ms/step - loss: 7.0050 - mae: 7.0050\n",
            "Epoch 80/2000\n",
            "1/1 [==============================] - 0s 8ms/step - loss: 6.9994 - mae: 6.9994\n",
            "Epoch 81/2000\n",
            "1/1 [==============================] - 0s 9ms/step - loss: 6.9938 - mae: 6.9938\n",
            "Epoch 82/2000\n",
            "1/1 [==============================] - 0s 9ms/step - loss: 6.9881 - mae: 6.9881\n",
            "Epoch 83/2000\n",
            "1/1 [==============================] - 0s 14ms/step - loss: 6.9825 - mae: 6.9825\n",
            "Epoch 84/2000\n",
            "1/1 [==============================] - 0s 4ms/step - loss: 6.9769 - mae: 6.9769\n",
            "Epoch 85/2000\n",
            "1/1 [==============================] - 0s 7ms/step - loss: 6.9713 - mae: 6.9713\n",
            "Epoch 86/2000\n",
            "1/1 [==============================] - 0s 14ms/step - loss: 6.9656 - mae: 6.9656\n",
            "Epoch 87/2000\n",
            "1/1 [==============================] - 0s 21ms/step - loss: 6.9600 - mae: 6.9600\n",
            "Epoch 88/2000\n",
            "1/1 [==============================] - 0s 10ms/step - loss: 6.9544 - mae: 6.9544\n",
            "Epoch 89/2000\n",
            "1/1 [==============================] - 0s 5ms/step - loss: 6.9488 - mae: 6.9488\n",
            "Epoch 90/2000\n",
            "1/1 [==============================] - 0s 5ms/step - loss: 6.9431 - mae: 6.9431\n",
            "Epoch 91/2000\n",
            "1/1 [==============================] - 0s 5ms/step - loss: 6.9375 - mae: 6.9375\n",
            "Epoch 92/2000\n",
            "1/1 [==============================] - 0s 5ms/step - loss: 6.9319 - mae: 6.9319\n",
            "Epoch 93/2000\n",
            "1/1 [==============================] - 0s 5ms/step - loss: 6.9263 - mae: 6.9263\n",
            "Epoch 94/2000\n",
            "1/1 [==============================] - 0s 9ms/step - loss: 6.9206 - mae: 6.9206\n",
            "Epoch 95/2000\n",
            "1/1 [==============================] - 0s 20ms/step - loss: 6.9150 - mae: 6.9150\n",
            "Epoch 96/2000\n",
            "1/1 [==============================] - 0s 10ms/step - loss: 6.9094 - mae: 6.9094\n",
            "Epoch 97/2000\n",
            "1/1 [==============================] - 0s 14ms/step - loss: 6.9038 - mae: 6.9038\n",
            "Epoch 98/2000\n",
            "1/1 [==============================] - 0s 15ms/step - loss: 6.8981 - mae: 6.8981\n",
            "Epoch 99/2000\n",
            "1/1 [==============================] - 0s 10ms/step - loss: 6.8925 - mae: 6.8925\n",
            "Epoch 100/2000\n",
            "1/1 [==============================] - 0s 30ms/step - loss: 6.8869 - mae: 6.8869\n",
            "Epoch 101/2000\n",
            "1/1 [==============================] - 0s 10ms/step - loss: 6.8813 - mae: 6.8813\n",
            "Epoch 102/2000\n",
            "1/1 [==============================] - 0s 13ms/step - loss: 6.8756 - mae: 6.8756\n",
            "Epoch 103/2000\n",
            "1/1 [==============================] - 0s 7ms/step - loss: 6.8700 - mae: 6.8700\n",
            "Epoch 104/2000\n",
            "1/1 [==============================] - 0s 18ms/step - loss: 6.8644 - mae: 6.8644\n",
            "Epoch 105/2000\n",
            "1/1 [==============================] - 0s 12ms/step - loss: 6.8588 - mae: 6.8588\n",
            "Epoch 106/2000\n",
            "1/1 [==============================] - 0s 6ms/step - loss: 6.8531 - mae: 6.8531\n",
            "Epoch 107/2000\n",
            "1/1 [==============================] - 0s 10ms/step - loss: 6.8475 - mae: 6.8475\n",
            "Epoch 108/2000\n",
            "1/1 [==============================] - 0s 11ms/step - loss: 6.8419 - mae: 6.8419\n",
            "Epoch 109/2000\n",
            "1/1 [==============================] - 0s 5ms/step - loss: 6.8363 - mae: 6.8363\n",
            "Epoch 110/2000\n",
            "1/1 [==============================] - 0s 7ms/step - loss: 6.8306 - mae: 6.8306\n",
            "Epoch 111/2000\n",
            "1/1 [==============================] - 0s 8ms/step - loss: 6.8250 - mae: 6.8250\n",
            "Epoch 112/2000\n",
            "1/1 [==============================] - 0s 7ms/step - loss: 6.8194 - mae: 6.8194\n",
            "Epoch 113/2000\n",
            "1/1 [==============================] - 0s 8ms/step - loss: 6.8138 - mae: 6.8138\n",
            "Epoch 114/2000\n",
            "1/1 [==============================] - 0s 8ms/step - loss: 6.8081 - mae: 6.8081\n",
            "Epoch 115/2000\n",
            "1/1 [==============================] - 0s 6ms/step - loss: 6.8025 - mae: 6.8025\n",
            "Epoch 116/2000\n",
            "1/1 [==============================] - 0s 8ms/step - loss: 6.7969 - mae: 6.7969\n",
            "Epoch 117/2000\n",
            "1/1 [==============================] - 0s 7ms/step - loss: 6.7913 - mae: 6.7913\n",
            "Epoch 118/2000\n",
            "1/1 [==============================] - 0s 33ms/step - loss: 6.7856 - mae: 6.7856\n",
            "Epoch 119/2000\n",
            "1/1 [==============================] - 0s 7ms/step - loss: 6.7800 - mae: 6.7800\n",
            "Epoch 120/2000\n",
            "1/1 [==============================] - 0s 12ms/step - loss: 6.7744 - mae: 6.7744\n",
            "Epoch 121/2000\n",
            "1/1 [==============================] - 0s 9ms/step - loss: 6.7688 - mae: 6.7688\n",
            "Epoch 122/2000\n",
            "1/1 [==============================] - 0s 8ms/step - loss: 6.7631 - mae: 6.7631\n",
            "Epoch 123/2000\n",
            "1/1 [==============================] - 0s 14ms/step - loss: 6.7575 - mae: 6.7575\n",
            "Epoch 124/2000\n",
            "1/1 [==============================] - 0s 9ms/step - loss: 6.7519 - mae: 6.7519\n",
            "Epoch 125/2000\n",
            "1/1 [==============================] - 0s 6ms/step - loss: 6.7463 - mae: 6.7463\n",
            "Epoch 126/2000\n",
            "1/1 [==============================] - 0s 6ms/step - loss: 6.7406 - mae: 6.7406\n",
            "Epoch 127/2000\n",
            "1/1 [==============================] - 0s 17ms/step - loss: 6.7350 - mae: 6.7350\n",
            "Epoch 128/2000\n",
            "1/1 [==============================] - 0s 8ms/step - loss: 6.7294 - mae: 6.7294\n",
            "Epoch 129/2000\n",
            "1/1 [==============================] - 0s 7ms/step - loss: 6.7238 - mae: 6.7238\n",
            "Epoch 130/2000\n",
            "1/1 [==============================] - 0s 8ms/step - loss: 6.7181 - mae: 6.7181\n",
            "Epoch 131/2000\n",
            "1/1 [==============================] - 0s 9ms/step - loss: 6.7125 - mae: 6.7125\n",
            "Epoch 132/2000\n",
            "1/1 [==============================] - 0s 9ms/step - loss: 6.7069 - mae: 6.7069\n",
            "Epoch 133/2000\n",
            "1/1 [==============================] - 0s 15ms/step - loss: 6.7013 - mae: 6.7013\n",
            "Epoch 134/2000\n",
            "1/1 [==============================] - 0s 23ms/step - loss: 6.6956 - mae: 6.6956\n",
            "Epoch 135/2000\n",
            "1/1 [==============================] - 0s 36ms/step - loss: 6.6900 - mae: 6.6900\n",
            "Epoch 136/2000\n",
            "1/1 [==============================] - 0s 9ms/step - loss: 6.6844 - mae: 6.6844\n",
            "Epoch 137/2000\n",
            "1/1 [==============================] - 0s 6ms/step - loss: 6.6787 - mae: 6.6787\n",
            "Epoch 138/2000\n",
            "1/1 [==============================] - 0s 5ms/step - loss: 6.6731 - mae: 6.6731\n",
            "Epoch 139/2000\n",
            "1/1 [==============================] - 0s 9ms/step - loss: 6.6675 - mae: 6.6675\n",
            "Epoch 140/2000\n",
            "1/1 [==============================] - 0s 5ms/step - loss: 6.6619 - mae: 6.6619\n",
            "Epoch 141/2000\n",
            "1/1 [==============================] - 0s 5ms/step - loss: 6.6562 - mae: 6.6562\n",
            "Epoch 142/2000\n",
            "1/1 [==============================] - 0s 5ms/step - loss: 6.6506 - mae: 6.6506\n",
            "Epoch 143/2000\n",
            "1/1 [==============================] - 0s 11ms/step - loss: 6.6450 - mae: 6.6450\n",
            "Epoch 144/2000\n",
            "1/1 [==============================] - 0s 5ms/step - loss: 6.6394 - mae: 6.6394\n",
            "Epoch 145/2000\n",
            "1/1 [==============================] - 0s 5ms/step - loss: 6.6337 - mae: 6.6337\n",
            "Epoch 146/2000\n",
            "1/1 [==============================] - 0s 5ms/step - loss: 6.6281 - mae: 6.6281\n",
            "Epoch 147/2000\n",
            "1/1 [==============================] - 0s 5ms/step - loss: 6.6225 - mae: 6.6225\n",
            "Epoch 148/2000\n",
            "1/1 [==============================] - 0s 5ms/step - loss: 6.6169 - mae: 6.6169\n",
            "Epoch 149/2000\n",
            "1/1 [==============================] - 0s 5ms/step - loss: 6.6112 - mae: 6.6112\n",
            "Epoch 150/2000\n",
            "1/1 [==============================] - 0s 5ms/step - loss: 6.6056 - mae: 6.6056\n",
            "Epoch 151/2000\n",
            "1/1 [==============================] - 0s 5ms/step - loss: 6.6000 - mae: 6.6000\n",
            "Epoch 152/2000\n",
            "1/1 [==============================] - 0s 5ms/step - loss: 6.5944 - mae: 6.5944\n",
            "Epoch 153/2000\n",
            "1/1 [==============================] - 0s 5ms/step - loss: 6.5887 - mae: 6.5887\n",
            "Epoch 154/2000\n",
            "1/1 [==============================] - 0s 5ms/step - loss: 6.5831 - mae: 6.5831\n",
            "Epoch 155/2000\n",
            "1/1 [==============================] - 0s 5ms/step - loss: 6.5775 - mae: 6.5775\n",
            "Epoch 156/2000\n",
            "1/1 [==============================] - 0s 5ms/step - loss: 6.5719 - mae: 6.5719\n",
            "Epoch 157/2000\n",
            "1/1 [==============================] - 0s 5ms/step - loss: 6.5662 - mae: 6.5662\n",
            "Epoch 158/2000\n",
            "1/1 [==============================] - 0s 4ms/step - loss: 6.5606 - mae: 6.5606\n",
            "Epoch 159/2000\n",
            "1/1 [==============================] - 0s 11ms/step - loss: 6.5550 - mae: 6.5550\n",
            "Epoch 160/2000\n",
            "1/1 [==============================] - 0s 8ms/step - loss: 6.5494 - mae: 6.5494\n",
            "Epoch 161/2000\n",
            "1/1 [==============================] - 0s 14ms/step - loss: 6.5437 - mae: 6.5437\n",
            "Epoch 162/2000\n",
            "1/1 [==============================] - 0s 14ms/step - loss: 6.5381 - mae: 6.5381\n",
            "Epoch 163/2000\n",
            "1/1 [==============================] - 0s 13ms/step - loss: 6.5325 - mae: 6.5325\n",
            "Epoch 164/2000\n",
            "1/1 [==============================] - 0s 10ms/step - loss: 6.5269 - mae: 6.5269\n",
            "Epoch 165/2000\n",
            "1/1 [==============================] - 0s 51ms/step - loss: 6.5212 - mae: 6.5212\n",
            "Epoch 166/2000\n",
            "1/1 [==============================] - 0s 19ms/step - loss: 6.5156 - mae: 6.5156\n",
            "Epoch 167/2000\n",
            "1/1 [==============================] - 0s 13ms/step - loss: 6.5100 - mae: 6.5100\n",
            "Epoch 168/2000\n",
            "1/1 [==============================] - 0s 11ms/step - loss: 6.5044 - mae: 6.5044\n",
            "Epoch 169/2000\n",
            "1/1 [==============================] - 0s 40ms/step - loss: 6.4987 - mae: 6.4987\n",
            "Epoch 170/2000\n",
            "1/1 [==============================] - 0s 9ms/step - loss: 6.4931 - mae: 6.4931\n",
            "Epoch 171/2000\n",
            "1/1 [==============================] - 0s 7ms/step - loss: 6.4875 - mae: 6.4875\n",
            "Epoch 172/2000\n",
            "1/1 [==============================] - 0s 10ms/step - loss: 6.4819 - mae: 6.4819\n",
            "Epoch 173/2000\n",
            "1/1 [==============================] - 0s 7ms/step - loss: 6.4762 - mae: 6.4762\n",
            "Epoch 174/2000\n",
            "1/1 [==============================] - 0s 7ms/step - loss: 6.4706 - mae: 6.4706\n",
            "Epoch 175/2000\n",
            "1/1 [==============================] - 0s 7ms/step - loss: 6.4650 - mae: 6.4650\n",
            "Epoch 176/2000\n",
            "1/1 [==============================] - 0s 36ms/step - loss: 6.4594 - mae: 6.4594\n",
            "Epoch 177/2000\n",
            "1/1 [==============================] - 0s 10ms/step - loss: 6.4537 - mae: 6.4537\n",
            "Epoch 178/2000\n",
            "1/1 [==============================] - 0s 31ms/step - loss: 6.4481 - mae: 6.4481\n",
            "Epoch 179/2000\n",
            "1/1 [==============================] - 0s 16ms/step - loss: 6.4425 - mae: 6.4425\n",
            "Epoch 180/2000\n",
            "1/1 [==============================] - 0s 11ms/step - loss: 6.4369 - mae: 6.4369\n",
            "Epoch 181/2000\n",
            "1/1 [==============================] - 0s 12ms/step - loss: 6.4312 - mae: 6.4312\n",
            "Epoch 182/2000\n",
            "1/1 [==============================] - 0s 17ms/step - loss: 6.4256 - mae: 6.4256\n",
            "Epoch 183/2000\n",
            "1/1 [==============================] - 0s 15ms/step - loss: 6.4200 - mae: 6.4200\n",
            "Epoch 184/2000\n",
            "1/1 [==============================] - 0s 15ms/step - loss: 6.4144 - mae: 6.4144\n",
            "Epoch 185/2000\n",
            "1/1 [==============================] - 0s 11ms/step - loss: 6.4087 - mae: 6.4087\n",
            "Epoch 186/2000\n",
            "1/1 [==============================] - 0s 12ms/step - loss: 6.4031 - mae: 6.4031\n",
            "Epoch 187/2000\n",
            "1/1 [==============================] - 0s 12ms/step - loss: 6.3975 - mae: 6.3975\n",
            "Epoch 188/2000\n",
            "1/1 [==============================] - 0s 14ms/step - loss: 6.3919 - mae: 6.3919\n",
            "Epoch 189/2000\n",
            "1/1 [==============================] - 0s 10ms/step - loss: 6.3862 - mae: 6.3862\n",
            "Epoch 190/2000\n",
            "1/1 [==============================] - 0s 21ms/step - loss: 6.3806 - mae: 6.3806\n",
            "Epoch 191/2000\n",
            "1/1 [==============================] - 0s 9ms/step - loss: 6.3750 - mae: 6.3750\n",
            "Epoch 192/2000\n",
            "1/1 [==============================] - 0s 10ms/step - loss: 6.3694 - mae: 6.3694\n",
            "Epoch 193/2000\n",
            "1/1 [==============================] - 0s 12ms/step - loss: 6.3637 - mae: 6.3637\n",
            "Epoch 194/2000\n",
            "1/1 [==============================] - 0s 8ms/step - loss: 6.3581 - mae: 6.3581\n",
            "Epoch 195/2000\n",
            "1/1 [==============================] - 0s 8ms/step - loss: 6.3525 - mae: 6.3525\n",
            "Epoch 196/2000\n",
            "1/1 [==============================] - 0s 8ms/step - loss: 6.3469 - mae: 6.3469\n",
            "Epoch 197/2000\n",
            "1/1 [==============================] - 0s 7ms/step - loss: 6.3412 - mae: 6.3412\n",
            "Epoch 198/2000\n",
            "1/1 [==============================] - 0s 9ms/step - loss: 6.3356 - mae: 6.3356\n",
            "Epoch 199/2000\n",
            "1/1 [==============================] - 0s 5ms/step - loss: 6.3300 - mae: 6.3300\n",
            "Epoch 200/2000\n",
            "1/1 [==============================] - 0s 7ms/step - loss: 6.3244 - mae: 6.3244\n",
            "Epoch 201/2000\n",
            "1/1 [==============================] - 0s 7ms/step - loss: 6.3187 - mae: 6.3187\n",
            "Epoch 202/2000\n",
            "1/1 [==============================] - 0s 7ms/step - loss: 6.3131 - mae: 6.3131\n",
            "Epoch 203/2000\n",
            "1/1 [==============================] - 0s 8ms/step - loss: 6.3075 - mae: 6.3075\n",
            "Epoch 204/2000\n",
            "1/1 [==============================] - 0s 9ms/step - loss: 6.3019 - mae: 6.3019\n",
            "Epoch 205/2000\n",
            "1/1 [==============================] - 0s 7ms/step - loss: 6.2962 - mae: 6.2962\n",
            "Epoch 206/2000\n",
            "1/1 [==============================] - 0s 13ms/step - loss: 6.2906 - mae: 6.2906\n",
            "Epoch 207/2000\n",
            "1/1 [==============================] - 0s 7ms/step - loss: 6.2850 - mae: 6.2850\n",
            "Epoch 208/2000\n",
            "1/1 [==============================] - 0s 9ms/step - loss: 6.2794 - mae: 6.2794\n",
            "Epoch 209/2000\n",
            "1/1 [==============================] - 0s 18ms/step - loss: 6.2737 - mae: 6.2737\n",
            "Epoch 210/2000\n",
            "1/1 [==============================] - 0s 15ms/step - loss: 6.2681 - mae: 6.2681\n",
            "Epoch 211/2000\n",
            "1/1 [==============================] - 0s 8ms/step - loss: 6.2625 - mae: 6.2625\n",
            "Epoch 212/2000\n",
            "1/1 [==============================] - 0s 13ms/step - loss: 6.2569 - mae: 6.2569\n",
            "Epoch 213/2000\n",
            "1/1 [==============================] - 0s 27ms/step - loss: 6.2512 - mae: 6.2512\n",
            "Epoch 214/2000\n",
            "1/1 [==============================] - 0s 14ms/step - loss: 6.2456 - mae: 6.2456\n",
            "Epoch 215/2000\n",
            "1/1 [==============================] - 0s 8ms/step - loss: 6.2400 - mae: 6.2400\n",
            "Epoch 216/2000\n",
            "1/1 [==============================] - 0s 8ms/step - loss: 6.2344 - mae: 6.2344\n",
            "Epoch 217/2000\n",
            "1/1 [==============================] - 0s 6ms/step - loss: 6.2287 - mae: 6.2287\n",
            "Epoch 218/2000\n",
            "1/1 [==============================] - 0s 8ms/step - loss: 6.2231 - mae: 6.2231\n",
            "Epoch 219/2000\n",
            "1/1 [==============================] - 0s 5ms/step - loss: 6.2175 - mae: 6.2175\n",
            "Epoch 220/2000\n",
            "1/1 [==============================] - 0s 11ms/step - loss: 6.2119 - mae: 6.2119\n",
            "Epoch 221/2000\n",
            "1/1 [==============================] - 0s 17ms/step - loss: 6.2062 - mae: 6.2062\n",
            "Epoch 222/2000\n",
            "1/1 [==============================] - 0s 16ms/step - loss: 6.2006 - mae: 6.2006\n",
            "Epoch 223/2000\n",
            "1/1 [==============================] - 0s 13ms/step - loss: 6.1950 - mae: 6.1950\n",
            "Epoch 224/2000\n",
            "1/1 [==============================] - 0s 14ms/step - loss: 6.1894 - mae: 6.1894\n",
            "Epoch 225/2000\n",
            "1/1 [==============================] - 0s 5ms/step - loss: 6.1837 - mae: 6.1837\n",
            "Epoch 226/2000\n",
            "1/1 [==============================] - 0s 9ms/step - loss: 6.1781 - mae: 6.1781\n",
            "Epoch 227/2000\n",
            "1/1 [==============================] - 0s 9ms/step - loss: 6.1725 - mae: 6.1725\n",
            "Epoch 228/2000\n",
            "1/1 [==============================] - 0s 6ms/step - loss: 6.1669 - mae: 6.1669\n",
            "Epoch 229/2000\n",
            "1/1 [==============================] - 0s 8ms/step - loss: 6.1612 - mae: 6.1612\n",
            "Epoch 230/2000\n",
            "1/1 [==============================] - 0s 11ms/step - loss: 6.1556 - mae: 6.1556\n",
            "Epoch 231/2000\n",
            "1/1 [==============================] - 0s 5ms/step - loss: 6.1500 - mae: 6.1500\n",
            "Epoch 232/2000\n",
            "1/1 [==============================] - 0s 5ms/step - loss: 6.1444 - mae: 6.1444\n",
            "Epoch 233/2000\n",
            "1/1 [==============================] - 0s 8ms/step - loss: 6.1387 - mae: 6.1387\n",
            "Epoch 234/2000\n",
            "1/1 [==============================] - 0s 6ms/step - loss: 6.1331 - mae: 6.1331\n",
            "Epoch 235/2000\n",
            "1/1 [==============================] - 0s 16ms/step - loss: 6.1275 - mae: 6.1275\n",
            "Epoch 236/2000\n",
            "1/1 [==============================] - 0s 12ms/step - loss: 6.1219 - mae: 6.1219\n",
            "Epoch 237/2000\n",
            "1/1 [==============================] - 0s 26ms/step - loss: 6.1162 - mae: 6.1162\n",
            "Epoch 238/2000\n",
            "1/1 [==============================] - 0s 6ms/step - loss: 6.1106 - mae: 6.1106\n",
            "Epoch 239/2000\n",
            "1/1 [==============================] - 0s 8ms/step - loss: 6.1050 - mae: 6.1050\n",
            "Epoch 240/2000\n",
            "1/1 [==============================] - 0s 8ms/step - loss: 6.0994 - mae: 6.0994\n",
            "Epoch 241/2000\n",
            "1/1 [==============================] - 0s 8ms/step - loss: 6.0937 - mae: 6.0937\n",
            "Epoch 242/2000\n",
            "1/1 [==============================] - 0s 7ms/step - loss: 6.0881 - mae: 6.0881\n",
            "Epoch 243/2000\n",
            "1/1 [==============================] - 0s 9ms/step - loss: 6.0825 - mae: 6.0825\n",
            "Epoch 244/2000\n",
            "1/1 [==============================] - 0s 7ms/step - loss: 6.0769 - mae: 6.0769\n",
            "Epoch 245/2000\n",
            "1/1 [==============================] - 0s 6ms/step - loss: 6.0712 - mae: 6.0712\n",
            "Epoch 246/2000\n",
            "1/1 [==============================] - 0s 8ms/step - loss: 6.0656 - mae: 6.0656\n",
            "Epoch 247/2000\n",
            "1/1 [==============================] - 0s 9ms/step - loss: 6.0600 - mae: 6.0600\n",
            "Epoch 248/2000\n",
            "1/1 [==============================] - 0s 6ms/step - loss: 6.0544 - mae: 6.0544\n",
            "Epoch 249/2000\n",
            "1/1 [==============================] - 0s 8ms/step - loss: 6.0487 - mae: 6.0487\n",
            "Epoch 250/2000\n",
            "1/1 [==============================] - 0s 7ms/step - loss: 6.0431 - mae: 6.0431\n",
            "Epoch 251/2000\n",
            "1/1 [==============================] - 0s 10ms/step - loss: 6.0375 - mae: 6.0375\n",
            "Epoch 252/2000\n",
            "1/1 [==============================] - 0s 7ms/step - loss: 6.0319 - mae: 6.0319\n",
            "Epoch 253/2000\n",
            "1/1 [==============================] - 0s 16ms/step - loss: 6.0262 - mae: 6.0262\n",
            "Epoch 254/2000\n",
            "1/1 [==============================] - 0s 12ms/step - loss: 6.0206 - mae: 6.0206\n",
            "Epoch 255/2000\n",
            "1/1 [==============================] - 0s 17ms/step - loss: 6.0150 - mae: 6.0150\n",
            "Epoch 256/2000\n",
            "1/1 [==============================] - 0s 8ms/step - loss: 6.0094 - mae: 6.0094\n",
            "Epoch 257/2000\n",
            "1/1 [==============================] - 0s 111ms/step - loss: 6.0037 - mae: 6.0037\n",
            "Epoch 258/2000\n",
            "1/1 [==============================] - 0s 88ms/step - loss: 5.9981 - mae: 5.9981\n",
            "Epoch 259/2000\n",
            "1/1 [==============================] - 0s 14ms/step - loss: 5.9925 - mae: 5.9925\n",
            "Epoch 260/2000\n",
            "1/1 [==============================] - 0s 11ms/step - loss: 5.9869 - mae: 5.9869\n",
            "Epoch 261/2000\n",
            "1/1 [==============================] - 0s 7ms/step - loss: 5.9812 - mae: 5.9812\n",
            "Epoch 262/2000\n",
            "1/1 [==============================] - 0s 29ms/step - loss: 5.9756 - mae: 5.9756\n",
            "Epoch 263/2000\n",
            "1/1 [==============================] - 0s 8ms/step - loss: 5.9700 - mae: 5.9700\n",
            "Epoch 264/2000\n",
            "1/1 [==============================] - 0s 5ms/step - loss: 5.9644 - mae: 5.9644\n",
            "Epoch 265/2000\n",
            "1/1 [==============================] - 0s 16ms/step - loss: 5.9587 - mae: 5.9587\n",
            "Epoch 266/2000\n",
            "1/1 [==============================] - 0s 8ms/step - loss: 5.9531 - mae: 5.9531\n",
            "Epoch 267/2000\n",
            "1/1 [==============================] - 0s 13ms/step - loss: 5.9475 - mae: 5.9475\n",
            "Epoch 268/2000\n",
            "1/1 [==============================] - 0s 18ms/step - loss: 5.9419 - mae: 5.9419\n",
            "Epoch 269/2000\n",
            "1/1 [==============================] - 0s 11ms/step - loss: 5.9362 - mae: 5.9362\n",
            "Epoch 270/2000\n",
            "1/1 [==============================] - 0s 7ms/step - loss: 5.9306 - mae: 5.9306\n",
            "Epoch 271/2000\n",
            "1/1 [==============================] - 0s 5ms/step - loss: 5.9250 - mae: 5.9250\n",
            "Epoch 272/2000\n",
            "1/1 [==============================] - 0s 6ms/step - loss: 5.9194 - mae: 5.9194\n",
            "Epoch 273/2000\n",
            "1/1 [==============================] - 0s 5ms/step - loss: 5.9137 - mae: 5.9137\n",
            "Epoch 274/2000\n",
            "1/1 [==============================] - 0s 4ms/step - loss: 5.9081 - mae: 5.9081\n",
            "Epoch 275/2000\n",
            "1/1 [==============================] - 0s 5ms/step - loss: 5.9025 - mae: 5.9025\n",
            "Epoch 276/2000\n",
            "1/1 [==============================] - 0s 4ms/step - loss: 5.8969 - mae: 5.8969\n",
            "Epoch 277/2000\n",
            "1/1 [==============================] - 0s 5ms/step - loss: 5.8912 - mae: 5.8912\n",
            "Epoch 278/2000\n",
            "1/1 [==============================] - 0s 4ms/step - loss: 5.8856 - mae: 5.8856\n",
            "Epoch 279/2000\n",
            "1/1 [==============================] - 0s 5ms/step - loss: 5.8800 - mae: 5.8800\n",
            "Epoch 280/2000\n",
            "1/1 [==============================] - 0s 10ms/step - loss: 5.8744 - mae: 5.8744\n",
            "Epoch 281/2000\n",
            "1/1 [==============================] - 0s 29ms/step - loss: 5.8687 - mae: 5.8687\n",
            "Epoch 282/2000\n",
            "1/1 [==============================] - 0s 10ms/step - loss: 5.8631 - mae: 5.8631\n",
            "Epoch 283/2000\n",
            "1/1 [==============================] - 0s 19ms/step - loss: 5.8575 - mae: 5.8575\n",
            "Epoch 284/2000\n",
            "1/1 [==============================] - 0s 10ms/step - loss: 5.8519 - mae: 5.8519\n",
            "Epoch 285/2000\n",
            "1/1 [==============================] - 0s 35ms/step - loss: 5.8462 - mae: 5.8462\n",
            "Epoch 286/2000\n",
            "1/1 [==============================] - 0s 31ms/step - loss: 5.8406 - mae: 5.8406\n",
            "Epoch 287/2000\n",
            "1/1 [==============================] - 0s 13ms/step - loss: 5.8350 - mae: 5.8350\n",
            "Epoch 288/2000\n",
            "1/1 [==============================] - 0s 12ms/step - loss: 5.8294 - mae: 5.8294\n",
            "Epoch 289/2000\n",
            "1/1 [==============================] - 0s 15ms/step - loss: 5.8237 - mae: 5.8237\n",
            "Epoch 290/2000\n",
            "1/1 [==============================] - 0s 11ms/step - loss: 5.8181 - mae: 5.8181\n",
            "Epoch 291/2000\n",
            "1/1 [==============================] - 0s 11ms/step - loss: 5.8125 - mae: 5.8125\n",
            "Epoch 292/2000\n",
            "1/1 [==============================] - 0s 20ms/step - loss: 5.8069 - mae: 5.8069\n",
            "Epoch 293/2000\n",
            "1/1 [==============================] - 0s 12ms/step - loss: 5.8012 - mae: 5.8012\n",
            "Epoch 294/2000\n",
            "1/1 [==============================] - 0s 10ms/step - loss: 5.7956 - mae: 5.7956\n",
            "Epoch 295/2000\n",
            "1/1 [==============================] - 0s 7ms/step - loss: 5.7900 - mae: 5.7900\n",
            "Epoch 296/2000\n",
            "1/1 [==============================] - 0s 14ms/step - loss: 5.7844 - mae: 5.7844\n",
            "Epoch 297/2000\n",
            "1/1 [==============================] - 0s 15ms/step - loss: 5.7799 - mae: 5.7799\n",
            "Epoch 298/2000\n",
            "1/1 [==============================] - 0s 14ms/step - loss: 5.7750 - mae: 5.7750\n",
            "Epoch 299/2000\n",
            "1/1 [==============================] - 0s 8ms/step - loss: 5.7694 - mae: 5.7694\n",
            "Epoch 300/2000\n",
            "1/1 [==============================] - 0s 16ms/step - loss: 5.7637 - mae: 5.7637\n",
            "Epoch 301/2000\n",
            "1/1 [==============================] - 0s 10ms/step - loss: 5.7581 - mae: 5.7581\n",
            "Epoch 302/2000\n",
            "1/1 [==============================] - 0s 8ms/step - loss: 5.7525 - mae: 5.7525\n",
            "Epoch 303/2000\n",
            "1/1 [==============================] - 0s 8ms/step - loss: 5.7469 - mae: 5.7469\n",
            "Epoch 304/2000\n",
            "1/1 [==============================] - 0s 5ms/step - loss: 5.7412 - mae: 5.7412\n",
            "Epoch 305/2000\n",
            "1/1 [==============================] - 0s 5ms/step - loss: 5.7356 - mae: 5.7356\n",
            "Epoch 306/2000\n",
            "1/1 [==============================] - 0s 12ms/step - loss: 5.7300 - mae: 5.7300\n",
            "Epoch 307/2000\n",
            "1/1 [==============================] - 0s 10ms/step - loss: 5.7244 - mae: 5.7244\n",
            "Epoch 308/2000\n",
            "1/1 [==============================] - 0s 32ms/step - loss: 5.7187 - mae: 5.7187\n",
            "Epoch 309/2000\n",
            "1/1 [==============================] - 0s 16ms/step - loss: 5.7131 - mae: 5.7131\n",
            "Epoch 310/2000\n",
            "1/1 [==============================] - 0s 10ms/step - loss: 5.7075 - mae: 5.7075\n",
            "Epoch 311/2000\n",
            "1/1 [==============================] - 0s 25ms/step - loss: 5.7019 - mae: 5.7019\n",
            "Epoch 312/2000\n",
            "1/1 [==============================] - 0s 9ms/step - loss: 5.6962 - mae: 5.6962\n",
            "Epoch 313/2000\n",
            "1/1 [==============================] - 0s 8ms/step - loss: 5.6906 - mae: 5.6906\n",
            "Epoch 314/2000\n",
            "1/1 [==============================] - 0s 14ms/step - loss: 5.6850 - mae: 5.6850\n",
            "Epoch 315/2000\n",
            "1/1 [==============================] - 0s 24ms/step - loss: 5.6794 - mae: 5.6794\n",
            "Epoch 316/2000\n",
            "1/1 [==============================] - 0s 40ms/step - loss: 5.6737 - mae: 5.6737\n",
            "Epoch 317/2000\n",
            "1/1 [==============================] - 0s 30ms/step - loss: 5.6681 - mae: 5.6681\n",
            "Epoch 318/2000\n",
            "1/1 [==============================] - 0s 31ms/step - loss: 5.6625 - mae: 5.6625\n",
            "Epoch 319/2000\n",
            "1/1 [==============================] - 0s 37ms/step - loss: 5.6569 - mae: 5.6569\n",
            "Epoch 320/2000\n",
            "1/1 [==============================] - 0s 24ms/step - loss: 5.6512 - mae: 5.6512\n",
            "Epoch 321/2000\n",
            "1/1 [==============================] - 0s 23ms/step - loss: 5.6456 - mae: 5.6456\n",
            "Epoch 322/2000\n",
            "1/1 [==============================] - 0s 11ms/step - loss: 5.6400 - mae: 5.6400\n",
            "Epoch 323/2000\n",
            "1/1 [==============================] - 0s 5ms/step - loss: 5.6344 - mae: 5.6344\n",
            "Epoch 324/2000\n",
            "1/1 [==============================] - 0s 13ms/step - loss: 5.6287 - mae: 5.6287\n",
            "Epoch 325/2000\n",
            "1/1 [==============================] - 0s 14ms/step - loss: 5.6231 - mae: 5.6231\n",
            "Epoch 326/2000\n",
            "1/1 [==============================] - 0s 24ms/step - loss: 5.6175 - mae: 5.6175\n",
            "Epoch 327/2000\n",
            "1/1 [==============================] - 0s 7ms/step - loss: 5.6119 - mae: 5.6119\n",
            "Epoch 328/2000\n",
            "1/1 [==============================] - 0s 10ms/step - loss: 5.6062 - mae: 5.6062\n",
            "Epoch 329/2000\n",
            "1/1 [==============================] - 0s 18ms/step - loss: 5.6006 - mae: 5.6006\n",
            "Epoch 330/2000\n",
            "1/1 [==============================] - 0s 19ms/step - loss: 5.5950 - mae: 5.5950\n",
            "Epoch 331/2000\n",
            "1/1 [==============================] - 0s 11ms/step - loss: 5.5894 - mae: 5.5894\n",
            "Epoch 332/2000\n",
            "1/1 [==============================] - 0s 10ms/step - loss: 5.5837 - mae: 5.5837\n",
            "Epoch 333/2000\n",
            "1/1 [==============================] - 0s 8ms/step - loss: 5.5781 - mae: 5.5781\n",
            "Epoch 334/2000\n",
            "1/1 [==============================] - 0s 15ms/step - loss: 5.5725 - mae: 5.5725\n",
            "Epoch 335/2000\n",
            "1/1 [==============================] - 0s 11ms/step - loss: 5.5669 - mae: 5.5669\n",
            "Epoch 336/2000\n",
            "1/1 [==============================] - 0s 12ms/step - loss: 5.5612 - mae: 5.5612\n",
            "Epoch 337/2000\n",
            "1/1 [==============================] - 0s 19ms/step - loss: 5.5556 - mae: 5.5556\n",
            "Epoch 338/2000\n",
            "1/1 [==============================] - 0s 13ms/step - loss: 5.5518 - mae: 5.5518\n",
            "Epoch 339/2000\n",
            "1/1 [==============================] - 0s 15ms/step - loss: 5.5462 - mae: 5.5462\n",
            "Epoch 340/2000\n",
            "1/1 [==============================] - 0s 14ms/step - loss: 5.5406 - mae: 5.5406\n",
            "Epoch 341/2000\n",
            "1/1 [==============================] - 0s 22ms/step - loss: 5.5350 - mae: 5.5350\n",
            "Epoch 342/2000\n",
            "1/1 [==============================] - 0s 20ms/step - loss: 5.5294 - mae: 5.5294\n",
            "Epoch 343/2000\n",
            "1/1 [==============================] - 0s 14ms/step - loss: 5.5237 - mae: 5.5237\n",
            "Epoch 344/2000\n",
            "1/1 [==============================] - 0s 6ms/step - loss: 5.5181 - mae: 5.5181\n",
            "Epoch 345/2000\n",
            "1/1 [==============================] - 0s 8ms/step - loss: 5.5125 - mae: 5.5125\n",
            "Epoch 346/2000\n",
            "1/1 [==============================] - 0s 8ms/step - loss: 5.5069 - mae: 5.5069\n",
            "Epoch 347/2000\n",
            "1/1 [==============================] - 0s 8ms/step - loss: 5.5012 - mae: 5.5012\n",
            "Epoch 348/2000\n",
            "1/1 [==============================] - 0s 8ms/step - loss: 5.4956 - mae: 5.4956\n",
            "Epoch 349/2000\n",
            "1/1 [==============================] - 0s 38ms/step - loss: 5.4900 - mae: 5.4900\n",
            "Epoch 350/2000\n",
            "1/1 [==============================] - 0s 17ms/step - loss: 5.4844 - mae: 5.4844\n",
            "Epoch 351/2000\n",
            "1/1 [==============================] - 0s 12ms/step - loss: 5.4787 - mae: 5.4787\n",
            "Epoch 352/2000\n",
            "1/1 [==============================] - 0s 8ms/step - loss: 5.4731 - mae: 5.4731\n",
            "Epoch 353/2000\n",
            "1/1 [==============================] - 0s 13ms/step - loss: 5.4675 - mae: 5.4675\n",
            "Epoch 354/2000\n",
            "1/1 [==============================] - 0s 9ms/step - loss: 5.4619 - mae: 5.4619\n",
            "Epoch 355/2000\n",
            "1/1 [==============================] - 0s 7ms/step - loss: 5.4562 - mae: 5.4562\n",
            "Epoch 356/2000\n",
            "1/1 [==============================] - 0s 8ms/step - loss: 5.4506 - mae: 5.4506\n",
            "Epoch 357/2000\n",
            "1/1 [==============================] - 0s 7ms/step - loss: 5.4450 - mae: 5.4450\n",
            "Epoch 358/2000\n",
            "1/1 [==============================] - 0s 9ms/step - loss: 5.4394 - mae: 5.4394\n",
            "Epoch 359/2000\n",
            "1/1 [==============================] - 0s 6ms/step - loss: 5.4337 - mae: 5.4337\n",
            "Epoch 360/2000\n",
            "1/1 [==============================] - 0s 4ms/step - loss: 5.4281 - mae: 5.4281\n",
            "Epoch 361/2000\n",
            "1/1 [==============================] - 0s 4ms/step - loss: 5.4225 - mae: 5.4225\n",
            "Epoch 362/2000\n",
            "1/1 [==============================] - 0s 4ms/step - loss: 5.4169 - mae: 5.4169\n",
            "Epoch 363/2000\n",
            "1/1 [==============================] - 0s 5ms/step - loss: 5.4113 - mae: 5.4113\n",
            "Epoch 364/2000\n",
            "1/1 [==============================] - 0s 11ms/step - loss: 5.4056 - mae: 5.4056\n",
            "Epoch 365/2000\n",
            "1/1 [==============================] - 0s 8ms/step - loss: 5.4000 - mae: 5.4000\n",
            "Epoch 366/2000\n",
            "1/1 [==============================] - 0s 4ms/step - loss: 5.3944 - mae: 5.3944\n",
            "Epoch 367/2000\n",
            "1/1 [==============================] - 0s 4ms/step - loss: 5.3888 - mae: 5.3888\n",
            "Epoch 368/2000\n",
            "1/1 [==============================] - 0s 4ms/step - loss: 5.3831 - mae: 5.3831\n",
            "Epoch 369/2000\n",
            "1/1 [==============================] - 0s 4ms/step - loss: 5.3775 - mae: 5.3775\n",
            "Epoch 370/2000\n",
            "1/1 [==============================] - 0s 4ms/step - loss: 5.3719 - mae: 5.3719\n",
            "Epoch 371/2000\n",
            "1/1 [==============================] - 0s 8ms/step - loss: 5.3663 - mae: 5.3663\n",
            "Epoch 372/2000\n",
            "1/1 [==============================] - 0s 10ms/step - loss: 5.3606 - mae: 5.3606\n",
            "Epoch 373/2000\n",
            "1/1 [==============================] - 0s 9ms/step - loss: 5.3550 - mae: 5.3550\n",
            "Epoch 374/2000\n",
            "1/1 [==============================] - 0s 6ms/step - loss: 5.3494 - mae: 5.3494\n",
            "Epoch 375/2000\n",
            "1/1 [==============================] - 0s 5ms/step - loss: 5.3438 - mae: 5.3438\n",
            "Epoch 376/2000\n",
            "1/1 [==============================] - 0s 7ms/step - loss: 5.3381 - mae: 5.3381\n",
            "Epoch 377/2000\n",
            "1/1 [==============================] - 0s 16ms/step - loss: 5.3325 - mae: 5.3325\n",
            "Epoch 378/2000\n",
            "1/1 [==============================] - 0s 9ms/step - loss: 5.3274 - mae: 5.3274\n",
            "Epoch 379/2000\n",
            "1/1 [==============================] - 0s 6ms/step - loss: 5.3231 - mae: 5.3231\n",
            "Epoch 380/2000\n",
            "1/1 [==============================] - 0s 4ms/step - loss: 5.3175 - mae: 5.3175\n",
            "Epoch 381/2000\n",
            "1/1 [==============================] - 0s 4ms/step - loss: 5.3119 - mae: 5.3119\n",
            "Epoch 382/2000\n",
            "1/1 [==============================] - 0s 5ms/step - loss: 5.3063 - mae: 5.3063\n",
            "Epoch 383/2000\n",
            "1/1 [==============================] - 0s 4ms/step - loss: 5.3006 - mae: 5.3006\n",
            "Epoch 384/2000\n",
            "1/1 [==============================] - 0s 8ms/step - loss: 5.2950 - mae: 5.2950\n",
            "Epoch 385/2000\n",
            "1/1 [==============================] - 0s 8ms/step - loss: 5.2894 - mae: 5.2894\n",
            "Epoch 386/2000\n",
            "1/1 [==============================] - 0s 9ms/step - loss: 5.2838 - mae: 5.2838\n",
            "Epoch 387/2000\n",
            "1/1 [==============================] - 0s 9ms/step - loss: 5.2781 - mae: 5.2781\n",
            "Epoch 388/2000\n",
            "1/1 [==============================] - 0s 8ms/step - loss: 5.2725 - mae: 5.2725\n",
            "Epoch 389/2000\n",
            "1/1 [==============================] - 0s 8ms/step - loss: 5.2669 - mae: 5.2669\n",
            "Epoch 390/2000\n",
            "1/1 [==============================] - 0s 9ms/step - loss: 5.2613 - mae: 5.2613\n",
            "Epoch 391/2000\n",
            "1/1 [==============================] - 0s 8ms/step - loss: 5.2556 - mae: 5.2556\n",
            "Epoch 392/2000\n",
            "1/1 [==============================] - 0s 7ms/step - loss: 5.2500 - mae: 5.2500\n",
            "Epoch 393/2000\n",
            "1/1 [==============================] - 0s 16ms/step - loss: 5.2444 - mae: 5.2444\n",
            "Epoch 394/2000\n",
            "1/1 [==============================] - 0s 14ms/step - loss: 5.2388 - mae: 5.2388\n",
            "Epoch 395/2000\n",
            "1/1 [==============================] - 0s 8ms/step - loss: 5.2331 - mae: 5.2331\n",
            "Epoch 396/2000\n",
            "1/1 [==============================] - 0s 7ms/step - loss: 5.2275 - mae: 5.2275\n",
            "Epoch 397/2000\n",
            "1/1 [==============================] - 0s 7ms/step - loss: 5.2219 - mae: 5.2219\n",
            "Epoch 398/2000\n",
            "1/1 [==============================] - 0s 12ms/step - loss: 5.2163 - mae: 5.2163\n",
            "Epoch 399/2000\n",
            "1/1 [==============================] - 0s 7ms/step - loss: 5.2106 - mae: 5.2106\n",
            "Epoch 400/2000\n",
            "1/1 [==============================] - 0s 9ms/step - loss: 5.2050 - mae: 5.2050\n",
            "Epoch 401/2000\n",
            "1/1 [==============================] - 0s 6ms/step - loss: 5.1994 - mae: 5.1994\n",
            "Epoch 402/2000\n",
            "1/1 [==============================] - 0s 9ms/step - loss: 5.1938 - mae: 5.1938\n",
            "Epoch 403/2000\n",
            "1/1 [==============================] - 0s 10ms/step - loss: 5.1881 - mae: 5.1881\n",
            "Epoch 404/2000\n",
            "1/1 [==============================] - 0s 9ms/step - loss: 5.1825 - mae: 5.1825\n",
            "Epoch 405/2000\n",
            "1/1 [==============================] - 0s 8ms/step - loss: 5.1769 - mae: 5.1769\n",
            "Epoch 406/2000\n",
            "1/1 [==============================] - 0s 8ms/step - loss: 5.1713 - mae: 5.1713\n",
            "Epoch 407/2000\n",
            "1/1 [==============================] - 0s 11ms/step - loss: 5.1656 - mae: 5.1656\n",
            "Epoch 408/2000\n",
            "1/1 [==============================] - 0s 15ms/step - loss: 5.1600 - mae: 5.1600\n",
            "Epoch 409/2000\n",
            "1/1 [==============================] - 0s 11ms/step - loss: 5.1544 - mae: 5.1544\n",
            "Epoch 410/2000\n",
            "1/1 [==============================] - 0s 9ms/step - loss: 5.1488 - mae: 5.1488\n",
            "Epoch 411/2000\n",
            "1/1 [==============================] - 0s 11ms/step - loss: 5.1431 - mae: 5.1431\n",
            "Epoch 412/2000\n",
            "1/1 [==============================] - 0s 36ms/step - loss: 5.1375 - mae: 5.1375\n",
            "Epoch 413/2000\n",
            "1/1 [==============================] - 0s 43ms/step - loss: 5.1319 - mae: 5.1319\n",
            "Epoch 414/2000\n",
            "1/1 [==============================] - 0s 13ms/step - loss: 5.1263 - mae: 5.1263\n",
            "Epoch 415/2000\n",
            "1/1 [==============================] - 0s 27ms/step - loss: 5.1206 - mae: 5.1206\n",
            "Epoch 416/2000\n",
            "1/1 [==============================] - 0s 9ms/step - loss: 5.1150 - mae: 5.1150\n",
            "Epoch 417/2000\n",
            "1/1 [==============================] - 0s 34ms/step - loss: 5.1094 - mae: 5.1094\n",
            "Epoch 418/2000\n",
            "1/1 [==============================] - 0s 19ms/step - loss: 5.1038 - mae: 5.1038\n",
            "Epoch 419/2000\n",
            "1/1 [==============================] - 0s 23ms/step - loss: 5.0993 - mae: 5.0993\n",
            "Epoch 420/2000\n",
            "1/1 [==============================] - 0s 21ms/step - loss: 5.0944 - mae: 5.0944\n",
            "Epoch 421/2000\n",
            "1/1 [==============================] - 0s 15ms/step - loss: 5.0888 - mae: 5.0888\n",
            "Epoch 422/2000\n",
            "1/1 [==============================] - 0s 5ms/step - loss: 5.0831 - mae: 5.0831\n",
            "Epoch 423/2000\n",
            "1/1 [==============================] - 0s 6ms/step - loss: 5.0775 - mae: 5.0775\n",
            "Epoch 424/2000\n",
            "1/1 [==============================] - 0s 4ms/step - loss: 5.0719 - mae: 5.0719\n",
            "Epoch 425/2000\n",
            "1/1 [==============================] - 0s 8ms/step - loss: 5.0663 - mae: 5.0663\n",
            "Epoch 426/2000\n",
            "1/1 [==============================] - 0s 8ms/step - loss: 5.0606 - mae: 5.0606\n",
            "Epoch 427/2000\n",
            "1/1 [==============================] - 0s 11ms/step - loss: 5.0550 - mae: 5.0550\n",
            "Epoch 428/2000\n",
            "1/1 [==============================] - 0s 4ms/step - loss: 5.0494 - mae: 5.0494\n",
            "Epoch 429/2000\n",
            "1/1 [==============================] - 0s 4ms/step - loss: 5.0438 - mae: 5.0438\n",
            "Epoch 430/2000\n",
            "1/1 [==============================] - 0s 5ms/step - loss: 5.0381 - mae: 5.0381\n",
            "Epoch 431/2000\n",
            "1/1 [==============================] - 0s 7ms/step - loss: 5.0325 - mae: 5.0325\n",
            "Epoch 432/2000\n",
            "1/1 [==============================] - 0s 5ms/step - loss: 5.0269 - mae: 5.0269\n",
            "Epoch 433/2000\n",
            "1/1 [==============================] - 0s 4ms/step - loss: 5.0213 - mae: 5.0213\n",
            "Epoch 434/2000\n",
            "1/1 [==============================] - 0s 5ms/step - loss: 5.0156 - mae: 5.0156\n",
            "Epoch 435/2000\n",
            "1/1 [==============================] - 0s 5ms/step - loss: 5.0100 - mae: 5.0100\n",
            "Epoch 436/2000\n",
            "1/1 [==============================] - 0s 11ms/step - loss: 5.0044 - mae: 5.0044\n",
            "Epoch 437/2000\n",
            "1/1 [==============================] - 0s 11ms/step - loss: 4.9988 - mae: 4.9988\n",
            "Epoch 438/2000\n",
            "1/1 [==============================] - 0s 8ms/step - loss: 4.9931 - mae: 4.9931\n",
            "Epoch 439/2000\n",
            "1/1 [==============================] - 0s 37ms/step - loss: 4.9875 - mae: 4.9875\n",
            "Epoch 440/2000\n",
            "1/1 [==============================] - 0s 27ms/step - loss: 4.9819 - mae: 4.9819\n",
            "Epoch 441/2000\n",
            "1/1 [==============================] - 0s 8ms/step - loss: 4.9763 - mae: 4.9763\n",
            "Epoch 442/2000\n",
            "1/1 [==============================] - 0s 6ms/step - loss: 4.9706 - mae: 4.9706\n",
            "Epoch 443/2000\n",
            "1/1 [==============================] - 0s 8ms/step - loss: 4.9650 - mae: 4.9650\n",
            "Epoch 444/2000\n",
            "1/1 [==============================] - 0s 6ms/step - loss: 4.9594 - mae: 4.9594\n",
            "Epoch 445/2000\n",
            "1/1 [==============================] - 0s 5ms/step - loss: 4.9538 - mae: 4.9538\n",
            "Epoch 446/2000\n",
            "1/1 [==============================] - 0s 4ms/step - loss: 4.9481 - mae: 4.9481\n",
            "Epoch 447/2000\n",
            "1/1 [==============================] - 0s 9ms/step - loss: 4.9425 - mae: 4.9425\n",
            "Epoch 448/2000\n",
            "1/1 [==============================] - 0s 8ms/step - loss: 4.9369 - mae: 4.9369\n",
            "Epoch 449/2000\n",
            "1/1 [==============================] - 0s 8ms/step - loss: 4.9313 - mae: 4.9313\n",
            "Epoch 450/2000\n",
            "1/1 [==============================] - 0s 10ms/step - loss: 4.9256 - mae: 4.9256\n",
            "Epoch 451/2000\n",
            "1/1 [==============================] - 0s 12ms/step - loss: 4.9200 - mae: 4.9200\n",
            "Epoch 452/2000\n",
            "1/1 [==============================] - 0s 37ms/step - loss: 4.9144 - mae: 4.9144\n",
            "Epoch 453/2000\n",
            "1/1 [==============================] - 0s 33ms/step - loss: 4.9088 - mae: 4.9088\n",
            "Epoch 454/2000\n",
            "1/1 [==============================] - 0s 16ms/step - loss: 4.9031 - mae: 4.9031\n",
            "Epoch 455/2000\n",
            "1/1 [==============================] - 0s 15ms/step - loss: 4.8975 - mae: 4.8975\n",
            "Epoch 456/2000\n",
            "1/1 [==============================] - 0s 12ms/step - loss: 4.8919 - mae: 4.8919\n",
            "Epoch 457/2000\n",
            "1/1 [==============================] - 0s 10ms/step - loss: 4.8863 - mae: 4.8863\n",
            "Epoch 458/2000\n",
            "1/1 [==============================] - 0s 8ms/step - loss: 4.8806 - mae: 4.8806\n",
            "Epoch 459/2000\n",
            "1/1 [==============================] - 0s 10ms/step - loss: 4.8750 - mae: 4.8750\n",
            "Epoch 460/2000\n",
            "1/1 [==============================] - 0s 12ms/step - loss: 4.8712 - mae: 4.8712\n",
            "Epoch 461/2000\n",
            "1/1 [==============================] - 0s 49ms/step - loss: 4.8656 - mae: 4.8656\n",
            "Epoch 462/2000\n",
            "1/1 [==============================] - 0s 44ms/step - loss: 4.8600 - mae: 4.8600\n",
            "Epoch 463/2000\n",
            "1/1 [==============================] - 0s 23ms/step - loss: 4.8544 - mae: 4.8544\n",
            "Epoch 464/2000\n",
            "1/1 [==============================] - 0s 68ms/step - loss: 4.8488 - mae: 4.8488\n",
            "Epoch 465/2000\n",
            "1/1 [==============================] - 0s 18ms/step - loss: 4.8431 - mae: 4.8431\n",
            "Epoch 466/2000\n",
            "1/1 [==============================] - 0s 11ms/step - loss: 4.8375 - mae: 4.8375\n",
            "Epoch 467/2000\n",
            "1/1 [==============================] - 0s 8ms/step - loss: 4.8319 - mae: 4.8319\n",
            "Epoch 468/2000\n",
            "1/1 [==============================] - 0s 5ms/step - loss: 4.8263 - mae: 4.8263\n",
            "Epoch 469/2000\n",
            "1/1 [==============================] - 0s 26ms/step - loss: 4.8206 - mae: 4.8206\n",
            "Epoch 470/2000\n",
            "1/1 [==============================] - 0s 8ms/step - loss: 4.8150 - mae: 4.8150\n",
            "Epoch 471/2000\n",
            "1/1 [==============================] - 0s 12ms/step - loss: 4.8094 - mae: 4.8094\n",
            "Epoch 472/2000\n",
            "1/1 [==============================] - 0s 12ms/step - loss: 4.8038 - mae: 4.8038\n",
            "Epoch 473/2000\n",
            "1/1 [==============================] - 0s 8ms/step - loss: 4.7981 - mae: 4.7981\n",
            "Epoch 474/2000\n",
            "1/1 [==============================] - 0s 10ms/step - loss: 4.7925 - mae: 4.7925\n",
            "Epoch 475/2000\n",
            "1/1 [==============================] - 0s 11ms/step - loss: 4.7869 - mae: 4.7869\n",
            "Epoch 476/2000\n",
            "1/1 [==============================] - 0s 11ms/step - loss: 4.7813 - mae: 4.7813\n",
            "Epoch 477/2000\n",
            "1/1 [==============================] - 0s 14ms/step - loss: 4.7756 - mae: 4.7756\n",
            "Epoch 478/2000\n",
            "1/1 [==============================] - 0s 7ms/step - loss: 4.7700 - mae: 4.7700\n",
            "Epoch 479/2000\n",
            "1/1 [==============================] - 0s 7ms/step - loss: 4.7644 - mae: 4.7644\n",
            "Epoch 480/2000\n",
            "1/1 [==============================] - 0s 16ms/step - loss: 4.7588 - mae: 4.7588\n",
            "Epoch 481/2000\n",
            "1/1 [==============================] - 0s 19ms/step - loss: 4.7531 - mae: 4.7531\n",
            "Epoch 482/2000\n",
            "1/1 [==============================] - 0s 23ms/step - loss: 4.7475 - mae: 4.7475\n",
            "Epoch 483/2000\n",
            "1/1 [==============================] - 0s 12ms/step - loss: 4.7419 - mae: 4.7419\n",
            "Epoch 484/2000\n",
            "1/1 [==============================] - 0s 9ms/step - loss: 4.7363 - mae: 4.7363\n",
            "Epoch 485/2000\n",
            "1/1 [==============================] - 0s 16ms/step - loss: 4.7306 - mae: 4.7306\n",
            "Epoch 486/2000\n",
            "1/1 [==============================] - 0s 69ms/step - loss: 4.7250 - mae: 4.7250\n",
            "Epoch 487/2000\n",
            "1/1 [==============================] - 0s 60ms/step - loss: 4.7194 - mae: 4.7194\n",
            "Epoch 488/2000\n",
            "1/1 [==============================] - 0s 25ms/step - loss: 4.7138 - mae: 4.7138\n",
            "Epoch 489/2000\n",
            "1/1 [==============================] - 0s 45ms/step - loss: 4.7081 - mae: 4.7081\n",
            "Epoch 490/2000\n",
            "1/1 [==============================] - 0s 28ms/step - loss: 4.7025 - mae: 4.7025\n",
            "Epoch 491/2000\n",
            "1/1 [==============================] - 0s 35ms/step - loss: 4.6969 - mae: 4.6969\n",
            "Epoch 492/2000\n",
            "1/1 [==============================] - 0s 17ms/step - loss: 4.6913 - mae: 4.6913\n",
            "Epoch 493/2000\n",
            "1/1 [==============================] - 0s 12ms/step - loss: 4.6856 - mae: 4.6856\n",
            "Epoch 494/2000\n",
            "1/1 [==============================] - 0s 9ms/step - loss: 4.6800 - mae: 4.6800\n",
            "Epoch 495/2000\n",
            "1/1 [==============================] - 0s 10ms/step - loss: 4.6744 - mae: 4.6744\n",
            "Epoch 496/2000\n",
            "1/1 [==============================] - 0s 9ms/step - loss: 4.6688 - mae: 4.6688\n",
            "Epoch 497/2000\n",
            "1/1 [==============================] - 0s 14ms/step - loss: 4.6631 - mae: 4.6631\n",
            "Epoch 498/2000\n",
            "1/1 [==============================] - 0s 8ms/step - loss: 4.6575 - mae: 4.6575\n",
            "Epoch 499/2000\n",
            "1/1 [==============================] - 0s 9ms/step - loss: 4.6519 - mae: 4.6519\n",
            "Epoch 500/2000\n",
            "1/1 [==============================] - 0s 9ms/step - loss: 4.6468 - mae: 4.6468\n",
            "Epoch 501/2000\n",
            "1/1 [==============================] - 0s 7ms/step - loss: 4.6425 - mae: 4.6425\n",
            "Epoch 502/2000\n",
            "1/1 [==============================] - 0s 11ms/step - loss: 4.6369 - mae: 4.6369\n",
            "Epoch 503/2000\n",
            "1/1 [==============================] - 0s 6ms/step - loss: 4.6313 - mae: 4.6313\n",
            "Epoch 504/2000\n",
            "1/1 [==============================] - 0s 6ms/step - loss: 4.6256 - mae: 4.6256\n",
            "Epoch 505/2000\n",
            "1/1 [==============================] - 0s 7ms/step - loss: 4.6200 - mae: 4.6200\n",
            "Epoch 506/2000\n",
            "1/1 [==============================] - 0s 5ms/step - loss: 4.6144 - mae: 4.6144\n",
            "Epoch 507/2000\n",
            "1/1 [==============================] - 0s 5ms/step - loss: 4.6088 - mae: 4.6088\n",
            "Epoch 508/2000\n",
            "1/1 [==============================] - 0s 8ms/step - loss: 4.6031 - mae: 4.6031\n",
            "Epoch 509/2000\n",
            "1/1 [==============================] - 0s 9ms/step - loss: 4.5975 - mae: 4.5975\n",
            "Epoch 510/2000\n",
            "1/1 [==============================] - 0s 15ms/step - loss: 4.5919 - mae: 4.5919\n",
            "Epoch 511/2000\n",
            "1/1 [==============================] - 0s 9ms/step - loss: 4.5863 - mae: 4.5863\n",
            "Epoch 512/2000\n",
            "1/1 [==============================] - 0s 16ms/step - loss: 4.5806 - mae: 4.5806\n",
            "Epoch 513/2000\n",
            "1/1 [==============================] - 0s 10ms/step - loss: 4.5750 - mae: 4.5750\n",
            "Epoch 514/2000\n",
            "1/1 [==============================] - 0s 10ms/step - loss: 4.5694 - mae: 4.5694\n",
            "Epoch 515/2000\n",
            "1/1 [==============================] - 0s 10ms/step - loss: 4.5638 - mae: 4.5638\n",
            "Epoch 516/2000\n",
            "1/1 [==============================] - 0s 20ms/step - loss: 4.5581 - mae: 4.5581\n",
            "Epoch 517/2000\n",
            "1/1 [==============================] - 0s 24ms/step - loss: 4.5525 - mae: 4.5525\n",
            "Epoch 518/2000\n",
            "1/1 [==============================] - 0s 29ms/step - loss: 4.5469 - mae: 4.5469\n",
            "Epoch 519/2000\n",
            "1/1 [==============================] - 0s 12ms/step - loss: 4.5413 - mae: 4.5413\n",
            "Epoch 520/2000\n",
            "1/1 [==============================] - 0s 16ms/step - loss: 4.5356 - mae: 4.5356\n",
            "Epoch 521/2000\n",
            "1/1 [==============================] - 0s 15ms/step - loss: 4.5300 - mae: 4.5300\n",
            "Epoch 522/2000\n",
            "1/1 [==============================] - 0s 23ms/step - loss: 4.5244 - mae: 4.5244\n",
            "Epoch 523/2000\n",
            "1/1 [==============================] - 0s 17ms/step - loss: 4.5188 - mae: 4.5188\n",
            "Epoch 524/2000\n",
            "1/1 [==============================] - 0s 40ms/step - loss: 4.5131 - mae: 4.5131\n",
            "Epoch 525/2000\n",
            "1/1 [==============================] - 0s 24ms/step - loss: 4.5075 - mae: 4.5075\n",
            "Epoch 526/2000\n",
            "1/1 [==============================] - 0s 38ms/step - loss: 4.5019 - mae: 4.5019\n",
            "Epoch 527/2000\n",
            "1/1 [==============================] - 0s 34ms/step - loss: 4.4963 - mae: 4.4963\n",
            "Epoch 528/2000\n",
            "1/1 [==============================] - 0s 25ms/step - loss: 4.4906 - mae: 4.4906\n",
            "Epoch 529/2000\n",
            "1/1 [==============================] - 0s 10ms/step - loss: 4.4850 - mae: 4.4850\n",
            "Epoch 530/2000\n",
            "1/1 [==============================] - 0s 36ms/step - loss: 4.4794 - mae: 4.4794\n",
            "Epoch 531/2000\n",
            "1/1 [==============================] - 0s 37ms/step - loss: 4.4738 - mae: 4.4738\n",
            "Epoch 532/2000\n",
            "1/1 [==============================] - 0s 33ms/step - loss: 4.4681 - mae: 4.4681\n",
            "Epoch 533/2000\n",
            "1/1 [==============================] - 0s 18ms/step - loss: 4.4625 - mae: 4.4625\n",
            "Epoch 534/2000\n",
            "1/1 [==============================] - 0s 33ms/step - loss: 4.4569 - mae: 4.4569\n",
            "Epoch 535/2000\n",
            "1/1 [==============================] - 0s 75ms/step - loss: 4.4513 - mae: 4.4513\n",
            "Epoch 536/2000\n",
            "1/1 [==============================] - 0s 21ms/step - loss: 4.4456 - mae: 4.4456\n",
            "Epoch 537/2000\n",
            "1/1 [==============================] - 0s 6ms/step - loss: 4.4400 - mae: 4.4400\n",
            "Epoch 538/2000\n",
            "1/1 [==============================] - 0s 8ms/step - loss: 4.4344 - mae: 4.4344\n",
            "Epoch 539/2000\n",
            "1/1 [==============================] - 0s 57ms/step - loss: 4.4288 - mae: 4.4288\n",
            "Epoch 540/2000\n",
            "1/1 [==============================] - 0s 12ms/step - loss: 4.4231 - mae: 4.4231\n",
            "Epoch 541/2000\n",
            "1/1 [==============================] - 0s 14ms/step - loss: 4.4187 - mae: 4.4187\n",
            "Epoch 542/2000\n",
            "1/1 [==============================] - 0s 21ms/step - loss: 4.4138 - mae: 4.4138\n",
            "Epoch 543/2000\n",
            "1/1 [==============================] - 0s 11ms/step - loss: 4.4081 - mae: 4.4081\n",
            "Epoch 544/2000\n",
            "1/1 [==============================] - 0s 10ms/step - loss: 4.4025 - mae: 4.4025\n",
            "Epoch 545/2000\n",
            "1/1 [==============================] - 0s 21ms/step - loss: 4.3969 - mae: 4.3969\n",
            "Epoch 546/2000\n",
            "1/1 [==============================] - 0s 10ms/step - loss: 4.3913 - mae: 4.3913\n",
            "Epoch 547/2000\n",
            "1/1 [==============================] - 0s 23ms/step - loss: 4.3856 - mae: 4.3856\n",
            "Epoch 548/2000\n",
            "1/1 [==============================] - 0s 22ms/step - loss: 4.3800 - mae: 4.3800\n",
            "Epoch 549/2000\n",
            "1/1 [==============================] - 0s 15ms/step - loss: 4.3744 - mae: 4.3744\n",
            "Epoch 550/2000\n",
            "1/1 [==============================] - 0s 11ms/step - loss: 4.3688 - mae: 4.3688\n",
            "Epoch 551/2000\n",
            "1/1 [==============================] - 0s 10ms/step - loss: 4.3631 - mae: 4.3631\n",
            "Epoch 552/2000\n",
            "1/1 [==============================] - 0s 12ms/step - loss: 4.3575 - mae: 4.3575\n",
            "Epoch 553/2000\n",
            "1/1 [==============================] - 0s 27ms/step - loss: 4.3519 - mae: 4.3519\n",
            "Epoch 554/2000\n",
            "1/1 [==============================] - 0s 11ms/step - loss: 4.3463 - mae: 4.3463\n",
            "Epoch 555/2000\n",
            "1/1 [==============================] - 0s 15ms/step - loss: 4.3406 - mae: 4.3406\n",
            "Epoch 556/2000\n",
            "1/1 [==============================] - 0s 11ms/step - loss: 4.3350 - mae: 4.3350\n",
            "Epoch 557/2000\n",
            "1/1 [==============================] - 0s 5ms/step - loss: 4.3294 - mae: 4.3294\n",
            "Epoch 558/2000\n",
            "1/1 [==============================] - 0s 5ms/step - loss: 4.3238 - mae: 4.3238\n",
            "Epoch 559/2000\n",
            "1/1 [==============================] - 0s 7ms/step - loss: 4.3181 - mae: 4.3181\n",
            "Epoch 560/2000\n",
            "1/1 [==============================] - 0s 19ms/step - loss: 4.3125 - mae: 4.3125\n",
            "Epoch 561/2000\n",
            "1/1 [==============================] - 0s 7ms/step - loss: 4.3069 - mae: 4.3069\n",
            "Epoch 562/2000\n",
            "1/1 [==============================] - 0s 5ms/step - loss: 4.3013 - mae: 4.3013\n",
            "Epoch 563/2000\n",
            "1/1 [==============================] - 0s 8ms/step - loss: 4.2956 - mae: 4.2956\n",
            "Epoch 564/2000\n",
            "1/1 [==============================] - 0s 7ms/step - loss: 4.2900 - mae: 4.2900\n",
            "Epoch 565/2000\n",
            "1/1 [==============================] - 0s 9ms/step - loss: 4.2844 - mae: 4.2844\n",
            "Epoch 566/2000\n",
            "1/1 [==============================] - 0s 8ms/step - loss: 4.2788 - mae: 4.2788\n",
            "Epoch 567/2000\n",
            "1/1 [==============================] - 0s 8ms/step - loss: 4.2731 - mae: 4.2731\n",
            "Epoch 568/2000\n",
            "1/1 [==============================] - 0s 7ms/step - loss: 4.2675 - mae: 4.2675\n",
            "Epoch 569/2000\n",
            "1/1 [==============================] - 0s 9ms/step - loss: 4.2619 - mae: 4.2619\n",
            "Epoch 570/2000\n",
            "1/1 [==============================] - 0s 16ms/step - loss: 4.2563 - mae: 4.2563\n",
            "Epoch 571/2000\n",
            "1/1 [==============================] - 0s 6ms/step - loss: 4.2506 - mae: 4.2506\n",
            "Epoch 572/2000\n",
            "1/1 [==============================] - 0s 8ms/step - loss: 4.2450 - mae: 4.2450\n",
            "Epoch 573/2000\n",
            "1/1 [==============================] - 0s 7ms/step - loss: 4.2394 - mae: 4.2394\n",
            "Epoch 574/2000\n",
            "1/1 [==============================] - 0s 4ms/step - loss: 4.2338 - mae: 4.2338\n",
            "Epoch 575/2000\n",
            "1/1 [==============================] - 0s 8ms/step - loss: 4.2281 - mae: 4.2281\n",
            "Epoch 576/2000\n",
            "1/1 [==============================] - 0s 10ms/step - loss: 4.2225 - mae: 4.2225\n",
            "Epoch 577/2000\n",
            "1/1 [==============================] - 0s 6ms/step - loss: 4.2169 - mae: 4.2169\n",
            "Epoch 578/2000\n",
            "1/1 [==============================] - 0s 8ms/step - loss: 4.2113 - mae: 4.2113\n",
            "Epoch 579/2000\n",
            "1/1 [==============================] - 0s 6ms/step - loss: 4.2056 - mae: 4.2056\n",
            "Epoch 580/2000\n",
            "1/1 [==============================] - 0s 21ms/step - loss: 4.2000 - mae: 4.2000\n",
            "Epoch 581/2000\n",
            "1/1 [==============================] - 0s 11ms/step - loss: 4.1944 - mae: 4.1944\n",
            "Epoch 582/2000\n",
            "1/1 [==============================] - 0s 6ms/step - loss: 4.1905 - mae: 4.1905\n",
            "Epoch 583/2000\n",
            "1/1 [==============================] - 0s 6ms/step - loss: 4.1850 - mae: 4.1850\n",
            "Epoch 584/2000\n",
            "1/1 [==============================] - 0s 8ms/step - loss: 4.1794 - mae: 4.1794\n",
            "Epoch 585/2000\n",
            "1/1 [==============================] - 0s 6ms/step - loss: 4.1738 - mae: 4.1738\n",
            "Epoch 586/2000\n",
            "1/1 [==============================] - 0s 16ms/step - loss: 4.1681 - mae: 4.1681\n",
            "Epoch 587/2000\n",
            "1/1 [==============================] - 0s 7ms/step - loss: 4.1625 - mae: 4.1625\n",
            "Epoch 588/2000\n",
            "1/1 [==============================] - 0s 14ms/step - loss: 4.1569 - mae: 4.1569\n",
            "Epoch 589/2000\n",
            "1/1 [==============================] - 0s 6ms/step - loss: 4.1512 - mae: 4.1512\n",
            "Epoch 590/2000\n",
            "1/1 [==============================] - 0s 8ms/step - loss: 4.1456 - mae: 4.1456\n",
            "Epoch 591/2000\n",
            "1/1 [==============================] - 0s 10ms/step - loss: 4.1400 - mae: 4.1400\n",
            "Epoch 592/2000\n",
            "1/1 [==============================] - 0s 6ms/step - loss: 4.1344 - mae: 4.1344\n",
            "Epoch 593/2000\n",
            "1/1 [==============================] - 0s 6ms/step - loss: 4.1287 - mae: 4.1287\n",
            "Epoch 594/2000\n",
            "1/1 [==============================] - 0s 11ms/step - loss: 4.1231 - mae: 4.1231\n",
            "Epoch 595/2000\n",
            "1/1 [==============================] - 0s 9ms/step - loss: 4.1175 - mae: 4.1175\n",
            "Epoch 596/2000\n",
            "1/1 [==============================] - 0s 6ms/step - loss: 4.1119 - mae: 4.1119\n",
            "Epoch 597/2000\n",
            "1/1 [==============================] - 0s 17ms/step - loss: 4.1062 - mae: 4.1062\n",
            "Epoch 598/2000\n",
            "1/1 [==============================] - 0s 25ms/step - loss: 4.1006 - mae: 4.1006\n",
            "Epoch 599/2000\n",
            "1/1 [==============================] - 0s 12ms/step - loss: 4.0950 - mae: 4.0950\n",
            "Epoch 600/2000\n",
            "1/1 [==============================] - 0s 10ms/step - loss: 4.0894 - mae: 4.0894\n",
            "Epoch 601/2000\n",
            "1/1 [==============================] - 0s 40ms/step - loss: 4.0837 - mae: 4.0837\n",
            "Epoch 602/2000\n",
            "1/1 [==============================] - 0s 17ms/step - loss: 4.0781 - mae: 4.0781\n",
            "Epoch 603/2000\n",
            "1/1 [==============================] - 0s 58ms/step - loss: 4.0725 - mae: 4.0725\n",
            "Epoch 604/2000\n",
            "1/1 [==============================] - 0s 12ms/step - loss: 4.0669 - mae: 4.0669\n",
            "Epoch 605/2000\n",
            "1/1 [==============================] - 0s 22ms/step - loss: 4.0612 - mae: 4.0612\n",
            "Epoch 606/2000\n",
            "1/1 [==============================] - 0s 10ms/step - loss: 4.0556 - mae: 4.0556\n",
            "Epoch 607/2000\n",
            "1/1 [==============================] - 0s 13ms/step - loss: 4.0500 - mae: 4.0500\n",
            "Epoch 608/2000\n",
            "1/1 [==============================] - 0s 6ms/step - loss: 4.0444 - mae: 4.0444\n",
            "Epoch 609/2000\n",
            "1/1 [==============================] - 0s 12ms/step - loss: 4.0387 - mae: 4.0387\n",
            "Epoch 610/2000\n",
            "1/1 [==============================] - 0s 20ms/step - loss: 4.0331 - mae: 4.0331\n",
            "Epoch 611/2000\n",
            "1/1 [==============================] - 0s 15ms/step - loss: 4.0275 - mae: 4.0275\n",
            "Epoch 612/2000\n",
            "1/1 [==============================] - 0s 9ms/step - loss: 4.0219 - mae: 4.0219\n",
            "Epoch 613/2000\n",
            "1/1 [==============================] - 0s 9ms/step - loss: 4.0162 - mae: 4.0162\n",
            "Epoch 614/2000\n",
            "1/1 [==============================] - 0s 8ms/step - loss: 4.0106 - mae: 4.0106\n",
            "Epoch 615/2000\n",
            "1/1 [==============================] - 0s 9ms/step - loss: 4.0050 - mae: 4.0050\n",
            "Epoch 616/2000\n",
            "1/1 [==============================] - 0s 9ms/step - loss: 3.9994 - mae: 3.9994\n",
            "Epoch 617/2000\n",
            "1/1 [==============================] - 0s 17ms/step - loss: 3.9937 - mae: 3.9937\n",
            "Epoch 618/2000\n",
            "1/1 [==============================] - 0s 9ms/step - loss: 3.9881 - mae: 3.9881\n",
            "Epoch 619/2000\n",
            "1/1 [==============================] - 0s 12ms/step - loss: 3.9825 - mae: 3.9825\n",
            "Epoch 620/2000\n",
            "1/1 [==============================] - 0s 11ms/step - loss: 3.9769 - mae: 3.9769\n",
            "Epoch 621/2000\n",
            "1/1 [==============================] - 0s 11ms/step - loss: 3.9712 - mae: 3.9712\n",
            "Epoch 622/2000\n",
            "1/1 [==============================] - 0s 9ms/step - loss: 3.9661 - mae: 3.9661\n",
            "Epoch 623/2000\n",
            "1/1 [==============================] - 0s 9ms/step - loss: 3.9619 - mae: 3.9619\n",
            "Epoch 624/2000\n",
            "1/1 [==============================] - 0s 6ms/step - loss: 3.9562 - mae: 3.9562\n",
            "Epoch 625/2000\n",
            "1/1 [==============================] - 0s 9ms/step - loss: 3.9506 - mae: 3.9506\n",
            "Epoch 626/2000\n",
            "1/1 [==============================] - 0s 23ms/step - loss: 3.9450 - mae: 3.9450\n",
            "Epoch 627/2000\n",
            "1/1 [==============================] - 0s 22ms/step - loss: 3.9394 - mae: 3.9394\n",
            "Epoch 628/2000\n",
            "1/1 [==============================] - 0s 15ms/step - loss: 3.9337 - mae: 3.9337\n",
            "Epoch 629/2000\n",
            "1/1 [==============================] - 0s 63ms/step - loss: 3.9281 - mae: 3.9281\n",
            "Epoch 630/2000\n",
            "1/1 [==============================] - 0s 20ms/step - loss: 3.9225 - mae: 3.9225\n",
            "Epoch 631/2000\n",
            "1/1 [==============================] - 0s 31ms/step - loss: 3.9169 - mae: 3.9169\n",
            "Epoch 632/2000\n",
            "1/1 [==============================] - 0s 26ms/step - loss: 3.9112 - mae: 3.9112\n",
            "Epoch 633/2000\n",
            "1/1 [==============================] - 0s 33ms/step - loss: 3.9056 - mae: 3.9056\n",
            "Epoch 634/2000\n",
            "1/1 [==============================] - 0s 38ms/step - loss: 3.9000 - mae: 3.9000\n",
            "Epoch 635/2000\n",
            "1/1 [==============================] - 0s 21ms/step - loss: 3.8944 - mae: 3.8944\n",
            "Epoch 636/2000\n",
            "1/1 [==============================] - 0s 7ms/step - loss: 3.8887 - mae: 3.8887\n",
            "Epoch 637/2000\n",
            "1/1 [==============================] - 0s 9ms/step - loss: 3.8831 - mae: 3.8831\n",
            "Epoch 638/2000\n",
            "1/1 [==============================] - 0s 21ms/step - loss: 3.8775 - mae: 3.8775\n",
            "Epoch 639/2000\n",
            "1/1 [==============================] - 0s 8ms/step - loss: 3.8719 - mae: 3.8719\n",
            "Epoch 640/2000\n",
            "1/1 [==============================] - 0s 12ms/step - loss: 3.8662 - mae: 3.8662\n",
            "Epoch 641/2000\n",
            "1/1 [==============================] - 0s 8ms/step - loss: 3.8606 - mae: 3.8606\n",
            "Epoch 642/2000\n",
            "1/1 [==============================] - 0s 6ms/step - loss: 3.8550 - mae: 3.8550\n",
            "Epoch 643/2000\n",
            "1/1 [==============================] - 0s 6ms/step - loss: 3.8494 - mae: 3.8494\n",
            "Epoch 644/2000\n",
            "1/1 [==============================] - 0s 10ms/step - loss: 3.8437 - mae: 3.8437\n",
            "Epoch 645/2000\n",
            "1/1 [==============================] - 0s 22ms/step - loss: 3.8381 - mae: 3.8381\n",
            "Epoch 646/2000\n",
            "1/1 [==============================] - 0s 8ms/step - loss: 3.8325 - mae: 3.8325\n",
            "Epoch 647/2000\n",
            "1/1 [==============================] - 0s 7ms/step - loss: 3.8269 - mae: 3.8269\n",
            "Epoch 648/2000\n",
            "1/1 [==============================] - 0s 7ms/step - loss: 3.8212 - mae: 3.8212\n",
            "Epoch 649/2000\n",
            "1/1 [==============================] - 0s 6ms/step - loss: 3.8156 - mae: 3.8156\n",
            "Epoch 650/2000\n",
            "1/1 [==============================] - 0s 4ms/step - loss: 3.8100 - mae: 3.8100\n",
            "Epoch 651/2000\n",
            "1/1 [==============================] - 0s 5ms/step - loss: 3.8044 - mae: 3.8044\n",
            "Epoch 652/2000\n",
            "1/1 [==============================] - 0s 4ms/step - loss: 3.7987 - mae: 3.7987\n",
            "Epoch 653/2000\n",
            "1/1 [==============================] - 0s 12ms/step - loss: 3.7931 - mae: 3.7931\n",
            "Epoch 654/2000\n",
            "1/1 [==============================] - 0s 20ms/step - loss: 3.7875 - mae: 3.7875\n",
            "Epoch 655/2000\n",
            "1/1 [==============================] - 0s 27ms/step - loss: 3.7819 - mae: 3.7819\n",
            "Epoch 656/2000\n",
            "1/1 [==============================] - 0s 20ms/step - loss: 3.7762 - mae: 3.7762\n",
            "Epoch 657/2000\n",
            "1/1 [==============================] - 0s 14ms/step - loss: 3.7706 - mae: 3.7706\n",
            "Epoch 658/2000\n",
            "1/1 [==============================] - 0s 8ms/step - loss: 3.7650 - mae: 3.7650\n",
            "Epoch 659/2000\n",
            "1/1 [==============================] - 0s 23ms/step - loss: 3.7594 - mae: 3.7594\n",
            "Epoch 660/2000\n",
            "1/1 [==============================] - 0s 5ms/step - loss: 3.7537 - mae: 3.7537\n",
            "Epoch 661/2000\n",
            "1/1 [==============================] - 0s 14ms/step - loss: 3.7481 - mae: 3.7481\n",
            "Epoch 662/2000\n",
            "1/1 [==============================] - 0s 8ms/step - loss: 3.7425 - mae: 3.7425\n",
            "Epoch 663/2000\n",
            "1/1 [==============================] - 0s 12ms/step - loss: 3.7380 - mae: 3.7380\n",
            "Epoch 664/2000\n",
            "1/1 [==============================] - 0s 6ms/step - loss: 3.7331 - mae: 3.7331\n",
            "Epoch 665/2000\n",
            "1/1 [==============================] - 0s 8ms/step - loss: 3.7275 - mae: 3.7275\n",
            "Epoch 666/2000\n",
            "1/1 [==============================] - 0s 8ms/step - loss: 3.7219 - mae: 3.7219\n",
            "Epoch 667/2000\n",
            "1/1 [==============================] - 0s 9ms/step - loss: 3.7162 - mae: 3.7162\n",
            "Epoch 668/2000\n",
            "1/1 [==============================] - 0s 6ms/step - loss: 3.7106 - mae: 3.7106\n",
            "Epoch 669/2000\n",
            "1/1 [==============================] - 0s 11ms/step - loss: 3.7050 - mae: 3.7050\n",
            "Epoch 670/2000\n",
            "1/1 [==============================] - 0s 5ms/step - loss: 3.6994 - mae: 3.6994\n",
            "Epoch 671/2000\n",
            "1/1 [==============================] - 0s 4ms/step - loss: 3.6937 - mae: 3.6937\n",
            "Epoch 672/2000\n",
            "1/1 [==============================] - 0s 5ms/step - loss: 3.6881 - mae: 3.6881\n",
            "Epoch 673/2000\n",
            "1/1 [==============================] - 0s 22ms/step - loss: 3.6825 - mae: 3.6825\n",
            "Epoch 674/2000\n",
            "1/1 [==============================] - 0s 12ms/step - loss: 3.6769 - mae: 3.6769\n",
            "Epoch 675/2000\n",
            "1/1 [==============================] - 0s 10ms/step - loss: 3.6712 - mae: 3.6712\n",
            "Epoch 676/2000\n",
            "1/1 [==============================] - 0s 9ms/step - loss: 3.6656 - mae: 3.6656\n",
            "Epoch 677/2000\n",
            "1/1 [==============================] - 0s 12ms/step - loss: 3.6600 - mae: 3.6600\n",
            "Epoch 678/2000\n",
            "1/1 [==============================] - 0s 14ms/step - loss: 3.6544 - mae: 3.6544\n",
            "Epoch 679/2000\n",
            "1/1 [==============================] - 0s 11ms/step - loss: 3.6487 - mae: 3.6487\n",
            "Epoch 680/2000\n",
            "1/1 [==============================] - 0s 14ms/step - loss: 3.6431 - mae: 3.6431\n",
            "Epoch 681/2000\n",
            "1/1 [==============================] - 0s 11ms/step - loss: 3.6375 - mae: 3.6375\n",
            "Epoch 682/2000\n",
            "1/1 [==============================] - 0s 32ms/step - loss: 3.6319 - mae: 3.6319\n",
            "Epoch 683/2000\n",
            "1/1 [==============================] - 0s 73ms/step - loss: 3.6262 - mae: 3.6262\n",
            "Epoch 684/2000\n",
            "1/1 [==============================] - 0s 19ms/step - loss: 3.6206 - mae: 3.6206\n",
            "Epoch 685/2000\n",
            "1/1 [==============================] - 0s 8ms/step - loss: 3.6150 - mae: 3.6150\n",
            "Epoch 686/2000\n",
            "1/1 [==============================] - 0s 6ms/step - loss: 3.6094 - mae: 3.6094\n",
            "Epoch 687/2000\n",
            "1/1 [==============================] - 0s 7ms/step - loss: 3.6037 - mae: 3.6037\n",
            "Epoch 688/2000\n",
            "1/1 [==============================] - 0s 12ms/step - loss: 3.5981 - mae: 3.5981\n",
            "Epoch 689/2000\n",
            "1/1 [==============================] - 0s 7ms/step - loss: 3.5925 - mae: 3.5925\n",
            "Epoch 690/2000\n",
            "1/1 [==============================] - 0s 20ms/step - loss: 3.5869 - mae: 3.5869\n",
            "Epoch 691/2000\n",
            "1/1 [==============================] - 0s 10ms/step - loss: 3.5812 - mae: 3.5812\n",
            "Epoch 692/2000\n",
            "1/1 [==============================] - 0s 13ms/step - loss: 3.5756 - mae: 3.5756\n",
            "Epoch 693/2000\n",
            "1/1 [==============================] - 0s 8ms/step - loss: 3.5700 - mae: 3.5700\n",
            "Epoch 694/2000\n",
            "1/1 [==============================] - 0s 7ms/step - loss: 3.5644 - mae: 3.5644\n",
            "Epoch 695/2000\n",
            "1/1 [==============================] - 0s 12ms/step - loss: 3.5587 - mae: 3.5587\n",
            "Epoch 696/2000\n",
            "1/1 [==============================] - 0s 15ms/step - loss: 3.5531 - mae: 3.5531\n",
            "Epoch 697/2000\n",
            "1/1 [==============================] - 0s 6ms/step - loss: 3.5475 - mae: 3.5475\n",
            "Epoch 698/2000\n",
            "1/1 [==============================] - 0s 9ms/step - loss: 3.5419 - mae: 3.5419\n",
            "Epoch 699/2000\n",
            "1/1 [==============================] - 0s 14ms/step - loss: 3.5362 - mae: 3.5362\n",
            "Epoch 700/2000\n",
            "1/1 [==============================] - 0s 12ms/step - loss: 3.5306 - mae: 3.5306\n",
            "Epoch 701/2000\n",
            "1/1 [==============================] - 0s 11ms/step - loss: 3.5250 - mae: 3.5250\n",
            "Epoch 702/2000\n",
            "1/1 [==============================] - 0s 15ms/step - loss: 3.5194 - mae: 3.5194\n",
            "Epoch 703/2000\n",
            "1/1 [==============================] - 0s 8ms/step - loss: 3.5137 - mae: 3.5137\n",
            "Epoch 704/2000\n",
            "1/1 [==============================] - 0s 11ms/step - loss: 3.5099 - mae: 3.5099\n",
            "Epoch 705/2000\n",
            "1/1 [==============================] - 0s 15ms/step - loss: 3.5044 - mae: 3.5044\n",
            "Epoch 706/2000\n",
            "1/1 [==============================] - 0s 12ms/step - loss: 3.4987 - mae: 3.4987\n",
            "Epoch 707/2000\n",
            "1/1 [==============================] - 0s 9ms/step - loss: 3.4931 - mae: 3.4931\n",
            "Epoch 708/2000\n",
            "1/1 [==============================] - 0s 23ms/step - loss: 3.4875 - mae: 3.4875\n",
            "Epoch 709/2000\n",
            "1/1 [==============================] - 0s 10ms/step - loss: 3.4819 - mae: 3.4819\n",
            "Epoch 710/2000\n",
            "1/1 [==============================] - 0s 11ms/step - loss: 3.4762 - mae: 3.4762\n",
            "Epoch 711/2000\n",
            "1/1 [==============================] - 0s 13ms/step - loss: 3.4706 - mae: 3.4706\n",
            "Epoch 712/2000\n",
            "1/1 [==============================] - 0s 19ms/step - loss: 3.4650 - mae: 3.4650\n",
            "Epoch 713/2000\n",
            "1/1 [==============================] - 0s 21ms/step - loss: 3.4594 - mae: 3.4594\n",
            "Epoch 714/2000\n",
            "1/1 [==============================] - 0s 12ms/step - loss: 3.4537 - mae: 3.4537\n",
            "Epoch 715/2000\n",
            "1/1 [==============================] - 0s 8ms/step - loss: 3.4481 - mae: 3.4481\n",
            "Epoch 716/2000\n",
            "1/1 [==============================] - 0s 15ms/step - loss: 3.4425 - mae: 3.4425\n",
            "Epoch 717/2000\n",
            "1/1 [==============================] - 0s 10ms/step - loss: 3.4369 - mae: 3.4369\n",
            "Epoch 718/2000\n",
            "1/1 [==============================] - 0s 9ms/step - loss: 3.4312 - mae: 3.4312\n",
            "Epoch 719/2000\n",
            "1/1 [==============================] - 0s 10ms/step - loss: 3.4256 - mae: 3.4256\n",
            "Epoch 720/2000\n",
            "1/1 [==============================] - 0s 11ms/step - loss: 3.4200 - mae: 3.4200\n",
            "Epoch 721/2000\n",
            "1/1 [==============================] - 0s 8ms/step - loss: 3.4144 - mae: 3.4144\n",
            "Epoch 722/2000\n",
            "1/1 [==============================] - 0s 19ms/step - loss: 3.4087 - mae: 3.4087\n",
            "Epoch 723/2000\n",
            "1/1 [==============================] - 0s 22ms/step - loss: 3.4031 - mae: 3.4031\n",
            "Epoch 724/2000\n",
            "1/1 [==============================] - 0s 31ms/step - loss: 3.3975 - mae: 3.3975\n",
            "Epoch 725/2000\n",
            "1/1 [==============================] - 0s 12ms/step - loss: 3.3919 - mae: 3.3919\n",
            "Epoch 726/2000\n",
            "1/1 [==============================] - 0s 9ms/step - loss: 3.3862 - mae: 3.3862\n",
            "Epoch 727/2000\n",
            "1/1 [==============================] - 0s 8ms/step - loss: 3.3806 - mae: 3.3806\n",
            "Epoch 728/2000\n",
            "1/1 [==============================] - 0s 9ms/step - loss: 3.3750 - mae: 3.3750\n",
            "Epoch 729/2000\n",
            "1/1 [==============================] - 0s 11ms/step - loss: 3.3694 - mae: 3.3694\n",
            "Epoch 730/2000\n",
            "1/1 [==============================] - 0s 10ms/step - loss: 3.3637 - mae: 3.3637\n",
            "Epoch 731/2000\n",
            "1/1 [==============================] - 0s 11ms/step - loss: 3.3581 - mae: 3.3581\n",
            "Epoch 732/2000\n",
            "1/1 [==============================] - 0s 10ms/step - loss: 3.3525 - mae: 3.3525\n",
            "Epoch 733/2000\n",
            "1/1 [==============================] - 0s 7ms/step - loss: 3.3469 - mae: 3.3469\n",
            "Epoch 734/2000\n",
            "1/1 [==============================] - 0s 11ms/step - loss: 3.3412 - mae: 3.3412\n",
            "Epoch 735/2000\n",
            "1/1 [==============================] - 0s 16ms/step - loss: 3.3356 - mae: 3.3356\n",
            "Epoch 736/2000\n",
            "1/1 [==============================] - 0s 10ms/step - loss: 3.3300 - mae: 3.3300\n",
            "Epoch 737/2000\n",
            "1/1 [==============================] - 0s 20ms/step - loss: 3.3244 - mae: 3.3244\n",
            "Epoch 738/2000\n",
            "1/1 [==============================] - 0s 8ms/step - loss: 3.3187 - mae: 3.3187\n",
            "Epoch 739/2000\n",
            "1/1 [==============================] - 0s 11ms/step - loss: 3.3131 - mae: 3.3131\n",
            "Epoch 740/2000\n",
            "1/1 [==============================] - 0s 8ms/step - loss: 3.3075 - mae: 3.3075\n",
            "Epoch 741/2000\n",
            "1/1 [==============================] - 0s 27ms/step - loss: 3.3019 - mae: 3.3019\n",
            "Epoch 742/2000\n",
            "1/1 [==============================] - 0s 29ms/step - loss: 3.2962 - mae: 3.2962\n",
            "Epoch 743/2000\n",
            "1/1 [==============================] - 0s 15ms/step - loss: 3.2906 - mae: 3.2906\n",
            "Epoch 744/2000\n",
            "1/1 [==============================] - 0s 23ms/step - loss: 3.2855 - mae: 3.2855\n",
            "Epoch 745/2000\n",
            "1/1 [==============================] - 0s 9ms/step - loss: 3.2812 - mae: 3.2812\n",
            "Epoch 746/2000\n",
            "1/1 [==============================] - 0s 12ms/step - loss: 3.2756 - mae: 3.2756\n",
            "Epoch 747/2000\n",
            "1/1 [==============================] - 0s 7ms/step - loss: 3.2700 - mae: 3.2700\n",
            "Epoch 748/2000\n",
            "1/1 [==============================] - 0s 6ms/step - loss: 3.2644 - mae: 3.2644\n",
            "Epoch 749/2000\n",
            "1/1 [==============================] - 0s 9ms/step - loss: 3.2587 - mae: 3.2587\n",
            "Epoch 750/2000\n",
            "1/1 [==============================] - 0s 8ms/step - loss: 3.2531 - mae: 3.2531\n",
            "Epoch 751/2000\n",
            "1/1 [==============================] - 0s 7ms/step - loss: 3.2475 - mae: 3.2475\n",
            "Epoch 752/2000\n",
            "1/1 [==============================] - 0s 10ms/step - loss: 3.2419 - mae: 3.2419\n",
            "Epoch 753/2000\n",
            "1/1 [==============================] - 0s 15ms/step - loss: 3.2362 - mae: 3.2362\n",
            "Epoch 754/2000\n",
            "1/1 [==============================] - 0s 9ms/step - loss: 3.2306 - mae: 3.2306\n",
            "Epoch 755/2000\n",
            "1/1 [==============================] - 0s 17ms/step - loss: 3.2250 - mae: 3.2250\n",
            "Epoch 756/2000\n",
            "1/1 [==============================] - 0s 15ms/step - loss: 3.2194 - mae: 3.2194\n",
            "Epoch 757/2000\n",
            "1/1 [==============================] - 0s 13ms/step - loss: 3.2137 - mae: 3.2137\n",
            "Epoch 758/2000\n",
            "1/1 [==============================] - 0s 21ms/step - loss: 3.2081 - mae: 3.2081\n",
            "Epoch 759/2000\n",
            "1/1 [==============================] - 0s 7ms/step - loss: 3.2025 - mae: 3.2025\n",
            "Epoch 760/2000\n",
            "1/1 [==============================] - 0s 6ms/step - loss: 3.1969 - mae: 3.1969\n",
            "Epoch 761/2000\n",
            "1/1 [==============================] - 0s 7ms/step - loss: 3.1912 - mae: 3.1912\n",
            "Epoch 762/2000\n",
            "1/1 [==============================] - 0s 11ms/step - loss: 3.1856 - mae: 3.1856\n",
            "Epoch 763/2000\n",
            "1/1 [==============================] - 0s 9ms/step - loss: 3.1800 - mae: 3.1800\n",
            "Epoch 764/2000\n",
            "1/1 [==============================] - 0s 6ms/step - loss: 3.1744 - mae: 3.1744\n",
            "Epoch 765/2000\n",
            "1/1 [==============================] - 0s 9ms/step - loss: 3.1687 - mae: 3.1687\n",
            "Epoch 766/2000\n",
            "1/1 [==============================] - 0s 7ms/step - loss: 3.1631 - mae: 3.1631\n",
            "Epoch 767/2000\n",
            "1/1 [==============================] - 0s 7ms/step - loss: 3.1575 - mae: 3.1575\n",
            "Epoch 768/2000\n",
            "1/1 [==============================] - 0s 7ms/step - loss: 3.1519 - mae: 3.1519\n",
            "Epoch 769/2000\n",
            "1/1 [==============================] - 0s 5ms/step - loss: 3.1462 - mae: 3.1462\n",
            "Epoch 770/2000\n",
            "1/1 [==============================] - 0s 7ms/step - loss: 3.1406 - mae: 3.1406\n",
            "Epoch 771/2000\n",
            "1/1 [==============================] - 0s 8ms/step - loss: 3.1350 - mae: 3.1350\n",
            "Epoch 772/2000\n",
            "1/1 [==============================] - 0s 7ms/step - loss: 3.1294 - mae: 3.1294\n",
            "Epoch 773/2000\n",
            "1/1 [==============================] - 0s 7ms/step - loss: 3.1237 - mae: 3.1237\n",
            "Epoch 774/2000\n",
            "1/1 [==============================] - 0s 5ms/step - loss: 3.1181 - mae: 3.1181\n",
            "Epoch 775/2000\n",
            "1/1 [==============================] - 0s 5ms/step - loss: 3.1125 - mae: 3.1125\n",
            "Epoch 776/2000\n",
            "1/1 [==============================] - 0s 5ms/step - loss: 3.1069 - mae: 3.1069\n",
            "Epoch 777/2000\n",
            "1/1 [==============================] - 0s 6ms/step - loss: 3.1012 - mae: 3.1012\n",
            "Epoch 778/2000\n",
            "1/1 [==============================] - 0s 6ms/step - loss: 3.0956 - mae: 3.0956\n",
            "Epoch 779/2000\n",
            "1/1 [==============================] - 0s 5ms/step - loss: 3.0900 - mae: 3.0900\n",
            "Epoch 780/2000\n",
            "1/1 [==============================] - 0s 5ms/step - loss: 3.0844 - mae: 3.0844\n",
            "Epoch 781/2000\n",
            "1/1 [==============================] - 0s 7ms/step - loss: 3.0787 - mae: 3.0787\n",
            "Epoch 782/2000\n",
            "1/1 [==============================] - 0s 8ms/step - loss: 3.0731 - mae: 3.0731\n",
            "Epoch 783/2000\n",
            "1/1 [==============================] - 0s 5ms/step - loss: 3.0675 - mae: 3.0675\n",
            "Epoch 784/2000\n",
            "1/1 [==============================] - 0s 7ms/step - loss: 3.0619 - mae: 3.0619\n",
            "Epoch 785/2000\n",
            "1/1 [==============================] - 0s 9ms/step - loss: 3.0574 - mae: 3.0574\n",
            "Epoch 786/2000\n",
            "1/1 [==============================] - 0s 6ms/step - loss: 3.0525 - mae: 3.0525\n",
            "Epoch 787/2000\n",
            "1/1 [==============================] - 0s 4ms/step - loss: 3.0468 - mae: 3.0468\n",
            "Epoch 788/2000\n",
            "1/1 [==============================] - 0s 6ms/step - loss: 3.0412 - mae: 3.0412\n",
            "Epoch 789/2000\n",
            "1/1 [==============================] - 0s 5ms/step - loss: 3.0356 - mae: 3.0356\n",
            "Epoch 790/2000\n",
            "1/1 [==============================] - 0s 8ms/step - loss: 3.0300 - mae: 3.0300\n",
            "Epoch 791/2000\n",
            "1/1 [==============================] - 0s 8ms/step - loss: 3.0243 - mae: 3.0243\n",
            "Epoch 792/2000\n",
            "1/1 [==============================] - 0s 16ms/step - loss: 3.0187 - mae: 3.0187\n",
            "Epoch 793/2000\n",
            "1/1 [==============================] - 0s 10ms/step - loss: 3.0131 - mae: 3.0131\n",
            "Epoch 794/2000\n",
            "1/1 [==============================] - 0s 8ms/step - loss: 3.0075 - mae: 3.0075\n",
            "Epoch 795/2000\n",
            "1/1 [==============================] - 0s 9ms/step - loss: 3.0018 - mae: 3.0018\n",
            "Epoch 796/2000\n",
            "1/1 [==============================] - 0s 13ms/step - loss: 2.9962 - mae: 2.9962\n",
            "Epoch 797/2000\n",
            "1/1 [==============================] - 0s 8ms/step - loss: 2.9906 - mae: 2.9906\n",
            "Epoch 798/2000\n",
            "1/1 [==============================] - 0s 6ms/step - loss: 2.9850 - mae: 2.9850\n",
            "Epoch 799/2000\n",
            "1/1 [==============================] - 0s 4ms/step - loss: 2.9793 - mae: 2.9793\n",
            "Epoch 800/2000\n",
            "1/1 [==============================] - 0s 7ms/step - loss: 2.9737 - mae: 2.9737\n",
            "Epoch 801/2000\n",
            "1/1 [==============================] - 0s 4ms/step - loss: 2.9681 - mae: 2.9681\n",
            "Epoch 802/2000\n",
            "1/1 [==============================] - 0s 5ms/step - loss: 2.9625 - mae: 2.9625\n",
            "Epoch 803/2000\n",
            "1/1 [==============================] - 0s 4ms/step - loss: 2.9568 - mae: 2.9568\n",
            "Epoch 804/2000\n",
            "1/1 [==============================] - 0s 4ms/step - loss: 2.9512 - mae: 2.9512\n",
            "Epoch 805/2000\n",
            "1/1 [==============================] - 0s 5ms/step - loss: 2.9456 - mae: 2.9456\n",
            "Epoch 806/2000\n",
            "1/1 [==============================] - 0s 4ms/step - loss: 2.9400 - mae: 2.9400\n",
            "Epoch 807/2000\n",
            "1/1 [==============================] - 0s 4ms/step - loss: 2.9343 - mae: 2.9343\n",
            "Epoch 808/2000\n",
            "1/1 [==============================] - 0s 4ms/step - loss: 2.9287 - mae: 2.9287\n",
            "Epoch 809/2000\n",
            "1/1 [==============================] - 0s 5ms/step - loss: 2.9231 - mae: 2.9231\n",
            "Epoch 810/2000\n",
            "1/1 [==============================] - 0s 8ms/step - loss: 2.9175 - mae: 2.9175\n",
            "Epoch 811/2000\n",
            "1/1 [==============================] - 0s 6ms/step - loss: 2.9118 - mae: 2.9118\n",
            "Epoch 812/2000\n",
            "1/1 [==============================] - 0s 7ms/step - loss: 2.9062 - mae: 2.9062\n",
            "Epoch 813/2000\n",
            "1/1 [==============================] - 0s 10ms/step - loss: 2.9006 - mae: 2.9006\n",
            "Epoch 814/2000\n",
            "1/1 [==============================] - 0s 8ms/step - loss: 2.8950 - mae: 2.8950\n",
            "Epoch 815/2000\n",
            "1/1 [==============================] - 0s 16ms/step - loss: 2.8893 - mae: 2.8893\n",
            "Epoch 816/2000\n",
            "1/1 [==============================] - 0s 14ms/step - loss: 2.8837 - mae: 2.8837\n",
            "Epoch 817/2000\n",
            "1/1 [==============================] - 0s 24ms/step - loss: 2.8781 - mae: 2.8781\n",
            "Epoch 818/2000\n",
            "1/1 [==============================] - 0s 13ms/step - loss: 2.8725 - mae: 2.8725\n",
            "Epoch 819/2000\n",
            "1/1 [==============================] - 0s 11ms/step - loss: 2.8668 - mae: 2.8668\n",
            "Epoch 820/2000\n",
            "1/1 [==============================] - 0s 39ms/step - loss: 2.8612 - mae: 2.8612\n",
            "Epoch 821/2000\n",
            "1/1 [==============================] - 0s 33ms/step - loss: 2.8556 - mae: 2.8556\n",
            "Epoch 822/2000\n",
            "1/1 [==============================] - 0s 25ms/step - loss: 2.8500 - mae: 2.8500\n",
            "Epoch 823/2000\n",
            "1/1 [==============================] - 0s 6ms/step - loss: 2.8443 - mae: 2.8443\n",
            "Epoch 824/2000\n",
            "1/1 [==============================] - 0s 7ms/step - loss: 2.8387 - mae: 2.8387\n",
            "Epoch 825/2000\n",
            "1/1 [==============================] - 0s 7ms/step - loss: 2.8331 - mae: 2.8331\n",
            "Epoch 826/2000\n",
            "1/1 [==============================] - 0s 7ms/step - loss: 2.8293 - mae: 2.8293\n",
            "Epoch 827/2000\n",
            "1/1 [==============================] - 0s 9ms/step - loss: 2.8237 - mae: 2.8237\n",
            "Epoch 828/2000\n",
            "1/1 [==============================] - 0s 5ms/step - loss: 2.8181 - mae: 2.8181\n",
            "Epoch 829/2000\n",
            "1/1 [==============================] - 0s 16ms/step - loss: 2.8125 - mae: 2.8125\n",
            "Epoch 830/2000\n",
            "1/1 [==============================] - 0s 5ms/step - loss: 2.8068 - mae: 2.8068\n",
            "Epoch 831/2000\n",
            "1/1 [==============================] - 0s 8ms/step - loss: 2.8012 - mae: 2.8012\n",
            "Epoch 832/2000\n",
            "1/1 [==============================] - 0s 6ms/step - loss: 2.7956 - mae: 2.7956\n",
            "Epoch 833/2000\n",
            "1/1 [==============================] - 0s 5ms/step - loss: 2.7900 - mae: 2.7900\n",
            "Epoch 834/2000\n",
            "1/1 [==============================] - 0s 10ms/step - loss: 2.7843 - mae: 2.7843\n",
            "Epoch 835/2000\n",
            "1/1 [==============================] - 0s 11ms/step - loss: 2.7787 - mae: 2.7787\n",
            "Epoch 836/2000\n",
            "1/1 [==============================] - 0s 5ms/step - loss: 2.7731 - mae: 2.7731\n",
            "Epoch 837/2000\n",
            "1/1 [==============================] - 0s 4ms/step - loss: 2.7675 - mae: 2.7675\n",
            "Epoch 838/2000\n",
            "1/1 [==============================] - 0s 5ms/step - loss: 2.7618 - mae: 2.7618\n",
            "Epoch 839/2000\n",
            "1/1 [==============================] - 0s 5ms/step - loss: 2.7562 - mae: 2.7562\n",
            "Epoch 840/2000\n",
            "1/1 [==============================] - 0s 4ms/step - loss: 2.7506 - mae: 2.7506\n",
            "Epoch 841/2000\n",
            "1/1 [==============================] - 0s 7ms/step - loss: 2.7450 - mae: 2.7450\n",
            "Epoch 842/2000\n",
            "1/1 [==============================] - 0s 9ms/step - loss: 2.7393 - mae: 2.7393\n",
            "Epoch 843/2000\n",
            "1/1 [==============================] - 0s 6ms/step - loss: 2.7337 - mae: 2.7337\n",
            "Epoch 844/2000\n",
            "1/1 [==============================] - 0s 9ms/step - loss: 2.7281 - mae: 2.7281\n",
            "Epoch 845/2000\n",
            "1/1 [==============================] - 0s 6ms/step - loss: 2.7225 - mae: 2.7225\n",
            "Epoch 846/2000\n",
            "1/1 [==============================] - 0s 8ms/step - loss: 2.7168 - mae: 2.7168\n",
            "Epoch 847/2000\n",
            "1/1 [==============================] - 0s 14ms/step - loss: 2.7112 - mae: 2.7112\n",
            "Epoch 848/2000\n",
            "1/1 [==============================] - 0s 14ms/step - loss: 2.7056 - mae: 2.7056\n",
            "Epoch 849/2000\n",
            "1/1 [==============================] - 0s 26ms/step - loss: 2.7000 - mae: 2.7000\n",
            "Epoch 850/2000\n",
            "1/1 [==============================] - 0s 43ms/step - loss: 2.6943 - mae: 2.6943\n",
            "Epoch 851/2000\n",
            "1/1 [==============================] - 0s 23ms/step - loss: 2.6887 - mae: 2.6887\n",
            "Epoch 852/2000\n",
            "1/1 [==============================] - 0s 6ms/step - loss: 2.6831 - mae: 2.6831\n",
            "Epoch 853/2000\n",
            "1/1 [==============================] - 0s 12ms/step - loss: 2.6775 - mae: 2.6775\n",
            "Epoch 854/2000\n",
            "1/1 [==============================] - 0s 15ms/step - loss: 2.6718 - mae: 2.6718\n",
            "Epoch 855/2000\n",
            "1/1 [==============================] - 0s 13ms/step - loss: 2.6662 - mae: 2.6662\n",
            "Epoch 856/2000\n",
            "1/1 [==============================] - 0s 26ms/step - loss: 2.6606 - mae: 2.6606\n",
            "Epoch 857/2000\n",
            "1/1 [==============================] - 0s 11ms/step - loss: 2.6550 - mae: 2.6550\n",
            "Epoch 858/2000\n",
            "1/1 [==============================] - 0s 8ms/step - loss: 2.6493 - mae: 2.6493\n",
            "Epoch 859/2000\n",
            "1/1 [==============================] - 0s 9ms/step - loss: 2.6437 - mae: 2.6437\n",
            "Epoch 860/2000\n",
            "1/1 [==============================] - 0s 9ms/step - loss: 2.6381 - mae: 2.6381\n",
            "Epoch 861/2000\n",
            "1/1 [==============================] - 0s 10ms/step - loss: 2.6325 - mae: 2.6325\n",
            "Epoch 862/2000\n",
            "1/1 [==============================] - 0s 12ms/step - loss: 2.6268 - mae: 2.6268\n",
            "Epoch 863/2000\n",
            "1/1 [==============================] - 0s 20ms/step - loss: 2.6212 - mae: 2.6212\n",
            "Epoch 864/2000\n",
            "1/1 [==============================] - 0s 13ms/step - loss: 2.6156 - mae: 2.6156\n",
            "Epoch 865/2000\n",
            "1/1 [==============================] - 0s 14ms/step - loss: 2.6100 - mae: 2.6100\n",
            "Epoch 866/2000\n",
            "1/1 [==============================] - 0s 15ms/step - loss: 2.6049 - mae: 2.6049\n",
            "Epoch 867/2000\n",
            "1/1 [==============================] - 0s 32ms/step - loss: 2.6006 - mae: 2.6006\n",
            "Epoch 868/2000\n",
            "1/1 [==============================] - 0s 17ms/step - loss: 2.5950 - mae: 2.5950\n",
            "Epoch 869/2000\n",
            "1/1 [==============================] - 0s 20ms/step - loss: 2.5893 - mae: 2.5893\n",
            "Epoch 870/2000\n",
            "1/1 [==============================] - 0s 18ms/step - loss: 2.5837 - mae: 2.5837\n",
            "Epoch 871/2000\n",
            "1/1 [==============================] - 0s 12ms/step - loss: 2.5781 - mae: 2.5781\n",
            "Epoch 872/2000\n",
            "1/1 [==============================] - 0s 14ms/step - loss: 2.5725 - mae: 2.5725\n",
            "Epoch 873/2000\n",
            "1/1 [==============================] - 0s 54ms/step - loss: 2.5668 - mae: 2.5668\n",
            "Epoch 874/2000\n",
            "1/1 [==============================] - 0s 16ms/step - loss: 2.5612 - mae: 2.5612\n",
            "Epoch 875/2000\n",
            "1/1 [==============================] - 0s 11ms/step - loss: 2.5556 - mae: 2.5556\n",
            "Epoch 876/2000\n",
            "1/1 [==============================] - 0s 21ms/step - loss: 2.5500 - mae: 2.5500\n",
            "Epoch 877/2000\n",
            "1/1 [==============================] - 0s 10ms/step - loss: 2.5443 - mae: 2.5443\n",
            "Epoch 878/2000\n",
            "1/1 [==============================] - 0s 7ms/step - loss: 2.5387 - mae: 2.5387\n",
            "Epoch 879/2000\n",
            "1/1 [==============================] - 0s 8ms/step - loss: 2.5331 - mae: 2.5331\n",
            "Epoch 880/2000\n",
            "1/1 [==============================] - 0s 8ms/step - loss: 2.5275 - mae: 2.5275\n",
            "Epoch 881/2000\n",
            "1/1 [==============================] - 0s 8ms/step - loss: 2.5218 - mae: 2.5218\n",
            "Epoch 882/2000\n",
            "1/1 [==============================] - 0s 8ms/step - loss: 2.5162 - mae: 2.5162\n",
            "Epoch 883/2000\n",
            "1/1 [==============================] - 0s 8ms/step - loss: 2.5106 - mae: 2.5106\n",
            "Epoch 884/2000\n",
            "1/1 [==============================] - 0s 8ms/step - loss: 2.5050 - mae: 2.5050\n",
            "Epoch 885/2000\n",
            "1/1 [==============================] - 0s 36ms/step - loss: 2.4993 - mae: 2.4993\n",
            "Epoch 886/2000\n",
            "1/1 [==============================] - 0s 8ms/step - loss: 2.4937 - mae: 2.4937\n",
            "Epoch 887/2000\n",
            "1/1 [==============================] - 0s 14ms/step - loss: 2.4881 - mae: 2.4881\n",
            "Epoch 888/2000\n",
            "1/1 [==============================] - 0s 12ms/step - loss: 2.4825 - mae: 2.4825\n",
            "Epoch 889/2000\n",
            "1/1 [==============================] - 0s 18ms/step - loss: 2.4768 - mae: 2.4768\n",
            "Epoch 890/2000\n",
            "1/1 [==============================] - 0s 8ms/step - loss: 2.4712 - mae: 2.4712\n",
            "Epoch 891/2000\n",
            "1/1 [==============================] - 0s 9ms/step - loss: 2.4656 - mae: 2.4656\n",
            "Epoch 892/2000\n",
            "1/1 [==============================] - 0s 13ms/step - loss: 2.4600 - mae: 2.4600\n",
            "Epoch 893/2000\n",
            "1/1 [==============================] - 0s 8ms/step - loss: 2.4543 - mae: 2.4543\n",
            "Epoch 894/2000\n",
            "1/1 [==============================] - 0s 8ms/step - loss: 2.4487 - mae: 2.4487\n",
            "Epoch 895/2000\n",
            "1/1 [==============================] - 0s 10ms/step - loss: 2.4431 - mae: 2.4431\n",
            "Epoch 896/2000\n",
            "1/1 [==============================] - 0s 10ms/step - loss: 2.4375 - mae: 2.4375\n",
            "Epoch 897/2000\n",
            "1/1 [==============================] - 0s 11ms/step - loss: 2.4318 - mae: 2.4318\n",
            "Epoch 898/2000\n",
            "1/1 [==============================] - 0s 16ms/step - loss: 2.4262 - mae: 2.4262\n",
            "Epoch 899/2000\n",
            "1/1 [==============================] - 0s 11ms/step - loss: 2.4206 - mae: 2.4206\n",
            "Epoch 900/2000\n",
            "1/1 [==============================] - 0s 7ms/step - loss: 2.4150 - mae: 2.4150\n",
            "Epoch 901/2000\n",
            "1/1 [==============================] - 0s 15ms/step - loss: 2.4093 - mae: 2.4093\n",
            "Epoch 902/2000\n",
            "1/1 [==============================] - 0s 16ms/step - loss: 2.4037 - mae: 2.4037\n",
            "Epoch 903/2000\n",
            "1/1 [==============================] - 0s 12ms/step - loss: 2.3981 - mae: 2.3981\n",
            "Epoch 904/2000\n",
            "1/1 [==============================] - 0s 11ms/step - loss: 2.3925 - mae: 2.3925\n",
            "Epoch 905/2000\n",
            "1/1 [==============================] - 0s 10ms/step - loss: 2.3868 - mae: 2.3868\n",
            "Epoch 906/2000\n",
            "1/1 [==============================] - 0s 18ms/step - loss: 2.3812 - mae: 2.3812\n",
            "Epoch 907/2000\n",
            "1/1 [==============================] - 0s 16ms/step - loss: 2.3767 - mae: 2.3767\n",
            "Epoch 908/2000\n",
            "1/1 [==============================] - 0s 19ms/step - loss: 2.3718 - mae: 2.3718\n",
            "Epoch 909/2000\n",
            "1/1 [==============================] - 0s 23ms/step - loss: 2.3662 - mae: 2.3662\n",
            "Epoch 910/2000\n",
            "1/1 [==============================] - 0s 12ms/step - loss: 2.3606 - mae: 2.3606\n",
            "Epoch 911/2000\n",
            "1/1 [==============================] - 0s 25ms/step - loss: 2.3550 - mae: 2.3550\n",
            "Epoch 912/2000\n",
            "1/1 [==============================] - 0s 10ms/step - loss: 2.3493 - mae: 2.3493\n",
            "Epoch 913/2000\n",
            "1/1 [==============================] - 0s 19ms/step - loss: 2.3437 - mae: 2.3437\n",
            "Epoch 914/2000\n",
            "1/1 [==============================] - 0s 16ms/step - loss: 2.3381 - mae: 2.3381\n",
            "Epoch 915/2000\n",
            "1/1 [==============================] - 0s 12ms/step - loss: 2.3325 - mae: 2.3325\n",
            "Epoch 916/2000\n",
            "1/1 [==============================] - 0s 18ms/step - loss: 2.3268 - mae: 2.3268\n",
            "Epoch 917/2000\n",
            "1/1 [==============================] - 0s 60ms/step - loss: 2.3212 - mae: 2.3212\n",
            "Epoch 918/2000\n",
            "1/1 [==============================] - 0s 35ms/step - loss: 2.3156 - mae: 2.3156\n",
            "Epoch 919/2000\n",
            "1/1 [==============================] - 0s 57ms/step - loss: 2.3100 - mae: 2.3100\n",
            "Epoch 920/2000\n",
            "1/1 [==============================] - 0s 13ms/step - loss: 2.3043 - mae: 2.3043\n",
            "Epoch 921/2000\n",
            "1/1 [==============================] - 0s 95ms/step - loss: 2.2987 - mae: 2.2987\n",
            "Epoch 922/2000\n",
            "1/1 [==============================] - 0s 29ms/step - loss: 2.2931 - mae: 2.2931\n",
            "Epoch 923/2000\n",
            "1/1 [==============================] - 0s 111ms/step - loss: 2.2875 - mae: 2.2875\n",
            "Epoch 924/2000\n",
            "1/1 [==============================] - 0s 21ms/step - loss: 2.2818 - mae: 2.2818\n",
            "Epoch 925/2000\n",
            "1/1 [==============================] - 0s 48ms/step - loss: 2.2762 - mae: 2.2762\n",
            "Epoch 926/2000\n",
            "1/1 [==============================] - 0s 16ms/step - loss: 2.2706 - mae: 2.2706\n",
            "Epoch 927/2000\n",
            "1/1 [==============================] - 0s 25ms/step - loss: 2.2650 - mae: 2.2650\n",
            "Epoch 928/2000\n",
            "1/1 [==============================] - 0s 29ms/step - loss: 2.2593 - mae: 2.2593\n",
            "Epoch 929/2000\n",
            "1/1 [==============================] - 0s 25ms/step - loss: 2.2537 - mae: 2.2537\n",
            "Epoch 930/2000\n",
            "1/1 [==============================] - 0s 18ms/step - loss: 2.2481 - mae: 2.2481\n",
            "Epoch 931/2000\n",
            "1/1 [==============================] - 0s 56ms/step - loss: 2.2425 - mae: 2.2425\n",
            "Epoch 932/2000\n",
            "1/1 [==============================] - 0s 17ms/step - loss: 2.2368 - mae: 2.2368\n",
            "Epoch 933/2000\n",
            "1/1 [==============================] - 0s 24ms/step - loss: 2.2312 - mae: 2.2312\n",
            "Epoch 934/2000\n",
            "1/1 [==============================] - 0s 8ms/step - loss: 2.2256 - mae: 2.2256\n",
            "Epoch 935/2000\n",
            "1/1 [==============================] - 0s 9ms/step - loss: 2.2200 - mae: 2.2200\n",
            "Epoch 936/2000\n",
            "1/1 [==============================] - 0s 9ms/step - loss: 2.2143 - mae: 2.2143\n",
            "Epoch 937/2000\n",
            "1/1 [==============================] - 0s 13ms/step - loss: 2.2087 - mae: 2.2087\n",
            "Epoch 938/2000\n",
            "1/1 [==============================] - 0s 13ms/step - loss: 2.2031 - mae: 2.2031\n",
            "Epoch 939/2000\n",
            "1/1 [==============================] - 0s 9ms/step - loss: 2.1975 - mae: 2.1975\n",
            "Epoch 940/2000\n",
            "1/1 [==============================] - 0s 8ms/step - loss: 2.1918 - mae: 2.1918\n",
            "Epoch 941/2000\n",
            "1/1 [==============================] - 0s 64ms/step - loss: 2.1862 - mae: 2.1862\n",
            "Epoch 942/2000\n",
            "1/1 [==============================] - 0s 105ms/step - loss: 2.1806 - mae: 2.1806\n",
            "Epoch 943/2000\n",
            "1/1 [==============================] - 0s 13ms/step - loss: 2.1750 - mae: 2.1750\n",
            "Epoch 944/2000\n",
            "1/1 [==============================] - 0s 6ms/step - loss: 2.1693 - mae: 2.1693\n",
            "Epoch 945/2000\n",
            "1/1 [==============================] - 0s 9ms/step - loss: 2.1637 - mae: 2.1637\n",
            "Epoch 946/2000\n",
            "1/1 [==============================] - 0s 11ms/step - loss: 2.1581 - mae: 2.1581\n",
            "Epoch 947/2000\n",
            "1/1 [==============================] - 0s 19ms/step - loss: 2.1525 - mae: 2.1525\n",
            "Epoch 948/2000\n",
            "1/1 [==============================] - 0s 5ms/step - loss: 2.1486 - mae: 2.1486\n",
            "Epoch 949/2000\n",
            "1/1 [==============================] - 0s 22ms/step - loss: 2.1431 - mae: 2.1431\n",
            "Epoch 950/2000\n",
            "1/1 [==============================] - 0s 6ms/step - loss: 2.1375 - mae: 2.1375\n",
            "Epoch 951/2000\n",
            "1/1 [==============================] - 0s 12ms/step - loss: 2.1318 - mae: 2.1318\n",
            "Epoch 952/2000\n",
            "1/1 [==============================] - 0s 11ms/step - loss: 2.1262 - mae: 2.1262\n",
            "Epoch 953/2000\n",
            "1/1 [==============================] - 0s 4ms/step - loss: 2.1206 - mae: 2.1206\n",
            "Epoch 954/2000\n",
            "1/1 [==============================] - 0s 10ms/step - loss: 2.1150 - mae: 2.1150\n",
            "Epoch 955/2000\n",
            "1/1 [==============================] - 0s 5ms/step - loss: 2.1093 - mae: 2.1093\n",
            "Epoch 956/2000\n",
            "1/1 [==============================] - 0s 7ms/step - loss: 2.1037 - mae: 2.1037\n",
            "Epoch 957/2000\n",
            "1/1 [==============================] - 0s 22ms/step - loss: 2.0981 - mae: 2.0981\n",
            "Epoch 958/2000\n",
            "1/1 [==============================] - 0s 9ms/step - loss: 2.0925 - mae: 2.0925\n",
            "Epoch 959/2000\n",
            "1/1 [==============================] - 0s 4ms/step - loss: 2.0868 - mae: 2.0868\n",
            "Epoch 960/2000\n",
            "1/1 [==============================] - 0s 12ms/step - loss: 2.0812 - mae: 2.0812\n",
            "Epoch 961/2000\n",
            "1/1 [==============================] - 0s 9ms/step - loss: 2.0756 - mae: 2.0756\n",
            "Epoch 962/2000\n",
            "1/1 [==============================] - 0s 12ms/step - loss: 2.0700 - mae: 2.0700\n",
            "Epoch 963/2000\n",
            "1/1 [==============================] - 0s 14ms/step - loss: 2.0643 - mae: 2.0643\n",
            "Epoch 964/2000\n",
            "1/1 [==============================] - 0s 11ms/step - loss: 2.0587 - mae: 2.0587\n",
            "Epoch 965/2000\n",
            "1/1 [==============================] - 0s 7ms/step - loss: 2.0531 - mae: 2.0531\n",
            "Epoch 966/2000\n",
            "1/1 [==============================] - 0s 7ms/step - loss: 2.0475 - mae: 2.0475\n",
            "Epoch 967/2000\n",
            "1/1 [==============================] - 0s 9ms/step - loss: 2.0418 - mae: 2.0418\n",
            "Epoch 968/2000\n",
            "1/1 [==============================] - 0s 4ms/step - loss: 2.0362 - mae: 2.0362\n",
            "Epoch 969/2000\n",
            "1/1 [==============================] - 0s 7ms/step - loss: 2.0306 - mae: 2.0306\n",
            "Epoch 970/2000\n",
            "1/1 [==============================] - 0s 8ms/step - loss: 2.0250 - mae: 2.0250\n",
            "Epoch 971/2000\n",
            "1/1 [==============================] - 0s 8ms/step - loss: 2.0193 - mae: 2.0193\n",
            "Epoch 972/2000\n",
            "1/1 [==============================] - 0s 7ms/step - loss: 2.0137 - mae: 2.0137\n",
            "Epoch 973/2000\n",
            "1/1 [==============================] - 0s 6ms/step - loss: 2.0081 - mae: 2.0081\n",
            "Epoch 974/2000\n",
            "1/1 [==============================] - 0s 8ms/step - loss: 2.0025 - mae: 2.0025\n",
            "Epoch 975/2000\n",
            "1/1 [==============================] - 0s 9ms/step - loss: 1.9968 - mae: 1.9968\n",
            "Epoch 976/2000\n",
            "1/1 [==============================] - 0s 5ms/step - loss: 1.9912 - mae: 1.9912\n",
            "Epoch 977/2000\n",
            "1/1 [==============================] - 0s 10ms/step - loss: 1.9856 - mae: 1.9856\n",
            "Epoch 978/2000\n",
            "1/1 [==============================] - 0s 8ms/step - loss: 1.9800 - mae: 1.9800\n",
            "Epoch 979/2000\n",
            "1/1 [==============================] - 0s 7ms/step - loss: 1.9743 - mae: 1.9743\n",
            "Epoch 980/2000\n",
            "1/1 [==============================] - 0s 8ms/step - loss: 1.9687 - mae: 1.9687\n",
            "Epoch 981/2000\n",
            "1/1 [==============================] - 0s 6ms/step - loss: 1.9631 - mae: 1.9631\n",
            "Epoch 982/2000\n",
            "1/1 [==============================] - 0s 6ms/step - loss: 1.9574 - mae: 1.9574\n",
            "Epoch 983/2000\n",
            "1/1 [==============================] - 0s 6ms/step - loss: 1.9518 - mae: 1.9518\n",
            "Epoch 984/2000\n",
            "1/1 [==============================] - 0s 11ms/step - loss: 1.9462 - mae: 1.9462\n",
            "Epoch 985/2000\n",
            "1/1 [==============================] - 0s 6ms/step - loss: 1.9406 - mae: 1.9406\n",
            "Epoch 986/2000\n",
            "1/1 [==============================] - 0s 10ms/step - loss: 1.9349 - mae: 1.9349\n",
            "Epoch 987/2000\n",
            "1/1 [==============================] - 0s 8ms/step - loss: 1.9293 - mae: 1.9293\n",
            "Epoch 988/2000\n",
            "1/1 [==============================] - 0s 6ms/step - loss: 1.9242 - mae: 1.9242\n",
            "Epoch 989/2000\n",
            "1/1 [==============================] - 0s 5ms/step - loss: 1.9199 - mae: 1.9199\n",
            "Epoch 990/2000\n",
            "1/1 [==============================] - 0s 8ms/step - loss: 1.9143 - mae: 1.9143\n",
            "Epoch 991/2000\n",
            "1/1 [==============================] - 0s 7ms/step - loss: 1.9087 - mae: 1.9087\n",
            "Epoch 992/2000\n",
            "1/1 [==============================] - 0s 7ms/step - loss: 1.9031 - mae: 1.9031\n",
            "Epoch 993/2000\n",
            "1/1 [==============================] - 0s 5ms/step - loss: 1.8974 - mae: 1.8974\n",
            "Epoch 994/2000\n",
            "1/1 [==============================] - 0s 8ms/step - loss: 1.8918 - mae: 1.8918\n",
            "Epoch 995/2000\n",
            "1/1 [==============================] - 0s 7ms/step - loss: 1.8862 - mae: 1.8862\n",
            "Epoch 996/2000\n",
            "1/1 [==============================] - 0s 5ms/step - loss: 1.8806 - mae: 1.8806\n",
            "Epoch 997/2000\n",
            "1/1 [==============================] - 0s 10ms/step - loss: 1.8749 - mae: 1.8749\n",
            "Epoch 998/2000\n",
            "1/1 [==============================] - 0s 13ms/step - loss: 1.8693 - mae: 1.8693\n",
            "Epoch 999/2000\n",
            "1/1 [==============================] - 0s 38ms/step - loss: 1.8637 - mae: 1.8637\n",
            "Epoch 1000/2000\n",
            "1/1 [==============================] - 0s 5ms/step - loss: 1.8581 - mae: 1.8581\n",
            "Epoch 1001/2000\n",
            "1/1 [==============================] - 0s 5ms/step - loss: 1.8524 - mae: 1.8524\n",
            "Epoch 1002/2000\n",
            "1/1 [==============================] - 0s 4ms/step - loss: 1.8468 - mae: 1.8468\n",
            "Epoch 1003/2000\n",
            "1/1 [==============================] - 0s 5ms/step - loss: 1.8412 - mae: 1.8412\n",
            "Epoch 1004/2000\n",
            "1/1 [==============================] - 0s 4ms/step - loss: 1.8356 - mae: 1.8356\n",
            "Epoch 1005/2000\n",
            "1/1 [==============================] - 0s 6ms/step - loss: 1.8299 - mae: 1.8299\n",
            "Epoch 1006/2000\n",
            "1/1 [==============================] - 0s 18ms/step - loss: 1.8243 - mae: 1.8243\n",
            "Epoch 1007/2000\n",
            "1/1 [==============================] - 0s 8ms/step - loss: 1.8187 - mae: 1.8187\n",
            "Epoch 1008/2000\n",
            "1/1 [==============================] - 0s 10ms/step - loss: 1.8131 - mae: 1.8131\n",
            "Epoch 1009/2000\n",
            "1/1 [==============================] - 0s 8ms/step - loss: 1.8074 - mae: 1.8074\n",
            "Epoch 1010/2000\n",
            "1/1 [==============================] - 0s 12ms/step - loss: 1.8018 - mae: 1.8018\n",
            "Epoch 1011/2000\n",
            "1/1 [==============================] - 0s 10ms/step - loss: 1.7962 - mae: 1.7962\n",
            "Epoch 1012/2000\n",
            "1/1 [==============================] - 0s 7ms/step - loss: 1.7906 - mae: 1.7906\n",
            "Epoch 1013/2000\n",
            "1/1 [==============================] - 0s 10ms/step - loss: 1.7849 - mae: 1.7849\n",
            "Epoch 1014/2000\n",
            "1/1 [==============================] - 0s 4ms/step - loss: 1.7793 - mae: 1.7793\n",
            "Epoch 1015/2000\n",
            "1/1 [==============================] - 0s 12ms/step - loss: 1.7737 - mae: 1.7737\n",
            "Epoch 1016/2000\n",
            "1/1 [==============================] - 0s 7ms/step - loss: 1.7681 - mae: 1.7681\n",
            "Epoch 1017/2000\n",
            "1/1 [==============================] - 0s 9ms/step - loss: 1.7624 - mae: 1.7624\n",
            "Epoch 1018/2000\n",
            "1/1 [==============================] - 0s 5ms/step - loss: 1.7568 - mae: 1.7568\n",
            "Epoch 1019/2000\n",
            "1/1 [==============================] - 0s 33ms/step - loss: 1.7512 - mae: 1.7512\n",
            "Epoch 1020/2000\n",
            "1/1 [==============================] - 0s 8ms/step - loss: 1.7456 - mae: 1.7456\n",
            "Epoch 1021/2000\n",
            "1/1 [==============================] - 0s 7ms/step - loss: 1.7399 - mae: 1.7399\n",
            "Epoch 1022/2000\n",
            "1/1 [==============================] - 0s 21ms/step - loss: 1.7343 - mae: 1.7343\n",
            "Epoch 1023/2000\n",
            "1/1 [==============================] - 0s 7ms/step - loss: 1.7287 - mae: 1.7287\n",
            "Epoch 1024/2000\n",
            "1/1 [==============================] - 0s 6ms/step - loss: 1.7231 - mae: 1.7231\n",
            "Epoch 1025/2000\n",
            "1/1 [==============================] - 0s 8ms/step - loss: 1.7174 - mae: 1.7174\n",
            "Epoch 1026/2000\n",
            "1/1 [==============================] - 0s 15ms/step - loss: 1.7118 - mae: 1.7118\n",
            "Epoch 1027/2000\n",
            "1/1 [==============================] - 0s 10ms/step - loss: 1.7062 - mae: 1.7062\n",
            "Epoch 1028/2000\n",
            "1/1 [==============================] - 0s 8ms/step - loss: 1.7006 - mae: 1.7006\n",
            "Epoch 1029/2000\n",
            "1/1 [==============================] - 0s 5ms/step - loss: 1.6961 - mae: 1.6961\n",
            "Epoch 1030/2000\n",
            "1/1 [==============================] - 0s 8ms/step - loss: 1.6912 - mae: 1.6912\n",
            "Epoch 1031/2000\n",
            "1/1 [==============================] - 0s 10ms/step - loss: 1.6856 - mae: 1.6856\n",
            "Epoch 1032/2000\n",
            "1/1 [==============================] - 0s 9ms/step - loss: 1.6799 - mae: 1.6799\n",
            "Epoch 1033/2000\n",
            "1/1 [==============================] - 0s 12ms/step - loss: 1.6743 - mae: 1.6743\n",
            "Epoch 1034/2000\n",
            "1/1 [==============================] - 0s 11ms/step - loss: 1.6687 - mae: 1.6687\n",
            "Epoch 1035/2000\n",
            "1/1 [==============================] - 0s 11ms/step - loss: 1.6631 - mae: 1.6631\n",
            "Epoch 1036/2000\n",
            "1/1 [==============================] - 0s 12ms/step - loss: 1.6574 - mae: 1.6574\n",
            "Epoch 1037/2000\n",
            "1/1 [==============================] - 0s 9ms/step - loss: 1.6518 - mae: 1.6518\n",
            "Epoch 1038/2000\n",
            "1/1 [==============================] - 0s 66ms/step - loss: 1.6462 - mae: 1.6462\n",
            "Epoch 1039/2000\n",
            "1/1 [==============================] - 0s 40ms/step - loss: 1.6406 - mae: 1.6406\n",
            "Epoch 1040/2000\n",
            "1/1 [==============================] - 0s 29ms/step - loss: 1.6349 - mae: 1.6349\n",
            "Epoch 1041/2000\n",
            "1/1 [==============================] - 0s 14ms/step - loss: 1.6293 - mae: 1.6293\n",
            "Epoch 1042/2000\n",
            "1/1 [==============================] - 0s 13ms/step - loss: 1.6237 - mae: 1.6237\n",
            "Epoch 1043/2000\n",
            "1/1 [==============================] - 0s 13ms/step - loss: 1.6181 - mae: 1.6181\n",
            "Epoch 1044/2000\n",
            "1/1 [==============================] - 0s 21ms/step - loss: 1.6124 - mae: 1.6124\n",
            "Epoch 1045/2000\n",
            "1/1 [==============================] - 0s 11ms/step - loss: 1.6068 - mae: 1.6068\n",
            "Epoch 1046/2000\n",
            "1/1 [==============================] - 0s 24ms/step - loss: 1.6012 - mae: 1.6012\n",
            "Epoch 1047/2000\n",
            "1/1 [==============================] - 0s 14ms/step - loss: 1.5956 - mae: 1.5956\n",
            "Epoch 1048/2000\n",
            "1/1 [==============================] - 0s 9ms/step - loss: 1.5899 - mae: 1.5899\n",
            "Epoch 1049/2000\n",
            "1/1 [==============================] - 0s 12ms/step - loss: 1.5843 - mae: 1.5843\n",
            "Epoch 1050/2000\n",
            "1/1 [==============================] - 0s 8ms/step - loss: 1.5787 - mae: 1.5787\n",
            "Epoch 1051/2000\n",
            "1/1 [==============================] - 0s 7ms/step - loss: 1.5731 - mae: 1.5731\n",
            "Epoch 1052/2000\n",
            "1/1 [==============================] - 0s 8ms/step - loss: 1.5674 - mae: 1.5674\n",
            "Epoch 1053/2000\n",
            "1/1 [==============================] - 0s 11ms/step - loss: 1.5618 - mae: 1.5618\n",
            "Epoch 1054/2000\n",
            "1/1 [==============================] - 0s 14ms/step - loss: 1.5562 - mae: 1.5562\n",
            "Epoch 1055/2000\n",
            "1/1 [==============================] - 0s 13ms/step - loss: 1.5506 - mae: 1.5506\n",
            "Epoch 1056/2000\n",
            "1/1 [==============================] - 0s 8ms/step - loss: 1.5449 - mae: 1.5449\n",
            "Epoch 1057/2000\n",
            "1/1 [==============================] - 0s 8ms/step - loss: 1.5393 - mae: 1.5393\n",
            "Epoch 1058/2000\n",
            "1/1 [==============================] - 0s 8ms/step - loss: 1.5337 - mae: 1.5337\n",
            "Epoch 1059/2000\n",
            "1/1 [==============================] - 0s 8ms/step - loss: 1.5281 - mae: 1.5281\n",
            "Epoch 1060/2000\n",
            "1/1 [==============================] - 0s 23ms/step - loss: 1.5224 - mae: 1.5224\n",
            "Epoch 1061/2000\n",
            "1/1 [==============================] - 0s 18ms/step - loss: 1.5168 - mae: 1.5168\n",
            "Epoch 1062/2000\n",
            "1/1 [==============================] - 0s 12ms/step - loss: 1.5112 - mae: 1.5112\n",
            "Epoch 1063/2000\n",
            "1/1 [==============================] - 0s 8ms/step - loss: 1.5056 - mae: 1.5056\n",
            "Epoch 1064/2000\n",
            "1/1 [==============================] - 0s 13ms/step - loss: 1.4999 - mae: 1.4999\n",
            "Epoch 1065/2000\n",
            "1/1 [==============================] - 0s 14ms/step - loss: 1.4943 - mae: 1.4943\n",
            "Epoch 1066/2000\n",
            "1/1 [==============================] - 0s 12ms/step - loss: 1.4887 - mae: 1.4887\n",
            "Epoch 1067/2000\n",
            "1/1 [==============================] - 0s 8ms/step - loss: 1.4831 - mae: 1.4831\n",
            "Epoch 1068/2000\n",
            "1/1 [==============================] - 0s 15ms/step - loss: 1.4774 - mae: 1.4774\n",
            "Epoch 1069/2000\n",
            "1/1 [==============================] - 0s 14ms/step - loss: 1.4718 - mae: 1.4718\n",
            "Epoch 1070/2000\n",
            "1/1 [==============================] - 0s 38ms/step - loss: 1.4680 - mae: 1.4680\n",
            "Epoch 1071/2000\n",
            "1/1 [==============================] - 0s 8ms/step - loss: 1.4624 - mae: 1.4624\n",
            "Epoch 1072/2000\n",
            "1/1 [==============================] - 0s 7ms/step - loss: 1.4568 - mae: 1.4568\n",
            "Epoch 1073/2000\n",
            "1/1 [==============================] - 0s 7ms/step - loss: 1.4512 - mae: 1.4512\n",
            "Epoch 1074/2000\n",
            "1/1 [==============================] - 0s 7ms/step - loss: 1.4456 - mae: 1.4456\n",
            "Epoch 1075/2000\n",
            "1/1 [==============================] - 0s 8ms/step - loss: 1.4399 - mae: 1.4399\n",
            "Epoch 1076/2000\n",
            "1/1 [==============================] - 0s 8ms/step - loss: 1.4343 - mae: 1.4343\n",
            "Epoch 1077/2000\n",
            "1/1 [==============================] - 0s 6ms/step - loss: 1.4287 - mae: 1.4287\n",
            "Epoch 1078/2000\n",
            "1/1 [==============================] - 0s 15ms/step - loss: 1.4231 - mae: 1.4231\n",
            "Epoch 1079/2000\n",
            "1/1 [==============================] - 0s 8ms/step - loss: 1.4174 - mae: 1.4174\n",
            "Epoch 1080/2000\n",
            "1/1 [==============================] - 0s 20ms/step - loss: 1.4118 - mae: 1.4118\n",
            "Epoch 1081/2000\n",
            "1/1 [==============================] - 0s 15ms/step - loss: 1.4062 - mae: 1.4062\n",
            "Epoch 1082/2000\n",
            "1/1 [==============================] - 0s 9ms/step - loss: 1.4006 - mae: 1.4006\n",
            "Epoch 1083/2000\n",
            "1/1 [==============================] - 0s 11ms/step - loss: 1.3949 - mae: 1.3949\n",
            "Epoch 1084/2000\n",
            "1/1 [==============================] - 0s 7ms/step - loss: 1.3893 - mae: 1.3893\n",
            "Epoch 1085/2000\n",
            "1/1 [==============================] - 0s 8ms/step - loss: 1.3837 - mae: 1.3837\n",
            "Epoch 1086/2000\n",
            "1/1 [==============================] - 0s 7ms/step - loss: 1.3781 - mae: 1.3781\n",
            "Epoch 1087/2000\n",
            "1/1 [==============================] - 0s 7ms/step - loss: 1.3724 - mae: 1.3724\n",
            "Epoch 1088/2000\n",
            "1/1 [==============================] - 0s 6ms/step - loss: 1.3668 - mae: 1.3668\n",
            "Epoch 1089/2000\n",
            "1/1 [==============================] - 0s 10ms/step - loss: 1.3612 - mae: 1.3612\n",
            "Epoch 1090/2000\n",
            "1/1 [==============================] - 0s 12ms/step - loss: 1.3556 - mae: 1.3556\n",
            "Epoch 1091/2000\n",
            "1/1 [==============================] - 0s 7ms/step - loss: 1.3499 - mae: 1.3499\n",
            "Epoch 1092/2000\n",
            "1/1 [==============================] - 0s 6ms/step - loss: 1.3443 - mae: 1.3443\n",
            "Epoch 1093/2000\n",
            "1/1 [==============================] - 0s 7ms/step - loss: 1.3387 - mae: 1.3387\n",
            "Epoch 1094/2000\n",
            "1/1 [==============================] - 0s 7ms/step - loss: 1.3331 - mae: 1.3331\n",
            "Epoch 1095/2000\n",
            "1/1 [==============================] - 0s 7ms/step - loss: 1.3274 - mae: 1.3274\n",
            "Epoch 1096/2000\n",
            "1/1 [==============================] - 0s 5ms/step - loss: 1.3218 - mae: 1.3218\n",
            "Epoch 1097/2000\n",
            "1/1 [==============================] - 0s 6ms/step - loss: 1.3162 - mae: 1.3162\n",
            "Epoch 1098/2000\n",
            "1/1 [==============================] - 0s 7ms/step - loss: 1.3106 - mae: 1.3106\n",
            "Epoch 1099/2000\n",
            "1/1 [==============================] - 0s 11ms/step - loss: 1.3049 - mae: 1.3049\n",
            "Epoch 1100/2000\n",
            "1/1 [==============================] - 0s 12ms/step - loss: 1.2993 - mae: 1.2993\n",
            "Epoch 1101/2000\n",
            "1/1 [==============================] - 0s 16ms/step - loss: 1.2937 - mae: 1.2937\n",
            "Epoch 1102/2000\n",
            "1/1 [==============================] - 0s 10ms/step - loss: 1.2881 - mae: 1.2881\n",
            "Epoch 1103/2000\n",
            "1/1 [==============================] - 0s 9ms/step - loss: 1.2824 - mae: 1.2824\n",
            "Epoch 1104/2000\n",
            "1/1 [==============================] - 0s 9ms/step - loss: 1.2768 - mae: 1.2768\n",
            "Epoch 1105/2000\n",
            "1/1 [==============================] - 0s 10ms/step - loss: 1.2712 - mae: 1.2712\n",
            "Epoch 1106/2000\n",
            "1/1 [==============================] - 0s 10ms/step - loss: 1.2656 - mae: 1.2656\n",
            "Epoch 1107/2000\n",
            "1/1 [==============================] - 0s 9ms/step - loss: 1.2599 - mae: 1.2599\n",
            "Epoch 1108/2000\n",
            "1/1 [==============================] - 0s 14ms/step - loss: 1.2543 - mae: 1.2543\n",
            "Epoch 1109/2000\n",
            "1/1 [==============================] - 0s 12ms/step - loss: 1.2487 - mae: 1.2487\n",
            "Epoch 1110/2000\n",
            "1/1 [==============================] - 0s 58ms/step - loss: 1.2436 - mae: 1.2436\n",
            "Epoch 1111/2000\n",
            "1/1 [==============================] - 0s 9ms/step - loss: 1.2393 - mae: 1.2393\n",
            "Epoch 1112/2000\n",
            "1/1 [==============================] - 0s 16ms/step - loss: 1.2337 - mae: 1.2337\n",
            "Epoch 1113/2000\n",
            "1/1 [==============================] - 0s 27ms/step - loss: 1.2281 - mae: 1.2281\n",
            "Epoch 1114/2000\n",
            "1/1 [==============================] - 0s 15ms/step - loss: 1.2225 - mae: 1.2225\n",
            "Epoch 1115/2000\n",
            "1/1 [==============================] - 0s 9ms/step - loss: 1.2168 - mae: 1.2168\n",
            "Epoch 1116/2000\n",
            "1/1 [==============================] - 0s 13ms/step - loss: 1.2112 - mae: 1.2112\n",
            "Epoch 1117/2000\n",
            "1/1 [==============================] - 0s 8ms/step - loss: 1.2056 - mae: 1.2056\n",
            "Epoch 1118/2000\n",
            "1/1 [==============================] - 0s 6ms/step - loss: 1.2000 - mae: 1.2000\n",
            "Epoch 1119/2000\n",
            "1/1 [==============================] - 0s 14ms/step - loss: 1.1943 - mae: 1.1943\n",
            "Epoch 1120/2000\n",
            "1/1 [==============================] - 0s 19ms/step - loss: 1.1887 - mae: 1.1887\n",
            "Epoch 1121/2000\n",
            "1/1 [==============================] - 0s 8ms/step - loss: 1.1831 - mae: 1.1831\n",
            "Epoch 1122/2000\n",
            "1/1 [==============================] - 0s 10ms/step - loss: 1.1775 - mae: 1.1775\n",
            "Epoch 1123/2000\n",
            "1/1 [==============================] - 0s 17ms/step - loss: 1.1718 - mae: 1.1718\n",
            "Epoch 1124/2000\n",
            "1/1 [==============================] - 0s 12ms/step - loss: 1.1662 - mae: 1.1662\n",
            "Epoch 1125/2000\n",
            "1/1 [==============================] - 0s 32ms/step - loss: 1.1606 - mae: 1.1606\n",
            "Epoch 1126/2000\n",
            "1/1 [==============================] - 0s 25ms/step - loss: 1.1550 - mae: 1.1550\n",
            "Epoch 1127/2000\n",
            "1/1 [==============================] - 0s 19ms/step - loss: 1.1493 - mae: 1.1493\n",
            "Epoch 1128/2000\n",
            "1/1 [==============================] - 0s 16ms/step - loss: 1.1437 - mae: 1.1437\n",
            "Epoch 1129/2000\n",
            "1/1 [==============================] - 0s 18ms/step - loss: 1.1381 - mae: 1.1381\n",
            "Epoch 1130/2000\n",
            "1/1 [==============================] - 0s 19ms/step - loss: 1.1325 - mae: 1.1325\n",
            "Epoch 1131/2000\n",
            "1/1 [==============================] - 0s 22ms/step - loss: 1.1268 - mae: 1.1268\n",
            "Epoch 1132/2000\n",
            "1/1 [==============================] - 0s 14ms/step - loss: 1.1212 - mae: 1.1212\n",
            "Epoch 1133/2000\n",
            "1/1 [==============================] - 0s 17ms/step - loss: 1.1156 - mae: 1.1156\n",
            "Epoch 1134/2000\n",
            "1/1 [==============================] - 0s 13ms/step - loss: 1.1100 - mae: 1.1100\n",
            "Epoch 1135/2000\n",
            "1/1 [==============================] - 0s 7ms/step - loss: 1.1043 - mae: 1.1043\n",
            "Epoch 1136/2000\n",
            "1/1 [==============================] - 0s 5ms/step - loss: 1.0987 - mae: 1.0987\n",
            "Epoch 1137/2000\n",
            "1/1 [==============================] - 0s 6ms/step - loss: 1.0931 - mae: 1.0931\n",
            "Epoch 1138/2000\n",
            "1/1 [==============================] - 0s 8ms/step - loss: 1.0875 - mae: 1.0875\n",
            "Epoch 1139/2000\n",
            "1/1 [==============================] - 0s 26ms/step - loss: 1.0818 - mae: 1.0818\n",
            "Epoch 1140/2000\n",
            "1/1 [==============================] - 0s 6ms/step - loss: 1.0762 - mae: 1.0762\n",
            "Epoch 1141/2000\n",
            "1/1 [==============================] - 0s 8ms/step - loss: 1.0706 - mae: 1.0706\n",
            "Epoch 1142/2000\n",
            "1/1 [==============================] - 0s 31ms/step - loss: 1.0650 - mae: 1.0650\n",
            "Epoch 1143/2000\n",
            "1/1 [==============================] - 0s 32ms/step - loss: 1.0593 - mae: 1.0593\n",
            "Epoch 1144/2000\n",
            "1/1 [==============================] - 0s 36ms/step - loss: 1.0537 - mae: 1.0537\n",
            "Epoch 1145/2000\n",
            "1/1 [==============================] - 0s 38ms/step - loss: 1.0481 - mae: 1.0481\n",
            "Epoch 1146/2000\n",
            "1/1 [==============================] - 0s 19ms/step - loss: 1.0425 - mae: 1.0425\n",
            "Epoch 1147/2000\n",
            "1/1 [==============================] - 0s 16ms/step - loss: 1.0368 - mae: 1.0368\n",
            "Epoch 1148/2000\n",
            "1/1 [==============================] - 0s 13ms/step - loss: 1.0312 - mae: 1.0312\n",
            "Epoch 1149/2000\n",
            "1/1 [==============================] - 0s 10ms/step - loss: 1.0256 - mae: 1.0256\n",
            "Epoch 1150/2000\n",
            "1/1 [==============================] - 0s 8ms/step - loss: 1.0200 - mae: 1.0200\n",
            "Epoch 1151/2000\n",
            "1/1 [==============================] - 0s 8ms/step - loss: 1.0155 - mae: 1.0155\n",
            "Epoch 1152/2000\n",
            "1/1 [==============================] - 0s 6ms/step - loss: 1.0119 - mae: 1.0119\n",
            "Epoch 1153/2000\n",
            "1/1 [==============================] - 0s 4ms/step - loss: 1.0286 - mae: 1.0286\n",
            "Epoch 1154/2000\n",
            "1/1 [==============================] - 0s 5ms/step - loss: 0.9993 - mae: 0.9993\n",
            "Epoch 1155/2000\n",
            "1/1 [==============================] - 0s 7ms/step - loss: 0.9937 - mae: 0.9937\n",
            "Epoch 1156/2000\n",
            "1/1 [==============================] - 0s 8ms/step - loss: 0.9881 - mae: 0.9881\n",
            "Epoch 1157/2000\n",
            "1/1 [==============================] - 0s 17ms/step - loss: 0.9825 - mae: 0.9825\n",
            "Epoch 1158/2000\n",
            "1/1 [==============================] - 0s 12ms/step - loss: 0.9768 - mae: 0.9768\n",
            "Epoch 1159/2000\n",
            "1/1 [==============================] - 0s 14ms/step - loss: 0.9712 - mae: 0.9712\n",
            "Epoch 1160/2000\n",
            "1/1 [==============================] - 0s 8ms/step - loss: 0.9656 - mae: 0.9656\n",
            "Epoch 1161/2000\n",
            "1/1 [==============================] - 0s 8ms/step - loss: 0.9600 - mae: 0.9600\n",
            "Epoch 1162/2000\n",
            "1/1 [==============================] - 0s 8ms/step - loss: 0.9543 - mae: 0.9543\n",
            "Epoch 1163/2000\n",
            "1/1 [==============================] - 0s 8ms/step - loss: 0.9487 - mae: 0.9487\n",
            "Epoch 1164/2000\n",
            "1/1 [==============================] - 0s 8ms/step - loss: 0.9431 - mae: 0.9431\n",
            "Epoch 1165/2000\n",
            "1/1 [==============================] - 0s 11ms/step - loss: 0.9375 - mae: 0.9375\n",
            "Epoch 1166/2000\n",
            "1/1 [==============================] - 0s 7ms/step - loss: 0.9318 - mae: 0.9318\n",
            "Epoch 1167/2000\n",
            "1/1 [==============================] - 0s 8ms/step - loss: 0.9262 - mae: 0.9262\n",
            "Epoch 1168/2000\n",
            "1/1 [==============================] - 0s 8ms/step - loss: 0.9206 - mae: 0.9206\n",
            "Epoch 1169/2000\n",
            "1/1 [==============================] - 0s 4ms/step - loss: 0.9150 - mae: 0.9150\n",
            "Epoch 1170/2000\n",
            "1/1 [==============================] - 0s 7ms/step - loss: 0.9093 - mae: 0.9093\n",
            "Epoch 1171/2000\n",
            "1/1 [==============================] - 0s 9ms/step - loss: 0.9037 - mae: 0.9037\n",
            "Epoch 1172/2000\n",
            "1/1 [==============================] - 0s 4ms/step - loss: 0.8981 - mae: 0.8981\n",
            "Epoch 1173/2000\n",
            "1/1 [==============================] - 0s 8ms/step - loss: 0.8925 - mae: 0.8925\n",
            "Epoch 1174/2000\n",
            "1/1 [==============================] - 0s 11ms/step - loss: 0.8868 - mae: 0.8868\n",
            "Epoch 1175/2000\n",
            "1/1 [==============================] - 0s 8ms/step - loss: 0.8812 - mae: 0.8812\n",
            "Epoch 1176/2000\n",
            "1/1 [==============================] - 0s 9ms/step - loss: 0.8756 - mae: 0.8756\n",
            "Epoch 1177/2000\n",
            "1/1 [==============================] - 0s 6ms/step - loss: 0.8700 - mae: 0.8700\n",
            "Epoch 1178/2000\n",
            "1/1 [==============================] - 0s 7ms/step - loss: 0.8643 - mae: 0.8643\n",
            "Epoch 1179/2000\n",
            "1/1 [==============================] - 0s 10ms/step - loss: 0.8587 - mae: 0.8587\n",
            "Epoch 1180/2000\n",
            "1/1 [==============================] - 0s 9ms/step - loss: 0.8531 - mae: 0.8531\n",
            "Epoch 1181/2000\n",
            "1/1 [==============================] - 0s 7ms/step - loss: 0.8493 - mae: 0.8493\n",
            "Epoch 1182/2000\n",
            "1/1 [==============================] - 0s 9ms/step - loss: 0.8594 - mae: 0.8594\n",
            "Epoch 1183/2000\n",
            "1/1 [==============================] - 0s 6ms/step - loss: 0.8624 - mae: 0.8624\n",
            "Epoch 1184/2000\n",
            "1/1 [==============================] - 0s 6ms/step - loss: 0.8325 - mae: 0.8325\n",
            "Epoch 1185/2000\n",
            "1/1 [==============================] - 0s 7ms/step - loss: 0.8268 - mae: 0.8268\n",
            "Epoch 1186/2000\n",
            "1/1 [==============================] - 0s 6ms/step - loss: 0.8212 - mae: 0.8212\n",
            "Epoch 1187/2000\n",
            "1/1 [==============================] - 0s 12ms/step - loss: 0.8156 - mae: 0.8156\n",
            "Epoch 1188/2000\n",
            "1/1 [==============================] - 0s 8ms/step - loss: 0.8100 - mae: 0.8100\n",
            "Epoch 1189/2000\n",
            "1/1 [==============================] - 0s 8ms/step - loss: 0.8043 - mae: 0.8043\n",
            "Epoch 1190/2000\n",
            "1/1 [==============================] - 0s 7ms/step - loss: 0.7987 - mae: 0.7987\n",
            "Epoch 1191/2000\n",
            "1/1 [==============================] - 0s 4ms/step - loss: 0.7931 - mae: 0.7931\n",
            "Epoch 1192/2000\n",
            "1/1 [==============================] - 0s 8ms/step - loss: 0.7875 - mae: 0.7875\n",
            "Epoch 1193/2000\n",
            "1/1 [==============================] - 0s 9ms/step - loss: 0.7818 - mae: 0.7818\n",
            "Epoch 1194/2000\n",
            "1/1 [==============================] - 0s 8ms/step - loss: 0.7762 - mae: 0.7762\n",
            "Epoch 1195/2000\n",
            "1/1 [==============================] - 0s 11ms/step - loss: 0.7706 - mae: 0.7706\n",
            "Epoch 1196/2000\n",
            "1/1 [==============================] - 0s 8ms/step - loss: 0.7650 - mae: 0.7650\n",
            "Epoch 1197/2000\n",
            "1/1 [==============================] - 0s 13ms/step - loss: 0.7593 - mae: 0.7593\n",
            "Epoch 1198/2000\n",
            "1/1 [==============================] - 0s 9ms/step - loss: 0.7537 - mae: 0.7537\n",
            "Epoch 1199/2000\n",
            "1/1 [==============================] - 0s 4ms/step - loss: 0.7481 - mae: 0.7481\n",
            "Epoch 1200/2000\n",
            "1/1 [==============================] - 0s 9ms/step - loss: 0.7425 - mae: 0.7425\n",
            "Epoch 1201/2000\n",
            "1/1 [==============================] - 0s 8ms/step - loss: 0.7368 - mae: 0.7368\n",
            "Epoch 1202/2000\n",
            "1/1 [==============================] - 0s 10ms/step - loss: 0.7312 - mae: 0.7312\n",
            "Epoch 1203/2000\n",
            "1/1 [==============================] - 0s 12ms/step - loss: 0.7256 - mae: 0.7256\n",
            "Epoch 1204/2000\n",
            "1/1 [==============================] - 0s 9ms/step - loss: 0.7200 - mae: 0.7200\n",
            "Epoch 1205/2000\n",
            "1/1 [==============================] - 0s 5ms/step - loss: 0.7143 - mae: 0.7143\n",
            "Epoch 1206/2000\n",
            "1/1 [==============================] - 0s 9ms/step - loss: 0.7087 - mae: 0.7087\n",
            "Epoch 1207/2000\n",
            "1/1 [==============================] - 0s 9ms/step - loss: 0.7031 - mae: 0.7031\n",
            "Epoch 1208/2000\n",
            "1/1 [==============================] - 0s 8ms/step - loss: 0.6975 - mae: 0.6975\n",
            "Epoch 1209/2000\n",
            "1/1 [==============================] - 0s 31ms/step - loss: 0.6918 - mae: 0.6918\n",
            "Epoch 1210/2000\n",
            "1/1 [==============================] - 0s 11ms/step - loss: 0.6868 - mae: 0.6868\n",
            "Epoch 1211/2000\n",
            "1/1 [==============================] - 0s 20ms/step - loss: 0.7144 - mae: 0.7144\n",
            "Epoch 1212/2000\n",
            "1/1 [==============================] - 0s 10ms/step - loss: 0.6999 - mae: 0.6999\n",
            "Epoch 1213/2000\n",
            "1/1 [==============================] - 0s 13ms/step - loss: 0.6732 - mae: 0.6732\n",
            "Epoch 1214/2000\n",
            "1/1 [==============================] - 0s 9ms/step - loss: 0.7130 - mae: 0.7130\n",
            "Epoch 1215/2000\n",
            "1/1 [==============================] - 0s 8ms/step - loss: 0.6600 - mae: 0.6600\n",
            "Epoch 1216/2000\n",
            "1/1 [==============================] - 0s 12ms/step - loss: 0.6543 - mae: 0.6543\n",
            "Epoch 1217/2000\n",
            "1/1 [==============================] - 0s 9ms/step - loss: 0.6487 - mae: 0.6487\n",
            "Epoch 1218/2000\n",
            "1/1 [==============================] - 0s 13ms/step - loss: 0.6431 - mae: 0.6431\n",
            "Epoch 1219/2000\n",
            "1/1 [==============================] - 0s 20ms/step - loss: 0.6375 - mae: 0.6375\n",
            "Epoch 1220/2000\n",
            "1/1 [==============================] - 0s 13ms/step - loss: 0.6318 - mae: 0.6318\n",
            "Epoch 1221/2000\n",
            "1/1 [==============================] - 0s 17ms/step - loss: 0.6262 - mae: 0.6262\n",
            "Epoch 1222/2000\n",
            "1/1 [==============================] - 0s 7ms/step - loss: 0.6206 - mae: 0.6206\n",
            "Epoch 1223/2000\n",
            "1/1 [==============================] - 0s 15ms/step - loss: 0.6150 - mae: 0.6150\n",
            "Epoch 1224/2000\n",
            "1/1 [==============================] - 0s 11ms/step - loss: 0.6093 - mae: 0.6093\n",
            "Epoch 1225/2000\n",
            "1/1 [==============================] - 0s 9ms/step - loss: 0.6037 - mae: 0.6037\n",
            "Epoch 1226/2000\n",
            "1/1 [==============================] - 0s 12ms/step - loss: 0.5981 - mae: 0.5981\n",
            "Epoch 1227/2000\n",
            "1/1 [==============================] - 0s 16ms/step - loss: 0.5925 - mae: 0.5925\n",
            "Epoch 1228/2000\n",
            "1/1 [==============================] - 0s 10ms/step - loss: 0.5868 - mae: 0.5868\n",
            "Epoch 1229/2000\n",
            "1/1 [==============================] - 0s 13ms/step - loss: 0.5824 - mae: 0.5824\n",
            "Epoch 1230/2000\n",
            "1/1 [==============================] - 0s 13ms/step - loss: 0.6182 - mae: 0.6182\n",
            "Epoch 1231/2000\n",
            "1/1 [==============================] - 0s 12ms/step - loss: 0.5955 - mae: 0.5955\n",
            "Epoch 1232/2000\n",
            "1/1 [==============================] - 0s 15ms/step - loss: 0.5769 - mae: 0.5769\n",
            "Epoch 1233/2000\n",
            "1/1 [==============================] - 0s 7ms/step - loss: 0.6086 - mae: 0.6086\n",
            "Epoch 1234/2000\n",
            "1/1 [==============================] - 0s 12ms/step - loss: 0.5550 - mae: 0.5550\n",
            "Epoch 1235/2000\n",
            "1/1 [==============================] - 0s 7ms/step - loss: 0.5493 - mae: 0.5493\n",
            "Epoch 1236/2000\n",
            "1/1 [==============================] - 0s 6ms/step - loss: 0.5437 - mae: 0.5437\n",
            "Epoch 1237/2000\n",
            "1/1 [==============================] - 0s 14ms/step - loss: 0.5381 - mae: 0.5381\n",
            "Epoch 1238/2000\n",
            "1/1 [==============================] - 0s 14ms/step - loss: 0.5325 - mae: 0.5325\n",
            "Epoch 1239/2000\n",
            "1/1 [==============================] - 0s 11ms/step - loss: 0.5268 - mae: 0.5268\n",
            "Epoch 1240/2000\n",
            "1/1 [==============================] - 0s 17ms/step - loss: 0.5212 - mae: 0.5212\n",
            "Epoch 1241/2000\n",
            "1/1 [==============================] - 0s 17ms/step - loss: 0.5156 - mae: 0.5156\n",
            "Epoch 1242/2000\n",
            "1/1 [==============================] - 0s 11ms/step - loss: 0.5100 - mae: 0.5100\n",
            "Epoch 1243/2000\n",
            "1/1 [==============================] - 0s 21ms/step - loss: 0.5043 - mae: 0.5043\n",
            "Epoch 1244/2000\n",
            "1/1 [==============================] - 0s 4ms/step - loss: 0.4987 - mae: 0.4987\n",
            "Epoch 1245/2000\n",
            "1/1 [==============================] - 0s 15ms/step - loss: 0.4931 - mae: 0.4931\n",
            "Epoch 1246/2000\n",
            "1/1 [==============================] - 0s 17ms/step - loss: 0.4875 - mae: 0.4875\n",
            "Epoch 1247/2000\n",
            "1/1 [==============================] - 0s 26ms/step - loss: 0.4819 - mae: 0.4819\n",
            "Epoch 1248/2000\n",
            "1/1 [==============================] - 0s 8ms/step - loss: 0.4780 - mae: 0.4780\n",
            "Epoch 1249/2000\n",
            "1/1 [==============================] - 0s 5ms/step - loss: 0.5219 - mae: 0.5219\n",
            "Epoch 1250/2000\n",
            "1/1 [==============================] - 0s 9ms/step - loss: 0.4911 - mae: 0.4911\n",
            "Epoch 1251/2000\n",
            "1/1 [==============================] - 0s 16ms/step - loss: 0.4807 - mae: 0.4807\n",
            "Epoch 1252/2000\n",
            "1/1 [==============================] - 0s 13ms/step - loss: 0.5043 - mae: 0.5043\n",
            "Epoch 1253/2000\n",
            "1/1 [==============================] - 0s 14ms/step - loss: 0.4500 - mae: 0.4500\n",
            "Epoch 1254/2000\n",
            "1/1 [==============================] - 0s 10ms/step - loss: 0.4443 - mae: 0.4443\n",
            "Epoch 1255/2000\n",
            "1/1 [==============================] - 0s 11ms/step - loss: 0.4387 - mae: 0.4387\n",
            "Epoch 1256/2000\n",
            "1/1 [==============================] - 0s 11ms/step - loss: 0.4331 - mae: 0.4331\n",
            "Epoch 1257/2000\n",
            "1/1 [==============================] - 0s 13ms/step - loss: 0.4275 - mae: 0.4275\n",
            "Epoch 1258/2000\n",
            "1/1 [==============================] - 0s 7ms/step - loss: 0.4219 - mae: 0.4219\n",
            "Epoch 1259/2000\n",
            "1/1 [==============================] - 0s 9ms/step - loss: 0.4162 - mae: 0.4162\n",
            "Epoch 1260/2000\n",
            "1/1 [==============================] - 0s 9ms/step - loss: 0.4106 - mae: 0.4106\n",
            "Epoch 1261/2000\n",
            "1/1 [==============================] - 0s 9ms/step - loss: 0.4050 - mae: 0.4050\n",
            "Epoch 1262/2000\n",
            "1/1 [==============================] - 0s 16ms/step - loss: 0.3994 - mae: 0.3994\n",
            "Epoch 1263/2000\n",
            "1/1 [==============================] - 0s 19ms/step - loss: 0.3937 - mae: 0.3937\n",
            "Epoch 1264/2000\n",
            "1/1 [==============================] - 0s 11ms/step - loss: 0.3881 - mae: 0.3881\n",
            "Epoch 1265/2000\n",
            "1/1 [==============================] - 0s 9ms/step - loss: 0.3825 - mae: 0.3825\n",
            "Epoch 1266/2000\n",
            "1/1 [==============================] - 0s 11ms/step - loss: 0.3774 - mae: 0.3774\n",
            "Epoch 1267/2000\n",
            "1/1 [==============================] - 0s 13ms/step - loss: 0.4332 - mae: 0.4332\n",
            "Epoch 1268/2000\n",
            "1/1 [==============================] - 0s 6ms/step - loss: 0.3905 - mae: 0.3905\n",
            "Epoch 1269/2000\n",
            "1/1 [==============================] - 0s 12ms/step - loss: 0.3919 - mae: 0.3919\n",
            "Epoch 1270/2000\n",
            "1/1 [==============================] - 0s 13ms/step - loss: 0.4073 - mae: 0.4073\n",
            "Epoch 1271/2000\n",
            "1/1 [==============================] - 0s 39ms/step - loss: 0.4232 - mae: 0.4232\n",
            "Epoch 1272/2000\n",
            "1/1 [==============================] - 0s 16ms/step - loss: 0.3630 - mae: 0.3630\n",
            "Epoch 1273/2000\n",
            "1/1 [==============================] - 0s 14ms/step - loss: 0.3819 - mae: 0.3819\n",
            "Epoch 1274/2000\n",
            "1/1 [==============================] - 0s 7ms/step - loss: 0.3766 - mae: 0.3766\n",
            "Epoch 1275/2000\n",
            "1/1 [==============================] - 0s 58ms/step - loss: 0.4132 - mae: 0.4132\n",
            "Epoch 1276/2000\n",
            "1/1 [==============================] - 0s 13ms/step - loss: 0.3355 - mae: 0.3355\n",
            "Epoch 1277/2000\n",
            "1/1 [==============================] - 0s 24ms/step - loss: 0.3719 - mae: 0.3719\n",
            "Epoch 1278/2000\n",
            "1/1 [==============================] - 0s 14ms/step - loss: 0.3486 - mae: 0.3486\n",
            "Epoch 1279/2000\n",
            "1/1 [==============================] - 0s 25ms/step - loss: 0.3307 - mae: 0.3307\n",
            "Epoch 1280/2000\n",
            "1/1 [==============================] - 0s 19ms/step - loss: 0.3779 - mae: 0.3779\n",
            "Epoch 1281/2000\n",
            "1/1 [==============================] - 0s 13ms/step - loss: 0.3619 - mae: 0.3619\n",
            "Epoch 1282/2000\n",
            "1/1 [==============================] - 0s 11ms/step - loss: 0.3211 - mae: 0.3211\n",
            "Epoch 1283/2000\n",
            "1/1 [==============================] - 0s 5ms/step - loss: 0.3207 - mae: 0.3207\n",
            "Epoch 1284/2000\n",
            "1/1 [==============================] - 0s 17ms/step - loss: 0.3473 - mae: 0.3473\n",
            "Epoch 1285/2000\n",
            "1/1 [==============================] - 0s 21ms/step - loss: 0.3519 - mae: 0.3519\n",
            "Epoch 1286/2000\n",
            "1/1 [==============================] - 0s 27ms/step - loss: 0.2936 - mae: 0.2936\n",
            "Epoch 1287/2000\n",
            "1/1 [==============================] - 0s 8ms/step - loss: 0.3107 - mae: 0.3107\n",
            "Epoch 1288/2000\n",
            "1/1 [==============================] - 0s 14ms/step - loss: 0.3166 - mae: 0.3166\n",
            "Epoch 1289/2000\n",
            "1/1 [==============================] - 0s 24ms/step - loss: 0.3419 - mae: 0.3419\n",
            "Epoch 1290/2000\n",
            "1/1 [==============================] - 0s 8ms/step - loss: 0.2661 - mae: 0.2661\n",
            "Epoch 1291/2000\n",
            "1/1 [==============================] - 0s 13ms/step - loss: 0.3007 - mae: 0.3007\n",
            "Epoch 1292/2000\n",
            "1/1 [==============================] - 0s 12ms/step - loss: 0.2860 - mae: 0.2860\n",
            "Epoch 1293/2000\n",
            "1/1 [==============================] - 0s 24ms/step - loss: 0.3319 - mae: 0.3319\n",
            "Epoch 1294/2000\n",
            "1/1 [==============================] - 0s 14ms/step - loss: 0.2386 - mae: 0.2386\n",
            "Epoch 1295/2000\n",
            "1/1 [==============================] - 0s 13ms/step - loss: 0.2907 - mae: 0.2907\n",
            "Epoch 1296/2000\n",
            "1/1 [==============================] - 0s 12ms/step - loss: 0.2554 - mae: 0.2554\n",
            "Epoch 1297/2000\n",
            "1/1 [==============================] - 0s 13ms/step - loss: 0.3219 - mae: 0.3219\n",
            "Epoch 1298/2000\n",
            "1/1 [==============================] - 0s 11ms/step - loss: 0.2111 - mae: 0.2111\n",
            "Epoch 1299/2000\n",
            "1/1 [==============================] - 0s 13ms/step - loss: 0.2807 - mae: 0.2807\n",
            "Epoch 1300/2000\n",
            "1/1 [==============================] - 0s 13ms/step - loss: 0.2248 - mae: 0.2248\n",
            "Epoch 1301/2000\n",
            "1/1 [==============================] - 0s 10ms/step - loss: 0.3119 - mae: 0.3119\n",
            "Epoch 1302/2000\n",
            "1/1 [==============================] - 0s 12ms/step - loss: 0.1894 - mae: 0.1894\n",
            "Epoch 1303/2000\n",
            "1/1 [==============================] - 0s 24ms/step - loss: 0.1837 - mae: 0.1837\n",
            "Epoch 1304/2000\n",
            "1/1 [==============================] - 0s 12ms/step - loss: 0.1781 - mae: 0.1781\n",
            "Epoch 1305/2000\n",
            "1/1 [==============================] - 0s 13ms/step - loss: 0.1725 - mae: 0.1725\n",
            "Epoch 1306/2000\n",
            "1/1 [==============================] - 0s 7ms/step - loss: 0.1686 - mae: 0.1686\n",
            "Epoch 1307/2000\n",
            "1/1 [==============================] - 0s 14ms/step - loss: 0.2407 - mae: 0.2407\n",
            "Epoch 1308/2000\n",
            "1/1 [==============================] - 0s 10ms/step - loss: 0.1866 - mae: 0.1866\n",
            "Epoch 1309/2000\n",
            "1/1 [==============================] - 0s 11ms/step - loss: 0.2719 - mae: 0.2719\n",
            "Epoch 1310/2000\n",
            "1/1 [==============================] - 0s 10ms/step - loss: 0.1462 - mae: 0.1462\n",
            "Epoch 1311/2000\n",
            "1/1 [==============================] - 0s 9ms/step - loss: 0.1406 - mae: 0.1406\n",
            "Epoch 1312/2000\n",
            "1/1 [==============================] - 0s 9ms/step - loss: 0.1350 - mae: 0.1350\n",
            "Epoch 1313/2000\n",
            "1/1 [==============================] - 0s 11ms/step - loss: 0.1299 - mae: 0.1299\n",
            "Epoch 1314/2000\n",
            "1/1 [==============================] - 0s 23ms/step - loss: 0.2082 - mae: 0.2082\n",
            "Epoch 1315/2000\n",
            "1/1 [==============================] - 0s 6ms/step - loss: 0.1504 - mae: 0.1504\n",
            "Epoch 1316/2000\n",
            "1/1 [==============================] - 0s 6ms/step - loss: 0.2429 - mae: 0.2429\n",
            "Epoch 1317/2000\n",
            "1/1 [==============================] - 0s 13ms/step - loss: 0.1716 - mae: 0.1716\n",
            "Epoch 1318/2000\n",
            "1/1 [==============================] - 0s 8ms/step - loss: 0.2119 - mae: 0.2119\n",
            "Epoch 1319/2000\n",
            "1/1 [==============================] - 0s 9ms/step - loss: 0.1111 - mae: 0.1111\n",
            "Epoch 1320/2000\n",
            "1/1 [==============================] - 0s 10ms/step - loss: 0.1707 - mae: 0.1707\n",
            "Epoch 1321/2000\n",
            "1/1 [==============================] - 0s 9ms/step - loss: 0.1410 - mae: 0.1410\n",
            "Epoch 1322/2000\n",
            "1/1 [==============================] - 0s 13ms/step - loss: 0.2148 - mae: 0.2148\n",
            "Epoch 1323/2000\n",
            "1/1 [==============================] - 0s 15ms/step - loss: 0.1702 - mae: 0.1702\n",
            "Epoch 1324/2000\n",
            "1/1 [==============================] - 0s 14ms/step - loss: 0.2527 - mae: 0.2527\n",
            "Epoch 1325/2000\n",
            "1/1 [==============================] - 0s 27ms/step - loss: 0.1852 - mae: 0.1852\n",
            "Epoch 1326/2000\n",
            "1/1 [==============================] - 0s 24ms/step - loss: 0.2345 - mae: 0.2345\n",
            "Epoch 1327/2000\n",
            "1/1 [==============================] - 0s 9ms/step - loss: 0.2002 - mae: 0.2002\n",
            "Epoch 1328/2000\n",
            "1/1 [==============================] - 0s 8ms/step - loss: 0.2164 - mae: 0.2164\n",
            "Epoch 1329/2000\n",
            "1/1 [==============================] - 0s 5ms/step - loss: 0.2152 - mae: 0.2152\n",
            "Epoch 1330/2000\n",
            "1/1 [==============================] - 0s 9ms/step - loss: 0.1983 - mae: 0.1983\n",
            "Epoch 1331/2000\n",
            "1/1 [==============================] - 0s 18ms/step - loss: 0.2302 - mae: 0.2302\n",
            "Epoch 1332/2000\n",
            "1/1 [==============================] - 0s 22ms/step - loss: 0.1810 - mae: 0.1810\n",
            "Epoch 1333/2000\n",
            "1/1 [==============================] - 0s 13ms/step - loss: 0.1852 - mae: 0.1852\n",
            "Epoch 1334/2000\n",
            "1/1 [==============================] - 0s 18ms/step - loss: 0.2233 - mae: 0.2233\n",
            "Epoch 1335/2000\n",
            "1/1 [==============================] - 0s 31ms/step - loss: 0.2002 - mae: 0.2002\n",
            "Epoch 1336/2000\n",
            "1/1 [==============================] - 0s 6ms/step - loss: 0.2052 - mae: 0.2052\n",
            "Epoch 1337/2000\n",
            "1/1 [==============================] - 0s 69ms/step - loss: 0.2152 - mae: 0.2152\n",
            "Epoch 1338/2000\n",
            "1/1 [==============================] - 0s 18ms/step - loss: 0.1870 - mae: 0.1870\n",
            "Epoch 1339/2000\n",
            "1/1 [==============================] - 0s 23ms/step - loss: 0.2325 - mae: 0.2325\n",
            "Epoch 1340/2000\n",
            "1/1 [==============================] - 0s 23ms/step - loss: 0.2014 - mae: 0.2014\n",
            "Epoch 1341/2000\n",
            "1/1 [==============================] - 0s 10ms/step - loss: 0.2169 - mae: 0.2169\n",
            "Epoch 1342/2000\n",
            "1/1 [==============================] - 0s 12ms/step - loss: 0.2158 - mae: 0.2158\n",
            "Epoch 1343/2000\n",
            "1/1 [==============================] - 0s 9ms/step - loss: 0.2013 - mae: 0.2013\n",
            "Epoch 1344/2000\n",
            "1/1 [==============================] - 0s 40ms/step - loss: 0.2302 - mae: 0.2302\n",
            "Epoch 1345/2000\n",
            "1/1 [==============================] - 0s 24ms/step - loss: 0.1857 - mae: 0.1857\n",
            "Epoch 1346/2000\n",
            "1/1 [==============================] - 0s 11ms/step - loss: 0.2445 - mae: 0.2445\n",
            "Epoch 1347/2000\n",
            "1/1 [==============================] - 0s 19ms/step - loss: 0.1702 - mae: 0.1702\n",
            "Epoch 1348/2000\n",
            "1/1 [==============================] - 0s 17ms/step - loss: 0.2264 - mae: 0.2264\n",
            "Epoch 1349/2000\n",
            "1/1 [==============================] - 0s 24ms/step - loss: 0.1875 - mae: 0.1875\n",
            "Epoch 1350/2000\n",
            "1/1 [==============================] - 0s 31ms/step - loss: 0.2408 - mae: 0.2408\n",
            "Epoch 1351/2000\n",
            "1/1 [==============================] - 0s 22ms/step - loss: 0.1719 - mae: 0.1719\n",
            "Epoch 1352/2000\n",
            "1/1 [==============================] - 0s 23ms/step - loss: 0.2552 - mae: 0.2552\n",
            "Epoch 1353/2000\n",
            "1/1 [==============================] - 0s 22ms/step - loss: 0.1563 - mae: 0.1563\n",
            "Epoch 1354/2000\n",
            "1/1 [==============================] - 0s 96ms/step - loss: 0.2695 - mae: 0.2695\n",
            "Epoch 1355/2000\n",
            "1/1 [==============================] - 0s 72ms/step - loss: 0.1407 - mae: 0.1407\n",
            "Epoch 1356/2000\n",
            "1/1 [==============================] - 0s 45ms/step - loss: 0.2839 - mae: 0.2839\n",
            "Epoch 1357/2000\n",
            "1/1 [==============================] - 0s 12ms/step - loss: 0.1252 - mae: 0.1252\n",
            "Epoch 1358/2000\n",
            "1/1 [==============================] - 0s 9ms/step - loss: 0.2658 - mae: 0.2658\n",
            "Epoch 1359/2000\n",
            "1/1 [==============================] - 0s 11ms/step - loss: 0.1425 - mae: 0.1425\n",
            "Epoch 1360/2000\n",
            "1/1 [==============================] - 0s 17ms/step - loss: 0.2806 - mae: 0.2806\n",
            "Epoch 1361/2000\n",
            "1/1 [==============================] - 0s 8ms/step - loss: 0.1425 - mae: 0.1425\n",
            "Epoch 1362/2000\n",
            "1/1 [==============================] - 0s 14ms/step - loss: 0.2806 - mae: 0.2806\n",
            "Epoch 1363/2000\n",
            "1/1 [==============================] - 0s 6ms/step - loss: 0.1425 - mae: 0.1425\n",
            "Epoch 1364/2000\n",
            "1/1 [==============================] - 0s 10ms/step - loss: 0.2806 - mae: 0.2806\n",
            "Epoch 1365/2000\n",
            "1/1 [==============================] - 0s 12ms/step - loss: 0.1425 - mae: 0.1425\n",
            "Epoch 1366/2000\n",
            "1/1 [==============================] - 0s 69ms/step - loss: 0.2806 - mae: 0.2806\n",
            "Epoch 1367/2000\n",
            "1/1 [==============================] - 0s 18ms/step - loss: 0.1425 - mae: 0.1425\n",
            "Epoch 1368/2000\n",
            "1/1 [==============================] - 0s 5ms/step - loss: 0.2806 - mae: 0.2806\n",
            "Epoch 1369/2000\n",
            "1/1 [==============================] - 0s 5ms/step - loss: 0.1425 - mae: 0.1425\n",
            "Epoch 1370/2000\n",
            "1/1 [==============================] - 0s 7ms/step - loss: 0.2806 - mae: 0.2806\n",
            "Epoch 1371/2000\n",
            "1/1 [==============================] - 0s 9ms/step - loss: 0.1425 - mae: 0.1425\n",
            "Epoch 1372/2000\n",
            "1/1 [==============================] - 0s 6ms/step - loss: 0.2806 - mae: 0.2806\n",
            "Epoch 1373/2000\n",
            "1/1 [==============================] - 0s 9ms/step - loss: 0.1425 - mae: 0.1425\n",
            "Epoch 1374/2000\n",
            "1/1 [==============================] - 0s 8ms/step - loss: 0.2806 - mae: 0.2806\n",
            "Epoch 1375/2000\n",
            "1/1 [==============================] - 0s 9ms/step - loss: 0.1425 - mae: 0.1425\n",
            "Epoch 1376/2000\n",
            "1/1 [==============================] - 0s 4ms/step - loss: 0.2806 - mae: 0.2806\n",
            "Epoch 1377/2000\n",
            "1/1 [==============================] - 0s 28ms/step - loss: 0.1425 - mae: 0.1425\n",
            "Epoch 1378/2000\n",
            "1/1 [==============================] - 0s 7ms/step - loss: 0.2806 - mae: 0.2806\n",
            "Epoch 1379/2000\n",
            "1/1 [==============================] - 0s 7ms/step - loss: 0.1425 - mae: 0.1425\n",
            "Epoch 1380/2000\n",
            "1/1 [==============================] - 0s 9ms/step - loss: 0.2806 - mae: 0.2806\n",
            "Epoch 1381/2000\n",
            "1/1 [==============================] - 0s 7ms/step - loss: 0.1425 - mae: 0.1425\n",
            "Epoch 1382/2000\n",
            "1/1 [==============================] - 0s 10ms/step - loss: 0.2806 - mae: 0.2806\n",
            "Epoch 1383/2000\n",
            "1/1 [==============================] - 0s 14ms/step - loss: 0.1425 - mae: 0.1425\n",
            "Epoch 1384/2000\n",
            "1/1 [==============================] - 0s 7ms/step - loss: 0.2806 - mae: 0.2806\n",
            "Epoch 1385/2000\n",
            "1/1 [==============================] - 0s 10ms/step - loss: 0.1425 - mae: 0.1425\n",
            "Epoch 1386/2000\n",
            "1/1 [==============================] - 0s 9ms/step - loss: 0.2806 - mae: 0.2806\n",
            "Epoch 1387/2000\n",
            "1/1 [==============================] - 0s 7ms/step - loss: 0.1425 - mae: 0.1425\n",
            "Epoch 1388/2000\n",
            "1/1 [==============================] - 0s 7ms/step - loss: 0.2806 - mae: 0.2806\n",
            "Epoch 1389/2000\n",
            "1/1 [==============================] - 0s 7ms/step - loss: 0.1425 - mae: 0.1425\n",
            "Epoch 1390/2000\n",
            "1/1 [==============================] - 0s 13ms/step - loss: 0.2806 - mae: 0.2806\n",
            "Epoch 1391/2000\n",
            "1/1 [==============================] - 0s 9ms/step - loss: 0.1425 - mae: 0.1425\n",
            "Epoch 1392/2000\n",
            "1/1 [==============================] - 0s 15ms/step - loss: 0.2806 - mae: 0.2806\n",
            "Epoch 1393/2000\n",
            "1/1 [==============================] - 0s 9ms/step - loss: 0.1425 - mae: 0.1425\n",
            "Epoch 1394/2000\n",
            "1/1 [==============================] - 0s 9ms/step - loss: 0.2806 - mae: 0.2806\n",
            "Epoch 1395/2000\n",
            "1/1 [==============================] - 0s 8ms/step - loss: 0.1425 - mae: 0.1425\n",
            "Epoch 1396/2000\n",
            "1/1 [==============================] - 0s 7ms/step - loss: 0.2806 - mae: 0.2806\n",
            "Epoch 1397/2000\n",
            "1/1 [==============================] - 0s 8ms/step - loss: 0.1425 - mae: 0.1425\n",
            "Epoch 1398/2000\n",
            "1/1 [==============================] - 0s 7ms/step - loss: 0.2806 - mae: 0.2806\n",
            "Epoch 1399/2000\n",
            "1/1 [==============================] - 0s 9ms/step - loss: 0.1425 - mae: 0.1425\n",
            "Epoch 1400/2000\n",
            "1/1 [==============================] - 0s 7ms/step - loss: 0.2806 - mae: 0.2806\n",
            "Epoch 1401/2000\n",
            "1/1 [==============================] - 0s 8ms/step - loss: 0.1425 - mae: 0.1425\n",
            "Epoch 1402/2000\n",
            "1/1 [==============================] - 0s 7ms/step - loss: 0.2806 - mae: 0.2806\n",
            "Epoch 1403/2000\n",
            "1/1 [==============================] - 0s 8ms/step - loss: 0.1425 - mae: 0.1425\n",
            "Epoch 1404/2000\n",
            "1/1 [==============================] - 0s 8ms/step - loss: 0.2806 - mae: 0.2806\n",
            "Epoch 1405/2000\n",
            "1/1 [==============================] - 0s 12ms/step - loss: 0.1425 - mae: 0.1425\n",
            "Epoch 1406/2000\n",
            "1/1 [==============================] - 0s 8ms/step - loss: 0.2806 - mae: 0.2806\n",
            "Epoch 1407/2000\n",
            "1/1 [==============================] - 0s 11ms/step - loss: 0.1425 - mae: 0.1425\n",
            "Epoch 1408/2000\n",
            "1/1 [==============================] - 0s 14ms/step - loss: 0.2806 - mae: 0.2806\n",
            "Epoch 1409/2000\n",
            "1/1 [==============================] - 0s 15ms/step - loss: 0.1425 - mae: 0.1425\n",
            "Epoch 1410/2000\n",
            "1/1 [==============================] - 0s 7ms/step - loss: 0.2806 - mae: 0.2806\n",
            "Epoch 1411/2000\n",
            "1/1 [==============================] - 0s 8ms/step - loss: 0.1425 - mae: 0.1425\n",
            "Epoch 1412/2000\n",
            "1/1 [==============================] - 0s 7ms/step - loss: 0.2806 - mae: 0.2806\n",
            "Epoch 1413/2000\n",
            "1/1 [==============================] - 0s 13ms/step - loss: 0.1425 - mae: 0.1425\n",
            "Epoch 1414/2000\n",
            "1/1 [==============================] - 0s 11ms/step - loss: 0.2806 - mae: 0.2806\n",
            "Epoch 1415/2000\n",
            "1/1 [==============================] - 0s 8ms/step - loss: 0.1425 - mae: 0.1425\n",
            "Epoch 1416/2000\n",
            "1/1 [==============================] - 0s 4ms/step - loss: 0.2806 - mae: 0.2806\n",
            "Epoch 1417/2000\n",
            "1/1 [==============================] - 0s 17ms/step - loss: 0.1425 - mae: 0.1425\n",
            "Epoch 1418/2000\n",
            "1/1 [==============================] - 0s 7ms/step - loss: 0.2806 - mae: 0.2806\n",
            "Epoch 1419/2000\n",
            "1/1 [==============================] - 0s 9ms/step - loss: 0.1425 - mae: 0.1425\n",
            "Epoch 1420/2000\n",
            "1/1 [==============================] - 0s 16ms/step - loss: 0.2806 - mae: 0.2806\n",
            "Epoch 1421/2000\n",
            "1/1 [==============================] - 0s 8ms/step - loss: 0.1425 - mae: 0.1425\n",
            "Epoch 1422/2000\n",
            "1/1 [==============================] - 0s 9ms/step - loss: 0.2806 - mae: 0.2806\n",
            "Epoch 1423/2000\n",
            "1/1 [==============================] - 0s 4ms/step - loss: 0.1425 - mae: 0.1425\n",
            "Epoch 1424/2000\n",
            "1/1 [==============================] - 0s 15ms/step - loss: 0.2806 - mae: 0.2806\n",
            "Epoch 1425/2000\n",
            "1/1 [==============================] - 0s 14ms/step - loss: 0.1425 - mae: 0.1425\n",
            "Epoch 1426/2000\n",
            "1/1 [==============================] - 0s 13ms/step - loss: 0.2806 - mae: 0.2806\n",
            "Epoch 1427/2000\n",
            "1/1 [==============================] - 0s 16ms/step - loss: 0.1425 - mae: 0.1425\n",
            "Epoch 1428/2000\n",
            "1/1 [==============================] - 0s 4ms/step - loss: 0.2806 - mae: 0.2806\n",
            "Epoch 1429/2000\n",
            "1/1 [==============================] - 0s 16ms/step - loss: 0.1425 - mae: 0.1425\n",
            "Epoch 1430/2000\n",
            "1/1 [==============================] - 0s 17ms/step - loss: 0.2806 - mae: 0.2806\n",
            "Epoch 1431/2000\n",
            "1/1 [==============================] - 0s 8ms/step - loss: 0.1425 - mae: 0.1425\n",
            "Epoch 1432/2000\n",
            "1/1 [==============================] - 0s 15ms/step - loss: 0.2806 - mae: 0.2806\n",
            "Epoch 1433/2000\n",
            "1/1 [==============================] - 0s 16ms/step - loss: 0.1425 - mae: 0.1425\n",
            "Epoch 1434/2000\n",
            "1/1 [==============================] - 0s 19ms/step - loss: 0.2806 - mae: 0.2806\n",
            "Epoch 1435/2000\n",
            "1/1 [==============================] - 0s 13ms/step - loss: 0.1425 - mae: 0.1425\n",
            "Epoch 1436/2000\n",
            "1/1 [==============================] - 0s 4ms/step - loss: 0.2806 - mae: 0.2806\n",
            "Epoch 1437/2000\n",
            "1/1 [==============================] - 0s 12ms/step - loss: 0.1425 - mae: 0.1425\n",
            "Epoch 1438/2000\n",
            "1/1 [==============================] - 0s 7ms/step - loss: 0.2806 - mae: 0.2806\n",
            "Epoch 1439/2000\n",
            "1/1 [==============================] - 0s 9ms/step - loss: 0.1425 - mae: 0.1425\n",
            "Epoch 1440/2000\n",
            "1/1 [==============================] - 0s 12ms/step - loss: 0.2806 - mae: 0.2806\n",
            "Epoch 1441/2000\n",
            "1/1 [==============================] - 0s 8ms/step - loss: 0.1425 - mae: 0.1425\n",
            "Epoch 1442/2000\n",
            "1/1 [==============================] - 0s 7ms/step - loss: 0.2806 - mae: 0.2806\n",
            "Epoch 1443/2000\n",
            "1/1 [==============================] - 0s 13ms/step - loss: 0.1425 - mae: 0.1425\n",
            "Epoch 1444/2000\n",
            "1/1 [==============================] - 0s 8ms/step - loss: 0.2806 - mae: 0.2806\n",
            "Epoch 1445/2000\n",
            "1/1 [==============================] - 0s 10ms/step - loss: 0.1425 - mae: 0.1425\n",
            "Epoch 1446/2000\n",
            "1/1 [==============================] - 0s 11ms/step - loss: 0.2806 - mae: 0.2806\n",
            "Epoch 1447/2000\n",
            "1/1 [==============================] - 0s 9ms/step - loss: 0.1425 - mae: 0.1425\n",
            "Epoch 1448/2000\n",
            "1/1 [==============================] - 0s 9ms/step - loss: 0.2806 - mae: 0.2806\n",
            "Epoch 1449/2000\n",
            "1/1 [==============================] - 0s 7ms/step - loss: 0.1425 - mae: 0.1425\n",
            "Epoch 1450/2000\n",
            "1/1 [==============================] - 0s 8ms/step - loss: 0.2806 - mae: 0.2806\n",
            "Epoch 1451/2000\n",
            "1/1 [==============================] - 0s 13ms/step - loss: 0.1425 - mae: 0.1425\n",
            "Epoch 1452/2000\n",
            "1/1 [==============================] - 0s 11ms/step - loss: 0.2806 - mae: 0.2806\n",
            "Epoch 1453/2000\n",
            "1/1 [==============================] - 0s 14ms/step - loss: 0.1425 - mae: 0.1425\n",
            "Epoch 1454/2000\n",
            "1/1 [==============================] - 0s 23ms/step - loss: 0.2806 - mae: 0.2806\n",
            "Epoch 1455/2000\n",
            "1/1 [==============================] - 0s 8ms/step - loss: 0.1425 - mae: 0.1425\n",
            "Epoch 1456/2000\n",
            "1/1 [==============================] - 0s 14ms/step - loss: 0.2806 - mae: 0.2806\n",
            "Epoch 1457/2000\n",
            "1/1 [==============================] - 0s 19ms/step - loss: 0.1425 - mae: 0.1425\n",
            "Epoch 1458/2000\n",
            "1/1 [==============================] - 0s 15ms/step - loss: 0.2806 - mae: 0.2806\n",
            "Epoch 1459/2000\n",
            "1/1 [==============================] - 0s 19ms/step - loss: 0.1425 - mae: 0.1425\n",
            "Epoch 1460/2000\n",
            "1/1 [==============================] - 0s 8ms/step - loss: 0.2806 - mae: 0.2806\n",
            "Epoch 1461/2000\n",
            "1/1 [==============================] - 0s 9ms/step - loss: 0.1425 - mae: 0.1425\n",
            "Epoch 1462/2000\n",
            "1/1 [==============================] - 0s 71ms/step - loss: 0.2806 - mae: 0.2806\n",
            "Epoch 1463/2000\n",
            "1/1 [==============================] - 0s 17ms/step - loss: 0.1425 - mae: 0.1425\n",
            "Epoch 1464/2000\n",
            "1/1 [==============================] - 0s 19ms/step - loss: 0.2806 - mae: 0.2806\n",
            "Epoch 1465/2000\n",
            "1/1 [==============================] - 0s 11ms/step - loss: 0.1425 - mae: 0.1425\n",
            "Epoch 1466/2000\n",
            "1/1 [==============================] - 0s 15ms/step - loss: 0.2806 - mae: 0.2806\n",
            "Epoch 1467/2000\n",
            "1/1 [==============================] - 0s 31ms/step - loss: 0.1425 - mae: 0.1425\n",
            "Epoch 1468/2000\n",
            "1/1 [==============================] - 0s 12ms/step - loss: 0.2806 - mae: 0.2806\n",
            "Epoch 1469/2000\n",
            "1/1 [==============================] - 0s 7ms/step - loss: 0.1425 - mae: 0.1425\n",
            "Epoch 1470/2000\n",
            "1/1 [==============================] - 0s 9ms/step - loss: 0.2806 - mae: 0.2806\n",
            "Epoch 1471/2000\n",
            "1/1 [==============================] - 0s 6ms/step - loss: 0.1425 - mae: 0.1425\n",
            "Epoch 1472/2000\n",
            "1/1 [==============================] - 0s 9ms/step - loss: 0.2806 - mae: 0.2806\n",
            "Epoch 1473/2000\n",
            "1/1 [==============================] - 0s 10ms/step - loss: 0.1425 - mae: 0.1425\n",
            "Epoch 1474/2000\n",
            "1/1 [==============================] - 0s 18ms/step - loss: 0.2806 - mae: 0.2806\n",
            "Epoch 1475/2000\n",
            "1/1 [==============================] - 0s 36ms/step - loss: 0.1425 - mae: 0.1425\n",
            "Epoch 1476/2000\n",
            "1/1 [==============================] - 0s 42ms/step - loss: 0.2806 - mae: 0.2806\n",
            "Epoch 1477/2000\n",
            "1/1 [==============================] - 0s 7ms/step - loss: 0.1425 - mae: 0.1425\n",
            "Epoch 1478/2000\n",
            "1/1 [==============================] - 0s 9ms/step - loss: 0.2806 - mae: 0.2806\n",
            "Epoch 1479/2000\n",
            "1/1 [==============================] - 0s 9ms/step - loss: 0.1425 - mae: 0.1425\n",
            "Epoch 1480/2000\n",
            "1/1 [==============================] - 0s 17ms/step - loss: 0.2806 - mae: 0.2806\n",
            "Epoch 1481/2000\n",
            "1/1 [==============================] - 0s 9ms/step - loss: 0.1425 - mae: 0.1425\n",
            "Epoch 1482/2000\n",
            "1/1 [==============================] - 0s 37ms/step - loss: 0.2806 - mae: 0.2806\n",
            "Epoch 1483/2000\n",
            "1/1 [==============================] - 0s 21ms/step - loss: 0.1425 - mae: 0.1425\n",
            "Epoch 1484/2000\n",
            "1/1 [==============================] - 0s 14ms/step - loss: 0.2806 - mae: 0.2806\n",
            "Epoch 1485/2000\n",
            "1/1 [==============================] - 0s 14ms/step - loss: 0.1425 - mae: 0.1425\n",
            "Epoch 1486/2000\n",
            "1/1 [==============================] - 0s 18ms/step - loss: 0.2806 - mae: 0.2806\n",
            "Epoch 1487/2000\n",
            "1/1 [==============================] - 0s 13ms/step - loss: 0.1425 - mae: 0.1425\n",
            "Epoch 1488/2000\n",
            "1/1 [==============================] - 0s 114ms/step - loss: 0.2806 - mae: 0.2806\n",
            "Epoch 1489/2000\n",
            "1/1 [==============================] - 0s 25ms/step - loss: 0.1425 - mae: 0.1425\n",
            "Epoch 1490/2000\n",
            "1/1 [==============================] - 0s 11ms/step - loss: 0.2806 - mae: 0.2806\n",
            "Epoch 1491/2000\n",
            "1/1 [==============================] - 0s 17ms/step - loss: 0.1425 - mae: 0.1425\n",
            "Epoch 1492/2000\n",
            "1/1 [==============================] - 0s 15ms/step - loss: 0.2806 - mae: 0.2806\n",
            "Epoch 1493/2000\n",
            "1/1 [==============================] - 0s 19ms/step - loss: 0.1425 - mae: 0.1425\n",
            "Epoch 1494/2000\n",
            "1/1 [==============================] - 0s 35ms/step - loss: 0.2806 - mae: 0.2806\n",
            "Epoch 1495/2000\n",
            "1/1 [==============================] - 0s 11ms/step - loss: 0.1425 - mae: 0.1425\n",
            "Epoch 1496/2000\n",
            "1/1 [==============================] - 0s 22ms/step - loss: 0.2806 - mae: 0.2806\n",
            "Epoch 1497/2000\n",
            "1/1 [==============================] - 0s 7ms/step - loss: 0.1425 - mae: 0.1425\n",
            "Epoch 1498/2000\n",
            "1/1 [==============================] - 0s 13ms/step - loss: 0.2806 - mae: 0.2806\n",
            "Epoch 1499/2000\n",
            "1/1 [==============================] - 0s 6ms/step - loss: 0.1425 - mae: 0.1425\n",
            "Epoch 1500/2000\n",
            "1/1 [==============================] - 0s 14ms/step - loss: 0.2806 - mae: 0.2806\n",
            "Epoch 1501/2000\n",
            "1/1 [==============================] - 0s 11ms/step - loss: 0.1425 - mae: 0.1425\n",
            "Epoch 1502/2000\n",
            "1/1 [==============================] - 0s 11ms/step - loss: 0.2806 - mae: 0.2806\n",
            "Epoch 1503/2000\n",
            "1/1 [==============================] - 0s 11ms/step - loss: 0.1425 - mae: 0.1425\n",
            "Epoch 1504/2000\n",
            "1/1 [==============================] - 0s 7ms/step - loss: 0.2806 - mae: 0.2806\n",
            "Epoch 1505/2000\n",
            "1/1 [==============================] - 0s 7ms/step - loss: 0.1425 - mae: 0.1425\n",
            "Epoch 1506/2000\n",
            "1/1 [==============================] - 0s 18ms/step - loss: 0.2806 - mae: 0.2806\n",
            "Epoch 1507/2000\n",
            "1/1 [==============================] - 0s 11ms/step - loss: 0.1425 - mae: 0.1425\n",
            "Epoch 1508/2000\n",
            "1/1 [==============================] - 0s 55ms/step - loss: 0.2806 - mae: 0.2806\n",
            "Epoch 1509/2000\n",
            "1/1 [==============================] - 0s 8ms/step - loss: 0.1425 - mae: 0.1425\n",
            "Epoch 1510/2000\n",
            "1/1 [==============================] - 0s 11ms/step - loss: 0.2806 - mae: 0.2806\n",
            "Epoch 1511/2000\n",
            "1/1 [==============================] - 0s 10ms/step - loss: 0.1425 - mae: 0.1425\n",
            "Epoch 1512/2000\n",
            "1/1 [==============================] - 0s 11ms/step - loss: 0.2806 - mae: 0.2806\n",
            "Epoch 1513/2000\n",
            "1/1 [==============================] - 0s 13ms/step - loss: 0.1425 - mae: 0.1425\n",
            "Epoch 1514/2000\n",
            "1/1 [==============================] - 0s 17ms/step - loss: 0.2806 - mae: 0.2806\n",
            "Epoch 1515/2000\n",
            "1/1 [==============================] - 0s 8ms/step - loss: 0.1425 - mae: 0.1425\n",
            "Epoch 1516/2000\n",
            "1/1 [==============================] - 0s 16ms/step - loss: 0.2806 - mae: 0.2806\n",
            "Epoch 1517/2000\n",
            "1/1 [==============================] - 0s 11ms/step - loss: 0.1425 - mae: 0.1425\n",
            "Epoch 1518/2000\n",
            "1/1 [==============================] - 0s 10ms/step - loss: 0.2806 - mae: 0.2806\n",
            "Epoch 1519/2000\n",
            "1/1 [==============================] - 0s 10ms/step - loss: 0.1425 - mae: 0.1425\n",
            "Epoch 1520/2000\n",
            "1/1 [==============================] - 0s 8ms/step - loss: 0.2806 - mae: 0.2806\n",
            "Epoch 1521/2000\n",
            "1/1 [==============================] - 0s 8ms/step - loss: 0.1425 - mae: 0.1425\n",
            "Epoch 1522/2000\n",
            "1/1 [==============================] - 0s 14ms/step - loss: 0.2806 - mae: 0.2806\n",
            "Epoch 1523/2000\n",
            "1/1 [==============================] - 0s 15ms/step - loss: 0.1425 - mae: 0.1425\n",
            "Epoch 1524/2000\n",
            "1/1 [==============================] - 0s 12ms/step - loss: 0.2806 - mae: 0.2806\n",
            "Epoch 1525/2000\n",
            "1/1 [==============================] - 0s 12ms/step - loss: 0.1425 - mae: 0.1425\n",
            "Epoch 1526/2000\n",
            "1/1 [==============================] - 0s 9ms/step - loss: 0.2806 - mae: 0.2806\n",
            "Epoch 1527/2000\n",
            "1/1 [==============================] - 0s 12ms/step - loss: 0.1425 - mae: 0.1425\n",
            "Epoch 1528/2000\n",
            "1/1 [==============================] - 0s 12ms/step - loss: 0.2806 - mae: 0.2806\n",
            "Epoch 1529/2000\n",
            "1/1 [==============================] - 0s 13ms/step - loss: 0.1425 - mae: 0.1425\n",
            "Epoch 1530/2000\n",
            "1/1 [==============================] - 0s 14ms/step - loss: 0.2806 - mae: 0.2806\n",
            "Epoch 1531/2000\n",
            "1/1 [==============================] - 0s 7ms/step - loss: 0.1425 - mae: 0.1425\n",
            "Epoch 1532/2000\n",
            "1/1 [==============================] - 0s 44ms/step - loss: 0.2806 - mae: 0.2806\n",
            "Epoch 1533/2000\n",
            "1/1 [==============================] - 0s 18ms/step - loss: 0.1425 - mae: 0.1425\n",
            "Epoch 1534/2000\n",
            "1/1 [==============================] - 0s 17ms/step - loss: 0.2806 - mae: 0.2806\n",
            "Epoch 1535/2000\n",
            "1/1 [==============================] - 0s 5ms/step - loss: 0.1425 - mae: 0.1425\n",
            "Epoch 1536/2000\n",
            "1/1 [==============================] - 0s 15ms/step - loss: 0.2806 - mae: 0.2806\n",
            "Epoch 1537/2000\n",
            "1/1 [==============================] - 0s 16ms/step - loss: 0.1425 - mae: 0.1425\n",
            "Epoch 1538/2000\n",
            "1/1 [==============================] - 0s 16ms/step - loss: 0.2806 - mae: 0.2806\n",
            "Epoch 1539/2000\n",
            "1/1 [==============================] - 0s 12ms/step - loss: 0.1425 - mae: 0.1425\n",
            "Epoch 1540/2000\n",
            "1/1 [==============================] - 0s 8ms/step - loss: 0.2806 - mae: 0.2806\n",
            "Epoch 1541/2000\n",
            "1/1 [==============================] - 0s 11ms/step - loss: 0.1425 - mae: 0.1425\n",
            "Epoch 1542/2000\n",
            "1/1 [==============================] - 0s 11ms/step - loss: 0.2806 - mae: 0.2806\n",
            "Epoch 1543/2000\n",
            "1/1 [==============================] - 0s 11ms/step - loss: 0.1425 - mae: 0.1425\n",
            "Epoch 1544/2000\n",
            "1/1 [==============================] - 0s 8ms/step - loss: 0.2806 - mae: 0.2806\n",
            "Epoch 1545/2000\n",
            "1/1 [==============================] - 0s 4ms/step - loss: 0.1425 - mae: 0.1425\n",
            "Epoch 1546/2000\n",
            "1/1 [==============================] - 0s 5ms/step - loss: 0.2806 - mae: 0.2806\n",
            "Epoch 1547/2000\n",
            "1/1 [==============================] - 0s 11ms/step - loss: 0.1425 - mae: 0.1425\n",
            "Epoch 1548/2000\n",
            "1/1 [==============================] - 0s 8ms/step - loss: 0.2806 - mae: 0.2806\n",
            "Epoch 1549/2000\n",
            "1/1 [==============================] - 0s 8ms/step - loss: 0.1425 - mae: 0.1425\n",
            "Epoch 1550/2000\n",
            "1/1 [==============================] - 0s 6ms/step - loss: 0.2806 - mae: 0.2806\n",
            "Epoch 1551/2000\n",
            "1/1 [==============================] - 0s 4ms/step - loss: 0.1425 - mae: 0.1425\n",
            "Epoch 1552/2000\n",
            "1/1 [==============================] - 0s 4ms/step - loss: 0.2806 - mae: 0.2806\n",
            "Epoch 1553/2000\n",
            "1/1 [==============================] - 0s 7ms/step - loss: 0.1425 - mae: 0.1425\n",
            "Epoch 1554/2000\n",
            "1/1 [==============================] - 0s 9ms/step - loss: 0.2806 - mae: 0.2806\n",
            "Epoch 1555/2000\n",
            "1/1 [==============================] - 0s 4ms/step - loss: 0.1425 - mae: 0.1425\n",
            "Epoch 1556/2000\n",
            "1/1 [==============================] - 0s 5ms/step - loss: 0.2806 - mae: 0.2806\n",
            "Epoch 1557/2000\n",
            "1/1 [==============================] - 0s 7ms/step - loss: 0.1425 - mae: 0.1425\n",
            "Epoch 1558/2000\n",
            "1/1 [==============================] - 0s 6ms/step - loss: 0.2806 - mae: 0.2806\n",
            "Epoch 1559/2000\n",
            "1/1 [==============================] - 0s 7ms/step - loss: 0.1425 - mae: 0.1425\n",
            "Epoch 1560/2000\n",
            "1/1 [==============================] - 0s 11ms/step - loss: 0.2806 - mae: 0.2806\n",
            "Epoch 1561/2000\n",
            "1/1 [==============================] - 0s 4ms/step - loss: 0.1425 - mae: 0.1425\n",
            "Epoch 1562/2000\n",
            "1/1 [==============================] - 0s 5ms/step - loss: 0.2806 - mae: 0.2806\n",
            "Epoch 1563/2000\n",
            "1/1 [==============================] - 0s 7ms/step - loss: 0.1425 - mae: 0.1425\n",
            "Epoch 1564/2000\n",
            "1/1 [==============================] - 0s 6ms/step - loss: 0.2806 - mae: 0.2806\n",
            "Epoch 1565/2000\n",
            "1/1 [==============================] - 0s 4ms/step - loss: 0.1425 - mae: 0.1425\n",
            "Epoch 1566/2000\n",
            "1/1 [==============================] - 0s 5ms/step - loss: 0.2806 - mae: 0.2806\n",
            "Epoch 1567/2000\n",
            "1/1 [==============================] - 0s 6ms/step - loss: 0.1425 - mae: 0.1425\n",
            "Epoch 1568/2000\n",
            "1/1 [==============================] - 0s 8ms/step - loss: 0.2806 - mae: 0.2806\n",
            "Epoch 1569/2000\n",
            "1/1 [==============================] - 0s 4ms/step - loss: 0.1425 - mae: 0.1425\n",
            "Epoch 1570/2000\n",
            "1/1 [==============================] - 0s 5ms/step - loss: 0.2806 - mae: 0.2806\n",
            "Epoch 1571/2000\n",
            "1/1 [==============================] - 0s 4ms/step - loss: 0.1425 - mae: 0.1425\n",
            "Epoch 1572/2000\n",
            "1/1 [==============================] - 0s 7ms/step - loss: 0.2806 - mae: 0.2806\n",
            "Epoch 1573/2000\n",
            "1/1 [==============================] - 0s 7ms/step - loss: 0.1425 - mae: 0.1425\n",
            "Epoch 1574/2000\n",
            "1/1 [==============================] - 0s 4ms/step - loss: 0.2806 - mae: 0.2806\n",
            "Epoch 1575/2000\n",
            "1/1 [==============================] - 0s 5ms/step - loss: 0.1425 - mae: 0.1425\n",
            "Epoch 1576/2000\n",
            "1/1 [==============================] - 0s 7ms/step - loss: 0.2806 - mae: 0.2806\n",
            "Epoch 1577/2000\n",
            "1/1 [==============================] - 0s 5ms/step - loss: 0.1425 - mae: 0.1425\n",
            "Epoch 1578/2000\n",
            "1/1 [==============================] - 0s 4ms/step - loss: 0.2806 - mae: 0.2806\n",
            "Epoch 1579/2000\n",
            "1/1 [==============================] - 0s 5ms/step - loss: 0.1425 - mae: 0.1425\n",
            "Epoch 1580/2000\n",
            "1/1 [==============================] - 0s 5ms/step - loss: 0.2806 - mae: 0.2806\n",
            "Epoch 1581/2000\n",
            "1/1 [==============================] - 0s 9ms/step - loss: 0.1425 - mae: 0.1425\n",
            "Epoch 1582/2000\n",
            "1/1 [==============================] - 0s 4ms/step - loss: 0.2806 - mae: 0.2806\n",
            "Epoch 1583/2000\n",
            "1/1 [==============================] - 0s 7ms/step - loss: 0.1425 - mae: 0.1425\n",
            "Epoch 1584/2000\n",
            "1/1 [==============================] - 0s 4ms/step - loss: 0.2806 - mae: 0.2806\n",
            "Epoch 1585/2000\n",
            "1/1 [==============================] - 0s 7ms/step - loss: 0.1425 - mae: 0.1425\n",
            "Epoch 1586/2000\n",
            "1/1 [==============================] - 0s 6ms/step - loss: 0.2806 - mae: 0.2806\n",
            "Epoch 1587/2000\n",
            "1/1 [==============================] - 0s 8ms/step - loss: 0.1425 - mae: 0.1425\n",
            "Epoch 1588/2000\n",
            "1/1 [==============================] - 0s 6ms/step - loss: 0.2806 - mae: 0.2806\n",
            "Epoch 1589/2000\n",
            "1/1 [==============================] - 0s 11ms/step - loss: 0.1425 - mae: 0.1425\n",
            "Epoch 1590/2000\n",
            "1/1 [==============================] - 0s 12ms/step - loss: 0.2806 - mae: 0.2806\n",
            "Epoch 1591/2000\n",
            "1/1 [==============================] - 0s 5ms/step - loss: 0.1425 - mae: 0.1425\n",
            "Epoch 1592/2000\n",
            "1/1 [==============================] - 0s 17ms/step - loss: 0.2806 - mae: 0.2806\n",
            "Epoch 1593/2000\n",
            "1/1 [==============================] - 0s 6ms/step - loss: 0.1425 - mae: 0.1425\n",
            "Epoch 1594/2000\n",
            "1/1 [==============================] - 0s 16ms/step - loss: 0.2806 - mae: 0.2806\n",
            "Epoch 1595/2000\n",
            "1/1 [==============================] - 0s 15ms/step - loss: 0.1425 - mae: 0.1425\n",
            "Epoch 1596/2000\n",
            "1/1 [==============================] - 0s 7ms/step - loss: 0.2806 - mae: 0.2806\n",
            "Epoch 1597/2000\n",
            "1/1 [==============================] - 0s 4ms/step - loss: 0.1425 - mae: 0.1425\n",
            "Epoch 1598/2000\n",
            "1/1 [==============================] - 0s 4ms/step - loss: 0.2806 - mae: 0.2806\n",
            "Epoch 1599/2000\n",
            "1/1 [==============================] - 0s 7ms/step - loss: 0.1425 - mae: 0.1425\n",
            "Epoch 1600/2000\n",
            "1/1 [==============================] - 0s 14ms/step - loss: 0.2806 - mae: 0.2806\n",
            "Epoch 1601/2000\n",
            "1/1 [==============================] - 0s 7ms/step - loss: 0.1425 - mae: 0.1425\n",
            "Epoch 1602/2000\n",
            "1/1 [==============================] - 0s 16ms/step - loss: 0.2806 - mae: 0.2806\n",
            "Epoch 1603/2000\n",
            "1/1 [==============================] - 0s 9ms/step - loss: 0.1425 - mae: 0.1425\n",
            "Epoch 1604/2000\n",
            "1/1 [==============================] - 0s 15ms/step - loss: 0.2806 - mae: 0.2806\n",
            "Epoch 1605/2000\n",
            "1/1 [==============================] - 0s 12ms/step - loss: 0.1425 - mae: 0.1425\n",
            "Epoch 1606/2000\n",
            "1/1 [==============================] - 0s 17ms/step - loss: 0.2806 - mae: 0.2806\n",
            "Epoch 1607/2000\n",
            "1/1 [==============================] - 0s 12ms/step - loss: 0.1425 - mae: 0.1425\n",
            "Epoch 1608/2000\n",
            "1/1 [==============================] - 0s 7ms/step - loss: 0.2806 - mae: 0.2806\n",
            "Epoch 1609/2000\n",
            "1/1 [==============================] - 0s 10ms/step - loss: 0.1425 - mae: 0.1425\n",
            "Epoch 1610/2000\n",
            "1/1 [==============================] - 0s 15ms/step - loss: 0.2806 - mae: 0.2806\n",
            "Epoch 1611/2000\n",
            "1/1 [==============================] - 0s 19ms/step - loss: 0.1425 - mae: 0.1425\n",
            "Epoch 1612/2000\n",
            "1/1 [==============================] - 0s 29ms/step - loss: 0.2806 - mae: 0.2806\n",
            "Epoch 1613/2000\n",
            "1/1 [==============================] - 0s 11ms/step - loss: 0.1425 - mae: 0.1425\n",
            "Epoch 1614/2000\n",
            "1/1 [==============================] - 0s 11ms/step - loss: 0.2806 - mae: 0.2806\n",
            "Epoch 1615/2000\n",
            "1/1 [==============================] - 0s 9ms/step - loss: 0.1425 - mae: 0.1425\n",
            "Epoch 1616/2000\n",
            "1/1 [==============================] - 0s 12ms/step - loss: 0.2806 - mae: 0.2806\n",
            "Epoch 1617/2000\n",
            "1/1 [==============================] - 0s 44ms/step - loss: 0.1425 - mae: 0.1425\n",
            "Epoch 1618/2000\n",
            "1/1 [==============================] - 0s 39ms/step - loss: 0.2806 - mae: 0.2806\n",
            "Epoch 1619/2000\n",
            "1/1 [==============================] - 0s 14ms/step - loss: 0.1425 - mae: 0.1425\n",
            "Epoch 1620/2000\n",
            "1/1 [==============================] - 0s 27ms/step - loss: 0.2806 - mae: 0.2806\n",
            "Epoch 1621/2000\n",
            "1/1 [==============================] - 0s 21ms/step - loss: 0.1425 - mae: 0.1425\n",
            "Epoch 1622/2000\n",
            "1/1 [==============================] - 0s 66ms/step - loss: 0.2806 - mae: 0.2806\n",
            "Epoch 1623/2000\n",
            "1/1 [==============================] - 0s 22ms/step - loss: 0.1425 - mae: 0.1425\n",
            "Epoch 1624/2000\n",
            "1/1 [==============================] - 0s 10ms/step - loss: 0.2806 - mae: 0.2806\n",
            "Epoch 1625/2000\n",
            "1/1 [==============================] - 0s 4ms/step - loss: 0.1425 - mae: 0.1425\n",
            "Epoch 1626/2000\n",
            "1/1 [==============================] - 0s 4ms/step - loss: 0.2806 - mae: 0.2806\n",
            "Epoch 1627/2000\n",
            "1/1 [==============================] - 0s 4ms/step - loss: 0.1425 - mae: 0.1425\n",
            "Epoch 1628/2000\n",
            "1/1 [==============================] - 0s 4ms/step - loss: 0.2806 - mae: 0.2806\n",
            "Epoch 1629/2000\n",
            "1/1 [==============================] - 0s 4ms/step - loss: 0.1425 - mae: 0.1425\n",
            "Epoch 1630/2000\n",
            "1/1 [==============================] - 0s 4ms/step - loss: 0.2806 - mae: 0.2806\n",
            "Epoch 1631/2000\n",
            "1/1 [==============================] - 0s 4ms/step - loss: 0.1425 - mae: 0.1425\n",
            "Epoch 1632/2000\n",
            "1/1 [==============================] - 0s 4ms/step - loss: 0.2806 - mae: 0.2806\n",
            "Epoch 1633/2000\n",
            "1/1 [==============================] - 0s 4ms/step - loss: 0.1425 - mae: 0.1425\n",
            "Epoch 1634/2000\n",
            "1/1 [==============================] - 0s 4ms/step - loss: 0.2806 - mae: 0.2806\n",
            "Epoch 1635/2000\n",
            "1/1 [==============================] - 0s 5ms/step - loss: 0.1425 - mae: 0.1425\n",
            "Epoch 1636/2000\n",
            "1/1 [==============================] - 0s 4ms/step - loss: 0.2806 - mae: 0.2806\n",
            "Epoch 1637/2000\n",
            "1/1 [==============================] - 0s 7ms/step - loss: 0.1425 - mae: 0.1425\n",
            "Epoch 1638/2000\n",
            "1/1 [==============================] - 0s 6ms/step - loss: 0.2806 - mae: 0.2806\n",
            "Epoch 1639/2000\n",
            "1/1 [==============================] - 0s 11ms/step - loss: 0.1425 - mae: 0.1425\n",
            "Epoch 1640/2000\n",
            "1/1 [==============================] - 0s 9ms/step - loss: 0.2806 - mae: 0.2806\n",
            "Epoch 1641/2000\n",
            "1/1 [==============================] - 0s 9ms/step - loss: 0.1425 - mae: 0.1425\n",
            "Epoch 1642/2000\n",
            "1/1 [==============================] - 0s 8ms/step - loss: 0.2806 - mae: 0.2806\n",
            "Epoch 1643/2000\n",
            "1/1 [==============================] - 0s 8ms/step - loss: 0.1425 - mae: 0.1425\n",
            "Epoch 1644/2000\n",
            "1/1 [==============================] - 0s 9ms/step - loss: 0.2806 - mae: 0.2806\n",
            "Epoch 1645/2000\n",
            "1/1 [==============================] - 0s 8ms/step - loss: 0.1425 - mae: 0.1425\n",
            "Epoch 1646/2000\n",
            "1/1 [==============================] - 0s 8ms/step - loss: 0.2806 - mae: 0.2806\n",
            "Epoch 1647/2000\n",
            "1/1 [==============================] - 0s 8ms/step - loss: 0.1425 - mae: 0.1425\n",
            "Epoch 1648/2000\n",
            "1/1 [==============================] - 0s 9ms/step - loss: 0.2806 - mae: 0.2806\n",
            "Epoch 1649/2000\n",
            "1/1 [==============================] - 0s 8ms/step - loss: 0.1425 - mae: 0.1425\n",
            "Epoch 1650/2000\n",
            "1/1 [==============================] - 0s 9ms/step - loss: 0.2806 - mae: 0.2806\n",
            "Epoch 1651/2000\n",
            "1/1 [==============================] - 0s 6ms/step - loss: 0.1425 - mae: 0.1425\n",
            "Epoch 1652/2000\n",
            "1/1 [==============================] - 0s 5ms/step - loss: 0.2806 - mae: 0.2806\n",
            "Epoch 1653/2000\n",
            "1/1 [==============================] - 0s 7ms/step - loss: 0.1425 - mae: 0.1425\n",
            "Epoch 1654/2000\n",
            "1/1 [==============================] - 0s 8ms/step - loss: 0.2806 - mae: 0.2806\n",
            "Epoch 1655/2000\n",
            "1/1 [==============================] - 0s 4ms/step - loss: 0.1425 - mae: 0.1425\n",
            "Epoch 1656/2000\n",
            "1/1 [==============================] - 0s 4ms/step - loss: 0.2806 - mae: 0.2806\n",
            "Epoch 1657/2000\n",
            "1/1 [==============================] - 0s 8ms/step - loss: 0.1425 - mae: 0.1425\n",
            "Epoch 1658/2000\n",
            "1/1 [==============================] - 0s 5ms/step - loss: 0.2806 - mae: 0.2806\n",
            "Epoch 1659/2000\n",
            "1/1 [==============================] - 0s 7ms/step - loss: 0.1425 - mae: 0.1425\n",
            "Epoch 1660/2000\n",
            "1/1 [==============================] - 0s 9ms/step - loss: 0.2806 - mae: 0.2806\n",
            "Epoch 1661/2000\n",
            "1/1 [==============================] - 0s 6ms/step - loss: 0.1425 - mae: 0.1425\n",
            "Epoch 1662/2000\n",
            "1/1 [==============================] - 0s 6ms/step - loss: 0.2806 - mae: 0.2806\n",
            "Epoch 1663/2000\n",
            "1/1 [==============================] - 0s 8ms/step - loss: 0.1425 - mae: 0.1425\n",
            "Epoch 1664/2000\n",
            "1/1 [==============================] - 0s 6ms/step - loss: 0.2806 - mae: 0.2806\n",
            "Epoch 1665/2000\n",
            "1/1 [==============================] - 0s 5ms/step - loss: 0.1425 - mae: 0.1425\n",
            "Epoch 1666/2000\n",
            "1/1 [==============================] - 0s 5ms/step - loss: 0.2806 - mae: 0.2806\n",
            "Epoch 1667/2000\n",
            "1/1 [==============================] - 0s 5ms/step - loss: 0.1425 - mae: 0.1425\n",
            "Epoch 1668/2000\n",
            "1/1 [==============================] - 0s 9ms/step - loss: 0.2806 - mae: 0.2806\n",
            "Epoch 1669/2000\n",
            "1/1 [==============================] - 0s 7ms/step - loss: 0.1425 - mae: 0.1425\n",
            "Epoch 1670/2000\n",
            "1/1 [==============================] - 0s 8ms/step - loss: 0.2806 - mae: 0.2806\n",
            "Epoch 1671/2000\n",
            "1/1 [==============================] - 0s 4ms/step - loss: 0.1425 - mae: 0.1425\n",
            "Epoch 1672/2000\n",
            "1/1 [==============================] - 0s 11ms/step - loss: 0.2806 - mae: 0.2806\n",
            "Epoch 1673/2000\n",
            "1/1 [==============================] - 0s 7ms/step - loss: 0.1425 - mae: 0.1425\n",
            "Epoch 1674/2000\n",
            "1/1 [==============================] - 0s 7ms/step - loss: 0.2806 - mae: 0.2806\n",
            "Epoch 1675/2000\n",
            "1/1 [==============================] - 0s 9ms/step - loss: 0.1425 - mae: 0.1425\n",
            "Epoch 1676/2000\n",
            "1/1 [==============================] - 0s 6ms/step - loss: 0.2806 - mae: 0.2806\n",
            "Epoch 1677/2000\n",
            "1/1 [==============================] - 0s 6ms/step - loss: 0.1425 - mae: 0.1425\n",
            "Epoch 1678/2000\n",
            "1/1 [==============================] - 0s 7ms/step - loss: 0.2806 - mae: 0.2806\n",
            "Epoch 1679/2000\n",
            "1/1 [==============================] - 0s 9ms/step - loss: 0.1425 - mae: 0.1425\n",
            "Epoch 1680/2000\n",
            "1/1 [==============================] - 0s 4ms/step - loss: 0.2806 - mae: 0.2806\n",
            "Epoch 1681/2000\n",
            "1/1 [==============================] - 0s 9ms/step - loss: 0.1425 - mae: 0.1425\n",
            "Epoch 1682/2000\n",
            "1/1 [==============================] - 0s 5ms/step - loss: 0.2806 - mae: 0.2806\n",
            "Epoch 1683/2000\n",
            "1/1 [==============================] - 0s 7ms/step - loss: 0.1425 - mae: 0.1425\n",
            "Epoch 1684/2000\n",
            "1/1 [==============================] - 0s 8ms/step - loss: 0.2806 - mae: 0.2806\n",
            "Epoch 1685/2000\n",
            "1/1 [==============================] - 0s 5ms/step - loss: 0.1425 - mae: 0.1425\n",
            "Epoch 1686/2000\n",
            "1/1 [==============================] - 0s 4ms/step - loss: 0.2806 - mae: 0.2806\n",
            "Epoch 1687/2000\n",
            "1/1 [==============================] - 0s 8ms/step - loss: 0.1425 - mae: 0.1425\n",
            "Epoch 1688/2000\n",
            "1/1 [==============================] - 0s 8ms/step - loss: 0.2806 - mae: 0.2806\n",
            "Epoch 1689/2000\n",
            "1/1 [==============================] - 0s 4ms/step - loss: 0.1425 - mae: 0.1425\n",
            "Epoch 1690/2000\n",
            "1/1 [==============================] - 0s 7ms/step - loss: 0.2806 - mae: 0.2806\n",
            "Epoch 1691/2000\n",
            "1/1 [==============================] - 0s 7ms/step - loss: 0.1425 - mae: 0.1425\n",
            "Epoch 1692/2000\n",
            "1/1 [==============================] - 0s 5ms/step - loss: 0.2806 - mae: 0.2806\n",
            "Epoch 1693/2000\n",
            "1/1 [==============================] - 0s 5ms/step - loss: 0.1425 - mae: 0.1425\n",
            "Epoch 1694/2000\n",
            "1/1 [==============================] - 0s 4ms/step - loss: 0.2806 - mae: 0.2806\n",
            "Epoch 1695/2000\n",
            "1/1 [==============================] - 0s 5ms/step - loss: 0.1425 - mae: 0.1425\n",
            "Epoch 1696/2000\n",
            "1/1 [==============================] - 0s 4ms/step - loss: 0.2806 - mae: 0.2806\n",
            "Epoch 1697/2000\n",
            "1/1 [==============================] - 0s 5ms/step - loss: 0.1425 - mae: 0.1425\n",
            "Epoch 1698/2000\n",
            "1/1 [==============================] - 0s 5ms/step - loss: 0.2806 - mae: 0.2806\n",
            "Epoch 1699/2000\n",
            "1/1 [==============================] - 0s 5ms/step - loss: 0.1425 - mae: 0.1425\n",
            "Epoch 1700/2000\n",
            "1/1 [==============================] - 0s 5ms/step - loss: 0.2806 - mae: 0.2806\n",
            "Epoch 1701/2000\n",
            "1/1 [==============================] - 0s 9ms/step - loss: 0.1425 - mae: 0.1425\n",
            "Epoch 1702/2000\n",
            "1/1 [==============================] - 0s 8ms/step - loss: 0.2806 - mae: 0.2806\n",
            "Epoch 1703/2000\n",
            "1/1 [==============================] - 0s 7ms/step - loss: 0.1425 - mae: 0.1425\n",
            "Epoch 1704/2000\n",
            "1/1 [==============================] - 0s 4ms/step - loss: 0.2806 - mae: 0.2806\n",
            "Epoch 1705/2000\n",
            "1/1 [==============================] - 0s 5ms/step - loss: 0.1425 - mae: 0.1425\n",
            "Epoch 1706/2000\n",
            "1/1 [==============================] - 0s 8ms/step - loss: 0.2806 - mae: 0.2806\n",
            "Epoch 1707/2000\n",
            "1/1 [==============================] - 0s 9ms/step - loss: 0.1425 - mae: 0.1425\n",
            "Epoch 1708/2000\n",
            "1/1 [==============================] - 0s 8ms/step - loss: 0.2806 - mae: 0.2806\n",
            "Epoch 1709/2000\n",
            "1/1 [==============================] - 0s 8ms/step - loss: 0.1425 - mae: 0.1425\n",
            "Epoch 1710/2000\n",
            "1/1 [==============================] - 0s 8ms/step - loss: 0.2806 - mae: 0.2806\n",
            "Epoch 1711/2000\n",
            "1/1 [==============================] - 0s 8ms/step - loss: 0.1425 - mae: 0.1425\n",
            "Epoch 1712/2000\n",
            "1/1 [==============================] - 0s 10ms/step - loss: 0.2806 - mae: 0.2806\n",
            "Epoch 1713/2000\n",
            "1/1 [==============================] - 0s 9ms/step - loss: 0.1425 - mae: 0.1425\n",
            "Epoch 1714/2000\n",
            "1/1 [==============================] - 0s 9ms/step - loss: 0.2806 - mae: 0.2806\n",
            "Epoch 1715/2000\n",
            "1/1 [==============================] - 0s 10ms/step - loss: 0.1425 - mae: 0.1425\n",
            "Epoch 1716/2000\n",
            "1/1 [==============================] - 0s 8ms/step - loss: 0.2806 - mae: 0.2806\n",
            "Epoch 1717/2000\n",
            "1/1 [==============================] - 0s 8ms/step - loss: 0.1425 - mae: 0.1425\n",
            "Epoch 1718/2000\n",
            "1/1 [==============================] - 0s 8ms/step - loss: 0.2806 - mae: 0.2806\n",
            "Epoch 1719/2000\n",
            "1/1 [==============================] - 0s 7ms/step - loss: 0.1425 - mae: 0.1425\n",
            "Epoch 1720/2000\n",
            "1/1 [==============================] - 0s 8ms/step - loss: 0.2806 - mae: 0.2806\n",
            "Epoch 1721/2000\n",
            "1/1 [==============================] - 0s 8ms/step - loss: 0.1425 - mae: 0.1425\n",
            "Epoch 1722/2000\n",
            "1/1 [==============================] - 0s 7ms/step - loss: 0.2806 - mae: 0.2806\n",
            "Epoch 1723/2000\n",
            "1/1 [==============================] - 0s 7ms/step - loss: 0.1425 - mae: 0.1425\n",
            "Epoch 1724/2000\n",
            "1/1 [==============================] - 0s 6ms/step - loss: 0.2806 - mae: 0.2806\n",
            "Epoch 1725/2000\n",
            "1/1 [==============================] - 0s 4ms/step - loss: 0.1425 - mae: 0.1425\n",
            "Epoch 1726/2000\n",
            "1/1 [==============================] - 0s 12ms/step - loss: 0.2806 - mae: 0.2806\n",
            "Epoch 1727/2000\n",
            "1/1 [==============================] - 0s 14ms/step - loss: 0.1425 - mae: 0.1425\n",
            "Epoch 1728/2000\n",
            "1/1 [==============================] - 0s 7ms/step - loss: 0.2806 - mae: 0.2806\n",
            "Epoch 1729/2000\n",
            "1/1 [==============================] - 0s 10ms/step - loss: 0.1425 - mae: 0.1425\n",
            "Epoch 1730/2000\n",
            "1/1 [==============================] - 0s 11ms/step - loss: 0.2806 - mae: 0.2806\n",
            "Epoch 1731/2000\n",
            "1/1 [==============================] - 0s 22ms/step - loss: 0.1425 - mae: 0.1425\n",
            "Epoch 1732/2000\n",
            "1/1 [==============================] - 0s 10ms/step - loss: 0.2806 - mae: 0.2806\n",
            "Epoch 1733/2000\n",
            "1/1 [==============================] - 0s 9ms/step - loss: 0.1425 - mae: 0.1425\n",
            "Epoch 1734/2000\n",
            "1/1 [==============================] - 0s 9ms/step - loss: 0.2806 - mae: 0.2806\n",
            "Epoch 1735/2000\n",
            "1/1 [==============================] - 0s 11ms/step - loss: 0.1425 - mae: 0.1425\n",
            "Epoch 1736/2000\n",
            "1/1 [==============================] - 0s 9ms/step - loss: 0.2806 - mae: 0.2806\n",
            "Epoch 1737/2000\n",
            "1/1 [==============================] - 0s 6ms/step - loss: 0.1425 - mae: 0.1425\n",
            "Epoch 1738/2000\n",
            "1/1 [==============================] - 0s 7ms/step - loss: 0.2806 - mae: 0.2806\n",
            "Epoch 1739/2000\n",
            "1/1 [==============================] - 0s 10ms/step - loss: 0.1425 - mae: 0.1425\n",
            "Epoch 1740/2000\n",
            "1/1 [==============================] - 0s 12ms/step - loss: 0.2806 - mae: 0.2806\n",
            "Epoch 1741/2000\n",
            "1/1 [==============================] - 0s 15ms/step - loss: 0.1425 - mae: 0.1425\n",
            "Epoch 1742/2000\n",
            "1/1 [==============================] - 0s 15ms/step - loss: 0.2806 - mae: 0.2806\n",
            "Epoch 1743/2000\n",
            "1/1 [==============================] - 0s 25ms/step - loss: 0.1425 - mae: 0.1425\n",
            "Epoch 1744/2000\n",
            "1/1 [==============================] - 0s 39ms/step - loss: 0.2806 - mae: 0.2806\n",
            "Epoch 1745/2000\n",
            "1/1 [==============================] - 0s 11ms/step - loss: 0.1425 - mae: 0.1425\n",
            "Epoch 1746/2000\n",
            "1/1 [==============================] - 0s 16ms/step - loss: 0.2806 - mae: 0.2806\n",
            "Epoch 1747/2000\n",
            "1/1 [==============================] - 0s 11ms/step - loss: 0.1425 - mae: 0.1425\n",
            "Epoch 1748/2000\n",
            "1/1 [==============================] - 0s 11ms/step - loss: 0.2806 - mae: 0.2806\n",
            "Epoch 1749/2000\n",
            "1/1 [==============================] - 0s 21ms/step - loss: 0.1425 - mae: 0.1425\n",
            "Epoch 1750/2000\n",
            "1/1 [==============================] - 0s 13ms/step - loss: 0.2806 - mae: 0.2806\n",
            "Epoch 1751/2000\n",
            "1/1 [==============================] - 0s 12ms/step - loss: 0.1425 - mae: 0.1425\n",
            "Epoch 1752/2000\n",
            "1/1 [==============================] - 0s 11ms/step - loss: 0.2806 - mae: 0.2806\n",
            "Epoch 1753/2000\n",
            "1/1 [==============================] - 0s 13ms/step - loss: 0.1425 - mae: 0.1425\n",
            "Epoch 1754/2000\n",
            "1/1 [==============================] - 0s 12ms/step - loss: 0.2806 - mae: 0.2806\n",
            "Epoch 1755/2000\n",
            "1/1 [==============================] - 0s 33ms/step - loss: 0.1425 - mae: 0.1425\n",
            "Epoch 1756/2000\n",
            "1/1 [==============================] - 0s 19ms/step - loss: 0.2806 - mae: 0.2806\n",
            "Epoch 1757/2000\n",
            "1/1 [==============================] - 0s 8ms/step - loss: 0.1425 - mae: 0.1425\n",
            "Epoch 1758/2000\n",
            "1/1 [==============================] - 0s 11ms/step - loss: 0.2806 - mae: 0.2806\n",
            "Epoch 1759/2000\n",
            "1/1 [==============================] - 0s 20ms/step - loss: 0.1425 - mae: 0.1425\n",
            "Epoch 1760/2000\n",
            "1/1 [==============================] - 0s 9ms/step - loss: 0.2806 - mae: 0.2806\n",
            "Epoch 1761/2000\n",
            "1/1 [==============================] - 0s 8ms/step - loss: 0.1425 - mae: 0.1425\n",
            "Epoch 1762/2000\n",
            "1/1 [==============================] - 0s 14ms/step - loss: 0.2806 - mae: 0.2806\n",
            "Epoch 1763/2000\n",
            "1/1 [==============================] - 0s 35ms/step - loss: 0.1425 - mae: 0.1425\n",
            "Epoch 1764/2000\n",
            "1/1 [==============================] - 0s 23ms/step - loss: 0.2806 - mae: 0.2806\n",
            "Epoch 1765/2000\n",
            "1/1 [==============================] - 0s 5ms/step - loss: 0.1425 - mae: 0.1425\n",
            "Epoch 1766/2000\n",
            "1/1 [==============================] - 0s 11ms/step - loss: 0.2806 - mae: 0.2806\n",
            "Epoch 1767/2000\n",
            "1/1 [==============================] - 0s 6ms/step - loss: 0.1425 - mae: 0.1425\n",
            "Epoch 1768/2000\n",
            "1/1 [==============================] - 0s 16ms/step - loss: 0.2806 - mae: 0.2806\n",
            "Epoch 1769/2000\n",
            "1/1 [==============================] - 0s 9ms/step - loss: 0.1425 - mae: 0.1425\n",
            "Epoch 1770/2000\n",
            "1/1 [==============================] - 0s 11ms/step - loss: 0.2806 - mae: 0.2806\n",
            "Epoch 1771/2000\n",
            "1/1 [==============================] - 0s 12ms/step - loss: 0.1425 - mae: 0.1425\n",
            "Epoch 1772/2000\n",
            "1/1 [==============================] - 0s 12ms/step - loss: 0.2806 - mae: 0.2806\n",
            "Epoch 1773/2000\n",
            "1/1 [==============================] - 0s 12ms/step - loss: 0.1425 - mae: 0.1425\n",
            "Epoch 1774/2000\n",
            "1/1 [==============================] - 0s 5ms/step - loss: 0.2806 - mae: 0.2806\n",
            "Epoch 1775/2000\n",
            "1/1 [==============================] - 0s 7ms/step - loss: 0.1425 - mae: 0.1425\n",
            "Epoch 1776/2000\n",
            "1/1 [==============================] - 0s 7ms/step - loss: 0.2806 - mae: 0.2806\n",
            "Epoch 1777/2000\n",
            "1/1 [==============================] - 0s 6ms/step - loss: 0.1425 - mae: 0.1425\n",
            "Epoch 1778/2000\n",
            "1/1 [==============================] - 0s 5ms/step - loss: 0.2806 - mae: 0.2806\n",
            "Epoch 1779/2000\n",
            "1/1 [==============================] - 0s 4ms/step - loss: 0.1425 - mae: 0.1425\n",
            "Epoch 1780/2000\n",
            "1/1 [==============================] - 0s 8ms/step - loss: 0.2806 - mae: 0.2806\n",
            "Epoch 1781/2000\n",
            "1/1 [==============================] - 0s 8ms/step - loss: 0.1425 - mae: 0.1425\n",
            "Epoch 1782/2000\n",
            "1/1 [==============================] - 0s 10ms/step - loss: 0.2806 - mae: 0.2806\n",
            "Epoch 1783/2000\n",
            "1/1 [==============================] - 0s 10ms/step - loss: 0.1425 - mae: 0.1425\n",
            "Epoch 1784/2000\n",
            "1/1 [==============================] - 0s 10ms/step - loss: 0.2806 - mae: 0.2806\n",
            "Epoch 1785/2000\n",
            "1/1 [==============================] - 0s 10ms/step - loss: 0.1425 - mae: 0.1425\n",
            "Epoch 1786/2000\n",
            "1/1 [==============================] - 0s 10ms/step - loss: 0.2806 - mae: 0.2806\n",
            "Epoch 1787/2000\n",
            "1/1 [==============================] - 0s 10ms/step - loss: 0.1425 - mae: 0.1425\n",
            "Epoch 1788/2000\n",
            "1/1 [==============================] - 0s 8ms/step - loss: 0.2806 - mae: 0.2806\n",
            "Epoch 1789/2000\n",
            "1/1 [==============================] - 0s 7ms/step - loss: 0.1425 - mae: 0.1425\n",
            "Epoch 1790/2000\n",
            "1/1 [==============================] - 0s 65ms/step - loss: 0.2806 - mae: 0.2806\n",
            "Epoch 1791/2000\n",
            "1/1 [==============================] - 0s 14ms/step - loss: 0.1425 - mae: 0.1425\n",
            "Epoch 1792/2000\n",
            "1/1 [==============================] - 0s 18ms/step - loss: 0.2806 - mae: 0.2806\n",
            "Epoch 1793/2000\n",
            "1/1 [==============================] - 0s 14ms/step - loss: 0.1425 - mae: 0.1425\n",
            "Epoch 1794/2000\n",
            "1/1 [==============================] - 0s 27ms/step - loss: 0.2806 - mae: 0.2806\n",
            "Epoch 1795/2000\n",
            "1/1 [==============================] - 0s 9ms/step - loss: 0.1425 - mae: 0.1425\n",
            "Epoch 1796/2000\n",
            "1/1 [==============================] - 0s 18ms/step - loss: 0.2806 - mae: 0.2806\n",
            "Epoch 1797/2000\n",
            "1/1 [==============================] - 0s 18ms/step - loss: 0.1425 - mae: 0.1425\n",
            "Epoch 1798/2000\n",
            "1/1 [==============================] - 0s 6ms/step - loss: 0.2806 - mae: 0.2806\n",
            "Epoch 1799/2000\n",
            "1/1 [==============================] - 0s 7ms/step - loss: 0.1425 - mae: 0.1425\n",
            "Epoch 1800/2000\n",
            "1/1 [==============================] - 0s 12ms/step - loss: 0.2806 - mae: 0.2806\n",
            "Epoch 1801/2000\n",
            "1/1 [==============================] - 0s 14ms/step - loss: 0.1425 - mae: 0.1425\n",
            "Epoch 1802/2000\n",
            "1/1 [==============================] - 0s 7ms/step - loss: 0.2806 - mae: 0.2806\n",
            "Epoch 1803/2000\n",
            "1/1 [==============================] - 0s 8ms/step - loss: 0.1425 - mae: 0.1425\n",
            "Epoch 1804/2000\n",
            "1/1 [==============================] - 0s 9ms/step - loss: 0.2806 - mae: 0.2806\n",
            "Epoch 1805/2000\n",
            "1/1 [==============================] - 0s 9ms/step - loss: 0.1425 - mae: 0.1425\n",
            "Epoch 1806/2000\n",
            "1/1 [==============================] - 0s 7ms/step - loss: 0.2806 - mae: 0.2806\n",
            "Epoch 1807/2000\n",
            "1/1 [==============================] - 0s 7ms/step - loss: 0.1425 - mae: 0.1425\n",
            "Epoch 1808/2000\n",
            "1/1 [==============================] - 0s 7ms/step - loss: 0.2806 - mae: 0.2806\n",
            "Epoch 1809/2000\n",
            "1/1 [==============================] - 0s 6ms/step - loss: 0.1425 - mae: 0.1425\n",
            "Epoch 1810/2000\n",
            "1/1 [==============================] - 0s 7ms/step - loss: 0.2806 - mae: 0.2806\n",
            "Epoch 1811/2000\n",
            "1/1 [==============================] - 0s 6ms/step - loss: 0.1425 - mae: 0.1425\n",
            "Epoch 1812/2000\n",
            "1/1 [==============================] - 0s 4ms/step - loss: 0.2806 - mae: 0.2806\n",
            "Epoch 1813/2000\n",
            "1/1 [==============================] - 0s 7ms/step - loss: 0.1425 - mae: 0.1425\n",
            "Epoch 1814/2000\n",
            "1/1 [==============================] - 0s 8ms/step - loss: 0.2806 - mae: 0.2806\n",
            "Epoch 1815/2000\n",
            "1/1 [==============================] - 0s 5ms/step - loss: 0.1425 - mae: 0.1425\n",
            "Epoch 1816/2000\n",
            "1/1 [==============================] - 0s 7ms/step - loss: 0.2806 - mae: 0.2806\n",
            "Epoch 1817/2000\n",
            "1/1 [==============================] - 0s 5ms/step - loss: 0.1425 - mae: 0.1425\n",
            "Epoch 1818/2000\n",
            "1/1 [==============================] - 0s 5ms/step - loss: 0.2806 - mae: 0.2806\n",
            "Epoch 1819/2000\n",
            "1/1 [==============================] - 0s 5ms/step - loss: 0.1425 - mae: 0.1425\n",
            "Epoch 1820/2000\n",
            "1/1 [==============================] - 0s 5ms/step - loss: 0.2806 - mae: 0.2806\n",
            "Epoch 1821/2000\n",
            "1/1 [==============================] - 0s 5ms/step - loss: 0.1425 - mae: 0.1425\n",
            "Epoch 1822/2000\n",
            "1/1 [==============================] - 0s 5ms/step - loss: 0.2806 - mae: 0.2806\n",
            "Epoch 1823/2000\n",
            "1/1 [==============================] - 0s 5ms/step - loss: 0.1425 - mae: 0.1425\n",
            "Epoch 1824/2000\n",
            "1/1 [==============================] - 0s 4ms/step - loss: 0.2806 - mae: 0.2806\n",
            "Epoch 1825/2000\n",
            "1/1 [==============================] - 0s 9ms/step - loss: 0.1425 - mae: 0.1425\n",
            "Epoch 1826/2000\n",
            "1/1 [==============================] - 0s 5ms/step - loss: 0.2806 - mae: 0.2806\n",
            "Epoch 1827/2000\n",
            "1/1 [==============================] - 0s 5ms/step - loss: 0.1425 - mae: 0.1425\n",
            "Epoch 1828/2000\n",
            "1/1 [==============================] - 0s 11ms/step - loss: 0.2806 - mae: 0.2806\n",
            "Epoch 1829/2000\n",
            "1/1 [==============================] - 0s 8ms/step - loss: 0.1425 - mae: 0.1425\n",
            "Epoch 1830/2000\n",
            "1/1 [==============================] - 0s 8ms/step - loss: 0.2806 - mae: 0.2806\n",
            "Epoch 1831/2000\n",
            "1/1 [==============================] - 0s 9ms/step - loss: 0.1425 - mae: 0.1425\n",
            "Epoch 1832/2000\n",
            "1/1 [==============================] - 0s 8ms/step - loss: 0.2806 - mae: 0.2806\n",
            "Epoch 1833/2000\n",
            "1/1 [==============================] - 0s 8ms/step - loss: 0.1425 - mae: 0.1425\n",
            "Epoch 1834/2000\n",
            "1/1 [==============================] - 0s 9ms/step - loss: 0.2806 - mae: 0.2806\n",
            "Epoch 1835/2000\n",
            "1/1 [==============================] - 0s 9ms/step - loss: 0.1425 - mae: 0.1425\n",
            "Epoch 1836/2000\n",
            "1/1 [==============================] - 0s 7ms/step - loss: 0.2806 - mae: 0.2806\n",
            "Epoch 1837/2000\n",
            "1/1 [==============================] - 0s 10ms/step - loss: 0.1425 - mae: 0.1425\n",
            "Epoch 1838/2000\n",
            "1/1 [==============================] - 0s 12ms/step - loss: 0.2806 - mae: 0.2806\n",
            "Epoch 1839/2000\n",
            "1/1 [==============================] - 0s 41ms/step - loss: 0.1425 - mae: 0.1425\n",
            "Epoch 1840/2000\n",
            "1/1 [==============================] - 0s 24ms/step - loss: 0.2806 - mae: 0.2806\n",
            "Epoch 1841/2000\n",
            "1/1 [==============================] - 0s 13ms/step - loss: 0.1425 - mae: 0.1425\n",
            "Epoch 1842/2000\n",
            "1/1 [==============================] - 0s 10ms/step - loss: 0.2806 - mae: 0.2806\n",
            "Epoch 1843/2000\n",
            "1/1 [==============================] - 0s 10ms/step - loss: 0.1425 - mae: 0.1425\n",
            "Epoch 1844/2000\n",
            "1/1 [==============================] - 0s 11ms/step - loss: 0.2806 - mae: 0.2806\n",
            "Epoch 1845/2000\n",
            "1/1 [==============================] - 0s 10ms/step - loss: 0.1425 - mae: 0.1425\n",
            "Epoch 1846/2000\n",
            "1/1 [==============================] - 0s 15ms/step - loss: 0.2806 - mae: 0.2806\n",
            "Epoch 1847/2000\n",
            "1/1 [==============================] - 0s 6ms/step - loss: 0.1425 - mae: 0.1425\n",
            "Epoch 1848/2000\n",
            "1/1 [==============================] - 0s 17ms/step - loss: 0.2806 - mae: 0.2806\n",
            "Epoch 1849/2000\n",
            "1/1 [==============================] - 0s 7ms/step - loss: 0.1425 - mae: 0.1425\n",
            "Epoch 1850/2000\n",
            "1/1 [==============================] - 0s 23ms/step - loss: 0.2806 - mae: 0.2806\n",
            "Epoch 1851/2000\n",
            "1/1 [==============================] - 0s 7ms/step - loss: 0.1425 - mae: 0.1425\n",
            "Epoch 1852/2000\n",
            "1/1 [==============================] - 0s 13ms/step - loss: 0.2806 - mae: 0.2806\n",
            "Epoch 1853/2000\n",
            "1/1 [==============================] - 0s 10ms/step - loss: 0.1425 - mae: 0.1425\n",
            "Epoch 1854/2000\n",
            "1/1 [==============================] - 0s 12ms/step - loss: 0.2806 - mae: 0.2806\n",
            "Epoch 1855/2000\n",
            "1/1 [==============================] - 0s 5ms/step - loss: 0.1425 - mae: 0.1425\n",
            "Epoch 1856/2000\n",
            "1/1 [==============================] - 0s 6ms/step - loss: 0.2806 - mae: 0.2806\n",
            "Epoch 1857/2000\n",
            "1/1 [==============================] - 0s 6ms/step - loss: 0.1425 - mae: 0.1425\n",
            "Epoch 1858/2000\n",
            "1/1 [==============================] - 0s 10ms/step - loss: 0.2806 - mae: 0.2806\n",
            "Epoch 1859/2000\n",
            "1/1 [==============================] - 0s 8ms/step - loss: 0.1425 - mae: 0.1425\n",
            "Epoch 1860/2000\n",
            "1/1 [==============================] - 0s 8ms/step - loss: 0.2806 - mae: 0.2806\n",
            "Epoch 1861/2000\n",
            "1/1 [==============================] - 0s 10ms/step - loss: 0.1425 - mae: 0.1425\n",
            "Epoch 1862/2000\n",
            "1/1 [==============================] - 0s 19ms/step - loss: 0.2806 - mae: 0.2806\n",
            "Epoch 1863/2000\n",
            "1/1 [==============================] - 0s 11ms/step - loss: 0.1425 - mae: 0.1425\n",
            "Epoch 1864/2000\n",
            "1/1 [==============================] - 0s 11ms/step - loss: 0.2806 - mae: 0.2806\n",
            "Epoch 1865/2000\n",
            "1/1 [==============================] - 0s 9ms/step - loss: 0.1425 - mae: 0.1425\n",
            "Epoch 1866/2000\n",
            "1/1 [==============================] - 0s 7ms/step - loss: 0.2806 - mae: 0.2806\n",
            "Epoch 1867/2000\n",
            "1/1 [==============================] - 0s 21ms/step - loss: 0.1425 - mae: 0.1425\n",
            "Epoch 1868/2000\n",
            "1/1 [==============================] - 0s 11ms/step - loss: 0.2806 - mae: 0.2806\n",
            "Epoch 1869/2000\n",
            "1/1 [==============================] - 0s 15ms/step - loss: 0.1425 - mae: 0.1425\n",
            "Epoch 1870/2000\n",
            "1/1 [==============================] - 0s 13ms/step - loss: 0.2806 - mae: 0.2806\n",
            "Epoch 1871/2000\n",
            "1/1 [==============================] - 0s 7ms/step - loss: 0.1425 - mae: 0.1425\n",
            "Epoch 1872/2000\n",
            "1/1 [==============================] - 0s 6ms/step - loss: 0.2806 - mae: 0.2806\n",
            "Epoch 1873/2000\n",
            "1/1 [==============================] - 0s 6ms/step - loss: 0.1425 - mae: 0.1425\n",
            "Epoch 1874/2000\n",
            "1/1 [==============================] - 0s 6ms/step - loss: 0.2806 - mae: 0.2806\n",
            "Epoch 1875/2000\n",
            "1/1 [==============================] - 0s 7ms/step - loss: 0.1425 - mae: 0.1425\n",
            "Epoch 1876/2000\n",
            "1/1 [==============================] - 0s 8ms/step - loss: 0.2806 - mae: 0.2806\n",
            "Epoch 1877/2000\n",
            "1/1 [==============================] - 0s 5ms/step - loss: 0.1425 - mae: 0.1425\n",
            "Epoch 1878/2000\n",
            "1/1 [==============================] - 0s 6ms/step - loss: 0.2806 - mae: 0.2806\n",
            "Epoch 1879/2000\n",
            "1/1 [==============================] - 0s 9ms/step - loss: 0.1425 - mae: 0.1425\n",
            "Epoch 1880/2000\n",
            "1/1 [==============================] - 0s 13ms/step - loss: 0.2806 - mae: 0.2806\n",
            "Epoch 1881/2000\n",
            "1/1 [==============================] - 0s 15ms/step - loss: 0.1425 - mae: 0.1425\n",
            "Epoch 1882/2000\n",
            "1/1 [==============================] - 0s 68ms/step - loss: 0.2806 - mae: 0.2806\n",
            "Epoch 1883/2000\n",
            "1/1 [==============================] - 0s 13ms/step - loss: 0.1425 - mae: 0.1425\n",
            "Epoch 1884/2000\n",
            "1/1 [==============================] - 0s 7ms/step - loss: 0.2806 - mae: 0.2806\n",
            "Epoch 1885/2000\n",
            "1/1 [==============================] - 0s 6ms/step - loss: 0.1425 - mae: 0.1425\n",
            "Epoch 1886/2000\n",
            "1/1 [==============================] - 0s 6ms/step - loss: 0.2806 - mae: 0.2806\n",
            "Epoch 1887/2000\n",
            "1/1 [==============================] - 0s 7ms/step - loss: 0.1425 - mae: 0.1425\n",
            "Epoch 1888/2000\n",
            "1/1 [==============================] - 0s 6ms/step - loss: 0.2806 - mae: 0.2806\n",
            "Epoch 1889/2000\n",
            "1/1 [==============================] - 0s 5ms/step - loss: 0.1425 - mae: 0.1425\n",
            "Epoch 1890/2000\n",
            "1/1 [==============================] - 0s 19ms/step - loss: 0.2806 - mae: 0.2806\n",
            "Epoch 1891/2000\n",
            "1/1 [==============================] - 0s 22ms/step - loss: 0.1425 - mae: 0.1425\n",
            "Epoch 1892/2000\n",
            "1/1 [==============================] - 0s 7ms/step - loss: 0.2806 - mae: 0.2806\n",
            "Epoch 1893/2000\n",
            "1/1 [==============================] - 0s 5ms/step - loss: 0.1425 - mae: 0.1425\n",
            "Epoch 1894/2000\n",
            "1/1 [==============================] - 0s 5ms/step - loss: 0.2806 - mae: 0.2806\n",
            "Epoch 1895/2000\n",
            "1/1 [==============================] - 0s 4ms/step - loss: 0.1425 - mae: 0.1425\n",
            "Epoch 1896/2000\n",
            "1/1 [==============================] - 0s 4ms/step - loss: 0.2806 - mae: 0.2806\n",
            "Epoch 1897/2000\n",
            "1/1 [==============================] - 0s 5ms/step - loss: 0.1425 - mae: 0.1425\n",
            "Epoch 1898/2000\n",
            "1/1 [==============================] - 0s 8ms/step - loss: 0.2806 - mae: 0.2806\n",
            "Epoch 1899/2000\n",
            "1/1 [==============================] - 0s 9ms/step - loss: 0.1425 - mae: 0.1425\n",
            "Epoch 1900/2000\n",
            "1/1 [==============================] - 0s 5ms/step - loss: 0.2806 - mae: 0.2806\n",
            "Epoch 1901/2000\n",
            "1/1 [==============================] - 0s 15ms/step - loss: 0.1425 - mae: 0.1425\n",
            "Epoch 1902/2000\n",
            "1/1 [==============================] - 0s 5ms/step - loss: 0.2806 - mae: 0.2806\n",
            "Epoch 1903/2000\n",
            "1/1 [==============================] - 0s 4ms/step - loss: 0.1425 - mae: 0.1425\n",
            "Epoch 1904/2000\n",
            "1/1 [==============================] - 0s 5ms/step - loss: 0.2806 - mae: 0.2806\n",
            "Epoch 1905/2000\n",
            "1/1 [==============================] - 0s 5ms/step - loss: 0.1425 - mae: 0.1425\n",
            "Epoch 1906/2000\n",
            "1/1 [==============================] - 0s 5ms/step - loss: 0.2806 - mae: 0.2806\n",
            "Epoch 1907/2000\n",
            "1/1 [==============================] - 0s 5ms/step - loss: 0.1425 - mae: 0.1425\n",
            "Epoch 1908/2000\n",
            "1/1 [==============================] - 0s 5ms/step - loss: 0.2806 - mae: 0.2806\n",
            "Epoch 1909/2000\n",
            "1/1 [==============================] - 0s 5ms/step - loss: 0.1425 - mae: 0.1425\n",
            "Epoch 1910/2000\n",
            "1/1 [==============================] - 0s 44ms/step - loss: 0.2806 - mae: 0.2806\n",
            "Epoch 1911/2000\n",
            "1/1 [==============================] - 0s 8ms/step - loss: 0.1425 - mae: 0.1425\n",
            "Epoch 1912/2000\n",
            "1/1 [==============================] - 0s 8ms/step - loss: 0.2806 - mae: 0.2806\n",
            "Epoch 1913/2000\n",
            "1/1 [==============================] - 0s 4ms/step - loss: 0.1425 - mae: 0.1425\n",
            "Epoch 1914/2000\n",
            "1/1 [==============================] - 0s 7ms/step - loss: 0.2806 - mae: 0.2806\n",
            "Epoch 1915/2000\n",
            "1/1 [==============================] - 0s 5ms/step - loss: 0.1425 - mae: 0.1425\n",
            "Epoch 1916/2000\n",
            "1/1 [==============================] - 0s 5ms/step - loss: 0.2806 - mae: 0.2806\n",
            "Epoch 1917/2000\n",
            "1/1 [==============================] - 0s 5ms/step - loss: 0.1425 - mae: 0.1425\n",
            "Epoch 1918/2000\n",
            "1/1 [==============================] - 0s 13ms/step - loss: 0.2806 - mae: 0.2806\n",
            "Epoch 1919/2000\n",
            "1/1 [==============================] - 0s 8ms/step - loss: 0.1425 - mae: 0.1425\n",
            "Epoch 1920/2000\n",
            "1/1 [==============================] - 0s 6ms/step - loss: 0.2806 - mae: 0.2806\n",
            "Epoch 1921/2000\n",
            "1/1 [==============================] - 0s 5ms/step - loss: 0.1425 - mae: 0.1425\n",
            "Epoch 1922/2000\n",
            "1/1 [==============================] - 0s 4ms/step - loss: 0.2806 - mae: 0.2806\n",
            "Epoch 1923/2000\n",
            "1/1 [==============================] - 0s 5ms/step - loss: 0.1425 - mae: 0.1425\n",
            "Epoch 1924/2000\n",
            "1/1 [==============================] - 0s 4ms/step - loss: 0.2806 - mae: 0.2806\n",
            "Epoch 1925/2000\n",
            "1/1 [==============================] - 0s 11ms/step - loss: 0.1425 - mae: 0.1425\n",
            "Epoch 1926/2000\n",
            "1/1 [==============================] - 0s 5ms/step - loss: 0.2806 - mae: 0.2806\n",
            "Epoch 1927/2000\n",
            "1/1 [==============================] - 0s 5ms/step - loss: 0.1425 - mae: 0.1425\n",
            "Epoch 1928/2000\n",
            "1/1 [==============================] - 0s 5ms/step - loss: 0.2806 - mae: 0.2806\n",
            "Epoch 1929/2000\n",
            "1/1 [==============================] - 0s 4ms/step - loss: 0.1425 - mae: 0.1425\n",
            "Epoch 1930/2000\n",
            "1/1 [==============================] - 0s 15ms/step - loss: 0.2806 - mae: 0.2806\n",
            "Epoch 1931/2000\n",
            "1/1 [==============================] - 0s 9ms/step - loss: 0.1425 - mae: 0.1425\n",
            "Epoch 1932/2000\n",
            "1/1 [==============================] - 0s 5ms/step - loss: 0.2806 - mae: 0.2806\n",
            "Epoch 1933/2000\n",
            "1/1 [==============================] - 0s 5ms/step - loss: 0.1425 - mae: 0.1425\n",
            "Epoch 1934/2000\n",
            "1/1 [==============================] - 0s 6ms/step - loss: 0.2806 - mae: 0.2806\n",
            "Epoch 1935/2000\n",
            "1/1 [==============================] - 0s 6ms/step - loss: 0.1425 - mae: 0.1425\n",
            "Epoch 1936/2000\n",
            "1/1 [==============================] - 0s 5ms/step - loss: 0.2806 - mae: 0.2806\n",
            "Epoch 1937/2000\n",
            "1/1 [==============================] - 0s 6ms/step - loss: 0.1425 - mae: 0.1425\n",
            "Epoch 1938/2000\n",
            "1/1 [==============================] - 0s 13ms/step - loss: 0.2806 - mae: 0.2806\n",
            "Epoch 1939/2000\n",
            "1/1 [==============================] - 0s 8ms/step - loss: 0.1425 - mae: 0.1425\n",
            "Epoch 1940/2000\n",
            "1/1 [==============================] - 0s 8ms/step - loss: 0.2806 - mae: 0.2806\n",
            "Epoch 1941/2000\n",
            "1/1 [==============================] - 0s 18ms/step - loss: 0.1425 - mae: 0.1425\n",
            "Epoch 1942/2000\n",
            "1/1 [==============================] - 0s 6ms/step - loss: 0.2806 - mae: 0.2806\n",
            "Epoch 1943/2000\n",
            "1/1 [==============================] - 0s 29ms/step - loss: 0.1425 - mae: 0.1425\n",
            "Epoch 1944/2000\n",
            "1/1 [==============================] - 0s 26ms/step - loss: 0.2806 - mae: 0.2806\n",
            "Epoch 1945/2000\n",
            "1/1 [==============================] - 0s 14ms/step - loss: 0.1425 - mae: 0.1425\n",
            "Epoch 1946/2000\n",
            "1/1 [==============================] - 0s 10ms/step - loss: 0.2806 - mae: 0.2806\n",
            "Epoch 1947/2000\n",
            "1/1 [==============================] - 0s 9ms/step - loss: 0.1425 - mae: 0.1425\n",
            "Epoch 1948/2000\n",
            "1/1 [==============================] - 0s 6ms/step - loss: 0.2806 - mae: 0.2806\n",
            "Epoch 1949/2000\n",
            "1/1 [==============================] - 0s 4ms/step - loss: 0.1425 - mae: 0.1425\n",
            "Epoch 1950/2000\n",
            "1/1 [==============================] - 0s 5ms/step - loss: 0.2806 - mae: 0.2806\n",
            "Epoch 1951/2000\n",
            "1/1 [==============================] - 0s 5ms/step - loss: 0.1425 - mae: 0.1425\n",
            "Epoch 1952/2000\n",
            "1/1 [==============================] - 0s 17ms/step - loss: 0.2806 - mae: 0.2806\n",
            "Epoch 1953/2000\n",
            "1/1 [==============================] - 0s 6ms/step - loss: 0.1425 - mae: 0.1425\n",
            "Epoch 1954/2000\n",
            "1/1 [==============================] - 0s 8ms/step - loss: 0.2806 - mae: 0.2806\n",
            "Epoch 1955/2000\n",
            "1/1 [==============================] - 0s 7ms/step - loss: 0.1425 - mae: 0.1425\n",
            "Epoch 1956/2000\n",
            "1/1 [==============================] - 0s 18ms/step - loss: 0.2806 - mae: 0.2806\n",
            "Epoch 1957/2000\n",
            "1/1 [==============================] - 0s 5ms/step - loss: 0.1425 - mae: 0.1425\n",
            "Epoch 1958/2000\n",
            "1/1 [==============================] - 0s 4ms/step - loss: 0.2806 - mae: 0.2806\n",
            "Epoch 1959/2000\n",
            "1/1 [==============================] - 0s 5ms/step - loss: 0.1425 - mae: 0.1425\n",
            "Epoch 1960/2000\n",
            "1/1 [==============================] - 0s 9ms/step - loss: 0.2806 - mae: 0.2806\n",
            "Epoch 1961/2000\n",
            "1/1 [==============================] - 0s 50ms/step - loss: 0.1425 - mae: 0.1425\n",
            "Epoch 1962/2000\n",
            "1/1 [==============================] - 0s 43ms/step - loss: 0.2806 - mae: 0.2806\n",
            "Epoch 1963/2000\n",
            "1/1 [==============================] - 0s 19ms/step - loss: 0.1425 - mae: 0.1425\n",
            "Epoch 1964/2000\n",
            "1/1 [==============================] - 0s 7ms/step - loss: 0.2806 - mae: 0.2806\n",
            "Epoch 1965/2000\n",
            "1/1 [==============================] - 0s 8ms/step - loss: 0.1425 - mae: 0.1425\n",
            "Epoch 1966/2000\n",
            "1/1 [==============================] - 0s 14ms/step - loss: 0.2806 - mae: 0.2806\n",
            "Epoch 1967/2000\n",
            "1/1 [==============================] - 0s 32ms/step - loss: 0.1425 - mae: 0.1425\n",
            "Epoch 1968/2000\n",
            "1/1 [==============================] - 0s 21ms/step - loss: 0.2806 - mae: 0.2806\n",
            "Epoch 1969/2000\n",
            "1/1 [==============================] - 0s 19ms/step - loss: 0.1425 - mae: 0.1425\n",
            "Epoch 1970/2000\n",
            "1/1 [==============================] - 0s 12ms/step - loss: 0.2806 - mae: 0.2806\n",
            "Epoch 1971/2000\n",
            "1/1 [==============================] - 0s 16ms/step - loss: 0.1425 - mae: 0.1425\n",
            "Epoch 1972/2000\n",
            "1/1 [==============================] - 0s 9ms/step - loss: 0.2806 - mae: 0.2806\n",
            "Epoch 1973/2000\n",
            "1/1 [==============================] - 0s 6ms/step - loss: 0.1425 - mae: 0.1425\n",
            "Epoch 1974/2000\n",
            "1/1 [==============================] - 0s 8ms/step - loss: 0.2806 - mae: 0.2806\n",
            "Epoch 1975/2000\n",
            "1/1 [==============================] - 0s 12ms/step - loss: 0.1425 - mae: 0.1425\n",
            "Epoch 1976/2000\n",
            "1/1 [==============================] - 0s 10ms/step - loss: 0.2806 - mae: 0.2806\n",
            "Epoch 1977/2000\n",
            "1/1 [==============================] - 0s 16ms/step - loss: 0.1425 - mae: 0.1425\n",
            "Epoch 1978/2000\n",
            "1/1 [==============================] - 0s 8ms/step - loss: 0.2806 - mae: 0.2806\n",
            "Epoch 1979/2000\n",
            "1/1 [==============================] - 0s 12ms/step - loss: 0.1425 - mae: 0.1425\n",
            "Epoch 1980/2000\n",
            "1/1 [==============================] - 0s 8ms/step - loss: 0.2806 - mae: 0.2806\n",
            "Epoch 1981/2000\n",
            "1/1 [==============================] - 0s 20ms/step - loss: 0.1425 - mae: 0.1425\n",
            "Epoch 1982/2000\n",
            "1/1 [==============================] - 0s 18ms/step - loss: 0.2806 - mae: 0.2806\n",
            "Epoch 1983/2000\n",
            "1/1 [==============================] - 0s 16ms/step - loss: 0.1425 - mae: 0.1425\n",
            "Epoch 1984/2000\n",
            "1/1 [==============================] - 0s 14ms/step - loss: 0.2806 - mae: 0.2806\n",
            "Epoch 1985/2000\n",
            "1/1 [==============================] - 0s 9ms/step - loss: 0.1425 - mae: 0.1425\n",
            "Epoch 1986/2000\n",
            "1/1 [==============================] - 0s 9ms/step - loss: 0.2806 - mae: 0.2806\n",
            "Epoch 1987/2000\n",
            "1/1 [==============================] - 0s 7ms/step - loss: 0.1425 - mae: 0.1425\n",
            "Epoch 1988/2000\n",
            "1/1 [==============================] - 0s 4ms/step - loss: 0.2806 - mae: 0.2806\n",
            "Epoch 1989/2000\n",
            "1/1 [==============================] - 0s 7ms/step - loss: 0.1425 - mae: 0.1425\n",
            "Epoch 1990/2000\n",
            "1/1 [==============================] - 0s 10ms/step - loss: 0.2806 - mae: 0.2806\n",
            "Epoch 1991/2000\n",
            "1/1 [==============================] - 0s 8ms/step - loss: 0.1425 - mae: 0.1425\n",
            "Epoch 1992/2000\n",
            "1/1 [==============================] - 0s 6ms/step - loss: 0.2806 - mae: 0.2806\n",
            "Epoch 1993/2000\n",
            "1/1 [==============================] - 0s 6ms/step - loss: 0.1425 - mae: 0.1425\n",
            "Epoch 1994/2000\n",
            "1/1 [==============================] - 0s 9ms/step - loss: 0.2806 - mae: 0.2806\n",
            "Epoch 1995/2000\n",
            "1/1 [==============================] - 0s 8ms/step - loss: 0.1425 - mae: 0.1425\n",
            "Epoch 1996/2000\n",
            "1/1 [==============================] - 0s 9ms/step - loss: 0.2806 - mae: 0.2806\n",
            "Epoch 1997/2000\n",
            "1/1 [==============================] - 0s 8ms/step - loss: 0.1425 - mae: 0.1425\n",
            "Epoch 1998/2000\n",
            "1/1 [==============================] - 0s 10ms/step - loss: 0.2806 - mae: 0.2806\n",
            "Epoch 1999/2000\n",
            "1/1 [==============================] - 0s 8ms/step - loss: 0.1425 - mae: 0.1425\n",
            "Epoch 2000/2000\n",
            "1/1 [==============================] - 0s 11ms/step - loss: 0.2806 - mae: 0.2806\n"
          ]
        },
        {
          "output_type": "execute_result",
          "data": {
            "text/plain": [
              "<keras.callbacks.History at 0x7f2b125e1810>"
            ]
          },
          "metadata": {},
          "execution_count": 14
        }
      ]
    },
    {
      "cell_type": "code",
      "source": [
        "X,y"
      ],
      "metadata": {
        "colab": {
          "base_uri": "https://localhost:8080/"
        },
        "id": "uDZAXkYWsRrL",
        "outputId": "c06dd6f7-f4c3-4fcb-a1c4-a9e2dcd600dd"
      },
      "execution_count": 15,
      "outputs": [
        {
          "output_type": "execute_result",
          "data": {
            "text/plain": [
              "(<tf.Tensor: shape=(8,), dtype=float64, numpy=array([-7., -4., -1.,  2.,  5.,  8., 11., 14.])>,\n",
              " <tf.Tensor: shape=(8,), dtype=float64, numpy=array([ 3.,  6.,  9., 12., 15., 18., 21., 24.])>)"
            ]
          },
          "metadata": {},
          "execution_count": 15
        }
      ]
    },
    {
      "cell_type": "code",
      "source": [
        "# Lets predict\n",
        "\n",
        "model.predict([17.0])"
      ],
      "metadata": {
        "colab": {
          "base_uri": "https://localhost:8080/"
        },
        "id": "zhv2IFJSsVKD",
        "outputId": "a2e2b8be-51b2-4a99-ae90-841f1a5ffb42"
      },
      "execution_count": 16,
      "outputs": [
        {
          "output_type": "execute_result",
          "data": {
            "text/plain": [
              "array([[27.359833]], dtype=float32)"
            ]
          },
          "metadata": {},
          "execution_count": 16
        }
      ]
    },
    {
      "cell_type": "code",
      "source": [
        "# Another chnges to improve the model\n",
        "\n",
        "# 1 create the model with an extra hidden layer\n",
        "\n",
        "model = tf.keras.Sequential([\n",
        "  tf.keras.layers.Dense(100, activation=\"relu\"),\n",
        "  tf.keras.layers.Dense(100, activation=\"relu\"),\n",
        "  tf.keras.layers.Dense(100, activation=\"relu\"),\n",
        "  tf.keras.layers.Dense(1)\n",
        "])\n",
        "\n",
        "# 2. Compile the model\n",
        "\n",
        "model.compile(loss=\"mae\",\n",
        "              optimizer= tf.keras.optimizers.Adam(learning_rate=0.001), #agregar el learning rate mejoro la prediccion\n",
        "              metrics=[\"mae\"])\n",
        "\n",
        "# 3. Fit the model\n",
        "\n",
        "model.fit(tf.expand_dims(X, axis=-1),y, epochs=200)\n",
        "\n"
      ],
      "metadata": {
        "colab": {
          "base_uri": "https://localhost:8080/"
        },
        "id": "dI0uBDXjtq8X",
        "outputId": "d0e32836-10c3-466b-c513-93ba367b76e2"
      },
      "execution_count": 17,
      "outputs": [
        {
          "output_type": "stream",
          "name": "stdout",
          "text": [
            "Epoch 1/200\n",
            "1/1 [==============================] - 2s 2s/step - loss: 12.9513 - mae: 12.9513\n",
            "Epoch 2/200\n",
            "1/1 [==============================] - 0s 9ms/step - loss: 12.5285 - mae: 12.5285\n",
            "Epoch 3/200\n",
            "1/1 [==============================] - 0s 10ms/step - loss: 12.1098 - mae: 12.1098\n",
            "Epoch 4/200\n",
            "1/1 [==============================] - 0s 12ms/step - loss: 11.6979 - mae: 11.6979\n",
            "Epoch 5/200\n",
            "1/1 [==============================] - 0s 20ms/step - loss: 11.2893 - mae: 11.2893\n",
            "Epoch 6/200\n",
            "1/1 [==============================] - 0s 14ms/step - loss: 10.8902 - mae: 10.8902\n",
            "Epoch 7/200\n",
            "1/1 [==============================] - 0s 11ms/step - loss: 10.5068 - mae: 10.5068\n",
            "Epoch 8/200\n",
            "1/1 [==============================] - 0s 9ms/step - loss: 10.1209 - mae: 10.1209\n",
            "Epoch 9/200\n",
            "1/1 [==============================] - 0s 12ms/step - loss: 9.7311 - mae: 9.7311\n",
            "Epoch 10/200\n",
            "1/1 [==============================] - 0s 9ms/step - loss: 9.3167 - mae: 9.3167\n",
            "Epoch 11/200\n",
            "1/1 [==============================] - 0s 12ms/step - loss: 8.8797 - mae: 8.8797\n",
            "Epoch 12/200\n",
            "1/1 [==============================] - 0s 6ms/step - loss: 8.4478 - mae: 8.4478\n",
            "Epoch 13/200\n",
            "1/1 [==============================] - 0s 6ms/step - loss: 8.0554 - mae: 8.0554\n",
            "Epoch 14/200\n",
            "1/1 [==============================] - 0s 7ms/step - loss: 7.6417 - mae: 7.6417\n",
            "Epoch 15/200\n",
            "1/1 [==============================] - 0s 11ms/step - loss: 7.2037 - mae: 7.2037\n",
            "Epoch 16/200\n",
            "1/1 [==============================] - 0s 6ms/step - loss: 6.7338 - mae: 6.7338\n",
            "Epoch 17/200\n",
            "1/1 [==============================] - 0s 11ms/step - loss: 6.2391 - mae: 6.2391\n",
            "Epoch 18/200\n",
            "1/1 [==============================] - 0s 8ms/step - loss: 5.7124 - mae: 5.7124\n",
            "Epoch 19/200\n",
            "1/1 [==============================] - 0s 9ms/step - loss: 5.1505 - mae: 5.1505\n",
            "Epoch 20/200\n",
            "1/1 [==============================] - 0s 15ms/step - loss: 4.5515 - mae: 4.5515\n",
            "Epoch 21/200\n",
            "1/1 [==============================] - 0s 16ms/step - loss: 4.1226 - mae: 4.1226\n",
            "Epoch 22/200\n",
            "1/1 [==============================] - 0s 14ms/step - loss: 3.9248 - mae: 3.9248\n",
            "Epoch 23/200\n",
            "1/1 [==============================] - 0s 11ms/step - loss: 4.0670 - mae: 4.0670\n",
            "Epoch 24/200\n",
            "1/1 [==============================] - 0s 16ms/step - loss: 4.1968 - mae: 4.1968\n",
            "Epoch 25/200\n",
            "1/1 [==============================] - 0s 18ms/step - loss: 4.3344 - mae: 4.3344\n",
            "Epoch 26/200\n",
            "1/1 [==============================] - 0s 11ms/step - loss: 4.5500 - mae: 4.5500\n",
            "Epoch 27/200\n",
            "1/1 [==============================] - 0s 11ms/step - loss: 4.6800 - mae: 4.6800\n",
            "Epoch 28/200\n",
            "1/1 [==============================] - 0s 9ms/step - loss: 4.7330 - mae: 4.7330\n",
            "Epoch 29/200\n",
            "1/1 [==============================] - 0s 16ms/step - loss: 4.7179 - mae: 4.7179\n",
            "Epoch 30/200\n",
            "1/1 [==============================] - 0s 33ms/step - loss: 4.6452 - mae: 4.6452\n",
            "Epoch 31/200\n",
            "1/1 [==============================] - 0s 18ms/step - loss: 4.5235 - mae: 4.5235\n",
            "Epoch 32/200\n",
            "1/1 [==============================] - 0s 17ms/step - loss: 4.3622 - mae: 4.3622\n",
            "Epoch 33/200\n",
            "1/1 [==============================] - 0s 21ms/step - loss: 4.2044 - mae: 4.2044\n",
            "Epoch 34/200\n",
            "1/1 [==============================] - 0s 11ms/step - loss: 4.1277 - mae: 4.1277\n",
            "Epoch 35/200\n",
            "1/1 [==============================] - 0s 31ms/step - loss: 4.0525 - mae: 4.0525\n",
            "Epoch 36/200\n",
            "1/1 [==============================] - 0s 23ms/step - loss: 3.9784 - mae: 3.9784\n",
            "Epoch 37/200\n",
            "1/1 [==============================] - 0s 21ms/step - loss: 3.9052 - mae: 3.9052\n",
            "Epoch 38/200\n",
            "1/1 [==============================] - 0s 24ms/step - loss: 3.8333 - mae: 3.8333\n",
            "Epoch 39/200\n",
            "1/1 [==============================] - 0s 20ms/step - loss: 3.8401 - mae: 3.8401\n",
            "Epoch 40/200\n",
            "1/1 [==============================] - 0s 17ms/step - loss: 3.8941 - mae: 3.8941\n",
            "Epoch 41/200\n",
            "1/1 [==============================] - 0s 5ms/step - loss: 3.9317 - mae: 3.9317\n",
            "Epoch 42/200\n",
            "1/1 [==============================] - 0s 7ms/step - loss: 3.9546 - mae: 3.9546\n",
            "Epoch 43/200\n",
            "1/1 [==============================] - 0s 10ms/step - loss: 3.9649 - mae: 3.9649\n",
            "Epoch 44/200\n",
            "1/1 [==============================] - 0s 9ms/step - loss: 3.9633 - mae: 3.9633\n",
            "Epoch 45/200\n",
            "1/1 [==============================] - 0s 15ms/step - loss: 3.9511 - mae: 3.9511\n",
            "Epoch 46/200\n",
            "1/1 [==============================] - 0s 9ms/step - loss: 3.9296 - mae: 3.9296\n",
            "Epoch 47/200\n",
            "1/1 [==============================] - 0s 9ms/step - loss: 3.8990 - mae: 3.8990\n",
            "Epoch 48/200\n",
            "1/1 [==============================] - 0s 9ms/step - loss: 3.8589 - mae: 3.8589\n",
            "Epoch 49/200\n",
            "1/1 [==============================] - 0s 9ms/step - loss: 3.8110 - mae: 3.8110\n",
            "Epoch 50/200\n",
            "1/1 [==============================] - 0s 10ms/step - loss: 3.7558 - mae: 3.7558\n",
            "Epoch 51/200\n",
            "1/1 [==============================] - 0s 9ms/step - loss: 3.6930 - mae: 3.6930\n",
            "Epoch 52/200\n",
            "1/1 [==============================] - 0s 9ms/step - loss: 3.7065 - mae: 3.7065\n",
            "Epoch 53/200\n",
            "1/1 [==============================] - 0s 10ms/step - loss: 3.7302 - mae: 3.7302\n",
            "Epoch 54/200\n",
            "1/1 [==============================] - 0s 9ms/step - loss: 3.7500 - mae: 3.7500\n",
            "Epoch 55/200\n",
            "1/1 [==============================] - 0s 9ms/step - loss: 3.7534 - mae: 3.7534\n",
            "Epoch 56/200\n",
            "1/1 [==============================] - 0s 7ms/step - loss: 3.7540 - mae: 3.7540\n",
            "Epoch 57/200\n",
            "1/1 [==============================] - 0s 7ms/step - loss: 3.7465 - mae: 3.7465\n",
            "Epoch 58/200\n",
            "1/1 [==============================] - 0s 7ms/step - loss: 3.7322 - mae: 3.7322\n",
            "Epoch 59/200\n",
            "1/1 [==============================] - 0s 8ms/step - loss: 3.7112 - mae: 3.7112\n",
            "Epoch 60/200\n",
            "1/1 [==============================] - 0s 6ms/step - loss: 3.6847 - mae: 3.6847\n",
            "Epoch 61/200\n",
            "1/1 [==============================] - 0s 6ms/step - loss: 3.6529 - mae: 3.6529\n",
            "Epoch 62/200\n",
            "1/1 [==============================] - 0s 6ms/step - loss: 3.6281 - mae: 3.6281\n",
            "Epoch 63/200\n",
            "1/1 [==============================] - 0s 6ms/step - loss: 3.5796 - mae: 3.5796\n",
            "Epoch 64/200\n",
            "1/1 [==============================] - 0s 7ms/step - loss: 3.6103 - mae: 3.6103\n",
            "Epoch 65/200\n",
            "1/1 [==============================] - 0s 7ms/step - loss: 3.6314 - mae: 3.6314\n",
            "Epoch 66/200\n",
            "1/1 [==============================] - 0s 6ms/step - loss: 3.6358 - mae: 3.6358\n",
            "Epoch 67/200\n",
            "1/1 [==============================] - 0s 6ms/step - loss: 3.6249 - mae: 3.6249\n",
            "Epoch 68/200\n",
            "1/1 [==============================] - 0s 6ms/step - loss: 3.5999 - mae: 3.5999\n",
            "Epoch 69/200\n",
            "1/1 [==============================] - 0s 10ms/step - loss: 3.5609 - mae: 3.5609\n",
            "Epoch 70/200\n",
            "1/1 [==============================] - 0s 6ms/step - loss: 3.5099 - mae: 3.5099\n",
            "Epoch 71/200\n",
            "1/1 [==============================] - 0s 6ms/step - loss: 3.5159 - mae: 3.5159\n",
            "Epoch 72/200\n",
            "1/1 [==============================] - 0s 6ms/step - loss: 3.5175 - mae: 3.5175\n",
            "Epoch 73/200\n",
            "1/1 [==============================] - 0s 7ms/step - loss: 3.5069 - mae: 3.5069\n",
            "Epoch 74/200\n",
            "1/1 [==============================] - 0s 6ms/step - loss: 3.4920 - mae: 3.4920\n",
            "Epoch 75/200\n",
            "1/1 [==============================] - 0s 6ms/step - loss: 3.4704 - mae: 3.4704\n",
            "Epoch 76/200\n",
            "1/1 [==============================] - 0s 6ms/step - loss: 3.4534 - mae: 3.4534\n",
            "Epoch 77/200\n",
            "1/1 [==============================] - 0s 7ms/step - loss: 3.4483 - mae: 3.4483\n",
            "Epoch 78/200\n",
            "1/1 [==============================] - 0s 6ms/step - loss: 3.4268 - mae: 3.4268\n",
            "Epoch 79/200\n",
            "1/1 [==============================] - 0s 23ms/step - loss: 3.4194 - mae: 3.4194\n",
            "Epoch 80/200\n",
            "1/1 [==============================] - 0s 9ms/step - loss: 3.4120 - mae: 3.4120\n",
            "Epoch 81/200\n",
            "1/1 [==============================] - 0s 10ms/step - loss: 3.3956 - mae: 3.3956\n",
            "Epoch 82/200\n",
            "1/1 [==============================] - 0s 11ms/step - loss: 3.3757 - mae: 3.3757\n",
            "Epoch 83/200\n",
            "1/1 [==============================] - 0s 9ms/step - loss: 3.3477 - mae: 3.3477\n",
            "Epoch 84/200\n",
            "1/1 [==============================] - 0s 80ms/step - loss: 3.3362 - mae: 3.3362\n",
            "Epoch 85/200\n",
            "1/1 [==============================] - 0s 42ms/step - loss: 3.3275 - mae: 3.3275\n",
            "Epoch 86/200\n",
            "1/1 [==============================] - 0s 15ms/step - loss: 3.3051 - mae: 3.3051\n",
            "Epoch 87/200\n",
            "1/1 [==============================] - 0s 12ms/step - loss: 3.2856 - mae: 3.2856\n",
            "Epoch 88/200\n",
            "1/1 [==============================] - 0s 14ms/step - loss: 3.2694 - mae: 3.2694\n",
            "Epoch 89/200\n",
            "1/1 [==============================] - 0s 11ms/step - loss: 3.2465 - mae: 3.2465\n",
            "Epoch 90/200\n",
            "1/1 [==============================] - 0s 10ms/step - loss: 3.2267 - mae: 3.2267\n",
            "Epoch 91/200\n",
            "1/1 [==============================] - 0s 14ms/step - loss: 3.2103 - mae: 3.2103\n",
            "Epoch 92/200\n",
            "1/1 [==============================] - 0s 8ms/step - loss: 3.1834 - mae: 3.1834\n",
            "Epoch 93/200\n",
            "1/1 [==============================] - 0s 7ms/step - loss: 3.1620 - mae: 3.1620\n",
            "Epoch 94/200\n",
            "1/1 [==============================] - 0s 10ms/step - loss: 3.1473 - mae: 3.1473\n",
            "Epoch 95/200\n",
            "1/1 [==============================] - 0s 11ms/step - loss: 3.1263 - mae: 3.1263\n",
            "Epoch 96/200\n",
            "1/1 [==============================] - 0s 9ms/step - loss: 3.1041 - mae: 3.1041\n",
            "Epoch 97/200\n",
            "1/1 [==============================] - 0s 10ms/step - loss: 3.0863 - mae: 3.0863\n",
            "Epoch 98/200\n",
            "1/1 [==============================] - 0s 12ms/step - loss: 3.0641 - mae: 3.0641\n",
            "Epoch 99/200\n",
            "1/1 [==============================] - 0s 14ms/step - loss: 3.0412 - mae: 3.0412\n",
            "Epoch 100/200\n",
            "1/1 [==============================] - 0s 6ms/step - loss: 3.0252 - mae: 3.0252\n",
            "Epoch 101/200\n",
            "1/1 [==============================] - 0s 6ms/step - loss: 2.9976 - mae: 2.9976\n",
            "Epoch 102/200\n",
            "1/1 [==============================] - 0s 6ms/step - loss: 2.9595 - mae: 2.9595\n",
            "Epoch 103/200\n",
            "1/1 [==============================] - 0s 10ms/step - loss: 2.9630 - mae: 2.9630\n",
            "Epoch 104/200\n",
            "1/1 [==============================] - 0s 10ms/step - loss: 2.9354 - mae: 2.9354\n",
            "Epoch 105/200\n",
            "1/1 [==============================] - 0s 9ms/step - loss: 2.8779 - mae: 2.8779\n",
            "Epoch 106/200\n",
            "1/1 [==============================] - 0s 8ms/step - loss: 2.8590 - mae: 2.8590\n",
            "Epoch 107/200\n",
            "1/1 [==============================] - 0s 8ms/step - loss: 2.8406 - mae: 2.8406\n",
            "Epoch 108/200\n",
            "1/1 [==============================] - 0s 14ms/step - loss: 2.8252 - mae: 2.8252\n",
            "Epoch 109/200\n",
            "1/1 [==============================] - 0s 13ms/step - loss: 2.7753 - mae: 2.7753\n",
            "Epoch 110/200\n",
            "1/1 [==============================] - 0s 13ms/step - loss: 2.7280 - mae: 2.7280\n",
            "Epoch 111/200\n",
            "1/1 [==============================] - 0s 6ms/step - loss: 2.6679 - mae: 2.6679\n",
            "Epoch 112/200\n",
            "1/1 [==============================] - 0s 8ms/step - loss: 2.6428 - mae: 2.6428\n",
            "Epoch 113/200\n",
            "1/1 [==============================] - 0s 11ms/step - loss: 2.6052 - mae: 2.6052\n",
            "Epoch 114/200\n",
            "1/1 [==============================] - 0s 10ms/step - loss: 2.5228 - mae: 2.5228\n",
            "Epoch 115/200\n",
            "1/1 [==============================] - 0s 19ms/step - loss: 2.4479 - mae: 2.4479\n",
            "Epoch 116/200\n",
            "1/1 [==============================] - 0s 18ms/step - loss: 2.4003 - mae: 2.4003\n",
            "Epoch 117/200\n",
            "1/1 [==============================] - 0s 17ms/step - loss: 2.3272 - mae: 2.3272\n",
            "Epoch 118/200\n",
            "1/1 [==============================] - 0s 6ms/step - loss: 2.2284 - mae: 2.2284\n",
            "Epoch 119/200\n",
            "1/1 [==============================] - 0s 11ms/step - loss: 2.1000 - mae: 2.1000\n",
            "Epoch 120/200\n",
            "1/1 [==============================] - 0s 11ms/step - loss: 2.0172 - mae: 2.0172\n",
            "Epoch 121/200\n",
            "1/1 [==============================] - 0s 8ms/step - loss: 1.9335 - mae: 1.9335\n",
            "Epoch 122/200\n",
            "1/1 [==============================] - 0s 11ms/step - loss: 1.8949 - mae: 1.8949\n",
            "Epoch 123/200\n",
            "1/1 [==============================] - 0s 6ms/step - loss: 1.7888 - mae: 1.7888\n",
            "Epoch 124/200\n",
            "1/1 [==============================] - 0s 9ms/step - loss: 1.7254 - mae: 1.7254\n",
            "Epoch 125/200\n",
            "1/1 [==============================] - 0s 9ms/step - loss: 1.6648 - mae: 1.6648\n",
            "Epoch 126/200\n",
            "1/1 [==============================] - 0s 7ms/step - loss: 1.5770 - mae: 1.5770\n",
            "Epoch 127/200\n",
            "1/1 [==============================] - 0s 24ms/step - loss: 1.4650 - mae: 1.4650\n",
            "Epoch 128/200\n",
            "1/1 [==============================] - 0s 12ms/step - loss: 1.3236 - mae: 1.3236\n",
            "Epoch 129/200\n",
            "1/1 [==============================] - 0s 9ms/step - loss: 1.1765 - mae: 1.1765\n",
            "Epoch 130/200\n",
            "1/1 [==============================] - 0s 12ms/step - loss: 1.1146 - mae: 1.1146\n",
            "Epoch 131/200\n",
            "1/1 [==============================] - 0s 10ms/step - loss: 0.9913 - mae: 0.9913\n",
            "Epoch 132/200\n",
            "1/1 [==============================] - 0s 11ms/step - loss: 0.8157 - mae: 0.8157\n",
            "Epoch 133/200\n",
            "1/1 [==============================] - 0s 11ms/step - loss: 0.7402 - mae: 0.7402\n",
            "Epoch 134/200\n",
            "1/1 [==============================] - 0s 10ms/step - loss: 0.6239 - mae: 0.6239\n",
            "Epoch 135/200\n",
            "1/1 [==============================] - 0s 19ms/step - loss: 0.5655 - mae: 0.5655\n",
            "Epoch 136/200\n",
            "1/1 [==============================] - 0s 17ms/step - loss: 0.5605 - mae: 0.5605\n",
            "Epoch 137/200\n",
            "1/1 [==============================] - 0s 19ms/step - loss: 0.5044 - mae: 0.5044\n",
            "Epoch 138/200\n",
            "1/1 [==============================] - 0s 17ms/step - loss: 0.5781 - mae: 0.5781\n",
            "Epoch 139/200\n",
            "1/1 [==============================] - 0s 21ms/step - loss: 0.4654 - mae: 0.4654\n",
            "Epoch 140/200\n",
            "1/1 [==============================] - 0s 19ms/step - loss: 0.5846 - mae: 0.5846\n",
            "Epoch 141/200\n",
            "1/1 [==============================] - 0s 15ms/step - loss: 0.4719 - mae: 0.4719\n",
            "Epoch 142/200\n",
            "1/1 [==============================] - 0s 20ms/step - loss: 0.5513 - mae: 0.5513\n",
            "Epoch 143/200\n",
            "1/1 [==============================] - 0s 15ms/step - loss: 0.5514 - mae: 0.5514\n",
            "Epoch 144/200\n",
            "1/1 [==============================] - 0s 11ms/step - loss: 0.3830 - mae: 0.3830\n",
            "Epoch 145/200\n",
            "1/1 [==============================] - 0s 14ms/step - loss: 0.5254 - mae: 0.5254\n",
            "Epoch 146/200\n",
            "1/1 [==============================] - 0s 16ms/step - loss: 0.3030 - mae: 0.3030\n",
            "Epoch 147/200\n",
            "1/1 [==============================] - 0s 12ms/step - loss: 0.6889 - mae: 0.6889\n",
            "Epoch 148/200\n",
            "1/1 [==============================] - 0s 9ms/step - loss: 0.7715 - mae: 0.7715\n",
            "Epoch 149/200\n",
            "1/1 [==============================] - 0s 11ms/step - loss: 0.3879 - mae: 0.3879\n",
            "Epoch 150/200\n",
            "1/1 [==============================] - 0s 10ms/step - loss: 0.6525 - mae: 0.6525\n",
            "Epoch 151/200\n",
            "1/1 [==============================] - 0s 11ms/step - loss: 0.8927 - mae: 0.8927\n",
            "Epoch 152/200\n",
            "1/1 [==============================] - 0s 14ms/step - loss: 0.8343 - mae: 0.8343\n",
            "Epoch 153/200\n",
            "1/1 [==============================] - 0s 14ms/step - loss: 0.4961 - mae: 0.4961\n",
            "Epoch 154/200\n",
            "1/1 [==============================] - 0s 13ms/step - loss: 0.5402 - mae: 0.5402\n",
            "Epoch 155/200\n",
            "1/1 [==============================] - 0s 13ms/step - loss: 0.7313 - mae: 0.7313\n",
            "Epoch 156/200\n",
            "1/1 [==============================] - 0s 16ms/step - loss: 0.6354 - mae: 0.6354\n",
            "Epoch 157/200\n",
            "1/1 [==============================] - 0s 11ms/step - loss: 0.3716 - mae: 0.3716\n",
            "Epoch 158/200\n",
            "1/1 [==============================] - 0s 14ms/step - loss: 0.4620 - mae: 0.4620\n",
            "Epoch 159/200\n",
            "1/1 [==============================] - 0s 10ms/step - loss: 0.6379 - mae: 0.6379\n",
            "Epoch 160/200\n",
            "1/1 [==============================] - 0s 7ms/step - loss: 0.5737 - mae: 0.5737\n",
            "Epoch 161/200\n",
            "1/1 [==============================] - 0s 6ms/step - loss: 0.3692 - mae: 0.3692\n",
            "Epoch 162/200\n",
            "1/1 [==============================] - 0s 6ms/step - loss: 0.4031 - mae: 0.4031\n",
            "Epoch 163/200\n",
            "1/1 [==============================] - 0s 6ms/step - loss: 0.4737 - mae: 0.4737\n",
            "Epoch 164/200\n",
            "1/1 [==============================] - 0s 7ms/step - loss: 0.3484 - mae: 0.3484\n",
            "Epoch 165/200\n",
            "1/1 [==============================] - 0s 6ms/step - loss: 0.2872 - mae: 0.2872\n",
            "Epoch 166/200\n",
            "1/1 [==============================] - 0s 6ms/step - loss: 0.4053 - mae: 0.4053\n",
            "Epoch 167/200\n",
            "1/1 [==============================] - 0s 6ms/step - loss: 0.3259 - mae: 0.3259\n",
            "Epoch 168/200\n",
            "1/1 [==============================] - 0s 11ms/step - loss: 0.1816 - mae: 0.1816\n",
            "Epoch 169/200\n",
            "1/1 [==============================] - 0s 10ms/step - loss: 0.2495 - mae: 0.2495\n",
            "Epoch 170/200\n",
            "1/1 [==============================] - 0s 13ms/step - loss: 0.1722 - mae: 0.1722\n",
            "Epoch 171/200\n",
            "1/1 [==============================] - 0s 11ms/step - loss: 0.1932 - mae: 0.1932\n",
            "Epoch 172/200\n",
            "1/1 [==============================] - 0s 11ms/step - loss: 0.0920 - mae: 0.0920\n",
            "Epoch 173/200\n",
            "1/1 [==============================] - 0s 10ms/step - loss: 0.2400 - mae: 0.2400\n",
            "Epoch 174/200\n",
            "1/1 [==============================] - 0s 11ms/step - loss: 0.1863 - mae: 0.1863\n",
            "Epoch 175/200\n",
            "1/1 [==============================] - 0s 14ms/step - loss: 0.1308 - mae: 0.1308\n",
            "Epoch 176/200\n",
            "1/1 [==============================] - 0s 12ms/step - loss: 0.1118 - mae: 0.1118\n",
            "Epoch 177/200\n",
            "1/1 [==============================] - 0s 10ms/step - loss: 0.2257 - mae: 0.2257\n",
            "Epoch 178/200\n",
            "1/1 [==============================] - 0s 13ms/step - loss: 0.2034 - mae: 0.2034\n",
            "Epoch 179/200\n",
            "1/1 [==============================] - 0s 10ms/step - loss: 0.1339 - mae: 0.1339\n",
            "Epoch 180/200\n",
            "1/1 [==============================] - 0s 9ms/step - loss: 0.1696 - mae: 0.1696\n",
            "Epoch 181/200\n",
            "1/1 [==============================] - 0s 9ms/step - loss: 0.2146 - mae: 0.2146\n",
            "Epoch 182/200\n",
            "1/1 [==============================] - 0s 13ms/step - loss: 0.1166 - mae: 0.1166\n",
            "Epoch 183/200\n",
            "1/1 [==============================] - 0s 12ms/step - loss: 0.2362 - mae: 0.2362\n",
            "Epoch 184/200\n",
            "1/1 [==============================] - 0s 9ms/step - loss: 0.2203 - mae: 0.2203\n",
            "Epoch 185/200\n",
            "1/1 [==============================] - 0s 13ms/step - loss: 0.1479 - mae: 0.1479\n",
            "Epoch 186/200\n",
            "1/1 [==============================] - 0s 6ms/step - loss: 0.1993 - mae: 0.1993\n",
            "Epoch 187/200\n",
            "1/1 [==============================] - 0s 6ms/step - loss: 0.1664 - mae: 0.1664\n",
            "Epoch 188/200\n",
            "1/1 [==============================] - 0s 6ms/step - loss: 0.1168 - mae: 0.1168\n",
            "Epoch 189/200\n",
            "1/1 [==============================] - 0s 6ms/step - loss: 0.2070 - mae: 0.2070\n",
            "Epoch 190/200\n",
            "1/1 [==============================] - 0s 6ms/step - loss: 0.2403 - mae: 0.2403\n",
            "Epoch 191/200\n",
            "1/1 [==============================] - 0s 6ms/step - loss: 0.0558 - mae: 0.0558\n",
            "Epoch 192/200\n",
            "1/1 [==============================] - 0s 6ms/step - loss: 0.0851 - mae: 0.0851\n",
            "Epoch 193/200\n",
            "1/1 [==============================] - 0s 6ms/step - loss: 0.0819 - mae: 0.0819\n",
            "Epoch 194/200\n",
            "1/1 [==============================] - 0s 6ms/step - loss: 0.0926 - mae: 0.0926\n",
            "Epoch 195/200\n",
            "1/1 [==============================] - 0s 6ms/step - loss: 0.0868 - mae: 0.0868\n",
            "Epoch 196/200\n",
            "1/1 [==============================] - 0s 9ms/step - loss: 0.0950 - mae: 0.0950\n",
            "Epoch 197/200\n",
            "1/1 [==============================] - 0s 10ms/step - loss: 0.1004 - mae: 0.1004\n",
            "Epoch 198/200\n",
            "1/1 [==============================] - 0s 14ms/step - loss: 0.1687 - mae: 0.1687\n",
            "Epoch 199/200\n",
            "1/1 [==============================] - 0s 9ms/step - loss: 0.1297 - mae: 0.1297\n",
            "Epoch 200/200\n",
            "1/1 [==============================] - 0s 13ms/step - loss: 0.0660 - mae: 0.0660\n"
          ]
        },
        {
          "output_type": "execute_result",
          "data": {
            "text/plain": [
              "<keras.callbacks.History at 0x7f2b10e43350>"
            ]
          },
          "metadata": {},
          "execution_count": 17
        }
      ]
    },
    {
      "cell_type": "code",
      "source": [
        "# Lets predict\n",
        "\n",
        "model.predict([25.0])"
      ],
      "metadata": {
        "colab": {
          "base_uri": "https://localhost:8080/"
        },
        "id": "ylEPI1yUvYST",
        "outputId": "23e0fad6-98da-4cef-ea5f-bff34c6c3436"
      },
      "execution_count": 18,
      "outputs": [
        {
          "output_type": "execute_result",
          "data": {
            "text/plain": [
              "array([[37.61111]], dtype=float32)"
            ]
          },
          "metadata": {},
          "execution_count": 18
        }
      ]
    },
    {
      "cell_type": "markdown",
      "source": [
        "## Evaluating a Model\n",
        "\n",
        "In practice, a typical workflow you will go through when building a neural networks is:\n",
        "\n",
        "```\n",
        "Building a model -> fit it -> evaluate it -> tweak a model -> fit it -> evaluate it -> tweak a model -> fit it -> evaluate it... and so on\n",
        "```"
      ],
      "metadata": {
        "id": "fJhhWybBw8oP"
      }
    },
    {
      "cell_type": "markdown",
      "source": [
        "When it comes to evaluation... there are 3 words you should memorize:\n",
        "> \"Visualize, Visualize, Visualize\"\n",
        "\n",
        "It's good idea to visualize:\n",
        "* **The data** - What data are we working with? Whats does it look like?\n",
        "* **The model itself** - What dows our model look like?\n",
        "* **The training of a model** - How does a model perform while it learns?\n",
        "* **The predictions of the model** - How do the predictions of a model line up against the ground truth (the original labels)?"
      ],
      "metadata": {
        "id": "vA4tFTEiyVNs"
      }
    },
    {
      "cell_type": "code",
      "source": [
        "# Make a bigger dataset\n",
        "\n",
        "X = tf.range(-100,100,4)\n",
        "X"
      ],
      "metadata": {
        "colab": {
          "base_uri": "https://localhost:8080/"
        },
        "id": "HD21LKtbzd1L",
        "outputId": "d549ed62-2a43-429f-88e0-442293260487"
      },
      "execution_count": 19,
      "outputs": [
        {
          "output_type": "execute_result",
          "data": {
            "text/plain": [
              "<tf.Tensor: shape=(50,), dtype=int32, numpy=\n",
              "array([-100,  -96,  -92,  -88,  -84,  -80,  -76,  -72,  -68,  -64,  -60,\n",
              "        -56,  -52,  -48,  -44,  -40,  -36,  -32,  -28,  -24,  -20,  -16,\n",
              "        -12,   -8,   -4,    0,    4,    8,   12,   16,   20,   24,   28,\n",
              "         32,   36,   40,   44,   48,   52,   56,   60,   64,   68,   72,\n",
              "         76,   80,   84,   88,   92,   96], dtype=int32)>"
            ]
          },
          "metadata": {},
          "execution_count": 19
        }
      ]
    },
    {
      "cell_type": "code",
      "source": [
        "# Make labels for the dataset\n",
        "y = X + 10\n",
        "y"
      ],
      "metadata": {
        "colab": {
          "base_uri": "https://localhost:8080/"
        },
        "id": "PFmmu6MDzxXj",
        "outputId": "afb9697d-d929-4d2b-88cb-d99bf5ea2f64"
      },
      "execution_count": 20,
      "outputs": [
        {
          "output_type": "execute_result",
          "data": {
            "text/plain": [
              "<tf.Tensor: shape=(50,), dtype=int32, numpy=\n",
              "array([-90, -86, -82, -78, -74, -70, -66, -62, -58, -54, -50, -46, -42,\n",
              "       -38, -34, -30, -26, -22, -18, -14, -10,  -6,  -2,   2,   6,  10,\n",
              "        14,  18,  22,  26,  30,  34,  38,  42,  46,  50,  54,  58,  62,\n",
              "        66,  70,  74,  78,  82,  86,  90,  94,  98, 102, 106], dtype=int32)>"
            ]
          },
          "metadata": {},
          "execution_count": 20
        }
      ]
    },
    {
      "cell_type": "code",
      "source": [
        "# Visualize the data\n",
        "\n",
        "import matplotlib.pyplot as plt\n",
        "\n",
        "plt.scatter(X,y)\n"
      ],
      "metadata": {
        "colab": {
          "base_uri": "https://localhost:8080/",
          "height": 282
        },
        "id": "dCodl4AN0Dku",
        "outputId": "a335c9ad-26ab-4eda-c1d2-b017a8839581"
      },
      "execution_count": 21,
      "outputs": [
        {
          "output_type": "execute_result",
          "data": {
            "text/plain": [
              "<matplotlib.collections.PathCollection at 0x7f2b1264d090>"
            ]
          },
          "metadata": {},
          "execution_count": 21
        },
        {
          "output_type": "display_data",
          "data": {
            "text/plain": [
              "<Figure size 432x288 with 1 Axes>"
            ],
            "image/png": "[encoded data removed]"
          },
          "metadata": {
            "needs_background": "light"
          }
        }
      ]
    },
    {
      "cell_type": "markdown",
      "source": [
        "### The 3 sets...\n",
        "\n",
        "* **Training set** - The model learns from this data, which is typically 70-80% of the total data you have available.\n",
        "* **Validation Set** - The model gets tuned on this data, which is typically 10-15% of the data available.\n",
        "* **Test Set** -  The model gest evaluated on this data to test what is has learned, this set is typically 10-15% of the total data available.\n",
        "\n"
      ],
      "metadata": {
        "id": "laEa16cg9eRI"
      }
    },
    {
      "cell_type": "code",
      "source": [
        "# Check the length of how many samples we have\n",
        "len(X)"
      ],
      "metadata": {
        "colab": {
          "base_uri": "https://localhost:8080/"
        },
        "id": "KfDawuHUAO7q",
        "outputId": "30087db4-0bee-4326-e7ee-44dd3901cb16"
      },
      "execution_count": 22,
      "outputs": [
        {
          "output_type": "execute_result",
          "data": {
            "text/plain": [
              "50"
            ]
          },
          "metadata": {},
          "execution_count": 22
        }
      ]
    },
    {
      "cell_type": "code",
      "source": [
        "# Splot the data into train and test sets\n",
        "\n",
        "X_train = X[:40] # First 40 are training samples (80% of the data)\n",
        "y_train = y[:40]\n",
        "\n",
        "\n",
        "X_test = X[40:] # The last 10 are testing samples (20% of the data)\n",
        "y_test = y[40:]\n",
        "\n",
        "len(X_train), len(X_test), len(y_train), len(y_test)"
      ],
      "metadata": {
        "colab": {
          "base_uri": "https://localhost:8080/"
        },
        "id": "g9HRRKYjAgDd",
        "outputId": "d03a7054-0698-4c06-f867-a062f1c00ecb"
      },
      "execution_count": 23,
      "outputs": [
        {
          "output_type": "execute_result",
          "data": {
            "text/plain": [
              "(40, 10, 40, 10)"
            ]
          },
          "metadata": {},
          "execution_count": 23
        }
      ]
    },
    {
      "cell_type": "markdown",
      "source": [
        "### Visualizing the data\n",
        "Now we have got our data in training and test sets... lets visualize it again!"
      ],
      "metadata": {
        "id": "Vw8PH2s-D0xm"
      }
    },
    {
      "cell_type": "code",
      "source": [
        "plt.figure(figsize=(10,7))\n",
        "\n",
        "#Plot training data in blue\n",
        "plt.scatter(X_train, y_train, c=\"b\", label=\"Training data\")\n",
        "\n",
        "# Plot test data in green \n",
        "plt.scatter(X_test, y_test, c= \"g\", label=\"Testing data\")\n",
        "\n",
        "# Show legend\n",
        "plt.legend();"
      ],
      "metadata": {
        "colab": {
          "base_uri": "https://localhost:8080/",
          "height": 428
        },
        "id": "rSiyj_ocD2CA",
        "outputId": "e2f5781f-f1aa-47c1-d860-40e803f8607e"
      },
      "execution_count": 24,
      "outputs": [
        {
          "output_type": "display_data",
          "data": {
            "text/plain": [
              "<Figure size 720x504 with 1 Axes>"
            ],
            "image/png": "[encoded data removed]"
          },
          "metadata": {
            "needs_background": "light"
          }
        }
      ]
    },
    {
      "cell_type": "code",
      "source": [
        "# Lets have a look at how to build a neural network for our data\n",
        "\n",
        "# 1. Create a model\n",
        "model = tf.keras.Sequential([\n",
        "  tf.keras.layers.Dense(1)                             \n",
        "])\n",
        "\n",
        "# 2. Compile the model\n",
        "\n",
        "model.compile(loss=[\"mae\"],\n",
        "              optimizer=tf.keras.optimizers.SGD(),\n",
        "              metrics=[\"mae\"])\n",
        "\n",
        "# 3. Fit the model\n",
        "model.fit(tf.expand_dims(X_train, axis=-1),y_train, epochs=100)"
      ],
      "metadata": {
        "id": "FdF3ap1kFnIQ"
      },
      "execution_count": null,
      "outputs": []
    },
    {
      "cell_type": "markdown",
      "source": [
        "## Visualizing the model"
      ],
      "metadata": {
        "id": "F8OCdJjKHfNL"
      }
    },
    {
      "cell_type": "code",
      "source": [
        "model.summary()"
      ],
      "metadata": {
        "colab": {
          "base_uri": "https://localhost:8080/"
        },
        "id": "eRga_QJRHiH1",
        "outputId": "b1932214-4bb1-4bb8-b8f9-564414d3a590"
      },
      "execution_count": 26,
      "outputs": [
        {
          "output_type": "stream",
          "name": "stdout",
          "text": [
            "Model: \"sequential_3\"\n",
            "_________________________________________________________________\n",
            " Layer (type)                Output Shape              Param #   \n",
            "=================================================================\n",
            " dense_6 (Dense)             (None, 1)                 2         \n",
            "                                                                 \n",
            "=================================================================\n",
            "Total params: 2\n",
            "Trainable params: 2\n",
            "Non-trainable params: 0\n",
            "_________________________________________________________________\n"
          ]
        }
      ]
    },
    {
      "cell_type": "code",
      "source": [
        "# Lets create a model wich builds automatically by defining the input_shape argument in the first layer\n",
        "\n",
        "tf.random.set_seed(42)\n",
        "\n",
        "# 1. Create the model\n",
        "model = tf.keras.Sequential([\n",
        "  tf.keras.layers.Dense(10,input_shape=[1], name=\"input_layer\"),\n",
        "  tf.keras.layers.Dense(1, name=\"output_layer\")                             \n",
        "], name=\"Model_Name\")\n",
        "\n",
        "\n",
        "# 2. Compile the model\n",
        "\n",
        "model.compile(loss=\"mae\",\n",
        "              optimizer=tf.keras.optimizers.SGD(),\n",
        "              metrics=[\"mae\"])"
      ],
      "metadata": {
        "id": "JEP3QLrNH37K"
      },
      "execution_count": 27,
      "outputs": []
    },
    {
      "cell_type": "code",
      "source": [
        "model.summary()"
      ],
      "metadata": {
        "colab": {
          "base_uri": "https://localhost:8080/"
        },
        "id": "CO9zseMRJRMS",
        "outputId": "976f4764-8f9a-45e4-9c64-a8e14595f84a"
      },
      "execution_count": 28,
      "outputs": [
        {
          "output_type": "stream",
          "name": "stdout",
          "text": [
            "Model: \"Model_Name\"\n",
            "_________________________________________________________________\n",
            " Layer (type)                Output Shape              Param #   \n",
            "=================================================================\n",
            " input_layer (Dense)         (None, 10)                20        \n",
            "                                                                 \n",
            " output_layer (Dense)        (None, 1)                 11        \n",
            "                                                                 \n",
            "=================================================================\n",
            "Total params: 31\n",
            "Trainable params: 31\n",
            "Non-trainable params: 0\n",
            "_________________________________________________________________\n"
          ]
        }
      ]
    },
    {
      "cell_type": "markdown",
      "source": [
        "* **Total params** - Total number of parameters in the model.\n",
        "* **Trainablle paramters** - These are the parameters (patterns) the model can update as it trains.\n",
        "* **Non-Trainable params** _ These are the parameters are not updated during training (this is typical when you bring in alreadu learn patterns or paraemters from other models during **transfer learning**)\n",
        "\n",
        "**Resource:** For a more in-depth overview of the trainable paramters within a layer, check out MITs introduction to deep learning video."
      ],
      "metadata": {
        "id": "TtlR95iNJi7N"
      }
    },
    {
      "cell_type": "code",
      "source": [
        "# 3. Fit the model\n",
        "model.fit(tf.expand_dims(X_train, axis=-1),y_train, epochs=100, verbose=1) #verbose is to show or not the results"
      ],
      "metadata": {
        "id": "D10wFP0YO3nS"
      },
      "execution_count": null,
      "outputs": []
    },
    {
      "cell_type": "code",
      "source": [
        "#Visualizing the model\n",
        "\n",
        "from tensorflow.keras.utils import plot_model\n",
        "\n",
        "plot_model(model,show_shapes=True)"
      ],
      "metadata": {
        "colab": {
          "base_uri": "https://localhost:8080/",
          "height": 312
        },
        "id": "eI-Pi04mkZUj",
        "outputId": "db79a152-a590-438f-c9c5-4705708dfd53"
      },
      "execution_count": 30,
      "outputs": [
        {
          "output_type": "execute_result",
          "data": {
            "text/plain": [
              "<IPython.core.display.Image object>"
            ],
            "image/png": "[encoded data removed]"
          },
          "metadata": {},
          "execution_count": 30
        }
      ]
    },
    {
      "cell_type": "markdown",
      "source": [
        "## Visualizing Model's prediction\n",
        "\n",
        "To visualize preidctions, its a good idea to plot them against the ground truth labels. \n",
        "Often you will see this in the form of `y_test` or `y_true` versus `y_pred` (groundtruth versus model's predictions)"
      ],
      "metadata": {
        "id": "5cyOtNN2ofdX"
      }
    },
    {
      "cell_type": "code",
      "source": [
        "# Make some predictions\n",
        "\n",
        "y_pred = model.predict(X_test)\n",
        "y_pred"
      ],
      "metadata": {
        "colab": {
          "base_uri": "https://localhost:8080/"
        },
        "id": "ttAyh0lKpIrP",
        "outputId": "09fe28ca-819a-4277-f92b-0701a53f280f"
      },
      "execution_count": 31,
      "outputs": [
        {
          "output_type": "execute_result",
          "data": {
            "text/plain": [
              "array([[ 70.55218 ],\n",
              "       [ 75.13991 ],\n",
              "       [ 79.72763 ],\n",
              "       [ 84.31535 ],\n",
              "       [ 88.903076],\n",
              "       [ 93.49081 ],\n",
              "       [ 98.07853 ],\n",
              "       [102.66625 ],\n",
              "       [107.253975],\n",
              "       [111.8417  ]], dtype=float32)"
            ]
          },
          "metadata": {},
          "execution_count": 31
        }
      ]
    },
    {
      "cell_type": "code",
      "source": [
        "y_test, X_test"
      ],
      "metadata": {
        "colab": {
          "base_uri": "https://localhost:8080/"
        },
        "id": "X_sf9EDDpj7P",
        "outputId": "640178e8-b004-4a2f-9dcf-0b83094d2ca0"
      },
      "execution_count": 32,
      "outputs": [
        {
          "output_type": "execute_result",
          "data": {
            "text/plain": [
              "(<tf.Tensor: shape=(10,), dtype=int32, numpy=array([ 70,  74,  78,  82,  86,  90,  94,  98, 102, 106], dtype=int32)>,\n",
              " <tf.Tensor: shape=(10,), dtype=int32, numpy=array([60, 64, 68, 72, 76, 80, 84, 88, 92, 96], dtype=int32)>)"
            ]
          },
          "metadata": {},
          "execution_count": 32
        }
      ]
    },
    {
      "cell_type": "code",
      "source": [
        "#Lets create a plotting function\n",
        "\n",
        "def plot_predictions(train_data = X_train,\n",
        "                     train_labels = y_train,\n",
        "                     test_data = X_test,\n",
        "                     test_labels = y_test,\n",
        "                     predictions=y_pred):\n",
        "  \"\"\"\n",
        "  Plots training data, test data and compares predictions to ground truth lables.\n",
        "  \"\"\"\n",
        "  plt.figure(figsize=(10,7))\n",
        "\n",
        "  #Plot training data in blue\n",
        "  plt.scatter(train_data,train_labels,c=\"b\",label=\"Training data\")\n",
        "\n",
        "  #Plot testing data in green\n",
        "  plt.scatter(test_data, test_labels, c=\"g\", label=\"Testing data\")\n",
        "\n",
        "  #Plot model's predictions in red\n",
        "  plt.scatter(test_data, predictions, c=\"r\", label = \"Predictions\")\n",
        "\n",
        "  # Show the legend\n",
        "  plt.legend();\n",
        "\n"
      ],
      "metadata": {
        "id": "YCmDH9AoqSg1"
      },
      "execution_count": 33,
      "outputs": []
    },
    {
      "cell_type": "code",
      "source": [
        "plot_predictions()"
      ],
      "metadata": {
        "colab": {
          "base_uri": "https://localhost:8080/",
          "height": 428
        },
        "id": "EtGyNHKCscn7",
        "outputId": "374903c7-70da-4940-9169-dd73ce89a539"
      },
      "execution_count": 34,
      "outputs": [
        {
          "output_type": "display_data",
          "data": {
            "text/plain": [
              "<Figure size 720x504 with 1 Axes>"
            ],
            "image/png": "[encoded data removed]"
          },
          "metadata": {
            "needs_background": "light"
          }
        }
      ]
    },
    {
      "cell_type": "markdown",
      "source": [
        "### Evaluating our model's predictions with regression evaluation metrics\n",
        "\n",
        "Depending on the problem you're working on, there will be a different evaluation metrics to evaluate your model's performance.\n",
        "\n",
        "Since we are working on a regression, two of the main metrics:\n",
        "* **MAE** - Mean absolute error, \"on average, how wrong is each of my model's predictions\"\n",
        "* **MSE** - Mean square error, \"square the average errors\""
      ],
      "metadata": {
        "id": "LTVySgbptdk1"
      }
    },
    {
      "cell_type": "code",
      "source": [
        "# Evaluate the model on the test data\n",
        "model.evaluate(X_test, y_test)"
      ],
      "metadata": {
        "colab": {
          "base_uri": "https://localhost:8080/"
        },
        "id": "CDN9ubCovxmT",
        "outputId": "6224ad1b-8687-4d95-d550-6cf26b917fef"
      },
      "execution_count": 35,
      "outputs": [
        {
          "output_type": "stream",
          "name": "stdout",
          "text": [
            "1/1 [==============================] - 0s 328ms/step - loss: 3.1969 - mae: 3.1969\n"
          ]
        },
        {
          "output_type": "execute_result",
          "data": {
            "text/plain": [
              "[3.196942090988159, 3.196942090988159]"
            ]
          },
          "metadata": {},
          "execution_count": 35
        }
      ]
    },
    {
      "cell_type": "code",
      "source": [
        "# Calculate the mean absolute error\n",
        "\n",
        "mae = tf.metrics.mean_absolute_error(y_true=y_test,\n",
        "                                     y_pred=tf.constant(y_pred))\n",
        "mae"
      ],
      "metadata": {
        "colab": {
          "base_uri": "https://localhost:8080/"
        },
        "id": "95hZvNdMwEhR",
        "outputId": "49e4050e-784b-44e0-ed76-3e44a6fd0866"
      },
      "execution_count": 36,
      "outputs": [
        {
          "output_type": "execute_result",
          "data": {
            "text/plain": [
              "<tf.Tensor: shape=(10,), dtype=float32, numpy=\n",
              "array([17.558258 , 14.1160555, 11.708948 , 10.336929 , 10.       ,\n",
              "       10.698161 , 12.447118 , 15.333002 , 19.253975 , 23.841698 ],\n",
              "      dtype=float32)>"
            ]
          },
          "metadata": {},
          "execution_count": 36
        }
      ]
    },
    {
      "cell_type": "code",
      "source": [
        "# Calculate the mean absolute error\n",
        "\n",
        "mae = tf.metrics.mean_absolute_error(y_true=y_test,\n",
        "                                     y_pred=tf.squeeze(y_pred))\n",
        "\n",
        "mae"
      ],
      "metadata": {
        "colab": {
          "base_uri": "https://localhost:8080/"
        },
        "id": "mURDDKIsE_eN",
        "outputId": "41df1f63-99cf-480f-cf59-9901175ba2e5"
      },
      "execution_count": 37,
      "outputs": [
        {
          "output_type": "execute_result",
          "data": {
            "text/plain": [
              "<tf.Tensor: shape=(), dtype=float32, numpy=3.1969407>"
            ]
          },
          "metadata": {},
          "execution_count": 37
        }
      ]
    },
    {
      "cell_type": "code",
      "source": [
        "# Calculate the mean square error\n",
        "\n",
        "mse = tf.metrics.mean_squared_error(y_true=y_test,\n",
        "                                    y_pred=tf.squeeze(y_pred))\n",
        "\n",
        "mse"
      ],
      "metadata": {
        "colab": {
          "base_uri": "https://localhost:8080/"
        },
        "id": "TRks3EhdFhJQ",
        "outputId": "3f42425b-96bf-4812-b1bb-b442c5e1082b"
      },
      "execution_count": 38,
      "outputs": [
        {
          "output_type": "execute_result",
          "data": {
            "text/plain": [
              "<tf.Tensor: shape=(), dtype=float32, numpy=13.070143>"
            ]
          },
          "metadata": {},
          "execution_count": 38
        }
      ]
    },
    {
      "cell_type": "code",
      "source": [
        "# Make some functions to reuse MAE y MSE\n",
        "def mae(y_true,y_pred):\n",
        "  return tf.metrics.mean_absolute_error(y_true=y_true,\n",
        "                                       y_pred=tf.squeeze(y_pred))\n",
        "  \n",
        "def mse(y_true,y_pred):\n",
        "  return tf.metrics.mean_squared_error(y_true=y_true,\n",
        "                                       y_pred=tf.squeeze(y_pred))"
      ],
      "metadata": {
        "id": "jbaFKphzGsX3"
      },
      "execution_count": 39,
      "outputs": []
    },
    {
      "cell_type": "markdown",
      "source": [
        "### Running experiments to improve the model\n",
        "\n",
        "1. Get more data - get more exmaples for your model to train on (more opportunities to learn patterns or relationships between features and labels)\n",
        "2. Make your model larger (using amore complex model) - this might come in the form of more layers or more hidden units in each layer.\n",
        "3. Train for longer - give your model more of a chance to find patterns in the data.\n",
        "\n",
        "Let's do 3 experiments:\n",
        "\n",
        "1. `model_1` -  same as the original model, 1 layer, trained for 100 epochs.\n",
        "2. `model_2` - 2 layers, trained for 100 epochs\n",
        "3. `model_3` - 2 layers, trained for 500 epochs\n",
        "\n"
      ],
      "metadata": {
        "id": "pBTBPXkPHoFv"
      }
    },
    {
      "cell_type": "markdown",
      "source": [
        "**Build** `model_1`"
      ],
      "metadata": {
        "id": "uxJCsN4bJ_7v"
      }
    },
    {
      "cell_type": "code",
      "source": [
        "tf.random.set_seed(42)\n",
        "\n",
        "# 1. Create the model\n",
        "model_1 = tf.keras.Sequential([\n",
        "  tf.keras.layers.Dense(1)                      \n",
        "],name=\"model_1\")\n",
        "\n",
        "# 2. Compile the model\n",
        "model_1.compile(loss=[\"mae\"],\n",
        "                optimizer=tf.keras.optimizers.SGD(),\n",
        "                metrics=[\"mae\"])\n",
        "\n",
        "# 3. Fit the model\n",
        "\n",
        "model_1.fit(tf.expand_dims(X_train, axis=-1),y_train, epochs=100, verbose=0)"
      ],
      "metadata": {
        "colab": {
          "base_uri": "https://localhost:8080/"
        },
        "id": "mivo3_4wJB9H",
        "outputId": "a06edbb1-6e85-4611-a505-f2733145dc15"
      },
      "execution_count": 40,
      "outputs": [
        {
          "output_type": "execute_result",
          "data": {
            "text/plain": [
              "<keras.callbacks.History at 0x7f2b0f411710>"
            ]
          },
          "metadata": {},
          "execution_count": 40
        }
      ]
    },
    {
      "cell_type": "code",
      "source": [
        "# Make and plot predictions for model_1\n",
        "y_preds_1 = model_1.predict(X_test)\n",
        "plot_predictions(predictions=y_preds_1)"
      ],
      "metadata": {
        "colab": {
          "base_uri": "https://localhost:8080/",
          "height": 465
        },
        "id": "PIeog_3EYr0c",
        "outputId": "395a5e83-328e-4d25-bbcf-83f29809cc00"
      },
      "execution_count": 41,
      "outputs": [
        {
          "output_type": "stream",
          "name": "stdout",
          "text": [
            "WARNING:tensorflow:5 out of the last 5 calls to <function Model.make_predict_function.<locals>.predict_function at 0x7f2b122a73b0> triggered tf.function retracing. Tracing is expensive and the excessive number of tracings could be due to (1) creating @tf.function repeatedly in a loop, (2) passing tensors with different shapes, (3) passing Python objects instead of tensors. For (1), please define your @tf.function outside of the loop. For (2), @tf.function has experimental_relax_shapes=True option that relaxes argument shapes that can avoid unnecessary retracing. For (3), please refer to https://www.tensorflow.org/guide/function#controlling_retracing and https://www.tensorflow.org/api_docs/python/tf/function for  more details.\n"
          ]
        },
        {
          "output_type": "display_data",
          "data": {
            "text/plain": [
              "<Figure size 720x504 with 1 Axes>"
            ],
            "image/png": "[encoded data removed]"
          },
          "metadata": {
            "needs_background": "light"
          }
        }
      ]
    },
    {
      "cell_type": "code",
      "source": [
        "#Calculate model_1 evaluation metrics\n",
        "mae_1 = mae(y_test, y_preds_1)\n",
        "mse_1 = mse(y_test, y_preds_1)\n",
        "\n",
        "mae_1,mse_1"
      ],
      "metadata": {
        "colab": {
          "base_uri": "https://localhost:8080/"
        },
        "id": "R5bA7JyAZVr-",
        "outputId": "1a449b3b-fb1f-42e0-c672-09f9732bf025"
      },
      "execution_count": 42,
      "outputs": [
        {
          "output_type": "execute_result",
          "data": {
            "text/plain": [
              "(<tf.Tensor: shape=(), dtype=float32, numpy=18.745327>,\n",
              " <tf.Tensor: shape=(), dtype=float32, numpy=353.57336>)"
            ]
          },
          "metadata": {},
          "execution_count": 42
        }
      ]
    },
    {
      "cell_type": "markdown",
      "source": [
        "**Build** `model_2`\n",
        "\n",
        "* 2 dense layers, trained for 100 epochs"
      ],
      "metadata": {
        "id": "-dbRRV5_SZWv"
      }
    },
    {
      "cell_type": "code",
      "source": [
        "#Set the random\n",
        "tf.random.set_seed(42)\n",
        "\n",
        "# 1. Create the model\n",
        "model_2 = tf.keras.Sequential([\n",
        "  tf.keras.layers.Dense(10),\n",
        "  tf.keras.layers.Dense(1)                               \n",
        "])\n",
        "\n",
        "# 2. Compile the model\n",
        "model_2.compile(loss=[\"mae\"],\n",
        "                optimizer=tf.keras.optimizers.SGD(),\n",
        "                metrics=[\"mse\"])\n",
        "\n",
        "# 3. Fit the model\n",
        "\n",
        "model_2.fit(tf.expand_dims(X_train, axis=-1),y_train, epochs=100, verbose=1)"
      ],
      "metadata": {
        "id": "JxK9X9W1Spc0"
      },
      "execution_count": null,
      "outputs": []
    },
    {
      "cell_type": "code",
      "source": [
        "# Make and plot predictions of model_2\n",
        "y_preds_2 = model_2.predict(X_test)\n",
        "plot_predictions(predictions=y_preds_2)"
      ],
      "metadata": {
        "colab": {
          "base_uri": "https://localhost:8080/",
          "height": 465
        },
        "id": "eSGhTQWNUWtA",
        "outputId": "9d0abf08-3119-4883-dead-e0f45698c1e5"
      },
      "execution_count": 44,
      "outputs": [
        {
          "output_type": "stream",
          "name": "stdout",
          "text": [
            "WARNING:tensorflow:6 out of the last 6 calls to <function Model.make_predict_function.<locals>.predict_function at 0x7f2b948eb560> triggered tf.function retracing. Tracing is expensive and the excessive number of tracings could be due to (1) creating @tf.function repeatedly in a loop, (2) passing tensors with different shapes, (3) passing Python objects instead of tensors. For (1), please define your @tf.function outside of the loop. For (2), @tf.function has experimental_relax_shapes=True option that relaxes argument shapes that can avoid unnecessary retracing. For (3), please refer to https://www.tensorflow.org/guide/function#controlling_retracing and https://www.tensorflow.org/api_docs/python/tf/function for  more details.\n"
          ]
        },
        {
          "output_type": "display_data",
          "data": {
            "text/plain": [
              "<Figure size 720x504 with 1 Axes>"
            ],
            "image/png": "[encoded data removed]"
          },
          "metadata": {
            "needs_background": "light"
          }
        }
      ]
    },
    {
      "cell_type": "code",
      "source": [
        "# Calculate model_2 evaluation metrics\n",
        "\n",
        "mae_2 = mae(y_test, y_preds_2)\n",
        "mse_2 = mse(y_test,y_preds_2)\n",
        "\n",
        "mae_2,mse_2"
      ],
      "metadata": {
        "colab": {
          "base_uri": "https://localhost:8080/"
        },
        "id": "WyodDJwBU2ZW",
        "outputId": "5de27723-4560-4d5a-8acc-ef425a5d0960"
      },
      "execution_count": 45,
      "outputs": [
        {
          "output_type": "execute_result",
          "data": {
            "text/plain": [
              "(<tf.Tensor: shape=(), dtype=float32, numpy=3.1969407>,\n",
              " <tf.Tensor: shape=(), dtype=float32, numpy=13.070143>)"
            ]
          },
          "metadata": {},
          "execution_count": 45
        }
      ]
    },
    {
      "cell_type": "markdown",
      "source": [
        "**Build `model_3`**\n",
        "\n",
        "* 2 Layers, trained for 500 epochs"
      ],
      "metadata": {
        "id": "En1WD4AyWUOC"
      }
    },
    {
      "cell_type": "code",
      "source": [
        "# Set random seed\n",
        "tf.random.set_seed(42)\n",
        "\n",
        "\n",
        "# 1. Create a model\n",
        "model_3 = tf.keras.Sequential([\n",
        "  tf.keras.layers.Dense(10),\n",
        "  tf.keras.layers.Dense(1)                               \n",
        "])\n",
        "\n",
        "# 2. Compile the model\n",
        "\n",
        "model_3.compile(loss=[\"mae\"],\n",
        "                optimizer=tf.keras.optimizers.SGD(),\n",
        "                metrics=[\"mae\"])\n",
        "\n",
        "# 3. Fit the model\n",
        "\n",
        "model_3.fit(tf.expand_dims(X_train, axis=-1),y_train, epochs=500, verbose=1)\n"
      ],
      "metadata": {
        "id": "4FY-E5JMWdqj"
      },
      "execution_count": null,
      "outputs": []
    },
    {
      "cell_type": "code",
      "source": [
        "# Make and plot some predictions\n",
        "\n",
        "y_preds_3 = model_3.predict(X_test)\n",
        "plot_predictions(predictions=y_preds_3)"
      ],
      "metadata": {
        "colab": {
          "base_uri": "https://localhost:8080/",
          "height": 428
        },
        "id": "phmIdyCEYUsO",
        "outputId": "25b17eb7-2c1b-4f60-be72-370a04962de0"
      },
      "execution_count": 47,
      "outputs": [
        {
          "output_type": "display_data",
          "data": {
            "text/plain": [
              "<Figure size 720x504 with 1 Axes>"
            ],
            "image/png": "[encoded data removed]"
          },
          "metadata": {
            "needs_background": "light"
          }
        }
      ]
    },
    {
      "cell_type": "code",
      "source": [
        "# calculate model_3 evaluation metrics\n",
        "\n",
        "mae_3 = mae(y_test, y_preds_3)\n",
        "mse_3 = mse(y_test, y_preds_3)\n",
        "mae_3, mse_3"
      ],
      "metadata": {
        "colab": {
          "base_uri": "https://localhost:8080/"
        },
        "id": "Hih5PyQQY1FT",
        "outputId": "0fd18e0d-a1a5-41ee-a07b-09ebc21f5c92"
      },
      "execution_count": 48,
      "outputs": [
        {
          "output_type": "execute_result",
          "data": {
            "text/plain": [
              "(<tf.Tensor: shape=(), dtype=float32, numpy=68.713615>,\n",
              " <tf.Tensor: shape=(), dtype=float32, numpy=4808.0273>)"
            ]
          },
          "metadata": {},
          "execution_count": 48
        }
      ]
    },
    {
      "cell_type": "markdown",
      "source": [
        "## Comparing the results of our experiments\n",
        "\n",
        "We've run a few experiments, let's compare the results."
      ],
      "metadata": {
        "id": "M2xa74cOZYKC"
      }
    },
    {
      "cell_type": "code",
      "source": [
        "# Lets compare our model's results using a pandas Dataframe\n",
        "\n",
        "import pandas as pd\n",
        "\n",
        "model_results = [[\"model_1\",mae_1.numpy(), mse_1.numpy()],\n",
        "                 [\"model_2\",mae_2.numpy(), mse_2.numpy()],\n",
        "                 [\"model_3\", mae_3.numpy(),mse_3.numpy()]]\n",
        "\n",
        "all_results = pd.DataFrame(model_results, columns=[\"model\",\"mae\",\"mse\"])\n",
        "all_results"
      ],
      "metadata": {
        "colab": {
          "base_uri": "https://localhost:8080/",
          "height": 142
        },
        "id": "b89vBdElaLZH",
        "outputId": "38e09c16-95fb-4f63-b0c1-c7db902276a1"
      },
      "execution_count": 49,
      "outputs": [
        {
          "output_type": "execute_result",
          "data": {
            "text/plain": [
              "     model        mae          mse\n",
              "0  model_1  18.745327   353.573364\n",
              "1  model_2   3.196941    13.070143\n",
              "2  model_3  68.713615  4808.027344"
            ],
            "text/html": [
              "\n",
              "  <div id=\"df-320edee2-5d92-4d00-b805-6445b19efe1f\">\n",
              "    <div class=\"colab-df-container\">\n",
              "      <div>\n",
              "<style scoped>\n",
              "    .dataframe tbody tr th:only-of-type {\n",
              "        vertical-align: middle;\n",
              "    }\n",
              "\n",
              "    .dataframe tbody tr th {\n",
              "        vertical-align: top;\n",
              "    }\n",
              "\n",
              "    .dataframe thead th {\n",
              "        text-align: right;\n",
              "    }\n",
              "</style>\n",
              "<table border=\"1\" class=\"dataframe\">\n",
              "  <thead>\n",
              "    <tr style=\"text-align: right;\">\n",
              "      <th></th>\n",
              "      <th>model</th>\n",
              "      <th>mae</th>\n",
              "      <th>mse</th>\n",
              "    </tr>\n",
              "  </thead>\n",
              "  <tbody>\n",
              "    <tr>\n",
              "      <th>0</th>\n",
              "      <td>model_1</td>\n",
              "      <td>18.745327</td>\n",
              "      <td>353.573364</td>\n",
              "    </tr>\n",
              "    <tr>\n",
              "      <th>1</th>\n",
              "      <td>model_2</td>\n",
              "      <td>3.196941</td>\n",
              "      <td>13.070143</td>\n",
              "    </tr>\n",
              "    <tr>\n",
              "      <th>2</th>\n",
              "      <td>model_3</td>\n",
              "      <td>68.713615</td>\n",
              "      <td>4808.027344</td>\n",
              "    </tr>\n",
              "  </tbody>\n",
              "</table>\n",
              "</div>\n",
              "      <button class=\"colab-df-convert\" onclick=\"convertToInteractive('df-320edee2-5d92-4d00-b805-6445b19efe1f')\"\n",
              "              title=\"Convert this dataframe to an interactive table.\"\n",
              "              style=\"display:none;\">\n",
              "        \n",
              "  <svg xmlns=\"http://www.w3.org/2000/svg\" height=\"24px\"viewBox=\"0 0 24 24\"\n",
              "       width=\"24px\">\n",
              "    <path d=\"M0 0h24v24H0V0z\" fill=\"none\"/>\n",
              "    <path d=\"M18.56 5.44l.94 2.06.94-2.06 2.06-.94-2.06-.94-.94-2.06-.94 2.06-2.06.94zm-11 1L8.5 8.5l.94-2.06 2.06-.94-2.06-.94L8.5 2.5l-.94 2.06-2.06.94zm10 10l.94 2.06.94-2.06 2.06-.94-2.06-.94-.94-2.06-.94 2.06-2.06.94z\"/><path d=\"M17.41 7.96l-1.37-1.37c-.4-.4-.92-.59-1.43-.59-.52 0-1.04.2-1.43.59L10.3 9.45l-7.72 7.72c-.78.78-.78 2.05 0 2.83L4 21.41c.39.39.9.59 1.41.59.51 0 1.02-.2 1.41-.59l7.78-7.78 2.81-2.81c.8-.78.8-2.07 0-2.86zM5.41 20L4 18.59l7.72-7.72 1.47 1.35L5.41 20z\"/>\n",
              "  </svg>\n",
              "      </button>\n",
              "      \n",
              "  <style>\n",
              "    .colab-df-container {\n",
              "      display:flex;\n",
              "      flex-wrap:wrap;\n",
              "      gap: 12px;\n",
              "    }\n",
              "\n",
              "    .colab-df-convert {\n",
              "      background-color: #E8F0FE;\n",
              "      border: none;\n",
              "      border-radius: 50%;\n",
              "      cursor: pointer;\n",
              "      display: none;\n",
              "      fill: #1967D2;\n",
              "      height: 32px;\n",
              "      padding: 0 0 0 0;\n",
              "      width: 32px;\n",
              "    }\n",
              "\n",
              "    .colab-df-convert:hover {\n",
              "      background-color: #E2EBFA;\n",
              "      box-shadow: 0px 1px 2px rgba(60, 64, 67, 0.3), 0px 1px 3px 1px rgba(60, 64, 67, 0.15);\n",
              "      fill: #174EA6;\n",
              "    }\n",
              "\n",
              "    [theme=dark] .colab-df-convert {\n",
              "      background-color: #3B4455;\n",
              "      fill: #D2E3FC;\n",
              "    }\n",
              "\n",
              "    [theme=dark] .colab-df-convert:hover {\n",
              "      background-color: #434B5C;\n",
              "      box-shadow: 0px 1px 3px 1px rgba(0, 0, 0, 0.15);\n",
              "      filter: drop-shadow(0px 1px 2px rgba(0, 0, 0, 0.3));\n",
              "      fill: #FFFFFF;\n",
              "    }\n",
              "  </style>\n",
              "\n",
              "      <script>\n",
              "        const buttonEl =\n",
              "          document.querySelector('#df-320edee2-5d92-4d00-b805-6445b19efe1f button.colab-df-convert');\n",
              "        buttonEl.style.display =\n",
              "          google.colab.kernel.accessAllowed ? 'block' : 'none';\n",
              "\n",
              "        async function convertToInteractive(key) {\n",
              "          const element = document.querySelector('#df-320edee2-5d92-4d00-b805-6445b19efe1f');\n",
              "          const dataTable =\n",
              "            await google.colab.kernel.invokeFunction('convertToInteractive',\n",
              "                                                     [key], {});\n",
              "          if (!dataTable) return;\n",
              "\n",
              "          const docLinkHtml = 'Like what you see? Visit the ' +\n",
              "            '<a target=\"_blank\" href=https://colab.research.google.com/notebooks/data_table.ipynb>data table notebook</a>'\n",
              "            + ' to learn more about interactive tables.';\n",
              "          element.innerHTML = '';\n",
              "          dataTable['output_type'] = 'display_data';\n",
              "          await google.colab.output.renderOutput(dataTable, element);\n",
              "          const docLink = document.createElement('div');\n",
              "          docLink.innerHTML = docLinkHtml;\n",
              "          element.appendChild(docLink);\n",
              "        }\n",
              "      </script>\n",
              "    </div>\n",
              "  </div>\n",
              "  "
            ]
          },
          "metadata": {},
          "execution_count": 49
        }
      ]
    },
    {
      "cell_type": "markdown",
      "source": [
        "Looks like `model_2` performed the best...."
      ],
      "metadata": {
        "id": "EI3XDxzGcOsl"
      }
    },
    {
      "cell_type": "code",
      "source": [
        "model_2.summary()"
      ],
      "metadata": {
        "colab": {
          "base_uri": "https://localhost:8080/"
        },
        "id": "EiOmRQTycTut",
        "outputId": "0514e353-f6c6-4137-fcd0-189d88095db6"
      },
      "execution_count": 50,
      "outputs": [
        {
          "output_type": "stream",
          "name": "stdout",
          "text": [
            "Model: \"sequential_4\"\n",
            "_________________________________________________________________\n",
            " Layer (type)                Output Shape              Param #   \n",
            "=================================================================\n",
            " dense_8 (Dense)             (None, 10)                20        \n",
            "                                                                 \n",
            " dense_9 (Dense)             (None, 1)                 11        \n",
            "                                                                 \n",
            "=================================================================\n",
            "Total params: 31\n",
            "Trainable params: 31\n",
            "Non-trainable params: 0\n",
            "_________________________________________________________________\n"
          ]
        }
      ]
    },
    {
      "cell_type": "markdown",
      "source": [
        "> **Note:** One of your main goals should be to minimize the time between your experiments. The more expermients you do, the more things you will figure out wich out dont work and in turn, get close to figuring out what does work. Remember the machine learning praticioner's motto: \"experiment, experiment, experiment\""
      ],
      "metadata": {
        "id": "pOk0lU9JcYug"
      }
    },
    {
      "cell_type": "markdown",
      "source": [
        "## Tracking your experiments\n",
        "\n",
        "One really good habit in machine learning modelling is to track the results of your experiments.\n",
        "\n",
        "And when doing so, it can be tedious if you are running a lots of expermients.\n",
        "\n",
        "Luckily, there are tools to help us!\n",
        "\n",
        "**Resource:** As you build more models, you will want to look into using:\n",
        "\n",
        "* Tensorboard -ma component of the Tensorflow library to hel track modelling experiments.\n",
        "* Weights & Biases - a tool for tracking all of kinds of machine learning experiments (plus straight into TensorBoard)"
      ],
      "metadata": {
        "id": "lshI9U0ndYsD"
      }
    },
    {
      "cell_type": "markdown",
      "source": [
        "## Saving our models\n",
        "\n",
        "There 2 fmain formats we can seva our models:\n",
        "* **The SavedModel** format\n",
        "* **The HDF5** format"
      ],
      "metadata": {
        "id": "gfWkNBxMfmBR"
      }
    },
    {
      "cell_type": "code",
      "source": [
        "# Save model using the SavedModel format\n",
        "\n",
        "model_2.save(\"model_SavedModel_format\")"
      ],
      "metadata": {
        "colab": {
          "base_uri": "https://localhost:8080/"
        },
        "id": "PrJlJMjogRSD",
        "outputId": "0ef14ab9-341e-4d57-c5cd-8ff30f337d15"
      },
      "execution_count": 51,
      "outputs": [
        {
          "output_type": "stream",
          "name": "stdout",
          "text": [
            "INFO:tensorflow:Assets written to: model_SavedModel_format/assets\n"
          ]
        }
      ]
    },
    {
      "cell_type": "code",
      "source": [
        "# Save model using HDF5 format\n",
        "\n",
        "model_2.save(\"model_2.h5\")"
      ],
      "metadata": {
        "id": "pOXJ56odhUH4"
      },
      "execution_count": 52,
      "outputs": []
    },
    {
      "cell_type": "markdown",
      "source": [
        "## Loading in a saved model"
      ],
      "metadata": {
        "id": "V_9b4Zx94RWG"
      }
    },
    {
      "cell_type": "code",
      "source": [
        "# Load in the SavedModel format model\n",
        "\n",
        "loaded_SavedModel_format = tf.keras.models.load_model(\"model_SavedModel_format\")\n",
        "loaded_SavedModel_format.summary()"
      ],
      "metadata": {
        "colab": {
          "base_uri": "https://localhost:8080/"
        },
        "id": "66lOyrbC4U1h",
        "outputId": "920a2c13-df45-470e-cf16-1b34feb8b702"
      },
      "execution_count": 53,
      "outputs": [
        {
          "output_type": "stream",
          "name": "stdout",
          "text": [
            "Model: \"sequential_4\"\n",
            "_________________________________________________________________\n",
            " Layer (type)                Output Shape              Param #   \n",
            "=================================================================\n",
            " dense_8 (Dense)             (None, 10)                20        \n",
            "                                                                 \n",
            " dense_9 (Dense)             (None, 1)                 11        \n",
            "                                                                 \n",
            "=================================================================\n",
            "Total params: 31\n",
            "Trainable params: 31\n",
            "Non-trainable params: 0\n",
            "_________________________________________________________________\n"
          ]
        }
      ]
    },
    {
      "cell_type": "code",
      "source": [
        "#Compare model_2 predictions versus loaded model\n",
        "\n",
        "model_2_preds = model_2.predict(X_test)\n",
        "loaded_SavedModel_format_preds = loaded_SavedModel_format.predict(X_test)\n",
        "\n",
        "model_2_preds == loaded_SavedModel_format_preds"
      ],
      "metadata": {
        "colab": {
          "base_uri": "https://localhost:8080/"
        },
        "id": "oVovQ2O25jI8",
        "outputId": "e7911b2e-0b4e-43f7-b8b6-23ff631b6c9a"
      },
      "execution_count": 54,
      "outputs": [
        {
          "output_type": "execute_result",
          "data": {
            "text/plain": [
              "array([[ True],\n",
              "       [ True],\n",
              "       [ True],\n",
              "       [ True],\n",
              "       [ True],\n",
              "       [ True],\n",
              "       [ True],\n",
              "       [ True],\n",
              "       [ True],\n",
              "       [ True]])"
            ]
          },
          "metadata": {},
          "execution_count": 54
        }
      ]
    },
    {
      "cell_type": "code",
      "source": [
        "# Load in a model using the .h5 format\n",
        "loaded_h5_model = tf.keras.models.load_model(\"model_2.h5\")\n",
        "loaded_h5_model.summary()"
      ],
      "metadata": {
        "colab": {
          "base_uri": "https://localhost:8080/"
        },
        "id": "3sK28uxo9g2e",
        "outputId": "d1c7e8b1-7db0-4988-f5f4-4b80da2429e7"
      },
      "execution_count": 55,
      "outputs": [
        {
          "output_type": "stream",
          "name": "stdout",
          "text": [
            "Model: \"sequential_4\"\n",
            "_________________________________________________________________\n",
            " Layer (type)                Output Shape              Param #   \n",
            "=================================================================\n",
            " dense_8 (Dense)             (None, 10)                20        \n",
            "                                                                 \n",
            " dense_9 (Dense)             (None, 1)                 11        \n",
            "                                                                 \n",
            "=================================================================\n",
            "Total params: 31\n",
            "Trainable params: 31\n",
            "Non-trainable params: 0\n",
            "_________________________________________________________________\n"
          ]
        }
      ]
    },
    {
      "cell_type": "code",
      "source": [
        "model_2_preds = model_2.predict(X_test)\n",
        "loaded_h5_model_preds = loaded_h5_model.predict(X_test)\n",
        "\n",
        "model_2_preds == loaded_h5_model_preds"
      ],
      "metadata": {
        "colab": {
          "base_uri": "https://localhost:8080/"
        },
        "id": "kwQTY3lG-OSm",
        "outputId": "0e8eb2e0-959f-4337-ef39-709610d8c97d"
      },
      "execution_count": 56,
      "outputs": [
        {
          "output_type": "execute_result",
          "data": {
            "text/plain": [
              "array([[ True],\n",
              "       [ True],\n",
              "       [ True],\n",
              "       [ True],\n",
              "       [ True],\n",
              "       [ True],\n",
              "       [ True],\n",
              "       [ True],\n",
              "       [ True],\n",
              "       [ True]])"
            ]
          },
          "metadata": {},
          "execution_count": 56
        }
      ]
    },
    {
      "cell_type": "markdown",
      "source": [
        "## Download a model from Google Colab"
      ],
      "metadata": {
        "id": "_NDvF1nuC4Z0"
      }
    },
    {
      "cell_type": "code",
      "source": [
        "#Download a file\n",
        "\n",
        "from google.colab import files\n",
        "\n",
        "files.download(\"/content/model_2.h5\")"
      ],
      "metadata": {
        "colab": {
          "base_uri": "https://localhost:8080/",
          "height": 34
        },
        "id": "eDTrPyQ5C8ze",
        "outputId": "6f74c4b3-22b6-439c-94ac-585f319f2fc0"
      },
      "execution_count": 57,
      "outputs": [
        {
          "output_type": "display_data",
          "data": {
            "text/plain": [
              "<IPython.core.display.Javascript object>"
            ],
            "application/javascript": [
              "\n",
              "    async function download(id, filename, size) {\n",
              "      if (!google.colab.kernel.accessAllowed) {\n",
              "        return;\n",
              "      }\n",
              "      const div = document.createElement('div');\n",
              "      const label = document.createElement('label');\n",
              "      label.textContent = `Downloading \"${filename}\": `;\n",
              "      div.appendChild(label);\n",
              "      const progress = document.createElement('progress');\n",
              "      progress.max = size;\n",
              "      div.appendChild(progress);\n",
              "      document.body.appendChild(div);\n",
              "\n",
              "      const buffers = [];\n",
              "      let downloaded = 0;\n",
              "\n",
              "      const channel = await google.colab.kernel.comms.open(id);\n",
              "      // Send a message to notify the kernel that we're ready.\n",
              "      channel.send({})\n",
              "\n",
              "      for await (const message of channel.messages) {\n",
              "        // Send a message to notify the kernel that we're ready.\n",
              "        channel.send({})\n",
              "        if (message.buffers) {\n",
              "          for (const buffer of message.buffers) {\n",
              "            buffers.push(buffer);\n",
              "            downloaded += buffer.byteLength;\n",
              "            progress.value = downloaded;\n",
              "          }\n",
              "        }\n",
              "      }\n",
              "      const blob = new Blob(buffers, {type: 'application/binary'});\n",
              "      const a = document.createElement('a');\n",
              "      a.href = window.URL.createObjectURL(blob);\n",
              "      a.download = filename;\n",
              "      div.appendChild(a);\n",
              "      a.click();\n",
              "      div.remove();\n",
              "    }\n",
              "  "
            ]
          },
          "metadata": {}
        },
        {
          "output_type": "display_data",
          "data": {
            "text/plain": [
              "<IPython.core.display.Javascript object>"
            ],
            "application/javascript": [
              "download(\"download_5aad5ad1-3d53-439f-96c9-6eb8cfd3ad21\", \"model_2.h5\", 17872)"
            ]
          },
          "metadata": {}
        }
      ]
    },
    {
      "cell_type": "code",
      "source": [
        "# Download file to google drive\n",
        "!cp \"/content/model_2.h5\" \"/content/drive/MyDrive\""
      ],
      "metadata": {
        "id": "qCNXVJhkEEZj"
      },
      "execution_count": 58,
      "outputs": []
    },
    {
      "cell_type": "code",
      "source": [
        "!ls \"/content/drive/MyDrive\""
      ],
      "metadata": {
        "id": "Le0vLXb6EXqX"
      },
      "execution_count": null,
      "outputs": []
    },
    {
      "cell_type": "markdown",
      "source": [
        "## A larger example"
      ],
      "metadata": {
        "id": "9MnxYVf_kvi9"
      }
    },
    {
      "cell_type": "code",
      "source": [
        "# Import libraries\n",
        "\n",
        "import tensorflow as tf\n",
        "import pandas as pd\n",
        "import matplotlib.pyplot as plt\n"
      ],
      "metadata": {
        "id": "JmLW0yxBk7sa"
      },
      "execution_count": null,
      "outputs": []
    },
    {
      "cell_type": "code",
      "source": [
        "# Reada dataset\n",
        "\n",
        "insurance = pd.read_csv(\"https://raw.githubusercontent.com/stedy/Machine-Learning-with-R-datasets/master/insurance.csv\")\n",
        "insurance"
      ],
      "metadata": {
        "colab": {
          "base_uri": "https://localhost:8080/",
          "height": 419
        },
        "id": "bPv185e9mBgc",
        "outputId": "f485dc4d-71bd-4424-9c25-63eb8f83f4a7"
      },
      "execution_count": 60,
      "outputs": [
        {
          "output_type": "execute_result",
          "data": {
            "text/plain": [
              "      age     sex     bmi  children smoker     region      charges\n",
              "0      19  female  27.900         0    yes  southwest  16884.92400\n",
              "1      18    male  33.770         1     no  southeast   1725.55230\n",
              "2      28    male  33.000         3     no  southeast   4449.46200\n",
              "3      33    male  22.705         0     no  northwest  21984.47061\n",
              "4      32    male  28.880         0     no  northwest   3866.85520\n",
              "...   ...     ...     ...       ...    ...        ...          ...\n",
              "1333   50    male  30.970         3     no  northwest  10600.54830\n",
              "1334   18  female  31.920         0     no  northeast   2205.98080\n",
              "1335   18  female  36.850         0     no  southeast   1629.83350\n",
              "1336   21  female  25.800         0     no  southwest   2007.94500\n",
              "1337   61  female  29.070         0    yes  northwest  29141.36030\n",
              "\n",
              "[1338 rows x 7 columns]"
            ],
            "text/html": [
              "\n",
              "  <div id=\"df-45d32adb-466c-49f3-af08-f70c67f7a06b\">\n",
              "    <div class=\"colab-df-container\">\n",
              "      <div>\n",
              "<style scoped>\n",
              "    .dataframe tbody tr th:only-of-type {\n",
              "        vertical-align: middle;\n",
              "    }\n",
              "\n",
              "    .dataframe tbody tr th {\n",
              "        vertical-align: top;\n",
              "    }\n",
              "\n",
              "    .dataframe thead th {\n",
              "        text-align: right;\n",
              "    }\n",
              "</style>\n",
              "<table border=\"1\" class=\"dataframe\">\n",
              "  <thead>\n",
              "    <tr style=\"text-align: right;\">\n",
              "      <th></th>\n",
              "      <th>age</th>\n",
              "      <th>sex</th>\n",
              "      <th>bmi</th>\n",
              "      <th>children</th>\n",
              "      <th>smoker</th>\n",
              "      <th>region</th>\n",
              "      <th>charges</th>\n",
              "    </tr>\n",
              "  </thead>\n",
              "  <tbody>\n",
              "    <tr>\n",
              "      <th>0</th>\n",
              "      <td>19</td>\n",
              "      <td>female</td>\n",
              "      <td>27.900</td>\n",
              "      <td>0</td>\n",
              "      <td>yes</td>\n",
              "      <td>southwest</td>\n",
              "      <td>16884.92400</td>\n",
              "    </tr>\n",
              "    <tr>\n",
              "      <th>1</th>\n",
              "      <td>18</td>\n",
              "      <td>male</td>\n",
              "      <td>33.770</td>\n",
              "      <td>1</td>\n",
              "      <td>no</td>\n",
              "      <td>southeast</td>\n",
              "      <td>1725.55230</td>\n",
              "    </tr>\n",
              "    <tr>\n",
              "      <th>2</th>\n",
              "      <td>28</td>\n",
              "      <td>male</td>\n",
              "      <td>33.000</td>\n",
              "      <td>3</td>\n",
              "      <td>no</td>\n",
              "      <td>southeast</td>\n",
              "      <td>4449.46200</td>\n",
              "    </tr>\n",
              "    <tr>\n",
              "      <th>3</th>\n",
              "      <td>33</td>\n",
              "      <td>male</td>\n",
              "      <td>22.705</td>\n",
              "      <td>0</td>\n",
              "      <td>no</td>\n",
              "      <td>northwest</td>\n",
              "      <td>21984.47061</td>\n",
              "    </tr>\n",
              "    <tr>\n",
              "      <th>4</th>\n",
              "      <td>32</td>\n",
              "      <td>male</td>\n",
              "      <td>28.880</td>\n",
              "      <td>0</td>\n",
              "      <td>no</td>\n",
              "      <td>northwest</td>\n",
              "      <td>3866.85520</td>\n",
              "    </tr>\n",
              "    <tr>\n",
              "      <th>...</th>\n",
              "      <td>...</td>\n",
              "      <td>...</td>\n",
              "      <td>...</td>\n",
              "      <td>...</td>\n",
              "      <td>...</td>\n",
              "      <td>...</td>\n",
              "      <td>...</td>\n",
              "    </tr>\n",
              "    <tr>\n",
              "      <th>1333</th>\n",
              "      <td>50</td>\n",
              "      <td>male</td>\n",
              "      <td>30.970</td>\n",
              "      <td>3</td>\n",
              "      <td>no</td>\n",
              "      <td>northwest</td>\n",
              "      <td>10600.54830</td>\n",
              "    </tr>\n",
              "    <tr>\n",
              "      <th>1334</th>\n",
              "      <td>18</td>\n",
              "      <td>female</td>\n",
              "      <td>31.920</td>\n",
              "      <td>0</td>\n",
              "      <td>no</td>\n",
              "      <td>northeast</td>\n",
              "      <td>2205.98080</td>\n",
              "    </tr>\n",
              "    <tr>\n",
              "      <th>1335</th>\n",
              "      <td>18</td>\n",
              "      <td>female</td>\n",
              "      <td>36.850</td>\n",
              "      <td>0</td>\n",
              "      <td>no</td>\n",
              "      <td>southeast</td>\n",
              "      <td>1629.83350</td>\n",
              "    </tr>\n",
              "    <tr>\n",
              "      <th>1336</th>\n",
              "      <td>21</td>\n",
              "      <td>female</td>\n",
              "      <td>25.800</td>\n",
              "      <td>0</td>\n",
              "      <td>no</td>\n",
              "      <td>southwest</td>\n",
              "      <td>2007.94500</td>\n",
              "    </tr>\n",
              "    <tr>\n",
              "      <th>1337</th>\n",
              "      <td>61</td>\n",
              "      <td>female</td>\n",
              "      <td>29.070</td>\n",
              "      <td>0</td>\n",
              "      <td>yes</td>\n",
              "      <td>northwest</td>\n",
              "      <td>29141.36030</td>\n",
              "    </tr>\n",
              "  </tbody>\n",
              "</table>\n",
              "<p>1338 rows × 7 columns</p>\n",
              "</div>\n",
              "      <button class=\"colab-df-convert\" onclick=\"convertToInteractive('df-45d32adb-466c-49f3-af08-f70c67f7a06b')\"\n",
              "              title=\"Convert this dataframe to an interactive table.\"\n",
              "              style=\"display:none;\">\n",
              "        \n",
              "  <svg xmlns=\"http://www.w3.org/2000/svg\" height=\"24px\"viewBox=\"0 0 24 24\"\n",
              "       width=\"24px\">\n",
              "    <path d=\"M0 0h24v24H0V0z\" fill=\"none\"/>\n",
              "    <path d=\"M18.56 5.44l.94 2.06.94-2.06 2.06-.94-2.06-.94-.94-2.06-.94 2.06-2.06.94zm-11 1L8.5 8.5l.94-2.06 2.06-.94-2.06-.94L8.5 2.5l-.94 2.06-2.06.94zm10 10l.94 2.06.94-2.06 2.06-.94-2.06-.94-.94-2.06-.94 2.06-2.06.94z\"/><path d=\"M17.41 7.96l-1.37-1.37c-.4-.4-.92-.59-1.43-.59-.52 0-1.04.2-1.43.59L10.3 9.45l-7.72 7.72c-.78.78-.78 2.05 0 2.83L4 21.41c.39.39.9.59 1.41.59.51 0 1.02-.2 1.41-.59l7.78-7.78 2.81-2.81c.8-.78.8-2.07 0-2.86zM5.41 20L4 18.59l7.72-7.72 1.47 1.35L5.41 20z\"/>\n",
              "  </svg>\n",
              "      </button>\n",
              "      \n",
              "  <style>\n",
              "    .colab-df-container {\n",
              "      display:flex;\n",
              "      flex-wrap:wrap;\n",
              "      gap: 12px;\n",
              "    }\n",
              "\n",
              "    .colab-df-convert {\n",
              "      background-color: #E8F0FE;\n",
              "      border: none;\n",
              "      border-radius: 50%;\n",
              "      cursor: pointer;\n",
              "      display: none;\n",
              "      fill: #1967D2;\n",
              "      height: 32px;\n",
              "      padding: 0 0 0 0;\n",
              "      width: 32px;\n",
              "    }\n",
              "\n",
              "    .colab-df-convert:hover {\n",
              "      background-color: #E2EBFA;\n",
              "      box-shadow: 0px 1px 2px rgba(60, 64, 67, 0.3), 0px 1px 3px 1px rgba(60, 64, 67, 0.15);\n",
              "      fill: #174EA6;\n",
              "    }\n",
              "\n",
              "    [theme=dark] .colab-df-convert {\n",
              "      background-color: #3B4455;\n",
              "      fill: #D2E3FC;\n",
              "    }\n",
              "\n",
              "    [theme=dark] .colab-df-convert:hover {\n",
              "      background-color: #434B5C;\n",
              "      box-shadow: 0px 1px 3px 1px rgba(0, 0, 0, 0.15);\n",
              "      filter: drop-shadow(0px 1px 2px rgba(0, 0, 0, 0.3));\n",
              "      fill: #FFFFFF;\n",
              "    }\n",
              "  </style>\n",
              "\n",
              "      <script>\n",
              "        const buttonEl =\n",
              "          document.querySelector('#df-45d32adb-466c-49f3-af08-f70c67f7a06b button.colab-df-convert');\n",
              "        buttonEl.style.display =\n",
              "          google.colab.kernel.accessAllowed ? 'block' : 'none';\n",
              "\n",
              "        async function convertToInteractive(key) {\n",
              "          const element = document.querySelector('#df-45d32adb-466c-49f3-af08-f70c67f7a06b');\n",
              "          const dataTable =\n",
              "            await google.colab.kernel.invokeFunction('convertToInteractive',\n",
              "                                                     [key], {});\n",
              "          if (!dataTable) return;\n",
              "\n",
              "          const docLinkHtml = 'Like what you see? Visit the ' +\n",
              "            '<a target=\"_blank\" href=https://colab.research.google.com/notebooks/data_table.ipynb>data table notebook</a>'\n",
              "            + ' to learn more about interactive tables.';\n",
              "          element.innerHTML = '';\n",
              "          dataTable['output_type'] = 'display_data';\n",
              "          await google.colab.output.renderOutput(dataTable, element);\n",
              "          const docLink = document.createElement('div');\n",
              "          docLink.innerHTML = docLinkHtml;\n",
              "          element.appendChild(docLink);\n",
              "        }\n",
              "      </script>\n",
              "    </div>\n",
              "  </div>\n",
              "  "
            ]
          },
          "metadata": {},
          "execution_count": 60
        }
      ]
    },
    {
      "cell_type": "code",
      "source": [
        "# One hot encode the dataframe to have all columns in number format\n",
        "insurance_one_hot = pd.get_dummies(insurance)\n",
        "insurance_one_hot.head()"
      ],
      "metadata": {
        "colab": {
          "base_uri": "https://localhost:8080/",
          "height": 204
        },
        "id": "GdxcNN81mqw9",
        "outputId": "a81ccc0a-a9dc-4517-ccb3-acbed19390ee"
      },
      "execution_count": 62,
      "outputs": [
        {
          "output_type": "execute_result",
          "data": {
            "text/plain": [
              "   age     bmi  children      charges  sex_female  sex_male  smoker_no  \\\n",
              "0   19  27.900         0  16884.92400           1         0          0   \n",
              "1   18  33.770         1   1725.55230           0         1          1   \n",
              "2   28  33.000         3   4449.46200           0         1          1   \n",
              "3   33  22.705         0  21984.47061           0         1          1   \n",
              "4   32  28.880         0   3866.85520           0         1          1   \n",
              "\n",
              "   smoker_yes  region_northeast  region_northwest  region_southeast  \\\n",
              "0           1                 0                 0                 0   \n",
              "1           0                 0                 0                 1   \n",
              "2           0                 0                 0                 1   \n",
              "3           0                 0                 1                 0   \n",
              "4           0                 0                 1                 0   \n",
              "\n",
              "   region_southwest  \n",
              "0                 1  \n",
              "1                 0  \n",
              "2                 0  \n",
              "3                 0  \n",
              "4                 0  "
            ],
            "text/html": [
              "\n",
              "  <div id=\"df-1bb26c7d-46b4-4d93-ad2f-5024e1bebf42\">\n",
              "    <div class=\"colab-df-container\">\n",
              "      <div>\n",
              "<style scoped>\n",
              "    .dataframe tbody tr th:only-of-type {\n",
              "        vertical-align: middle;\n",
              "    }\n",
              "\n",
              "    .dataframe tbody tr th {\n",
              "        vertical-align: top;\n",
              "    }\n",
              "\n",
              "    .dataframe thead th {\n",
              "        text-align: right;\n",
              "    }\n",
              "</style>\n",
              "<table border=\"1\" class=\"dataframe\">\n",
              "  <thead>\n",
              "    <tr style=\"text-align: right;\">\n",
              "      <th></th>\n",
              "      <th>age</th>\n",
              "      <th>bmi</th>\n",
              "      <th>children</th>\n",
              "      <th>charges</th>\n",
              "      <th>sex_female</th>\n",
              "      <th>sex_male</th>\n",
              "      <th>smoker_no</th>\n",
              "      <th>smoker_yes</th>\n",
              "      <th>region_northeast</th>\n",
              "      <th>region_northwest</th>\n",
              "      <th>region_southeast</th>\n",
              "      <th>region_southwest</th>\n",
              "    </tr>\n",
              "  </thead>\n",
              "  <tbody>\n",
              "    <tr>\n",
              "      <th>0</th>\n",
              "      <td>19</td>\n",
              "      <td>27.900</td>\n",
              "      <td>0</td>\n",
              "      <td>16884.92400</td>\n",
              "      <td>1</td>\n",
              "      <td>0</td>\n",
              "      <td>0</td>\n",
              "      <td>1</td>\n",
              "      <td>0</td>\n",
              "      <td>0</td>\n",
              "      <td>0</td>\n",
              "      <td>1</td>\n",
              "    </tr>\n",
              "    <tr>\n",
              "      <th>1</th>\n",
              "      <td>18</td>\n",
              "      <td>33.770</td>\n",
              "      <td>1</td>\n",
              "      <td>1725.55230</td>\n",
              "      <td>0</td>\n",
              "      <td>1</td>\n",
              "      <td>1</td>\n",
              "      <td>0</td>\n",
              "      <td>0</td>\n",
              "      <td>0</td>\n",
              "      <td>1</td>\n",
              "      <td>0</td>\n",
              "    </tr>\n",
              "    <tr>\n",
              "      <th>2</th>\n",
              "      <td>28</td>\n",
              "      <td>33.000</td>\n",
              "      <td>3</td>\n",
              "      <td>4449.46200</td>\n",
              "      <td>0</td>\n",
              "      <td>1</td>\n",
              "      <td>1</td>\n",
              "      <td>0</td>\n",
              "      <td>0</td>\n",
              "      <td>0</td>\n",
              "      <td>1</td>\n",
              "      <td>0</td>\n",
              "    </tr>\n",
              "    <tr>\n",
              "      <th>3</th>\n",
              "      <td>33</td>\n",
              "      <td>22.705</td>\n",
              "      <td>0</td>\n",
              "      <td>21984.47061</td>\n",
              "      <td>0</td>\n",
              "      <td>1</td>\n",
              "      <td>1</td>\n",
              "      <td>0</td>\n",
              "      <td>0</td>\n",
              "      <td>1</td>\n",
              "      <td>0</td>\n",
              "      <td>0</td>\n",
              "    </tr>\n",
              "    <tr>\n",
              "      <th>4</th>\n",
              "      <td>32</td>\n",
              "      <td>28.880</td>\n",
              "      <td>0</td>\n",
              "      <td>3866.85520</td>\n",
              "      <td>0</td>\n",
              "      <td>1</td>\n",
              "      <td>1</td>\n",
              "      <td>0</td>\n",
              "      <td>0</td>\n",
              "      <td>1</td>\n",
              "      <td>0</td>\n",
              "      <td>0</td>\n",
              "    </tr>\n",
              "  </tbody>\n",
              "</table>\n",
              "</div>\n",
              "      <button class=\"colab-df-convert\" onclick=\"convertToInteractive('df-1bb26c7d-46b4-4d93-ad2f-5024e1bebf42')\"\n",
              "              title=\"Convert this dataframe to an interactive table.\"\n",
              "              style=\"display:none;\">\n",
              "        \n",
              "  <svg xmlns=\"http://www.w3.org/2000/svg\" height=\"24px\"viewBox=\"0 0 24 24\"\n",
              "       width=\"24px\">\n",
              "    <path d=\"M0 0h24v24H0V0z\" fill=\"none\"/>\n",
              "    <path d=\"M18.56 5.44l.94 2.06.94-2.06 2.06-.94-2.06-.94-.94-2.06-.94 2.06-2.06.94zm-11 1L8.5 8.5l.94-2.06 2.06-.94-2.06-.94L8.5 2.5l-.94 2.06-2.06.94zm10 10l.94 2.06.94-2.06 2.06-.94-2.06-.94-.94-2.06-.94 2.06-2.06.94z\"/><path d=\"M17.41 7.96l-1.37-1.37c-.4-.4-.92-.59-1.43-.59-.52 0-1.04.2-1.43.59L10.3 9.45l-7.72 7.72c-.78.78-.78 2.05 0 2.83L4 21.41c.39.39.9.59 1.41.59.51 0 1.02-.2 1.41-.59l7.78-7.78 2.81-2.81c.8-.78.8-2.07 0-2.86zM5.41 20L4 18.59l7.72-7.72 1.47 1.35L5.41 20z\"/>\n",
              "  </svg>\n",
              "      </button>\n",
              "      \n",
              "  <style>\n",
              "    .colab-df-container {\n",
              "      display:flex;\n",
              "      flex-wrap:wrap;\n",
              "      gap: 12px;\n",
              "    }\n",
              "\n",
              "    .colab-df-convert {\n",
              "      background-color: #E8F0FE;\n",
              "      border: none;\n",
              "      border-radius: 50%;\n",
              "      cursor: pointer;\n",
              "      display: none;\n",
              "      fill: #1967D2;\n",
              "      height: 32px;\n",
              "      padding: 0 0 0 0;\n",
              "      width: 32px;\n",
              "    }\n",
              "\n",
              "    .colab-df-convert:hover {\n",
              "      background-color: #E2EBFA;\n",
              "      box-shadow: 0px 1px 2px rgba(60, 64, 67, 0.3), 0px 1px 3px 1px rgba(60, 64, 67, 0.15);\n",
              "      fill: #174EA6;\n",
              "    }\n",
              "\n",
              "    [theme=dark] .colab-df-convert {\n",
              "      background-color: #3B4455;\n",
              "      fill: #D2E3FC;\n",
              "    }\n",
              "\n",
              "    [theme=dark] .colab-df-convert:hover {\n",
              "      background-color: #434B5C;\n",
              "      box-shadow: 0px 1px 3px 1px rgba(0, 0, 0, 0.15);\n",
              "      filter: drop-shadow(0px 1px 2px rgba(0, 0, 0, 0.3));\n",
              "      fill: #FFFFFF;\n",
              "    }\n",
              "  </style>\n",
              "\n",
              "      <script>\n",
              "        const buttonEl =\n",
              "          document.querySelector('#df-1bb26c7d-46b4-4d93-ad2f-5024e1bebf42 button.colab-df-convert');\n",
              "        buttonEl.style.display =\n",
              "          google.colab.kernel.accessAllowed ? 'block' : 'none';\n",
              "\n",
              "        async function convertToInteractive(key) {\n",
              "          const element = document.querySelector('#df-1bb26c7d-46b4-4d93-ad2f-5024e1bebf42');\n",
              "          const dataTable =\n",
              "            await google.colab.kernel.invokeFunction('convertToInteractive',\n",
              "                                                     [key], {});\n",
              "          if (!dataTable) return;\n",
              "\n",
              "          const docLinkHtml = 'Like what you see? Visit the ' +\n",
              "            '<a target=\"_blank\" href=https://colab.research.google.com/notebooks/data_table.ipynb>data table notebook</a>'\n",
              "            + ' to learn more about interactive tables.';\n",
              "          element.innerHTML = '';\n",
              "          dataTable['output_type'] = 'display_data';\n",
              "          await google.colab.output.renderOutput(dataTable, element);\n",
              "          const docLink = document.createElement('div');\n",
              "          docLink.innerHTML = docLinkHtml;\n",
              "          element.appendChild(docLink);\n",
              "        }\n",
              "      </script>\n",
              "    </div>\n",
              "  </div>\n",
              "  "
            ]
          },
          "metadata": {},
          "execution_count": 62
        }
      ]
    },
    {
      "cell_type": "code",
      "source": [
        "# Create X, y values (features and labels)\n",
        "\n",
        "X = insurance_one_hot.drop(\"charges\", axis=1)\n",
        "y = insurance_one_hot[\"charges\"]"
      ],
      "metadata": {
        "id": "KjKaAbrhpKH4"
      },
      "execution_count": 63,
      "outputs": []
    },
    {
      "cell_type": "code",
      "source": [
        "#View X\n",
        "X.head()"
      ],
      "metadata": {
        "colab": {
          "base_uri": "https://localhost:8080/",
          "height": 204
        },
        "id": "9-WYLtNppnaL",
        "outputId": "7331efbf-dd58-45c9-ca3a-bdb4b4f3cd76"
      },
      "execution_count": 64,
      "outputs": [
        {
          "output_type": "execute_result",
          "data": {
            "text/plain": [
              "   age     bmi  children  sex_female  sex_male  smoker_no  smoker_yes  \\\n",
              "0   19  27.900         0           1         0          0           1   \n",
              "1   18  33.770         1           0         1          1           0   \n",
              "2   28  33.000         3           0         1          1           0   \n",
              "3   33  22.705         0           0         1          1           0   \n",
              "4   32  28.880         0           0         1          1           0   \n",
              "\n",
              "   region_northeast  region_northwest  region_southeast  region_southwest  \n",
              "0                 0                 0                 0                 1  \n",
              "1                 0                 0                 1                 0  \n",
              "2                 0                 0                 1                 0  \n",
              "3                 0                 1                 0                 0  \n",
              "4                 0                 1                 0                 0  "
            ],
            "text/html": [
              "\n",
              "  <div id=\"df-89fdb9d1-b6c5-4419-a09d-919ab2124745\">\n",
              "    <div class=\"colab-df-container\">\n",
              "      <div>\n",
              "<style scoped>\n",
              "    .dataframe tbody tr th:only-of-type {\n",
              "        vertical-align: middle;\n",
              "    }\n",
              "\n",
              "    .dataframe tbody tr th {\n",
              "        vertical-align: top;\n",
              "    }\n",
              "\n",
              "    .dataframe thead th {\n",
              "        text-align: right;\n",
              "    }\n",
              "</style>\n",
              "<table border=\"1\" class=\"dataframe\">\n",
              "  <thead>\n",
              "    <tr style=\"text-align: right;\">\n",
              "      <th></th>\n",
              "      <th>age</th>\n",
              "      <th>bmi</th>\n",
              "      <th>children</th>\n",
              "      <th>sex_female</th>\n",
              "      <th>sex_male</th>\n",
              "      <th>smoker_no</th>\n",
              "      <th>smoker_yes</th>\n",
              "      <th>region_northeast</th>\n",
              "      <th>region_northwest</th>\n",
              "      <th>region_southeast</th>\n",
              "      <th>region_southwest</th>\n",
              "    </tr>\n",
              "  </thead>\n",
              "  <tbody>\n",
              "    <tr>\n",
              "      <th>0</th>\n",
              "      <td>19</td>\n",
              "      <td>27.900</td>\n",
              "      <td>0</td>\n",
              "      <td>1</td>\n",
              "      <td>0</td>\n",
              "      <td>0</td>\n",
              "      <td>1</td>\n",
              "      <td>0</td>\n",
              "      <td>0</td>\n",
              "      <td>0</td>\n",
              "      <td>1</td>\n",
              "    </tr>\n",
              "    <tr>\n",
              "      <th>1</th>\n",
              "      <td>18</td>\n",
              "      <td>33.770</td>\n",
              "      <td>1</td>\n",
              "      <td>0</td>\n",
              "      <td>1</td>\n",
              "      <td>1</td>\n",
              "      <td>0</td>\n",
              "      <td>0</td>\n",
              "      <td>0</td>\n",
              "      <td>1</td>\n",
              "      <td>0</td>\n",
              "    </tr>\n",
              "    <tr>\n",
              "      <th>2</th>\n",
              "      <td>28</td>\n",
              "      <td>33.000</td>\n",
              "      <td>3</td>\n",
              "      <td>0</td>\n",
              "      <td>1</td>\n",
              "      <td>1</td>\n",
              "      <td>0</td>\n",
              "      <td>0</td>\n",
              "      <td>0</td>\n",
              "      <td>1</td>\n",
              "      <td>0</td>\n",
              "    </tr>\n",
              "    <tr>\n",
              "      <th>3</th>\n",
              "      <td>33</td>\n",
              "      <td>22.705</td>\n",
              "      <td>0</td>\n",
              "      <td>0</td>\n",
              "      <td>1</td>\n",
              "      <td>1</td>\n",
              "      <td>0</td>\n",
              "      <td>0</td>\n",
              "      <td>1</td>\n",
              "      <td>0</td>\n",
              "      <td>0</td>\n",
              "    </tr>\n",
              "    <tr>\n",
              "      <th>4</th>\n",
              "      <td>32</td>\n",
              "      <td>28.880</td>\n",
              "      <td>0</td>\n",
              "      <td>0</td>\n",
              "      <td>1</td>\n",
              "      <td>1</td>\n",
              "      <td>0</td>\n",
              "      <td>0</td>\n",
              "      <td>1</td>\n",
              "      <td>0</td>\n",
              "      <td>0</td>\n",
              "    </tr>\n",
              "  </tbody>\n",
              "</table>\n",
              "</div>\n",
              "      <button class=\"colab-df-convert\" onclick=\"convertToInteractive('df-89fdb9d1-b6c5-4419-a09d-919ab2124745')\"\n",
              "              title=\"Convert this dataframe to an interactive table.\"\n",
              "              style=\"display:none;\">\n",
              "        \n",
              "  <svg xmlns=\"http://www.w3.org/2000/svg\" height=\"24px\"viewBox=\"0 0 24 24\"\n",
              "       width=\"24px\">\n",
              "    <path d=\"M0 0h24v24H0V0z\" fill=\"none\"/>\n",
              "    <path d=\"M18.56 5.44l.94 2.06.94-2.06 2.06-.94-2.06-.94-.94-2.06-.94 2.06-2.06.94zm-11 1L8.5 8.5l.94-2.06 2.06-.94-2.06-.94L8.5 2.5l-.94 2.06-2.06.94zm10 10l.94 2.06.94-2.06 2.06-.94-2.06-.94-.94-2.06-.94 2.06-2.06.94z\"/><path d=\"M17.41 7.96l-1.37-1.37c-.4-.4-.92-.59-1.43-.59-.52 0-1.04.2-1.43.59L10.3 9.45l-7.72 7.72c-.78.78-.78 2.05 0 2.83L4 21.41c.39.39.9.59 1.41.59.51 0 1.02-.2 1.41-.59l7.78-7.78 2.81-2.81c.8-.78.8-2.07 0-2.86zM5.41 20L4 18.59l7.72-7.72 1.47 1.35L5.41 20z\"/>\n",
              "  </svg>\n",
              "      </button>\n",
              "      \n",
              "  <style>\n",
              "    .colab-df-container {\n",
              "      display:flex;\n",
              "      flex-wrap:wrap;\n",
              "      gap: 12px;\n",
              "    }\n",
              "\n",
              "    .colab-df-convert {\n",
              "      background-color: #E8F0FE;\n",
              "      border: none;\n",
              "      border-radius: 50%;\n",
              "      cursor: pointer;\n",
              "      display: none;\n",
              "      fill: #1967D2;\n",
              "      height: 32px;\n",
              "      padding: 0 0 0 0;\n",
              "      width: 32px;\n",
              "    }\n",
              "\n",
              "    .colab-df-convert:hover {\n",
              "      background-color: #E2EBFA;\n",
              "      box-shadow: 0px 1px 2px rgba(60, 64, 67, 0.3), 0px 1px 3px 1px rgba(60, 64, 67, 0.15);\n",
              "      fill: #174EA6;\n",
              "    }\n",
              "\n",
              "    [theme=dark] .colab-df-convert {\n",
              "      background-color: #3B4455;\n",
              "      fill: #D2E3FC;\n",
              "    }\n",
              "\n",
              "    [theme=dark] .colab-df-convert:hover {\n",
              "      background-color: #434B5C;\n",
              "      box-shadow: 0px 1px 3px 1px rgba(0, 0, 0, 0.15);\n",
              "      filter: drop-shadow(0px 1px 2px rgba(0, 0, 0, 0.3));\n",
              "      fill: #FFFFFF;\n",
              "    }\n",
              "  </style>\n",
              "\n",
              "      <script>\n",
              "        const buttonEl =\n",
              "          document.querySelector('#df-89fdb9d1-b6c5-4419-a09d-919ab2124745 button.colab-df-convert');\n",
              "        buttonEl.style.display =\n",
              "          google.colab.kernel.accessAllowed ? 'block' : 'none';\n",
              "\n",
              "        async function convertToInteractive(key) {\n",
              "          const element = document.querySelector('#df-89fdb9d1-b6c5-4419-a09d-919ab2124745');\n",
              "          const dataTable =\n",
              "            await google.colab.kernel.invokeFunction('convertToInteractive',\n",
              "                                                     [key], {});\n",
              "          if (!dataTable) return;\n",
              "\n",
              "          const docLinkHtml = 'Like what you see? Visit the ' +\n",
              "            '<a target=\"_blank\" href=https://colab.research.google.com/notebooks/data_table.ipynb>data table notebook</a>'\n",
              "            + ' to learn more about interactive tables.';\n",
              "          element.innerHTML = '';\n",
              "          dataTable['output_type'] = 'display_data';\n",
              "          await google.colab.output.renderOutput(dataTable, element);\n",
              "          const docLink = document.createElement('div');\n",
              "          docLink.innerHTML = docLinkHtml;\n",
              "          element.appendChild(docLink);\n",
              "        }\n",
              "      </script>\n",
              "    </div>\n",
              "  </div>\n",
              "  "
            ]
          },
          "metadata": {},
          "execution_count": 64
        }
      ]
    },
    {
      "cell_type": "code",
      "source": [
        "# View y\n",
        "y.head()"
      ],
      "metadata": {
        "colab": {
          "base_uri": "https://localhost:8080/"
        },
        "id": "r2KzWZyzpw12",
        "outputId": "63e51471-bd03-48f5-b244-bf8ada707d6b"
      },
      "execution_count": 65,
      "outputs": [
        {
          "output_type": "execute_result",
          "data": {
            "text/plain": [
              "0    16884.92400\n",
              "1     1725.55230\n",
              "2     4449.46200\n",
              "3    21984.47061\n",
              "4     3866.85520\n",
              "Name: charges, dtype: float64"
            ]
          },
          "metadata": {},
          "execution_count": 65
        }
      ]
    },
    {
      "cell_type": "code",
      "source": [
        "# Create training and test sets\n",
        "\n",
        "from sklearn.model_selection import train_test_split\n",
        "X_train, X_test, y_train, y_test = train_test_split(X,y, test_size=0.2, random_state=42)\n",
        "len(X),len(X_train),len(X_test)"
      ],
      "metadata": {
        "colab": {
          "base_uri": "https://localhost:8080/"
        },
        "id": "kfE7Oc3Eqjsj",
        "outputId": "3117bc6c-b59b-49d4-d7d9-006f49751129"
      },
      "execution_count": 66,
      "outputs": [
        {
          "output_type": "execute_result",
          "data": {
            "text/plain": [
              "(1338, 1070, 268)"
            ]
          },
          "metadata": {},
          "execution_count": 66
        }
      ]
    },
    {
      "cell_type": "code",
      "source": [
        "# Build a neural network\n",
        "\n",
        "tf.random.set_seed(42)\n",
        "\n",
        "# 1. Create a model\n",
        "insurance_model = tf.keras.Sequential([\n",
        "  tf.keras.layers.Dense(10),\n",
        "  tf.keras.layers.Dense(1)                                       \n",
        "])\n",
        "\n",
        "# 2. Compile model\n",
        "insurance_model.compile(loss=[\"mae\"],\n",
        "                        optimizer=tf.keras.optimizers.SGD(),\n",
        "                        metrics=[\"mae\"])\n",
        "\n",
        "# 3. Fit the model\n",
        "insurance_model.fit(X_train, y_train, epochs=100)\n"
      ],
      "metadata": {
        "id": "Q9QRBlNcrX8l"
      },
      "execution_count": null,
      "outputs": []
    },
    {
      "cell_type": "code",
      "source": [
        "# Check the results of model on the test data\n",
        "insurance_model.evaluate(X_test,y_test) #7023.3291 representa lo distanciado que esta del valor real"
      ],
      "metadata": {
        "colab": {
          "base_uri": "https://localhost:8080/"
        },
        "id": "oUryib1NtXtp",
        "outputId": "f8b91d6a-0a5a-4c8c-ecde-65c90030ee65"
      },
      "execution_count": 70,
      "outputs": [
        {
          "output_type": "stream",
          "name": "stdout",
          "text": [
            "9/9 [==============================] - 0s 3ms/step - loss: 7023.3291 - mae: 7023.3291\n"
          ]
        },
        {
          "output_type": "execute_result",
          "data": {
            "text/plain": [
              "[7023.3291015625, 7023.3291015625]"
            ]
          },
          "metadata": {},
          "execution_count": 70
        }
      ]
    },
    {
      "cell_type": "code",
      "source": [
        "y_train.median(), y_train.mean()"
      ],
      "metadata": {
        "colab": {
          "base_uri": "https://localhost:8080/"
        },
        "id": "Ov9jCaQ9t-ed",
        "outputId": "812d921c-f860-4340-f4b9-e3b7021c61fc"
      },
      "execution_count": 71,
      "outputs": [
        {
          "output_type": "execute_result",
          "data": {
            "text/plain": [
              "(9575.4421, 13346.089736364489)"
            ]
          },
          "metadata": {},
          "execution_count": 71
        }
      ]
    },
    {
      "cell_type": "markdown",
      "source": [
        "## Right now it looks like our model isnt performing too well... let's try a nd improve it\n",
        "\n",
        "To try improve our model, we will run 2 experiments:\n",
        "1. Add an extra layer with more hidden units and use ADAM optimizer\n",
        "2. Train for longer\n",
        "3. (insert your own experiment here)"
      ],
      "metadata": {
        "id": "CWFHP8VCvGV1"
      }
    },
    {
      "cell_type": "code",
      "source": [
        "# Set random seed\n",
        "tf.random.set_seed(42)\n",
        "\n",
        "# 1. Create the model\n",
        "\n",
        "insurance_model_2 = tf.keras.Sequential([\n",
        "  tf.keras.layers.Dense(100),\n",
        "  tf.keras.layers.Dense(10),\n",
        "  tf.keras.layers.Dense(1)                                         \n",
        "])\n",
        "\n",
        "\n",
        "# 2.Compile the model\n",
        "insurance_model_2.compile(loss=[\"mae\"],\n",
        "                          optimizer=tf.keras.optimizers.Adam(),\n",
        "                          metrics=[\"mae\"])\n",
        "\n",
        "# 3. Fit the model\n",
        "\n",
        "insurance_model_2.fit(X_train, y_train, epochs=100, verbose=1)\n"
      ],
      "metadata": {
        "id": "JVMsKg5zvSJN"
      },
      "execution_count": null,
      "outputs": []
    },
    {
      "cell_type": "code",
      "source": [
        "# Evaluate the larger model\n",
        "\n",
        "insurance_model_2.evaluate(X_test, y_test)"
      ],
      "metadata": {
        "colab": {
          "base_uri": "https://localhost:8080/"
        },
        "id": "2IeZQqdzxv68",
        "outputId": "5882be71-e889-4e48-82c2-c28081afa9d7"
      },
      "execution_count": 85,
      "outputs": [
        {
          "output_type": "stream",
          "name": "stdout",
          "text": [
            "9/9 [==============================] - 0s 3ms/step - loss: 4924.3477 - mae: 4924.3477\n"
          ]
        },
        {
          "output_type": "execute_result",
          "data": {
            "text/plain": [
              "[4924.34765625, 4924.34765625]"
            ]
          },
          "metadata": {},
          "execution_count": 85
        }
      ]
    },
    {
      "cell_type": "code",
      "source": [
        "# Set random seed\n",
        "tf.random.set_seed(42)\n",
        "\n",
        "\n",
        "# 1 Create the model\n",
        "insurance_model_3 = tf.keras.Sequential([\n",
        "  tf.keras.layers.Dense(100),\n",
        "  tf.keras.layers.Dense(10),\n",
        "  tf.keras.layers.Dense(1)                                         \n",
        "])\n",
        "\n",
        "\n",
        "#2. Compile the model\n",
        "insurance_model_3.compile(loss=[\"mae\"],\n",
        "                          optimizer=tf.keras.optimizers.Adam(),\n",
        "                          metrics=[\"mae\"])\n",
        "\n",
        "\n",
        "# 3. Fit the model\n",
        "history = insurance_model_3.fit(X_train, y_train, epochs=200)\n"
      ],
      "metadata": {
        "id": "wH2jvyGh1Zok"
      },
      "execution_count": null,
      "outputs": []
    },
    {
      "cell_type": "code",
      "source": [
        "# Evaluate out 3rd Model\n",
        "\n",
        "insurance_model_3.evaluate(X_test,y_test)"
      ],
      "metadata": {
        "colab": {
          "base_uri": "https://localhost:8080/"
        },
        "id": "sL-9MIdg2z4X",
        "outputId": "0f572042-9229-483b-ef20-a7cbdecfefac"
      },
      "execution_count": 87,
      "outputs": [
        {
          "output_type": "stream",
          "name": "stdout",
          "text": [
            "9/9 [==============================] - 0s 3ms/step - loss: 3491.2961 - mae: 3491.2961\n"
          ]
        },
        {
          "output_type": "execute_result",
          "data": {
            "text/plain": [
              "[3491.296142578125, 3491.296142578125]"
            ]
          },
          "metadata": {},
          "execution_count": 87
        }
      ]
    },
    {
      "cell_type": "code",
      "source": [
        "# Plot history (also known as a loss curve or a training curve)\n",
        "\n",
        "pd.DataFrame(history.history).plot()\n",
        "plt.ylabel(\"loss\")\n",
        "plt.xlabel(\"epochs\")\n",
        "\n"
      ],
      "metadata": {
        "colab": {
          "base_uri": "https://localhost:8080/",
          "height": 296
        },
        "id": "l_lCNIde3S0x",
        "outputId": "fd2ce885-9793-4e39-9377-4bf65415c669"
      },
      "execution_count": 90,
      "outputs": [
        {
          "output_type": "execute_result",
          "data": {
            "text/plain": [
              "Text(0.5, 0, 'epochs')"
            ]
          },
          "metadata": {},
          "execution_count": 90
        },
        {
          "output_type": "display_data",
          "data": {
            "text/plain": [
              "<Figure size 432x288 with 1 Axes>"
            ],
            "image/png": "[encoded data removed]"
          },
          "metadata": {
            "needs_background": "light"
          }
        }
      ]
    },
    {
      "cell_type": "markdown",
      "source": [
        "## Preprocessing data (normalization and standarization)\n",
        "\n",
        "\n",
        "In terms of scalling values, neural networks tend to prefer normalization.\n",
        "\n",
        "If you are not sure on wich to use, you could try both and see wich performs better."
      ],
      "metadata": {
        "id": "A3fSRIaYM5Qc"
      }
    },
    {
      "cell_type": "code",
      "source": [
        "X.head()"
      ],
      "metadata": {
        "colab": {
          "base_uri": "https://localhost:8080/",
          "height": 204
        },
        "id": "TQN-kJroM-86",
        "outputId": "9d144bc5-7d8e-43ed-c0db-7d176dd02d0d"
      },
      "execution_count": 91,
      "outputs": [
        {
          "output_type": "execute_result",
          "data": {
            "text/plain": [
              "   age     bmi  children  sex_female  sex_male  smoker_no  smoker_yes  \\\n",
              "0   19  27.900         0           1         0          0           1   \n",
              "1   18  33.770         1           0         1          1           0   \n",
              "2   28  33.000         3           0         1          1           0   \n",
              "3   33  22.705         0           0         1          1           0   \n",
              "4   32  28.880         0           0         1          1           0   \n",
              "\n",
              "   region_northeast  region_northwest  region_southeast  region_southwest  \n",
              "0                 0                 0                 0                 1  \n",
              "1                 0                 0                 1                 0  \n",
              "2                 0                 0                 1                 0  \n",
              "3                 0                 1                 0                 0  \n",
              "4                 0                 1                 0                 0  "
            ],
            "text/html": [
              "\n",
              "  <div id=\"df-d54eef25-b9eb-4aed-9509-9fb8932d828b\">\n",
              "    <div class=\"colab-df-container\">\n",
              "      <div>\n",
              "<style scoped>\n",
              "    .dataframe tbody tr th:only-of-type {\n",
              "        vertical-align: middle;\n",
              "    }\n",
              "\n",
              "    .dataframe tbody tr th {\n",
              "        vertical-align: top;\n",
              "    }\n",
              "\n",
              "    .dataframe thead th {\n",
              "        text-align: right;\n",
              "    }\n",
              "</style>\n",
              "<table border=\"1\" class=\"dataframe\">\n",
              "  <thead>\n",
              "    <tr style=\"text-align: right;\">\n",
              "      <th></th>\n",
              "      <th>age</th>\n",
              "      <th>bmi</th>\n",
              "      <th>children</th>\n",
              "      <th>sex_female</th>\n",
              "      <th>sex_male</th>\n",
              "      <th>smoker_no</th>\n",
              "      <th>smoker_yes</th>\n",
              "      <th>region_northeast</th>\n",
              "      <th>region_northwest</th>\n",
              "      <th>region_southeast</th>\n",
              "      <th>region_southwest</th>\n",
              "    </tr>\n",
              "  </thead>\n",
              "  <tbody>\n",
              "    <tr>\n",
              "      <th>0</th>\n",
              "      <td>19</td>\n",
              "      <td>27.900</td>\n",
              "      <td>0</td>\n",
              "      <td>1</td>\n",
              "      <td>0</td>\n",
              "      <td>0</td>\n",
              "      <td>1</td>\n",
              "      <td>0</td>\n",
              "      <td>0</td>\n",
              "      <td>0</td>\n",
              "      <td>1</td>\n",
              "    </tr>\n",
              "    <tr>\n",
              "      <th>1</th>\n",
              "      <td>18</td>\n",
              "      <td>33.770</td>\n",
              "      <td>1</td>\n",
              "      <td>0</td>\n",
              "      <td>1</td>\n",
              "      <td>1</td>\n",
              "      <td>0</td>\n",
              "      <td>0</td>\n",
              "      <td>0</td>\n",
              "      <td>1</td>\n",
              "      <td>0</td>\n",
              "    </tr>\n",
              "    <tr>\n",
              "      <th>2</th>\n",
              "      <td>28</td>\n",
              "      <td>33.000</td>\n",
              "      <td>3</td>\n",
              "      <td>0</td>\n",
              "      <td>1</td>\n",
              "      <td>1</td>\n",
              "      <td>0</td>\n",
              "      <td>0</td>\n",
              "      <td>0</td>\n",
              "      <td>1</td>\n",
              "      <td>0</td>\n",
              "    </tr>\n",
              "    <tr>\n",
              "      <th>3</th>\n",
              "      <td>33</td>\n",
              "      <td>22.705</td>\n",
              "      <td>0</td>\n",
              "      <td>0</td>\n",
              "      <td>1</td>\n",
              "      <td>1</td>\n",
              "      <td>0</td>\n",
              "      <td>0</td>\n",
              "      <td>1</td>\n",
              "      <td>0</td>\n",
              "      <td>0</td>\n",
              "    </tr>\n",
              "    <tr>\n",
              "      <th>4</th>\n",
              "      <td>32</td>\n",
              "      <td>28.880</td>\n",
              "      <td>0</td>\n",
              "      <td>0</td>\n",
              "      <td>1</td>\n",
              "      <td>1</td>\n",
              "      <td>0</td>\n",
              "      <td>0</td>\n",
              "      <td>1</td>\n",
              "      <td>0</td>\n",
              "      <td>0</td>\n",
              "    </tr>\n",
              "  </tbody>\n",
              "</table>\n",
              "</div>\n",
              "      <button class=\"colab-df-convert\" onclick=\"convertToInteractive('df-d54eef25-b9eb-4aed-9509-9fb8932d828b')\"\n",
              "              title=\"Convert this dataframe to an interactive table.\"\n",
              "              style=\"display:none;\">\n",
              "        \n",
              "  <svg xmlns=\"http://www.w3.org/2000/svg\" height=\"24px\"viewBox=\"0 0 24 24\"\n",
              "       width=\"24px\">\n",
              "    <path d=\"M0 0h24v24H0V0z\" fill=\"none\"/>\n",
              "    <path d=\"M18.56 5.44l.94 2.06.94-2.06 2.06-.94-2.06-.94-.94-2.06-.94 2.06-2.06.94zm-11 1L8.5 8.5l.94-2.06 2.06-.94-2.06-.94L8.5 2.5l-.94 2.06-2.06.94zm10 10l.94 2.06.94-2.06 2.06-.94-2.06-.94-.94-2.06-.94 2.06-2.06.94z\"/><path d=\"M17.41 7.96l-1.37-1.37c-.4-.4-.92-.59-1.43-.59-.52 0-1.04.2-1.43.59L10.3 9.45l-7.72 7.72c-.78.78-.78 2.05 0 2.83L4 21.41c.39.39.9.59 1.41.59.51 0 1.02-.2 1.41-.59l7.78-7.78 2.81-2.81c.8-.78.8-2.07 0-2.86zM5.41 20L4 18.59l7.72-7.72 1.47 1.35L5.41 20z\"/>\n",
              "  </svg>\n",
              "      </button>\n",
              "      \n",
              "  <style>\n",
              "    .colab-df-container {\n",
              "      display:flex;\n",
              "      flex-wrap:wrap;\n",
              "      gap: 12px;\n",
              "    }\n",
              "\n",
              "    .colab-df-convert {\n",
              "      background-color: #E8F0FE;\n",
              "      border: none;\n",
              "      border-radius: 50%;\n",
              "      cursor: pointer;\n",
              "      display: none;\n",
              "      fill: #1967D2;\n",
              "      height: 32px;\n",
              "      padding: 0 0 0 0;\n",
              "      width: 32px;\n",
              "    }\n",
              "\n",
              "    .colab-df-convert:hover {\n",
              "      background-color: #E2EBFA;\n",
              "      box-shadow: 0px 1px 2px rgba(60, 64, 67, 0.3), 0px 1px 3px 1px rgba(60, 64, 67, 0.15);\n",
              "      fill: #174EA6;\n",
              "    }\n",
              "\n",
              "    [theme=dark] .colab-df-convert {\n",
              "      background-color: #3B4455;\n",
              "      fill: #D2E3FC;\n",
              "    }\n",
              "\n",
              "    [theme=dark] .colab-df-convert:hover {\n",
              "      background-color: #434B5C;\n",
              "      box-shadow: 0px 1px 3px 1px rgba(0, 0, 0, 0.15);\n",
              "      filter: drop-shadow(0px 1px 2px rgba(0, 0, 0, 0.3));\n",
              "      fill: #FFFFFF;\n",
              "    }\n",
              "  </style>\n",
              "\n",
              "      <script>\n",
              "        const buttonEl =\n",
              "          document.querySelector('#df-d54eef25-b9eb-4aed-9509-9fb8932d828b button.colab-df-convert');\n",
              "        buttonEl.style.display =\n",
              "          google.colab.kernel.accessAllowed ? 'block' : 'none';\n",
              "\n",
              "        async function convertToInteractive(key) {\n",
              "          const element = document.querySelector('#df-d54eef25-b9eb-4aed-9509-9fb8932d828b');\n",
              "          const dataTable =\n",
              "            await google.colab.kernel.invokeFunction('convertToInteractive',\n",
              "                                                     [key], {});\n",
              "          if (!dataTable) return;\n",
              "\n",
              "          const docLinkHtml = 'Like what you see? Visit the ' +\n",
              "            '<a target=\"_blank\" href=https://colab.research.google.com/notebooks/data_table.ipynb>data table notebook</a>'\n",
              "            + ' to learn more about interactive tables.';\n",
              "          element.innerHTML = '';\n",
              "          dataTable['output_type'] = 'display_data';\n",
              "          await google.colab.output.renderOutput(dataTable, element);\n",
              "          const docLink = document.createElement('div');\n",
              "          docLink.innerHTML = docLinkHtml;\n",
              "          element.appendChild(docLink);\n",
              "        }\n",
              "      </script>\n",
              "    </div>\n",
              "  </div>\n",
              "  "
            ]
          },
          "metadata": {},
          "execution_count": 91
        }
      ]
    },
    {
      "cell_type": "code",
      "source": [
        "X[\"age\"].plot(kind='hist')"
      ],
      "metadata": {
        "colab": {
          "base_uri": "https://localhost:8080/",
          "height": 282
        },
        "id": "ZXOP2BqxNw8a",
        "outputId": "b95f835c-60da-4020-a828-3c11f138082b"
      },
      "execution_count": 92,
      "outputs": [
        {
          "output_type": "execute_result",
          "data": {
            "text/plain": [
              "<matplotlib.axes._subplots.AxesSubplot at 0x7f2b10812190>"
            ]
          },
          "metadata": {},
          "execution_count": 92
        },
        {
          "output_type": "display_data",
          "data": {
            "text/plain": [
              "<Figure size 432x288 with 1 Axes>"
            ],
            "image/png": "[encoded data removed]"
          },
          "metadata": {
            "needs_background": "light"
          }
        }
      ]
    },
    {
      "cell_type": "code",
      "source": [
        "X[\"bmi\"].plot(kind='hist')"
      ],
      "metadata": {
        "colab": {
          "base_uri": "https://localhost:8080/",
          "height": 282
        },
        "id": "okYzdQfUN3u2",
        "outputId": "4072bff7-8f17-43bb-a522-c602633b8038"
      },
      "execution_count": 93,
      "outputs": [
        {
          "output_type": "execute_result",
          "data": {
            "text/plain": [
              "<matplotlib.axes._subplots.AxesSubplot at 0x7f2b10770d10>"
            ]
          },
          "metadata": {},
          "execution_count": 93
        },
        {
          "output_type": "display_data",
          "data": {
            "text/plain": [
              "<Figure size 432x288 with 1 Axes>"
            ],
            "image/png": "[encoded data removed]"
          },
          "metadata": {
            "needs_background": "light"
          }
        }
      ]
    },
    {
      "cell_type": "code",
      "source": [
        "X[\"children\"].plot(kind='hist')"
      ],
      "metadata": {
        "colab": {
          "base_uri": "https://localhost:8080/",
          "height": 285
        },
        "id": "1embIQn0OCBw",
        "outputId": "21343bdc-c285-401c-d48d-bc883b2fd6b1"
      },
      "execution_count": 94,
      "outputs": [
        {
          "output_type": "execute_result",
          "data": {
            "text/plain": [
              "<matplotlib.axes._subplots.AxesSubplot at 0x7f2b10705290>"
            ]
          },
          "metadata": {},
          "execution_count": 94
        },
        {
          "output_type": "display_data",
          "data": {
            "text/plain": [
              "<Figure size 432x288 with 1 Axes>"
            ],
            "image/png": "[encoded data removed]"
          },
          "metadata": {
            "needs_background": "light"
          }
        }
      ]
    },
    {
      "cell_type": "code",
      "source": [
        "import pandas as pd\n",
        "import matplotlib.pyplot as plt\n",
        "import tensorflow as tf \n",
        "\n",
        "\n",
        "# Read in the insurance dataframe\n",
        "\n",
        "insurance = pd.read_csv(\"https://raw.githubusercontent.com/stedy/Machine-Learning-with-R-datasets/master/insurance.csv\")\n",
        "insurance.head()"
      ],
      "metadata": {
        "colab": {
          "base_uri": "https://localhost:8080/",
          "height": 204
        },
        "id": "sXqDgG-fPW6i",
        "outputId": "79062f9a-02aa-4571-ef3c-1533f1de26b8"
      },
      "execution_count": 96,
      "outputs": [
        {
          "output_type": "execute_result",
          "data": {
            "text/plain": [
              "   age     sex     bmi  children smoker     region      charges\n",
              "0   19  female  27.900         0    yes  southwest  16884.92400\n",
              "1   18    male  33.770         1     no  southeast   1725.55230\n",
              "2   28    male  33.000         3     no  southeast   4449.46200\n",
              "3   33    male  22.705         0     no  northwest  21984.47061\n",
              "4   32    male  28.880         0     no  northwest   3866.85520"
            ],
            "text/html": [
              "\n",
              "  <div id=\"df-0295bafc-dd0f-4491-982a-d238a52adf11\">\n",
              "    <div class=\"colab-df-container\">\n",
              "      <div>\n",
              "<style scoped>\n",
              "    .dataframe tbody tr th:only-of-type {\n",
              "        vertical-align: middle;\n",
              "    }\n",
              "\n",
              "    .dataframe tbody tr th {\n",
              "        vertical-align: top;\n",
              "    }\n",
              "\n",
              "    .dataframe thead th {\n",
              "        text-align: right;\n",
              "    }\n",
              "</style>\n",
              "<table border=\"1\" class=\"dataframe\">\n",
              "  <thead>\n",
              "    <tr style=\"text-align: right;\">\n",
              "      <th></th>\n",
              "      <th>age</th>\n",
              "      <th>sex</th>\n",
              "      <th>bmi</th>\n",
              "      <th>children</th>\n",
              "      <th>smoker</th>\n",
              "      <th>region</th>\n",
              "      <th>charges</th>\n",
              "    </tr>\n",
              "  </thead>\n",
              "  <tbody>\n",
              "    <tr>\n",
              "      <th>0</th>\n",
              "      <td>19</td>\n",
              "      <td>female</td>\n",
              "      <td>27.900</td>\n",
              "      <td>0</td>\n",
              "      <td>yes</td>\n",
              "      <td>southwest</td>\n",
              "      <td>16884.92400</td>\n",
              "    </tr>\n",
              "    <tr>\n",
              "      <th>1</th>\n",
              "      <td>18</td>\n",
              "      <td>male</td>\n",
              "      <td>33.770</td>\n",
              "      <td>1</td>\n",
              "      <td>no</td>\n",
              "      <td>southeast</td>\n",
              "      <td>1725.55230</td>\n",
              "    </tr>\n",
              "    <tr>\n",
              "      <th>2</th>\n",
              "      <td>28</td>\n",
              "      <td>male</td>\n",
              "      <td>33.000</td>\n",
              "      <td>3</td>\n",
              "      <td>no</td>\n",
              "      <td>southeast</td>\n",
              "      <td>4449.46200</td>\n",
              "    </tr>\n",
              "    <tr>\n",
              "      <th>3</th>\n",
              "      <td>33</td>\n",
              "      <td>male</td>\n",
              "      <td>22.705</td>\n",
              "      <td>0</td>\n",
              "      <td>no</td>\n",
              "      <td>northwest</td>\n",
              "      <td>21984.47061</td>\n",
              "    </tr>\n",
              "    <tr>\n",
              "      <th>4</th>\n",
              "      <td>32</td>\n",
              "      <td>male</td>\n",
              "      <td>28.880</td>\n",
              "      <td>0</td>\n",
              "      <td>no</td>\n",
              "      <td>northwest</td>\n",
              "      <td>3866.85520</td>\n",
              "    </tr>\n",
              "  </tbody>\n",
              "</table>\n",
              "</div>\n",
              "      <button class=\"colab-df-convert\" onclick=\"convertToInteractive('df-0295bafc-dd0f-4491-982a-d238a52adf11')\"\n",
              "              title=\"Convert this dataframe to an interactive table.\"\n",
              "              style=\"display:none;\">\n",
              "        \n",
              "  <svg xmlns=\"http://www.w3.org/2000/svg\" height=\"24px\"viewBox=\"0 0 24 24\"\n",
              "       width=\"24px\">\n",
              "    <path d=\"M0 0h24v24H0V0z\" fill=\"none\"/>\n",
              "    <path d=\"M18.56 5.44l.94 2.06.94-2.06 2.06-.94-2.06-.94-.94-2.06-.94 2.06-2.06.94zm-11 1L8.5 8.5l.94-2.06 2.06-.94-2.06-.94L8.5 2.5l-.94 2.06-2.06.94zm10 10l.94 2.06.94-2.06 2.06-.94-2.06-.94-.94-2.06-.94 2.06-2.06.94z\"/><path d=\"M17.41 7.96l-1.37-1.37c-.4-.4-.92-.59-1.43-.59-.52 0-1.04.2-1.43.59L10.3 9.45l-7.72 7.72c-.78.78-.78 2.05 0 2.83L4 21.41c.39.39.9.59 1.41.59.51 0 1.02-.2 1.41-.59l7.78-7.78 2.81-2.81c.8-.78.8-2.07 0-2.86zM5.41 20L4 18.59l7.72-7.72 1.47 1.35L5.41 20z\"/>\n",
              "  </svg>\n",
              "      </button>\n",
              "      \n",
              "  <style>\n",
              "    .colab-df-container {\n",
              "      display:flex;\n",
              "      flex-wrap:wrap;\n",
              "      gap: 12px;\n",
              "    }\n",
              "\n",
              "    .colab-df-convert {\n",
              "      background-color: #E8F0FE;\n",
              "      border: none;\n",
              "      border-radius: 50%;\n",
              "      cursor: pointer;\n",
              "      display: none;\n",
              "      fill: #1967D2;\n",
              "      height: 32px;\n",
              "      padding: 0 0 0 0;\n",
              "      width: 32px;\n",
              "    }\n",
              "\n",
              "    .colab-df-convert:hover {\n",
              "      background-color: #E2EBFA;\n",
              "      box-shadow: 0px 1px 2px rgba(60, 64, 67, 0.3), 0px 1px 3px 1px rgba(60, 64, 67, 0.15);\n",
              "      fill: #174EA6;\n",
              "    }\n",
              "\n",
              "    [theme=dark] .colab-df-convert {\n",
              "      background-color: #3B4455;\n",
              "      fill: #D2E3FC;\n",
              "    }\n",
              "\n",
              "    [theme=dark] .colab-df-convert:hover {\n",
              "      background-color: #434B5C;\n",
              "      box-shadow: 0px 1px 3px 1px rgba(0, 0, 0, 0.15);\n",
              "      filter: drop-shadow(0px 1px 2px rgba(0, 0, 0, 0.3));\n",
              "      fill: #FFFFFF;\n",
              "    }\n",
              "  </style>\n",
              "\n",
              "      <script>\n",
              "        const buttonEl =\n",
              "          document.querySelector('#df-0295bafc-dd0f-4491-982a-d238a52adf11 button.colab-df-convert');\n",
              "        buttonEl.style.display =\n",
              "          google.colab.kernel.accessAllowed ? 'block' : 'none';\n",
              "\n",
              "        async function convertToInteractive(key) {\n",
              "          const element = document.querySelector('#df-0295bafc-dd0f-4491-982a-d238a52adf11');\n",
              "          const dataTable =\n",
              "            await google.colab.kernel.invokeFunction('convertToInteractive',\n",
              "                                                     [key], {});\n",
              "          if (!dataTable) return;\n",
              "\n",
              "          const docLinkHtml = 'Like what you see? Visit the ' +\n",
              "            '<a target=\"_blank\" href=https://colab.research.google.com/notebooks/data_table.ipynb>data table notebook</a>'\n",
              "            + ' to learn more about interactive tables.';\n",
              "          element.innerHTML = '';\n",
              "          dataTable['output_type'] = 'display_data';\n",
              "          await google.colab.output.renderOutput(dataTable, element);\n",
              "          const docLink = document.createElement('div');\n",
              "          docLink.innerHTML = docLinkHtml;\n",
              "          element.appendChild(docLink);\n",
              "        }\n",
              "      </script>\n",
              "    </div>\n",
              "  </div>\n",
              "  "
            ]
          },
          "metadata": {},
          "execution_count": 96
        }
      ]
    },
    {
      "cell_type": "code",
      "source": [
        "from sklearn.compose import make_column_transformer\n",
        "from sklearn.preprocessing import MinMaxScaler, OneHotEncoder\n",
        "from sklearn.model_selection import train_test_split\n",
        "\n",
        "# Create a column transformer\n",
        "\n",
        "ct = make_column_transformer(\n",
        "    (MinMaxScaler(),[\"age\",\"bmi\",\"children\"]), # turn all values in these columns between 0 and 1\n",
        "    (OneHotEncoder(handle_unknown=\"ignore\"),[\"sex\",\"smoker\",\"region\"])\n",
        "\n",
        ")\n",
        "\n",
        "#Create X & y\n",
        "X =  insurance.drop(\"charges\",axis=1)\n",
        "y = insurance[\"charges\"]\n",
        "\n",
        "\n",
        "# Build our train and test sets\n",
        "X_train, X_test, y_train, y_test = train_test_split(X,y, test_size=0.2, random_state=42)\n",
        "\n",
        "\n",
        "# Fit the column transformer to our training data\n",
        "ct.fit(X_train)\n",
        "\n",
        "# Transform training and test data with normalization (MinMaxScaler) and OneHotEncoder\n",
        "X_train_normal = ct.transform(X_train)\n",
        "X_test_normal = ct.transform(X_test)\n"
      ],
      "metadata": {
        "id": "QkhWuQUNQuRO"
      },
      "execution_count": 97,
      "outputs": []
    },
    {
      "cell_type": "code",
      "source": [
        "# What does our data look like now?\n",
        "\n",
        "X_train.loc[0], X_train_normal[0]"
      ],
      "metadata": {
        "colab": {
          "base_uri": "https://localhost:8080/"
        },
        "id": "Ms_Z6YHcUhQb",
        "outputId": "1e86f99e-22d0-4f11-d3b4-d4642c1494c7"
      },
      "execution_count": 98,
      "outputs": [
        {
          "output_type": "execute_result",
          "data": {
            "text/plain": [
              "(age                19\n",
              " sex            female\n",
              " bmi              27.9\n",
              " children            0\n",
              " smoker            yes\n",
              " region      southwest\n",
              " Name: 0, dtype: object,\n",
              " array([0.60869565, 0.10734463, 0.4       , 1.        , 0.        ,\n",
              "        1.        , 0.        , 0.        , 1.        , 0.        ,\n",
              "        0.        ]))"
            ]
          },
          "metadata": {},
          "execution_count": 98
        }
      ]
    },
    {
      "cell_type": "code",
      "source": [
        "X_train.shape, X_train_normal.shape"
      ],
      "metadata": {
        "colab": {
          "base_uri": "https://localhost:8080/"
        },
        "id": "u1n-4j8iVYnx",
        "outputId": "88dc6579-3324-4f3d-b55f-b71d53af95f5"
      },
      "execution_count": 99,
      "outputs": [
        {
          "output_type": "execute_result",
          "data": {
            "text/plain": [
              "((1070, 6), (1070, 11))"
            ]
          },
          "metadata": {},
          "execution_count": 99
        }
      ]
    },
    {
      "cell_type": "markdown",
      "source": [
        "## Our data has been normalized and one hot encoded. Now lets build a neural network model"
      ],
      "metadata": {
        "id": "NGhYdQ1FVrS2"
      }
    },
    {
      "cell_type": "code",
      "source": [
        "tf.random.set_seed(42)\n",
        "\n",
        "# 1. Create the model\n",
        "insurance_model_4 = tf.keras.Sequential([\n",
        "  tf.keras.layers.Dense(100, activation='relu'),\n",
        "  tf.keras.layers.Dense(100, activation='relu'),\n",
        "  tf.keras.layers.Dense(10, activation='relu'),\n",
        "  tf.keras.layers.Dense(1)                                         \n",
        "])\n",
        "\n",
        "# 2. Compile the model\n",
        "insurance_model_4.compile(loss=[\"mae\"],\n",
        "                          optimizer=tf.keras.optimizers.Adam(),\n",
        "                          metrics=[\"mae\"]\n",
        "                          )\n",
        "\n",
        "# 3. Fit the model\n",
        "insurance_model_4.fit(X_train_normal, y_train, epochs=200)"
      ],
      "metadata": {
        "id": "7jP9ShiCV1qU"
      },
      "execution_count": null,
      "outputs": []
    },
    {
      "cell_type": "code",
      "source": [
        "# Evaluate insurance model\n",
        "\n",
        "insurance_model_4.evaluate(X_test_normal, y_test)"
      ],
      "metadata": {
        "colab": {
          "base_uri": "https://localhost:8080/"
        },
        "id": "xqT4O30UXS4g",
        "outputId": "6658933d-a76e-4fb6-f410-d29fc17ffc89"
      },
      "execution_count": 107,
      "outputs": [
        {
          "output_type": "stream",
          "name": "stdout",
          "text": [
            "9/9 [==============================] - 0s 2ms/step - loss: 2668.2688 - mae: 2668.2688\n"
          ]
        },
        {
          "output_type": "execute_result",
          "data": {
            "text/plain": [
              "[2668.268798828125, 2668.268798828125]"
            ]
          },
          "metadata": {},
          "execution_count": 107
        }
      ]
    }
  ]
}